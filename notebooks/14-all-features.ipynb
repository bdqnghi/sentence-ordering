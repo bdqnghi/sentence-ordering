{
 "cells": [
  {
   "cell_type": "code",
   "execution_count": 67,
   "metadata": {},
   "outputs": [],
   "source": [
    "import ujson\n",
    "import numpy as np\n",
    "\n",
    "from glob import glob\n",
    "from itertools import islice\n",
    "\n",
    "from sklearn.feature_extraction import DictVectorizer\n",
    "from sklearn.linear_model import LinearRegression\n",
    "from sklearn.metrics import r2_score"
   ]
  },
  {
   "cell_type": "code",
   "execution_count": 35,
   "metadata": {},
   "outputs": [],
   "source": [
    "def read_xy(pattern):\n",
    "    for path in glob(pattern):\n",
    "        with open(path) as fh:\n",
    "            for line in fh:\n",
    "                row = ujson.loads(line.strip())\n",
    "                del row['x']['avg_word_len']\n",
    "                yield row['x'], row['y']"
   ]
  },
  {
   "cell_type": "code",
   "execution_count": 75,
   "metadata": {},
   "outputs": [],
   "source": [
    "iter_dev = read_xy('/Users/dclure/Projects/sent-order/data/xy-dev.json/*.json')"
   ]
  },
  {
   "cell_type": "code",
   "execution_count": 76,
   "metadata": {},
   "outputs": [],
   "source": [
    "x_dev, y_dev = zip(*islice(iter_dev, 200000))"
   ]
  },
  {
   "cell_type": "code",
   "execution_count": 77,
   "metadata": {},
   "outputs": [],
   "source": [
    "iter_test = read_xy('/Users/dclure/Projects/sent-order/data/xy-test.json/*.json')"
   ]
  },
  {
   "cell_type": "code",
   "execution_count": 78,
   "metadata": {},
   "outputs": [],
   "source": [
    "x_test, y_test = zip(*islice(iter_test, 50000))"
   ]
  },
  {
   "cell_type": "code",
   "execution_count": 79,
   "metadata": {},
   "outputs": [],
   "source": [
    "dv = DictVectorizer()"
   ]
  },
  {
   "cell_type": "code",
   "execution_count": 80,
   "metadata": {},
   "outputs": [],
   "source": [
    "x_dev = dv.fit_transform(x_dev)"
   ]
  },
  {
   "cell_type": "code",
   "execution_count": 81,
   "metadata": {},
   "outputs": [
    {
     "data": {
      "text/plain": [
       "<200000x4015 sparse matrix of type '<class 'numpy.float64'>'\n",
       "\twith 35934760 stored elements in Compressed Sparse Row format>"
      ]
     },
     "execution_count": 81,
     "metadata": {},
     "output_type": "execute_result"
    }
   ],
   "source": [
    "x_dev"
   ]
  },
  {
   "cell_type": "code",
   "execution_count": 82,
   "metadata": {},
   "outputs": [],
   "source": [
    "model = LinearRegression()"
   ]
  },
  {
   "cell_type": "code",
   "execution_count": 83,
   "metadata": {},
   "outputs": [],
   "source": [
    "fit = model.fit(x_dev, y_dev)"
   ]
  },
  {
   "cell_type": "code",
   "execution_count": 86,
   "metadata": {},
   "outputs": [],
   "source": [
    "x_test = dv.transform(x_test)"
   ]
  },
  {
   "cell_type": "code",
   "execution_count": 87,
   "metadata": {},
   "outputs": [],
   "source": [
    "y_test_pred = fit.predict(x_test)"
   ]
  },
  {
   "cell_type": "code",
   "execution_count": 92,
   "metadata": {},
   "outputs": [
    {
     "data": {
      "text/plain": [
       "0.31009089071311269"
      ]
     },
     "execution_count": 92,
     "metadata": {},
     "output_type": "execute_result"
    }
   ],
   "source": [
    "r2_score(y_test, y_test_pred)"
   ]
  },
  {
   "cell_type": "code",
   "execution_count": 93,
   "metadata": {},
   "outputs": [],
   "source": [
    "names = dv.get_feature_names()"
   ]
  },
  {
   "cell_type": "code",
   "execution_count": 94,
   "metadata": {},
   "outputs": [],
   "source": [
    "bidx = fit.coef_.argsort()\n",
    "eidx = np.flip(fit.coef_.argsort(), 0)"
   ]
  },
  {
   "cell_type": "code",
   "execution_count": 95,
   "metadata": {},
   "outputs": [
    {
     "name": "stdout",
     "output_type": "stream",
     "text": [
      "-0.448116082149 _text3_so_-_called\n",
      "-0.403654007143 _text2_with_respect\n",
      "-0.370664589409 _tag3_IN_DT_NNS\n",
      "-0.364305585213 _tag3_IN_DT_NN\n",
      "-0.32944212287 _pos2_NOUN_CCONJ\n",
      "-0.300620222034 _pos2_DET_NOUN\n",
      "-0.271931607388 _text1_whose\n",
      "-0.269959080234 _text1_Let\n",
      "-0.269414145886 _text1_'s\n",
      "-0.246465593199 _text3_the_framework_of\n",
      "-0.246106200174 _text2_This_paper\n",
      "-0.244868714664 _text2_by_means\n",
      "-0.240463839836 _text3_First_,_we\n",
      "-0.234039189102 _text2_We_study\n",
      "-0.227879762816 _pos2_NUM_NOUN\n",
      "-0.196899347145 _text2_We_report\n",
      "-0.188669963755 _text2_We_present\n",
      "-0.186171391632 _text3_is_one_of\n",
      "-0.172689783179 _text3_In_addition_to\n",
      "-0.172253865174 _text3_._Rev_.\n",
      "-0.171848396247 _text3_The_aim_of\n",
      "-0.167929630171 _text2_We_introduce\n",
      "-0.154651853022 _text2_We_consider\n",
      "-0.148213874286 _text3_XMM_-_Newton\n",
      "-0.146939986971 _pos2_NOUN_ADP\n",
      "-0.142004334248 _text2_allows_us\n",
      "-0.140076878609 _text3_is_presented_.\n",
      "-0.139732949954 _text3_is_given_.\n",
      "-0.138453736905 _text2_gt_;\n",
      "-0.138453736905 _text3_&_gt_;\n",
      "-0.135549141797 _text3_We_develop_a\n",
      "-0.131223635279 _text2_We_analyze\n",
      "-0.128496391534 _text3_this_paper_is\n",
      "-0.126598543338 _text2_role_in\n",
      "-0.125736976413 _text2_is_studied\n",
      "-0.12458821894 _text2_We_investigate\n",
      "-0.123224869277 _text3_km_/_s\n",
      "-0.122160820025 _text3_assumed_to_be\n",
      "-0.122021608163 _text1_article\n",
      "-0.119300779826 _text2_first_time\n",
      "-0.118938271992 _text2_is_considered\n",
      "-0.116668167598 _text2_respect_to\n",
      "-0.116491393728 _text2_in_terms\n",
      "-0.115677633834 _text2_the_non\n",
      "-0.114843872173 _text3_It_has_been\n",
      "-0.114606141799 _text2_We_prove\n",
      "-0.112913160113 _text2_is_known\n",
      "-0.111512503084 _text3_,_for_example\n",
      "-0.109727576046 _text2_Here_we\n",
      "-0.109369064173 _text3_of_the_Universe\n",
      "-0.109244241418 _text1_must\n",
      "-0.106401504459 _text3_In_this_work\n",
      "-0.105284457604 _text2_Phys_.\n",
      "-0.104426176583 _text3_solutions_to_the\n",
      "-0.104367870152 _text2_is_investigated\n",
      "-0.104142944134 _text2_method_for\n",
      "-0.103784835675 _text3_as_well_as\n",
      "-0.102736780974 _text3_(_i_)\n",
      "-0.101902792475 _text2_multi_-\n",
      "-0.100698869868 _text3_,_and_thus\n",
      "-0.100022398619 _text3_We_derive_the\n",
      "-0.0993637915381 _text3_gives_rise_to\n",
      "-0.0992574405285 _text2_is_to\n",
      "-0.09847468842 _text3_a_sample_of\n",
      "-0.0977558610587 _text2_are_studied\n",
      "-0.0974380800147 _text3_the_context_of\n",
      "-0.0968344890627 _text3_the_so_-\n",
      "-0.09675255927 _text3_proof_of_the\n",
      "-0.0964014770062 _text2_We_describe\n",
      "-0.0960134709162 _text2_the_use\n",
      "-0.0952928707975 _text2_We_propose\n",
      "-0.0950868079911 _text3_Yang_-_Mills\n",
      "-0.094966255257 _text2_a_number\n",
      "-0.0948135249548 _text3_are_presented_.\n",
      "-0.0943235423157 _text3_These_results_are\n",
      "-0.0942303025484 _text2_Moreover_,\n",
      "-0.0929964561754 _text3_the_field_of\n",
      "-0.0924774418074 _text3_particular_,_we\n",
      "-0.092459393806 _text3_in_the_sense\n",
      "-0.092305717979 _text3_We_show_that\n",
      "-0.0892604144 _text3_In_the_present\n",
      "-0.0889100728118 _text3_of_-_mass\n",
      "-0.0884556116279 _text1_Monte\n",
      "-0.0882705677295 _text2_basis_of\n",
      "-0.087919025682 _text2_in_detail\n",
      "-0.0871240886673 _text2_but_also\n",
      "-0.0867985182485 _text2_a_set\n",
      "-0.086737152844 _text1_review\n",
      "-0.0866942988003 _text3_is_considered_.\n",
      "-0.0852980924942 _text2_dynamics_of\n",
      "-0.0849842171894 _text3_is_possible_to\n",
      "-0.0844593738786 _text3_We_propose_a\n",
      "-0.0841754966266 _text3_Our_results_are\n",
      "-0.0841618847457 _text2_to_find\n",
      "-0.0836920632027 _text1_QCD\n",
      "-0.0836221919777 _text2_is_presented\n",
      "-0.082998077542 _text2_the_possibility\n",
      "-0.0828568099343 _text1_investigated\n",
      "-0.0826192014333 _text3_In_this_paper\n",
      "-0.0821584176608 _text2_Here_,\n"
     ]
    }
   ],
   "source": [
    "for i in bidx[:100]:\n",
    "    print(fit.coef_[i], names[i])"
   ]
  },
  {
   "cell_type": "code",
   "execution_count": 96,
   "metadata": {},
   "outputs": [
    {
     "name": "stdout",
     "output_type": "stream",
     "text": [
      "0.427495672322 _text3_with_respect_to\n",
      "0.373971473458 _pos3_ADP_DET_NOUN\n",
      "0.319716088044 _tag2_DT_NNS\n",
      "0.317993172032 _tag2_NNS_CC\n",
      "0.315765827044 _text1_Finally\n",
      "0.307168213594 _tag2_NN_CC\n",
      "0.304853105424 _text2_-_called\n",
      "0.301754686602 _tag2_DT_NN\n",
      "0.289396932015 _shape1_'x\n",
      "0.273722039127 _text3_by_means_of\n",
      "0.24579499559 _tag1_WP$\n",
      "0.220448704317 _tag2_CD_NN\n",
      "0.220171938381 _tag2_CD_NNS\n",
      "0.207475817532 _text1_Furthermore\n",
      "0.204333079454 _text1_Moreover\n",
      "0.199819610605 _text2_In_addition\n",
      "0.199227701329 _text2_so_-\n",
      "0.188232535535 _text3_Phys_._Rev\n",
      "0.176822551478 _text1_examples\n",
      "0.17652684554 _text2_These_results\n",
      "0.174565501767 _text2_As_an\n",
      "0.169927039533 _text2_In_particular\n",
      "0.160231392114 _text3_other_hand_,\n",
      "0.157300520184 _text1_Carlo\n",
      "0.154004051112 _text3_We_conclude_that\n",
      "0.151341401735 _text2_the_framework\n",
      "0.149966040159 _text3_,_we_can\n",
      "0.148829872059 _text2_conclude_that\n",
      "0.148589123677 _text2_We_also\n",
      "0.146663766515 _text2_As_a\n",
      "0.144865888286 _text1_suggests\n",
      "0.142904057375 _text3_The_method_is\n",
      "0.142365258118 _text2_&_gt\n",
      "0.142365258118 _text1_gt\n",
      "0.138919950391 _text3_(_2_)\n",
      "0.136652453096 _text2_the_proposed\n",
      "0.128793946662 _text3_al_._,\n",
      "0.12454547908 _text1_example\n",
      "0.123131654355 _text2_km_/\n",
      "0.120372940687 _text3_and_only_if\n",
      "0.118689296261 _tag2_NNS_IN\n",
      "0.117102053813 _text3_allows_us_to\n",
      "0.116933366877 _text2_well_as\n",
      "0.114723295847 _tag2_NN_IN\n",
      "0.113729557759 _text2_discussed_.\n",
      "0.113499780893 _text1_further\n",
      "0.113076760729 _text1_also\n",
      "0.112754824529 _text3_is_the_first\n",
      "0.111993149021 _text1_detail\n",
      "0.110702047641 _text3_the_first_time\n",
      "0.109925563235 _text3_it_is_possible\n",
      "0.109339762539 _text3_the_non_-\n",
      "0.109226577446 _text1_future\n",
      "0.108284813638 _text1_argue\n",
      "0.107273973284 _text1_application\n",
      "0.10661321821 _text3_(_iii_)\n",
      "0.106529626171 _text3_are_consistent_with\n",
      "0.105333782482 _text3_state_-_of\n",
      "0.103055494672 _text3_caused_by_the\n",
      "0.102787376112 _text3_(_ii_)\n",
      "0.102261951424 _text3_In_this_case\n",
      "0.101480071601 _text2_given_.\n",
      "0.101355975828 _text1_results\n",
      "0.10124265593 _text1_demonstrate\n",
      "0.100392039794 _text1_proof\n",
      "0.0975671056615 _text3_the_importance_of\n",
      "0.0967830615301 _text2_together_with\n",
      "0.0961988226095 _text1_same\n",
      "0.0957307873071 _text3_It_is_also\n",
      "0.095569534156 _text1_suggest\n",
      "0.0951612812524 _text3_in_detail_.\n",
      "0.0949287508063 _text1_Our\n",
      "0.0941916587843 _text1_likely\n",
      "0.093096846846 _text1_possibility\n",
      "0.0917916299981 _text3_first_-_order\n",
      "0.0916837961659 _text3_in_terms_of\n",
      "0.0911452822624 _text3_of_our_results\n",
      "0.0910528500389 _text1_result\n",
      "0.09086868811 _text3_the_sense_of\n",
      "0.0908557515096 _text3_of_non_-\n",
      "0.0902716217302 _text3_show_that_our\n",
      "0.0894349228241 _text3_In_contrast_,\n",
      "0.0887099950121 _text1_multi\n",
      "0.0884931986601 _text1_explain\n",
      "0.0883436381667 _text2_absence_of\n",
      "0.0877315255146 _text1_indicate\n",
      "0.0877260512298 _text2_of_-\n",
      "0.0874459657221 _text1_discussed\n",
      "0.0873396282888 _text1_discuss\n",
      "0.0873392489673 _text3_the_possibility_of\n",
      "0.087179136378 _text3_of_the_method\n",
      "0.0868039926816 _text1_latter\n",
      "0.0863362010403 _text1_comparison\n",
      "0.0859103068857 _text3_,_we_also\n",
      "0.0856813986135 _text3_lead_to_a\n",
      "0.0856658454836 _text1_respect\n",
      "0.0819211523959 _tag1_MD\n",
      "0.0803614719008 _text2_are_also\n",
      "0.0803364096993 _text2_leading_to\n",
      "0.0800685538373 _text3_a_number_of\n"
     ]
    }
   ],
   "source": [
    "for i in eidx[:100]:\n",
    "    print(fit.coef_[i], names[i])"
   ]
  },
  {
   "cell_type": "code",
   "execution_count": null,
   "metadata": {},
   "outputs": [],
   "source": []
  }
 ],
 "metadata": {
  "kernelspec": {
   "display_name": "Python 3",
   "language": "python",
   "name": "python3"
  },
  "language_info": {
   "codemirror_mode": {
    "name": "ipython",
    "version": 3
   },
   "file_extension": ".py",
   "mimetype": "text/x-python",
   "name": "python",
   "nbconvert_exporter": "python",
   "pygments_lexer": "ipython3",
   "version": "3.6.2"
  }
 },
 "nbformat": 4,
 "nbformat_minor": 2
}
