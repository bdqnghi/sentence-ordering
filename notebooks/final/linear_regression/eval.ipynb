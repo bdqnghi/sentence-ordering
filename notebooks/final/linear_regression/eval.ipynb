{
 "cells": [
  {
   "cell_type": "code",
   "execution_count": 53,
   "metadata": {},
   "outputs": [],
   "source": [
    "import matplotlib as mpl\n",
    "import matplotlib.pyplot as plt\n",
    "\n",
    "%matplotlib inline\n",
    "mpl.style.use('bmh')"
   ]
  },
  {
   "cell_type": "code",
   "execution_count": 32,
   "metadata": {},
   "outputs": [],
   "source": [
    "from tqdm import tqdm_notebook\n",
    "\n",
    "from sklearn.linear_model import LinearRegression\n",
    "from sklearn.feature_extraction import DictVectorizer\n",
    "from sklearn.metrics import r2_score\n",
    "from sklearn.externals import joblib\n",
    "\n",
    "from sorder.models.linear_regression import Corpus\n",
    "from sorder.metrics import Metrics\n",
    "from sorder.utils import sort_by_key"
   ]
  },
  {
   "cell_type": "code",
   "execution_count": 125,
   "metadata": {},
   "outputs": [],
   "source": [
    "import numpy as np\n",
    "\n",
    "import attr\n",
    "import warnings\n",
    "\n",
    "from cached_property import cached_property\n",
    "from collections import defaultdict, Counter, OrderedDict\n",
    "\n",
    "from scipy import stats\n",
    "\n",
    "\n",
    "warnings.simplefilter(\"ignore\")\n",
    "\n",
    "\n",
    "def sort_by_key(d, desc=False):\n",
    "    \"\"\"Sort dictionary by key.\n",
    "    \"\"\"\n",
    "    items = sorted(d.items(), key=lambda x: x[0], reverse=desc)\n",
    "    return OrderedDict(items)\n",
    "\n",
    "\n",
    "@attr.s\n",
    "class Metrics:\n",
    "\n",
    "    gold_pred = attr.ib()\n",
    "\n",
    "    @cached_property\n",
    "    def len_counts(self):\n",
    "        \"\"\"Sentence count -> count.\n",
    "        \"\"\"\n",
    "        lengths = map(len, [g for g, _ in self.gold_pred])\n",
    "        return Counter(list(lengths))\n",
    "\n",
    "    @cached_property\n",
    "    def kts_by_len(self):\n",
    "        \"\"\"Kendall's tau by sentence count.\n",
    "        \"\"\"\n",
    "        kts = defaultdict(list)\n",
    "\n",
    "        for gold, pred in self.gold_pred:\n",
    "            kt, _ = stats.kendalltau(gold, pred)\n",
    "            kts[len(gold)].append(kt)\n",
    "\n",
    "        return kts\n",
    "\n",
    "    def avg_kt_by_len(self, max_len=10):\n",
    "        \"\"\"Average KT for each sentence count.\n",
    "        \"\"\"\n",
    "        return sort_by_key({\n",
    "            slen: sum(kts) / len(kts)\n",
    "            for slen, kts in self.kts_by_len.items()\n",
    "            if slen <= max_len\n",
    "        })\n",
    "\n",
    "    @cached_property\n",
    "    def all_kts(self):\n",
    "        \"\"\"Set of all KT scores.\n",
    "        \"\"\"\n",
    "        return [kt for kts in self.kts_by_len.values() for kt in kts]\n",
    "\n",
    "    def overall_kt(self):\n",
    "        \"\"\"Overall average KT.\n",
    "        \"\"\"\n",
    "        return sum(self.all_kts) / len(self.all_kts)\n",
    "\n",
    "    def perfect_order_pct_by_len(self, max_len=10):\n",
    "        \"\"\"Percent perfect order by sentence count.\n",
    "        \"\"\"\n",
    "        perfect = Counter()\n",
    "\n",
    "        for gold, pred in self.gold_pred:\n",
    "            if gold == pred:\n",
    "                perfect[len(gold)] += 1\n",
    "\n",
    "        return sort_by_key({\n",
    "            slen: perfect.get(slen, 0) / self.len_counts[slen]\n",
    "            for slen in self.len_counts\n",
    "            if slen <= max_len\n",
    "        })\n",
    "\n",
    "    def overall_perfect_order_pct(self):\n",
    "        \"\"\"Percent perfect order overall.\n",
    "        \"\"\"\n",
    "        perfect = sum([1 for g, p in self.gold_pred if g==p])\n",
    "        return perfect / len(self.gold_pred)"
   ]
  },
  {
   "cell_type": "code",
   "execution_count": 3,
   "metadata": {},
   "outputs": [],
   "source": [
    "dv = joblib.load('dv.bin')"
   ]
  },
  {
   "cell_type": "code",
   "execution_count": 4,
   "metadata": {},
   "outputs": [],
   "source": [
    "vocab = joblib.load('vocab.bin')"
   ]
  },
  {
   "cell_type": "code",
   "execution_count": 5,
   "metadata": {},
   "outputs": [],
   "source": [
    "fit = joblib.load('fit.bin')"
   ]
  },
  {
   "cell_type": "code",
   "execution_count": 6,
   "metadata": {},
   "outputs": [
    {
     "data": {
      "application/vnd.jupyter.widget-view+json": {
       "model_id": "1b143bd01d3f4a5aa35bcb56bdfda64a",
       "version_major": 2,
       "version_minor": 0
      },
      "text/html": [
       "<p>Failed to display Jupyter Widget of type <code>HBox</code>.</p>\n",
       "<p>\n",
       "  If you're reading this message in Jupyter Notebook or JupyterLab, it may mean\n",
       "  that the widgets JavaScript is still loading. If this message persists, it\n",
       "  likely means that the widgets JavaScript library is either not installed or\n",
       "  not enabled. See the <a href=\"https://ipywidgets.readthedocs.io/en/stable/user_install.html\">Jupyter\n",
       "  Widgets Documentation</a> for setup instructions.\n",
       "</p>\n",
       "<p>\n",
       "  If you're reading this message in another notebook frontend (for example, a static\n",
       "  rendering on GitHub or <a href=\"https://nbviewer.jupyter.org/\">NBViewer</a>),\n",
       "  it may mean that your frontend doesn't currently support widgets.\n",
       "</p>\n"
      ],
      "text/plain": [
       "HBox(children=(IntProgress(value=1, bar_style='info', max=1), HTML(value='')))"
      ]
     },
     "metadata": {},
     "output_type": "display_data"
    },
    {
     "name": "stdout",
     "output_type": "stream",
     "text": [
      "\n"
     ]
    }
   ],
   "source": [
    "test = Corpus('/Users/dclure/Projects/sent-order/data/test.json')"
   ]
  },
  {
   "cell_type": "code",
   "execution_count": 7,
   "metadata": {},
   "outputs": [
    {
     "data": {
      "application/vnd.jupyter.widget-view+json": {
       "model_id": "f61271be13a1448ab6c06d6134fb0294",
       "version_major": 2,
       "version_minor": 0
      },
      "text/html": [
       "<p>Failed to display Jupyter Widget of type <code>HBox</code>.</p>\n",
       "<p>\n",
       "  If you're reading this message in Jupyter Notebook or JupyterLab, it may mean\n",
       "  that the widgets JavaScript is still loading. If this message persists, it\n",
       "  likely means that the widgets JavaScript library is either not installed or\n",
       "  not enabled. See the <a href=\"https://ipywidgets.readthedocs.io/en/stable/user_install.html\">Jupyter\n",
       "  Widgets Documentation</a> for setup instructions.\n",
       "</p>\n",
       "<p>\n",
       "  If you're reading this message in another notebook frontend (for example, a static\n",
       "  rendering on GitHub or <a href=\"https://nbviewer.jupyter.org/\">NBViewer</a>),\n",
       "  it may mean that your frontend doesn't currently support widgets.\n",
       "</p>\n"
      ],
      "text/plain": [
       "HBox(children=(IntProgress(value=0, max=110615), HTML(value='')))"
      ]
     },
     "metadata": {},
     "output_type": "display_data"
    },
    {
     "name": "stdout",
     "output_type": "stream",
     "text": [
      "\n"
     ]
    }
   ],
   "source": [
    "test_x, test_y = zip(*test.xy(vocab))"
   ]
  },
  {
   "cell_type": "code",
   "execution_count": 8,
   "metadata": {},
   "outputs": [],
   "source": [
    "test_x = dv.transform(test_x)"
   ]
  },
  {
   "cell_type": "code",
   "execution_count": 22,
   "metadata": {},
   "outputs": [],
   "source": [
    "def predict(corpus, dv, vocab, fit):\n",
    "    \"\"\"Predict order for all abstracts in a corpus.\n",
    "    \"\"\"\n",
    "    gold_pred = []\n",
    "    \n",
    "    for ab in tqdm_notebook(corpus.abstracts):\n",
    "\n",
    "        x, _ = zip(*ab.xy(vocab))\n",
    "        x = dv.transform(x)\n",
    "\n",
    "        pred = list(fit.predict(x).argsort().argsort())\n",
    "        gold = list(range(len(pred)))\n",
    "\n",
    "        gold_pred.append((gold, pred))\n",
    "        \n",
    "    return gold_pred"
   ]
  },
  {
   "cell_type": "code",
   "execution_count": 23,
   "metadata": {},
   "outputs": [
    {
     "data": {
      "application/vnd.jupyter.widget-view+json": {
       "model_id": "7fb07c74c545440389535bbee0bdb1b1",
       "version_major": 2,
       "version_minor": 0
      },
      "text/html": [
       "<p>Failed to display Jupyter Widget of type <code>HBox</code>.</p>\n",
       "<p>\n",
       "  If you're reading this message in Jupyter Notebook or JupyterLab, it may mean\n",
       "  that the widgets JavaScript is still loading. If this message persists, it\n",
       "  likely means that the widgets JavaScript library is either not installed or\n",
       "  not enabled. See the <a href=\"https://ipywidgets.readthedocs.io/en/stable/user_install.html\">Jupyter\n",
       "  Widgets Documentation</a> for setup instructions.\n",
       "</p>\n",
       "<p>\n",
       "  If you're reading this message in another notebook frontend (for example, a static\n",
       "  rendering on GitHub or <a href=\"https://nbviewer.jupyter.org/\">NBViewer</a>),\n",
       "  it may mean that your frontend doesn't currently support widgets.\n",
       "</p>\n"
      ],
      "text/plain": [
       "HBox(children=(IntProgress(value=0, max=110615), HTML(value='')))"
      ]
     },
     "metadata": {},
     "output_type": "display_data"
    },
    {
     "name": "stdout",
     "output_type": "stream",
     "text": [
      "\n"
     ]
    }
   ],
   "source": [
    "test_gp = predict(test, dv, vocab, fit)"
   ]
  },
  {
   "cell_type": "code",
   "execution_count": 126,
   "metadata": {},
   "outputs": [],
   "source": [
    "test_metrics = Metrics(test_gp)"
   ]
  },
  {
   "cell_type": "markdown",
   "metadata": {},
   "source": [
    "# Perfect order"
   ]
  },
  {
   "cell_type": "code",
   "execution_count": 127,
   "metadata": {},
   "outputs": [
    {
     "data": {
      "text/plain": [
       "0.23986801066763097"
      ]
     },
     "execution_count": 127,
     "metadata": {},
     "output_type": "execute_result"
    }
   ],
   "source": [
    "test_metrics.overall_perfect_order_pct()"
   ]
  },
  {
   "cell_type": "code",
   "execution_count": 139,
   "metadata": {
    "scrolled": true
   },
   "outputs": [
    {
     "data": {
      "text/plain": [
       "[<matplotlib.lines.Line2D at 0x1555a5c50>]"
      ]
     },
     "execution_count": 139,
     "metadata": {},
     "output_type": "execute_result"
    },
    {
     "data": {
      "image/png": "[encoded data removed]",
      "text/plain": [
       "<matplotlib.figure.Figure at 0x14fcd9128>"
      ]
     },
     "metadata": {},
     "output_type": "display_data"
    }
   ],
   "source": [
    "xy = test_metrics.perfect_order_pct_by_len()\n",
    "\n",
    "x, y = zip(*xy.items())\n",
    "\n",
    "plt.ylim(-0.05, 1)\n",
    "plt.xticks(x)\n",
    "plt.xlabel('Sentence length')\n",
    "plt.ylabel('Percentage correct')\n",
    "plt.plot(x, y)"
   ]
  },
  {
   "cell_type": "markdown",
   "metadata": {},
   "source": [
    "# Kendall's tau"
   ]
  },
  {
   "cell_type": "code",
   "execution_count": 129,
   "metadata": {},
   "outputs": [
    {
     "data": {
      "text/plain": [
       "0.5497242452182497"
      ]
     },
     "execution_count": 129,
     "metadata": {},
     "output_type": "execute_result"
    }
   ],
   "source": [
    "test_metrics.overall_kt()"
   ]
  },
  {
   "cell_type": "code",
   "execution_count": 142,
   "metadata": {},
   "outputs": [
    {
     "data": {
      "text/plain": [
       "[<matplotlib.lines.Line2D at 0x155720a58>]"
      ]
     },
     "execution_count": 142,
     "metadata": {},
     "output_type": "execute_result"
    },
    {
     "data": {
      "image/png": "[encoded data removed]",
      "text/plain": [
       "<matplotlib.figure.Figure at 0x155643ac8>"
      ]
     },
     "metadata": {},
     "output_type": "display_data"
    }
   ],
   "source": [
    "xy = test_metrics.avg_kt_by_len()\n",
    "\n",
    "x, y = zip(*xy.items())\n",
    "\n",
    "plt.ylim(-0.05, 1)\n",
    "plt.xticks(x)\n",
    "plt.xlabel('Sentence length')\n",
    "plt.ylabel('Percentage correct')\n",
    "plt.plot(x, y)"
   ]
  },
  {
   "cell_type": "code",
   "execution_count": null,
   "metadata": {},
   "outputs": [],
   "source": []
  }
 ],
 "metadata": {
  "kernelspec": {
   "display_name": "Python 3",
   "language": "python",
   "name": "python3"
  },
  "language_info": {
   "codemirror_mode": {
    "name": "ipython",
    "version": 3
   },
   "file_extension": ".py",
   "mimetype": "text/x-python",
   "name": "python",
   "nbconvert_exporter": "python",
   "pygments_lexer": "ipython3",
   "version": "3.6.2"
  }
 },
 "nbformat": 4,
 "nbformat_minor": 2
}
