{
 "cells": [
  {
   "cell_type": "code",
   "execution_count": 1,
   "metadata": {},
   "outputs": [],
   "source": [
    "import ujson\n",
    "import numpy as np\n",
    "\n",
    "from glob import glob\n",
    "from itertools import islice\n",
    "\n",
    "from sklearn.feature_extraction import DictVectorizer\n",
    "from sklearn.linear_model import LinearRegression\n",
    "from sklearn.metrics import r2_score"
   ]
  },
  {
   "cell_type": "code",
   "execution_count": 70,
   "metadata": {},
   "outputs": [],
   "source": [
    "def read_xy(pattern):\n",
    "    for path in glob(pattern):\n",
    "        with open(path) as fh:\n",
    "            for line in fh:\n",
    "                row = ujson.loads(line.strip())\n",
    "                del row['x']['avg_word_len']\n",
    "                yield row['x'], row['y']"
   ]
  },
  {
   "cell_type": "code",
   "execution_count": 71,
   "metadata": {},
   "outputs": [],
   "source": [
    "iter_dev = read_xy('/Users/dclure/Projects/sent-order/data/xy-dev.json/*.json')"
   ]
  },
  {
   "cell_type": "code",
   "execution_count": 72,
   "metadata": {},
   "outputs": [],
   "source": [
    "x_dev, y_dev = zip(*islice(iter_dev, 200000))"
   ]
  },
  {
   "cell_type": "code",
   "execution_count": 73,
   "metadata": {},
   "outputs": [],
   "source": [
    "iter_test = read_xy('/Users/dclure/Projects/sent-order/data/xy-test.json/*.json')"
   ]
  },
  {
   "cell_type": "code",
   "execution_count": 74,
   "metadata": {},
   "outputs": [],
   "source": [
    "x_test, y_test = zip(*islice(iter_test, 50000))"
   ]
  },
  {
   "cell_type": "code",
   "execution_count": 75,
   "metadata": {},
   "outputs": [],
   "source": [
    "dv = DictVectorizer()"
   ]
  },
  {
   "cell_type": "code",
   "execution_count": 76,
   "metadata": {},
   "outputs": [],
   "source": [
    "x_dev = dv.fit_transform(x_dev)"
   ]
  },
  {
   "cell_type": "code",
   "execution_count": 77,
   "metadata": {},
   "outputs": [
    {
     "data": {
      "text/plain": [
       "<200000x6062 sparse matrix of type '<class 'numpy.float64'>'\n",
       "\twith 13833417 stored elements in Compressed Sparse Row format>"
      ]
     },
     "execution_count": 77,
     "metadata": {},
     "output_type": "execute_result"
    }
   ],
   "source": [
    "x_dev"
   ]
  },
  {
   "cell_type": "code",
   "execution_count": 78,
   "metadata": {},
   "outputs": [],
   "source": [
    "model = LinearRegression()"
   ]
  },
  {
   "cell_type": "code",
   "execution_count": 79,
   "metadata": {},
   "outputs": [],
   "source": [
    "fit = model.fit(x_dev, y_dev)"
   ]
  },
  {
   "cell_type": "code",
   "execution_count": 80,
   "metadata": {},
   "outputs": [],
   "source": [
    "x_test = dv.transform(x_test)"
   ]
  },
  {
   "cell_type": "code",
   "execution_count": 81,
   "metadata": {},
   "outputs": [],
   "source": [
    "y_test_pred = fit.predict(x_test)"
   ]
  },
  {
   "cell_type": "code",
   "execution_count": 82,
   "metadata": {},
   "outputs": [
    {
     "data": {
      "text/plain": [
       "0.31155738897730334"
      ]
     },
     "execution_count": 82,
     "metadata": {},
     "output_type": "execute_result"
    }
   ],
   "source": [
    "r2_score(y_test, y_test_pred)"
   ]
  },
  {
   "cell_type": "code",
   "execution_count": 83,
   "metadata": {},
   "outputs": [],
   "source": [
    "names = dv.get_feature_names()"
   ]
  },
  {
   "cell_type": "code",
   "execution_count": 84,
   "metadata": {},
   "outputs": [],
   "source": [
    "bidx = fit.coef_.argsort()\n",
    "eidx = np.flip(fit.coef_.argsort(), 0)"
   ]
  },
  {
   "cell_type": "code",
   "execution_count": 85,
   "metadata": {},
   "outputs": [
    {
     "name": "stdout",
     "output_type": "stream",
     "text": [
      "-0.57870565611 _lemma3_so_-_call\n",
      "-0.337775598174 _lemma2_monte_carlo\n",
      "-0.337307281525 _lemma2_of_freedom\n",
      "-0.307914364007 _lemma3_in_agreement_with\n",
      "-0.301032002614 _lemma3_monte_-_carlo\n",
      "-0.246654113832 _lemma2_with_respect\n",
      "-0.216465180662 _lemma2_,_due\n",
      "-0.20596629136 _lemma3_with_the_help\n",
      "-0.199269716571 _lemma3_in_addition_to\n",
      "-0.194646204049 _lemma1_rev\n",
      "-0.18266064169 _lemma2_in_term\n",
      "-0.179966330132 _lemma2_this_note\n",
      "-0.173352544878 _lemma2_this_paper\n",
      "-0.166188165635 _lemma2_this_article\n",
      "-0.159650532729 _lemma1_\\it\n",
      "-0.15765020171 _lemma3_phase_diagram_of\n",
      "-0.155786472617 _lemma2_-PRON-_study\n",
      "-0.153201489091 _lemma2_-PRON-_present\n",
      "-0.152643959117 _lemma2_and_thus\n",
      "-0.151273395952 _lemma3_a_sample_of\n",
      "-0.148412621313 _lemma2_-PRON-_consider\n",
      "-0.147211252119 _lemma3_and_the_result\n",
      "-0.144066777019 _lemma3_-_the_-\n",
      "-0.144060972876 _lemma3_be_consider_.\n",
      "-0.143404080285 _lemma2_-PRON-_report\n",
      "-0.140539899074 _lemma3_be_argue_that\n",
      "-0.138778777033 _lemma3_the_context_of\n",
      "-0.13767086257 _lemma2_out_that\n",
      "-0.137655417048 _lemma3_be_good_know\n",
      "-0.136623341826 _lemma3_the_concept_of\n",
      "-0.136233313547 _lemma2_-PRON-_investigate\n",
      "-0.136219946386 _lemma1_often\n",
      "-0.135573725945 _lemma3_have_be_show\n",
      "-0.135050043753 _lemma3_,_and_this\n",
      "-0.13264229453 _lemma1_lt\n",
      "-0.130967885789 _lemma3_have_show_that\n",
      "-0.130282379846 _lemma2_-PRON-_introduce\n",
      "-0.126617202084 _lemma1_decade\n",
      "-0.125417578112 _lemma1_let\n",
      "-0.124189593904 _lemma3_self_-_consistent\n",
      "-0.122786562304 _lemma2_the_non\n",
      "-0.122185732687 _lemma3_-PRON-_report_the\n",
      "-0.120408421434 _lemma3_bose_-_einstein\n",
      "-0.120358053047 _lemma2_-PRON-_develop\n",
      "-0.117387536177 _lemma2_so_far\n",
      "-0.117137148601 _lemma3_,_then_-PRON-\n",
      "-0.116957286427 _lemma2_-_of\n",
      "-0.115552982987 _lemma2_-PRON-_construct\n",
      "-0.115423150325 _lemma3_be_demonstrate_that\n",
      "-0.114745431825 _lemma2_-PRON-_analyze\n",
      "-0.114646653479 _lemma3_-PRON-_conjurer_present\n",
      "-0.114462922166 _lemma1_\\bf\n",
      "-0.114297586829 _lemma2_,_thus\n",
      "-0.114153642282 _lemma2_be_study\n",
      "-0.113918599552 _lemma3_the_nature_of\n",
      "-0.112760293574 _lemma3_in_the_sense\n",
      "-0.112388332359 _lemma2_a_variety\n",
      "-0.11221942667 _lemma2_,_namely\n",
      "-0.111684123242 _lemma3_the_problem_of\n",
      "-0.110956387417 _lemma1_theoretically\n",
      "-0.11014556065 _lemma3_and_in_particular\n",
      "-0.110121051036 _lemma2_be_investigate\n",
      "-0.110018369019 _lemma3_xmm_-_newton\n",
      "-0.109066437699 _lemma3_-PRON-_discuss_a\n",
      "-0.108791193423 _lemma2_for_example\n",
      "-0.108384904643 _lemma3_paper_be_to\n",
      "-0.108375021127 _lemma3_the_assumption_that\n",
      "-0.108310987979 _lemma3_,_-PRON-_conjurer\n",
      "-0.107579983512 _lemma2_seem_to\n",
      "-0.107537142089 _lemma2_gt_;\n",
      "-0.107537142089 _lemma3_&_gt_;\n",
      "-0.107225072107 _lemma2_expect_to\n",
      "-0.107213154707 _lemma3_the_2_-\n",
      "-0.106010798345 _lemma3_however_,_this\n",
      "-0.105672780103 _lemma2_give_rise\n",
      "-0.105108388575 _lemma3_in_the_framework\n",
      "-0.104411911056 _lemma2_implication_of\n",
      "-0.103749935083 _lemma3_in_this_letter\n",
      "-0.103528290682 _lemma1_recently\n",
      "-0.103361684588 _lemma2_the_possibility\n",
      "-0.103265533246 _lemma2_the_formation\n",
      "-0.103210007131 _lemma1_usually\n",
      "-0.103157841256 _lemma2_collision_at\n",
      "-0.102736165954 _lemma3_:_(_i\n",
      "-0.102541190885 _pos2_NOUN_ADP\n",
      "-0.102467553549 _lemma3_main_result_be\n",
      "-0.102323992649 _lemma3_-PRON-_result_show\n",
      "-0.102279957138 _lemma3_-PRON-_address_the\n",
      "-0.10163546484 _lemma2_the_development\n",
      "-0.100138799408 _lemma2_be_carry\n",
      "-0.099950102455 _lemma3_be_devote_to\n",
      "-0.099335779027 _lemma3_these_result_be\n",
      "-0.0987859467347 _lemma3_a_good_a\n",
      "-0.0982641654141 _lemma3_as_a_consequence\n",
      "-0.097725134448 _lemma3_km_/_s\n",
      "-0.0974655862643 _lemma3_be_one_of\n",
      "-0.0974160843123 _lemma3_be_introduce_.\n",
      "-0.0971761410364 _lemma2_next_-\n",
      "-0.0970156037536 _lemma3_deal_with_the\n",
      "-0.0965199653433 _lemma2_method_for\n"
     ]
    }
   ],
   "source": [
    "for i in bidx[:100]:\n",
    "    print(fit.coef_[i], names[i])"
   ]
  },
  {
   "cell_type": "code",
   "execution_count": 86,
   "metadata": {},
   "outputs": [
    {
     "name": "stdout",
     "output_type": "stream",
     "text": [
      "0.521413652883 _lemma2_-_call\n",
      "0.34297957958 _lemma1_carlo\n",
      "0.327359208141 _lemma1_finally\n",
      "0.319736879556 _lemma3_with_respect_to\n",
      "0.284507634319 _lemma2_in_agreement\n",
      "0.282593478006 _lemma3_degree_of_freedom\n",
      "0.24403173715 _lemma1_furthermore\n",
      "0.231327216922 _lemma1_conclude\n",
      "0.22904624464 _lemma1_also\n",
      "0.22670358571 _lemma3_in_term_of\n",
      "0.21627444905 _lemma3_,_-PRON-_report\n",
      "0.211809787404 _lemma2_&_gt\n",
      "0.204731940122 _lemma1_further\n",
      "0.196455485593 _lemma3_here_-PRON-_report\n",
      "0.195602892863 _lemma3_,_due_to\n",
      "0.186936765224 _lemma1_implication\n",
      "0.185341925567 _lemma1_illustrate\n",
      "0.180076967864 _lemma1_moreover\n",
      "0.177623375734 _lemma1_conclusion\n",
      "0.177115603986 _lemma3_,_-PRON-_present\n",
      "0.17603946766 _lemma2_these_result\n",
      "0.175240520395 _lemma3_the_help_of\n",
      "0.174134983734 _lemma3_of_this_paper\n",
      "0.165436457601 _lemma2_in_addition\n",
      "0.161271922033 _lemma1_finding\n",
      "0.159578504665 _lemma2_as_a\n",
      "0.157404822436 _lemma2_conjurer_present\n",
      "0.157145340925 _lemma3_the_sense_of\n",
      "0.156841405677 _lemma3_-PRON-_propose_that\n",
      "0.154572104767 _lemma2_{_\\it\n",
      "0.149592788138 _lemma3_in_this_paper\n",
      "0.146655412795 _lemma2_-PRON-_conjurer\n",
      "0.146554823752 _lemma3_seem_to_be\n",
      "0.146450857167 _lemma3_,_-PRON-_develop\n",
      "0.146415840226 _lemma1_thus\n",
      "0.145352235001 _lemma3_a_variety_of\n",
      "0.144007869331 _lemma1_example\n",
      "0.140785848604 _lemma3_-PRON-_apply_this\n",
      "0.139707549246 _lemma3_turn_out_that\n",
      "0.139543415256 _lemma1_highlight\n",
      "0.137150273077 _lemma2_the_propose\n",
      "0.136942376822 _lemma3_at_the_end\n",
      "0.136709689416 _lemma2_apply_-PRON-\n",
      "0.135884765384 _lemma3_phys_._rev\n",
      "0.135855910713 _lemma3_the_non_-\n",
      "0.134442295512 _lemma3_,_-PRON-_investigate\n",
      "0.134358648745 _lemma2_the_proof\n",
      "0.133073431674 _lemma3_and_only_if\n",
      "0.133037471801 _lemma3_(_2_)\n",
      "0.132642309056 _lemma3_be_carry_out\n",
      "0.132325406272 _lemma3_be_consider_a\n",
      "0.131287002084 _lemma2_the_above\n",
      "0.130608919516 _lemma2_-_consistent\n",
      "0.130364735009 _lemma3_,_-PRON-_describe\n",
      "0.126235867809 _lemma2_good_a\n",
      "0.12480939967 _lemma2_-PRON-_conclude\n",
      "0.124601274042 _lemma3_,_-PRON-_study\n",
      "0.119773584243 _lemma2_the_framework\n",
      "0.119287652088 _lemma2_-PRON-_method\n",
      "0.11864818309 _lemma3_(_iii_)\n",
      "0.117330715746 _lemma1_briefly\n",
      "0.116360777928 _lemma2_the_concept\n",
      "0.115875974189 _lemma3_,_-PRON-_introduce\n",
      "0.115461777915 _lemma3_-PRON-_have_conjurer\n",
      "0.114996109939 _lemma2_{_\\bf\n",
      "0.114219276452 _lemma1_possibility\n",
      "0.114213156877 _lemma3_a_time_-\n",
      "0.114193128945 _lemma1_preliminary\n",
      "0.113905151147 _lemma2_consider_.\n",
      "0.11306451502 _lemma1_probably\n",
      "0.112536166182 _lemma3_-PRON-_suggest_that\n",
      "0.112306509327 _lemma2_the_nature\n",
      "0.112110157129 _lemma3_other_hand_,\n",
      "0.111581058947 _lemma2_the_-\n",
      "0.110578106694 _lemma3_and_magnetic_field\n",
      "0.110132464717 _lemma3_may_be_a\n",
      "0.109882304921 _lemma3_be_the_﻿1\n",
      "0.108249369461 _lemma2_-PRON-_result\n",
      "0.108199647015 _lemma3_give_rise_to\n",
      "0.10812693915 _lemma1_consequence\n",
      "0.108081028943 _lemma1_conjurer\n",
      "0.107504308615 _lemma1_future\n",
      "0.106927486138 _lemma3_of_this_work\n",
      "0.106398319665 _lemma3_paper_-PRON-_present\n",
      "0.103724500206 _lemma1_verify\n",
      "0.103081979185 _lemma3_,_-PRON-_propose\n",
      "0.103069139628 _lemma3_real_-_world\n",
      "0.102850317634 _lemma2_discuss_.\n",
      "0.102586607898 _lemma3_implication_of_this\n",
      "0.102573285757 _lemma2_able_to\n",
      "0.100917123239 _lemma1_discussion\n",
      "0.100570100214 _lemma3_in_particular_,\n",
      "0.0998578084355 _lemma3_,_then_$\n",
      "0.0994750427446 _lemma2_context_of\n",
      "0.0990997514903 _lemma1_namely\n",
      "0.0974576554484 _lemma3_and_non_-\n",
      "0.0972092003575 _lemma1_likely\n",
      "0.0971232550346 _lemma2_phase_diagram\n",
      "0.0968076837839 _lemma3_order_of_magnitude\n",
      "0.0967963665999 _tag2_NN_IN\n"
     ]
    }
   ],
   "source": [
    "for i in eidx[:100]:\n",
    "    print(fit.coef_[i], names[i])"
   ]
  },
  {
   "cell_type": "code",
   "execution_count": null,
   "metadata": {},
   "outputs": [],
   "source": []
  }
 ],
 "metadata": {
  "kernelspec": {
   "display_name": "Python 3",
   "language": "python",
   "name": "python3"
  },
  "language_info": {
   "codemirror_mode": {
    "name": "ipython",
    "version": 3
   },
   "file_extension": ".py",
   "mimetype": "text/x-python",
   "name": "python",
   "nbconvert_exporter": "python",
   "pygments_lexer": "ipython3",
   "version": "3.6.2"
  }
 },
 "nbformat": 4,
 "nbformat_minor": 2
}
