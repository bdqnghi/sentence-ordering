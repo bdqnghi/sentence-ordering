{
 "cells": [
  {
   "cell_type": "code",
   "execution_count": 1,
   "metadata": {},
   "outputs": [],
   "source": [
    "import matplotlib as mpl\n",
    "import matplotlib.pyplot as plt\n",
    "\n",
    "%matplotlib inline\n",
    "mpl.style.use('bmh')"
   ]
  },
  {
   "cell_type": "code",
   "execution_count": 2,
   "metadata": {},
   "outputs": [],
   "source": [
    "import torch\n",
    "import math\n",
    "\n",
    "from sent_order.models.kt_regression import SentenceEncoder, Regressor, Corpus\n",
    "from sent_order.perms import sample_uniform_perms"
   ]
  },
  {
   "cell_type": "code",
   "execution_count": 3,
   "metadata": {},
   "outputs": [],
   "source": [
    "sent_encoder = torch.load(\n",
    "    '../../data/models/new/kt-reg/sent_encoder.68.bin',\n",
    "    map_location={'cuda:0': 'cpu'},\n",
    ")"
   ]
  },
  {
   "cell_type": "code",
   "execution_count": null,
   "metadata": {},
   "outputs": [],
   "source": [
    "regressor = torch.load(\n",
    "    '../../data/models/new/kt-reg/regressor.68.bin',\n",
    "    map_location={'cuda:0': 'cpu'},\n",
    ")"
   ]
  },
  {
   "cell_type": "code",
   "execution_count": 6,
   "metadata": {},
   "outputs": [
    {
     "name": "stderr",
     "output_type": "stream",
     "text": [
      "100%|██████████| 10000/10000 [00:01<00:00, 6246.83it/s]\n"
     ]
    }
   ],
   "source": [
    "train = Corpus('../../data/dev.json/', 10000)"
   ]
  },
  {
   "cell_type": "code",
   "execution_count": 7,
   "metadata": {},
   "outputs": [],
   "source": [
    "grafs = [g for g in train.grafs if len(g.sentences) == 10]"
   ]
  },
  {
   "cell_type": "code",
   "execution_count": 8,
   "metadata": {},
   "outputs": [
    {
     "data": {
      "text/plain": [
       "309"
      ]
     },
     "execution_count": 8,
     "metadata": {},
     "output_type": "execute_result"
    }
   ],
   "source": [
    "len(grafs)"
   ]
  },
  {
   "cell_type": "code",
   "execution_count": 9,
   "metadata": {},
   "outputs": [],
   "source": [
    "graf = grafs[200]"
   ]
  },
  {
   "cell_type": "code",
   "execution_count": 10,
   "metadata": {},
   "outputs": [
    {
     "data": {
      "text/plain": [
       "['We present spectroscopy of MIR emission lines in twelve starburst regions , located in eleven starburst galaxies , for which a significant number of lines between 2.38 and 45micron were observed with the ISO Short Wavelength Spectrometer , with the intention of providing a reference resource for MIR spectra of starburst galaxies .',\n",
       " 'The observation apertures were centred on actively star forming regions , including those which are inaccessible at optical wavelengths due to high levels of obscuration .',\n",
       " 'We use this data set , which includes fine structure and hydrogen recombination lines , to investigate excitation and to derive gas phase abundances of neon , argon , and sulphur of the starburst galaxies .',\n",
       " 'The derived Ne abundances span approximately an order of magnitude , up to values of ~3 times solar .',\n",
       " 'The excitation ratios measured from the Ne and Ar lines correlate well with each other ( positively ) and with abundances ( negatively ) .',\n",
       " 'Both in excitation and abundance , a separation of objects with visible Wolf - Rayet features ( high excitation , low abundance ) is noted from those without ( low excitation , high abundance ) .',\n",
       " 'For a given abundance , the starbursts are of relatively lower excitation than a comparative sample of HII regions , possibly due to ageing stellar populations .',\n",
       " 'By considering the abundance ratios of S with Ne and Ar we find that , in our higher metallicity systems , S is relatively underabundant by a factor of ~3 .',\n",
       " 'We discuss the origin of this deficit and favour depletion of S onto dust grains as a likely explanation .',\n",
       " 'This weakness of the MIR fine structure lines of S has ramifications for future infrared missions such as SIRTF and Herschel since it indicates that the S lines are less favourable tracers of star formation than is suggested by nebular models which do not consider this effect .']"
      ]
     },
     "execution_count": 10,
     "metadata": {},
     "output_type": "execute_result"
    }
   ],
   "source": [
    "[' '.join(s.tokens) for s in graf.sentences]"
   ]
  },
  {
   "cell_type": "code",
   "execution_count": 11,
   "metadata": {},
   "outputs": [],
   "source": [
    "sents = sent_encoder(graf.sentence_variables())"
   ]
  },
  {
   "cell_type": "code",
   "execution_count": 12,
   "metadata": {},
   "outputs": [
    {
     "data": {
      "text/plain": [
       "Variable containing:\n",
       " 8.8562e-03 -1.8143e-04 -4.9844e-03  ...   1.6614e-04 -3.8890e-05 -4.1154e-02\n",
       "-1.2883e-03 -4.7765e-04 -1.4212e-03  ...  -1.2845e-02 -1.1716e-03  7.3155e-04\n",
       " 2.5268e-03 -4.0017e-03 -4.0628e-04  ...   8.6040e-06  2.2263e-06 -1.1214e-02\n",
       "                ...                   ⋱                   ...                \n",
       " 2.5893e-03 -3.0067e-03  1.8203e-02  ...   2.2513e-03  2.8954e-07 -1.0177e-03\n",
       "-3.7935e-02 -3.6077e-03 -9.4936e-05  ...   7.8720e-05  2.2201e-05 -3.2686e-03\n",
       "-1.4868e-03  5.4257e-04  1.5991e-02  ...   1.5599e-03  5.2394e-06  2.6612e-04\n",
       "[torch.FloatTensor of size 10x1000]"
      ]
     },
     "execution_count": 12,
     "metadata": {},
     "output_type": "execute_result"
    }
   ],
   "source": [
    "sents"
   ]
  },
  {
   "cell_type": "code",
   "execution_count": 13,
   "metadata": {},
   "outputs": [
    {
     "data": {
      "text/plain": [
       "Variable containing:\n",
       "1.00000e-03 *\n",
       "  5.8298\n",
       "[torch.FloatTensor of size 1]"
      ]
     },
     "execution_count": 13,
     "metadata": {},
     "output_type": "execute_result"
    }
   ],
   "source": [
    "regressor(sents.unsqueeze(0))"
   ]
  },
  {
   "cell_type": "code",
   "execution_count": 14,
   "metadata": {},
   "outputs": [],
   "source": [
    "perms, kts = sample_uniform_perms(10, 50)"
   ]
  },
  {
   "cell_type": "code",
   "execution_count": 15,
   "metadata": {},
   "outputs": [],
   "source": [
    "kt_pred = []\n",
    "for perm in perms:\n",
    "    perm = torch.LongTensor(perm)\n",
    "    kt = regressor(sents[perm].unsqueeze(0)).data[0]\n",
    "    kt_pred.append(kt)"
   ]
  },
  {
   "cell_type": "code",
   "execution_count": 16,
   "metadata": {},
   "outputs": [
    {
     "data": {
      "text/plain": [
       "[<matplotlib.lines.Line2D at 0x11a0b8e48>]"
      ]
     },
     "execution_count": 16,
     "metadata": {},
     "output_type": "execute_result"
    },
    {
     "data": {
      "image/png": "[encoded data removed]",
      "text/plain": [
       "<matplotlib.figure.Figure at 0x119e2b1d0>"
      ]
     },
     "metadata": {},
     "output_type": "display_data"
    }
   ],
   "source": [
    "plt.figure(figsize=(5,5))\n",
    "plt.ylim(0, 1)\n",
    "plt.plot(kts, kt_pred)"
   ]
  }
 ],
 "metadata": {
  "kernelspec": {
   "display_name": "Python 3",
   "language": "python",
   "name": "python3"
  },
  "language_info": {
   "codemirror_mode": {
    "name": "ipython",
    "version": 3
   },
   "file_extension": ".py",
   "mimetype": "text/x-python",
   "name": "python",
   "nbconvert_exporter": "python",
   "pygments_lexer": "ipython3",
   "version": "3.6.2"
  }
 },
 "nbformat": 4,
 "nbformat_minor": 2
}
