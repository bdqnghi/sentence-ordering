{
 "cells": [
  {
   "cell_type": "code",
   "execution_count": 2,
   "metadata": {},
   "outputs": [],
   "source": [
    "import matplotlib as mpl\n",
    "import matplotlib.pyplot as plt\n",
    "\n",
    "%matplotlib inline\n",
    "mpl.style.use('bmh')"
   ]
  },
  {
   "cell_type": "code",
   "execution_count": 63,
   "metadata": {},
   "outputs": [],
   "source": [
    "import numpy as np\n",
    "\n",
    "import torch\n",
    "import random\n",
    "import math\n",
    "import json\n",
    "\n",
    "from tqdm import tqdm_notebook\n",
    "from boltons.iterutils import pairwise\n",
    "from scipy.stats import kendalltau\n",
    "from itertools import permutations\n",
    "\n",
    "from sent_order.models.kt_regression import SentenceEncoder, Regressor, Corpus\n",
    "from sent_order.perms import sample_uniform_perms"
   ]
  },
  {
   "cell_type": "code",
   "execution_count": 4,
   "metadata": {},
   "outputs": [],
   "source": [
    "sent_encoder = torch.load(\n",
    "    '../../data/models/new/kt-reg/sent_encoder.366.bin',\n",
    "    map_location={'cuda:0': 'cpu'},\n",
    ")"
   ]
  },
  {
   "cell_type": "code",
   "execution_count": 5,
   "metadata": {},
   "outputs": [
    {
     "name": "stderr",
     "output_type": "stream",
     "text": [
      "/Users/dclure/Projects/plot-ordering/env/lib/python3.6/site-packages/torch/serialization.py:286: SourceChangeWarning: source code of class 'sent_order.models.kt_regression.Regressor' has changed. you can retrieve the original source code by accessing the object's source attribute or set `torch.nn.Module.dump_patches = True` and use the patch tool to revert the changes.\n",
      "  warnings.warn(msg, SourceChangeWarning)\n"
     ]
    }
   ],
   "source": [
    "regressor = torch.load(\n",
    "    '../../data/models/new/kt-reg/regressor.366.bin',\n",
    "    map_location={'cuda:0': 'cpu'},\n",
    ")"
   ]
  },
  {
   "cell_type": "code",
   "execution_count": 6,
   "metadata": {},
   "outputs": [
    {
     "name": "stderr",
     "output_type": "stream",
     "text": [
      "100%|██████████| 10000/10000 [00:01<00:00, 6913.28it/s]\n"
     ]
    }
   ],
   "source": [
    "train = Corpus('../../data/dev.json/', 10000)"
   ]
  },
  {
   "cell_type": "code",
   "execution_count": 352,
   "metadata": {},
   "outputs": [],
   "source": [
    "grafs = [g for g in train.grafs if len(g.sentences) == 5]"
   ]
  },
  {
   "cell_type": "code",
   "execution_count": 353,
   "metadata": {},
   "outputs": [
    {
     "data": {
      "text/plain": [
       "1647"
      ]
     },
     "execution_count": 353,
     "metadata": {},
     "output_type": "execute_result"
    }
   ],
   "source": [
    "len(grafs)"
   ]
  },
  {
   "cell_type": "code",
   "execution_count": 381,
   "metadata": {},
   "outputs": [],
   "source": [
    "graf = random.choice(grafs)"
   ]
  },
  {
   "cell_type": "code",
   "execution_count": 382,
   "metadata": {},
   "outputs": [
    {
     "data": {
      "text/plain": [
       "['The structures of the recently reported ordered perovskites SrLa(FeTi)O6 and BaLa(FeTi)O6 have been revisited using Rietveld analysis of the powder x - ray diffraction data .',\n",
       " 'Our studies clearly show that earlier authors have incorrectly reported the tetragonal structure in the I4/m space group for SrLa(FeTi)O6 and the cubic structure in the Fm3 m space group for BaLa(FeTi)O6 .',\n",
       " 'The correct structure is found to be orthorhombic in the Pnma space group for SrLa(FeTi)O6 while cubic in the Pm3 m space group for BaLa(FeTi)O6 .',\n",
       " 'Thus the BaLa(FeTi)O6 is not an ordered double perovskite as the occupancies of Ba / La ions at A - site and Fe / Ti ions at B - site are disordered resulting in the primitive cubic unit cell in the Pm3 m space group .',\n",
       " 'Similarly , the occupancies of Sr / La ions at A - site and Fe / Ti ions at B - site are disordered in SrLa(FeTi)O6 also , ruling out the ordered perovskite structure .']"
      ]
     },
     "execution_count": 382,
     "metadata": {},
     "output_type": "execute_result"
    }
   ],
   "source": [
    "[' '.join(s.tokens) for s in graf.sentences]"
   ]
  },
  {
   "cell_type": "code",
   "execution_count": 383,
   "metadata": {},
   "outputs": [],
   "source": [
    "sents = sent_encoder(graf.sentence_variables())"
   ]
  },
  {
   "cell_type": "code",
   "execution_count": 384,
   "metadata": {},
   "outputs": [
    {
     "data": {
      "text/plain": [
       "Variable containing:\n",
       " 7.9208e-04 -2.6485e-06 -6.3739e-04  ...  -2.0126e-05  5.4750e-05 -3.0014e-05\n",
       "-5.9216e-02  7.0801e-05 -1.5260e-03  ...  -1.6134e-04  9.0240e-04 -2.4356e-04\n",
       "-7.8055e-03 -1.0790e-03  3.3321e-03  ...   1.4946e-03 -9.2047e-07  7.1921e-04\n",
       " 1.0416e-04  2.1130e-04  8.9083e-05  ...  -1.0920e-02  1.2185e-04  4.9256e-03\n",
       " 5.8460e-04 -6.3224e-07  4.1061e-03  ...  -9.7704e-03 -4.9293e-05 -1.6599e-03\n",
       "[torch.FloatTensor of size 5x1000]"
      ]
     },
     "execution_count": 384,
     "metadata": {},
     "output_type": "execute_result"
    }
   ],
   "source": [
    "sents"
   ]
  },
  {
   "cell_type": "code",
   "execution_count": 385,
   "metadata": {},
   "outputs": [],
   "source": [
    "perms = list(permutations(range(5)))"
   ]
  },
  {
   "cell_type": "code",
   "execution_count": 386,
   "metadata": {},
   "outputs": [
    {
     "data": {
      "application/vnd.jupyter.widget-view+json": {
       "model_id": "01483bf5820c4a9f8a65b4331fdfd675",
       "version_major": 2,
       "version_minor": 0
      },
      "text/html": [
       "<p>Failed to display Jupyter Widget of type <code>HBox</code>.</p>\n",
       "<p>\n",
       "  If you're reading this message in Jupyter Notebook or JupyterLab, it may mean\n",
       "  that the widgets JavaScript is still loading. If this message persists, it\n",
       "  likely means that the widgets JavaScript library is either not installed or\n",
       "  not enabled. See the <a href=\"https://ipywidgets.readthedocs.io/en/stable/user_install.html\">Jupyter\n",
       "  Widgets Documentation</a> for setup instructions.\n",
       "</p>\n",
       "<p>\n",
       "  If you're reading this message in another notebook frontend (for example, a static\n",
       "  rendering on GitHub or <a href=\"https://nbviewer.jupyter.org/\">NBViewer</a>),\n",
       "  it may mean that your frontend doesn't currently support widgets.\n",
       "</p>\n"
      ],
      "text/plain": [
       "HBox(children=(IntProgress(value=0, max=120), HTML(value='')))"
      ]
     },
     "metadata": {},
     "output_type": "display_data"
    },
    {
     "name": "stdout",
     "output_type": "stream",
     "text": [
      "\n"
     ]
    }
   ],
   "source": [
    "x = []\n",
    "kts = []\n",
    "for perm in tqdm_notebook(perms):\n",
    "    \n",
    "    sort = torch.LongTensor(perm)\n",
    "    x.append(sents[sort])\n",
    "    \n",
    "    kt = kendalltau(perm, range(5)).correlation\n",
    "    kts.append(kt)"
   ]
  },
  {
   "cell_type": "code",
   "execution_count": 387,
   "metadata": {},
   "outputs": [],
   "source": [
    "x = torch.stack(x)\n",
    "y = regressor(x)"
   ]
  },
  {
   "cell_type": "code",
   "execution_count": 388,
   "metadata": {},
   "outputs": [],
   "source": [
    "y = (1-y)*2-1"
   ]
  },
  {
   "cell_type": "code",
   "execution_count": 396,
   "metadata": {},
   "outputs": [
    {
     "data": {
      "text/plain": [
       "<matplotlib.collections.PathCollection at 0x170980240>"
      ]
     },
     "execution_count": 396,
     "metadata": {},
     "output_type": "execute_result"
    },
    {
     "data": {
      "image/png": "[encoded data removed]",
      "text/plain": [
       "<matplotlib.figure.Figure at 0x155245d30>"
      ]
     },
     "metadata": {},
     "output_type": "display_data"
    }
   ],
   "source": [
    "plt.figure(figsize=(10,10))\n",
    "plt.scatter(kts, y.data.tolist(), s=10)"
   ]
  },
  {
   "cell_type": "code",
   "execution_count": 399,
   "metadata": {},
   "outputs": [],
   "source": [
    "zeros = []\n",
    "for perm, kt_true, kt_pred in zip(perms, kts, y.data.tolist()):\n",
    "    if kt_true == 0:\n",
    "        zeros.append((perm, kt_true, kt_pred))"
   ]
  },
  {
   "cell_type": "code",
   "execution_count": 400,
   "metadata": {},
   "outputs": [
    {
     "data": {
      "text/plain": [
       "[((1, 3, 2, 4, 0), 0.0, -0.5626935958862305),\n",
       " ((1, 3, 4, 0, 2), 0.0, -0.5371706485748291),\n",
       " ((1, 2, 4, 3, 0), 0.0, -0.46625804901123047),\n",
       " ((1, 4, 0, 3, 2), 0.0, -0.42013704776763916),\n",
       " ((3, 1, 2, 0, 4), 0.0, -0.3759772777557373),\n",
       " ((1, 4, 2, 0, 3), 0.0, -0.33577096462249756),\n",
       " ((3, 1, 0, 4, 2), 0.0, -0.3166158199310303),\n",
       " ((2, 1, 3, 4, 0), 0.0, -0.21117734909057617),\n",
       " ((3, 0, 4, 1, 2), 0.0, -0.05836749076843262),\n",
       " ((4, 0, 1, 3, 2), 0.0, -0.034522294998168945),\n",
       " ((2, 3, 1, 0, 4), 0.0, -0.02481842041015625),\n",
       " ((3, 2, 0, 1, 4), 0.0, 0.0017380714416503906),\n",
       " ((2, 1, 4, 0, 3), 0.0, 0.005830287933349609),\n",
       " ((4, 1, 0, 2, 3), 0.0, 0.014684200286865234),\n",
       " ((0, 4, 3, 1, 2), 0.0, 0.1733860969543457),\n",
       " ((2, 3, 0, 4, 1), 0.0, 0.2798879146575928),\n",
       " ((4, 0, 2, 1, 3), 0.0, 0.3296201229095459),\n",
       " ((2, 4, 0, 1, 3), 0.0, 0.34245193004608154),\n",
       " ((3, 0, 2, 4, 1), 0.0, 0.34531474113464355),\n",
       " ((0, 3, 4, 2, 1), 0.0, 0.42119085788726807),\n",
       " ((2, 0, 4, 3, 1), 0.0, 0.6239376068115234),\n",
       " ((0, 4, 2, 3, 1), 0.0, 0.640343189239502)]"
      ]
     },
     "execution_count": 400,
     "metadata": {},
     "output_type": "execute_result"
    }
   ],
   "source": [
    "sorted(zeros, key=lambda x: x[2])"
   ]
  },
  {
   "cell_type": "code",
   "execution_count": null,
   "metadata": {},
   "outputs": [],
   "source": []
  }
 ],
 "metadata": {
  "kernelspec": {
   "display_name": "Python 3",
   "language": "python",
   "name": "python3"
  },
  "language_info": {
   "codemirror_mode": {
    "name": "ipython",
    "version": 3
   },
   "file_extension": ".py",
   "mimetype": "text/x-python",
   "name": "python",
   "nbconvert_exporter": "python",
   "pygments_lexer": "ipython3",
   "version": "3.6.2"
  }
 },
 "nbformat": 4,
 "nbformat_minor": 2
}
