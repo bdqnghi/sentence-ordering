{
 "cells": [
  {
   "cell_type": "code",
   "execution_count": 2,
   "metadata": {},
   "outputs": [],
   "source": [
    "import matplotlib as mpl\n",
    "import matplotlib.pyplot as plt\n",
    "\n",
    "%matplotlib inline\n",
    "mpl.style.use('bmh')"
   ]
  },
  {
   "cell_type": "code",
   "execution_count": 63,
   "metadata": {},
   "outputs": [],
   "source": [
    "import numpy as np\n",
    "\n",
    "import torch\n",
    "import random\n",
    "import math\n",
    "import json\n",
    "\n",
    "from tqdm import tqdm_notebook\n",
    "from boltons.iterutils import pairwise\n",
    "from scipy.stats import kendalltau\n",
    "from itertools import permutations\n",
    "\n",
    "from sent_order.models.kt_regression import SentenceEncoder, Regressor, Corpus\n",
    "from sent_order.perms import sample_uniform_perms"
   ]
  },
  {
   "cell_type": "code",
   "execution_count": 4,
   "metadata": {},
   "outputs": [],
   "source": [
    "sent_encoder = torch.load(\n",
    "    '../../data/models/new/kt-reg/sent_encoder.366.bin',\n",
    "    map_location={'cuda:0': 'cpu'},\n",
    ")"
   ]
  },
  {
   "cell_type": "code",
   "execution_count": 5,
   "metadata": {},
   "outputs": [
    {
     "name": "stderr",
     "output_type": "stream",
     "text": [
      "/Users/dclure/Projects/plot-ordering/env/lib/python3.6/site-packages/torch/serialization.py:286: SourceChangeWarning: source code of class 'sent_order.models.kt_regression.Regressor' has changed. you can retrieve the original source code by accessing the object's source attribute or set `torch.nn.Module.dump_patches = True` and use the patch tool to revert the changes.\n",
      "  warnings.warn(msg, SourceChangeWarning)\n"
     ]
    }
   ],
   "source": [
    "regressor = torch.load(\n",
    "    '../../data/models/new/kt-reg/regressor.366.bin',\n",
    "    map_location={'cuda:0': 'cpu'},\n",
    ")"
   ]
  },
  {
   "cell_type": "code",
   "execution_count": 6,
   "metadata": {},
   "outputs": [
    {
     "name": "stderr",
     "output_type": "stream",
     "text": [
      "100%|██████████| 10000/10000 [00:01<00:00, 6913.28it/s]\n"
     ]
    }
   ],
   "source": [
    "train = Corpus('../../data/dev.json/', 10000)"
   ]
  },
  {
   "cell_type": "code",
   "execution_count": 352,
   "metadata": {},
   "outputs": [],
   "source": [
    "grafs = [g for g in train.grafs if len(g.sentences) == 5]"
   ]
  },
  {
   "cell_type": "code",
   "execution_count": 353,
   "metadata": {},
   "outputs": [
    {
     "data": {
      "text/plain": [
       "1647"
      ]
     },
     "execution_count": 353,
     "metadata": {},
     "output_type": "execute_result"
    }
   ],
   "source": [
    "len(grafs)"
   ]
  },
  {
   "cell_type": "code",
   "execution_count": 367,
   "metadata": {},
   "outputs": [],
   "source": [
    "graf = random.choice(grafs)"
   ]
  },
  {
   "cell_type": "code",
   "execution_count": 368,
   "metadata": {},
   "outputs": [
    {
     "data": {
      "text/plain": [
       "['We present a theoretical study on the behavior under pressure of the two hypothetical C$ _ { 46}$ and Li$_8$C$_{46}$ type - I carbon clathrates in order to bring new informations concerning their synthesis .',\n",
       " 'Using \\\\textit{ab initio } calculations , we have explored the energetic and structural properties under pressure of these two carbon based cage - like materials .',\n",
       " 'These low - density meta - stable phases show large negative pressure transitions compared to diamond which represent a serious obstacle for their synthesis .',\n",
       " 'However , we evidence that a minimum energy barrier can be reached close to 40 GPa , suggesting that the synthesis of the Li - clathrate under extreme conditions of pressure and temperature may be possible .',\n",
       " 'Electronic band structure with related density of states behavior under pressure as well as the dependence of the active Raman modes with pressure are also examined .']"
      ]
     },
     "execution_count": 368,
     "metadata": {},
     "output_type": "execute_result"
    }
   ],
   "source": [
    "[' '.join(s.tokens) for s in graf.sentences]"
   ]
  },
  {
   "cell_type": "code",
   "execution_count": 369,
   "metadata": {},
   "outputs": [],
   "source": [
    "sents = sent_encoder(graf.sentence_variables())"
   ]
  },
  {
   "cell_type": "code",
   "execution_count": 370,
   "metadata": {},
   "outputs": [
    {
     "data": {
      "text/plain": [
       "Variable containing:\n",
       "-1.2818e-02  8.3766e-05  1.0842e-02  ...  -6.0201e-04 -3.8426e-04 -2.3172e-01\n",
       "-4.2273e-05 -1.2040e-04 -1.1228e-03  ...   1.5111e-02  5.0324e-03  4.5415e-08\n",
       "-2.5915e-03  4.1907e-03 -2.6644e-03  ...   2.1427e-02 -1.2866e-04 -1.1777e-07\n",
       "-2.4552e-02 -2.8971e-03 -4.0795e-02  ...  -1.0916e-02  1.3985e-04  3.2984e-02\n",
       " 1.3111e-05 -2.3127e-05 -2.9298e-02  ...  -2.7485e-02 -1.8725e-04 -1.9765e-03\n",
       "[torch.FloatTensor of size 5x1000]"
      ]
     },
     "execution_count": 370,
     "metadata": {},
     "output_type": "execute_result"
    }
   ],
   "source": [
    "sents"
   ]
  },
  {
   "cell_type": "code",
   "execution_count": 371,
   "metadata": {},
   "outputs": [],
   "source": [
    "perms = list(permutations(range(5)))"
   ]
  },
  {
   "cell_type": "code",
   "execution_count": 372,
   "metadata": {},
   "outputs": [
    {
     "data": {
      "application/vnd.jupyter.widget-view+json": {
       "model_id": "6b904b9c7faf4d9bb5c589ff3caf9d21",
       "version_major": 2,
       "version_minor": 0
      },
      "text/html": [
       "<p>Failed to display Jupyter Widget of type <code>HBox</code>.</p>\n",
       "<p>\n",
       "  If you're reading this message in Jupyter Notebook or JupyterLab, it may mean\n",
       "  that the widgets JavaScript is still loading. If this message persists, it\n",
       "  likely means that the widgets JavaScript library is either not installed or\n",
       "  not enabled. See the <a href=\"https://ipywidgets.readthedocs.io/en/stable/user_install.html\">Jupyter\n",
       "  Widgets Documentation</a> for setup instructions.\n",
       "</p>\n",
       "<p>\n",
       "  If you're reading this message in another notebook frontend (for example, a static\n",
       "  rendering on GitHub or <a href=\"https://nbviewer.jupyter.org/\">NBViewer</a>),\n",
       "  it may mean that your frontend doesn't currently support widgets.\n",
       "</p>\n"
      ],
      "text/plain": [
       "HBox(children=(IntProgress(value=0, max=120), HTML(value='')))"
      ]
     },
     "metadata": {},
     "output_type": "display_data"
    },
    {
     "name": "stdout",
     "output_type": "stream",
     "text": [
      "\n"
     ]
    }
   ],
   "source": [
    "x = []\n",
    "kts = []\n",
    "for perm in tqdm_notebook(perms):\n",
    "    \n",
    "    sort = torch.LongTensor(perm)\n",
    "    x.append(sents[sort])\n",
    "    \n",
    "    kt = kendalltau(perm, range(5)).correlation\n",
    "    kts.append(kt)"
   ]
  },
  {
   "cell_type": "code",
   "execution_count": 373,
   "metadata": {},
   "outputs": [],
   "source": [
    "x = torch.stack(x)\n",
    "y = regressor(x)"
   ]
  },
  {
   "cell_type": "code",
   "execution_count": 374,
   "metadata": {},
   "outputs": [],
   "source": [
    "y = (1-y)*2-1"
   ]
  },
  {
   "cell_type": "code",
   "execution_count": 375,
   "metadata": {},
   "outputs": [
    {
     "data": {
      "text/plain": [
       "<matplotlib.collections.PathCollection at 0x16ba6f1d0>"
      ]
     },
     "execution_count": 375,
     "metadata": {},
     "output_type": "execute_result"
    },
    {
     "data": {
      "image/png": "[encoded data removed]",
      "text/plain": [
       "<matplotlib.figure.Figure at 0x158e0af98>"
      ]
     },
     "metadata": {},
     "output_type": "display_data"
    }
   ],
   "source": [
    "plt.figure(figsize=(10,10))\n",
    "plt.scatter(kts, y.data.tolist(), s=10)"
   ]
  },
  {
   "cell_type": "code",
   "execution_count": 376,
   "metadata": {},
   "outputs": [],
   "source": [
    "zeros = []\n",
    "for perm, kt_true, kt_pred in zip(perms, kts, y.data.tolist()):\n",
    "    if kt_true == 0:\n",
    "        zeros.append((perm, kt_true, kt_pred))"
   ]
  },
  {
   "cell_type": "code",
   "execution_count": 378,
   "metadata": {},
   "outputs": [
    {
     "data": {
      "text/plain": [
       "[((3, 1, 2, 0, 4), 0.0, -0.40004587173461914),\n",
       " ((1, 3, 2, 4, 0), 0.0, -0.3819553852081299),\n",
       " ((2, 1, 3, 4, 0), 0.0, -0.23398339748382568),\n",
       " ((2, 3, 0, 4, 1), 0.0, -0.2243180274963379),\n",
       " ((1, 3, 4, 0, 2), 0.0, -0.19834351539611816),\n",
       " ((3, 1, 0, 4, 2), 0.0, -0.19468045234680176),\n",
       " ((2, 3, 1, 0, 4), 0.0, -0.1937624216079712),\n",
       " ((3, 0, 2, 4, 1), 0.0, -0.16538238525390625),\n",
       " ((3, 2, 0, 1, 4), 0.0, -0.14733779430389404),\n",
       " ((3, 0, 4, 1, 2), 0.0, -0.12115561962127686),\n",
       " ((1, 2, 4, 3, 0), 0.0, -0.06863832473754883),\n",
       " ((1, 4, 2, 0, 3), 0.0, -0.025311708450317383),\n",
       " ((0, 3, 4, 2, 1), 0.0, 0.07233965396881104),\n",
       " ((2, 1, 4, 0, 3), 0.0, 0.07602560520172119),\n",
       " ((2, 4, 0, 1, 3), 0.0, 0.11895585060119629),\n",
       " ((1, 4, 0, 3, 2), 0.0, 0.16687297821044922),\n",
       " ((2, 0, 4, 3, 1), 0.0, 0.20374643802642822),\n",
       " ((4, 1, 0, 2, 3), 0.0, 0.21372616291046143),\n",
       " ((4, 0, 1, 3, 2), 0.0, 0.279726505279541),\n",
       " ((0, 4, 3, 1, 2), 0.0, 0.318259596824646),\n",
       " ((4, 0, 2, 1, 3), 0.0, 0.3296201229095459),\n",
       " ((0, 4, 2, 3, 1), 0.0, 0.4098191261291504)]"
      ]
     },
     "execution_count": 378,
     "metadata": {},
     "output_type": "execute_result"
    }
   ],
   "source": [
    "sorted(zeros, key=lambda x: x[2])"
   ]
  },
  {
   "cell_type": "code",
   "execution_count": null,
   "metadata": {},
   "outputs": [],
   "source": []
  }
 ],
 "metadata": {
  "kernelspec": {
   "display_name": "Python 3",
   "language": "python",
   "name": "python3"
  },
  "language_info": {
   "codemirror_mode": {
    "name": "ipython",
    "version": 3
   },
   "file_extension": ".py",
   "mimetype": "text/x-python",
   "name": "python",
   "nbconvert_exporter": "python",
   "pygments_lexer": "ipython3",
   "version": "3.6.2"
  }
 },
 "nbformat": 4,
 "nbformat_minor": 2
}
