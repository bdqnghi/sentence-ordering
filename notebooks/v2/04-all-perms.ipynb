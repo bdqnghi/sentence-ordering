{
 "cells": [
  {
   "cell_type": "code",
   "execution_count": 1,
   "metadata": {},
   "outputs": [],
   "source": [
    "import matplotlib as mpl\n",
    "import matplotlib.pyplot as plt\n",
    "\n",
    "%matplotlib inline\n",
    "mpl.style.use('bmh')"
   ]
  },
  {
   "cell_type": "code",
   "execution_count": 13,
   "metadata": {},
   "outputs": [],
   "source": [
    "import torch\n",
    "import math\n",
    "\n",
    "from tqdm import tqdm_notebook\n",
    "from boltons.iterutils import pairwise\n",
    "from scipy.stats import kendalltau\n",
    "from itertools import permutations\n",
    "\n",
    "from sent_order.models.kt_regression import SentenceEncoder, Regressor, Corpus\n",
    "from sent_order.perms import sample_uniform_perms"
   ]
  },
  {
   "cell_type": "code",
   "execution_count": 3,
   "metadata": {},
   "outputs": [],
   "source": [
    "sent_encoder = torch.load(\n",
    "    '../../data/models/new/kt-reg/sent_encoder.68.bin',\n",
    "    map_location={'cuda:0': 'cpu'},\n",
    ")"
   ]
  },
  {
   "cell_type": "code",
   "execution_count": 4,
   "metadata": {},
   "outputs": [
    {
     "name": "stderr",
     "output_type": "stream",
     "text": [
      "/Users/dclure/Projects/plot-ordering/env/lib/python3.6/site-packages/torch/serialization.py:286: SourceChangeWarning: source code of class 'sent_order.models.kt_regression.Regressor' has changed. you can retrieve the original source code by accessing the object's source attribute or set `torch.nn.Module.dump_patches = True` and use the patch tool to revert the changes.\n",
      "  warnings.warn(msg, SourceChangeWarning)\n"
     ]
    }
   ],
   "source": [
    "regressor = torch.load(\n",
    "    '../../data/models/new/kt-reg/regressor.68.bin',\n",
    "    map_location={'cuda:0': 'cpu'},\n",
    ")"
   ]
  },
  {
   "cell_type": "code",
   "execution_count": 5,
   "metadata": {},
   "outputs": [
    {
     "name": "stderr",
     "output_type": "stream",
     "text": [
      "100%|██████████| 10000/10000 [00:01<00:00, 7154.41it/s]\n"
     ]
    }
   ],
   "source": [
    "train = Corpus('../../data/dev.json/', 10000)"
   ]
  },
  {
   "cell_type": "code",
   "execution_count": 6,
   "metadata": {},
   "outputs": [],
   "source": [
    "grafs = [g for g in train.grafs if len(g.sentences) == 5]"
   ]
  },
  {
   "cell_type": "code",
   "execution_count": 7,
   "metadata": {},
   "outputs": [
    {
     "data": {
      "text/plain": [
       "1647"
      ]
     },
     "execution_count": 7,
     "metadata": {},
     "output_type": "execute_result"
    }
   ],
   "source": [
    "len(grafs)"
   ]
  },
  {
   "cell_type": "code",
   "execution_count": 8,
   "metadata": {},
   "outputs": [],
   "source": [
    "graf = grafs[200]"
   ]
  },
  {
   "cell_type": "code",
   "execution_count": 9,
   "metadata": {},
   "outputs": [
    {
     "data": {
      "text/plain": [
       "['If the spacetime metric has anisotropic spatial curvature , one can afford to expand the universe isotropically , provided that the energy - momentum tensor satisfy a certain con- straint .',\n",
       " 'This leads to the so - called shear - free metrics , which have the interesting property of violating the cosmological principle while still preserving the isotropy of the cosmic mi- crowave background ( CMB ) radiation .',\n",
       " 'In this work we show that shear - free cosmologies correspond to an attractor solution in the space of models with anisotropic spatial curva- ture .',\n",
       " 'Through a rigorous definition of linear perturbation theory in these spacetimes , we show that shear - free models represent a viable alternative to describe the large - scale evo- lution of the universe , leading , in particular , to a kinematically equivalent Sachs - Wolfe effect .',\n",
       " 'Alternatively , we discuss some specific signatures that shear - free models would imprint on the temperature spectrum of CMB .']"
      ]
     },
     "execution_count": 9,
     "metadata": {},
     "output_type": "execute_result"
    }
   ],
   "source": [
    "[' '.join(s.tokens) for s in graf.sentences]"
   ]
  },
  {
   "cell_type": "code",
   "execution_count": 10,
   "metadata": {},
   "outputs": [],
   "source": [
    "sents = sent_encoder(graf.sentence_variables())"
   ]
  },
  {
   "cell_type": "code",
   "execution_count": 11,
   "metadata": {},
   "outputs": [
    {
     "data": {
      "text/plain": [
       "Variable containing:\n",
       "-1.8941e-03 -5.7180e-03 -1.4973e-02  ...   7.3029e-06  4.4886e-03  1.3571e-04\n",
       " 3.2571e-05  1.8206e-05 -4.1570e-04  ...   3.1045e-04  8.6798e-05  2.3558e-03\n",
       "-3.5252e-01 -7.9005e-04 -2.2374e-01  ...  -2.4450e-04  3.4667e-05 -1.2145e-02\n",
       "-1.7325e-02 -1.6153e-03 -1.0632e-02  ...  -1.0944e-05  2.4214e-04 -3.0673e-05\n",
       "-6.1275e-02  9.9747e-03 -5.0977e-03  ...   3.4747e-05  4.2625e-01  9.4852e-02\n",
       "[torch.FloatTensor of size 5x1000]"
      ]
     },
     "execution_count": 11,
     "metadata": {},
     "output_type": "execute_result"
    }
   ],
   "source": [
    "sents"
   ]
  },
  {
   "cell_type": "code",
   "execution_count": 18,
   "metadata": {},
   "outputs": [],
   "source": [
    "perms = list(permutations(range(5)))"
   ]
  },
  {
   "cell_type": "code",
   "execution_count": 25,
   "metadata": {},
   "outputs": [
    {
     "data": {
      "application/vnd.jupyter.widget-view+json": {
       "model_id": "071b545b06c5488ba4351ad86d8428cb",
       "version_major": 2,
       "version_minor": 0
      },
      "text/html": [
       "<p>Failed to display Jupyter Widget of type <code>HBox</code>.</p>\n",
       "<p>\n",
       "  If you're reading this message in Jupyter Notebook or JupyterLab, it may mean\n",
       "  that the widgets JavaScript is still loading. If this message persists, it\n",
       "  likely means that the widgets JavaScript library is either not installed or\n",
       "  not enabled. See the <a href=\"https://ipywidgets.readthedocs.io/en/stable/user_install.html\">Jupyter\n",
       "  Widgets Documentation</a> for setup instructions.\n",
       "</p>\n",
       "<p>\n",
       "  If you're reading this message in another notebook frontend (for example, a static\n",
       "  rendering on GitHub or <a href=\"https://nbviewer.jupyter.org/\">NBViewer</a>),\n",
       "  it may mean that your frontend doesn't currently support widgets.\n",
       "</p>\n"
      ],
      "text/plain": [
       "HBox(children=(IntProgress(value=0, max=120), HTML(value='')))"
      ]
     },
     "metadata": {},
     "output_type": "display_data"
    },
    {
     "name": "stdout",
     "output_type": "stream",
     "text": [
      "\n"
     ]
    }
   ],
   "source": [
    "kts = []\n",
    "for perm in tqdm_notebook(perms):\n",
    "    \n",
    "    sort = torch.LongTensor(perm)\n",
    "    pred = regressor(sents[sort].unsqueeze(0)).data[0]\n",
    "    pred = (1-pred)*2-1\n",
    "    \n",
    "    kt = kendalltau(perm, range(5)).correlation\n",
    "    \n",
    "    kts.append((kt, pred))"
   ]
  },
  {
   "cell_type": "code",
   "execution_count": 26,
   "metadata": {},
   "outputs": [],
   "source": [
    "kts = sorted(kts, key=lambda x: x[0])"
   ]
  },
  {
   "cell_type": "code",
   "execution_count": 27,
   "metadata": {},
   "outputs": [
    {
     "data": {
      "text/plain": [
       "[<matplotlib.lines.Line2D at 0x129b1ed30>]"
      ]
     },
     "execution_count": 27,
     "metadata": {},
     "output_type": "execute_result"
    },
    {
     "data": {
      "image/png": "[encoded data removed]",
      "text/plain": [
       "<matplotlib.figure.Figure at 0x128122240>"
      ]
     },
     "metadata": {},
     "output_type": "display_data"
    }
   ],
   "source": [
    "x, y = zip(*kts)\n",
    "\n",
    "plt.figure(figsize=(5,5))\n",
    "plt.plot(x, y)"
   ]
  },
  {
   "cell_type": "code",
   "execution_count": null,
   "metadata": {},
   "outputs": [],
   "source": []
  }
 ],
 "metadata": {
  "kernelspec": {
   "display_name": "Python 3",
   "language": "python",
   "name": "python3"
  },
  "language_info": {
   "codemirror_mode": {
    "name": "ipython",
    "version": 3
   },
   "file_extension": ".py",
   "mimetype": "text/x-python",
   "name": "python",
   "nbconvert_exporter": "python",
   "pygments_lexer": "ipython3",
   "version": "3.6.2"
  }
 },
 "nbformat": 4,
 "nbformat_minor": 2
}
