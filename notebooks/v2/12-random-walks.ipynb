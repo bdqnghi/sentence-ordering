{
 "cells": [
  {
   "cell_type": "code",
   "execution_count": 1,
   "metadata": {},
   "outputs": [],
   "source": [
    "import matplotlib as mpl\n",
    "import matplotlib.pyplot as plt\n",
    "\n",
    "%matplotlib inline\n",
    "mpl.style.use('bmh')"
   ]
  },
  {
   "cell_type": "code",
   "execution_count": 2,
   "metadata": {},
   "outputs": [],
   "source": [
    "import numpy as np\n",
    "\n",
    "import torch\n",
    "import random\n",
    "import math\n",
    "import json\n",
    "\n",
    "from tqdm import tqdm_notebook\n",
    "from boltons.iterutils import pairwise\n",
    "from scipy.stats import kendalltau\n",
    "from itertools import permutations\n",
    "\n",
    "from sent_order.models.kt_regression import SentenceEncoder, Regressor, Corpus\n",
    "from sent_order.perms import sample_uniform_perms"
   ]
  },
  {
   "cell_type": "code",
   "execution_count": 3,
   "metadata": {},
   "outputs": [],
   "source": [
    "sent_encoder = torch.load(\n",
    "    '../../data/models/new/kt-reg/sent_encoder.366.bin',\n",
    "    map_location={'cuda:0': 'cpu'},\n",
    ")"
   ]
  },
  {
   "cell_type": "code",
   "execution_count": 4,
   "metadata": {},
   "outputs": [
    {
     "name": "stderr",
     "output_type": "stream",
     "text": [
      "/Users/dclure/Projects/plot-ordering/env/lib/python3.6/site-packages/torch/serialization.py:286: SourceChangeWarning: source code of class 'sent_order.models.kt_regression.Regressor' has changed. you can retrieve the original source code by accessing the object's source attribute or set `torch.nn.Module.dump_patches = True` and use the patch tool to revert the changes.\n",
      "  warnings.warn(msg, SourceChangeWarning)\n"
     ]
    }
   ],
   "source": [
    "regressor = torch.load(\n",
    "    '../../data/models/new/kt-reg/regressor.366.bin',\n",
    "    map_location={'cuda:0': 'cpu'},\n",
    ")"
   ]
  },
  {
   "cell_type": "code",
   "execution_count": 5,
   "metadata": {},
   "outputs": [
    {
     "name": "stderr",
     "output_type": "stream",
     "text": [
      "100%|██████████| 10000/10000 [00:01<00:00, 6938.94it/s]\n"
     ]
    }
   ],
   "source": [
    "train = Corpus('../../data/dev.json/', 10000)"
   ]
  },
  {
   "cell_type": "code",
   "execution_count": 20,
   "metadata": {},
   "outputs": [],
   "source": [
    "grafs = [g for g in train.grafs if len(g.sentences) == 7]"
   ]
  },
  {
   "cell_type": "code",
   "execution_count": 21,
   "metadata": {},
   "outputs": [
    {
     "data": {
      "text/plain": [
       "948"
      ]
     },
     "execution_count": 21,
     "metadata": {},
     "output_type": "execute_result"
    }
   ],
   "source": [
    "len(grafs)"
   ]
  },
  {
   "cell_type": "code",
   "execution_count": 85,
   "metadata": {},
   "outputs": [],
   "source": [
    "graf = random.choice(grafs)"
   ]
  },
  {
   "cell_type": "code",
   "execution_count": 86,
   "metadata": {},
   "outputs": [
    {
     "data": {
      "text/plain": [
       "['In this paper , the bit energy requirements of training - based transmission over block Rayleigh fading channels are studied .',\n",
       " 'Pilot signals are employed to obtain the minimum mean - square - error ( MMSE ) estimate of the channel fading coefficients .',\n",
       " 'Energy efficiency is analyzed in the worst case scenario where the channel estimate is assumed to be perfect and the error in the estimate is considered as another source of additive Gaussian noise .',\n",
       " 'It is shown that bit energy requirement grows without bound as the snr goes to zero , and the minimum bit energy is achieved at a nonzero snr value below which one should not operate .',\n",
       " 'The effect of the block length on both the minimum bit energy and the snr value at which the minimum is achieved is investigated .',\n",
       " 'Flash training schemes are analyzed and shown to improve the energy efficiency in the low - snr regime .',\n",
       " 'Energy efficiency analysis is also carried out when peak power constraints are imposed on pilot signals .']"
      ]
     },
     "execution_count": 86,
     "metadata": {},
     "output_type": "execute_result"
    }
   ],
   "source": [
    "[' '.join(s.tokens) for s in graf.sentences]"
   ]
  },
  {
   "cell_type": "code",
   "execution_count": 87,
   "metadata": {},
   "outputs": [],
   "source": [
    "sents = sent_encoder(graf.sentence_variables())"
   ]
  },
  {
   "cell_type": "code",
   "execution_count": 88,
   "metadata": {},
   "outputs": [
    {
     "data": {
      "text/plain": [
       "Variable containing:\n",
       "-1.8294e-03  1.2207e-02  1.4377e-03  ...  -1.2320e-04 -1.8878e-05 -5.7649e-03\n",
       " 2.8174e-02 -9.3968e-05 -6.6670e-03  ...  -9.2516e-02  1.2490e-03  5.1973e-04\n",
       "-9.6534e-03 -1.2943e-02 -2.6959e-04  ...  -8.6813e-04  3.4271e-05  7.9396e-03\n",
       "                ...                   ⋱                   ...                \n",
       " 9.3385e-05  6.8151e-03 -3.1055e-03  ...   3.2289e-04 -1.9716e-07 -5.4731e-03\n",
       "-4.3408e-02 -1.4856e-02 -2.0338e-02  ...  -3.5193e-04  4.3180e-04  2.1744e-02\n",
       "-1.1511e-02  2.9602e-04 -1.5982e-01  ...  -1.2502e-04  4.1597e-06  4.1023e-02\n",
       "[torch.FloatTensor of size 7x1000]"
      ]
     },
     "execution_count": 88,
     "metadata": {},
     "output_type": "execute_result"
    }
   ],
   "source": [
    "sents"
   ]
  },
  {
   "cell_type": "code",
   "execution_count": 89,
   "metadata": {},
   "outputs": [],
   "source": [
    "perms = random.sample(list(permutations(range(7))), 100)"
   ]
  },
  {
   "cell_type": "code",
   "execution_count": 90,
   "metadata": {},
   "outputs": [
    {
     "data": {
      "application/vnd.jupyter.widget-view+json": {
       "model_id": "9edea64052924ccd91fae3452fae0632",
       "version_major": 2,
       "version_minor": 0
      },
      "text/html": [
       "<p>Failed to display Jupyter Widget of type <code>HBox</code>.</p>\n",
       "<p>\n",
       "  If you're reading this message in Jupyter Notebook or JupyterLab, it may mean\n",
       "  that the widgets JavaScript is still loading. If this message persists, it\n",
       "  likely means that the widgets JavaScript library is either not installed or\n",
       "  not enabled. See the <a href=\"https://ipywidgets.readthedocs.io/en/stable/user_install.html\">Jupyter\n",
       "  Widgets Documentation</a> for setup instructions.\n",
       "</p>\n",
       "<p>\n",
       "  If you're reading this message in another notebook frontend (for example, a static\n",
       "  rendering on GitHub or <a href=\"https://nbviewer.jupyter.org/\">NBViewer</a>),\n",
       "  it may mean that your frontend doesn't currently support widgets.\n",
       "</p>\n"
      ],
      "text/plain": [
       "HBox(children=(IntProgress(value=0), HTML(value='')))"
      ]
     },
     "metadata": {},
     "output_type": "display_data"
    },
    {
     "name": "stdout",
     "output_type": "stream",
     "text": [
      "\n"
     ]
    }
   ],
   "source": [
    "x = []\n",
    "kts = []\n",
    "for perm in tqdm_notebook(perms):\n",
    "    \n",
    "    sort = torch.LongTensor(perm)\n",
    "    x.append(sents[sort])\n",
    "    \n",
    "    kt = kendalltau(perm, range(7)).correlation\n",
    "    kts.append(kt)"
   ]
  },
  {
   "cell_type": "code",
   "execution_count": 91,
   "metadata": {},
   "outputs": [],
   "source": [
    "x = torch.stack(x)\n",
    "y = regressor(x)"
   ]
  },
  {
   "cell_type": "code",
   "execution_count": 92,
   "metadata": {},
   "outputs": [],
   "source": [
    "y = (1-y)*2-1"
   ]
  },
  {
   "cell_type": "code",
   "execution_count": 93,
   "metadata": {},
   "outputs": [
    {
     "data": {
      "text/plain": [
       "<matplotlib.collections.PathCollection at 0x12cb20ba8>"
      ]
     },
     "execution_count": 93,
     "metadata": {},
     "output_type": "execute_result"
    },
    {
     "data": {
      "image/png": "[encoded data removed]",
      "text/plain": [
       "<matplotlib.figure.Figure at 0x1338e6a90>"
      ]
     },
     "metadata": {},
     "output_type": "display_data"
    }
   ],
   "source": [
    "plt.figure(figsize=(10,10))\n",
    "plt.scatter(kts, y.data.tolist(), s=10)"
   ]
  },
  {
   "cell_type": "code",
   "execution_count": 52,
   "metadata": {
    "scrolled": false
   },
   "outputs": [
    {
     "data": {
      "text/plain": [
       "(Variable containing:\n",
       " -0.8032\n",
       " -0.7872\n",
       " -0.7064\n",
       " -0.6720\n",
       " -0.6575\n",
       " -0.5962\n",
       " -0.5717\n",
       " -0.5681\n",
       " -0.5651\n",
       " -0.5241\n",
       " -0.5233\n",
       " -0.4937\n",
       " -0.4858\n",
       " -0.4671\n",
       " -0.4669\n",
       " -0.4235\n",
       " -0.4233\n",
       " -0.4129\n",
       " -0.4080\n",
       " -0.4041\n",
       " -0.4035\n",
       " -0.3939\n",
       " -0.3864\n",
       " -0.3730\n",
       " -0.2859\n",
       " -0.2841\n",
       " -0.2675\n",
       " -0.2655\n",
       " -0.2640\n",
       " -0.2570\n",
       " -0.2512\n",
       " -0.2350\n",
       " -0.2193\n",
       " -0.2080\n",
       " -0.2050\n",
       " -0.1918\n",
       " -0.1870\n",
       " -0.1780\n",
       " -0.1671\n",
       " -0.1661\n",
       " -0.1550\n",
       " -0.1524\n",
       " -0.1397\n",
       " -0.1316\n",
       " -0.1280\n",
       " -0.1002\n",
       " -0.0971\n",
       " -0.0775\n",
       " -0.0744\n",
       " -0.0703\n",
       " -0.0699\n",
       " -0.0688\n",
       " -0.0680\n",
       " -0.0539\n",
       " -0.0518\n",
       " -0.0446\n",
       " -0.0370\n",
       " -0.0162\n",
       " -0.0100\n",
       "  0.0037\n",
       "  0.0050\n",
       "  0.0224\n",
       "  0.0378\n",
       "  0.0657\n",
       "  0.0817\n",
       "  0.0921\n",
       "  0.1101\n",
       "  0.1111\n",
       "  0.1429\n",
       "  0.1615\n",
       "  0.1749\n",
       "  0.2098\n",
       "  0.2366\n",
       "  0.2415\n",
       "  0.2425\n",
       "  0.2506\n",
       "  0.2510\n",
       "  0.2919\n",
       "  0.3033\n",
       "  0.3039\n",
       "  0.3713\n",
       "  0.3835\n",
       "  0.3845\n",
       "  0.4199\n",
       "  0.4362\n",
       "  0.4787\n",
       "  0.4842\n",
       "  0.4919\n",
       "  0.5055\n",
       "  0.5158\n",
       "  0.5174\n",
       "  0.5652\n",
       "  0.6404\n",
       "  0.6762\n",
       "  0.7338\n",
       "  0.7892\n",
       "  0.8095\n",
       "  0.8880\n",
       "  0.9009\n",
       "  0.9689\n",
       " [torch.FloatTensor of size 100], Variable containing:\n",
       "  72\n",
       "  78\n",
       "  86\n",
       "  28\n",
       "  77\n",
       "  64\n",
       "  80\n",
       "  50\n",
       "  32\n",
       "   3\n",
       "  14\n",
       "  40\n",
       "  99\n",
       "  69\n",
       "  92\n",
       "  81\n",
       "  93\n",
       "  23\n",
       "   7\n",
       "  49\n",
       "  20\n",
       "  75\n",
       "  79\n",
       "  29\n",
       "  82\n",
       "  63\n",
       "  33\n",
       "  43\n",
       "  45\n",
       "  46\n",
       "  90\n",
       "  91\n",
       "  12\n",
       "  10\n",
       "   9\n",
       "  54\n",
       "   1\n",
       "  42\n",
       "  89\n",
       "  85\n",
       "  97\n",
       "  21\n",
       "  62\n",
       "  94\n",
       "  18\n",
       "  84\n",
       "  48\n",
       "  73\n",
       "  83\n",
       "  98\n",
       "  22\n",
       "  65\n",
       "  66\n",
       "   4\n",
       "   2\n",
       "  27\n",
       "  13\n",
       "   6\n",
       "  31\n",
       "  39\n",
       "  58\n",
       "  15\n",
       "  53\n",
       "  41\n",
       "  71\n",
       "  60\n",
       "  61\n",
       "  30\n",
       "  24\n",
       "  25\n",
       "  68\n",
       "   0\n",
       "  56\n",
       "  59\n",
       "  70\n",
       "  38\n",
       "  76\n",
       "  88\n",
       "  55\n",
       "  57\n",
       "  11\n",
       "  67\n",
       "  47\n",
       "  87\n",
       "  95\n",
       "  44\n",
       "  52\n",
       "  74\n",
       "  51\n",
       "   8\n",
       "  26\n",
       "  37\n",
       "  34\n",
       "  96\n",
       "  16\n",
       "  19\n",
       "  35\n",
       "  17\n",
       "  36\n",
       "   5\n",
       " [torch.LongTensor of size 100])"
      ]
     },
     "execution_count": 52,
     "metadata": {},
     "output_type": "execute_result"
    }
   ],
   "source": [
    "y.sort()"
   ]
  },
  {
   "cell_type": "code",
   "execution_count": null,
   "metadata": {},
   "outputs": [],
   "source": []
  }
 ],
 "metadata": {
  "kernelspec": {
   "display_name": "Python 3",
   "language": "python",
   "name": "python3"
  },
  "language_info": {
   "codemirror_mode": {
    "name": "ipython",
    "version": 3
   },
   "file_extension": ".py",
   "mimetype": "text/x-python",
   "name": "python",
   "nbconvert_exporter": "python",
   "pygments_lexer": "ipython3",
   "version": "3.6.2"
  }
 },
 "nbformat": 4,
 "nbformat_minor": 2
}
