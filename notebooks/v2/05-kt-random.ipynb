{
 "cells": [
  {
   "cell_type": "code",
   "execution_count": 19,
   "metadata": {
    "collapsed": true
   },
   "outputs": [],
   "source": [
    "import pandas as pd\n",
    "import os\n",
    "import numpy as np\n",
    "import numpy.random\n",
    "import matplotlib.pyplot as plt\n",
    "os.chdir('/Users/sob/Desktop')"
   ]
  },
  {
   "cell_type": "code",
   "execution_count": 26,
   "metadata": {},
   "outputs": [],
   "source": [
    "kts_dataframe = pd.read_json('kts.json')"
   ]
  },
  {
   "cell_type": "code",
   "execution_count": 40,
   "metadata": {},
   "outputs": [],
   "source": [
    "y = list(kts_dataframe['kt_pred'])\n",
    "x = list(kts_dataframe['kt_true'])"
   ]
  },
  {
   "cell_type": "code",
   "execution_count": 55,
   "metadata": {},
   "outputs": [
    {
     "data": {
      "image/png": "[encoded data removed]",
      "text/plain": [
       "<matplotlib.figure.Figure at 0x11efc83d0>"
      ]
     },
     "metadata": {},
     "output_type": "display_data"
    }
   ],
   "source": [
    "### Generate some test data\n",
    "heatmap, xedges, yedges = np.histogram2d(x, y, bins=50)\n",
    "extent = [xedges[0], xedges[-1], yedges[0], yedges[-1]]\n",
    "\n",
    "plt.clf()\n",
    "plt.imshow(heatmap.T, extent=extent, origin='lower')\n",
    "plt.show()"
   ]
  },
  {
   "cell_type": "code",
   "execution_count": 54,
   "metadata": {},
   "outputs": [
    {
     "data": {
      "image/png": "[encoded data removed]",
      "text/plain": [
       "<matplotlib.figure.Figure at 0x11ec63b90>"
      ]
     },
     "metadata": {},
     "output_type": "display_data"
    }
   ],
   "source": [
    "%matplotlib inline\n",
    "plt.hist(kts_dataframe['kt_true'], bins=100)\n",
    "plt.show()"
   ]
  },
  {
   "cell_type": "code",
   "execution_count": 56,
   "metadata": {},
   "outputs": [
    {
     "data": {
      "image/png": "[encoded data removed]",
      "text/plain": [
       "<matplotlib.figure.Figure at 0x11f467250>"
      ]
     },
     "metadata": {},
     "output_type": "display_data"
    }
   ],
   "source": [
    "plt.hist(kts_dataframe['kt_pred'], bins = 100)\n",
    "plt.show()"
   ]
  },
  {
   "cell_type": "code",
   "execution_count": 111,
   "metadata": {
    "collapsed": true
   },
   "outputs": [],
   "source": [
    "import numpy as np\n",
    "import random\n",
    "\n",
    "\n",
    "def max_perm_dist(size):\n",
    "    \"\"\"Maximum KT distance for sequence of given size.\n",
    "    \"\"\"\n",
    "    return int(size * (size-1) / 2)\n",
    "\n",
    "\n",
    "def random_perm_at_dist(size, dist):\n",
    "    \"\"\"Generate a random permutation at a given swap distance.\n",
    "    \"\"\"\n",
    "    perm = list(range(size))\n",
    "\n",
    "    # Left indexes of correctly-ordered pairs.\n",
    "    ordered = set(range(size-1))\n",
    "\n",
    "    for _ in range(dist):\n",
    "\n",
    "        i1 = random.sample(ordered, 1)[0]\n",
    "        i2 = i1 + 1\n",
    "\n",
    "        perm[i1], perm[i2] = perm[i2], perm[i1]\n",
    "\n",
    "        ordered.remove(i1)\n",
    "\n",
    "        if i2+1 < len(perm) and perm[i2] < perm[i2+1]:\n",
    "            ordered.add(i2)\n",
    "\n",
    "        if i1 > 0 and perm[i1-1] < perm[i1]:\n",
    "            ordered.add(i1-1)\n",
    "\n",
    "    return perm\n",
    "\n",
    "\n",
    "def sample_uniform_perms(size, maxn=10):\n",
    "    \"\"\"Sample N perms, uniformly distributed across the (-1, 1) KT interval.\n",
    "    \"\"\"\n",
    "    max_dist = max_perm_dist(size)\n",
    "\n",
    "    # At most, 1 sample for each possible distance.\n",
    "    n = min(maxn, max_dist+1)\n",
    "\n",
    "#     dists = np.linspace(0, max_dist, n, dtype=int)\n",
    "    dists = np.random.random(size)*max_dist\n",
    "    dists = dists.round().astype(int)\n",
    "    \n",
    "    perms = [\n",
    "        random_perm_at_dist(size, int(d))\n",
    "        for d in dists\n",
    "    ]\n",
    "\n",
    "    kts = dists / float(max_dist)\n",
    "\n",
    "    return perms, kts"
   ]
  },
  {
   "cell_type": "code",
   "execution_count": 131,
   "metadata": {},
   "outputs": [
    {
     "name": "stdout",
     "output_type": "stream",
     "text": [
      "hello\n"
     ]
    }
   ],
   "source": [
    "perms, kts = sample_uniform_perms(10)\n",
    "print perms\n",
    "print kts"
   ]
  }
 ],
 "metadata": {
  "kernelspec": {
   "display_name": "Python 2",
   "language": "python",
   "name": "python2"
  },
  "language_info": {
   "codemirror_mode": {
    "name": "ipython",
    "version": 2
   },
   "file_extension": ".py",
   "mimetype": "text/x-python",
   "name": "python",
   "nbconvert_exporter": "python",
   "pygments_lexer": "ipython2",
   "version": "2.7.13"
  }
 },
 "nbformat": 4,
 "nbformat_minor": 2
}
