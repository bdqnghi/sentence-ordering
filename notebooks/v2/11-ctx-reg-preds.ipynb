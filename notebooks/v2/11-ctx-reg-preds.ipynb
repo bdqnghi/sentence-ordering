{
 "cells": [
  {
   "cell_type": "code",
   "execution_count": 1,
   "metadata": {},
   "outputs": [],
   "source": [
    "import matplotlib as mpl\n",
    "import matplotlib.pyplot as plt\n",
    "\n",
    "%matplotlib inline\n",
    "mpl.style.use('bmh')"
   ]
  },
  {
   "cell_type": "code",
   "execution_count": 212,
   "metadata": {},
   "outputs": [],
   "source": [
    "import torch\n",
    "import random\n",
    "\n",
    "from itertools import permutations\n",
    "from collections import defaultdict\n",
    "from tqdm import tqdm_notebook\n",
    "from scipy.spatial.distance import cosine\n",
    "\n",
    "from sent_order.models.kt_regression import Corpus"
   ]
  },
  {
   "cell_type": "code",
   "execution_count": 3,
   "metadata": {},
   "outputs": [],
   "source": [
    "sent_encoder = torch.load(\n",
    "    '../../data/models/new/ctx-reg/sent_encoder.999.bin',\n",
    "    map_location={'cuda:0': 'cpu'},\n",
    ")"
   ]
  },
  {
   "cell_type": "code",
   "execution_count": 4,
   "metadata": {},
   "outputs": [],
   "source": [
    "graf_encoder = torch.load(\n",
    "    '../../data/models/new/ctx-reg/graf_encoder.999.bin',\n",
    "    map_location={'cuda:0': 'cpu'},\n",
    ")"
   ]
  },
  {
   "cell_type": "code",
   "execution_count": 5,
   "metadata": {},
   "outputs": [],
   "source": [
    "regressor = torch.load(\n",
    "    '../../data/models/new/ctx-reg/regressor.999.bin',\n",
    "    map_location={'cuda:0': 'cpu'},\n",
    ")"
   ]
  },
  {
   "cell_type": "code",
   "execution_count": 6,
   "metadata": {},
   "outputs": [
    {
     "name": "stderr",
     "output_type": "stream",
     "text": [
      "100%|██████████| 10000/10000 [00:01<00:00, 7252.99it/s]\n"
     ]
    }
   ],
   "source": [
    "dev = Corpus('../../data/dev.json/', 10000)"
   ]
  },
  {
   "cell_type": "code",
   "execution_count": 245,
   "metadata": {},
   "outputs": [],
   "source": [
    "grafs = [g for g in dev.grafs if len(g.sentences) == 8]"
   ]
  },
  {
   "cell_type": "code",
   "execution_count": 246,
   "metadata": {},
   "outputs": [
    {
     "data": {
      "text/plain": [
       "669"
      ]
     },
     "execution_count": 246,
     "metadata": {},
     "output_type": "execute_result"
    }
   ],
   "source": [
    "len(grafs)"
   ]
  },
  {
   "cell_type": "code",
   "execution_count": 254,
   "metadata": {},
   "outputs": [],
   "source": [
    "graf = grafs[160]"
   ]
  },
  {
   "cell_type": "code",
   "execution_count": 255,
   "metadata": {},
   "outputs": [
    {
     "data": {
      "text/plain": [
       "['We present a three - dimensional photoionisation and dust radiative transfer model of NGC 6302 , an extreme , high - excitation planetary nebula .',\n",
       " 'We use the 3D photoionisation code Mocassin } to model the emission from the gas and dust .',\n",
       " 'We have produced a good fit to the optical emission - line spectrum , from which we derived a density distribution for the nebula .',\n",
       " 'A fit to the infrared coronal lines places strong constraints on the properties of the unseen ionising source .',\n",
       " 'We find the best fit comes from using a 220,000 K hydrogen - deficient central star model atmosphere , indicating that the central star of this PN may have undergone a late thermal pulse .',\n",
       " 'We have also fitted the overall shape of the ISO spectrum of NGC 6302 using a dust model with a shallow power - law size distribution and grains up to 1.0 micron in size .',\n",
       " 'To obtain a good fit to the infrared SED the dust must be sufficiently recessed within the circumstellar disk to prevent large amounts of hot dust at short wavelengths , a region where the ISO spectrum is particularly lacking .',\n",
       " \"These and other discoveries are helping to unveil many properties of this extreme object and trace it 's evolutionary history .\"]"
      ]
     },
     "execution_count": 255,
     "metadata": {},
     "output_type": "execute_result"
    }
   ],
   "source": [
    "[' '.join(s.tokens) for s in graf.sentences]"
   ]
  },
  {
   "cell_type": "code",
   "execution_count": 256,
   "metadata": {},
   "outputs": [],
   "source": [
    "sents = sent_encoder(graf.sentence_variables(), 30)"
   ]
  },
  {
   "cell_type": "code",
   "execution_count": 257,
   "metadata": {},
   "outputs": [],
   "source": [
    "def predict(sents, perm):\n",
    "    \n",
    "    sents = sents[torch.LongTensor(perm)]\n",
    "    \n",
    "    graf = graf_encoder([sents], 30)\n",
    "    \n",
    "    x = torch.stack([\n",
    "        torch.cat([graf[0], sent])\n",
    "        for sent in sents\n",
    "    ])\n",
    "    \n",
    "    return regressor(x)"
   ]
  },
  {
   "cell_type": "code",
   "execution_count": 258,
   "metadata": {},
   "outputs": [],
   "source": [
    "perms = list(permutations(range(len(sents))))"
   ]
  },
  {
   "cell_type": "code",
   "execution_count": 259,
   "metadata": {},
   "outputs": [
    {
     "data": {
      "application/vnd.jupyter.widget-view+json": {
       "model_id": "a6928bef1d144289b96cdc1bc69b618f",
       "version_major": 2,
       "version_minor": 0
      },
      "text/html": [
       "<p>Failed to display Jupyter Widget of type <code>HBox</code>.</p>\n",
       "<p>\n",
       "  If you're reading this message in Jupyter Notebook or JupyterLab, it may mean\n",
       "  that the widgets JavaScript is still loading. If this message persists, it\n",
       "  likely means that the widgets JavaScript library is either not installed or\n",
       "  not enabled. See the <a href=\"https://ipywidgets.readthedocs.io/en/stable/user_install.html\">Jupyter\n",
       "  Widgets Documentation</a> for setup instructions.\n",
       "</p>\n",
       "<p>\n",
       "  If you're reading this message in another notebook frontend (for example, a static\n",
       "  rendering on GitHub or <a href=\"https://nbviewer.jupyter.org/\">NBViewer</a>),\n",
       "  it may mean that your frontend doesn't currently support widgets.\n",
       "</p>\n"
      ],
      "text/plain": [
       "HBox(children=(IntProgress(value=0), HTML(value='')))"
      ]
     },
     "metadata": {},
     "output_type": "display_data"
    },
    {
     "name": "stdout",
     "output_type": "stream",
     "text": [
      "\n"
     ]
    }
   ],
   "source": [
    "preds = defaultdict(list)\n",
    "\n",
    "for perm in tqdm_notebook(random.sample(perms, 100)):\n",
    "    for pos, val in zip(perm, predict(sents, perm)):\n",
    "        preds[pos].append(val.data[0])"
   ]
  },
  {
   "cell_type": "code",
   "execution_count": 260,
   "metadata": {},
   "outputs": [
    {
     "data": {
      "text/plain": [
       "<matplotlib.legend.Legend at 0x11e8bb550>"
      ]
     },
     "execution_count": 260,
     "metadata": {},
     "output_type": "execute_result"
    },
    {
     "data": {
      "image/png": "[encoded data removed]",
      "text/plain": [
       "<matplotlib.figure.Figure at 0x121e5d320>"
      ]
     },
     "metadata": {},
     "output_type": "display_data"
    }
   ],
   "source": [
    "plt.figure(figsize=(10, 5))\n",
    "plt.xlim(0, 1)\n",
    "plt.set_cmap('binary')\n",
    "\n",
    "for i in range(len(preds)):\n",
    "    plt.hist(preds[i], label=str(i))\n",
    "    \n",
    "plt.legend()"
   ]
  },
  {
   "cell_type": "code",
   "execution_count": null,
   "metadata": {},
   "outputs": [],
   "source": []
  }
 ],
 "metadata": {
  "kernelspec": {
   "display_name": "Python 3",
   "language": "python",
   "name": "python3"
  },
  "language_info": {
   "codemirror_mode": {
    "name": "ipython",
    "version": 3
   },
   "file_extension": ".py",
   "mimetype": "text/x-python",
   "name": "python",
   "nbconvert_exporter": "python",
   "pygments_lexer": "ipython3",
   "version": "3.6.2"
  }
 },
 "nbformat": 4,
 "nbformat_minor": 2
}
