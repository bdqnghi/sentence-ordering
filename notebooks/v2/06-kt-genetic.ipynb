{
 "cells": [
  {
   "cell_type": "code",
   "execution_count": 1,
   "metadata": {},
   "outputs": [],
   "source": [
    "import matplotlib as mpl\n",
    "import matplotlib.pyplot as plt\n",
    "\n",
    "%matplotlib inline\n",
    "mpl.style.use('bmh')"
   ]
  },
  {
   "cell_type": "code",
   "execution_count": 2,
   "metadata": {},
   "outputs": [],
   "source": [
    "import numpy as np\n",
    "\n",
    "import torch\n",
    "import math\n",
    "import random\n",
    "\n",
    "from tqdm import tqdm_notebook\n",
    "from boltons.iterutils import pairwise\n",
    "from scipy.stats import kendalltau\n",
    "from itertools import permutations\n",
    "\n",
    "from sent_order.models.kt_regression import SentenceEncoder, Regressor, Corpus, Batch\n",
    "from sent_order.perms import sample_uniform_perms"
   ]
  },
  {
   "cell_type": "code",
   "execution_count": 3,
   "metadata": {},
   "outputs": [],
   "source": [
    "sent_encoder = torch.load(\n",
    "    '../../data/models/new/kt-reg/sent_encoder.366.bin',\n",
    "    map_location={'cuda:0': 'cpu'},\n",
    ")"
   ]
  },
  {
   "cell_type": "code",
   "execution_count": 4,
   "metadata": {},
   "outputs": [
    {
     "name": "stderr",
     "output_type": "stream",
     "text": [
      "/Users/dclure/Projects/plot-ordering/env/lib/python3.6/site-packages/torch/serialization.py:286: SourceChangeWarning: source code of class 'sent_order.models.kt_regression.Regressor' has changed. you can retrieve the original source code by accessing the object's source attribute or set `torch.nn.Module.dump_patches = True` and use the patch tool to revert the changes.\n",
      "  warnings.warn(msg, SourceChangeWarning)\n"
     ]
    }
   ],
   "source": [
    "regressor = torch.load(\n",
    "    '../../data/models/new/kt-reg/regressor.366.bin',\n",
    "    map_location={'cuda:0': 'cpu'},\n",
    ")"
   ]
  },
  {
   "cell_type": "code",
   "execution_count": 16,
   "metadata": {},
   "outputs": [
    {
     "name": "stderr",
     "output_type": "stream",
     "text": [
      "100%|██████████| 10000/10000 [00:02<00:00, 4197.27it/s]\n"
     ]
    }
   ],
   "source": [
    "train = Corpus('../../data/dev.json/', 10000)"
   ]
  },
  {
   "cell_type": "code",
   "execution_count": 17,
   "metadata": {},
   "outputs": [],
   "source": [
    "grafs = [g for g in train.grafs if len(g.sentences) == 10]"
   ]
  },
  {
   "cell_type": "code",
   "execution_count": 18,
   "metadata": {},
   "outputs": [
    {
     "data": {
      "text/plain": [
       "309"
      ]
     },
     "execution_count": 18,
     "metadata": {},
     "output_type": "execute_result"
    }
   ],
   "source": [
    "len(grafs)"
   ]
  },
  {
   "cell_type": "code",
   "execution_count": 19,
   "metadata": {},
   "outputs": [],
   "source": [
    "graf = grafs[30]"
   ]
  },
  {
   "cell_type": "code",
   "execution_count": 20,
   "metadata": {},
   "outputs": [
    {
     "name": "stdout",
     "output_type": "stream",
     "text": [
      "This work considers coordination and bargaining between two selfish users over a Gaussian interference channel .\n",
      "\n",
      "\n",
      "The usual information theoretic approach assumes full cooperation among users for codebook and rate selection .\n",
      "\n",
      "\n",
      "In the scenario investigated here , each user is willing to coordinate its actions only when an incentive exists and benefits of cooperation are fairly allocated .\n",
      "\n",
      "\n",
      "The users are first allowed to negotiate for the use of a simple Han - Kobayashi type scheme with fixed power split .\n",
      "\n",
      "\n",
      "Conditions for which users have incentives to cooperate are identified .\n",
      "\n",
      "\n",
      "Then , two different approaches are used to solve the associated bargaining problem .\n",
      "\n",
      "\n",
      "First , the Nash Bargaining Solution ( NBS ) is used as a tool to get fair information rates and the operating point is obtained as a result of an optimization problem .\n",
      "\n",
      "\n",
      "Next , a dynamic alternating - offer bargaining game ( AOBG ) from bargaining theory is introduced to model the bargaining process and the rates resulting from negotiation are characterized .\n",
      "\n",
      "\n",
      "The relationship between the NBS and the equilibrium outcome of the AOBG is studied and factors that may affect the bargaining outcome are discussed .\n",
      "\n",
      "\n",
      "Finally , under certain high signal - to - noise ratio regimes , the bargaining problem for the generalized degrees of freedom is studied .\n",
      "\n",
      "\n"
     ]
    }
   ],
   "source": [
    "for s in graf.sentences:\n",
    "    print(' '.join(s.tokens))\n",
    "    print('\\n')"
   ]
  },
  {
   "cell_type": "code",
   "execution_count": 21,
   "metadata": {},
   "outputs": [],
   "source": [
    "sents = sent_encoder(graf.sentence_variables())"
   ]
  },
  {
   "cell_type": "code",
   "execution_count": 25,
   "metadata": {},
   "outputs": [
    {
     "name": "stdout",
     "output_type": "stream",
     "text": [
      "[3, 8, 4, 9, 6, 7, 1, 2, 0, 5] 0.7307759523391724\n",
      "[2, 1, 3, 6, 5, 4, 7, 9, 0, 8] 0.3974292278289795\n",
      "[2, 7, 9, 8, 1, 3, 4, 6, 0, 5] 0.7211130857467651\n",
      "[8, 1, 0, 5, 3, 4, 7, 2, 6, 9] 0.33518990874290466\n",
      "[1, 5, 2, 0, 8, 7, 6, 3, 9, 4] 0.3435349762439728\n",
      "[1, 5, 0, 2, 7, 8, 3, 4, 9, 6] 0.32581430673599243\n",
      "[0, 4, 6, 1, 8, 2, 7, 5, 9, 3] 0.19208624958992004\n",
      "[4, 7, 1, 6, 8, 0, 2, 9, 3, 5] 0.45645007491111755\n",
      "[2, 9, 6, 7, 4, 8, 3, 5, 1, 0] 0.7746144533157349\n",
      "[9, 4, 1, 7, 2, 6, 3, 0, 8, 5] 0.6494330763816833\n",
      "[0, 9, 6, 4, 7, 1, 8, 2, 5, 3] 0.3791032135486603\n",
      "[0, 1, 5, 8, 3, 4, 9, 7, 6, 2] 0.2830505967140198\n",
      "[8, 9, 5, 1, 0, 6, 3, 2, 7, 4] 0.6298239231109619\n",
      "[6, 3, 9, 5, 7, 4, 2, 1, 8, 0] 0.7352059483528137\n",
      "[1, 9, 7, 4, 5, 0, 6, 3, 8, 2] 0.4884956479072571\n",
      "[4, 6, 9, 8, 0, 2, 7, 3, 1, 5] 0.5243723392486572\n",
      "[8, 0, 1, 2, 6, 3, 9, 4, 7, 5] 0.2986418902873993\n",
      "[5, 4, 9, 0, 8, 3, 2, 1, 6, 7] 0.5152631402015686\n",
      "[3, 4, 5, 9, 7, 2, 6, 8, 0, 1] 0.8178740739822388\n",
      "[3, 8, 0, 5, 1, 9, 6, 4, 7, 2] 0.43075260519981384\n",
      "[3, 1, 7, 8, 2, 6, 4, 9, 5, 0] 0.6101946830749512\n",
      "[9, 0, 6, 5, 4, 2, 7, 8, 1, 3] 0.4233119487762451\n",
      "[0, 7, 6, 2, 4, 3, 8, 1, 5, 9] 0.18666058778762817\n",
      "[8, 5, 1, 2, 7, 3, 9, 0, 4, 6] 0.6475971341133118\n",
      "[2, 1, 7, 4, 9, 3, 5, 0, 8, 6] 0.5117474794387817\n",
      "[8, 6, 3, 1, 2, 7, 4, 5, 0, 9] 0.576316237449646\n",
      "[1, 2, 9, 7, 0, 8, 6, 5, 3, 4] 0.456841379404068\n",
      "[7, 8, 2, 6, 0, 3, 9, 1, 4, 5] 0.5209217071533203\n",
      "[1, 0, 6, 9, 7, 2, 8, 3, 4, 5] 0.26697883009910583\n",
      "[0, 4, 2, 6, 1, 8, 9, 3, 7, 5] 0.2503588795661926\n",
      "[4, 1, 3, 6, 5, 0, 8, 9, 7, 2] 0.4057685434818268\n",
      "[5, 6, 7, 1, 8, 3, 0, 4, 2, 9] 0.465070903301239\n",
      "[2, 6, 9, 3, 7, 1, 0, 5, 8, 4] 0.5486630797386169\n",
      "[0, 2, 3, 5, 7, 6, 4, 8, 1, 9] 0.14666102826595306\n",
      "[8, 5, 2, 9, 4, 6, 0, 7, 1, 3] 0.6946263313293457\n",
      "[7, 1, 0, 8, 2, 3, 5, 4, 6, 9] 0.3864186108112335\n",
      "[2, 4, 1, 3, 8, 5, 9, 6, 0, 7] 0.5169507265090942\n",
      "[1, 8, 0, 3, 6, 2, 4, 7, 5, 9] 0.2398945838212967\n",
      "[1, 9, 8, 2, 5, 3, 6, 7, 0, 4] 0.7171119451522827\n",
      "[4, 3, 0, 2, 9, 7, 6, 8, 1, 5] 0.41925299167633057\n",
      "[8, 5, 1, 9, 3, 6, 2, 7, 0, 4] 0.6966086626052856\n",
      "[0, 6, 4, 9, 2, 8, 5, 7, 3, 1] 0.30671852827072144\n",
      "[3, 8, 7, 9, 4, 5, 1, 2, 0, 6] 0.7859342098236084\n",
      "[6, 1, 9, 0, 5, 4, 7, 8, 3, 2] 0.4305380582809448\n",
      "[8, 6, 5, 2, 4, 0, 3, 7, 1, 9] 0.4979493319988251\n",
      "[9, 4, 5, 6, 0, 3, 8, 1, 2, 7] 0.5838432312011719\n",
      "[2, 1, 5, 7, 4, 6, 3, 0, 9, 8] 0.42493027448654175\n",
      "[1, 8, 5, 0, 3, 6, 4, 2, 7, 9] 0.3348122537136078\n",
      "[5, 4, 3, 0, 9, 6, 7, 1, 8, 2] 0.45894405245780945\n",
      "[5, 9, 1, 7, 4, 3, 2, 0, 6, 8] 0.6509413123130798\n",
      "[6, 5, 0, 9, 1, 2, 3, 4, 8, 7] 0.36184585094451904\n",
      "[0, 2, 6, 4, 9, 7, 8, 1, 5, 3] 0.26099419593811035\n",
      "[3, 2, 6, 8, 7, 0, 4, 1, 5, 9] 0.4403981566429138\n",
      "[7, 4, 5, 0, 3, 9, 1, 8, 6, 2] 0.47916853427886963\n",
      "[8, 5, 9, 2, 1, 3, 0, 6, 7, 4] 0.679168701171875\n",
      "[7, 6, 9, 5, 8, 2, 4, 1, 3, 0] 0.865073561668396\n",
      "[9, 1, 2, 8, 6, 7, 4, 5, 3, 0] 0.7607957124710083\n",
      "[7, 8, 6, 5, 3, 0, 9, 2, 1, 4] 0.636637806892395\n",
      "[5, 4, 0, 9, 8, 7, 2, 1, 6, 3] 0.5256215929985046\n",
      "[7, 4, 8, 2, 5, 6, 9, 3, 0, 1] 0.733912467956543\n",
      "[8, 5, 0, 7, 3, 2, 1, 6, 4, 9] 0.39088961482048035\n",
      "[3, 6, 7, 4, 2, 9, 1, 5, 8, 0] 0.6171953678131104\n",
      "[9, 4, 6, 0, 8, 2, 3, 1, 5, 7] 0.5677406787872314\n",
      "[1, 8, 6, 0, 9, 4, 5, 2, 3, 7] 0.44299423694610596\n",
      "[8, 2, 5, 6, 3, 9, 0, 7, 4, 1] 0.6610103249549866\n",
      "[5, 6, 0, 1, 2, 9, 4, 8, 3, 7] 0.3847462832927704\n",
      "[6, 0, 1, 5, 2, 3, 7, 4, 9, 8] 0.15160517394542694\n",
      "[9, 8, 6, 2, 3, 5, 1, 7, 4, 0] 0.8257324695587158\n",
      "[0, 9, 1, 3, 2, 6, 7, 5, 8, 4] 0.2893649637699127\n",
      "[7, 3, 1, 0, 4, 2, 8, 6, 9, 5] 0.34957537055015564\n",
      "[3, 4, 7, 9, 2, 1, 6, 8, 0, 5] 0.6654703617095947\n",
      "[4, 1, 9, 8, 5, 6, 0, 7, 3, 2] 0.6052415370941162\n",
      "[2, 1, 5, 0, 7, 3, 4, 8, 6, 9] 0.2592277228832245\n",
      "[3, 0, 2, 6, 4, 8, 9, 1, 5, 7] 0.2957645058631897\n",
      "[1, 4, 8, 2, 6, 9, 5, 7, 3, 0] 0.6823015213012695\n",
      "[7, 2, 1, 8, 5, 9, 3, 4, 6, 0] 0.6845147609710693\n",
      "[1, 0, 5, 2, 8, 3, 9, 7, 6, 4] 0.32770204544067383\n",
      "[6, 4, 1, 8, 7, 9, 3, 0, 5, 2] 0.5370681881904602\n",
      "[3, 1, 8, 9, 2, 6, 5, 4, 0, 7] 0.6348048448562622\n",
      "[3, 2, 5, 4, 1, 8, 9, 7, 6, 0] 0.6601394414901733\n",
      "[3, 7, 2, 9, 5, 8, 4, 0, 6, 1] 0.6921401619911194\n",
      "[0, 6, 7, 3, 4, 1, 8, 2, 9, 5] 0.1040804535150528\n",
      "[7, 1, 8, 2, 6, 5, 0, 3, 4, 9] 0.45068395137786865\n",
      "[3, 2, 6, 8, 7, 0, 9, 5, 4, 1] 0.5324767827987671\n",
      "[2, 9, 4, 1, 7, 0, 8, 3, 5, 6] 0.5800337791442871\n",
      "[2, 1, 5, 4, 0, 8, 3, 6, 9, 7] 0.36852774024009705\n",
      "[5, 9, 4, 3, 1, 8, 0, 2, 6, 7] 0.6000988483428955\n",
      "[0, 2, 7, 5, 8, 1, 6, 9, 4, 3] 0.3166482448577881\n",
      "[8, 0, 6, 9, 1, 2, 7, 5, 3, 4] 0.3778219223022461\n",
      "[4, 2, 9, 7, 0, 8, 5, 1, 3, 6] 0.576637864112854\n",
      "[6, 7, 0, 4, 3, 1, 5, 9, 2, 8] 0.2606049180030823\n",
      "[4, 6, 1, 7, 3, 5, 8, 9, 0, 2] 0.49691885709762573\n",
      "[2, 5, 1, 9, 4, 8, 6, 0, 7, 3] 0.592583417892456\n",
      "[6, 7, 8, 2, 0, 9, 1, 5, 3, 4] 0.4639900326728821\n",
      "[7, 8, 6, 0, 5, 1, 2, 3, 9, 4] 0.45332348346710205\n",
      "[1, 9, 6, 7, 0, 8, 2, 4, 5, 3] 0.5142055749893188\n",
      "[0, 5, 1, 9, 8, 6, 3, 2, 4, 7] 0.3914121985435486\n",
      "[8, 1, 7, 5, 0, 6, 3, 9, 2, 4] 0.47346970438957214\n",
      "[1, 9, 4, 0, 7, 5, 6, 3, 2, 8] 0.39711830019950867\n",
      "[3, 7, 2, 4, 0, 5, 6, 1, 8, 9] 0.3741786479949951\n"
     ]
    }
   ],
   "source": [
    "for _ in range(100):\n",
    "    order = torch.randperm(len(sents))\n",
    "    perm = sents[torch.LongTensor(order)]\n",
    "    pred = regressor(perm.unsqueeze(0))\n",
    "    print(order.tolist(), pred.data[0])"
   ]
  },
  {
   "cell_type": "code",
   "execution_count": 22,
   "metadata": {},
   "outputs": [],
   "source": [
    "def predict(graf):\n",
    "    \n",
    "    sents = sent_encoder(graf.sentence_variables())\n",
    "    \n",
    "    perms = list(permutations(range(len(sents))))\n",
    "    \n",
    "    x = torch.stack([\n",
    "        sents[torch.LongTensor(perm)]\n",
    "        for perm in perms\n",
    "    ])\n",
    "    \n",
    "    scores = regressor(x)\n",
    "    \n",
    "    return perms[torch.min(scores, 0)[1].data[0]]"
   ]
  },
  {
   "cell_type": "code",
   "execution_count": null,
   "metadata": {},
   "outputs": [
    {
     "data": {
      "application/vnd.jupyter.widget-view+json": {
       "model_id": "d778e2d6873f4b54846f6baf14968ccc",
       "version_major": 2,
       "version_minor": 0
      },
      "text/html": [
       "<p>Failed to display Jupyter Widget of type <code>HBox</code>.</p>\n",
       "<p>\n",
       "  If you're reading this message in Jupyter Notebook or JupyterLab, it may mean\n",
       "  that the widgets JavaScript is still loading. If this message persists, it\n",
       "  likely means that the widgets JavaScript library is either not installed or\n",
       "  not enabled. See the <a href=\"https://ipywidgets.readthedocs.io/en/stable/user_install.html\">Jupyter\n",
       "  Widgets Documentation</a> for setup instructions.\n",
       "</p>\n",
       "<p>\n",
       "  If you're reading this message in another notebook frontend (for example, a static\n",
       "  rendering on GitHub or <a href=\"https://nbviewer.jupyter.org/\">NBViewer</a>),\n",
       "  it may mean that your frontend doesn't currently support widgets.\n",
       "</p>\n"
      ],
      "text/plain": [
       "HBox(children=(IntProgress(value=0, max=1667), HTML(value='')))"
      ]
     },
     "metadata": {},
     "output_type": "display_data"
    }
   ],
   "source": [
    "kts = []\n",
    "for g in tqdm_notebook(grafs):\n",
    "    pred = predict(g)\n",
    "    kt = kendalltau(pred, range(len(pred))).correlation\n",
    "    kts.append(kt)"
   ]
  },
  {
   "cell_type": "code",
   "execution_count": 18,
   "metadata": {},
   "outputs": [
    {
     "data": {
      "text/plain": [
       "0.86951693503609107"
      ]
     },
     "execution_count": 18,
     "metadata": {},
     "output_type": "execute_result"
    }
   ],
   "source": [
    "np.mean(kts)"
   ]
  },
  {
   "cell_type": "code",
   "execution_count": 19,
   "metadata": {},
   "outputs": [
    {
     "data": {
      "text/plain": [
       "0.6879511382565242"
      ]
     },
     "execution_count": 19,
     "metadata": {},
     "output_type": "execute_result"
    }
   ],
   "source": [
    "kts.count(1) / len(kts)"
   ]
  }
 ],
 "metadata": {
  "kernelspec": {
   "display_name": "Python 3",
   "language": "python",
   "name": "python3"
  },
  "language_info": {
   "codemirror_mode": {
    "name": "ipython",
    "version": 3
   },
   "file_extension": ".py",
   "mimetype": "text/x-python",
   "name": "python",
   "nbconvert_exporter": "python",
   "pygments_lexer": "ipython3",
   "version": "3.6.2"
  }
 },
 "nbformat": 4,
 "nbformat_minor": 2
}
