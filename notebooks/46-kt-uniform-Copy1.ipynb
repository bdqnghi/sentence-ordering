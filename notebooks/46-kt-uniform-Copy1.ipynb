{
 "cells": [
  {
   "cell_type": "code",
   "execution_count": 1,
   "metadata": {},
   "outputs": [],
   "source": [
    "import matplotlib as mpl\n",
    "import matplotlib.pyplot as plt\n",
    "\n",
    "%matplotlib inline\n",
    "mpl.style.use('bmh')"
   ]
  },
  {
   "cell_type": "code",
   "execution_count": 2,
   "metadata": {},
   "outputs": [],
   "source": [
    "loss = [\n",
    "0.2727637056112289,\n",
    "0.25213536588847635,\n",
    "0.2461501714736223,\n",
    "0.24209023496508597,\n",
    "0.24158845053613187,\n",
    "0.2378302155137062,\n",
    "0.23614670391380788,\n",
    "0.23318738141655923,\n",
    "0.2318367592841387,\n",
    "0.23140091162919998,\n",
    "0.23139927844703198,\n",
    "0.2290904031097889,\n",
    "0.22864876864850522,\n",
    "0.22958814111351966,\n",
    "0.22655445419251918,\n",
    "0.22658493340015412,\n",
    "0.22374943336844444,\n",
    "0.223206394597888,\n",
    "0.2227141965329647,\n",
    "0.2218552751392126,\n",
    "0.22083004958927632,\n",
    "0.22116238099336624,\n",
    "0.2208907634615898,\n",
    "0.22286375960707663,\n",
    "0.21980990195274352,\n",
    "0.21942791153490543,\n",
    "0.2184906393289566,\n",
    "0.21774862875044346,\n",
    "]"
   ]
  },
  {
   "cell_type": "code",
   "execution_count": 3,
   "metadata": {},
   "outputs": [
    {
     "data": {
      "text/plain": [
       "[<matplotlib.lines.Line2D at 0x10d331278>]"
      ]
     },
     "execution_count": 3,
     "metadata": {},
     "output_type": "execute_result"
    },
    {
     "data": {
      "image/png": "[encoded data removed]",
      "text/plain": [
       "<matplotlib.figure.Figure at 0x10b8de588>"
      ]
     },
     "metadata": {},
     "output_type": "display_data"
    }
   ],
   "source": [
    "plt.plot(loss)"
   ]
  },
  {
   "cell_type": "code",
   "execution_count": null,
   "metadata": {},
   "outputs": [],
   "source": []
  }
 ],
 "metadata": {
  "kernelspec": {
   "display_name": "Python 3",
   "language": "python",
   "name": "python3"
  },
  "language_info": {
   "codemirror_mode": {
    "name": "ipython",
    "version": 3
   },
   "file_extension": ".py",
   "mimetype": "text/x-python",
   "name": "python",
   "nbconvert_exporter": "python",
   "pygments_lexer": "ipython3",
   "version": "3.6.2"
  }
 },
 "nbformat": 4,
 "nbformat_minor": 2
}
