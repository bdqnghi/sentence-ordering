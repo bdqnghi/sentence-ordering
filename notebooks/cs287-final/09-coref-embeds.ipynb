{
 "cells": [
  {
   "cell_type": "code",
   "execution_count": 1,
   "metadata": {},
   "outputs": [],
   "source": [
    "import torch\n",
    "\n",
    "from scipy.spatial import distance\n",
    "from textblob import TextBlob"
   ]
  },
  {
   "cell_type": "code",
   "execution_count": 2,
   "metadata": {},
   "outputs": [],
   "source": [
    "model = torch.load(\n",
    "    '../../data/coref-tag.bin',\n",
    "    map_location={'cuda:0': 'cpu'},\n",
    ")"
   ]
  },
  {
   "cell_type": "code",
   "execution_count": 4,
   "metadata": {},
   "outputs": [
    {
     "data": {
      "text/plain": [
       "DocEmbedder(\n",
       "  (embeddings): WordEmbedding(39414, 300)\n",
       "  (lstm): LSTM(300, 500, batch_first=True, bidirectional=True)\n",
       "  (convs): ModuleList(\n",
       "    (0): Conv2d(1, 100, kernel_size=(2, 1000), stride=(1, 1))\n",
       "    (1): Conv2d(1, 100, kernel_size=(3, 1000), stride=(1, 1))\n",
       "    (2): Conv2d(1, 100, kernel_size=(4, 1000), stride=(1, 1))\n",
       "    (3): Conv2d(1, 100, kernel_size=(5, 1000), stride=(1, 1))\n",
       "  )\n",
       "  (dropout): Dropout(p=0.5)\n",
       "  (embed): Sequential(\n",
       "    (0): Linear(in_features=1401, out_features=200, bias=True)\n",
       "    (1): Tanh()\n",
       "    (2): Linear(in_features=200, out_features=200, bias=True)\n",
       "    (3): Tanh()\n",
       "    (4): Linear(in_features=200, out_features=10, bias=True)\n",
       "    (5): Sigmoid()\n",
       "  )\n",
       ")"
      ]
     },
     "execution_count": 4,
     "metadata": {},
     "output_type": "execute_result"
    }
   ],
   "source": [
    "model.eval()"
   ]
  },
  {
   "cell_type": "code",
   "execution_count": 39,
   "metadata": {},
   "outputs": [],
   "source": [
    "blob = TextBlob('David woke up. Then he went to the mall. He bought a car and drove it home. Kara was mad at him. She thought it was ugly.')\n",
    "tokens = [str(t) for t in blob.tokens]"
   ]
  },
  {
   "cell_type": "code",
   "execution_count": 40,
   "metadata": {
    "scrolled": false
   },
   "outputs": [
    {
     "data": {
      "text/plain": [
       "[(0, 'David'),\n",
       " (1, 'woke'),\n",
       " (2, 'up'),\n",
       " (3, '.'),\n",
       " (4, 'Then'),\n",
       " (5, 'he'),\n",
       " (6, 'went'),\n",
       " (7, 'to'),\n",
       " (8, 'the'),\n",
       " (9, 'mall'),\n",
       " (10, '.'),\n",
       " (11, 'He'),\n",
       " (12, 'bought'),\n",
       " (13, 'a'),\n",
       " (14, 'car'),\n",
       " (15, 'and'),\n",
       " (16, 'drove'),\n",
       " (17, 'it'),\n",
       " (18, 'home'),\n",
       " (19, '.'),\n",
       " (20, 'Kara'),\n",
       " (21, 'was'),\n",
       " (22, 'mad'),\n",
       " (23, 'at'),\n",
       " (24, 'him'),\n",
       " (25, '.'),\n",
       " (26, 'She'),\n",
       " (27, 'thought'),\n",
       " (28, 'it'),\n",
       " (29, 'was'),\n",
       " (30, 'ugly'),\n",
       " (31, '.')]"
      ]
     },
     "execution_count": 40,
     "metadata": {},
     "output_type": "execute_result"
    }
   ],
   "source": [
    "list(enumerate(tokens))"
   ]
  },
  {
   "cell_type": "code",
   "execution_count": 41,
   "metadata": {},
   "outputs": [
    {
     "data": {
      "text/plain": [
       "tensor([[ 0.2343,  0.6466,  0.0973,  0.0171,  0.0056,  0.0028,  0.0016,\n",
       "          0.0013,  0.0009,  0.0009],\n",
       "        [ 0.9725,  0.0166,  0.0060,  0.0016,  0.0006,  0.0004,  0.0003,\n",
       "          0.0003,  0.0002,  0.0002],\n",
       "        [ 0.9860,  0.0057,  0.0039,  0.0014,  0.0006,  0.0003,  0.0003,\n",
       "          0.0002,  0.0002,  0.0002],\n",
       "        [ 0.9893,  0.0035,  0.0027,  0.0012,  0.0005,  0.0004,  0.0003,\n",
       "          0.0002,  0.0002,  0.0002],\n",
       "        [ 0.9876,  0.0047,  0.0034,  0.0013,  0.0005,  0.0003,  0.0003,\n",
       "          0.0002,  0.0002,  0.0002],\n",
       "        [ 0.0700,  0.7809,  0.2423,  0.0390,  0.0098,  0.0039,  0.0020,\n",
       "          0.0014,  0.0010,  0.0010],\n",
       "        [ 0.9880,  0.0035,  0.0034,  0.0016,  0.0007,  0.0004,  0.0003,\n",
       "          0.0002,  0.0002,  0.0002],\n",
       "        [ 0.9879,  0.0028,  0.0034,  0.0019,  0.0009,  0.0005,  0.0004,\n",
       "          0.0003,  0.0002,  0.0002],\n",
       "        [ 0.4329,  0.0910,  0.2749,  0.1308,  0.0425,  0.0105,  0.0032,\n",
       "          0.0014,  0.0008,  0.0005],\n",
       "        [ 0.5528,  0.0563,  0.2151,  0.1237,  0.0456,  0.0116,  0.0036,\n",
       "          0.0015,  0.0008,  0.0005],\n",
       "        [ 0.9890,  0.0025,  0.0028,  0.0017,  0.0008,  0.0005,  0.0004,\n",
       "          0.0003,  0.0002,  0.0002],\n",
       "        [ 0.0644,  0.6407,  0.3603,  0.0931,  0.0245,  0.0075,  0.0032,\n",
       "          0.0019,  0.0013,  0.0010],\n",
       "        [ 0.9708,  0.0041,  0.0101,  0.0065,  0.0029,  0.0012,  0.0007,\n",
       "          0.0004,  0.0003,  0.0002],\n",
       "        [ 0.8180,  0.0123,  0.0687,  0.0586,  0.0286,  0.0087,  0.0033,\n",
       "          0.0015,  0.0008,  0.0005],\n",
       "        [ 0.8100,  0.0118,  0.0694,  0.0676,  0.0354,  0.0113,  0.0042,\n",
       "          0.0018,  0.0010,  0.0006],\n",
       "        [ 0.9471,  0.0039,  0.0167,  0.0175,  0.0093,  0.0036,  0.0018,\n",
       "          0.0009,  0.0006,  0.0003],\n",
       "        [ 0.9437,  0.0045,  0.0177,  0.0177,  0.0094,  0.0037,  0.0018,\n",
       "          0.0009,  0.0005,  0.0003],\n",
       "        [ 0.4332,  0.0618,  0.1838,  0.1384,  0.0698,  0.0223,  0.0073,\n",
       "          0.0030,  0.0015,  0.0009],\n",
       "        [ 0.9373,  0.0037,  0.0178,  0.0223,  0.0133,  0.0056,  0.0027,\n",
       "          0.0014,  0.0008,  0.0005],\n",
       "        [ 0.9883,  0.0019,  0.0027,  0.0022,  0.0013,  0.0009,  0.0006,\n",
       "          0.0004,  0.0003,  0.0002],\n",
       "        [ 0.2424,  0.1213,  0.2017,  0.1733,  0.1088,  0.0460,  0.0162,\n",
       "          0.0071,  0.0035,  0.0020],\n",
       "        [ 0.9871,  0.0022,  0.0030,  0.0023,  0.0013,  0.0009,  0.0006,\n",
       "          0.0004,  0.0003,  0.0002],\n",
       "        [ 0.9867,  0.0021,  0.0029,  0.0024,  0.0014,  0.0010,  0.0007,\n",
       "          0.0004,  0.0003,  0.0003],\n",
       "        [ 0.9878,  0.0021,  0.0028,  0.0022,  0.0013,  0.0009,  0.0006,\n",
       "          0.0004,  0.0003,  0.0002],\n",
       "        [ 0.0619,  0.4434,  0.3330,  0.1627,  0.0667,  0.0243,  0.0092,\n",
       "          0.0047,  0.0029,  0.0019],\n",
       "        [ 0.9894,  0.0021,  0.0024,  0.0016,  0.0009,  0.0006,  0.0004,\n",
       "          0.0003,  0.0002,  0.0002],\n",
       "        [ 0.0916,  0.3712,  0.2807,  0.1387,  0.0599,  0.0221,  0.0081,\n",
       "          0.0041,  0.0023,  0.0016],\n",
       "        [ 0.9887,  0.0022,  0.0025,  0.0018,  0.0010,  0.0007,  0.0005,\n",
       "          0.0003,  0.0003,  0.0002],\n",
       "        [ 0.2106,  0.1544,  0.2067,  0.1304,  0.0660,  0.0242,  0.0084,\n",
       "          0.0038,  0.0019,  0.0012],\n",
       "        [ 0.9892,  0.0020,  0.0024,  0.0018,  0.0010,  0.0007,  0.0005,\n",
       "          0.0004,  0.0003,  0.0002],\n",
       "        [ 0.9856,  0.0018,  0.0030,  0.0030,  0.0020,  0.0014,  0.0009,\n",
       "          0.0006,  0.0004,  0.0003],\n",
       "        [ 0.9894,  0.0018,  0.0022,  0.0018,  0.0011,  0.0008,  0.0006,\n",
       "          0.0004,  0.0003,  0.0003]])"
      ]
     },
     "execution_count": 41,
     "metadata": {},
     "output_type": "execute_result"
    }
   ],
   "source": [
    "model([tokens])[0]"
   ]
  },
  {
   "cell_type": "code",
   "execution_count": 42,
   "metadata": {},
   "outputs": [
    {
     "name": "stdout",
     "output_type": "stream",
     "text": [
      "David tensor(1)\n",
      "woke tensor(0)\n",
      "up tensor(0)\n",
      ". tensor(0)\n",
      "Then tensor(0)\n",
      "he tensor(1)\n",
      "went tensor(0)\n",
      "to tensor(0)\n",
      "the tensor(0)\n",
      "mall tensor(0)\n",
      ". tensor(0)\n",
      "He tensor(1)\n",
      "bought tensor(0)\n",
      "a tensor(0)\n",
      "car tensor(0)\n",
      "and tensor(0)\n",
      "drove tensor(0)\n",
      "it tensor(0)\n",
      "home tensor(0)\n",
      ". tensor(0)\n",
      "Kara tensor(0)\n",
      "was tensor(0)\n",
      "mad tensor(0)\n",
      "at tensor(0)\n",
      "him tensor(1)\n",
      ". tensor(0)\n",
      "She tensor(1)\n",
      "thought tensor(0)\n",
      "it tensor(0)\n",
      "was tensor(0)\n",
      "ugly tensor(0)\n",
      ". tensor(0)\n"
     ]
    }
   ],
   "source": [
    "for token, pred in zip(tokens, model([tokens])[0]):\n",
    "    print(token, pred.argmax())"
   ]
  },
  {
   "cell_type": "code",
   "execution_count": 38,
   "metadata": {},
   "outputs": [],
   "source": [
    "embeds = [e.detach().numpy() for e in model([tokens])[0]]"
   ]
  },
  {
   "cell_type": "code",
   "execution_count": 11,
   "metadata": {},
   "outputs": [
    {
     "ename": "AttributeError",
     "evalue": "'list' object has no attribute 'round'",
     "output_type": "error",
     "traceback": [
      "\u001b[0;31m---------------------------------------------------------------------------\u001b[0m",
      "\u001b[0;31mAttributeError\u001b[0m                            Traceback (most recent call last)",
      "\u001b[0;32m<ipython-input-11-872adaf93702>\u001b[0m in \u001b[0;36m<module>\u001b[0;34m()\u001b[0m\n\u001b[0;32m----> 1\u001b[0;31m \u001b[0membeds\u001b[0m\u001b[0;34m.\u001b[0m\u001b[0mround\u001b[0m\u001b[0;34m(\u001b[0m\u001b[0;34m)\u001b[0m\u001b[0;34m\u001b[0m\u001b[0m\n\u001b[0m",
      "\u001b[0;31mAttributeError\u001b[0m: 'list' object has no attribute 'round'"
     ]
    }
   ],
   "source": [
    "embeds.round()"
   ]
  },
  {
   "cell_type": "code",
   "execution_count": null,
   "metadata": {
    "scrolled": false
   },
   "outputs": [],
   "source": []
  },
  {
   "cell_type": "code",
   "execution_count": null,
   "metadata": {},
   "outputs": [],
   "source": []
  },
  {
   "cell_type": "code",
   "execution_count": null,
   "metadata": {},
   "outputs": [],
   "source": []
  }
 ],
 "metadata": {
  "kernelspec": {
   "display_name": "Python 3",
   "language": "python",
   "name": "python3"
  },
  "language_info": {
   "codemirror_mode": {
    "name": "ipython",
    "version": 3
   },
   "file_extension": ".py",
   "mimetype": "text/x-python",
   "name": "python",
   "nbconvert_exporter": "python",
   "pygments_lexer": "ipython3",
   "version": "3.6.5"
  }
 },
 "nbformat": 4,
 "nbformat_minor": 2
}
