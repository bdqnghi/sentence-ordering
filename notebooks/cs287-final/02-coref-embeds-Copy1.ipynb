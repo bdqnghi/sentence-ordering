{
 "cells": [
  {
   "cell_type": "code",
   "execution_count": 1,
   "metadata": {},
   "outputs": [],
   "source": [
    "import torch\n",
    "\n",
    "from scipy.spatial import distance"
   ]
  },
  {
   "cell_type": "code",
   "execution_count": 2,
   "metadata": {},
   "outputs": [],
   "source": [
    "model = torch.load(\n",
    "    '../../data/coref-embeds-5-8-am.model',\n",
    "    map_location={'cuda:0': 'cpu'},\n",
    ")"
   ]
  },
  {
   "cell_type": "code",
   "execution_count": 3,
   "metadata": {},
   "outputs": [
    {
     "data": {
      "text/plain": [
       "DocEmbedder(\n",
       "  (embeddings): WordEmbedding(39414, 300)\n",
       "  (lstm): LSTM(300, 500, batch_first=True, bidirectional=True)\n",
       "  (dropout): Dropout(p=0.5)\n",
       "  (embed): Sequential(\n",
       "    (0): Linear(in_features=1000, out_features=200, bias=True)\n",
       "    (1): Tanh()\n",
       "    (2): Linear(in_features=200, out_features=200, bias=True)\n",
       "    (3): Tanh()\n",
       "    (4): Linear(in_features=200, out_features=50, bias=True)\n",
       "  )\n",
       ")"
      ]
     },
     "execution_count": 3,
     "metadata": {},
     "output_type": "execute_result"
    }
   ],
   "source": [
    "model"
   ]
  },
  {
   "cell_type": "code",
   "execution_count": 40,
   "metadata": {},
   "outputs": [],
   "source": [
    "tokens = 'Jesus asked Mary where the keys where . She said she didn \\'t know .'.split()"
   ]
  },
  {
   "cell_type": "code",
   "execution_count": 41,
   "metadata": {},
   "outputs": [
    {
     "data": {
      "text/plain": [
       "[(0, 'Jesus'),\n",
       " (1, 'asked'),\n",
       " (2, 'Mary'),\n",
       " (3, 'where'),\n",
       " (4, 'the'),\n",
       " (5, 'keys'),\n",
       " (6, 'where'),\n",
       " (7, '.'),\n",
       " (8, 'She'),\n",
       " (9, 'said'),\n",
       " (10, 'she'),\n",
       " (11, 'didn'),\n",
       " (12, \"'t\"),\n",
       " (13, 'know'),\n",
       " (14, '.')]"
      ]
     },
     "execution_count": 41,
     "metadata": {},
     "output_type": "execute_result"
    }
   ],
   "source": [
    "list(enumerate(tokens))"
   ]
  },
  {
   "cell_type": "code",
   "execution_count": 42,
   "metadata": {},
   "outputs": [],
   "source": [
    "embeds = [e.detach().numpy() for e in model([tokens])[0]]"
   ]
  },
  {
   "cell_type": "code",
   "execution_count": 44,
   "metadata": {},
   "outputs": [
    {
     "name": "stdout",
     "output_type": "stream",
     "text": [
      "Jesus 0.0\n",
      "asked 1.00594836241\n",
      "Mary 0.938713446259\n",
      "where 1.00577083463\n",
      "the 0.984826494008\n",
      "keys 1.00854272582\n",
      "where 1.10526570678\n",
      ". 1.0060025705\n",
      "She 0.00654083490372\n",
      "said 1.00587875023\n",
      "she 0.00200974941254\n",
      "didn 1.00585967721\n",
      "'t 1.2261826843\n",
      "know 1.00793111045\n",
      ". 1.00597330509\n"
     ]
    }
   ],
   "source": [
    "seed = embeds[0]\n",
    "for token, embed in zip(tokens, embeds):\n",
    "    print(token, distance.cosine(seed, embed))"
   ]
  },
  {
   "cell_type": "code",
   "execution_count": null,
   "metadata": {},
   "outputs": [],
   "source": []
  }
 ],
 "metadata": {
  "kernelspec": {
   "display_name": "Python 3",
   "language": "python",
   "name": "python3"
  },
  "language_info": {
   "codemirror_mode": {
    "name": "ipython",
    "version": 3
   },
   "file_extension": ".py",
   "mimetype": "text/x-python",
   "name": "python",
   "nbconvert_exporter": "python",
   "pygments_lexer": "ipython3",
   "version": "3.6.5"
  }
 },
 "nbformat": 4,
 "nbformat_minor": 2
}
