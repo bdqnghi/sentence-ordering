{
 "cells": [
  {
   "cell_type": "code",
   "execution_count": 8,
   "metadata": {},
   "outputs": [],
   "source": [
    "import torch\n",
    "\n",
    "from scipy.spatial import distance\n",
    "from textblob import TextBlob"
   ]
  },
  {
   "cell_type": "code",
   "execution_count": 9,
   "metadata": {},
   "outputs": [
    {
     "name": "stderr",
     "output_type": "stream",
     "text": [
      "/Users/dclure/Projects/plot-ordering/env/lib/python3.6/site-packages/torch/serialization.py:367: SourceChangeWarning: source code of class 'sent_order.models.coref_embeds.DocEmbedder' has changed. you can retrieve the original source code by accessing the object's source attribute or set `torch.nn.Module.dump_patches = True` and use the patch tool to revert the changes.\n",
      "  warnings.warn(msg, SourceChangeWarning)\n"
     ]
    }
   ],
   "source": [
    "model = torch.load(\n",
    "    '../../data/coref-embeds-5-8-am.model',\n",
    "    map_location={'cuda:0': 'cpu'},\n",
    ")"
   ]
  },
  {
   "cell_type": "code",
   "execution_count": 3,
   "metadata": {},
   "outputs": [
    {
     "data": {
      "text/plain": [
       "DocEmbedder(\n",
       "  (embeddings): WordEmbedding(39414, 300)\n",
       "  (lstm): LSTM(300, 500, batch_first=True, bidirectional=True)\n",
       "  (dropout): Dropout(p=0.5)\n",
       "  (embed): Sequential(\n",
       "    (0): Linear(in_features=1000, out_features=200, bias=True)\n",
       "    (1): Tanh()\n",
       "    (2): Linear(in_features=200, out_features=200, bias=True)\n",
       "    (3): Tanh()\n",
       "    (4): Linear(in_features=200, out_features=50, bias=True)\n",
       "  )\n",
       ")"
      ]
     },
     "execution_count": 3,
     "metadata": {},
     "output_type": "execute_result"
    }
   ],
   "source": [
    "model"
   ]
  },
  {
   "cell_type": "code",
   "execution_count": 34,
   "metadata": {},
   "outputs": [],
   "source": [
    "blob = TextBlob('After Mr. Trump’s election, while the F.B.I. was investigating whether his campaign helped Russian efforts to put Mr. Trump in the Oval Office, Mr. Cohen visited his boss in the White House. During that February 2017 visit, Mr. Cohen left for the national security adviser, Michael Flynn, a plan to lift sanctions against Russia, which had been imposed for its attacks on Ukraine. These sanctions had squeezed the sorts of people Mr. Cohen dealt with. The plan was proposed by Mr. Sater and a Ukrainian politician with ties to Paul Manafort, a former Trump campaign chairman.')\n",
    "tokens = [str(t) for t in blob.tokens]"
   ]
  },
  {
   "cell_type": "code",
   "execution_count": 35,
   "metadata": {
    "scrolled": false
   },
   "outputs": [
    {
     "data": {
      "text/plain": [
       "[(0, 'After'),\n",
       " (1, 'Mr.'),\n",
       " (2, 'Trump'),\n",
       " (3, '’'),\n",
       " (4, 's'),\n",
       " (5, 'election'),\n",
       " (6, ','),\n",
       " (7, 'while'),\n",
       " (8, 'the'),\n",
       " (9, 'F.B.I'),\n",
       " (10, '.'),\n",
       " (11, 'was'),\n",
       " (12, 'investigating'),\n",
       " (13, 'whether'),\n",
       " (14, 'his'),\n",
       " (15, 'campaign'),\n",
       " (16, 'helped'),\n",
       " (17, 'Russian'),\n",
       " (18, 'efforts'),\n",
       " (19, 'to'),\n",
       " (20, 'put'),\n",
       " (21, 'Mr.'),\n",
       " (22, 'Trump'),\n",
       " (23, 'in'),\n",
       " (24, 'the'),\n",
       " (25, 'Oval'),\n",
       " (26, 'Office'),\n",
       " (27, ','),\n",
       " (28, 'Mr.'),\n",
       " (29, 'Cohen'),\n",
       " (30, 'visited'),\n",
       " (31, 'his'),\n",
       " (32, 'boss'),\n",
       " (33, 'in'),\n",
       " (34, 'the'),\n",
       " (35, 'White'),\n",
       " (36, 'House'),\n",
       " (37, '.'),\n",
       " (38, 'During'),\n",
       " (39, 'that'),\n",
       " (40, 'February'),\n",
       " (41, '2017'),\n",
       " (42, 'visit'),\n",
       " (43, ','),\n",
       " (44, 'Mr.'),\n",
       " (45, 'Cohen'),\n",
       " (46, 'left'),\n",
       " (47, 'for'),\n",
       " (48, 'the'),\n",
       " (49, 'national'),\n",
       " (50, 'security'),\n",
       " (51, 'adviser'),\n",
       " (52, ','),\n",
       " (53, 'Michael'),\n",
       " (54, 'Flynn'),\n",
       " (55, ','),\n",
       " (56, 'a'),\n",
       " (57, 'plan'),\n",
       " (58, 'to'),\n",
       " (59, 'lift'),\n",
       " (60, 'sanctions'),\n",
       " (61, 'against'),\n",
       " (62, 'Russia'),\n",
       " (63, ','),\n",
       " (64, 'which'),\n",
       " (65, 'had'),\n",
       " (66, 'been'),\n",
       " (67, 'imposed'),\n",
       " (68, 'for'),\n",
       " (69, 'its'),\n",
       " (70, 'attacks'),\n",
       " (71, 'on'),\n",
       " (72, 'Ukraine'),\n",
       " (73, '.'),\n",
       " (74, 'These'),\n",
       " (75, 'sanctions'),\n",
       " (76, 'had'),\n",
       " (77, 'squeezed'),\n",
       " (78, 'the'),\n",
       " (79, 'sorts'),\n",
       " (80, 'of'),\n",
       " (81, 'people'),\n",
       " (82, 'Mr.'),\n",
       " (83, 'Cohen'),\n",
       " (84, 'dealt'),\n",
       " (85, 'with'),\n",
       " (86, '.'),\n",
       " (87, 'The'),\n",
       " (88, 'plan'),\n",
       " (89, 'was'),\n",
       " (90, 'proposed'),\n",
       " (91, 'by'),\n",
       " (92, 'Mr.'),\n",
       " (93, 'Sater'),\n",
       " (94, 'and'),\n",
       " (95, 'a'),\n",
       " (96, 'Ukrainian'),\n",
       " (97, 'politician'),\n",
       " (98, 'with'),\n",
       " (99, 'ties'),\n",
       " (100, 'to'),\n",
       " (101, 'Paul'),\n",
       " (102, 'Manafort'),\n",
       " (103, ','),\n",
       " (104, 'a'),\n",
       " (105, 'former'),\n",
       " (106, 'Trump'),\n",
       " (107, 'campaign'),\n",
       " (108, 'chairman'),\n",
       " (109, '.')]"
      ]
     },
     "execution_count": 35,
     "metadata": {},
     "output_type": "execute_result"
    }
   ],
   "source": [
    "list(enumerate(tokens))"
   ]
  },
  {
   "cell_type": "code",
   "execution_count": 36,
   "metadata": {},
   "outputs": [],
   "source": [
    "embeds = [e.detach().numpy() for e in model([tokens])[0]]"
   ]
  },
  {
   "cell_type": "code",
   "execution_count": 37,
   "metadata": {
    "scrolled": false
   },
   "outputs": [
    {
     "name": "stdout",
     "output_type": "stream",
     "text": [
      "After 1.00168964209\n",
      "Mr. 0.244024097919\n",
      "Trump 0.0\n",
      "’ 0.952097125351\n",
      "s 0.87434206903\n",
      "election 0.999840030956\n",
      ", 1.00166016666\n",
      "while 1.00162649376\n",
      "the 1.33412265778\n",
      "F.B.I 1.00917597767\n",
      ". 1.001606395\n",
      "was 1.00159944477\n",
      "investigating 1.00170999987\n",
      "whether 1.00177275005\n",
      "his 0.341216564178\n",
      "campaign 1.17628708482\n",
      "helped 1.00171673729\n",
      "Russian 1.00151202478\n",
      "efforts 1.00163706229\n",
      "to 1.00167417165\n",
      "put 1.0016797306\n",
      "Mr. 0.344956278801\n",
      "Trump 0.733655869961\n",
      "in 1.0011875726\n",
      "the 1.00560629275\n",
      "Oval 1.22734168172\n",
      "Office 1.33473315835\n",
      ", 1.00188427197\n",
      "Mr. 0.332064926624\n",
      "Cohen 0.345601081848\n",
      "visited 1.00229004351\n",
      "his 0.341885089874\n",
      "boss 0.858484983444\n",
      "in 1.00161032588\n",
      "the 1.0161808189\n",
      "White 0.9150275141\n",
      "House 1.15078812838\n",
      ". 1.00166648603\n",
      "During 1.00170687318\n",
      "that 1.00181521277\n",
      "February 1.00135641929\n",
      "2017 1.00166526891\n",
      "visit 1.00142041838\n",
      ", 1.00183961948\n",
      "Mr. 0.320351958275\n",
      "Cohen 0.317402422428\n",
      "left 1.00166363688\n",
      "for 1.00169563282\n",
      "the 1.00166826579\n",
      "national 1.0803085342\n",
      "security 1.00182930171\n",
      "adviser 1.01208542846\n",
      ", 1.00207200041\n",
      "Michael 0.299913942814\n",
      "Flynn 0.709338396788\n",
      ", 1.08028109372\n",
      "a 0.802248686552\n",
      "plan 1.19804939628\n",
      "to 0.771120101213\n",
      "lift 1.13772037625\n",
      "sanctions 1.19164396822\n",
      "against 1.2495727092\n",
      "Russia 1.26723521948\n",
      ", 1.08482764661\n",
      "which 1.29602491856\n",
      "had 1.31178182364\n",
      "been 1.23264415562\n",
      "imposed 1.29677596688\n",
      "for 1.29268416762\n",
      "its 1.22927370667\n",
      "attacks 1.30000844598\n",
      "on 1.28759217262\n",
      "Ukraine 1.29839223623\n",
      ". 1.00164050725\n",
      "These 0.86930552125\n",
      "sanctions 0.623342692852\n",
      "had 1.00169318379\n",
      "squeezed 1.0017272674\n",
      "the 1.00180101581\n",
      "sorts 1.00173392228\n",
      "of 1.00074453442\n",
      "people 1.01110001747\n",
      "Mr. 1.47991394997\n",
      "Cohen 1.14716678858\n",
      "dealt 1.00157391955\n",
      "with 1.00175282056\n",
      ". 1.00161999417\n",
      "The 0.854481264949\n",
      "plan 0.74224203825\n",
      "was 1.0016218049\n",
      "proposed 1.00161567144\n",
      "by 1.00177333504\n",
      "Mr. 0.688491821289\n",
      "Sater 1.36369615793\n",
      "and 1.00189306471\n",
      "a 1.0017324232\n",
      "Ukrainian 1.00168808328\n",
      "politician 1.00165435625\n",
      "with 1.0016972\n",
      "ties 1.00160747953\n",
      "to 1.00171836209\n",
      "Paul 0.55948099494\n",
      "Manafort 1.03170718253\n",
      ", 1.3112527132\n",
      "a 1.07434634864\n",
      "former 0.886008769274\n",
      "Trump 1.20295913517\n",
      "campaign 1.16908380389\n",
      "chairman 0.864022687078\n",
      ". 1.00172787078\n"
     ]
    }
   ],
   "source": [
    "seed = embeds[2]\n",
    "for token, embed in zip(tokens, embeds):\n",
    "    print(token, distance.cosine(seed, embed))"
   ]
  },
  {
   "cell_type": "code",
   "execution_count": null,
   "metadata": {},
   "outputs": [],
   "source": []
  },
  {
   "cell_type": "code",
   "execution_count": null,
   "metadata": {},
   "outputs": [],
   "source": []
  }
 ],
 "metadata": {
  "kernelspec": {
   "display_name": "Python 3",
   "language": "python",
   "name": "python3"
  },
  "language_info": {
   "codemirror_mode": {
    "name": "ipython",
    "version": 3
   },
   "file_extension": ".py",
   "mimetype": "text/x-python",
   "name": "python",
   "nbconvert_exporter": "python",
   "pygments_lexer": "ipython3",
   "version": "3.6.5"
  }
 },
 "nbformat": 4,
 "nbformat_minor": 2
}
