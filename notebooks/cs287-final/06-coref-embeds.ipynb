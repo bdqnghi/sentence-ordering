{
 "cells": [
  {
   "cell_type": "code",
   "execution_count": 8,
   "metadata": {},
   "outputs": [],
   "source": [
    "import torch\n",
    "\n",
    "from scipy.spatial import distance\n",
    "from textblob import TextBlob"
   ]
  },
  {
   "cell_type": "code",
   "execution_count": 9,
   "metadata": {},
   "outputs": [
    {
     "name": "stderr",
     "output_type": "stream",
     "text": [
      "/Users/dclure/Projects/plot-ordering/env/lib/python3.6/site-packages/torch/serialization.py:367: SourceChangeWarning: source code of class 'sent_order.models.coref_embeds.DocEmbedder' has changed. you can retrieve the original source code by accessing the object's source attribute or set `torch.nn.Module.dump_patches = True` and use the patch tool to revert the changes.\n",
      "  warnings.warn(msg, SourceChangeWarning)\n"
     ]
    }
   ],
   "source": [
    "model = torch.load(\n",
    "    '../../data/coref-embeds-5-8-am.model',\n",
    "    map_location={'cuda:0': 'cpu'},\n",
    ")"
   ]
  },
  {
   "cell_type": "code",
   "execution_count": 3,
   "metadata": {},
   "outputs": [
    {
     "data": {
      "text/plain": [
       "DocEmbedder(\n",
       "  (embeddings): WordEmbedding(39414, 300)\n",
       "  (lstm): LSTM(300, 500, batch_first=True, bidirectional=True)\n",
       "  (dropout): Dropout(p=0.5)\n",
       "  (embed): Sequential(\n",
       "    (0): Linear(in_features=1000, out_features=200, bias=True)\n",
       "    (1): Tanh()\n",
       "    (2): Linear(in_features=200, out_features=200, bias=True)\n",
       "    (3): Tanh()\n",
       "    (4): Linear(in_features=200, out_features=50, bias=True)\n",
       "  )\n",
       ")"
      ]
     },
     "execution_count": 3,
     "metadata": {},
     "output_type": "execute_result"
    }
   ],
   "source": [
    "model"
   ]
  },
  {
   "cell_type": "code",
   "execution_count": 51,
   "metadata": {},
   "outputs": [],
   "source": [
    "blob = TextBlob('The black cat jumped over the dog. The feline meowed.')\n",
    "tokens = [str(t) for t in blob.tokens]"
   ]
  },
  {
   "cell_type": "code",
   "execution_count": 52,
   "metadata": {
    "scrolled": false
   },
   "outputs": [
    {
     "data": {
      "text/plain": [
       "[(0, 'The'),\n",
       " (1, 'black'),\n",
       " (2, 'cat'),\n",
       " (3, 'jumped'),\n",
       " (4, 'over'),\n",
       " (5, 'the'),\n",
       " (6, 'dog'),\n",
       " (7, '.'),\n",
       " (8, 'The'),\n",
       " (9, 'feline'),\n",
       " (10, 'meowed'),\n",
       " (11, '.')]"
      ]
     },
     "execution_count": 52,
     "metadata": {},
     "output_type": "execute_result"
    }
   ],
   "source": [
    "list(enumerate(tokens))"
   ]
  },
  {
   "cell_type": "code",
   "execution_count": 53,
   "metadata": {},
   "outputs": [],
   "source": [
    "embeds = [e.detach().numpy() for e in model([tokens])[0]]"
   ]
  },
  {
   "cell_type": "code",
   "execution_count": 55,
   "metadata": {
    "scrolled": false
   },
   "outputs": [
    {
     "name": "stdout",
     "output_type": "stream",
     "text": [
      "The 0.219178140163\n",
      "black 0.468402683735\n",
      "cat 0.0\n",
      "jumped 1.05720749125\n",
      "over 1.05765105411\n",
      "the 1.05723614246\n",
      "dog 1.05740854889\n",
      ". 1.05729521811\n",
      "The 0.609525114298\n",
      "feline 0.71370613575\n",
      "meowed 0.569497346878\n",
      ". 1.05722804368\n"
     ]
    }
   ],
   "source": [
    "seed = embeds[2]\n",
    "for token, embed in zip(tokens, embeds):\n",
    "    print(token, distance.cosine(seed, embed))"
   ]
  },
  {
   "cell_type": "code",
   "execution_count": null,
   "metadata": {},
   "outputs": [],
   "source": []
  },
  {
   "cell_type": "code",
   "execution_count": null,
   "metadata": {},
   "outputs": [],
   "source": []
  }
 ],
 "metadata": {
  "kernelspec": {
   "display_name": "Python 3",
   "language": "python",
   "name": "python3"
  },
  "language_info": {
   "codemirror_mode": {
    "name": "ipython",
    "version": 3
   },
   "file_extension": ".py",
   "mimetype": "text/x-python",
   "name": "python",
   "nbconvert_exporter": "python",
   "pygments_lexer": "ipython3",
   "version": "3.6.5"
  }
 },
 "nbformat": 4,
 "nbformat_minor": 2
}
