{
 "cells": [
  {
   "cell_type": "code",
   "execution_count": 1,
   "metadata": {},
   "outputs": [],
   "source": [
    "import torch\n",
    "import random\n",
    "\n",
    "from sent_order.conll import Corpus, Document\n",
    "\n",
    "from torch.nn import functional as F\n",
    "from itertools import islice\n",
    "from boltons.iterutils import pairwise, chunked\n",
    "from tqdm import tqdm_notebook\n",
    "from textblob import TextBlob\n",
    "\n",
    "from IPython.core.display import display, HTML"
   ]
  },
  {
   "cell_type": "code",
   "execution_count": 2,
   "metadata": {},
   "outputs": [
    {
     "name": "stderr",
     "output_type": "stream",
     "text": [
      "/Users/dclure/Projects/plot-ordering/env/lib/python3.6/site-packages/torch/serialization.py:367: SourceChangeWarning: source code of class 'sent_order.models.coref.DocEncoder' has changed. you can retrieve the original source code by accessing the object's source attribute or set `torch.nn.Module.dump_patches = True` and use the patch tool to revert the changes.\n",
      "  warnings.warn(msg, SourceChangeWarning)\n"
     ]
    }
   ],
   "source": [
    "model = torch.load(\n",
    "    '../../data/coref.9.bin',\n",
    "    map_location={'cpu': 'cpu'},\n",
    ")"
   ]
  },
  {
   "cell_type": "code",
   "execution_count": 3,
   "metadata": {},
   "outputs": [
    {
     "data": {
      "text/plain": [
       "Coref(\n",
       "  (encode_doc): DocEncoder(\n",
       "    (embeddings): WordEmbedding(39414, 300)\n",
       "    (lstm): LSTM(300, 200, batch_first=True, bidirectional=True)\n",
       "    (dropout): Dropout(p=0.5)\n",
       "  )\n",
       "  (score_spans): SpanScorer(\n",
       "    (attention): Scorer(\n",
       "      (score): Sequential(\n",
       "        (0): Linear(in_features=400, out_features=150, bias=True)\n",
       "        (1): ReLU()\n",
       "        (2): Linear(in_features=150, out_features=150, bias=True)\n",
       "        (3): ReLU()\n",
       "        (4): Linear(in_features=150, out_features=1, bias=True)\n",
       "      )\n",
       "    )\n",
       "    (width_embeddings): DistanceEmbedding(9, 20)\n",
       "    (sm): Scorer(\n",
       "      (score): Sequential(\n",
       "        (0): Linear(in_features=1120, out_features=150, bias=True)\n",
       "        (1): ReLU()\n",
       "        (2): Linear(in_features=150, out_features=150, bias=True)\n",
       "        (3): ReLU()\n",
       "        (4): Linear(in_features=150, out_features=1, bias=True)\n",
       "      )\n",
       "    )\n",
       "  )\n",
       "  (score_pairs): PairScorer(\n",
       "    (dist_embeddings): DistanceEmbedding(9, 20)\n",
       "    (sa): Scorer(\n",
       "      (score): Sequential(\n",
       "        (0): Linear(in_features=3380, out_features=150, bias=True)\n",
       "        (1): ReLU()\n",
       "        (2): Linear(in_features=150, out_features=150, bias=True)\n",
       "        (3): ReLU()\n",
       "        (4): Linear(in_features=150, out_features=1, bias=True)\n",
       "      )\n",
       "    )\n",
       "  )\n",
       ")"
      ]
     },
     "execution_count": 3,
     "metadata": {},
     "output_type": "execute_result"
    }
   ],
   "source": [
    "model.eval()"
   ]
  },
  {
   "cell_type": "code",
   "execution_count": 4,
   "metadata": {},
   "outputs": [],
   "source": [
    "c = Corpus.from_combined_file('../../data/development.conll')"
   ]
  },
  {
   "cell_type": "code",
   "execution_count": 18,
   "metadata": {},
   "outputs": [],
   "source": [
    "colors = ('blue', 'green', 'red', 'orange', 'purple')\n",
    "\n",
    "def viz_clusters(doc):\n",
    "    \n",
    "    clusters = model.predict(doc)\n",
    "    spans = model(doc)\n",
    "    \n",
    "    tags = {\n",
    "        i: tag\n",
    "        for tag, c in enumerate(clusters)\n",
    "        for i1, i2 in c\n",
    "        for i in range(i1, i2+1)\n",
    "    }\n",
    "    \n",
    "    tokens = []\n",
    "    for i, token in enumerate(doc.tokens):\n",
    "        tag = tags.get(i)\n",
    "        color = colors[tag] if tag is not None else 'black'\n",
    "        weight = 'bold' if tag is not None else 'regular'\n",
    "        tokens.append(f'<span style=\"color: {color}; font-weight: {weight};\">{token.text}</span>')\n",
    "        \n",
    "    display(HTML(' '.join(tokens)))\n",
    "    \n",
    "    print(sum([sum(F.softmax(s.sij, 0)[:-1]) for s in spans]).item())\n",
    "    print(sum(s.sm for s in spans))"
   ]
  },
  {
   "cell_type": "code",
   "execution_count": 20,
   "metadata": {},
   "outputs": [
    {
     "data": {
      "text/html": [
       "<span style=\"color: blue; font-weight: bold;\">David</span> <span style=\"color: black; font-weight: regular;\">woke</span> <span style=\"color: black; font-weight: regular;\">up</span> <span style=\"color: black; font-weight: regular;\">.</span> <span style=\"color: black; font-weight: regular;\">Then</span> <span style=\"color: blue; font-weight: bold;\">he</span> <span style=\"color: black; font-weight: regular;\">went</span> <span style=\"color: black; font-weight: regular;\">to</span> <span style=\"color: black; font-weight: regular;\">the</span> <span style=\"color: black; font-weight: regular;\">store</span> <span style=\"color: black; font-weight: regular;\">.</span>"
      ],
      "text/plain": [
       "<IPython.core.display.HTML object>"
      ]
     },
     "metadata": {},
     "output_type": "display_data"
    },
    {
     "name": "stdout",
     "output_type": "stream",
     "text": [
      "0.996924877166748\n",
      "tensor(-3.6794)\n"
     ]
    }
   ],
   "source": [
    "viz_clusters(Document.from_text('David woke up. Then he went to the store.'))"
   ]
  },
  {
   "cell_type": "code",
   "execution_count": 21,
   "metadata": {},
   "outputs": [
    {
     "data": {
      "text/html": [
       "<span style=\"color: black; font-weight: regular;\">Then</span> <span style=\"color: black; font-weight: regular;\">he</span> <span style=\"color: black; font-weight: regular;\">went</span> <span style=\"color: black; font-weight: regular;\">to</span> <span style=\"color: black; font-weight: regular;\">the</span> <span style=\"color: black; font-weight: regular;\">store</span> <span style=\"color: black; font-weight: regular;\">.</span> <span style=\"color: black; font-weight: regular;\">David</span> <span style=\"color: black; font-weight: regular;\">woke</span> <span style=\"color: black; font-weight: regular;\">up</span>"
      ],
      "text/plain": [
       "<IPython.core.display.HTML object>"
      ]
     },
     "metadata": {},
     "output_type": "display_data"
    },
    {
     "name": "stdout",
     "output_type": "stream",
     "text": [
      "0.3340340852737427\n",
      "tensor(-3.3308)\n"
     ]
    }
   ],
   "source": [
    "viz_clusters(Document.from_text('Then he went to the store. David woke up'))"
   ]
  },
  {
   "cell_type": "code",
   "execution_count": null,
   "metadata": {},
   "outputs": [],
   "source": []
  }
 ],
 "metadata": {
  "kernelspec": {
   "display_name": "Python 3",
   "language": "python",
   "name": "python3"
  },
  "language_info": {
   "codemirror_mode": {
    "name": "ipython",
    "version": 3
   },
   "file_extension": ".py",
   "mimetype": "text/x-python",
   "name": "python",
   "nbconvert_exporter": "python",
   "pygments_lexer": "ipython3",
   "version": "3.6.5"
  }
 },
 "nbformat": 4,
 "nbformat_minor": 2
}
