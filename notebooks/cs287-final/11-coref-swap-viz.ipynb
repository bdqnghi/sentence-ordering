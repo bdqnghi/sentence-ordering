{
 "cells": [
  {
   "cell_type": "code",
   "execution_count": 75,
   "metadata": {},
   "outputs": [],
   "source": [
    "import torch\n",
    "import random\n",
    "\n",
    "from sent_order.conll import Corpus, Document\n",
    "\n",
    "from torch.nn import functional as F\n",
    "from itertools import islice\n",
    "from boltons.iterutils import pairwise, chunked\n",
    "from tqdm import tqdm_notebook\n",
    "\n",
    "from IPython.core.display import display, HTML"
   ]
  },
  {
   "cell_type": "code",
   "execution_count": 76,
   "metadata": {},
   "outputs": [
    {
     "name": "stderr",
     "output_type": "stream",
     "text": [
      "/Users/dclure/Projects/plot-ordering/env/lib/python3.6/site-packages/torch/serialization.py:367: SourceChangeWarning: source code of class 'sent_order.models.coref.DocEncoder' has changed. you can retrieve the original source code by accessing the object's source attribute or set `torch.nn.Module.dump_patches = True` and use the patch tool to revert the changes.\n",
      "  warnings.warn(msg, SourceChangeWarning)\n"
     ]
    }
   ],
   "source": [
    "model = torch.load(\n",
    "    '../../data/coref.9.bin',\n",
    "    map_location={'cpu': 'cpu'},\n",
    ")"
   ]
  },
  {
   "cell_type": "code",
   "execution_count": 77,
   "metadata": {},
   "outputs": [
    {
     "data": {
      "text/plain": [
       "Coref(\n",
       "  (encode_doc): DocEncoder(\n",
       "    (embeddings): WordEmbedding(39414, 300)\n",
       "    (lstm): LSTM(300, 200, batch_first=True, bidirectional=True)\n",
       "    (dropout): Dropout(p=0.5)\n",
       "  )\n",
       "  (score_spans): SpanScorer(\n",
       "    (attention): Scorer(\n",
       "      (score): Sequential(\n",
       "        (0): Linear(in_features=400, out_features=150, bias=True)\n",
       "        (1): ReLU()\n",
       "        (2): Linear(in_features=150, out_features=150, bias=True)\n",
       "        (3): ReLU()\n",
       "        (4): Linear(in_features=150, out_features=1, bias=True)\n",
       "      )\n",
       "    )\n",
       "    (width_embeddings): DistanceEmbedding(9, 20)\n",
       "    (sm): Scorer(\n",
       "      (score): Sequential(\n",
       "        (0): Linear(in_features=1120, out_features=150, bias=True)\n",
       "        (1): ReLU()\n",
       "        (2): Linear(in_features=150, out_features=150, bias=True)\n",
       "        (3): ReLU()\n",
       "        (4): Linear(in_features=150, out_features=1, bias=True)\n",
       "      )\n",
       "    )\n",
       "  )\n",
       "  (score_pairs): PairScorer(\n",
       "    (dist_embeddings): DistanceEmbedding(9, 20)\n",
       "    (sa): Scorer(\n",
       "      (score): Sequential(\n",
       "        (0): Linear(in_features=3380, out_features=150, bias=True)\n",
       "        (1): ReLU()\n",
       "        (2): Linear(in_features=150, out_features=150, bias=True)\n",
       "        (3): ReLU()\n",
       "        (4): Linear(in_features=150, out_features=1, bias=True)\n",
       "      )\n",
       "    )\n",
       "  )\n",
       ")"
      ]
     },
     "execution_count": 77,
     "metadata": {},
     "output_type": "execute_result"
    }
   ],
   "source": [
    "model.eval()"
   ]
  },
  {
   "cell_type": "code",
   "execution_count": 78,
   "metadata": {},
   "outputs": [],
   "source": [
    "c = Corpus.from_combined_file('../../data/test.conll')"
   ]
  },
  {
   "cell_type": "code",
   "execution_count": 79,
   "metadata": {},
   "outputs": [],
   "source": [
    "colors = ('blue', 'green', 'red', 'orange', 'purple')\n",
    "\n",
    "def viz_clusters(doc):\n",
    "    \n",
    "    clusters = model.predict(doc)\n",
    "    \n",
    "    tags = {\n",
    "        i: tag\n",
    "        for tag, c in enumerate(clusters)\n",
    "        for i1, i2 in c\n",
    "        for i in range(i1, i2+1)\n",
    "    }\n",
    "    \n",
    "    tokens = []\n",
    "    for i, token in enumerate(doc.tokens):\n",
    "        tag = tags.get(i)\n",
    "        color = colors[tag] if tag is not None else 'black'\n",
    "        weight = 'bold' if tag is not None else 'regular'\n",
    "        tokens.append(f'<span style=\"color: {color}; font-weight: {weight};\">{token.text}</span>')\n",
    "        \n",
    "    return HTML(' '.join(tokens))"
   ]
  },
  {
   "cell_type": "code",
   "execution_count": 80,
   "metadata": {},
   "outputs": [
    {
     "data": {
      "text/html": [
       "<span style=\"color: blue; font-weight: bold;\">David</span> <span style=\"color: black; font-weight: regular;\">woke</span> <span style=\"color: black; font-weight: regular;\">up</span> <span style=\"color: black; font-weight: regular;\">.</span> <span style=\"color: blue; font-weight: bold;\">He</span> <span style=\"color: black; font-weight: regular;\">went</span> <span style=\"color: black; font-weight: regular;\">to</span> <span style=\"color: black; font-weight: regular;\">the</span> <span style=\"color: black; font-weight: regular;\">store</span> <span style=\"color: black; font-weight: regular;\">.</span> <span style=\"color: blue; font-weight: bold;\">He</span> <span style=\"color: black; font-weight: regular;\">called</span> <span style=\"color: green; font-weight: bold;\">Kara</span> <span style=\"color: black; font-weight: regular;\">.</span> <span style=\"color: green; font-weight: bold;\">She</span> <span style=\"color: black; font-weight: regular;\">was</span> <span style=\"color: black; font-weight: regular;\">at</span> <span style=\"color: black; font-weight: regular;\">work</span> <span style=\"color: black; font-weight: regular;\">.</span>"
      ],
      "text/plain": [
       "<IPython.core.display.HTML object>"
      ]
     },
     "execution_count": 80,
     "metadata": {},
     "output_type": "execute_result"
    }
   ],
   "source": [
    "viz_clusters(Document.from_text('David woke up. He went to the store. He called Kara. She was at work.'))"
   ]
  },
  {
   "cell_type": "code",
   "execution_count": 81,
   "metadata": {},
   "outputs": [
    {
     "data": {
      "text/html": [
       "<span style=\"color: blue; font-weight: bold;\">David</span> <span style=\"color: black; font-weight: regular;\">woke</span> <span style=\"color: black; font-weight: regular;\">up</span> <span style=\"color: black; font-weight: regular;\">.</span> <span style=\"color: blue; font-weight: bold;\">He</span> <span style=\"color: black; font-weight: regular;\">went</span> <span style=\"color: black; font-weight: regular;\">to</span> <span style=\"color: black; font-weight: regular;\">the</span> <span style=\"color: black; font-weight: regular;\">store</span> <span style=\"color: black; font-weight: regular;\">.</span>"
      ],
      "text/plain": [
       "<IPython.core.display.HTML object>"
      ]
     },
     "execution_count": 81,
     "metadata": {},
     "output_type": "execute_result"
    }
   ],
   "source": [
    "viz_clusters(Document.from_text('David woke up. He went to the store.'))"
   ]
  },
  {
   "cell_type": "code",
   "execution_count": 82,
   "metadata": {},
   "outputs": [
    {
     "data": {
      "text/html": [
       "<span style=\"color: blue; font-weight: bold;\">He</span> <span style=\"color: black; font-weight: regular;\">went</span> <span style=\"color: black; font-weight: regular;\">to</span> <span style=\"color: black; font-weight: regular;\">the</span> <span style=\"color: black; font-weight: regular;\">store</span> <span style=\"color: black; font-weight: regular;\">.</span> <span style=\"color: blue; font-weight: bold;\">David</span> <span style=\"color: black; font-weight: regular;\">woke</span> <span style=\"color: black; font-weight: regular;\">up</span>"
      ],
      "text/plain": [
       "<IPython.core.display.HTML object>"
      ]
     },
     "execution_count": 82,
     "metadata": {},
     "output_type": "execute_result"
    }
   ],
   "source": [
    "viz_clusters(Document.from_text('He went to the store. David woke up'))"
   ]
  },
  {
   "cell_type": "code",
   "execution_count": 83,
   "metadata": {},
   "outputs": [
    {
     "data": {
      "text/html": [
       "<span style=\"color: black; font-weight: regular;\">David</span> <span style=\"color: black; font-weight: regular;\">gave</span> <span style=\"color: blue; font-weight: bold;\">Kara</span> <span style=\"color: green; font-weight: bold;\">a</span> <span style=\"color: green; font-weight: bold;\">car</span> <span style=\"color: black; font-weight: regular;\">.</span> <span style=\"color: blue; font-weight: bold;\">She</span> <span style=\"color: black; font-weight: regular;\">drove</span> <span style=\"color: green; font-weight: bold;\">it</span> <span style=\"color: black; font-weight: regular;\">to</span> <span style=\"color: black; font-weight: regular;\">California</span> <span style=\"color: black; font-weight: regular;\">.</span>"
      ],
      "text/plain": [
       "<IPython.core.display.HTML object>"
      ]
     },
     "execution_count": 83,
     "metadata": {},
     "output_type": "execute_result"
    }
   ],
   "source": [
    "viz_clusters(Document.from_text('David gave Kara a car. She drove it to California.'))"
   ]
  },
  {
   "cell_type": "code",
   "execution_count": 84,
   "metadata": {},
   "outputs": [
    {
     "data": {
      "text/html": [
       "<span style=\"color: black; font-weight: regular;\">David</span> <span style=\"color: black; font-weight: regular;\">gave</span> <span style=\"color: blue; font-weight: bold;\">Kara</span> <span style=\"color: green; font-weight: bold;\">a</span> <span style=\"color: green; font-weight: bold;\">car</span> <span style=\"color: green; font-weight: bold;\">and</span> <span style=\"color: green; font-weight: bold;\">a</span> <span style=\"color: green; font-weight: bold;\">book</span> <span style=\"color: black; font-weight: regular;\">.</span> <span style=\"color: blue; font-weight: bold;\">She</span> <span style=\"color: black; font-weight: regular;\">drove</span> <span style=\"color: green; font-weight: bold;\">it</span> <span style=\"color: black; font-weight: regular;\">to</span> <span style=\"color: black; font-weight: regular;\">California</span> <span style=\"color: black; font-weight: regular;\">.</span>"
      ],
      "text/plain": [
       "<IPython.core.display.HTML object>"
      ]
     },
     "execution_count": 84,
     "metadata": {},
     "output_type": "execute_result"
    }
   ],
   "source": [
    "viz_clusters(Document.from_text('David gave Kara a car and a book. She drove it to California.'))"
   ]
  },
  {
   "cell_type": "code",
   "execution_count": 86,
   "metadata": {
    "scrolled": false
   },
   "outputs": [
    {
     "data": {
      "text/html": [
       "<span style=\"color: black; font-weight: regular;\">It</span> <span style=\"color: black; font-weight: regular;\">'s</span> <span style=\"color: black; font-weight: regular;\">also</span> <span style=\"color: black; font-weight: regular;\">,</span> <span style=\"color: black; font-weight: regular;\">you</span> <span style=\"color: black; font-weight: regular;\">know</span> <span style=\"color: black; font-weight: regular;\">,</span> <span style=\"color: black; font-weight: regular;\">tale</span> <span style=\"color: black; font-weight: regular;\">that</span> <span style=\"color: black; font-weight: regular;\">includes</span> <span style=\"color: black; font-weight: regular;\">family</span> <span style=\"color: black; font-weight: regular;\">love</span> <span style=\"color: black; font-weight: regular;\">,</span> <span style=\"color: black; font-weight: regular;\">you</span> <span style=\"color: black; font-weight: regular;\">know</span> <span style=\"color: black; font-weight: regular;\">,</span> <span style=\"color: black; font-weight: regular;\">and</span> <span style=\"color: black; font-weight: regular;\">a</span> <span style=\"color: black; font-weight: regular;\">lot</span> <span style=\"color: black; font-weight: regular;\">of</span> <span style=\"color: black; font-weight: regular;\">good</span> <span style=\"color: black; font-weight: regular;\">things</span> <span style=\"color: black; font-weight: regular;\">.</span> <span style=\"color: black; font-weight: regular;\">We</span> <span style=\"color: black; font-weight: regular;\">have</span> <span style=\"color: black; font-weight: regular;\">had</span> <span style=\"color: black; font-weight: regular;\">it</span> <span style=\"color: black; font-weight: regular;\">.</span>"
      ],
      "text/plain": [
       "<IPython.core.display.HTML object>"
      ]
     },
     "metadata": {},
     "output_type": "display_data"
    },
    {
     "data": {
      "text/html": [
       "<span style=\"color: black; font-weight: regular;\">We</span> <span style=\"color: black; font-weight: regular;\">have</span> <span style=\"color: black; font-weight: regular;\">had</span> <span style=\"color: black; font-weight: regular;\">it</span> <span style=\"color: black; font-weight: regular;\">.</span> <span style=\"color: black; font-weight: regular;\">It</span> <span style=\"color: black; font-weight: regular;\">'s</span> <span style=\"color: black; font-weight: regular;\">also</span> <span style=\"color: black; font-weight: regular;\">,</span> <span style=\"color: black; font-weight: regular;\">you</span> <span style=\"color: black; font-weight: regular;\">know</span> <span style=\"color: black; font-weight: regular;\">,</span> <span style=\"color: black; font-weight: regular;\">tale</span> <span style=\"color: black; font-weight: regular;\">that</span> <span style=\"color: black; font-weight: regular;\">includes</span> <span style=\"color: black; font-weight: regular;\">family</span> <span style=\"color: black; font-weight: regular;\">love</span> <span style=\"color: black; font-weight: regular;\">,</span> <span style=\"color: black; font-weight: regular;\">you</span> <span style=\"color: black; font-weight: regular;\">know</span> <span style=\"color: black; font-weight: regular;\">,</span> <span style=\"color: black; font-weight: regular;\">and</span> <span style=\"color: black; font-weight: regular;\">a</span> <span style=\"color: black; font-weight: regular;\">lot</span> <span style=\"color: black; font-weight: regular;\">of</span> <span style=\"color: black; font-weight: regular;\">good</span> <span style=\"color: black; font-weight: regular;\">things</span> <span style=\"color: black; font-weight: regular;\">.</span>"
      ],
      "text/plain": [
       "<IPython.core.display.HTML object>"
      ]
     },
     "metadata": {},
     "output_type": "display_data"
    },
    {
     "name": "stdout",
     "output_type": "stream",
     "text": [
      "---\n"
     ]
    },
    {
     "data": {
      "text/html": [
       "<span style=\"color: blue; font-weight: bold;\">Christ</span> <span style=\"color: black; font-weight: regular;\">went</span> <span style=\"color: black; font-weight: regular;\">into</span> <span style=\"color: black; font-weight: regular;\">heaven</span> <span style=\"color: black; font-weight: regular;\">,</span> <span style=\"color: black; font-weight: regular;\">but</span> <span style=\"color: black; font-weight: regular;\">not</span> <span style=\"color: black; font-weight: regular;\">to</span> <span style=\"color: black; font-weight: regular;\">offer</span> <span style=\"color: blue; font-weight: bold;\">himself</span> <span style=\"color: black; font-weight: regular;\">many</span> <span style=\"color: black; font-weight: regular;\">times</span> <span style=\"color: black; font-weight: regular;\">like</span> <span style=\"color: black; font-weight: regular;\">the</span> <span style=\"color: black; font-weight: regular;\">high</span> <span style=\"color: black; font-weight: regular;\">priest</span> <span style=\"color: black; font-weight: regular;\">offers</span> <span style=\"color: black; font-weight: regular;\">blood</span> <span style=\"color: black; font-weight: regular;\">again</span> <span style=\"color: black; font-weight: regular;\">and</span> <span style=\"color: black; font-weight: regular;\">again</span> <span style=\"color: black; font-weight: regular;\">.</span> <span style=\"color: black; font-weight: regular;\">If</span> <span style=\"color: blue; font-weight: bold;\">Christ</span> <span style=\"color: black; font-weight: regular;\">had</span> <span style=\"color: black; font-weight: regular;\">offered</span> <span style=\"color: blue; font-weight: bold;\">himself</span> <span style=\"color: black; font-weight: regular;\">many</span> <span style=\"color: black; font-weight: regular;\">times</span> <span style=\"color: black; font-weight: regular;\">,</span> <span style=\"color: blue; font-weight: bold;\">he</span> <span style=\"color: black; font-weight: regular;\">would</span> <span style=\"color: black; font-weight: regular;\">have</span> <span style=\"color: black; font-weight: regular;\">needed</span> <span style=\"color: black; font-weight: regular;\">to</span> <span style=\"color: black; font-weight: regular;\">suffer</span> <span style=\"color: black; font-weight: regular;\">many</span> <span style=\"color: black; font-weight: regular;\">times</span> <span style=\"color: black; font-weight: regular;\">since</span> <span style=\"color: black; font-weight: regular;\">the</span> <span style=\"color: black; font-weight: regular;\">time</span> <span style=\"color: black; font-weight: regular;\">the</span> <span style=\"color: black; font-weight: regular;\">world</span> <span style=\"color: black; font-weight: regular;\">was</span> <span style=\"color: black; font-weight: regular;\">made</span> <span style=\"color: black; font-weight: regular;\">.</span>"
      ],
      "text/plain": [
       "<IPython.core.display.HTML object>"
      ]
     },
     "metadata": {},
     "output_type": "display_data"
    },
    {
     "data": {
      "text/html": [
       "<span style=\"color: black; font-weight: regular;\">If</span> <span style=\"color: blue; font-weight: bold;\">Christ</span> <span style=\"color: black; font-weight: regular;\">had</span> <span style=\"color: black; font-weight: regular;\">offered</span> <span style=\"color: blue; font-weight: bold;\">himself</span> <span style=\"color: black; font-weight: regular;\">many</span> <span style=\"color: black; font-weight: regular;\">times</span> <span style=\"color: black; font-weight: regular;\">,</span> <span style=\"color: blue; font-weight: bold;\">he</span> <span style=\"color: black; font-weight: regular;\">would</span> <span style=\"color: black; font-weight: regular;\">have</span> <span style=\"color: black; font-weight: regular;\">needed</span> <span style=\"color: black; font-weight: regular;\">to</span> <span style=\"color: black; font-weight: regular;\">suffer</span> <span style=\"color: black; font-weight: regular;\">many</span> <span style=\"color: black; font-weight: regular;\">times</span> <span style=\"color: black; font-weight: regular;\">since</span> <span style=\"color: black; font-weight: regular;\">the</span> <span style=\"color: black; font-weight: regular;\">time</span> <span style=\"color: black; font-weight: regular;\">the</span> <span style=\"color: black; font-weight: regular;\">world</span> <span style=\"color: black; font-weight: regular;\">was</span> <span style=\"color: black; font-weight: regular;\">made</span> <span style=\"color: black; font-weight: regular;\">.</span> <span style=\"color: blue; font-weight: bold;\">Christ</span> <span style=\"color: black; font-weight: regular;\">went</span> <span style=\"color: black; font-weight: regular;\">into</span> <span style=\"color: black; font-weight: regular;\">heaven</span> <span style=\"color: black; font-weight: regular;\">,</span> <span style=\"color: black; font-weight: regular;\">but</span> <span style=\"color: black; font-weight: regular;\">not</span> <span style=\"color: black; font-weight: regular;\">to</span> <span style=\"color: black; font-weight: regular;\">offer</span> <span style=\"color: blue; font-weight: bold;\">himself</span> <span style=\"color: black; font-weight: regular;\">many</span> <span style=\"color: black; font-weight: regular;\">times</span> <span style=\"color: black; font-weight: regular;\">like</span> <span style=\"color: black; font-weight: regular;\">the</span> <span style=\"color: black; font-weight: regular;\">high</span> <span style=\"color: black; font-weight: regular;\">priest</span> <span style=\"color: black; font-weight: regular;\">offers</span> <span style=\"color: black; font-weight: regular;\">blood</span> <span style=\"color: black; font-weight: regular;\">again</span> <span style=\"color: black; font-weight: regular;\">and</span> <span style=\"color: black; font-weight: regular;\">again</span> <span style=\"color: black; font-weight: regular;\">.</span>"
      ],
      "text/plain": [
       "<IPython.core.display.HTML object>"
      ]
     },
     "metadata": {},
     "output_type": "display_data"
    },
    {
     "name": "stdout",
     "output_type": "stream",
     "text": [
      "---\n"
     ]
    },
    {
     "data": {
      "text/html": [
       "<span style=\"color: black; font-weight: regular;\">Our</span> <span style=\"color: black; font-weight: regular;\">side</span> <span style=\"color: black; font-weight: regular;\">:</span> <span style=\"color: black; font-weight: regular;\">A</span> <span style=\"color: black; font-weight: regular;\">02</span> <span style=\"color: black; font-weight: regular;\">Camary</span> <span style=\"color: black; font-weight: regular;\">of</span> <span style=\"color: black; font-weight: regular;\">50,000</span> <span style=\"color: black; font-weight: regular;\">miles</span> <span style=\"color: black; font-weight: regular;\">,</span> <span style=\"color: black; font-weight: regular;\">retaining</span> <span style=\"color: black; font-weight: regular;\">fee</span> <span style=\"color: black; font-weight: regular;\">200</span> <span style=\"color: black; font-weight: regular;\">.</span> <span style=\"color: black; font-weight: regular;\">Annual</span> <span style=\"color: black; font-weight: regular;\">leave</span> <span style=\"color: black; font-weight: regular;\">two</span> <span style=\"color: black; font-weight: regular;\">days</span> <span style=\"color: black; font-weight: regular;\">.</span> <span style=\"color: black; font-weight: regular;\">Their</span> <span style=\"color: black; font-weight: regular;\">side</span> <span style=\"color: black; font-weight: regular;\">:</span> <span style=\"color: black; font-weight: regular;\">One</span> <span style=\"color: black; font-weight: regular;\">leg</span> <span style=\"color: black; font-weight: regular;\">of</span> <span style=\"color: black; font-weight: regular;\">the</span> <span style=\"color: black; font-weight: regular;\">father</span> <span style=\"color: black; font-weight: regular;\">-LRB-</span> <span style=\"color: black; font-weight: regular;\">repaired</span> <span style=\"color: black; font-weight: regular;\">-RRB-</span> <span style=\"color: black; font-weight: regular;\">,</span> <span style=\"color: black; font-weight: regular;\">hospital</span> <span style=\"color: black; font-weight: regular;\">charge</span> <span style=\"color: black; font-weight: regular;\">:</span> <span style=\"color: black; font-weight: regular;\">unknown</span> <span style=\"color: black; font-weight: regular;\">,</span> <span style=\"color: black; font-weight: regular;\">costs</span> <span style=\"color: black; font-weight: regular;\">for</span> <span style=\"color: black; font-weight: regular;\">missing</span> <span style=\"color: black; font-weight: regular;\">work</span> <span style=\"color: black; font-weight: regular;\">hours</span> <span style=\"color: black; font-weight: regular;\">:</span> <span style=\"color: black; font-weight: regular;\">unknown</span> <span style=\"color: black; font-weight: regular;\">,</span> <span style=\"color: black; font-weight: regular;\">retaining</span> <span style=\"color: black; font-weight: regular;\">fee</span> <span style=\"color: black; font-weight: regular;\">:</span> <span style=\"color: black; font-weight: regular;\">unknown</span> <span style=\"color: black; font-weight: regular;\">.</span>"
      ],
      "text/plain": [
       "<IPython.core.display.HTML object>"
      ]
     },
     "metadata": {},
     "output_type": "display_data"
    },
    {
     "data": {
      "text/html": [
       "<span style=\"color: black; font-weight: regular;\">Their</span> <span style=\"color: black; font-weight: regular;\">side</span> <span style=\"color: black; font-weight: regular;\">:</span> <span style=\"color: black; font-weight: regular;\">One</span> <span style=\"color: black; font-weight: regular;\">leg</span> <span style=\"color: black; font-weight: regular;\">of</span> <span style=\"color: black; font-weight: regular;\">the</span> <span style=\"color: black; font-weight: regular;\">father</span> <span style=\"color: black; font-weight: regular;\">-LRB-</span> <span style=\"color: black; font-weight: regular;\">repaired</span> <span style=\"color: black; font-weight: regular;\">-RRB-</span> <span style=\"color: black; font-weight: regular;\">,</span> <span style=\"color: black; font-weight: regular;\">hospital</span> <span style=\"color: black; font-weight: regular;\">charge</span> <span style=\"color: black; font-weight: regular;\">:</span> <span style=\"color: black; font-weight: regular;\">unknown</span> <span style=\"color: black; font-weight: regular;\">,</span> <span style=\"color: black; font-weight: regular;\">costs</span> <span style=\"color: black; font-weight: regular;\">for</span> <span style=\"color: black; font-weight: regular;\">missing</span> <span style=\"color: black; font-weight: regular;\">work</span> <span style=\"color: black; font-weight: regular;\">hours</span> <span style=\"color: black; font-weight: regular;\">:</span> <span style=\"color: black; font-weight: regular;\">unknown</span> <span style=\"color: black; font-weight: regular;\">,</span> <span style=\"color: black; font-weight: regular;\">retaining</span> <span style=\"color: black; font-weight: regular;\">fee</span> <span style=\"color: black; font-weight: regular;\">:</span> <span style=\"color: black; font-weight: regular;\">unknown</span> <span style=\"color: black; font-weight: regular;\">.</span> <span style=\"color: black; font-weight: regular;\">Our</span> <span style=\"color: black; font-weight: regular;\">side</span> <span style=\"color: black; font-weight: regular;\">:</span> <span style=\"color: black; font-weight: regular;\">A</span> <span style=\"color: black; font-weight: regular;\">02</span> <span style=\"color: black; font-weight: regular;\">Camary</span> <span style=\"color: black; font-weight: regular;\">of</span> <span style=\"color: black; font-weight: regular;\">50,000</span> <span style=\"color: black; font-weight: regular;\">miles</span> <span style=\"color: black; font-weight: regular;\">,</span> <span style=\"color: black; font-weight: regular;\">retaining</span> <span style=\"color: black; font-weight: regular;\">fee</span> <span style=\"color: black; font-weight: regular;\">200</span> <span style=\"color: black; font-weight: regular;\">.</span> <span style=\"color: black; font-weight: regular;\">Annual</span> <span style=\"color: black; font-weight: regular;\">leave</span> <span style=\"color: black; font-weight: regular;\">two</span> <span style=\"color: black; font-weight: regular;\">days</span> <span style=\"color: black; font-weight: regular;\">.</span>"
      ],
      "text/plain": [
       "<IPython.core.display.HTML object>"
      ]
     },
     "metadata": {},
     "output_type": "display_data"
    },
    {
     "name": "stdout",
     "output_type": "stream",
     "text": [
      "---\n"
     ]
    },
    {
     "data": {
      "text/html": [
       "<span style=\"color: black; font-weight: regular;\">or</span> <span style=\"color: black; font-weight: regular;\">we</span> <span style=\"color: black; font-weight: regular;\">the</span> <span style=\"color: black; font-weight: regular;\">United</span> <span style=\"color: black; font-weight: regular;\">States</span> <span style=\"color: black; font-weight: regular;\">should</span> <span style=\"color: black; font-weight: regular;\">dismantle</span> <span style=\"color: black; font-weight: regular;\">it</span> <span style=\"color: black; font-weight: regular;\">/</span> <span style=\"color: black; font-weight: regular;\">.</span> <span style=\"color: black; font-weight: regular;\">Well</span> <span style=\"color: black; font-weight: regular;\">uh</span> <span style=\"color: black; font-weight: regular;\">with</span> <span style=\"color: black; font-weight: regular;\">all</span> <span style=\"color: black; font-weight: regular;\">due</span> <span style=\"color: black; font-weight: regular;\">respect</span> <span style=\"color: black; font-weight: regular;\">to</span> <span style=\"color: black; font-weight: regular;\">Speaker</span> <span style=\"color: black; font-weight: regular;\">Gingrich</span> <span style=\"color: black; font-weight: regular;\">we</span> <span style=\"color: black; font-weight: regular;\">are</span> <span style=\"color: black; font-weight: regular;\">on</span> <span style=\"color: black; font-weight: regular;\">a</span> <span style=\"color: black; font-weight: regular;\">course</span> <span style=\"color: black; font-weight: regular;\">which</span> <span style=\"color: black; font-weight: regular;\">has</span> <span style=\"color: black; font-weight: regular;\">a</span> <span style=\"color: black; font-weight: regular;\">reasonable</span> <span style=\"color: black; font-weight: regular;\">chance</span> <span style=\"color: black; font-weight: regular;\">of</span> <span style=\"color: black; font-weight: regular;\">success</span> <span style=\"color: black; font-weight: regular;\">/</span> <span style=\"color: black; font-weight: regular;\">.</span>"
      ],
      "text/plain": [
       "<IPython.core.display.HTML object>"
      ]
     },
     "metadata": {},
     "output_type": "display_data"
    },
    {
     "data": {
      "text/html": [
       "<span style=\"color: black; font-weight: regular;\">Well</span> <span style=\"color: black; font-weight: regular;\">uh</span> <span style=\"color: black; font-weight: regular;\">with</span> <span style=\"color: black; font-weight: regular;\">all</span> <span style=\"color: black; font-weight: regular;\">due</span> <span style=\"color: black; font-weight: regular;\">respect</span> <span style=\"color: black; font-weight: regular;\">to</span> <span style=\"color: black; font-weight: regular;\">Speaker</span> <span style=\"color: black; font-weight: regular;\">Gingrich</span> <span style=\"color: black; font-weight: regular;\">we</span> <span style=\"color: black; font-weight: regular;\">are</span> <span style=\"color: black; font-weight: regular;\">on</span> <span style=\"color: black; font-weight: regular;\">a</span> <span style=\"color: black; font-weight: regular;\">course</span> <span style=\"color: black; font-weight: regular;\">which</span> <span style=\"color: black; font-weight: regular;\">has</span> <span style=\"color: black; font-weight: regular;\">a</span> <span style=\"color: black; font-weight: regular;\">reasonable</span> <span style=\"color: black; font-weight: regular;\">chance</span> <span style=\"color: black; font-weight: regular;\">of</span> <span style=\"color: black; font-weight: regular;\">success</span> <span style=\"color: black; font-weight: regular;\">/</span> <span style=\"color: black; font-weight: regular;\">.</span> <span style=\"color: black; font-weight: regular;\">or</span> <span style=\"color: black; font-weight: regular;\">we</span> <span style=\"color: black; font-weight: regular;\">the</span> <span style=\"color: black; font-weight: regular;\">United</span> <span style=\"color: black; font-weight: regular;\">States</span> <span style=\"color: black; font-weight: regular;\">should</span> <span style=\"color: black; font-weight: regular;\">dismantle</span> <span style=\"color: black; font-weight: regular;\">it</span> <span style=\"color: black; font-weight: regular;\">/</span> <span style=\"color: black; font-weight: regular;\">.</span>"
      ],
      "text/plain": [
       "<IPython.core.display.HTML object>"
      ]
     },
     "metadata": {},
     "output_type": "display_data"
    },
    {
     "name": "stdout",
     "output_type": "stream",
     "text": [
      "---\n"
     ]
    },
    {
     "data": {
      "text/html": [
       "<span style=\"color: blue; font-weight: bold;\">you</span> <span style=\"color: black; font-weight: regular;\">have</span> <span style=\"color: black; font-weight: regular;\">Judy</span> <span style=\"color: black; font-weight: regular;\">Miller</span> <span style=\"color: black; font-weight: regular;\">there</span> <span style=\"color: black; font-weight: regular;\">/</span> <span style=\"color: black; font-weight: regular;\">.</span> <span style=\"color: blue; font-weight: bold;\">you</span> <span style=\"color: black; font-weight: regular;\">ask</span> <span style=\"color: black; font-weight: regular;\">about</span> <span style=\"color: black; font-weight: regular;\">Cheney</span> <span style=\"color: black; font-weight: regular;\">/</span> <span style=\"color: black; font-weight: regular;\">.</span> <span style=\"color: black; font-weight: regular;\">/</span> <span style=\"color: black; font-weight: regular;\">.</span>"
      ],
      "text/plain": [
       "<IPython.core.display.HTML object>"
      ]
     },
     "metadata": {},
     "output_type": "display_data"
    },
    {
     "data": {
      "text/html": [
       "<span style=\"color: black; font-weight: regular;\">you</span> <span style=\"color: black; font-weight: regular;\">ask</span> <span style=\"color: black; font-weight: regular;\">about</span> <span style=\"color: black; font-weight: regular;\">Cheney</span> <span style=\"color: black; font-weight: regular;\">/</span> <span style=\"color: black; font-weight: regular;\">.</span> <span style=\"color: black; font-weight: regular;\">/</span> <span style=\"color: black; font-weight: regular;\">.</span> <span style=\"color: black; font-weight: regular;\">you</span> <span style=\"color: black; font-weight: regular;\">have</span> <span style=\"color: black; font-weight: regular;\">Judy</span> <span style=\"color: black; font-weight: regular;\">Miller</span> <span style=\"color: black; font-weight: regular;\">there</span> <span style=\"color: black; font-weight: regular;\">/</span> <span style=\"color: black; font-weight: regular;\">.</span>"
      ],
      "text/plain": [
       "<IPython.core.display.HTML object>"
      ]
     },
     "metadata": {},
     "output_type": "display_data"
    },
    {
     "name": "stdout",
     "output_type": "stream",
     "text": [
      "---\n"
     ]
    },
    {
     "data": {
      "text/html": [
       "<span style=\"color: black; font-weight: regular;\">Alright</span> <span style=\"color: black; font-weight: regular;\">/</span> <span style=\"color: black; font-weight: regular;\">.</span> <span style=\"color: black; font-weight: regular;\">And</span> <span style=\"color: black; font-weight: regular;\">I</span> <span style=\"color: black; font-weight: regular;\">think</span> <span style=\"color: black; font-weight: regular;\">more</span> <span style=\"color: black; font-weight: regular;\">and</span> <span style=\"color: black; font-weight: regular;\">more</span> <span style=\"color: black; font-weight: regular;\">journalists</span> <span style=\"color: black; font-weight: regular;\">are</span> <span style=\"color: black; font-weight: regular;\">actually</span> <span style=\"color: black; font-weight: regular;\">taking</span> <span style=\"color: black; font-weight: regular;\">a</span> <span style=\"color: black; font-weight: regular;\">hard</span> <span style=\"color: black; font-weight: regular;\">look</span> <span style=\"color: black; font-weight: regular;\">at</span> <span style=\"color: black; font-weight: regular;\">what</span> <span style=\"color: black; font-weight: regular;\">this</span> <span style=\"color: black; font-weight: regular;\">administration</span> <span style=\"color: black; font-weight: regular;\">is</span> <span style=\"color: black; font-weight: regular;\">doing</span> <span style=\"color: black; font-weight: regular;\">/</span> <span style=\"color: black; font-weight: regular;\">.</span>"
      ],
      "text/plain": [
       "<IPython.core.display.HTML object>"
      ]
     },
     "metadata": {},
     "output_type": "display_data"
    },
    {
     "data": {
      "text/html": [
       "<span style=\"color: black; font-weight: regular;\">And</span> <span style=\"color: black; font-weight: regular;\">I</span> <span style=\"color: black; font-weight: regular;\">think</span> <span style=\"color: black; font-weight: regular;\">more</span> <span style=\"color: black; font-weight: regular;\">and</span> <span style=\"color: black; font-weight: regular;\">more</span> <span style=\"color: black; font-weight: regular;\">journalists</span> <span style=\"color: black; font-weight: regular;\">are</span> <span style=\"color: black; font-weight: regular;\">actually</span> <span style=\"color: black; font-weight: regular;\">taking</span> <span style=\"color: black; font-weight: regular;\">a</span> <span style=\"color: black; font-weight: regular;\">hard</span> <span style=\"color: black; font-weight: regular;\">look</span> <span style=\"color: black; font-weight: regular;\">at</span> <span style=\"color: black; font-weight: regular;\">what</span> <span style=\"color: black; font-weight: regular;\">this</span> <span style=\"color: black; font-weight: regular;\">administration</span> <span style=\"color: black; font-weight: regular;\">is</span> <span style=\"color: black; font-weight: regular;\">doing</span> <span style=\"color: black; font-weight: regular;\">/</span> <span style=\"color: black; font-weight: regular;\">.</span> <span style=\"color: black; font-weight: regular;\">Alright</span> <span style=\"color: black; font-weight: regular;\">/</span> <span style=\"color: black; font-weight: regular;\">.</span>"
      ],
      "text/plain": [
       "<IPython.core.display.HTML object>"
      ]
     },
     "metadata": {},
     "output_type": "display_data"
    },
    {
     "name": "stdout",
     "output_type": "stream",
     "text": [
      "---\n"
     ]
    },
    {
     "data": {
      "text/html": [
       "<span style=\"color: black; font-weight: regular;\">NEW</span> <span style=\"color: black; font-weight: regular;\">ACCOUNT</span> <span style=\"color: black; font-weight: regular;\">:</span> <span style=\"color: blue; font-weight: bold;\">California</span> <span style=\"color: blue; font-weight: bold;\">'s</span> <span style=\"color: blue; font-weight: bold;\">Glendale</span> <span style=\"color: blue; font-weight: bold;\">Federal</span> <span style=\"color: blue; font-weight: bold;\">Bank</span> <span style=\"color: black; font-weight: regular;\">awarded</span> <span style=\"color: blue; font-weight: bold;\">its</span> <span style=\"color: black; font-weight: regular;\">$</span> <span style=\"color: black; font-weight: regular;\">12</span> <span style=\"color: black; font-weight: regular;\">million</span> <span style=\"color: black; font-weight: regular;\">to</span> <span style=\"color: black; font-weight: regular;\">$</span> <span style=\"color: black; font-weight: regular;\">15</span> <span style=\"color: black; font-weight: regular;\">million</span> <span style=\"color: black; font-weight: regular;\">account</span> <span style=\"color: black; font-weight: regular;\">to</span> <span style=\"color: black; font-weight: regular;\">the</span> <span style=\"color: black; font-weight: regular;\">Los</span> <span style=\"color: black; font-weight: regular;\">Angeles</span> <span style=\"color: black; font-weight: regular;\">office</span> <span style=\"color: black; font-weight: regular;\">of</span> <span style=\"color: black; font-weight: regular;\">Omnicom</span> <span style=\"color: black; font-weight: regular;\">Group</span> <span style=\"color: black; font-weight: regular;\">'s</span> <span style=\"color: black; font-weight: regular;\">BBDO</span> <span style=\"color: black; font-weight: regular;\">agency</span> <span style=\"color: black; font-weight: regular;\">.</span>"
      ],
      "text/plain": [
       "<IPython.core.display.HTML object>"
      ]
     },
     "metadata": {},
     "output_type": "display_data"
    },
    {
     "data": {
      "text/html": [
       "<span style=\"color: blue; font-weight: bold;\">California</span> <span style=\"color: blue; font-weight: bold;\">'s</span> <span style=\"color: blue; font-weight: bold;\">Glendale</span> <span style=\"color: blue; font-weight: bold;\">Federal</span> <span style=\"color: blue; font-weight: bold;\">Bank</span> <span style=\"color: black; font-weight: regular;\">awarded</span> <span style=\"color: blue; font-weight: bold;\">its</span> <span style=\"color: black; font-weight: regular;\">$</span> <span style=\"color: black; font-weight: regular;\">12</span> <span style=\"color: black; font-weight: regular;\">million</span> <span style=\"color: black; font-weight: regular;\">to</span> <span style=\"color: black; font-weight: regular;\">$</span> <span style=\"color: black; font-weight: regular;\">15</span> <span style=\"color: black; font-weight: regular;\">million</span> <span style=\"color: black; font-weight: regular;\">account</span> <span style=\"color: black; font-weight: regular;\">to</span> <span style=\"color: black; font-weight: regular;\">the</span> <span style=\"color: black; font-weight: regular;\">Los</span> <span style=\"color: black; font-weight: regular;\">Angeles</span> <span style=\"color: black; font-weight: regular;\">office</span> <span style=\"color: black; font-weight: regular;\">of</span> <span style=\"color: black; font-weight: regular;\">Omnicom</span> <span style=\"color: black; font-weight: regular;\">Group</span> <span style=\"color: black; font-weight: regular;\">'s</span> <span style=\"color: black; font-weight: regular;\">BBDO</span> <span style=\"color: black; font-weight: regular;\">agency</span> <span style=\"color: black; font-weight: regular;\">.</span> <span style=\"color: black; font-weight: regular;\">NEW</span> <span style=\"color: black; font-weight: regular;\">ACCOUNT</span> <span style=\"color: black; font-weight: regular;\">:</span>"
      ],
      "text/plain": [
       "<IPython.core.display.HTML object>"
      ]
     },
     "metadata": {},
     "output_type": "display_data"
    },
    {
     "name": "stdout",
     "output_type": "stream",
     "text": [
      "---\n"
     ]
    },
    {
     "data": {
      "text/html": [
       "<span style=\"color: black; font-weight: regular;\">In</span> <span style=\"color: black; font-weight: regular;\">Greek</span> <span style=\"color: black; font-weight: regular;\">it</span> <span style=\"color: black; font-weight: regular;\">is</span> <span style=\"color: black; font-weight: regular;\">Apollyon</span> <span style=\"color: black; font-weight: regular;\">.</span> <span style=\"color: black; font-weight: regular;\">The</span> <span style=\"color: black; font-weight: regular;\">first</span> <span style=\"color: black; font-weight: regular;\">terror</span> <span style=\"color: black; font-weight: regular;\">is</span> <span style=\"color: black; font-weight: regular;\">now</span> <span style=\"color: black; font-weight: regular;\">past</span> <span style=\"color: black; font-weight: regular;\">.</span>"
      ],
      "text/plain": [
       "<IPython.core.display.HTML object>"
      ]
     },
     "metadata": {},
     "output_type": "display_data"
    },
    {
     "data": {
      "text/html": [
       "<span style=\"color: blue; font-weight: bold;\">The</span> <span style=\"color: blue; font-weight: bold;\">first</span> <span style=\"color: blue; font-weight: bold;\">terror</span> <span style=\"color: black; font-weight: regular;\">is</span> <span style=\"color: black; font-weight: regular;\">now</span> <span style=\"color: black; font-weight: regular;\">past</span> <span style=\"color: black; font-weight: regular;\">.</span> <span style=\"color: black; font-weight: regular;\">In</span> <span style=\"color: black; font-weight: regular;\">Greek</span> <span style=\"color: blue; font-weight: bold;\">it</span> <span style=\"color: black; font-weight: regular;\">is</span> <span style=\"color: black; font-weight: regular;\">Apollyon</span> <span style=\"color: black; font-weight: regular;\">.</span>"
      ],
      "text/plain": [
       "<IPython.core.display.HTML object>"
      ]
     },
     "metadata": {},
     "output_type": "display_data"
    },
    {
     "name": "stdout",
     "output_type": "stream",
     "text": [
      "---\n"
     ]
    },
    {
     "data": {
      "text/html": [
       "<span style=\"color: black; font-weight: regular;\">You</span> <span style=\"color: black; font-weight: regular;\">quoted</span> <span style=\"color: black; font-weight: regular;\">one</span> <span style=\"color: black; font-weight: regular;\">US</span> <span style=\"color: black; font-weight: regular;\">senior</span> <span style=\"color: black; font-weight: regular;\">official</span> <span style=\"color: black; font-weight: regular;\">and</span> <span style=\"color: black; font-weight: regular;\">what</span> <span style=\"color: black; font-weight: regular;\">the</span> <span style=\"color: black; font-weight: regular;\">President</span> <span style=\"color: black; font-weight: regular;\">of</span> <span style=\"color: black; font-weight: regular;\">the</span> <span style=\"color: black; font-weight: regular;\">United</span> <span style=\"color: black; font-weight: regular;\">States</span> <span style=\"color: black; font-weight: regular;\">and</span> <span style=\"color: black; font-weight: regular;\">the</span> <span style=\"color: black; font-weight: regular;\">Vice</span> <span style=\"color: black; font-weight: regular;\">President</span> <span style=\"color: black; font-weight: regular;\">and</span> <span style=\"color: black; font-weight: regular;\">the</span> <span style=\"color: black; font-weight: regular;\">Secretary</span> <span style=\"color: black; font-weight: regular;\">of</span> <span style=\"color: black; font-weight: regular;\">Defense</span> <span style=\"color: black; font-weight: regular;\">are</span> <span style=\"color: black; font-weight: regular;\">saying</span> <span style=\"color: black; font-weight: regular;\">to</span> <span style=\"color: black; font-weight: regular;\">reporters</span> <span style=\"color: black; font-weight: regular;\">every</span> <span style=\"color: black; font-weight: regular;\">day</span> <span style=\"color: black; font-weight: regular;\">/</span> <span style=\"color: black; font-weight: regular;\">.</span> <span style=\"color: black; font-weight: regular;\">Are</span> <span style=\"color: black; font-weight: regular;\">we</span> <span style=\"color: black; font-weight: regular;\">calling</span> <span style=\"color: black; font-weight: regular;\">them</span> <span style=\"color: black; font-weight: regular;\">on</span> <span style=\"color: black; font-weight: regular;\">that</span> <span style=\"color: black; font-weight: regular;\">/</span> <span style=\"color: black; font-weight: regular;\">?</span>"
      ],
      "text/plain": [
       "<IPython.core.display.HTML object>"
      ]
     },
     "metadata": {},
     "output_type": "display_data"
    },
    {
     "data": {
      "text/html": [
       "<span style=\"color: black; font-weight: regular;\">Are</span> <span style=\"color: black; font-weight: regular;\">we</span> <span style=\"color: black; font-weight: regular;\">calling</span> <span style=\"color: black; font-weight: regular;\">them</span> <span style=\"color: black; font-weight: regular;\">on</span> <span style=\"color: black; font-weight: regular;\">that</span> <span style=\"color: black; font-weight: regular;\">/</span> <span style=\"color: black; font-weight: regular;\">?</span> <span style=\"color: black; font-weight: regular;\">You</span> <span style=\"color: black; font-weight: regular;\">quoted</span> <span style=\"color: black; font-weight: regular;\">one</span> <span style=\"color: black; font-weight: regular;\">US</span> <span style=\"color: black; font-weight: regular;\">senior</span> <span style=\"color: black; font-weight: regular;\">official</span> <span style=\"color: black; font-weight: regular;\">and</span> <span style=\"color: black; font-weight: regular;\">what</span> <span style=\"color: black; font-weight: regular;\">the</span> <span style=\"color: black; font-weight: regular;\">President</span> <span style=\"color: black; font-weight: regular;\">of</span> <span style=\"color: black; font-weight: regular;\">the</span> <span style=\"color: black; font-weight: regular;\">United</span> <span style=\"color: black; font-weight: regular;\">States</span> <span style=\"color: black; font-weight: regular;\">and</span> <span style=\"color: black; font-weight: regular;\">the</span> <span style=\"color: black; font-weight: regular;\">Vice</span> <span style=\"color: black; font-weight: regular;\">President</span> <span style=\"color: black; font-weight: regular;\">and</span> <span style=\"color: black; font-weight: regular;\">the</span> <span style=\"color: black; font-weight: regular;\">Secretary</span> <span style=\"color: black; font-weight: regular;\">of</span> <span style=\"color: black; font-weight: regular;\">Defense</span> <span style=\"color: black; font-weight: regular;\">are</span> <span style=\"color: black; font-weight: regular;\">saying</span> <span style=\"color: black; font-weight: regular;\">to</span> <span style=\"color: black; font-weight: regular;\">reporters</span> <span style=\"color: black; font-weight: regular;\">every</span> <span style=\"color: black; font-weight: regular;\">day</span> <span style=\"color: black; font-weight: regular;\">/</span> <span style=\"color: black; font-weight: regular;\">.</span>"
      ],
      "text/plain": [
       "<IPython.core.display.HTML object>"
      ]
     },
     "metadata": {},
     "output_type": "display_data"
    },
    {
     "name": "stdout",
     "output_type": "stream",
     "text": [
      "---\n"
     ]
    },
    {
     "data": {
      "text/html": [
       "<span style=\"color: black; font-weight: regular;\">That</span> <span style=\"color: black; font-weight: regular;\">does</span> <span style=\"color: black; font-weight: regular;\">n't</span> <span style=\"color: black; font-weight: regular;\">work</span> <span style=\"color: black; font-weight: regular;\">for</span> <span style=\"color: black; font-weight: regular;\">Japan</span> <span style=\"color: black; font-weight: regular;\">/</span> <span style=\"color: black; font-weight: regular;\">.</span> <span style=\"color: black; font-weight: regular;\">it</span> <span style=\"color: black; font-weight: regular;\">does</span> <span style=\"color: black; font-weight: regular;\">n't</span> <span style=\"color: black; font-weight: regular;\">work</span> <span style=\"color: black; font-weight: regular;\">with</span> <span style=\"color: black; font-weight: regular;\">South</span> <span style=\"color: black; font-weight: regular;\">Korea</span> <span style=\"color: black; font-weight: regular;\">/</span> <span style=\"color: black; font-weight: regular;\">.</span>"
      ],
      "text/plain": [
       "<IPython.core.display.HTML object>"
      ]
     },
     "metadata": {},
     "output_type": "display_data"
    },
    {
     "data": {
      "text/html": [
       "<span style=\"color: black; font-weight: regular;\">it</span> <span style=\"color: black; font-weight: regular;\">does</span> <span style=\"color: black; font-weight: regular;\">n't</span> <span style=\"color: black; font-weight: regular;\">work</span> <span style=\"color: black; font-weight: regular;\">with</span> <span style=\"color: black; font-weight: regular;\">South</span> <span style=\"color: black; font-weight: regular;\">Korea</span> <span style=\"color: black; font-weight: regular;\">/</span> <span style=\"color: black; font-weight: regular;\">.</span> <span style=\"color: black; font-weight: regular;\">That</span> <span style=\"color: black; font-weight: regular;\">does</span> <span style=\"color: black; font-weight: regular;\">n't</span> <span style=\"color: black; font-weight: regular;\">work</span> <span style=\"color: black; font-weight: regular;\">for</span> <span style=\"color: black; font-weight: regular;\">Japan</span> <span style=\"color: black; font-weight: regular;\">/</span> <span style=\"color: black; font-weight: regular;\">.</span>"
      ],
      "text/plain": [
       "<IPython.core.display.HTML object>"
      ]
     },
     "metadata": {},
     "output_type": "display_data"
    },
    {
     "name": "stdout",
     "output_type": "stream",
     "text": [
      "---\n"
     ]
    },
    {
     "data": {
      "text/html": [
       "<span style=\"color: black; font-weight: regular;\">The</span> <span style=\"color: black; font-weight: regular;\">family</span> <span style=\"color: black; font-weight: regular;\">says</span> <span style=\"color: blue; font-weight: bold;\">the</span> <span style=\"color: blue; font-weight: bold;\">chicken</span> <span style=\"color: black; font-weight: regular;\">keeps</span> <span style=\"color: black; font-weight: regular;\">the</span> <span style=\"color: black; font-weight: regular;\">place</span> <span style=\"color: black; font-weight: regular;\">clean</span> <span style=\"color: black; font-weight: regular;\">,</span> <span style=\"color: black; font-weight: regular;\">so</span> <span style=\"color: black; font-weight: regular;\">she</span> <span style=\"color: black; font-weight: regular;\">'s</span> <span style=\"color: black; font-weight: regular;\">free</span> <span style=\"color: black; font-weight: regular;\">to</span> <span style=\"color: black; font-weight: regular;\">stay</span> <span style=\"color: black; font-weight: regular;\">.</span> <span style=\"color: black; font-weight: regular;\">A</span> <span style=\"color: black; font-weight: regular;\">pretty</span> <span style=\"color: black; font-weight: regular;\">good</span> <span style=\"color: black; font-weight: regular;\">relationship</span> <span style=\"color: black; font-weight: regular;\">with</span> <span style=\"color: blue; font-weight: bold;\">that</span> <span style=\"color: blue; font-weight: bold;\">chicken</span> <span style=\"color: black; font-weight: regular;\">.</span>"
      ],
      "text/plain": [
       "<IPython.core.display.HTML object>"
      ]
     },
     "metadata": {},
     "output_type": "display_data"
    },
    {
     "data": {
      "text/html": [
       "<span style=\"color: black; font-weight: regular;\">A</span> <span style=\"color: black; font-weight: regular;\">pretty</span> <span style=\"color: black; font-weight: regular;\">good</span> <span style=\"color: black; font-weight: regular;\">relationship</span> <span style=\"color: black; font-weight: regular;\">with</span> <span style=\"color: blue; font-weight: bold;\">that</span> <span style=\"color: blue; font-weight: bold;\">chicken</span> <span style=\"color: black; font-weight: regular;\">.</span> <span style=\"color: black; font-weight: regular;\">The</span> <span style=\"color: black; font-weight: regular;\">family</span> <span style=\"color: black; font-weight: regular;\">says</span> <span style=\"color: blue; font-weight: bold;\">the</span> <span style=\"color: blue; font-weight: bold;\">chicken</span> <span style=\"color: black; font-weight: regular;\">keeps</span> <span style=\"color: black; font-weight: regular;\">the</span> <span style=\"color: black; font-weight: regular;\">place</span> <span style=\"color: black; font-weight: regular;\">clean</span> <span style=\"color: black; font-weight: regular;\">,</span> <span style=\"color: black; font-weight: regular;\">so</span> <span style=\"color: black; font-weight: regular;\">she</span> <span style=\"color: black; font-weight: regular;\">'s</span> <span style=\"color: black; font-weight: regular;\">free</span> <span style=\"color: black; font-weight: regular;\">to</span> <span style=\"color: black; font-weight: regular;\">stay</span> <span style=\"color: black; font-weight: regular;\">.</span>"
      ],
      "text/plain": [
       "<IPython.core.display.HTML object>"
      ]
     },
     "metadata": {},
     "output_type": "display_data"
    },
    {
     "name": "stdout",
     "output_type": "stream",
     "text": [
      "---\n"
     ]
    },
    {
     "data": {
      "text/html": [
       "<span style=\"color: black; font-weight: regular;\">I</span> <span style=\"color: black; font-weight: regular;\">got</span> <span style=\"color: black; font-weight: regular;\">a</span> <span style=\"color: black; font-weight: regular;\">visceral</span> <span style=\"color: black; font-weight: regular;\">reaction</span> <span style=\"color: black; font-weight: regular;\">to</span> <span style=\"color: black; font-weight: regular;\">this</span> <span style=\"color: black; font-weight: regular;\">guy</span> <span style=\"color: black; font-weight: regular;\">/</span> <span style=\"color: black; font-weight: regular;\">.</span> <span style=\"color: black; font-weight: regular;\">And</span> <span style=\"color: black; font-weight: regular;\">then</span> <span style=\"color: black; font-weight: regular;\">in</span> <span style=\"color: black; font-weight: regular;\">two</span> <span style=\"color: black; font-weight: regular;\">thousand</span> <span style=\"color: black; font-weight: regular;\">four</span> <span style=\"color: black; font-weight: regular;\">there</span> <span style=\"color: black; font-weight: regular;\">'s</span> <span style=\"color: black; font-weight: regular;\">a</span> <span style=\"color: black; font-weight: regular;\">tyrant</span> <span style=\"color: black; font-weight: regular;\">in</span> <span style=\"color: black; font-weight: regular;\">North</span> <span style=\"color: black; font-weight: regular;\">Korea</span> <span style=\"color: black; font-weight: regular;\">that</span> <span style=\"color: black; font-weight: regular;\">wants</span> <span style=\"color: black; font-weight: regular;\">to</span> <span style=\"color: black; font-weight: regular;\">develop</span> <span style=\"color: black; font-weight: regular;\">a</span> <span style=\"color: black; font-weight: regular;\">nuclear</span> <span style=\"color: black; font-weight: regular;\">weapon</span> <span style=\"color: black; font-weight: regular;\">/</span> <span style=\"color: black; font-weight: regular;\">.</span>"
      ],
      "text/plain": [
       "<IPython.core.display.HTML object>"
      ]
     },
     "metadata": {},
     "output_type": "display_data"
    },
    {
     "data": {
      "text/html": [
       "<span style=\"color: black; font-weight: regular;\">And</span> <span style=\"color: black; font-weight: regular;\">then</span> <span style=\"color: black; font-weight: regular;\">in</span> <span style=\"color: black; font-weight: regular;\">two</span> <span style=\"color: black; font-weight: regular;\">thousand</span> <span style=\"color: black; font-weight: regular;\">four</span> <span style=\"color: black; font-weight: regular;\">there</span> <span style=\"color: black; font-weight: regular;\">'s</span> <span style=\"color: black; font-weight: regular;\">a</span> <span style=\"color: black; font-weight: regular;\">tyrant</span> <span style=\"color: black; font-weight: regular;\">in</span> <span style=\"color: black; font-weight: regular;\">North</span> <span style=\"color: black; font-weight: regular;\">Korea</span> <span style=\"color: black; font-weight: regular;\">that</span> <span style=\"color: black; font-weight: regular;\">wants</span> <span style=\"color: black; font-weight: regular;\">to</span> <span style=\"color: black; font-weight: regular;\">develop</span> <span style=\"color: black; font-weight: regular;\">a</span> <span style=\"color: black; font-weight: regular;\">nuclear</span> <span style=\"color: black; font-weight: regular;\">weapon</span> <span style=\"color: black; font-weight: regular;\">/</span> <span style=\"color: black; font-weight: regular;\">.</span> <span style=\"color: black; font-weight: regular;\">I</span> <span style=\"color: black; font-weight: regular;\">got</span> <span style=\"color: black; font-weight: regular;\">a</span> <span style=\"color: black; font-weight: regular;\">visceral</span> <span style=\"color: black; font-weight: regular;\">reaction</span> <span style=\"color: black; font-weight: regular;\">to</span> <span style=\"color: black; font-weight: regular;\">this</span> <span style=\"color: black; font-weight: regular;\">guy</span> <span style=\"color: black; font-weight: regular;\">/</span> <span style=\"color: black; font-weight: regular;\">.</span>"
      ],
      "text/plain": [
       "<IPython.core.display.HTML object>"
      ]
     },
     "metadata": {},
     "output_type": "display_data"
    },
    {
     "name": "stdout",
     "output_type": "stream",
     "text": [
      "---\n"
     ]
    },
    {
     "data": {
      "text/html": [
       "<span style=\"color: black; font-weight: regular;\">Those</span> <span style=\"color: black; font-weight: regular;\">are</span> <span style=\"color: black; font-weight: regular;\">the</span> <span style=\"color: black; font-weight: regular;\">headlines</span> <span style=\"color: black; font-weight: regular;\">this</span> <span style=\"color: black; font-weight: regular;\">morning</span> <span style=\"color: black; font-weight: regular;\">/</span> <span style=\"color: black; font-weight: regular;\">.</span> <span style=\"color: black; font-weight: regular;\">I</span> <span style=\"color: black; font-weight: regular;\">'m</span> <span style=\"color: black; font-weight: regular;\">in</span> <span style=\"color: black; font-weight: regular;\">Atlanta</span> <span style=\"color: black; font-weight: regular;\">/</span> <span style=\"color: black; font-weight: regular;\">.</span>"
      ],
      "text/plain": [
       "<IPython.core.display.HTML object>"
      ]
     },
     "metadata": {},
     "output_type": "display_data"
    },
    {
     "data": {
      "text/html": [
       "<span style=\"color: black; font-weight: regular;\">I</span> <span style=\"color: black; font-weight: regular;\">'m</span> <span style=\"color: black; font-weight: regular;\">in</span> <span style=\"color: black; font-weight: regular;\">Atlanta</span> <span style=\"color: black; font-weight: regular;\">/</span> <span style=\"color: black; font-weight: regular;\">.</span> <span style=\"color: black; font-weight: regular;\">Those</span> <span style=\"color: black; font-weight: regular;\">are</span> <span style=\"color: black; font-weight: regular;\">the</span> <span style=\"color: black; font-weight: regular;\">headlines</span> <span style=\"color: black; font-weight: regular;\">this</span> <span style=\"color: black; font-weight: regular;\">morning</span> <span style=\"color: black; font-weight: regular;\">/</span> <span style=\"color: black; font-weight: regular;\">.</span>"
      ],
      "text/plain": [
       "<IPython.core.display.HTML object>"
      ]
     },
     "metadata": {},
     "output_type": "display_data"
    },
    {
     "name": "stdout",
     "output_type": "stream",
     "text": [
      "---\n"
     ]
    },
    {
     "data": {
      "text/html": [
       "<span style=\"color: black; font-weight: regular;\">Jesus</span> <span style=\"color: black; font-weight: regular;\">said</span> <span style=\"color: black; font-weight: regular;\">,</span> <span style=\"color: black; font-weight: regular;\">``</span> <span style=\"color: black; font-weight: regular;\">Today</span> <span style=\"color: black; font-weight: regular;\">is</span> <span style=\"color: black; font-weight: regular;\">the</span> <span style=\"color: black; font-weight: regular;\">day</span> <span style=\"color: black; font-weight: regular;\">for</span> <span style=\"color: black; font-weight: regular;\">this</span> <span style=\"color: black; font-weight: regular;\">family</span> <span style=\"color: black; font-weight: regular;\">to</span> <span style=\"color: black; font-weight: regular;\">be</span> <span style=\"color: black; font-weight: regular;\">saved</span> <span style=\"color: black; font-weight: regular;\">from</span> <span style=\"color: black; font-weight: regular;\">sin</span> <span style=\"color: black; font-weight: regular;\">.</span> <span style=\"color: black; font-weight: regular;\">Yes</span> <span style=\"color: black; font-weight: regular;\">,</span> <span style=\"color: black; font-weight: regular;\">even</span> <span style=\"color: black; font-weight: regular;\">this</span> <span style=\"color: black; font-weight: regular;\">tax</span> <span style=\"color: black; font-weight: regular;\">collector</span> <span style=\"color: black; font-weight: regular;\">is</span> <span style=\"color: black; font-weight: regular;\">one</span> <span style=\"color: black; font-weight: regular;\">of</span> <span style=\"color: black; font-weight: regular;\">God</span> <span style=\"color: black; font-weight: regular;\">'s</span> <span style=\"color: black; font-weight: regular;\">chosen</span> <span style=\"color: black; font-weight: regular;\">people</span> <span style=\"color: black; font-weight: regular;\">.</span>"
      ],
      "text/plain": [
       "<IPython.core.display.HTML object>"
      ]
     },
     "metadata": {},
     "output_type": "display_data"
    },
    {
     "data": {
      "text/html": [
       "<span style=\"color: black; font-weight: regular;\">Yes</span> <span style=\"color: black; font-weight: regular;\">,</span> <span style=\"color: black; font-weight: regular;\">even</span> <span style=\"color: black; font-weight: regular;\">this</span> <span style=\"color: black; font-weight: regular;\">tax</span> <span style=\"color: black; font-weight: regular;\">collector</span> <span style=\"color: black; font-weight: regular;\">is</span> <span style=\"color: black; font-weight: regular;\">one</span> <span style=\"color: black; font-weight: regular;\">of</span> <span style=\"color: black; font-weight: regular;\">God</span> <span style=\"color: black; font-weight: regular;\">'s</span> <span style=\"color: black; font-weight: regular;\">chosen</span> <span style=\"color: black; font-weight: regular;\">people</span> <span style=\"color: black; font-weight: regular;\">.</span> <span style=\"color: black; font-weight: regular;\">Jesus</span> <span style=\"color: black; font-weight: regular;\">said</span> <span style=\"color: black; font-weight: regular;\">,</span> <span style=\"color: black; font-weight: regular;\">``</span> <span style=\"color: black; font-weight: regular;\">Today</span> <span style=\"color: black; font-weight: regular;\">is</span> <span style=\"color: black; font-weight: regular;\">the</span> <span style=\"color: black; font-weight: regular;\">day</span> <span style=\"color: black; font-weight: regular;\">for</span> <span style=\"color: black; font-weight: regular;\">this</span> <span style=\"color: black; font-weight: regular;\">family</span> <span style=\"color: black; font-weight: regular;\">to</span> <span style=\"color: black; font-weight: regular;\">be</span> <span style=\"color: black; font-weight: regular;\">saved</span> <span style=\"color: black; font-weight: regular;\">from</span> <span style=\"color: black; font-weight: regular;\">sin</span> <span style=\"color: black; font-weight: regular;\">.</span>"
      ],
      "text/plain": [
       "<IPython.core.display.HTML object>"
      ]
     },
     "metadata": {},
     "output_type": "display_data"
    },
    {
     "name": "stdout",
     "output_type": "stream",
     "text": [
      "---\n"
     ]
    },
    {
     "data": {
      "text/html": [
       "<span style=\"color: black; font-weight: regular;\">%</span> <span style=\"color: black; font-weight: regular;\">mm</span> <span style=\"color: black; font-weight: regular;\">.</span> <span style=\"color: black; font-weight: regular;\">So</span> <span style=\"color: black; font-weight: regular;\">I</span> <span style=\"color: black; font-weight: regular;\">'m</span> <span style=\"color: black; font-weight: regular;\">quite</span> <span style=\"color: black; font-weight: regular;\">pleased</span> <span style=\"color: black; font-weight: regular;\">.</span>"
      ],
      "text/plain": [
       "<IPython.core.display.HTML object>"
      ]
     },
     "metadata": {},
     "output_type": "display_data"
    },
    {
     "data": {
      "text/html": [
       "<span style=\"color: black; font-weight: regular;\">So</span> <span style=\"color: black; font-weight: regular;\">I</span> <span style=\"color: black; font-weight: regular;\">'m</span> <span style=\"color: black; font-weight: regular;\">quite</span> <span style=\"color: black; font-weight: regular;\">pleased</span> <span style=\"color: black; font-weight: regular;\">.</span> <span style=\"color: black; font-weight: regular;\">%</span> <span style=\"color: black; font-weight: regular;\">mm</span> <span style=\"color: black; font-weight: regular;\">.</span>"
      ],
      "text/plain": [
       "<IPython.core.display.HTML object>"
      ]
     },
     "metadata": {},
     "output_type": "display_data"
    },
    {
     "name": "stdout",
     "output_type": "stream",
     "text": [
      "---\n"
     ]
    },
    {
     "data": {
      "text/html": [
       "<span style=\"color: black; font-weight: regular;\">But</span> <span style=\"color: black; font-weight: regular;\">we</span> <span style=\"color: black; font-weight: regular;\">do</span> <span style=\"color: black; font-weight: regular;\">n't</span> <span style=\"color: black; font-weight: regular;\">use</span> <span style=\"color: black; font-weight: regular;\">this</span> <span style=\"color: black; font-weight: regular;\">right</span> <span style=\"color: black; font-weight: regular;\">.</span> <span style=\"color: black; font-weight: regular;\">No</span> <span style=\"color: black; font-weight: regular;\">,</span> <span style=\"color: black; font-weight: regular;\">we</span> <span style=\"color: black; font-weight: regular;\">endure</span> <span style=\"color: black; font-weight: regular;\">everything</span> <span style=\"color: black; font-weight: regular;\">ourselves</span> <span style=\"color: black; font-weight: regular;\">so</span> <span style=\"color: black; font-weight: regular;\">that</span> <span style=\"color: black; font-weight: regular;\">we</span> <span style=\"color: black; font-weight: regular;\">will</span> <span style=\"color: black; font-weight: regular;\">not</span> <span style=\"color: black; font-weight: regular;\">stop</span> <span style=\"color: black; font-weight: regular;\">anyone</span> <span style=\"color: black; font-weight: regular;\">from</span> <span style=\"color: black; font-weight: regular;\">obeying</span> <span style=\"color: black; font-weight: regular;\">the</span> <span style=\"color: black; font-weight: regular;\">Good</span> <span style=\"color: black; font-weight: regular;\">News</span> <span style=\"color: black; font-weight: regular;\">of</span> <span style=\"color: black; font-weight: regular;\">Christ</span> <span style=\"color: black; font-weight: regular;\">.</span>"
      ],
      "text/plain": [
       "<IPython.core.display.HTML object>"
      ]
     },
     "metadata": {},
     "output_type": "display_data"
    },
    {
     "data": {
      "text/html": [
       "<span style=\"color: black; font-weight: regular;\">No</span> <span style=\"color: black; font-weight: regular;\">,</span> <span style=\"color: black; font-weight: regular;\">we</span> <span style=\"color: black; font-weight: regular;\">endure</span> <span style=\"color: black; font-weight: regular;\">everything</span> <span style=\"color: black; font-weight: regular;\">ourselves</span> <span style=\"color: black; font-weight: regular;\">so</span> <span style=\"color: black; font-weight: regular;\">that</span> <span style=\"color: black; font-weight: regular;\">we</span> <span style=\"color: black; font-weight: regular;\">will</span> <span style=\"color: black; font-weight: regular;\">not</span> <span style=\"color: black; font-weight: regular;\">stop</span> <span style=\"color: black; font-weight: regular;\">anyone</span> <span style=\"color: black; font-weight: regular;\">from</span> <span style=\"color: black; font-weight: regular;\">obeying</span> <span style=\"color: black; font-weight: regular;\">the</span> <span style=\"color: black; font-weight: regular;\">Good</span> <span style=\"color: black; font-weight: regular;\">News</span> <span style=\"color: black; font-weight: regular;\">of</span> <span style=\"color: black; font-weight: regular;\">Christ</span> <span style=\"color: black; font-weight: regular;\">.</span> <span style=\"color: black; font-weight: regular;\">But</span> <span style=\"color: black; font-weight: regular;\">we</span> <span style=\"color: black; font-weight: regular;\">do</span> <span style=\"color: black; font-weight: regular;\">n't</span> <span style=\"color: black; font-weight: regular;\">use</span> <span style=\"color: black; font-weight: regular;\">this</span> <span style=\"color: black; font-weight: regular;\">right</span> <span style=\"color: black; font-weight: regular;\">.</span>"
      ],
      "text/plain": [
       "<IPython.core.display.HTML object>"
      ]
     },
     "metadata": {},
     "output_type": "display_data"
    },
    {
     "name": "stdout",
     "output_type": "stream",
     "text": [
      "---\n"
     ]
    },
    {
     "data": {
      "text/html": [
       "<span style=\"color: black; font-weight: regular;\">But</span> <span style=\"color: blue; font-weight: bold;\">Mr.</span> <span style=\"color: blue; font-weight: bold;\">Davis</span> <span style=\"color: blue; font-weight: bold;\">,</span> <span style=\"color: blue; font-weight: bold;\">whose</span> <span style=\"color: blue; font-weight: bold;\">views</span> <span style=\"color: black; font-weight: regular;\">are</span> <span style=\"color: black; font-weight: regular;\">widely</span> <span style=\"color: black; font-weight: regular;\">respected</span> <span style=\"color: black; font-weight: regular;\">by</span> <span style=\"color: black; font-weight: regular;\">money</span> <span style=\"color: black; font-weight: regular;\">managers</span> <span style=\"color: black; font-weight: regular;\">,</span> <span style=\"color: black; font-weight: regular;\">says</span> <span style=\"color: blue; font-weight: bold;\">he</span> <span style=\"color: black; font-weight: regular;\">expects</span> <span style=\"color: black; font-weight: regular;\">no</span> <span style=\"color: black; font-weight: regular;\">1987</span> <span style=\"color: black; font-weight: regular;\">-</span> <span style=\"color: black; font-weight: regular;\">style</span> <span style=\"color: black; font-weight: regular;\">crash</span> <span style=\"color: black; font-weight: regular;\">.</span> <span style=\"color: black; font-weight: regular;\">``</span> <span style=\"color: black; font-weight: regular;\">There</span> <span style=\"color: black; font-weight: regular;\">was</span> <span style=\"color: black; font-weight: regular;\">a</span> <span style=\"color: black; font-weight: regular;\">unique</span> <span style=\"color: black; font-weight: regular;\">combination</span> <span style=\"color: black; font-weight: regular;\">in</span> <span style=\"color: black; font-weight: regular;\">1987</span> <span style=\"color: black; font-weight: regular;\">,</span> <span style=\"color: black; font-weight: regular;\">''</span> <span style=\"color: blue; font-weight: bold;\">he</span> <span style=\"color: black; font-weight: regular;\">says</span> <span style=\"color: black; font-weight: regular;\">.</span>"
      ],
      "text/plain": [
       "<IPython.core.display.HTML object>"
      ]
     },
     "metadata": {},
     "output_type": "display_data"
    },
    {
     "data": {
      "text/html": [
       "<span style=\"color: black; font-weight: regular;\">``</span> <span style=\"color: black; font-weight: regular;\">There</span> <span style=\"color: black; font-weight: regular;\">was</span> <span style=\"color: black; font-weight: regular;\">a</span> <span style=\"color: black; font-weight: regular;\">unique</span> <span style=\"color: black; font-weight: regular;\">combination</span> <span style=\"color: black; font-weight: regular;\">in</span> <span style=\"color: black; font-weight: regular;\">1987</span> <span style=\"color: black; font-weight: regular;\">,</span> <span style=\"color: black; font-weight: regular;\">''</span> <span style=\"color: blue; font-weight: bold;\">he</span> <span style=\"color: black; font-weight: regular;\">says</span> <span style=\"color: black; font-weight: regular;\">.</span> <span style=\"color: black; font-weight: regular;\">But</span> <span style=\"color: black; font-weight: regular;\">Mr.</span> <span style=\"color: black; font-weight: regular;\">Davis</span> <span style=\"color: black; font-weight: regular;\">,</span> <span style=\"color: black; font-weight: regular;\">whose</span> <span style=\"color: black; font-weight: regular;\">views</span> <span style=\"color: black; font-weight: regular;\">are</span> <span style=\"color: black; font-weight: regular;\">widely</span> <span style=\"color: black; font-weight: regular;\">respected</span> <span style=\"color: black; font-weight: regular;\">by</span> <span style=\"color: black; font-weight: regular;\">money</span> <span style=\"color: black; font-weight: regular;\">managers</span> <span style=\"color: black; font-weight: regular;\">,</span> <span style=\"color: black; font-weight: regular;\">says</span> <span style=\"color: blue; font-weight: bold;\">he</span> <span style=\"color: black; font-weight: regular;\">expects</span> <span style=\"color: black; font-weight: regular;\">no</span> <span style=\"color: black; font-weight: regular;\">1987</span> <span style=\"color: black; font-weight: regular;\">-</span> <span style=\"color: black; font-weight: regular;\">style</span> <span style=\"color: black; font-weight: regular;\">crash</span> <span style=\"color: black; font-weight: regular;\">.</span>"
      ],
      "text/plain": [
       "<IPython.core.display.HTML object>"
      ]
     },
     "metadata": {},
     "output_type": "display_data"
    },
    {
     "name": "stdout",
     "output_type": "stream",
     "text": [
      "---\n"
     ]
    },
    {
     "data": {
      "text/html": [
       "<span style=\"color: black; font-weight: regular;\">At</span> <span style=\"color: black; font-weight: regular;\">1:00pm</span> <span style=\"color: black; font-weight: regular;\">,</span> <span style=\"color: blue; font-weight: bold;\">the</span> <span style=\"color: blue; font-weight: bold;\">neighbor</span> <span style=\"color: black; font-weight: regular;\">called</span> <span style=\"color: green; font-weight: bold;\">me</span> <span style=\"color: black; font-weight: regular;\">,</span> <span style=\"color: black; font-weight: regular;\">saying</span> <span style=\"color: blue; font-weight: bold;\">he</span> <span style=\"color: black; font-weight: regular;\">took</span> <span style=\"color: blue; font-weight: bold;\">his</span> <span style=\"color: black; font-weight: regular;\">parents</span> <span style=\"color: black; font-weight: regular;\">to</span> <span style=\"color: black; font-weight: regular;\">a</span> <span style=\"color: black; font-weight: regular;\">buffet</span> <span style=\"color: black; font-weight: regular;\">and</span> <span style=\"color: black; font-weight: regular;\">would</span> <span style=\"color: black; font-weight: regular;\">probably</span> <span style=\"color: black; font-weight: regular;\">not</span> <span style=\"color: black; font-weight: regular;\">to</span> <span style=\"color: black; font-weight: regular;\">be</span> <span style=\"color: black; font-weight: regular;\">back</span> <span style=\"color: black; font-weight: regular;\">until</span> <span style=\"color: black; font-weight: regular;\">around</span> <span style=\"color: black; font-weight: regular;\">3:00pm</span> <span style=\"color: black; font-weight: regular;\">.</span> <span style=\"color: green; font-weight: bold;\">I</span> <span style=\"color: black; font-weight: regular;\">of</span> <span style=\"color: black; font-weight: regular;\">course</span> <span style=\"color: black; font-weight: regular;\">agreed</span> <span style=\"color: black; font-weight: regular;\">and</span> <span style=\"color: black; font-weight: regular;\">asked</span> <span style=\"color: black; font-weight: regular;\">them</span> <span style=\"color: black; font-weight: regular;\">not</span> <span style=\"color: black; font-weight: regular;\">to</span> <span style=\"color: black; font-weight: regular;\">rush</span> <span style=\"color: black; font-weight: regular;\">.</span>"
      ],
      "text/plain": [
       "<IPython.core.display.HTML object>"
      ]
     },
     "metadata": {},
     "output_type": "display_data"
    },
    {
     "data": {
      "text/html": [
       "<span style=\"color: blue; font-weight: bold;\">I</span> <span style=\"color: black; font-weight: regular;\">of</span> <span style=\"color: black; font-weight: regular;\">course</span> <span style=\"color: black; font-weight: regular;\">agreed</span> <span style=\"color: black; font-weight: regular;\">and</span> <span style=\"color: black; font-weight: regular;\">asked</span> <span style=\"color: black; font-weight: regular;\">them</span> <span style=\"color: black; font-weight: regular;\">not</span> <span style=\"color: black; font-weight: regular;\">to</span> <span style=\"color: black; font-weight: regular;\">rush</span> <span style=\"color: black; font-weight: regular;\">.</span> <span style=\"color: black; font-weight: regular;\">At</span> <span style=\"color: black; font-weight: regular;\">1:00pm</span> <span style=\"color: black; font-weight: regular;\">,</span> <span style=\"color: green; font-weight: bold;\">the</span> <span style=\"color: green; font-weight: bold;\">neighbor</span> <span style=\"color: black; font-weight: regular;\">called</span> <span style=\"color: blue; font-weight: bold;\">me</span> <span style=\"color: black; font-weight: regular;\">,</span> <span style=\"color: black; font-weight: regular;\">saying</span> <span style=\"color: green; font-weight: bold;\">he</span> <span style=\"color: black; font-weight: regular;\">took</span> <span style=\"color: green; font-weight: bold;\">his</span> <span style=\"color: black; font-weight: regular;\">parents</span> <span style=\"color: black; font-weight: regular;\">to</span> <span style=\"color: black; font-weight: regular;\">a</span> <span style=\"color: black; font-weight: regular;\">buffet</span> <span style=\"color: black; font-weight: regular;\">and</span> <span style=\"color: black; font-weight: regular;\">would</span> <span style=\"color: black; font-weight: regular;\">probably</span> <span style=\"color: black; font-weight: regular;\">not</span> <span style=\"color: black; font-weight: regular;\">to</span> <span style=\"color: black; font-weight: regular;\">be</span> <span style=\"color: black; font-weight: regular;\">back</span> <span style=\"color: black; font-weight: regular;\">until</span> <span style=\"color: black; font-weight: regular;\">around</span> <span style=\"color: black; font-weight: regular;\">3:00pm</span> <span style=\"color: black; font-weight: regular;\">.</span>"
      ],
      "text/plain": [
       "<IPython.core.display.HTML object>"
      ]
     },
     "metadata": {},
     "output_type": "display_data"
    },
    {
     "name": "stdout",
     "output_type": "stream",
     "text": [
      "---\n"
     ]
    },
    {
     "data": {
      "text/html": [
       "<span style=\"color: black; font-weight: regular;\">Yesterday</span> <span style=\"color: black; font-weight: regular;\">,</span> <span style=\"color: black; font-weight: regular;\">Jackson</span> <span style=\"color: black; font-weight: regular;\">was</span> <span style=\"color: black; font-weight: regular;\">ordered</span> <span style=\"color: black; font-weight: regular;\">to</span> <span style=\"color: black; font-weight: regular;\">close</span> <span style=\"color: black; font-weight: regular;\">Neverland</span> <span style=\"color: black; font-weight: regular;\">for</span> <span style=\"color: black; font-weight: regular;\">having</span> <span style=\"color: black; font-weight: regular;\">failed</span> <span style=\"color: black; font-weight: regular;\">to</span> <span style=\"color: black; font-weight: regular;\">pay</span> <span style=\"color: black; font-weight: regular;\">the</span> <span style=\"color: black; font-weight: regular;\">ranch</span> <span style=\"color: black; font-weight: regular;\">'s</span> <span style=\"color: black; font-weight: regular;\">47</span> <span style=\"color: black; font-weight: regular;\">employees</span> <span style=\"color: black; font-weight: regular;\">their</span> <span style=\"color: black; font-weight: regular;\">salary</span> <span style=\"color: black; font-weight: regular;\">or</span> <span style=\"color: black; font-weight: regular;\">insurance</span> <span style=\"color: black; font-weight: regular;\">since</span> <span style=\"color: black; font-weight: regular;\">the</span> <span style=\"color: black; font-weight: regular;\">end</span> <span style=\"color: black; font-weight: regular;\">of</span> <span style=\"color: black; font-weight: regular;\">2005</span> <span style=\"color: black; font-weight: regular;\">.</span> <span style=\"color: black; font-weight: regular;\">Unfortunate</span> <span style=\"color: black; font-weight: regular;\">for</span> <span style=\"color: black; font-weight: regular;\">the</span> <span style=\"color: black; font-weight: regular;\">unpaid</span> <span style=\"color: black; font-weight: regular;\">staff</span> <span style=\"color: black; font-weight: regular;\">and</span> <span style=\"color: black; font-weight: regular;\">the</span> <span style=\"color: black; font-weight: regular;\">abandoned</span> <span style=\"color: black; font-weight: regular;\">llamas</span> <span style=\"color: black; font-weight: regular;\">but</span> <span style=\"color: black; font-weight: regular;\">no</span> <span style=\"color: black; font-weight: regular;\">surprise</span> <span style=\"color: black; font-weight: regular;\">.</span>"
      ],
      "text/plain": [
       "<IPython.core.display.HTML object>"
      ]
     },
     "metadata": {},
     "output_type": "display_data"
    },
    {
     "data": {
      "text/html": [
       "<span style=\"color: black; font-weight: regular;\">Unfortunate</span> <span style=\"color: black; font-weight: regular;\">for</span> <span style=\"color: black; font-weight: regular;\">the</span> <span style=\"color: black; font-weight: regular;\">unpaid</span> <span style=\"color: black; font-weight: regular;\">staff</span> <span style=\"color: black; font-weight: regular;\">and</span> <span style=\"color: black; font-weight: regular;\">the</span> <span style=\"color: black; font-weight: regular;\">abandoned</span> <span style=\"color: black; font-weight: regular;\">llamas</span> <span style=\"color: black; font-weight: regular;\">but</span> <span style=\"color: black; font-weight: regular;\">no</span> <span style=\"color: black; font-weight: regular;\">surprise</span> <span style=\"color: black; font-weight: regular;\">.</span> <span style=\"color: black; font-weight: regular;\">Yesterday</span> <span style=\"color: black; font-weight: regular;\">,</span> <span style=\"color: black; font-weight: regular;\">Jackson</span> <span style=\"color: black; font-weight: regular;\">was</span> <span style=\"color: black; font-weight: regular;\">ordered</span> <span style=\"color: black; font-weight: regular;\">to</span> <span style=\"color: black; font-weight: regular;\">close</span> <span style=\"color: black; font-weight: regular;\">Neverland</span> <span style=\"color: black; font-weight: regular;\">for</span> <span style=\"color: black; font-weight: regular;\">having</span> <span style=\"color: black; font-weight: regular;\">failed</span> <span style=\"color: black; font-weight: regular;\">to</span> <span style=\"color: black; font-weight: regular;\">pay</span> <span style=\"color: black; font-weight: regular;\">the</span> <span style=\"color: black; font-weight: regular;\">ranch</span> <span style=\"color: black; font-weight: regular;\">'s</span> <span style=\"color: black; font-weight: regular;\">47</span> <span style=\"color: black; font-weight: regular;\">employees</span> <span style=\"color: black; font-weight: regular;\">their</span> <span style=\"color: black; font-weight: regular;\">salary</span> <span style=\"color: black; font-weight: regular;\">or</span> <span style=\"color: black; font-weight: regular;\">insurance</span> <span style=\"color: black; font-weight: regular;\">since</span> <span style=\"color: black; font-weight: regular;\">the</span> <span style=\"color: black; font-weight: regular;\">end</span> <span style=\"color: black; font-weight: regular;\">of</span> <span style=\"color: black; font-weight: regular;\">2005</span> <span style=\"color: black; font-weight: regular;\">.</span>"
      ],
      "text/plain": [
       "<IPython.core.display.HTML object>"
      ]
     },
     "metadata": {},
     "output_type": "display_data"
    },
    {
     "name": "stdout",
     "output_type": "stream",
     "text": [
      "---\n"
     ]
    },
    {
     "data": {
      "text/html": [
       "<span style=\"color: black; font-weight: regular;\">Take</span> <span style=\"color: blue; font-weight: bold;\">your</span> <span style=\"color: black; font-weight: regular;\">mat</span> <span style=\"color: black; font-weight: regular;\">and</span> <span style=\"color: black; font-weight: regular;\">go</span> <span style=\"color: black; font-weight: regular;\">home</span> <span style=\"color: black; font-weight: regular;\">.</span> <span style=\"color: black; font-weight: regular;\">''</span> <span style=\"color: blue; font-weight: bold;\">The</span> <span style=\"color: blue; font-weight: bold;\">man</span> <span style=\"color: black; font-weight: regular;\">stood</span> <span style=\"color: black; font-weight: regular;\">up</span> <span style=\"color: black; font-weight: regular;\">and</span> <span style=\"color: black; font-weight: regular;\">went</span> <span style=\"color: black; font-weight: regular;\">home</span> <span style=\"color: black; font-weight: regular;\">.</span>"
      ],
      "text/plain": [
       "<IPython.core.display.HTML object>"
      ]
     },
     "metadata": {},
     "output_type": "display_data"
    },
    {
     "data": {
      "text/html": [
       "<span style=\"color: black; font-weight: regular;\">The</span> <span style=\"color: black; font-weight: regular;\">man</span> <span style=\"color: black; font-weight: regular;\">stood</span> <span style=\"color: black; font-weight: regular;\">up</span> <span style=\"color: black; font-weight: regular;\">and</span> <span style=\"color: black; font-weight: regular;\">went</span> <span style=\"color: black; font-weight: regular;\">home</span> <span style=\"color: black; font-weight: regular;\">.</span> <span style=\"color: black; font-weight: regular;\">Take</span> <span style=\"color: black; font-weight: regular;\">your</span> <span style=\"color: black; font-weight: regular;\">mat</span> <span style=\"color: black; font-weight: regular;\">and</span> <span style=\"color: black; font-weight: regular;\">go</span> <span style=\"color: black; font-weight: regular;\">home</span> <span style=\"color: black; font-weight: regular;\">.</span> <span style=\"color: black; font-weight: regular;\">''</span>"
      ],
      "text/plain": [
       "<IPython.core.display.HTML object>"
      ]
     },
     "metadata": {},
     "output_type": "display_data"
    },
    {
     "name": "stdout",
     "output_type": "stream",
     "text": [
      "---\n"
     ]
    },
    {
     "data": {
      "text/html": [
       "<span style=\"color: blue; font-weight: bold;\">The</span> <span style=\"color: blue; font-weight: bold;\">first</span> <span style=\"color: blue; font-weight: bold;\">servant</span> <span style=\"color: black; font-weight: regular;\">came</span> <span style=\"color: black; font-weight: regular;\">and</span> <span style=\"color: black; font-weight: regular;\">said</span> <span style=\"color: black; font-weight: regular;\">,</span> <span style=\"color: black; font-weight: regular;\">'</span> <span style=\"color: blue; font-weight: bold;\">Sir</span> <span style=\"color: black; font-weight: regular;\">,</span> <span style=\"color: blue; font-weight: bold;\">I</span> <span style=\"color: black; font-weight: regular;\">earned</span> <span style=\"color: black; font-weight: regular;\">ten</span> <span style=\"color: black; font-weight: regular;\">bags</span> <span style=\"color: black; font-weight: regular;\">of</span> <span style=\"color: black; font-weight: regular;\">money</span> <span style=\"color: black; font-weight: regular;\">with</span> <span style=\"color: black; font-weight: regular;\">the</span> <span style=\"color: black; font-weight: regular;\">one</span> <span style=\"color: black; font-weight: regular;\">bag</span> <span style=\"color: blue; font-weight: bold;\">you</span> <span style=\"color: black; font-weight: regular;\">gave</span> <span style=\"color: blue; font-weight: bold;\">me</span> <span style=\"color: black; font-weight: regular;\">.</span> <span style=\"color: black; font-weight: regular;\">'</span> <span style=\"color: blue; font-weight: bold;\">The</span> <span style=\"color: blue; font-weight: bold;\">king</span> <span style=\"color: black; font-weight: regular;\">said</span> <span style=\"color: black; font-weight: regular;\">to</span> <span style=\"color: blue; font-weight: bold;\">him</span> <span style=\"color: black; font-weight: regular;\">,</span> <span style=\"color: black; font-weight: regular;\">'</span> <span style=\"color: black; font-weight: regular;\">That</span> <span style=\"color: black; font-weight: regular;\">'s</span> <span style=\"color: black; font-weight: regular;\">great</span> <span style=\"color: black; font-weight: regular;\">!</span>"
      ],
      "text/plain": [
       "<IPython.core.display.HTML object>"
      ]
     },
     "metadata": {},
     "output_type": "display_data"
    },
    {
     "data": {
      "text/html": [
       "<span style=\"color: black; font-weight: regular;\">The</span> <span style=\"color: black; font-weight: regular;\">king</span> <span style=\"color: black; font-weight: regular;\">said</span> <span style=\"color: black; font-weight: regular;\">to</span> <span style=\"color: blue; font-weight: bold;\">him</span> <span style=\"color: black; font-weight: regular;\">,</span> <span style=\"color: black; font-weight: regular;\">'</span> <span style=\"color: black; font-weight: regular;\">That</span> <span style=\"color: black; font-weight: regular;\">'s</span> <span style=\"color: black; font-weight: regular;\">great</span> <span style=\"color: black; font-weight: regular;\">!</span> <span style=\"color: green; font-weight: bold;\">The</span> <span style=\"color: green; font-weight: bold;\">first</span> <span style=\"color: green; font-weight: bold;\">servant</span> <span style=\"color: black; font-weight: regular;\">came</span> <span style=\"color: black; font-weight: regular;\">and</span> <span style=\"color: black; font-weight: regular;\">said</span> <span style=\"color: black; font-weight: regular;\">,</span> <span style=\"color: black; font-weight: regular;\">'</span> <span style=\"color: blue; font-weight: bold;\">Sir</span> <span style=\"color: black; font-weight: regular;\">,</span> <span style=\"color: green; font-weight: bold;\">I</span> <span style=\"color: black; font-weight: regular;\">earned</span> <span style=\"color: black; font-weight: regular;\">ten</span> <span style=\"color: black; font-weight: regular;\">bags</span> <span style=\"color: black; font-weight: regular;\">of</span> <span style=\"color: black; font-weight: regular;\">money</span> <span style=\"color: black; font-weight: regular;\">with</span> <span style=\"color: black; font-weight: regular;\">the</span> <span style=\"color: black; font-weight: regular;\">one</span> <span style=\"color: black; font-weight: regular;\">bag</span> <span style=\"color: blue; font-weight: bold;\">you</span> <span style=\"color: black; font-weight: regular;\">gave</span> <span style=\"color: green; font-weight: bold;\">me</span> <span style=\"color: black; font-weight: regular;\">.</span> <span style=\"color: black; font-weight: regular;\">'</span>"
      ],
      "text/plain": [
       "<IPython.core.display.HTML object>"
      ]
     },
     "metadata": {},
     "output_type": "display_data"
    },
    {
     "name": "stdout",
     "output_type": "stream",
     "text": [
      "---\n"
     ]
    },
    {
     "data": {
      "text/html": [
       "<span style=\"color: black; font-weight: regular;\">Good</span> <span style=\"color: black; font-weight: regular;\">grief</span> <span style=\"color: black; font-weight: regular;\">.</span> <span style=\"color: black; font-weight: regular;\">As</span> <span style=\"color: black; font-weight: regular;\">long</span> <span style=\"color: black; font-weight: regular;\">as</span> <span style=\"color: black; font-weight: regular;\">I</span> <span style=\"color: black; font-weight: regular;\">do</span> <span style=\"color: black; font-weight: regular;\">n't</span> <span style=\"color: black; font-weight: regular;\">bring</span> <span style=\"color: black; font-weight: regular;\">it</span> <span style=\"color: black; font-weight: regular;\">back</span> <span style=\"color: black; font-weight: regular;\">to</span> <span style=\"color: black; font-weight: regular;\">the</span> <span style=\"color: black; font-weight: regular;\">states</span> <span style=\"color: black; font-weight: regular;\">.</span>"
      ],
      "text/plain": [
       "<IPython.core.display.HTML object>"
      ]
     },
     "metadata": {},
     "output_type": "display_data"
    },
    {
     "data": {
      "text/html": [
       "<span style=\"color: black; font-weight: regular;\">As</span> <span style=\"color: black; font-weight: regular;\">long</span> <span style=\"color: black; font-weight: regular;\">as</span> <span style=\"color: black; font-weight: regular;\">I</span> <span style=\"color: black; font-weight: regular;\">do</span> <span style=\"color: black; font-weight: regular;\">n't</span> <span style=\"color: black; font-weight: regular;\">bring</span> <span style=\"color: black; font-weight: regular;\">it</span> <span style=\"color: black; font-weight: regular;\">back</span> <span style=\"color: black; font-weight: regular;\">to</span> <span style=\"color: black; font-weight: regular;\">the</span> <span style=\"color: black; font-weight: regular;\">states</span> <span style=\"color: black; font-weight: regular;\">.</span> <span style=\"color: black; font-weight: regular;\">Good</span> <span style=\"color: black; font-weight: regular;\">grief</span> <span style=\"color: black; font-weight: regular;\">.</span>"
      ],
      "text/plain": [
       "<IPython.core.display.HTML object>"
      ]
     },
     "metadata": {},
     "output_type": "display_data"
    },
    {
     "name": "stdout",
     "output_type": "stream",
     "text": [
      "---\n"
     ]
    },
    {
     "data": {
      "text/html": [
       "<span style=\"color: black; font-weight: regular;\">Much</span> <span style=\"color: black; font-weight: regular;\">better</span> <span style=\"color: black; font-weight: regular;\">.</span> <span style=\"color: black; font-weight: regular;\">yeah</span> <span style=\"color: black; font-weight: regular;\">?</span>"
      ],
      "text/plain": [
       "<IPython.core.display.HTML object>"
      ]
     },
     "metadata": {},
     "output_type": "display_data"
    },
    {
     "data": {
      "text/html": [
       "<span style=\"color: black; font-weight: regular;\">yeah</span> <span style=\"color: black; font-weight: regular;\">?</span> <span style=\"color: black; font-weight: regular;\">Much</span> <span style=\"color: black; font-weight: regular;\">better</span> <span style=\"color: black; font-weight: regular;\">.</span>"
      ],
      "text/plain": [
       "<IPython.core.display.HTML object>"
      ]
     },
     "metadata": {},
     "output_type": "display_data"
    },
    {
     "name": "stdout",
     "output_type": "stream",
     "text": [
      "---\n"
     ]
    },
    {
     "data": {
      "text/html": [
       "<span style=\"color: black; font-weight: regular;\">Insurance</span> <span style=\"color: black; font-weight: regular;\">coverages</span> <span style=\"color: black; font-weight: regular;\">include</span> <span style=\"color: black; font-weight: regular;\">the</span> <span style=\"color: black; font-weight: regular;\">four</span> <span style=\"color: black; font-weight: regular;\">large</span> <span style=\"color: black; font-weight: regular;\">categories</span> <span style=\"color: black; font-weight: regular;\">of</span> <span style=\"color: black; font-weight: regular;\">property</span> <span style=\"color: black; font-weight: regular;\">,</span> <span style=\"color: black; font-weight: regular;\">liability</span> <span style=\"color: black; font-weight: regular;\">,</span> <span style=\"color: black; font-weight: regular;\">credit</span> <span style=\"color: black; font-weight: regular;\">and</span> <span style=\"color: black; font-weight: regular;\">life</span> <span style=\"color: black; font-weight: regular;\">,</span> <span style=\"color: black; font-weight: regular;\">with</span> <span style=\"color: black; font-weight: regular;\">more</span> <span style=\"color: black; font-weight: regular;\">than</span> <span style=\"color: black; font-weight: regular;\">sixty</span> <span style=\"color: black; font-weight: regular;\">primary</span> <span style=\"color: black; font-weight: regular;\">and</span> <span style=\"color: black; font-weight: regular;\">secondary</span> <span style=\"color: black; font-weight: regular;\">risk</span> <span style=\"color: black; font-weight: regular;\">types</span> <span style=\"color: black; font-weight: regular;\">.</span> <span style=\"color: black; font-weight: regular;\">According</span> <span style=\"color: black; font-weight: regular;\">to</span> <span style=\"color: black; font-weight: regular;\">presentations</span> <span style=\"color: black; font-weight: regular;\">from</span> <span style=\"color: black; font-weight: regular;\">concerned</span> <span style=\"color: black; font-weight: regular;\">departments</span> <span style=\"color: black; font-weight: regular;\">in</span> <span style=\"color: blue; font-weight: bold;\">Gansu</span> <span style=\"color: blue; font-weight: bold;\">Province</span> <span style=\"color: black; font-weight: regular;\">,</span> <span style=\"color: black; font-weight: regular;\">since</span> <span style=\"color: black; font-weight: regular;\">the</span> <span style=\"color: black; font-weight: regular;\">``</span> <span style=\"color: black; font-weight: regular;\">eighth</span> <span style=\"color: black; font-weight: regular;\">five</span> <span style=\"color: black; font-weight: regular;\">-</span> <span style=\"color: black; font-weight: regular;\">year</span> <span style=\"color: black; font-weight: regular;\">plan</span> <span style=\"color: black; font-weight: regular;\">``</span> <span style=\"color: black; font-weight: regular;\">,</span> <span style=\"color: blue; font-weight: bold;\">Gansu</span> <span style=\"color: blue; font-weight: bold;\">Province</span> <span style=\"color: black; font-weight: regular;\">has</span> <span style=\"color: black; font-weight: regular;\">used</span> <span style=\"color: black; font-weight: regular;\">foreign</span> <span style=\"color: black; font-weight: regular;\">investments</span> <span style=\"color: black; font-weight: regular;\">to</span> <span style=\"color: black; font-weight: regular;\">vigorously</span> <span style=\"color: black; font-weight: regular;\">develop</span> <span style=\"color: black; font-weight: regular;\">.</span>"
      ],
      "text/plain": [
       "<IPython.core.display.HTML object>"
      ]
     },
     "metadata": {},
     "output_type": "display_data"
    },
    {
     "data": {
      "text/html": [
       "<span style=\"color: black; font-weight: regular;\">According</span> <span style=\"color: black; font-weight: regular;\">to</span> <span style=\"color: black; font-weight: regular;\">presentations</span> <span style=\"color: black; font-weight: regular;\">from</span> <span style=\"color: black; font-weight: regular;\">concerned</span> <span style=\"color: black; font-weight: regular;\">departments</span> <span style=\"color: black; font-weight: regular;\">in</span> <span style=\"color: blue; font-weight: bold;\">Gansu</span> <span style=\"color: blue; font-weight: bold;\">Province</span> <span style=\"color: black; font-weight: regular;\">,</span> <span style=\"color: black; font-weight: regular;\">since</span> <span style=\"color: black; font-weight: regular;\">the</span> <span style=\"color: black; font-weight: regular;\">``</span> <span style=\"color: black; font-weight: regular;\">eighth</span> <span style=\"color: black; font-weight: regular;\">five</span> <span style=\"color: black; font-weight: regular;\">-</span> <span style=\"color: black; font-weight: regular;\">year</span> <span style=\"color: black; font-weight: regular;\">plan</span> <span style=\"color: black; font-weight: regular;\">``</span> <span style=\"color: black; font-weight: regular;\">,</span> <span style=\"color: blue; font-weight: bold;\">Gansu</span> <span style=\"color: blue; font-weight: bold;\">Province</span> <span style=\"color: black; font-weight: regular;\">has</span> <span style=\"color: black; font-weight: regular;\">used</span> <span style=\"color: black; font-weight: regular;\">foreign</span> <span style=\"color: black; font-weight: regular;\">investments</span> <span style=\"color: black; font-weight: regular;\">to</span> <span style=\"color: black; font-weight: regular;\">vigorously</span> <span style=\"color: black; font-weight: regular;\">develop</span> <span style=\"color: black; font-weight: regular;\">.</span> <span style=\"color: black; font-weight: regular;\">Insurance</span> <span style=\"color: black; font-weight: regular;\">coverages</span> <span style=\"color: black; font-weight: regular;\">include</span> <span style=\"color: black; font-weight: regular;\">the</span> <span style=\"color: black; font-weight: regular;\">four</span> <span style=\"color: black; font-weight: regular;\">large</span> <span style=\"color: black; font-weight: regular;\">categories</span> <span style=\"color: black; font-weight: regular;\">of</span> <span style=\"color: black; font-weight: regular;\">property</span> <span style=\"color: black; font-weight: regular;\">,</span> <span style=\"color: black; font-weight: regular;\">liability</span> <span style=\"color: black; font-weight: regular;\">,</span> <span style=\"color: black; font-weight: regular;\">credit</span> <span style=\"color: black; font-weight: regular;\">and</span> <span style=\"color: black; font-weight: regular;\">life</span> <span style=\"color: black; font-weight: regular;\">,</span> <span style=\"color: black; font-weight: regular;\">with</span> <span style=\"color: black; font-weight: regular;\">more</span> <span style=\"color: black; font-weight: regular;\">than</span> <span style=\"color: black; font-weight: regular;\">sixty</span> <span style=\"color: black; font-weight: regular;\">primary</span> <span style=\"color: black; font-weight: regular;\">and</span> <span style=\"color: black; font-weight: regular;\">secondary</span> <span style=\"color: black; font-weight: regular;\">risk</span> <span style=\"color: black; font-weight: regular;\">types</span> <span style=\"color: black; font-weight: regular;\">.</span>"
      ],
      "text/plain": [
       "<IPython.core.display.HTML object>"
      ]
     },
     "metadata": {},
     "output_type": "display_data"
    },
    {
     "name": "stdout",
     "output_type": "stream",
     "text": [
      "---\n"
     ]
    },
    {
     "data": {
      "text/html": [
       "<span style=\"color: black; font-weight: regular;\">Good</span> <span style=\"color: black; font-weight: regular;\">to</span> <span style=\"color: black; font-weight: regular;\">be</span> <span style=\"color: black; font-weight: regular;\">-LRB-</span> <span style=\"color: black; font-weight: regular;\">bleep</span> <span style=\"color: black; font-weight: regular;\">-RRB-</span> <span style=\"color: black; font-weight: regular;\">King</span> <span style=\"color: black; font-weight: regular;\">.</span> <span style=\"color: black; font-weight: regular;\">Reporter</span> <span style=\"color: black; font-weight: regular;\">:</span>"
      ],
      "text/plain": [
       "<IPython.core.display.HTML object>"
      ]
     },
     "metadata": {},
     "output_type": "display_data"
    },
    {
     "data": {
      "text/html": [
       "<span style=\"color: black; font-weight: regular;\">Reporter</span> <span style=\"color: black; font-weight: regular;\">:</span> <span style=\"color: black; font-weight: regular;\">Good</span> <span style=\"color: black; font-weight: regular;\">to</span> <span style=\"color: black; font-weight: regular;\">be</span> <span style=\"color: black; font-weight: regular;\">-LRB-</span> <span style=\"color: black; font-weight: regular;\">bleep</span> <span style=\"color: black; font-weight: regular;\">-RRB-</span> <span style=\"color: black; font-weight: regular;\">King</span> <span style=\"color: black; font-weight: regular;\">.</span>"
      ],
      "text/plain": [
       "<IPython.core.display.HTML object>"
      ]
     },
     "metadata": {},
     "output_type": "display_data"
    },
    {
     "name": "stdout",
     "output_type": "stream",
     "text": [
      "---\n"
     ]
    },
    {
     "data": {
      "text/html": [
       "<span style=\"color: blue; font-weight: bold;\">Rumsfeld</span> <span style=\"color: black; font-weight: regular;\">:</span> <span style=\"color: blue; font-weight: bold;\">Your</span> <span style=\"color: black; font-weight: regular;\">followers</span> <span style=\"color: black; font-weight: regular;\">with</span> <span style=\"color: black; font-weight: regular;\">whom</span> <span style=\"color: black; font-weight: regular;\">we</span> <span style=\"color: black; font-weight: regular;\">entered</span> <span style=\"color: black; font-weight: regular;\">into</span> <span style=\"color: black; font-weight: regular;\">a</span> <span style=\"color: black; font-weight: regular;\">dialogue</span> <span style=\"color: black; font-weight: regular;\">have</span> <span style=\"color: black; font-weight: regular;\">told</span> <span style=\"color: black; font-weight: regular;\">us</span> <span style=\"color: black; font-weight: regular;\">that</span> <span style=\"color: green; font-weight: bold;\">the</span> <span style=\"color: green; font-weight: bold;\">decisions</span> <span style=\"color: black; font-weight: regular;\">will</span> <span style=\"color: black; font-weight: regular;\">be</span> <span style=\"color: black; font-weight: regular;\">yours</span> <span style=\"color: black; font-weight: regular;\">,</span> <span style=\"color: black; font-weight: regular;\">first</span> <span style=\"color: black; font-weight: regular;\">and</span> <span style=\"color: black; font-weight: regular;\">last</span> <span style=\"color: black; font-weight: regular;\">.</span> <span style=\"color: black; font-weight: regular;\">Were</span> <span style=\"color: green; font-weight: bold;\">they</span> <span style=\"color: black; font-weight: regular;\">expecting</span> <span style=\"color: black; font-weight: regular;\">your</span> <span style=\"color: black; font-weight: regular;\">reaction</span> <span style=\"color: black; font-weight: regular;\">?</span>"
      ],
      "text/plain": [
       "<IPython.core.display.HTML object>"
      ]
     },
     "metadata": {},
     "output_type": "display_data"
    },
    {
     "data": {
      "text/html": [
       "<span style=\"color: black; font-weight: regular;\">Were</span> <span style=\"color: black; font-weight: regular;\">they</span> <span style=\"color: black; font-weight: regular;\">expecting</span> <span style=\"color: blue; font-weight: bold;\">your</span> <span style=\"color: black; font-weight: regular;\">reaction</span> <span style=\"color: black; font-weight: regular;\">?</span> <span style=\"color: blue; font-weight: bold;\">Rumsfeld</span> <span style=\"color: black; font-weight: regular;\">:</span> <span style=\"color: blue; font-weight: bold;\">Your</span> <span style=\"color: black; font-weight: regular;\">followers</span> <span style=\"color: black; font-weight: regular;\">with</span> <span style=\"color: black; font-weight: regular;\">whom</span> <span style=\"color: black; font-weight: regular;\">we</span> <span style=\"color: black; font-weight: regular;\">entered</span> <span style=\"color: black; font-weight: regular;\">into</span> <span style=\"color: black; font-weight: regular;\">a</span> <span style=\"color: black; font-weight: regular;\">dialogue</span> <span style=\"color: black; font-weight: regular;\">have</span> <span style=\"color: black; font-weight: regular;\">told</span> <span style=\"color: black; font-weight: regular;\">us</span> <span style=\"color: black; font-weight: regular;\">that</span> <span style=\"color: black; font-weight: regular;\">the</span> <span style=\"color: black; font-weight: regular;\">decisions</span> <span style=\"color: black; font-weight: regular;\">will</span> <span style=\"color: black; font-weight: regular;\">be</span> <span style=\"color: black; font-weight: regular;\">yours</span> <span style=\"color: black; font-weight: regular;\">,</span> <span style=\"color: black; font-weight: regular;\">first</span> <span style=\"color: black; font-weight: regular;\">and</span> <span style=\"color: black; font-weight: regular;\">last</span> <span style=\"color: black; font-weight: regular;\">.</span>"
      ],
      "text/plain": [
       "<IPython.core.display.HTML object>"
      ]
     },
     "metadata": {},
     "output_type": "display_data"
    },
    {
     "name": "stdout",
     "output_type": "stream",
     "text": [
      "---\n"
     ]
    },
    {
     "data": {
      "text/html": [
       "<span style=\"color: black; font-weight: regular;\">Robertson</span> <span style=\"color: black; font-weight: regular;\">was</span> <span style=\"color: black; font-weight: regular;\">the</span> <span style=\"color: black; font-weight: regular;\">good</span> <span style=\"color: black; font-weight: regular;\">-</span> <span style=\"color: black; font-weight: regular;\">for</span> <span style=\"color: black; font-weight: regular;\">-</span> <span style=\"color: black; font-weight: regular;\">nothing</span> <span style=\"color: black; font-weight: regular;\">playboy</span> <span style=\"color: black; font-weight: regular;\">son</span> <span style=\"color: black; font-weight: regular;\">of</span> <span style=\"color: black; font-weight: regular;\">Sen.</span> <span style=\"color: black; font-weight: regular;\">A.</span> <span style=\"color: black; font-weight: regular;\">Willis</span> <span style=\"color: black; font-weight: regular;\">Robertson</span> <span style=\"color: black; font-weight: regular;\">-LRB-</span> <span style=\"color: black; font-weight: regular;\">R</span> <span style=\"color: black; font-weight: regular;\">-</span> <span style=\"color: black; font-weight: regular;\">Va.</span> <span style=\"color: black; font-weight: regular;\">-RRB-</span> <span style=\"color: black; font-weight: regular;\">,</span> <span style=\"color: black; font-weight: regular;\">the</span> <span style=\"color: black; font-weight: regular;\">chairman</span> <span style=\"color: black; font-weight: regular;\">of</span> <span style=\"color: black; font-weight: regular;\">the</span> <span style=\"color: black; font-weight: regular;\">Senate</span> <span style=\"color: black; font-weight: regular;\">Finance</span> <span style=\"color: black; font-weight: regular;\">Committee</span> <span style=\"color: black; font-weight: regular;\">.</span> <span style=\"color: black; font-weight: regular;\">Pat</span> <span style=\"color: black; font-weight: regular;\">began</span> <span style=\"color: black; font-weight: regular;\">speaking</span> <span style=\"color: black; font-weight: regular;\">in</span> <span style=\"color: black; font-weight: regular;\">tongues</span> <span style=\"color: black; font-weight: regular;\">and</span> <span style=\"color: black; font-weight: regular;\">uttering</span> <span style=\"color: black; font-weight: regular;\">prophecies</span> <span style=\"color: black; font-weight: regular;\">under</span> <span style=\"color: black; font-weight: regular;\">the</span> <span style=\"color: black; font-weight: regular;\">guidance</span> <span style=\"color: black; font-weight: regular;\">of</span> <span style=\"color: black; font-weight: regular;\">Harald</span> <span style=\"color: black; font-weight: regular;\">Bredesen</span> <span style=\"color: black; font-weight: regular;\">,</span> <span style=\"color: black; font-weight: regular;\">a</span> <span style=\"color: black; font-weight: regular;\">master</span> <span style=\"color: black; font-weight: regular;\">training</span> <span style=\"color: black; font-weight: regular;\">agent</span> <span style=\"color: black; font-weight: regular;\">of</span> <span style=\"color: black; font-weight: regular;\">the</span> <span style=\"color: black; font-weight: regular;\">Fellowship</span> <span style=\"color: black; font-weight: regular;\">group</span> <span style=\"color: black; font-weight: regular;\">,</span> <span style=\"color: black; font-weight: regular;\">who</span> <span style=\"color: black; font-weight: regular;\">had</span> <span style=\"color: black; font-weight: regular;\">proved</span> <span style=\"color: black; font-weight: regular;\">himself</span> <span style=\"color: black; font-weight: regular;\">to</span> <span style=\"color: black; font-weight: regular;\">the</span> <span style=\"color: black; font-weight: regular;\">highest</span> <span style=\"color: black; font-weight: regular;\">circles</span> <span style=\"color: black; font-weight: regular;\">of</span> <span style=\"color: black; font-weight: regular;\">British</span> <span style=\"color: black; font-weight: regular;\">intelligence</span> <span style=\"color: black; font-weight: regular;\">.</span>"
      ],
      "text/plain": [
       "<IPython.core.display.HTML object>"
      ]
     },
     "metadata": {},
     "output_type": "display_data"
    },
    {
     "data": {
      "text/html": [
       "<span style=\"color: black; font-weight: regular;\">Pat</span> <span style=\"color: black; font-weight: regular;\">began</span> <span style=\"color: black; font-weight: regular;\">speaking</span> <span style=\"color: black; font-weight: regular;\">in</span> <span style=\"color: black; font-weight: regular;\">tongues</span> <span style=\"color: black; font-weight: regular;\">and</span> <span style=\"color: black; font-weight: regular;\">uttering</span> <span style=\"color: black; font-weight: regular;\">prophecies</span> <span style=\"color: black; font-weight: regular;\">under</span> <span style=\"color: black; font-weight: regular;\">the</span> <span style=\"color: black; font-weight: regular;\">guidance</span> <span style=\"color: black; font-weight: regular;\">of</span> <span style=\"color: black; font-weight: regular;\">Harald</span> <span style=\"color: black; font-weight: regular;\">Bredesen</span> <span style=\"color: black; font-weight: regular;\">,</span> <span style=\"color: black; font-weight: regular;\">a</span> <span style=\"color: black; font-weight: regular;\">master</span> <span style=\"color: black; font-weight: regular;\">training</span> <span style=\"color: black; font-weight: regular;\">agent</span> <span style=\"color: black; font-weight: regular;\">of</span> <span style=\"color: black; font-weight: regular;\">the</span> <span style=\"color: black; font-weight: regular;\">Fellowship</span> <span style=\"color: black; font-weight: regular;\">group</span> <span style=\"color: black; font-weight: regular;\">,</span> <span style=\"color: black; font-weight: regular;\">who</span> <span style=\"color: black; font-weight: regular;\">had</span> <span style=\"color: black; font-weight: regular;\">proved</span> <span style=\"color: black; font-weight: regular;\">himself</span> <span style=\"color: black; font-weight: regular;\">to</span> <span style=\"color: black; font-weight: regular;\">the</span> <span style=\"color: black; font-weight: regular;\">highest</span> <span style=\"color: black; font-weight: regular;\">circles</span> <span style=\"color: black; font-weight: regular;\">of</span> <span style=\"color: black; font-weight: regular;\">British</span> <span style=\"color: black; font-weight: regular;\">intelligence</span> <span style=\"color: black; font-weight: regular;\">.</span> <span style=\"color: black; font-weight: regular;\">Robertson</span> <span style=\"color: black; font-weight: regular;\">was</span> <span style=\"color: black; font-weight: regular;\">the</span> <span style=\"color: black; font-weight: regular;\">good</span> <span style=\"color: black; font-weight: regular;\">-</span> <span style=\"color: black; font-weight: regular;\">for</span> <span style=\"color: black; font-weight: regular;\">-</span> <span style=\"color: black; font-weight: regular;\">nothing</span> <span style=\"color: black; font-weight: regular;\">playboy</span> <span style=\"color: black; font-weight: regular;\">son</span> <span style=\"color: black; font-weight: regular;\">of</span> <span style=\"color: black; font-weight: regular;\">Sen.</span> <span style=\"color: black; font-weight: regular;\">A.</span> <span style=\"color: black; font-weight: regular;\">Willis</span> <span style=\"color: black; font-weight: regular;\">Robertson</span> <span style=\"color: black; font-weight: regular;\">-LRB-</span> <span style=\"color: black; font-weight: regular;\">R</span> <span style=\"color: black; font-weight: regular;\">-</span> <span style=\"color: black; font-weight: regular;\">Va.</span> <span style=\"color: black; font-weight: regular;\">-RRB-</span> <span style=\"color: black; font-weight: regular;\">,</span> <span style=\"color: black; font-weight: regular;\">the</span> <span style=\"color: black; font-weight: regular;\">chairman</span> <span style=\"color: black; font-weight: regular;\">of</span> <span style=\"color: black; font-weight: regular;\">the</span> <span style=\"color: black; font-weight: regular;\">Senate</span> <span style=\"color: black; font-weight: regular;\">Finance</span> <span style=\"color: black; font-weight: regular;\">Committee</span> <span style=\"color: black; font-weight: regular;\">.</span>"
      ],
      "text/plain": [
       "<IPython.core.display.HTML object>"
      ]
     },
     "metadata": {},
     "output_type": "display_data"
    },
    {
     "name": "stdout",
     "output_type": "stream",
     "text": [
      "---\n"
     ]
    },
    {
     "data": {
      "text/html": [
       "<span style=\"color: blue; font-weight: bold;\">Zaire</span> <span style=\"color: blue; font-weight: bold;\">'s</span> <span style=\"color: blue; font-weight: bold;\">President</span> <span style=\"color: blue; font-weight: bold;\">Mobutu</span> <span style=\"color: black; font-weight: regular;\">met</span> <span style=\"color: black; font-weight: regular;\">in</span> <span style=\"color: black; font-weight: regular;\">southern</span> <span style=\"color: black; font-weight: regular;\">France</span> <span style=\"color: black; font-weight: regular;\">with</span> <span style=\"color: black; font-weight: regular;\">Angolan</span> <span style=\"color: black; font-weight: regular;\">rebel</span> <span style=\"color: black; font-weight: regular;\">leader</span> <span style=\"color: black; font-weight: regular;\">Savimbi</span> <span style=\"color: black; font-weight: regular;\">and</span> <span style=\"color: black; font-weight: regular;\">a</span> <span style=\"color: black; font-weight: regular;\">senior</span> <span style=\"color: black; font-weight: regular;\">U.S.</span> <span style=\"color: black; font-weight: regular;\">envoy</span> <span style=\"color: black; font-weight: regular;\">in</span> <span style=\"color: black; font-weight: regular;\">a</span> <span style=\"color: black; font-weight: regular;\">bid</span> <span style=\"color: black; font-weight: regular;\">to</span> <span style=\"color: black; font-weight: regular;\">revive</span> <span style=\"color: black; font-weight: regular;\">an</span> <span style=\"color: black; font-weight: regular;\">accord</span> <span style=\"color: black; font-weight: regular;\">to</span> <span style=\"color: black; font-weight: regular;\">end</span> <span style=\"color: black; font-weight: regular;\">Angola</span> <span style=\"color: black; font-weight: regular;\">'s</span> <span style=\"color: black; font-weight: regular;\">civil</span> <span style=\"color: black; font-weight: regular;\">war</span> <span style=\"color: black; font-weight: regular;\">.</span> <span style=\"color: black; font-weight: regular;\">Details</span> <span style=\"color: black; font-weight: regular;\">of</span> <span style=\"color: black; font-weight: regular;\">the</span> <span style=\"color: black; font-weight: regular;\">talks</span> <span style=\"color: black; font-weight: regular;\">,</span> <span style=\"color: black; font-weight: regular;\">described</span> <span style=\"color: black; font-weight: regular;\">by</span> <span style=\"color: black; font-weight: regular;\">a</span> <span style=\"color: blue; font-weight: bold;\">Zairean</span> <span style=\"color: black; font-weight: regular;\">official</span> <span style=\"color: black; font-weight: regular;\">as</span> <span style=\"color: black; font-weight: regular;\">``</span> <span style=\"color: black; font-weight: regular;\">very</span> <span style=\"color: black; font-weight: regular;\">delicate</span> <span style=\"color: black; font-weight: regular;\">,</span> <span style=\"color: black; font-weight: regular;\">''</span> <span style=\"color: black; font-weight: regular;\">were</span> <span style=\"color: black; font-weight: regular;\">n't</span> <span style=\"color: black; font-weight: regular;\">disclosed</span> <span style=\"color: black; font-weight: regular;\">.</span>"
      ],
      "text/plain": [
       "<IPython.core.display.HTML object>"
      ]
     },
     "metadata": {},
     "output_type": "display_data"
    },
    {
     "data": {
      "text/html": [
       "<span style=\"color: black; font-weight: regular;\">Details</span> <span style=\"color: black; font-weight: regular;\">of</span> <span style=\"color: black; font-weight: regular;\">the</span> <span style=\"color: black; font-weight: regular;\">talks</span> <span style=\"color: black; font-weight: regular;\">,</span> <span style=\"color: black; font-weight: regular;\">described</span> <span style=\"color: black; font-weight: regular;\">by</span> <span style=\"color: black; font-weight: regular;\">a</span> <span style=\"color: blue; font-weight: bold;\">Zairean</span> <span style=\"color: black; font-weight: regular;\">official</span> <span style=\"color: black; font-weight: regular;\">as</span> <span style=\"color: black; font-weight: regular;\">``</span> <span style=\"color: black; font-weight: regular;\">very</span> <span style=\"color: black; font-weight: regular;\">delicate</span> <span style=\"color: black; font-weight: regular;\">,</span> <span style=\"color: black; font-weight: regular;\">''</span> <span style=\"color: black; font-weight: regular;\">were</span> <span style=\"color: black; font-weight: regular;\">n't</span> <span style=\"color: black; font-weight: regular;\">disclosed</span> <span style=\"color: black; font-weight: regular;\">.</span> <span style=\"color: blue; font-weight: bold;\">Zaire</span> <span style=\"color: blue; font-weight: bold;\">'s</span> <span style=\"color: black; font-weight: regular;\">President</span> <span style=\"color: black; font-weight: regular;\">Mobutu</span> <span style=\"color: black; font-weight: regular;\">met</span> <span style=\"color: black; font-weight: regular;\">in</span> <span style=\"color: black; font-weight: regular;\">southern</span> <span style=\"color: black; font-weight: regular;\">France</span> <span style=\"color: black; font-weight: regular;\">with</span> <span style=\"color: black; font-weight: regular;\">Angolan</span> <span style=\"color: black; font-weight: regular;\">rebel</span> <span style=\"color: black; font-weight: regular;\">leader</span> <span style=\"color: black; font-weight: regular;\">Savimbi</span> <span style=\"color: black; font-weight: regular;\">and</span> <span style=\"color: black; font-weight: regular;\">a</span> <span style=\"color: black; font-weight: regular;\">senior</span> <span style=\"color: black; font-weight: regular;\">U.S.</span> <span style=\"color: black; font-weight: regular;\">envoy</span> <span style=\"color: black; font-weight: regular;\">in</span> <span style=\"color: black; font-weight: regular;\">a</span> <span style=\"color: black; font-weight: regular;\">bid</span> <span style=\"color: black; font-weight: regular;\">to</span> <span style=\"color: black; font-weight: regular;\">revive</span> <span style=\"color: black; font-weight: regular;\">an</span> <span style=\"color: black; font-weight: regular;\">accord</span> <span style=\"color: black; font-weight: regular;\">to</span> <span style=\"color: black; font-weight: regular;\">end</span> <span style=\"color: black; font-weight: regular;\">Angola</span> <span style=\"color: black; font-weight: regular;\">'s</span> <span style=\"color: black; font-weight: regular;\">civil</span> <span style=\"color: black; font-weight: regular;\">war</span> <span style=\"color: black; font-weight: regular;\">.</span>"
      ],
      "text/plain": [
       "<IPython.core.display.HTML object>"
      ]
     },
     "metadata": {},
     "output_type": "display_data"
    },
    {
     "name": "stdout",
     "output_type": "stream",
     "text": [
      "---\n"
     ]
    },
    {
     "data": {
      "text/html": [
       "<span style=\"color: black; font-weight: regular;\">Really</span> <span style=\"color: black; font-weight: regular;\">.</span> <span style=\"color: black; font-weight: regular;\">yeah</span> <span style=\"color: black; font-weight: regular;\">.</span>"
      ],
      "text/plain": [
       "<IPython.core.display.HTML object>"
      ]
     },
     "metadata": {},
     "output_type": "display_data"
    },
    {
     "data": {
      "text/html": [
       "<span style=\"color: black; font-weight: regular;\">yeah</span> <span style=\"color: black; font-weight: regular;\">.</span> <span style=\"color: black; font-weight: regular;\">Really</span> <span style=\"color: black; font-weight: regular;\">.</span>"
      ],
      "text/plain": [
       "<IPython.core.display.HTML object>"
      ]
     },
     "metadata": {},
     "output_type": "display_data"
    },
    {
     "name": "stdout",
     "output_type": "stream",
     "text": [
      "---\n"
     ]
    },
    {
     "data": {
      "text/html": [
       "<span style=\"color: black; font-weight: regular;\">Yes</span> <span style=\"color: black; font-weight: regular;\">.</span> <span style=\"color: black; font-weight: regular;\">In</span> <span style=\"color: black; font-weight: regular;\">terms</span> <span style=\"color: black; font-weight: regular;\">of</span> <span style=\"color: black; font-weight: regular;\">citizens</span> <span style=\"color: black; font-weight: regular;\">'</span> <span style=\"color: black; font-weight: regular;\">mentality</span> <span style=\"color: black; font-weight: regular;\">.</span>"
      ],
      "text/plain": [
       "<IPython.core.display.HTML object>"
      ]
     },
     "metadata": {},
     "output_type": "display_data"
    },
    {
     "data": {
      "text/html": [
       "<span style=\"color: black; font-weight: regular;\">In</span> <span style=\"color: black; font-weight: regular;\">terms</span> <span style=\"color: black; font-weight: regular;\">of</span> <span style=\"color: black; font-weight: regular;\">citizens</span> <span style=\"color: black; font-weight: regular;\">'</span> <span style=\"color: black; font-weight: regular;\">mentality</span> <span style=\"color: black; font-weight: regular;\">.</span> <span style=\"color: black; font-weight: regular;\">Yes</span> <span style=\"color: black; font-weight: regular;\">.</span>"
      ],
      "text/plain": [
       "<IPython.core.display.HTML object>"
      ]
     },
     "metadata": {},
     "output_type": "display_data"
    },
    {
     "name": "stdout",
     "output_type": "stream",
     "text": [
      "---\n"
     ]
    },
    {
     "data": {
      "text/html": [
       "<span style=\"color: black; font-weight: regular;\">Not</span> <span style=\"color: black; font-weight: regular;\">everybody</span> <span style=\"color: black; font-weight: regular;\">who</span> <span style=\"color: black; font-weight: regular;\">'s</span> <span style=\"color: black; font-weight: regular;\">under</span> <span style=\"color: black; font-weight: regular;\">investigation</span> <span style=\"color: black; font-weight: regular;\">winds</span> <span style=\"color: black; font-weight: regular;\">up</span> <span style=\"color: black; font-weight: regular;\">getting</span> <span style=\"color: black; font-weight: regular;\">indicted</span> <span style=\"color: black; font-weight: regular;\">/</span> <span style=\"color: black; font-weight: regular;\">.</span> <span style=\"color: black; font-weight: regular;\">Ah</span> <span style=\"color: black; font-weight: regular;\">but</span> <span style=\"color: black; font-weight: regular;\">you</span> <span style=\"color: black; font-weight: regular;\">certainly</span> <span style=\"color: black; font-weight: regular;\">and</span> <span style=\"color: black; font-weight: regular;\">you</span> <span style=\"color: black; font-weight: regular;\">'re</span> <span style=\"color: black; font-weight: regular;\">uh</span> <span style=\"color: black; font-weight: regular;\">on</span> <span style=\"color: black; font-weight: regular;\">a</span> <span style=\"color: black; font-weight: regular;\">blog</span> <span style=\"color: black; font-weight: regular;\">so</span> <span style=\"color: black; font-weight: regular;\">maybe</span> <span style=\"color: black; font-weight: regular;\">it</span> <span style=\"color: black; font-weight: regular;\">'s</span> <span style=\"color: black; font-weight: regular;\">a</span> <span style=\"color: black; font-weight: regular;\">different</span> <span style=\"color: black; font-weight: regular;\">standard</span> <span style=\"color: black; font-weight: regular;\">have</span> <span style=\"color: black; font-weight: regular;\">speculated</span> <span style=\"color: black; font-weight: regular;\">about</span> <span style=\"color: black; font-weight: regular;\">Rove</span> <span style=\"color: black; font-weight: regular;\">'s</span> <span style=\"color: black; font-weight: regular;\">fate</span> <span style=\"color: black; font-weight: regular;\">as</span> <span style=\"color: black; font-weight: regular;\">well</span> <span style=\"color: black; font-weight: regular;\">/</span> <span style=\"color: black; font-weight: regular;\">.</span>"
      ],
      "text/plain": [
       "<IPython.core.display.HTML object>"
      ]
     },
     "metadata": {},
     "output_type": "display_data"
    },
    {
     "data": {
      "text/html": [
       "<span style=\"color: black; font-weight: regular;\">Ah</span> <span style=\"color: black; font-weight: regular;\">but</span> <span style=\"color: black; font-weight: regular;\">you</span> <span style=\"color: black; font-weight: regular;\">certainly</span> <span style=\"color: black; font-weight: regular;\">and</span> <span style=\"color: black; font-weight: regular;\">you</span> <span style=\"color: black; font-weight: regular;\">'re</span> <span style=\"color: black; font-weight: regular;\">uh</span> <span style=\"color: black; font-weight: regular;\">on</span> <span style=\"color: black; font-weight: regular;\">a</span> <span style=\"color: black; font-weight: regular;\">blog</span> <span style=\"color: black; font-weight: regular;\">so</span> <span style=\"color: black; font-weight: regular;\">maybe</span> <span style=\"color: black; font-weight: regular;\">it</span> <span style=\"color: black; font-weight: regular;\">'s</span> <span style=\"color: black; font-weight: regular;\">a</span> <span style=\"color: black; font-weight: regular;\">different</span> <span style=\"color: black; font-weight: regular;\">standard</span> <span style=\"color: black; font-weight: regular;\">have</span> <span style=\"color: black; font-weight: regular;\">speculated</span> <span style=\"color: black; font-weight: regular;\">about</span> <span style=\"color: black; font-weight: regular;\">Rove</span> <span style=\"color: black; font-weight: regular;\">'s</span> <span style=\"color: black; font-weight: regular;\">fate</span> <span style=\"color: black; font-weight: regular;\">as</span> <span style=\"color: black; font-weight: regular;\">well</span> <span style=\"color: black; font-weight: regular;\">/</span> <span style=\"color: black; font-weight: regular;\">.</span> <span style=\"color: black; font-weight: regular;\">Not</span> <span style=\"color: black; font-weight: regular;\">everybody</span> <span style=\"color: black; font-weight: regular;\">who</span> <span style=\"color: black; font-weight: regular;\">'s</span> <span style=\"color: black; font-weight: regular;\">under</span> <span style=\"color: black; font-weight: regular;\">investigation</span> <span style=\"color: black; font-weight: regular;\">winds</span> <span style=\"color: black; font-weight: regular;\">up</span> <span style=\"color: black; font-weight: regular;\">getting</span> <span style=\"color: black; font-weight: regular;\">indicted</span> <span style=\"color: black; font-weight: regular;\">/</span> <span style=\"color: black; font-weight: regular;\">.</span>"
      ],
      "text/plain": [
       "<IPython.core.display.HTML object>"
      ]
     },
     "metadata": {},
     "output_type": "display_data"
    },
    {
     "name": "stdout",
     "output_type": "stream",
     "text": [
      "---\n"
     ]
    },
    {
     "data": {
      "text/html": [
       "<span style=\"color: black; font-weight: regular;\">Contact</span> <span style=\"color: black; font-weight: regular;\">for</span> <span style=\"color: black; font-weight: regular;\">friendship</span> <span style=\"color: black; font-weight: regular;\">and</span> <span style=\"color: black; font-weight: regular;\">blame</span> <span style=\"color: black; font-weight: regular;\">QQ</span> <span style=\"color: black; font-weight: regular;\">:</span> <span style=\"color: black; font-weight: regular;\">22761792</span>"
      ],
      "text/plain": [
       "<IPython.core.display.HTML object>"
      ]
     },
     "metadata": {},
     "output_type": "display_data"
    },
    {
     "data": {
      "text/html": [
       "<span style=\"color: black; font-weight: regular;\">QQ</span> <span style=\"color: black; font-weight: regular;\">:</span> <span style=\"color: black; font-weight: regular;\">22761792</span> <span style=\"color: black; font-weight: regular;\">Contact</span> <span style=\"color: black; font-weight: regular;\">for</span> <span style=\"color: black; font-weight: regular;\">friendship</span> <span style=\"color: black; font-weight: regular;\">and</span> <span style=\"color: black; font-weight: regular;\">blame</span>"
      ],
      "text/plain": [
       "<IPython.core.display.HTML object>"
      ]
     },
     "metadata": {},
     "output_type": "display_data"
    },
    {
     "name": "stdout",
     "output_type": "stream",
     "text": [
      "---\n"
     ]
    },
    {
     "data": {
      "text/html": [
       "<span style=\"color: black; font-weight: regular;\">It</span> <span style=\"color: black; font-weight: regular;\">'s</span> <span style=\"color: black; font-weight: regular;\">just</span> <span style=\"color: black; font-weight: regular;\">become</span> <span style=\"color: black; font-weight: regular;\">uh</span> <span style=\"color: black; font-weight: regular;\">one</span> <span style=\"color: black; font-weight: regular;\">natural</span> <span style=\"color: black; font-weight: regular;\">disaster</span> <span style=\"color: black; font-weight: regular;\">after</span> <span style=\"color: black; font-weight: regular;\">another</span> <span style=\"color: black; font-weight: regular;\">/</span> <span style=\"color: black; font-weight: regular;\">.</span> <span style=\"color: black; font-weight: regular;\">to</span> <span style=\"color: black; font-weight: regular;\">hear</span> <span style=\"color: black; font-weight: regular;\">ten</span> <span style=\"color: black; font-weight: regular;\">thousand</span> <span style=\"color: black; font-weight: regular;\">twenty</span> <span style=\"color: black; font-weight: regular;\">thousand</span> <span style=\"color: black; font-weight: regular;\">forty</span> <span style=\"color: black; font-weight: regular;\">thousand</span> <span style=\"color: black; font-weight: regular;\">then</span> <span style=\"color: black; font-weight: regular;\">it</span> <span style=\"color: black; font-weight: regular;\">'s</span> <span style=\"color: black; font-weight: regular;\">almost</span> <span style=\"color: black; font-weight: regular;\">hard</span> <span style=\"color: black; font-weight: regular;\">for</span> <span style=\"color: black; font-weight: regular;\">a</span> <span style=\"color: black; font-weight: regular;\">journalist</span> <span style=\"color: black; font-weight: regular;\">to</span> <span style=\"color: black; font-weight: regular;\">process</span> <span style=\"color: black; font-weight: regular;\">/</span> <span style=\"color: black; font-weight: regular;\">.</span>"
      ],
      "text/plain": [
       "<IPython.core.display.HTML object>"
      ]
     },
     "metadata": {},
     "output_type": "display_data"
    },
    {
     "data": {
      "text/html": [
       "<span style=\"color: black; font-weight: regular;\">to</span> <span style=\"color: black; font-weight: regular;\">hear</span> <span style=\"color: black; font-weight: regular;\">ten</span> <span style=\"color: black; font-weight: regular;\">thousand</span> <span style=\"color: black; font-weight: regular;\">twenty</span> <span style=\"color: black; font-weight: regular;\">thousand</span> <span style=\"color: black; font-weight: regular;\">forty</span> <span style=\"color: black; font-weight: regular;\">thousand</span> <span style=\"color: black; font-weight: regular;\">then</span> <span style=\"color: black; font-weight: regular;\">it</span> <span style=\"color: black; font-weight: regular;\">'s</span> <span style=\"color: black; font-weight: regular;\">almost</span> <span style=\"color: black; font-weight: regular;\">hard</span> <span style=\"color: black; font-weight: regular;\">for</span> <span style=\"color: black; font-weight: regular;\">a</span> <span style=\"color: black; font-weight: regular;\">journalist</span> <span style=\"color: black; font-weight: regular;\">to</span> <span style=\"color: black; font-weight: regular;\">process</span> <span style=\"color: black; font-weight: regular;\">/</span> <span style=\"color: black; font-weight: regular;\">.</span> <span style=\"color: black; font-weight: regular;\">It</span> <span style=\"color: black; font-weight: regular;\">'s</span> <span style=\"color: black; font-weight: regular;\">just</span> <span style=\"color: black; font-weight: regular;\">become</span> <span style=\"color: black; font-weight: regular;\">uh</span> <span style=\"color: black; font-weight: regular;\">one</span> <span style=\"color: black; font-weight: regular;\">natural</span> <span style=\"color: black; font-weight: regular;\">disaster</span> <span style=\"color: black; font-weight: regular;\">after</span> <span style=\"color: black; font-weight: regular;\">another</span> <span style=\"color: black; font-weight: regular;\">/</span> <span style=\"color: black; font-weight: regular;\">.</span>"
      ],
      "text/plain": [
       "<IPython.core.display.HTML object>"
      ]
     },
     "metadata": {},
     "output_type": "display_data"
    },
    {
     "name": "stdout",
     "output_type": "stream",
     "text": [
      "---\n"
     ]
    },
    {
     "data": {
      "text/html": [
       "<span style=\"color: black; font-weight: regular;\">After</span> <span style=\"color: black; font-weight: regular;\">a</span> <span style=\"color: black; font-weight: regular;\">while</span> <span style=\"color: black; font-weight: regular;\">,</span> <span style=\"color: green; font-weight: bold;\">he</span> <span style=\"color: black; font-weight: regular;\">called</span> <span style=\"color: black; font-weight: regular;\">again</span> <span style=\"color: black; font-weight: regular;\">,</span> <span style=\"color: black; font-weight: regular;\">saying</span> <span style=\"color: black; font-weight: regular;\">the</span> <span style=\"color: black; font-weight: regular;\">operation</span> <span style=\"color: black; font-weight: regular;\">charge</span> <span style=\"color: black; font-weight: regular;\">was</span> <span style=\"color: black; font-weight: regular;\">high</span> <span style=\"color: black; font-weight: regular;\">and</span> <span style=\"color: black; font-weight: regular;\">it</span> <span style=\"color: black; font-weight: regular;\">was</span> <span style=\"color: black; font-weight: regular;\">difficult</span> <span style=\"color: black; font-weight: regular;\">for</span> <span style=\"color: black; font-weight: regular;\">them</span> <span style=\"color: black; font-weight: regular;\">to</span> <span style=\"color: black; font-weight: regular;\">afford</span> <span style=\"color: blue; font-weight: bold;\">I</span> <span style=\"color: black; font-weight: regular;\">tried</span> <span style=\"color: blue; font-weight: bold;\">my</span> <span style=\"color: black; font-weight: regular;\">best</span> <span style=\"color: black; font-weight: regular;\">to</span> <span style=\"color: black; font-weight: regular;\">comfort</span> <span style=\"color: green; font-weight: bold;\">him</span> <span style=\"color: black; font-weight: regular;\">then</span> <span style=\"color: black; font-weight: regular;\">and</span> <span style=\"color: black; font-weight: regular;\">told</span> <span style=\"color: green; font-weight: bold;\">him</span> <span style=\"color: black; font-weight: regular;\">to</span> <span style=\"color: black; font-weight: regular;\">think</span> <span style=\"color: black; font-weight: regular;\">of</span> <span style=\"color: black; font-weight: regular;\">a</span> <span style=\"color: black; font-weight: regular;\">way</span> <span style=\"color: black; font-weight: regular;\">slowly</span>"
      ],
      "text/plain": [
       "<IPython.core.display.HTML object>"
      ]
     },
     "metadata": {},
     "output_type": "display_data"
    },
    {
     "data": {
      "text/html": [
       "<span style=\"color: blue; font-weight: bold;\">I</span> <span style=\"color: black; font-weight: regular;\">tried</span> <span style=\"color: blue; font-weight: bold;\">my</span> <span style=\"color: black; font-weight: regular;\">best</span> <span style=\"color: black; font-weight: regular;\">to</span> <span style=\"color: black; font-weight: regular;\">comfort</span> <span style=\"color: green; font-weight: bold;\">him</span> <span style=\"color: black; font-weight: regular;\">then</span> <span style=\"color: black; font-weight: regular;\">and</span> <span style=\"color: black; font-weight: regular;\">told</span> <span style=\"color: green; font-weight: bold;\">him</span> <span style=\"color: black; font-weight: regular;\">to</span> <span style=\"color: black; font-weight: regular;\">think</span> <span style=\"color: black; font-weight: regular;\">of</span> <span style=\"color: black; font-weight: regular;\">a</span> <span style=\"color: black; font-weight: regular;\">way</span> <span style=\"color: black; font-weight: regular;\">slowly</span> <span style=\"color: black; font-weight: regular;\">After</span> <span style=\"color: black; font-weight: regular;\">a</span> <span style=\"color: black; font-weight: regular;\">while</span> <span style=\"color: black; font-weight: regular;\">,</span> <span style=\"color: green; font-weight: bold;\">he</span> <span style=\"color: black; font-weight: regular;\">called</span> <span style=\"color: black; font-weight: regular;\">again</span> <span style=\"color: black; font-weight: regular;\">,</span> <span style=\"color: black; font-weight: regular;\">saying</span> <span style=\"color: black; font-weight: regular;\">the</span> <span style=\"color: black; font-weight: regular;\">operation</span> <span style=\"color: black; font-weight: regular;\">charge</span> <span style=\"color: black; font-weight: regular;\">was</span> <span style=\"color: black; font-weight: regular;\">high</span> <span style=\"color: black; font-weight: regular;\">and</span> <span style=\"color: black; font-weight: regular;\">it</span> <span style=\"color: black; font-weight: regular;\">was</span> <span style=\"color: black; font-weight: regular;\">difficult</span> <span style=\"color: black; font-weight: regular;\">for</span> <span style=\"color: black; font-weight: regular;\">them</span> <span style=\"color: black; font-weight: regular;\">to</span> <span style=\"color: black; font-weight: regular;\">afford</span>"
      ],
      "text/plain": [
       "<IPython.core.display.HTML object>"
      ]
     },
     "metadata": {},
     "output_type": "display_data"
    },
    {
     "name": "stdout",
     "output_type": "stream",
     "text": [
      "---\n"
     ]
    },
    {
     "data": {
      "text/html": [
       "<span style=\"color: black; font-weight: regular;\">Some</span> <span style=\"color: black; font-weight: regular;\">are</span> <span style=\"color: black; font-weight: regular;\">active</span> <span style=\"color: black; font-weight: regular;\">in</span> <span style=\"color: black; font-weight: regular;\">the</span> <span style=\"color: black; font-weight: regular;\">early</span> <span style=\"color: black; font-weight: regular;\">morning</span> <span style=\"color: black; font-weight: regular;\">,</span> <span style=\"color: black; font-weight: regular;\">some</span> <span style=\"color: black; font-weight: regular;\">late</span> <span style=\"color: black; font-weight: regular;\">at</span> <span style=\"color: black; font-weight: regular;\">night</span> <span style=\"color: black; font-weight: regular;\">.</span> <span style=\"color: black; font-weight: regular;\">Though</span> <span style=\"color: black; font-weight: regular;\">the</span> <span style=\"color: black; font-weight: regular;\">founders</span> <span style=\"color: black; font-weight: regular;\">of</span> <span style=\"color: black; font-weight: regular;\">many</span> <span style=\"color: black; font-weight: regular;\">of</span> <span style=\"color: black; font-weight: regular;\">these</span> <span style=\"color: black; font-weight: regular;\">shops</span> <span style=\"color: black; font-weight: regular;\">have</span> <span style=\"color: black; font-weight: regular;\">passed</span> <span style=\"color: black; font-weight: regular;\">away</span> <span style=\"color: black; font-weight: regular;\">,</span> <span style=\"color: black; font-weight: regular;\">the</span> <span style=\"color: black; font-weight: regular;\">second</span> <span style=\"color: black; font-weight: regular;\">generation</span> <span style=\"color: black; font-weight: regular;\">has</span> <span style=\"color: black; font-weight: regular;\">taken</span> <span style=\"color: black; font-weight: regular;\">the</span> <span style=\"color: black; font-weight: regular;\">baton</span> <span style=\"color: black; font-weight: regular;\">.</span>"
      ],
      "text/plain": [
       "<IPython.core.display.HTML object>"
      ]
     },
     "metadata": {},
     "output_type": "display_data"
    },
    {
     "data": {
      "text/html": [
       "<span style=\"color: black; font-weight: regular;\">Though</span> <span style=\"color: black; font-weight: regular;\">the</span> <span style=\"color: black; font-weight: regular;\">founders</span> <span style=\"color: black; font-weight: regular;\">of</span> <span style=\"color: black; font-weight: regular;\">many</span> <span style=\"color: black; font-weight: regular;\">of</span> <span style=\"color: black; font-weight: regular;\">these</span> <span style=\"color: black; font-weight: regular;\">shops</span> <span style=\"color: black; font-weight: regular;\">have</span> <span style=\"color: black; font-weight: regular;\">passed</span> <span style=\"color: black; font-weight: regular;\">away</span> <span style=\"color: black; font-weight: regular;\">,</span> <span style=\"color: black; font-weight: regular;\">the</span> <span style=\"color: black; font-weight: regular;\">second</span> <span style=\"color: black; font-weight: regular;\">generation</span> <span style=\"color: black; font-weight: regular;\">has</span> <span style=\"color: black; font-weight: regular;\">taken</span> <span style=\"color: black; font-weight: regular;\">the</span> <span style=\"color: black; font-weight: regular;\">baton</span> <span style=\"color: black; font-weight: regular;\">.</span> <span style=\"color: black; font-weight: regular;\">Some</span> <span style=\"color: black; font-weight: regular;\">are</span> <span style=\"color: black; font-weight: regular;\">active</span> <span style=\"color: black; font-weight: regular;\">in</span> <span style=\"color: black; font-weight: regular;\">the</span> <span style=\"color: black; font-weight: regular;\">early</span> <span style=\"color: black; font-weight: regular;\">morning</span> <span style=\"color: black; font-weight: regular;\">,</span> <span style=\"color: black; font-weight: regular;\">some</span> <span style=\"color: black; font-weight: regular;\">late</span> <span style=\"color: black; font-weight: regular;\">at</span> <span style=\"color: black; font-weight: regular;\">night</span> <span style=\"color: black; font-weight: regular;\">.</span>"
      ],
      "text/plain": [
       "<IPython.core.display.HTML object>"
      ]
     },
     "metadata": {},
     "output_type": "display_data"
    },
    {
     "name": "stdout",
     "output_type": "stream",
     "text": [
      "---\n"
     ]
    },
    {
     "data": {
      "text/html": [
       "<span style=\"color: black; font-weight: regular;\">This</span> <span style=\"color: black; font-weight: regular;\">was</span> <span style=\"color: black; font-weight: regular;\">the</span> <span style=\"color: black; font-weight: regular;\">first</span> <span style=\"color: black; font-weight: regular;\">time</span> <span style=\"color: black; font-weight: regular;\">.</span> <span style=\"color: black; font-weight: regular;\">The</span> <span style=\"color: black; font-weight: regular;\">first</span> <span style=\"color: black; font-weight: regular;\">time</span> <span style=\"color: black; font-weight: regular;\">?</span>"
      ],
      "text/plain": [
       "<IPython.core.display.HTML object>"
      ]
     },
     "metadata": {},
     "output_type": "display_data"
    },
    {
     "data": {
      "text/html": [
       "<span style=\"color: black; font-weight: regular;\">The</span> <span style=\"color: black; font-weight: regular;\">first</span> <span style=\"color: black; font-weight: regular;\">time</span> <span style=\"color: black; font-weight: regular;\">?</span> <span style=\"color: black; font-weight: regular;\">This</span> <span style=\"color: black; font-weight: regular;\">was</span> <span style=\"color: black; font-weight: regular;\">the</span> <span style=\"color: black; font-weight: regular;\">first</span> <span style=\"color: black; font-weight: regular;\">time</span> <span style=\"color: black; font-weight: regular;\">.</span>"
      ],
      "text/plain": [
       "<IPython.core.display.HTML object>"
      ]
     },
     "metadata": {},
     "output_type": "display_data"
    },
    {
     "name": "stdout",
     "output_type": "stream",
     "text": [
      "---\n"
     ]
    },
    {
     "data": {
      "text/html": [
       "<span style=\"color: black; font-weight: regular;\">I</span> <span style=\"color: black; font-weight: regular;\">think</span> <span style=\"color: black; font-weight: regular;\">those</span> <span style=\"color: black; font-weight: regular;\">were</span> <span style=\"color: black; font-weight: regular;\">fairly</span> <span style=\"color: black; font-weight: regular;\">routine</span> <span style=\"color: black; font-weight: regular;\">questions</span> <span style=\"color: black; font-weight: regular;\">about</span> <span style=\"color: black; font-weight: regular;\">/</span> <span style=\"color: black; font-weight: regular;\">.</span> <span style=\"color: black; font-weight: regular;\">you</span> <span style=\"color: black; font-weight: regular;\">have</span> <span style=\"color: black; font-weight: regular;\">Judy</span> <span style=\"color: black; font-weight: regular;\">Miller</span> <span style=\"color: black; font-weight: regular;\">there</span> <span style=\"color: black; font-weight: regular;\">/</span> <span style=\"color: black; font-weight: regular;\">.</span>"
      ],
      "text/plain": [
       "<IPython.core.display.HTML object>"
      ]
     },
     "metadata": {},
     "output_type": "display_data"
    },
    {
     "data": {
      "text/html": [
       "<span style=\"color: black; font-weight: regular;\">you</span> <span style=\"color: black; font-weight: regular;\">have</span> <span style=\"color: black; font-weight: regular;\">Judy</span> <span style=\"color: black; font-weight: regular;\">Miller</span> <span style=\"color: black; font-weight: regular;\">there</span> <span style=\"color: black; font-weight: regular;\">/</span> <span style=\"color: black; font-weight: regular;\">.</span> <span style=\"color: black; font-weight: regular;\">I</span> <span style=\"color: black; font-weight: regular;\">think</span> <span style=\"color: black; font-weight: regular;\">those</span> <span style=\"color: black; font-weight: regular;\">were</span> <span style=\"color: black; font-weight: regular;\">fairly</span> <span style=\"color: black; font-weight: regular;\">routine</span> <span style=\"color: black; font-weight: regular;\">questions</span> <span style=\"color: black; font-weight: regular;\">about</span> <span style=\"color: black; font-weight: regular;\">/</span> <span style=\"color: black; font-weight: regular;\">.</span>"
      ],
      "text/plain": [
       "<IPython.core.display.HTML object>"
      ]
     },
     "metadata": {},
     "output_type": "display_data"
    },
    {
     "name": "stdout",
     "output_type": "stream",
     "text": [
      "---\n"
     ]
    },
    {
     "data": {
      "text/html": [
       "<span style=\"color: black; font-weight: regular;\">But</span> <span style=\"color: black; font-weight: regular;\">you</span> <span style=\"color: black; font-weight: regular;\">take</span> <span style=\"color: black; font-weight: regular;\">that</span> <span style=\"color: black; font-weight: regular;\">one</span> <span style=\"color: black; font-weight: regular;\">guy</span> <span style=\"color: black; font-weight: regular;\">out</span> <span style=\"color: black; font-weight: regular;\">there</span> <span style=\"color: black; font-weight: regular;\">'s</span> <span style=\"color: black; font-weight: regular;\">no</span> <span style=\"color: black; font-weight: regular;\">Iraqi</span> <span style=\"color: black; font-weight: regular;\">navy</span> <span style=\"color: black; font-weight: regular;\">/</span> <span style=\"color: black; font-weight: regular;\">.</span> <span style=\"color: black; font-weight: regular;\">and</span> <span style=\"color: black; font-weight: regular;\">it</span> <span style=\"color: black; font-weight: regular;\">'s</span> <span style=\"color: black; font-weight: regular;\">true</span> <span style=\"color: black; font-weight: regular;\">of</span> <span style=\"color: black; font-weight: regular;\">units</span> <span style=\"color: black; font-weight: regular;\">all</span> <span style=\"color: black; font-weight: regular;\">over</span> <span style=\"color: black; font-weight: regular;\">the</span> <span style=\"color: black; font-weight: regular;\">country</span> <span style=\"color: black; font-weight: regular;\">/</span> <span style=\"color: black; font-weight: regular;\">.</span>"
      ],
      "text/plain": [
       "<IPython.core.display.HTML object>"
      ]
     },
     "metadata": {},
     "output_type": "display_data"
    },
    {
     "data": {
      "text/html": [
       "<span style=\"color: black; font-weight: regular;\">and</span> <span style=\"color: black; font-weight: regular;\">it</span> <span style=\"color: black; font-weight: regular;\">'s</span> <span style=\"color: black; font-weight: regular;\">true</span> <span style=\"color: black; font-weight: regular;\">of</span> <span style=\"color: black; font-weight: regular;\">units</span> <span style=\"color: black; font-weight: regular;\">all</span> <span style=\"color: black; font-weight: regular;\">over</span> <span style=\"color: black; font-weight: regular;\">the</span> <span style=\"color: black; font-weight: regular;\">country</span> <span style=\"color: black; font-weight: regular;\">/</span> <span style=\"color: black; font-weight: regular;\">.</span> <span style=\"color: black; font-weight: regular;\">But</span> <span style=\"color: black; font-weight: regular;\">you</span> <span style=\"color: black; font-weight: regular;\">take</span> <span style=\"color: black; font-weight: regular;\">that</span> <span style=\"color: black; font-weight: regular;\">one</span> <span style=\"color: black; font-weight: regular;\">guy</span> <span style=\"color: black; font-weight: regular;\">out</span> <span style=\"color: black; font-weight: regular;\">there</span> <span style=\"color: black; font-weight: regular;\">'s</span> <span style=\"color: black; font-weight: regular;\">no</span> <span style=\"color: black; font-weight: regular;\">Iraqi</span> <span style=\"color: black; font-weight: regular;\">navy</span> <span style=\"color: black; font-weight: regular;\">/</span> <span style=\"color: black; font-weight: regular;\">.</span>"
      ],
      "text/plain": [
       "<IPython.core.display.HTML object>"
      ]
     },
     "metadata": {},
     "output_type": "display_data"
    },
    {
     "name": "stdout",
     "output_type": "stream",
     "text": [
      "---\n"
     ]
    },
    {
     "data": {
      "text/html": [
       "<span style=\"color: black; font-weight: regular;\">and</span> <span style=\"color: black; font-weight: regular;\">frankly</span> <span style=\"color: black; font-weight: regular;\">it</span> <span style=\"color: black; font-weight: regular;\">does</span> <span style=\"color: black; font-weight: regular;\">n't</span> <span style=\"color: black; font-weight: regular;\">work</span> <span style=\"color: black; font-weight: regular;\">with</span> <span style=\"color: black; font-weight: regular;\">the</span> <span style=\"color: black; font-weight: regular;\">Chinese</span> <span style=\"color: black; font-weight: regular;\">/</span> <span style=\"color: black; font-weight: regular;\">.</span> <span style=\"color: black; font-weight: regular;\">So</span> <span style=\"color: black; font-weight: regular;\">I</span> <span style=\"color: black; font-weight: regular;\">said</span> <span style=\"color: black; font-weight: regular;\">before</span> <span style=\"color: black; font-weight: regular;\">that</span> <span style=\"color: black; font-weight: regular;\">one</span> <span style=\"color: black; font-weight: regular;\">of</span> <span style=\"color: black; font-weight: regular;\">the</span> <span style=\"color: black; font-weight: regular;\">most</span> <span style=\"color: black; font-weight: regular;\">interesting</span> <span style=\"color: black; font-weight: regular;\">developments</span> <span style=\"color: black; font-weight: regular;\">here</span> <span style=\"color: black; font-weight: regular;\">is</span> <span style=\"color: black; font-weight: regular;\">this</span> <span style=\"color: black; font-weight: regular;\">Chinese</span> <span style=\"color: black; font-weight: regular;\">delegation</span> <span style=\"color: black; font-weight: regular;\">going</span> <span style=\"color: black; font-weight: regular;\">to</span> <span style=\"color: black; font-weight: regular;\">/</span> <span style=\"color: black; font-weight: regular;\">.</span>"
      ],
      "text/plain": [
       "<IPython.core.display.HTML object>"
      ]
     },
     "metadata": {},
     "output_type": "display_data"
    },
    {
     "data": {
      "text/html": [
       "<span style=\"color: black; font-weight: regular;\">So</span> <span style=\"color: black; font-weight: regular;\">I</span> <span style=\"color: black; font-weight: regular;\">said</span> <span style=\"color: black; font-weight: regular;\">before</span> <span style=\"color: black; font-weight: regular;\">that</span> <span style=\"color: black; font-weight: regular;\">one</span> <span style=\"color: black; font-weight: regular;\">of</span> <span style=\"color: black; font-weight: regular;\">the</span> <span style=\"color: black; font-weight: regular;\">most</span> <span style=\"color: black; font-weight: regular;\">interesting</span> <span style=\"color: black; font-weight: regular;\">developments</span> <span style=\"color: black; font-weight: regular;\">here</span> <span style=\"color: black; font-weight: regular;\">is</span> <span style=\"color: black; font-weight: regular;\">this</span> <span style=\"color: black; font-weight: regular;\">Chinese</span> <span style=\"color: black; font-weight: regular;\">delegation</span> <span style=\"color: black; font-weight: regular;\">going</span> <span style=\"color: black; font-weight: regular;\">to</span> <span style=\"color: black; font-weight: regular;\">/</span> <span style=\"color: black; font-weight: regular;\">.</span> <span style=\"color: black; font-weight: regular;\">and</span> <span style=\"color: black; font-weight: regular;\">frankly</span> <span style=\"color: black; font-weight: regular;\">it</span> <span style=\"color: black; font-weight: regular;\">does</span> <span style=\"color: black; font-weight: regular;\">n't</span> <span style=\"color: black; font-weight: regular;\">work</span> <span style=\"color: black; font-weight: regular;\">with</span> <span style=\"color: black; font-weight: regular;\">the</span> <span style=\"color: black; font-weight: regular;\">Chinese</span> <span style=\"color: black; font-weight: regular;\">/</span> <span style=\"color: black; font-weight: regular;\">.</span>"
      ],
      "text/plain": [
       "<IPython.core.display.HTML object>"
      ]
     },
     "metadata": {},
     "output_type": "display_data"
    },
    {
     "name": "stdout",
     "output_type": "stream",
     "text": [
      "---\n"
     ]
    },
    {
     "data": {
      "text/html": [
       "<span style=\"color: black; font-weight: regular;\">10</span> <span style=\"color: black; font-weight: regular;\">1/2</span> <span style=\"color: black; font-weight: regular;\">%</span> <span style=\"color: black; font-weight: regular;\">.</span> <span style=\"color: black; font-weight: regular;\">The</span> <span style=\"color: black; font-weight: regular;\">base</span> <span style=\"color: black; font-weight: regular;\">rate</span> <span style=\"color: black; font-weight: regular;\">on</span> <span style=\"color: black; font-weight: regular;\">corporate</span> <span style=\"color: black; font-weight: regular;\">loans</span> <span style=\"color: black; font-weight: regular;\">at</span> <span style=\"color: black; font-weight: regular;\">large</span> <span style=\"color: black; font-weight: regular;\">U.S.</span> <span style=\"color: black; font-weight: regular;\">money</span> <span style=\"color: black; font-weight: regular;\">center</span> <span style=\"color: black; font-weight: regular;\">commercial</span> <span style=\"color: black; font-weight: regular;\">banks</span> <span style=\"color: black; font-weight: regular;\">.</span>"
      ],
      "text/plain": [
       "<IPython.core.display.HTML object>"
      ]
     },
     "metadata": {},
     "output_type": "display_data"
    },
    {
     "data": {
      "text/html": [
       "<span style=\"color: black; font-weight: regular;\">The</span> <span style=\"color: black; font-weight: regular;\">base</span> <span style=\"color: black; font-weight: regular;\">rate</span> <span style=\"color: black; font-weight: regular;\">on</span> <span style=\"color: black; font-weight: regular;\">corporate</span> <span style=\"color: black; font-weight: regular;\">loans</span> <span style=\"color: black; font-weight: regular;\">at</span> <span style=\"color: black; font-weight: regular;\">large</span> <span style=\"color: black; font-weight: regular;\">U.S.</span> <span style=\"color: black; font-weight: regular;\">money</span> <span style=\"color: black; font-weight: regular;\">center</span> <span style=\"color: black; font-weight: regular;\">commercial</span> <span style=\"color: black; font-weight: regular;\">banks</span> <span style=\"color: black; font-weight: regular;\">.</span> <span style=\"color: black; font-weight: regular;\">10</span> <span style=\"color: black; font-weight: regular;\">1/2</span> <span style=\"color: black; font-weight: regular;\">%</span> <span style=\"color: black; font-weight: regular;\">.</span>"
      ],
      "text/plain": [
       "<IPython.core.display.HTML object>"
      ]
     },
     "metadata": {},
     "output_type": "display_data"
    },
    {
     "name": "stdout",
     "output_type": "stream",
     "text": [
      "---\n"
     ]
    },
    {
     "data": {
      "text/html": [
       "<span style=\"color: black; font-weight: regular;\">Uh-huh</span> <span style=\"color: black; font-weight: regular;\">.</span> <span style=\"color: black; font-weight: regular;\">``</span> <span style=\"color: black; font-weight: regular;\">One</span> <span style=\"color: black; font-weight: regular;\">plan</span> <span style=\"color: black; font-weight: regular;\">``</span> <span style=\"color: black; font-weight: regular;\">refers</span> <span style=\"color: black; font-weight: regular;\">to</span> <span style=\"color: black; font-weight: regular;\">the</span> <span style=\"color: black; font-weight: regular;\">contingency</span> <span style=\"color: black; font-weight: regular;\">plan</span> <span style=\"color: black; font-weight: regular;\">,</span> <span style=\"color: black; font-weight: regular;\">and</span> <span style=\"color: black; font-weight: regular;\">``</span> <span style=\"color: black; font-weight: regular;\">three</span> <span style=\"color: black; font-weight: regular;\">systems</span> <span style=\"color: black; font-weight: regular;\">``</span> <span style=\"color: black; font-weight: regular;\">refers</span> <span style=\"color: black; font-weight: regular;\">to</span> <span style=\"color: black; font-weight: regular;\">systems</span> <span style=\"color: black; font-weight: regular;\">of</span> <span style=\"color: black; font-weight: regular;\">organizations</span> <span style=\"color: black; font-weight: regular;\">,</span> <span style=\"color: black; font-weight: regular;\">mechanisms</span> <span style=\"color: black; font-weight: regular;\">,</span> <span style=\"color: black; font-weight: regular;\">and</span> <span style=\"color: black; font-weight: regular;\">laws</span> <span style=\"color: black; font-weight: regular;\">.</span>"
      ],
      "text/plain": [
       "<IPython.core.display.HTML object>"
      ]
     },
     "metadata": {},
     "output_type": "display_data"
    },
    {
     "data": {
      "text/html": [
       "<span style=\"color: black; font-weight: regular;\">``</span> <span style=\"color: black; font-weight: regular;\">One</span> <span style=\"color: black; font-weight: regular;\">plan</span> <span style=\"color: black; font-weight: regular;\">``</span> <span style=\"color: black; font-weight: regular;\">refers</span> <span style=\"color: black; font-weight: regular;\">to</span> <span style=\"color: black; font-weight: regular;\">the</span> <span style=\"color: black; font-weight: regular;\">contingency</span> <span style=\"color: black; font-weight: regular;\">plan</span> <span style=\"color: black; font-weight: regular;\">,</span> <span style=\"color: black; font-weight: regular;\">and</span> <span style=\"color: black; font-weight: regular;\">``</span> <span style=\"color: black; font-weight: regular;\">three</span> <span style=\"color: black; font-weight: regular;\">systems</span> <span style=\"color: black; font-weight: regular;\">``</span> <span style=\"color: black; font-weight: regular;\">refers</span> <span style=\"color: black; font-weight: regular;\">to</span> <span style=\"color: black; font-weight: regular;\">systems</span> <span style=\"color: black; font-weight: regular;\">of</span> <span style=\"color: black; font-weight: regular;\">organizations</span> <span style=\"color: black; font-weight: regular;\">,</span> <span style=\"color: black; font-weight: regular;\">mechanisms</span> <span style=\"color: black; font-weight: regular;\">,</span> <span style=\"color: black; font-weight: regular;\">and</span> <span style=\"color: black; font-weight: regular;\">laws</span> <span style=\"color: black; font-weight: regular;\">.</span> <span style=\"color: black; font-weight: regular;\">Uh-huh</span> <span style=\"color: black; font-weight: regular;\">.</span>"
      ],
      "text/plain": [
       "<IPython.core.display.HTML object>"
      ]
     },
     "metadata": {},
     "output_type": "display_data"
    },
    {
     "name": "stdout",
     "output_type": "stream",
     "text": [
      "---\n"
     ]
    },
    {
     "data": {
      "text/html": [
       "<span style=\"color: black; font-weight: regular;\">I</span> <span style=\"color: black; font-weight: regular;\">mentioned</span> <span style=\"color: black; font-weight: regular;\">the</span> <span style=\"color: black; font-weight: regular;\">uh</span> <span style=\"color: black; font-weight: regular;\">devastating</span> <span style=\"color: black; font-weight: regular;\">earthquake</span> <span style=\"color: black; font-weight: regular;\">in</span> <span style=\"color: black; font-weight: regular;\">Pakistan</span> <span style=\"color: black; font-weight: regular;\">a</span> <span style=\"color: black; font-weight: regular;\">region</span> <span style=\"color: black; font-weight: regular;\">you</span> <span style=\"color: black; font-weight: regular;\">'re</span> <span style=\"color: black; font-weight: regular;\">familiar</span> <span style=\"color: black; font-weight: regular;\">with</span> <span style=\"color: black; font-weight: regular;\">/</span> <span style=\"color: black; font-weight: regular;\">.</span> <span style=\"color: black; font-weight: regular;\">Um</span> <span style=\"color: black; font-weight: regular;\">clearly</span> <span style=\"color: black; font-weight: regular;\">it</span> <span style=\"color: black; font-weight: regular;\">'s</span> <span style=\"color: black; font-weight: regular;\">become</span> <span style=\"color: black; font-weight: regular;\">a</span> <span style=\"color: black; font-weight: regular;\">pretty</span> <span style=\"color: black; font-weight: regular;\">big</span> <span style=\"color: black; font-weight: regular;\">story</span> <span style=\"color: black; font-weight: regular;\">/</span> <span style=\"color: black; font-weight: regular;\">.</span>"
      ],
      "text/plain": [
       "<IPython.core.display.HTML object>"
      ]
     },
     "metadata": {},
     "output_type": "display_data"
    },
    {
     "data": {
      "text/html": [
       "<span style=\"color: black; font-weight: regular;\">Um</span> <span style=\"color: black; font-weight: regular;\">clearly</span> <span style=\"color: black; font-weight: regular;\">it</span> <span style=\"color: black; font-weight: regular;\">'s</span> <span style=\"color: black; font-weight: regular;\">become</span> <span style=\"color: black; font-weight: regular;\">a</span> <span style=\"color: black; font-weight: regular;\">pretty</span> <span style=\"color: black; font-weight: regular;\">big</span> <span style=\"color: black; font-weight: regular;\">story</span> <span style=\"color: black; font-weight: regular;\">/</span> <span style=\"color: black; font-weight: regular;\">.</span> <span style=\"color: black; font-weight: regular;\">I</span> <span style=\"color: black; font-weight: regular;\">mentioned</span> <span style=\"color: black; font-weight: regular;\">the</span> <span style=\"color: black; font-weight: regular;\">uh</span> <span style=\"color: black; font-weight: regular;\">devastating</span> <span style=\"color: black; font-weight: regular;\">earthquake</span> <span style=\"color: black; font-weight: regular;\">in</span> <span style=\"color: black; font-weight: regular;\">Pakistan</span> <span style=\"color: black; font-weight: regular;\">a</span> <span style=\"color: black; font-weight: regular;\">region</span> <span style=\"color: black; font-weight: regular;\">you</span> <span style=\"color: black; font-weight: regular;\">'re</span> <span style=\"color: black; font-weight: regular;\">familiar</span> <span style=\"color: black; font-weight: regular;\">with</span> <span style=\"color: black; font-weight: regular;\">/</span> <span style=\"color: black; font-weight: regular;\">.</span>"
      ],
      "text/plain": [
       "<IPython.core.display.HTML object>"
      ]
     },
     "metadata": {},
     "output_type": "display_data"
    },
    {
     "name": "stdout",
     "output_type": "stream",
     "text": [
      "---\n"
     ]
    },
    {
     "data": {
      "text/html": [
       "<span style=\"color: black; font-weight: regular;\">Well</span> <span style=\"color: black; font-weight: regular;\">I</span> <span style=\"color: black; font-weight: regular;\">mean</span> <span style=\"color: blue; font-weight: bold;\">he</span> <span style=\"color: black; font-weight: regular;\">does</span> <span style=\"color: black; font-weight: regular;\">work</span> <span style=\"color: blue; font-weight: bold;\">his</span> <span style=\"color: black; font-weight: regular;\">ass</span> <span style=\"color: black; font-weight: regular;\">off</span> <span style=\"color: black; font-weight: regular;\">so</span>"
      ],
      "text/plain": [
       "<IPython.core.display.HTML object>"
      ]
     },
     "metadata": {},
     "output_type": "display_data"
    },
    {
     "data": {
      "text/html": [
       "<span style=\"color: black; font-weight: regular;\">so</span> <span style=\"color: black; font-weight: regular;\">Well</span> <span style=\"color: black; font-weight: regular;\">I</span> <span style=\"color: black; font-weight: regular;\">mean</span> <span style=\"color: blue; font-weight: bold;\">he</span> <span style=\"color: black; font-weight: regular;\">does</span> <span style=\"color: black; font-weight: regular;\">work</span> <span style=\"color: blue; font-weight: bold;\">his</span> <span style=\"color: black; font-weight: regular;\">ass</span> <span style=\"color: black; font-weight: regular;\">off</span>"
      ],
      "text/plain": [
       "<IPython.core.display.HTML object>"
      ]
     },
     "metadata": {},
     "output_type": "display_data"
    },
    {
     "name": "stdout",
     "output_type": "stream",
     "text": [
      "---\n"
     ]
    },
    {
     "data": {
      "text/html": [
       "<span style=\"color: black; font-weight: regular;\">And</span> <span style=\"color: black; font-weight: regular;\">are</span> <span style=\"color: black; font-weight: regular;\">Barnabas</span> <span style=\"color: black; font-weight: regular;\">and</span> <span style=\"color: black; font-weight: regular;\">I</span> <span style=\"color: black; font-weight: regular;\">the</span> <span style=\"color: black; font-weight: regular;\">only</span> <span style=\"color: black; font-weight: regular;\">ones</span> <span style=\"color: black; font-weight: regular;\">who</span> <span style=\"color: black; font-weight: regular;\">must</span> <span style=\"color: black; font-weight: regular;\">work</span> <span style=\"color: black; font-weight: regular;\">to</span> <span style=\"color: black; font-weight: regular;\">earn</span> <span style=\"color: black; font-weight: regular;\">our</span> <span style=\"color: black; font-weight: regular;\">living</span> <span style=\"color: black; font-weight: regular;\">?</span> <span style=\"color: black; font-weight: regular;\">No</span> <span style=\"color: black; font-weight: regular;\">soldier</span> <span style=\"color: black; font-weight: regular;\">ever</span> <span style=\"color: black; font-weight: regular;\">serves</span> <span style=\"color: black; font-weight: regular;\">in</span> <span style=\"color: black; font-weight: regular;\">the</span> <span style=\"color: black; font-weight: regular;\">army</span> <span style=\"color: black; font-weight: regular;\">and</span> <span style=\"color: black; font-weight: regular;\">pays</span> <span style=\"color: black; font-weight: regular;\">his</span> <span style=\"color: black; font-weight: regular;\">own</span> <span style=\"color: black; font-weight: regular;\">salary</span> <span style=\"color: black; font-weight: regular;\">.</span>"
      ],
      "text/plain": [
       "<IPython.core.display.HTML object>"
      ]
     },
     "metadata": {},
     "output_type": "display_data"
    },
    {
     "data": {
      "text/html": [
       "<span style=\"color: black; font-weight: regular;\">No</span> <span style=\"color: black; font-weight: regular;\">soldier</span> <span style=\"color: black; font-weight: regular;\">ever</span> <span style=\"color: black; font-weight: regular;\">serves</span> <span style=\"color: black; font-weight: regular;\">in</span> <span style=\"color: black; font-weight: regular;\">the</span> <span style=\"color: black; font-weight: regular;\">army</span> <span style=\"color: black; font-weight: regular;\">and</span> <span style=\"color: black; font-weight: regular;\">pays</span> <span style=\"color: black; font-weight: regular;\">his</span> <span style=\"color: black; font-weight: regular;\">own</span> <span style=\"color: black; font-weight: regular;\">salary</span> <span style=\"color: black; font-weight: regular;\">.</span> <span style=\"color: black; font-weight: regular;\">And</span> <span style=\"color: black; font-weight: regular;\">are</span> <span style=\"color: black; font-weight: regular;\">Barnabas</span> <span style=\"color: black; font-weight: regular;\">and</span> <span style=\"color: black; font-weight: regular;\">I</span> <span style=\"color: black; font-weight: regular;\">the</span> <span style=\"color: black; font-weight: regular;\">only</span> <span style=\"color: black; font-weight: regular;\">ones</span> <span style=\"color: black; font-weight: regular;\">who</span> <span style=\"color: black; font-weight: regular;\">must</span> <span style=\"color: black; font-weight: regular;\">work</span> <span style=\"color: black; font-weight: regular;\">to</span> <span style=\"color: black; font-weight: regular;\">earn</span> <span style=\"color: black; font-weight: regular;\">our</span> <span style=\"color: black; font-weight: regular;\">living</span> <span style=\"color: black; font-weight: regular;\">?</span>"
      ],
      "text/plain": [
       "<IPython.core.display.HTML object>"
      ]
     },
     "metadata": {},
     "output_type": "display_data"
    },
    {
     "name": "stdout",
     "output_type": "stream",
     "text": [
      "---\n"
     ]
    },
    {
     "data": {
      "text/html": [
       "<span style=\"color: black; font-weight: regular;\">Although</span> <span style=\"color: black; font-weight: regular;\">there</span> <span style=\"color: black; font-weight: regular;\">was</span> <span style=\"color: black; font-weight: regular;\">only</span> <span style=\"color: black; font-weight: regular;\">a</span> <span style=\"color: black; font-weight: regular;\">nodding</span> <span style=\"color: black; font-weight: regular;\">acquaintance</span> <span style=\"color: black; font-weight: regular;\">between</span> <span style=\"color: green; font-weight: bold;\">the</span> <span style=\"color: green; font-weight: bold;\">neighbor</span> <span style=\"color: black; font-weight: regular;\">and</span> <span style=\"color: blue; font-weight: bold;\">me</span> <span style=\"color: black; font-weight: regular;\">,</span> <span style=\"color: black; font-weight: regular;\">we</span> <span style=\"color: black; font-weight: regular;\">lived</span> <span style=\"color: black; font-weight: regular;\">in</span> <span style=\"color: black; font-weight: regular;\">the</span> <span style=\"color: black; font-weight: regular;\">same</span> <span style=\"color: black; font-weight: regular;\">apartment</span> <span style=\"color: black; font-weight: regular;\">building</span> <span style=\"color: black; font-weight: regular;\">after</span> <span style=\"color: black; font-weight: regular;\">all</span> <span style=\"color: black; font-weight: regular;\">and</span> <span style=\"color: black; font-weight: regular;\">were</span> <span style=\"color: black; font-weight: regular;\">both</span> <span style=\"color: black; font-weight: regular;\">Chinese</span> <span style=\"color: black; font-weight: regular;\">.</span> <span style=\"color: black; font-weight: regular;\">So</span> <span style=\"color: blue; font-weight: bold;\">I</span> <span style=\"color: black; font-weight: regular;\">discussed</span> <span style=\"color: black; font-weight: regular;\">with</span> <span style=\"color: blue; font-weight: bold;\">my</span> <span style=\"color: black; font-weight: regular;\">wife</span> <span style=\"color: black; font-weight: regular;\">back</span> <span style=\"color: black; font-weight: regular;\">home</span> <span style=\"color: black; font-weight: regular;\">and</span> <span style=\"color: black; font-weight: regular;\">lent</span> <span style=\"color: green; font-weight: bold;\">him</span> <span style=\"color: red; font-weight: bold;\">the</span> <span style=\"color: red; font-weight: bold;\">car</span> <span style=\"color: black; font-weight: regular;\">as</span> <span style=\"color: black; font-weight: regular;\">we</span> <span style=\"color: black; font-weight: regular;\">thought</span> <span style=\"color: black; font-weight: regular;\">we</span> <span style=\"color: black; font-weight: regular;\">would</span> <span style=\"color: black; font-weight: regular;\">not</span> <span style=\"color: black; font-weight: regular;\">be</span> <span style=\"color: black; font-weight: regular;\">using</span> <span style=\"color: red; font-weight: bold;\">the</span> <span style=\"color: red; font-weight: bold;\">car</span> <span style=\"color: black; font-weight: regular;\">until</span> <span style=\"color: black; font-weight: regular;\">the</span> <span style=\"color: black; font-weight: regular;\">same</span> <span style=\"color: black; font-weight: regular;\">afternoon</span> <span style=\"color: black; font-weight: regular;\">.</span>"
      ],
      "text/plain": [
       "<IPython.core.display.HTML object>"
      ]
     },
     "metadata": {},
     "output_type": "display_data"
    },
    {
     "data": {
      "text/html": [
       "<span style=\"color: black; font-weight: regular;\">So</span> <span style=\"color: blue; font-weight: bold;\">I</span> <span style=\"color: black; font-weight: regular;\">discussed</span> <span style=\"color: black; font-weight: regular;\">with</span> <span style=\"color: blue; font-weight: bold;\">my</span> <span style=\"color: black; font-weight: regular;\">wife</span> <span style=\"color: black; font-weight: regular;\">back</span> <span style=\"color: black; font-weight: regular;\">home</span> <span style=\"color: black; font-weight: regular;\">and</span> <span style=\"color: black; font-weight: regular;\">lent</span> <span style=\"color: black; font-weight: regular;\">him</span> <span style=\"color: green; font-weight: bold;\">the</span> <span style=\"color: green; font-weight: bold;\">car</span> <span style=\"color: black; font-weight: regular;\">as</span> <span style=\"color: black; font-weight: regular;\">we</span> <span style=\"color: black; font-weight: regular;\">thought</span> <span style=\"color: black; font-weight: regular;\">we</span> <span style=\"color: black; font-weight: regular;\">would</span> <span style=\"color: black; font-weight: regular;\">not</span> <span style=\"color: black; font-weight: regular;\">be</span> <span style=\"color: black; font-weight: regular;\">using</span> <span style=\"color: green; font-weight: bold;\">the</span> <span style=\"color: green; font-weight: bold;\">car</span> <span style=\"color: black; font-weight: regular;\">until</span> <span style=\"color: black; font-weight: regular;\">the</span> <span style=\"color: black; font-weight: regular;\">same</span> <span style=\"color: black; font-weight: regular;\">afternoon</span> <span style=\"color: black; font-weight: regular;\">.</span> <span style=\"color: black; font-weight: regular;\">Although</span> <span style=\"color: black; font-weight: regular;\">there</span> <span style=\"color: black; font-weight: regular;\">was</span> <span style=\"color: black; font-weight: regular;\">only</span> <span style=\"color: black; font-weight: regular;\">a</span> <span style=\"color: black; font-weight: regular;\">nodding</span> <span style=\"color: black; font-weight: regular;\">acquaintance</span> <span style=\"color: black; font-weight: regular;\">between</span> <span style=\"color: black; font-weight: regular;\">the</span> <span style=\"color: black; font-weight: regular;\">neighbor</span> <span style=\"color: black; font-weight: regular;\">and</span> <span style=\"color: blue; font-weight: bold;\">me</span> <span style=\"color: black; font-weight: regular;\">,</span> <span style=\"color: black; font-weight: regular;\">we</span> <span style=\"color: black; font-weight: regular;\">lived</span> <span style=\"color: black; font-weight: regular;\">in</span> <span style=\"color: black; font-weight: regular;\">the</span> <span style=\"color: black; font-weight: regular;\">same</span> <span style=\"color: black; font-weight: regular;\">apartment</span> <span style=\"color: black; font-weight: regular;\">building</span> <span style=\"color: black; font-weight: regular;\">after</span> <span style=\"color: black; font-weight: regular;\">all</span> <span style=\"color: black; font-weight: regular;\">and</span> <span style=\"color: black; font-weight: regular;\">were</span> <span style=\"color: black; font-weight: regular;\">both</span> <span style=\"color: black; font-weight: regular;\">Chinese</span> <span style=\"color: black; font-weight: regular;\">.</span>"
      ],
      "text/plain": [
       "<IPython.core.display.HTML object>"
      ]
     },
     "metadata": {},
     "output_type": "display_data"
    },
    {
     "name": "stdout",
     "output_type": "stream",
     "text": [
      "---\n"
     ]
    },
    {
     "data": {
      "text/html": [
       "<span style=\"color: black; font-weight: regular;\">And</span> <span style=\"color: black; font-weight: regular;\">most</span> <span style=\"color: black; font-weight: regular;\">importantly</span> <span style=\"color: black; font-weight: regular;\">:</span> <span style=\"color: black; font-weight: regular;\">the</span> <span style=\"color: black; font-weight: regular;\">dignity</span> <span style=\"color: black; font-weight: regular;\">and</span> <span style=\"color: black; font-weight: regular;\">honor</span> <span style=\"color: black; font-weight: regular;\">of</span> <span style=\"color: black; font-weight: regular;\">the</span> <span style=\"color: black; font-weight: regular;\">entire</span> <span style=\"color: black; font-weight: regular;\">family</span> <span style=\"color: black; font-weight: regular;\">-LRB-</span> <span style=\"color: black; font-weight: regular;\">except</span> <span style=\"color: black; font-weight: regular;\">children</span> <span style=\"color: black; font-weight: regular;\">-RRB-</span> <span style=\"color: black; font-weight: regular;\">.</span> <span style=\"color: black; font-weight: regular;\">--</span>"
      ],
      "text/plain": [
       "<IPython.core.display.HTML object>"
      ]
     },
     "metadata": {},
     "output_type": "display_data"
    },
    {
     "data": {
      "text/html": [
       "<span style=\"color: black; font-weight: regular;\">--</span> <span style=\"color: black; font-weight: regular;\">And</span> <span style=\"color: black; font-weight: regular;\">most</span> <span style=\"color: black; font-weight: regular;\">importantly</span> <span style=\"color: black; font-weight: regular;\">:</span> <span style=\"color: black; font-weight: regular;\">the</span> <span style=\"color: black; font-weight: regular;\">dignity</span> <span style=\"color: black; font-weight: regular;\">and</span> <span style=\"color: black; font-weight: regular;\">honor</span> <span style=\"color: black; font-weight: regular;\">of</span> <span style=\"color: black; font-weight: regular;\">the</span> <span style=\"color: black; font-weight: regular;\">entire</span> <span style=\"color: black; font-weight: regular;\">family</span> <span style=\"color: black; font-weight: regular;\">-LRB-</span> <span style=\"color: black; font-weight: regular;\">except</span> <span style=\"color: black; font-weight: regular;\">children</span> <span style=\"color: black; font-weight: regular;\">-RRB-</span> <span style=\"color: black; font-weight: regular;\">.</span>"
      ],
      "text/plain": [
       "<IPython.core.display.HTML object>"
      ]
     },
     "metadata": {},
     "output_type": "display_data"
    },
    {
     "name": "stdout",
     "output_type": "stream",
     "text": [
      "---\n"
     ]
    },
    {
     "data": {
      "text/html": [
       "<span style=\"color: black; font-weight: regular;\">Even</span> <span style=\"color: black; font-weight: regular;\">if</span> <span style=\"color: green; font-weight: bold;\">the</span> <span style=\"color: green; font-weight: bold;\">township</span> <span style=\"color: green; font-weight: bold;\">of</span> <span style=\"color: green; font-weight: bold;\">Linpien</span> <span style=\"color: black; font-weight: regular;\">does</span> <span style=\"color: black; font-weight: regular;\">n't</span> <span style=\"color: black; font-weight: regular;\">have</span> <span style=\"color: black; font-weight: regular;\">a</span> <span style=\"color: black; font-weight: regular;\">monopoly</span> <span style=\"color: black; font-weight: regular;\">on</span> <span style=\"color: black; font-weight: regular;\">the</span> <span style=\"color: black; font-weight: regular;\">cultivation</span> <span style=\"color: black; font-weight: regular;\">of</span> <span style=\"color: black; font-weight: regular;\">``</span> <span style=\"color: black; font-weight: regular;\">black</span> <span style=\"color: black; font-weight: regular;\">pearl</span> <span style=\"color: black; font-weight: regular;\">``</span> <span style=\"color: black; font-weight: regular;\">wax</span> <span style=\"color: black; font-weight: regular;\">apples</span> <span style=\"color: black; font-weight: regular;\">,</span> <span style=\"color: black; font-weight: regular;\">it</span> <span style=\"color: black; font-weight: regular;\">was</span> <span style=\"color: black; font-weight: regular;\">orchards</span> <span style=\"color: black; font-weight: regular;\">in</span> <span style=\"color: black; font-weight: regular;\">the</span> <span style=\"color: black; font-weight: regular;\">Linpien</span> <span style=\"color: black; font-weight: regular;\">locality</span> <span style=\"color: black; font-weight: regular;\">that</span> <span style=\"color: black; font-weight: regular;\">earned</span> <span style=\"color: black; font-weight: regular;\">black</span> <span style=\"color: black; font-weight: regular;\">pearls</span> <span style=\"color: black; font-weight: regular;\">their</span> <span style=\"color: black; font-weight: regular;\">national</span> <span style=\"color: black; font-weight: regular;\">renown</span> <span style=\"color: black; font-weight: regular;\">.</span> <span style=\"color: blue; font-weight: bold;\">A</span> <span style=\"color: blue; font-weight: bold;\">little</span> <span style=\"color: blue; font-weight: bold;\">town</span> <span style=\"color: blue; font-weight: bold;\">formerly</span> <span style=\"color: blue; font-weight: bold;\">notorious</span> <span style=\"color: black; font-weight: regular;\">for</span> <span style=\"color: blue; font-weight: bold;\">its</span> <span style=\"color: black; font-weight: regular;\">ground</span> <span style=\"color: black; font-weight: regular;\">subsidence</span> <span style=\"color: black; font-weight: regular;\">problem</span> <span style=\"color: black; font-weight: regular;\">,</span> <span style=\"color: green; font-weight: bold;\">Linpien</span> <span style=\"color: black; font-weight: regular;\">is</span> <span style=\"color: black; font-weight: regular;\">now</span> <span style=\"color: black; font-weight: regular;\">turning</span> <span style=\"color: green; font-weight: bold;\">itself</span> <span style=\"color: black; font-weight: regular;\">into</span> <span style=\"color: black; font-weight: regular;\">one</span> <span style=\"color: black; font-weight: regular;\">of</span> <span style=\"color: black; font-weight: regular;\">Southern</span> <span style=\"color: black; font-weight: regular;\">Taiwan</span> <span style=\"color: black; font-weight: regular;\">'s</span> <span style=\"color: black; font-weight: regular;\">premier</span> <span style=\"color: black; font-weight: regular;\">tourist</span> <span style=\"color: black; font-weight: regular;\">attractions</span> <span style=\"color: black; font-weight: regular;\">.</span>"
      ],
      "text/plain": [
       "<IPython.core.display.HTML object>"
      ]
     },
     "metadata": {},
     "output_type": "display_data"
    },
    {
     "data": {
      "text/html": [
       "<span style=\"color: blue; font-weight: bold;\">A</span> <span style=\"color: blue; font-weight: bold;\">little</span> <span style=\"color: blue; font-weight: bold;\">town</span> <span style=\"color: blue; font-weight: bold;\">formerly</span> <span style=\"color: blue; font-weight: bold;\">notorious</span> <span style=\"color: black; font-weight: regular;\">for</span> <span style=\"color: blue; font-weight: bold;\">its</span> <span style=\"color: black; font-weight: regular;\">ground</span> <span style=\"color: black; font-weight: regular;\">subsidence</span> <span style=\"color: black; font-weight: regular;\">problem</span> <span style=\"color: black; font-weight: regular;\">,</span> <span style=\"color: green; font-weight: bold;\">Linpien</span> <span style=\"color: black; font-weight: regular;\">is</span> <span style=\"color: black; font-weight: regular;\">now</span> <span style=\"color: black; font-weight: regular;\">turning</span> <span style=\"color: green; font-weight: bold;\">itself</span> <span style=\"color: black; font-weight: regular;\">into</span> <span style=\"color: black; font-weight: regular;\">one</span> <span style=\"color: black; font-weight: regular;\">of</span> <span style=\"color: black; font-weight: regular;\">Southern</span> <span style=\"color: black; font-weight: regular;\">Taiwan</span> <span style=\"color: black; font-weight: regular;\">'s</span> <span style=\"color: black; font-weight: regular;\">premier</span> <span style=\"color: black; font-weight: regular;\">tourist</span> <span style=\"color: black; font-weight: regular;\">attractions</span> <span style=\"color: black; font-weight: regular;\">.</span> <span style=\"color: black; font-weight: regular;\">Even</span> <span style=\"color: black; font-weight: regular;\">if</span> <span style=\"color: green; font-weight: bold;\">the</span> <span style=\"color: green; font-weight: bold;\">township</span> <span style=\"color: green; font-weight: bold;\">of</span> <span style=\"color: green; font-weight: bold;\">Linpien</span> <span style=\"color: black; font-weight: regular;\">does</span> <span style=\"color: black; font-weight: regular;\">n't</span> <span style=\"color: black; font-weight: regular;\">have</span> <span style=\"color: black; font-weight: regular;\">a</span> <span style=\"color: black; font-weight: regular;\">monopoly</span> <span style=\"color: black; font-weight: regular;\">on</span> <span style=\"color: black; font-weight: regular;\">the</span> <span style=\"color: black; font-weight: regular;\">cultivation</span> <span style=\"color: black; font-weight: regular;\">of</span> <span style=\"color: black; font-weight: regular;\">``</span> <span style=\"color: black; font-weight: regular;\">black</span> <span style=\"color: black; font-weight: regular;\">pearl</span> <span style=\"color: black; font-weight: regular;\">``</span> <span style=\"color: black; font-weight: regular;\">wax</span> <span style=\"color: black; font-weight: regular;\">apples</span> <span style=\"color: black; font-weight: regular;\">,</span> <span style=\"color: green; font-weight: bold;\">it</span> <span style=\"color: black; font-weight: regular;\">was</span> <span style=\"color: black; font-weight: regular;\">orchards</span> <span style=\"color: black; font-weight: regular;\">in</span> <span style=\"color: black; font-weight: regular;\">the</span> <span style=\"color: black; font-weight: regular;\">Linpien</span> <span style=\"color: black; font-weight: regular;\">locality</span> <span style=\"color: black; font-weight: regular;\">that</span> <span style=\"color: black; font-weight: regular;\">earned</span> <span style=\"color: black; font-weight: regular;\">black</span> <span style=\"color: black; font-weight: regular;\">pearls</span> <span style=\"color: black; font-weight: regular;\">their</span> <span style=\"color: black; font-weight: regular;\">national</span> <span style=\"color: black; font-weight: regular;\">renown</span> <span style=\"color: black; font-weight: regular;\">.</span>"
      ],
      "text/plain": [
       "<IPython.core.display.HTML object>"
      ]
     },
     "metadata": {},
     "output_type": "display_data"
    },
    {
     "name": "stdout",
     "output_type": "stream",
     "text": [
      "---\n"
     ]
    },
    {
     "data": {
      "text/html": [
       "<span style=\"color: blue; font-weight: bold;\">They</span> <span style=\"color: black; font-weight: regular;\">ca</span> <span style=\"color: black; font-weight: regular;\">n't</span> <span style=\"color: black; font-weight: regular;\">just</span> <span style=\"color: black; font-weight: regular;\">think</span> <span style=\"color: black; font-weight: regular;\">that</span> <span style=\"color: blue; font-weight: bold;\">they</span> <span style=\"color: black; font-weight: regular;\">can</span> <span style=\"color: black; font-weight: regular;\">sit</span> <span style=\"color: black; font-weight: regular;\">down</span> <span style=\"color: black; font-weight: regular;\">with</span> <span style=\"color: black; font-weight: regular;\">the</span> <span style=\"color: black; font-weight: regular;\">United</span> <span style=\"color: black; font-weight: regular;\">States</span> <span style=\"color: black; font-weight: regular;\">alone</span> <span style=\"color: black; font-weight: regular;\">/</span> <span style=\"color: black; font-weight: regular;\">.</span> <span style=\"color: black; font-weight: regular;\">That</span> <span style=\"color: black; font-weight: regular;\">does</span> <span style=\"color: black; font-weight: regular;\">n't</span> <span style=\"color: black; font-weight: regular;\">work</span> <span style=\"color: black; font-weight: regular;\">for</span> <span style=\"color: black; font-weight: regular;\">Japan</span> <span style=\"color: black; font-weight: regular;\">/</span> <span style=\"color: black; font-weight: regular;\">.</span>"
      ],
      "text/plain": [
       "<IPython.core.display.HTML object>"
      ]
     },
     "metadata": {},
     "output_type": "display_data"
    },
    {
     "data": {
      "text/html": [
       "<span style=\"color: black; font-weight: regular;\">That</span> <span style=\"color: black; font-weight: regular;\">does</span> <span style=\"color: black; font-weight: regular;\">n't</span> <span style=\"color: black; font-weight: regular;\">work</span> <span style=\"color: black; font-weight: regular;\">for</span> <span style=\"color: black; font-weight: regular;\">Japan</span> <span style=\"color: black; font-weight: regular;\">/</span> <span style=\"color: black; font-weight: regular;\">.</span> <span style=\"color: blue; font-weight: bold;\">They</span> <span style=\"color: black; font-weight: regular;\">ca</span> <span style=\"color: black; font-weight: regular;\">n't</span> <span style=\"color: black; font-weight: regular;\">just</span> <span style=\"color: black; font-weight: regular;\">think</span> <span style=\"color: black; font-weight: regular;\">that</span> <span style=\"color: blue; font-weight: bold;\">they</span> <span style=\"color: black; font-weight: regular;\">can</span> <span style=\"color: black; font-weight: regular;\">sit</span> <span style=\"color: black; font-weight: regular;\">down</span> <span style=\"color: black; font-weight: regular;\">with</span> <span style=\"color: black; font-weight: regular;\">the</span> <span style=\"color: black; font-weight: regular;\">United</span> <span style=\"color: black; font-weight: regular;\">States</span> <span style=\"color: black; font-weight: regular;\">alone</span> <span style=\"color: black; font-weight: regular;\">/</span> <span style=\"color: black; font-weight: regular;\">.</span>"
      ],
      "text/plain": [
       "<IPython.core.display.HTML object>"
      ]
     },
     "metadata": {},
     "output_type": "display_data"
    },
    {
     "name": "stdout",
     "output_type": "stream",
     "text": [
      "---\n"
     ]
    },
    {
     "data": {
      "text/html": [
       "<span style=\"color: black; font-weight: regular;\">Raytheon</span> <span style=\"color: black; font-weight: regular;\">CEO</span> <span style=\"color: black; font-weight: regular;\">Tom</span> <span style=\"color: black; font-weight: regular;\">Phillips</span> <span style=\"color: black; font-weight: regular;\">and</span> <span style=\"color: black; font-weight: regular;\">other</span> <span style=\"color: black; font-weight: regular;\">figures</span> <span style=\"color: black; font-weight: regular;\">in</span> <span style=\"color: black; font-weight: regular;\">the</span> <span style=\"color: black; font-weight: regular;\">military</span> <span style=\"color: black; font-weight: regular;\">-</span> <span style=\"color: black; font-weight: regular;\">industrial</span> <span style=\"color: black; font-weight: regular;\">complex</span> <span style=\"color: black; font-weight: regular;\">,</span> <span style=\"color: black; font-weight: regular;\">pay</span> <span style=\"color: black; font-weight: regular;\">the</span> <span style=\"color: black; font-weight: regular;\">bills</span> <span style=\"color: black; font-weight: regular;\">.</span> <span style=\"color: black; font-weight: regular;\">The</span> <span style=\"color: black; font-weight: regular;\">Fellowship</span> <span style=\"color: black; font-weight: regular;\">specializes</span> <span style=\"color: black; font-weight: regular;\">in</span> <span style=\"color: black; font-weight: regular;\">taking</span> <span style=\"color: black; font-weight: regular;\">over</span> <span style=\"color: black; font-weight: regular;\">the</span> <span style=\"color: black; font-weight: regular;\">lives</span> <span style=\"color: black; font-weight: regular;\">of</span> <span style=\"color: black; font-weight: regular;\">potentially</span> <span style=\"color: black; font-weight: regular;\">powerful</span> <span style=\"color: black; font-weight: regular;\">individuals</span> <span style=\"color: black; font-weight: regular;\">who</span> <span style=\"color: black; font-weight: regular;\">have</span> <span style=\"color: black; font-weight: regular;\">become</span> <span style=\"color: black; font-weight: regular;\">somehow</span> <span style=\"color: black; font-weight: regular;\">ruined</span> <span style=\"color: black; font-weight: regular;\">,</span> <span style=\"color: black; font-weight: regular;\">and</span> <span style=\"color: black; font-weight: regular;\">promising</span> <span style=\"color: blue; font-weight: bold;\">them</span> <span style=\"color: black; font-weight: regular;\">dominion</span> <span style=\"color: black; font-weight: regular;\">in</span> <span style=\"color: black; font-weight: regular;\">the</span> <span style=\"color: black; font-weight: regular;\">world</span> <span style=\"color: black; font-weight: regular;\">if</span> <span style=\"color: blue; font-weight: bold;\">they</span> <span style=\"color: black; font-weight: regular;\">will</span> <span style=\"color: black; font-weight: regular;\">play</span> <span style=\"color: black; font-weight: regular;\">along</span> <span style=\"color: black; font-weight: regular;\">.</span>"
      ],
      "text/plain": [
       "<IPython.core.display.HTML object>"
      ]
     },
     "metadata": {},
     "output_type": "display_data"
    },
    {
     "data": {
      "text/html": [
       "<span style=\"color: black; font-weight: regular;\">The</span> <span style=\"color: black; font-weight: regular;\">Fellowship</span> <span style=\"color: black; font-weight: regular;\">specializes</span> <span style=\"color: black; font-weight: regular;\">in</span> <span style=\"color: black; font-weight: regular;\">taking</span> <span style=\"color: black; font-weight: regular;\">over</span> <span style=\"color: black; font-weight: regular;\">the</span> <span style=\"color: black; font-weight: regular;\">lives</span> <span style=\"color: black; font-weight: regular;\">of</span> <span style=\"color: black; font-weight: regular;\">potentially</span> <span style=\"color: black; font-weight: regular;\">powerful</span> <span style=\"color: black; font-weight: regular;\">individuals</span> <span style=\"color: black; font-weight: regular;\">who</span> <span style=\"color: black; font-weight: regular;\">have</span> <span style=\"color: black; font-weight: regular;\">become</span> <span style=\"color: black; font-weight: regular;\">somehow</span> <span style=\"color: black; font-weight: regular;\">ruined</span> <span style=\"color: black; font-weight: regular;\">,</span> <span style=\"color: black; font-weight: regular;\">and</span> <span style=\"color: black; font-weight: regular;\">promising</span> <span style=\"color: blue; font-weight: bold;\">them</span> <span style=\"color: black; font-weight: regular;\">dominion</span> <span style=\"color: black; font-weight: regular;\">in</span> <span style=\"color: black; font-weight: regular;\">the</span> <span style=\"color: black; font-weight: regular;\">world</span> <span style=\"color: black; font-weight: regular;\">if</span> <span style=\"color: blue; font-weight: bold;\">they</span> <span style=\"color: black; font-weight: regular;\">will</span> <span style=\"color: black; font-weight: regular;\">play</span> <span style=\"color: black; font-weight: regular;\">along</span> <span style=\"color: black; font-weight: regular;\">.</span> <span style=\"color: black; font-weight: regular;\">Raytheon</span> <span style=\"color: black; font-weight: regular;\">CEO</span> <span style=\"color: black; font-weight: regular;\">Tom</span> <span style=\"color: black; font-weight: regular;\">Phillips</span> <span style=\"color: black; font-weight: regular;\">and</span> <span style=\"color: black; font-weight: regular;\">other</span> <span style=\"color: black; font-weight: regular;\">figures</span> <span style=\"color: black; font-weight: regular;\">in</span> <span style=\"color: black; font-weight: regular;\">the</span> <span style=\"color: black; font-weight: regular;\">military</span> <span style=\"color: black; font-weight: regular;\">-</span> <span style=\"color: black; font-weight: regular;\">industrial</span> <span style=\"color: black; font-weight: regular;\">complex</span> <span style=\"color: black; font-weight: regular;\">,</span> <span style=\"color: black; font-weight: regular;\">pay</span> <span style=\"color: black; font-weight: regular;\">the</span> <span style=\"color: black; font-weight: regular;\">bills</span> <span style=\"color: black; font-weight: regular;\">.</span>"
      ],
      "text/plain": [
       "<IPython.core.display.HTML object>"
      ]
     },
     "metadata": {},
     "output_type": "display_data"
    },
    {
     "name": "stdout",
     "output_type": "stream",
     "text": [
      "---\n"
     ]
    },
    {
     "data": {
      "text/html": [
       "<span style=\"color: black; font-weight: regular;\">These</span> <span style=\"color: black; font-weight: regular;\">copies</span> <span style=\"color: black; font-weight: regular;\">had</span> <span style=\"color: black; font-weight: regular;\">to</span> <span style=\"color: black; font-weight: regular;\">be</span> <span style=\"color: black; font-weight: regular;\">made</span> <span style=\"color: black; font-weight: regular;\">clean</span> <span style=\"color: black; font-weight: regular;\">by</span> <span style=\"color: black; font-weight: regular;\">animal</span> <span style=\"color: black; font-weight: regular;\">sacrifices</span> <span style=\"color: black; font-weight: regular;\">.</span> <span style=\"color: black; font-weight: regular;\">But</span> <span style=\"color: black; font-weight: regular;\">the</span> <span style=\"color: black; font-weight: regular;\">real</span> <span style=\"color: black; font-weight: regular;\">things</span> <span style=\"color: black; font-weight: regular;\">in</span> <span style=\"color: black; font-weight: regular;\">heaven</span> <span style=\"color: black; font-weight: regular;\">must</span> <span style=\"color: black; font-weight: regular;\">have</span> <span style=\"color: black; font-weight: regular;\">much</span> <span style=\"color: black; font-weight: regular;\">better</span> <span style=\"color: black; font-weight: regular;\">sacrifices</span> <span style=\"color: black; font-weight: regular;\">.</span>"
      ],
      "text/plain": [
       "<IPython.core.display.HTML object>"
      ]
     },
     "metadata": {},
     "output_type": "display_data"
    },
    {
     "data": {
      "text/html": [
       "<span style=\"color: black; font-weight: regular;\">But</span> <span style=\"color: black; font-weight: regular;\">the</span> <span style=\"color: black; font-weight: regular;\">real</span> <span style=\"color: black; font-weight: regular;\">things</span> <span style=\"color: black; font-weight: regular;\">in</span> <span style=\"color: black; font-weight: regular;\">heaven</span> <span style=\"color: black; font-weight: regular;\">must</span> <span style=\"color: black; font-weight: regular;\">have</span> <span style=\"color: black; font-weight: regular;\">much</span> <span style=\"color: black; font-weight: regular;\">better</span> <span style=\"color: black; font-weight: regular;\">sacrifices</span> <span style=\"color: black; font-weight: regular;\">.</span> <span style=\"color: black; font-weight: regular;\">These</span> <span style=\"color: black; font-weight: regular;\">copies</span> <span style=\"color: black; font-weight: regular;\">had</span> <span style=\"color: black; font-weight: regular;\">to</span> <span style=\"color: black; font-weight: regular;\">be</span> <span style=\"color: black; font-weight: regular;\">made</span> <span style=\"color: black; font-weight: regular;\">clean</span> <span style=\"color: black; font-weight: regular;\">by</span> <span style=\"color: black; font-weight: regular;\">animal</span> <span style=\"color: black; font-weight: regular;\">sacrifices</span> <span style=\"color: black; font-weight: regular;\">.</span>"
      ],
      "text/plain": [
       "<IPython.core.display.HTML object>"
      ]
     },
     "metadata": {},
     "output_type": "display_data"
    },
    {
     "name": "stdout",
     "output_type": "stream",
     "text": [
      "---\n"
     ]
    },
    {
     "data": {
      "text/html": [
       "<span style=\"color: black; font-weight: regular;\">``</span> <span style=\"color: black; font-weight: regular;\">The</span> <span style=\"color: black; font-weight: regular;\">market</span> <span style=\"color: black; font-weight: regular;\">was</span> <span style=\"color: black; font-weight: regular;\">up</span> <span style=\"color: black; font-weight: regular;\">35</span> <span style=\"color: black; font-weight: regular;\">%</span> <span style=\"color: black; font-weight: regular;\">since</span> <span style=\"color: black; font-weight: regular;\">-LCB-</span> <span style=\"color: blue; font-weight: bold;\">President</span> <span style=\"color: blue; font-weight: bold;\">-RCB-</span> <span style=\"color: blue; font-weight: bold;\">Bush</span> <span style=\"color: black; font-weight: regular;\">took</span> <span style=\"color: black; font-weight: regular;\">office</span> <span style=\"color: black; font-weight: regular;\">,</span> <span style=\"color: black; font-weight: regular;\">''</span> <span style=\"color: blue; font-weight: bold;\">Mr.</span> <span style=\"color: blue; font-weight: bold;\">Gabelli</span> <span style=\"color: black; font-weight: regular;\">says</span> <span style=\"color: black; font-weight: regular;\">,</span> <span style=\"color: black; font-weight: regular;\">so</span> <span style=\"color: black; font-weight: regular;\">a</span> <span style=\"color: black; font-weight: regular;\">correction</span> <span style=\"color: black; font-weight: regular;\">was</span> <span style=\"color: black; font-weight: regular;\">to</span> <span style=\"color: black; font-weight: regular;\">be</span> <span style=\"color: black; font-weight: regular;\">expected</span> <span style=\"color: black; font-weight: regular;\">.</span> <span style=\"color: blue; font-weight: bold;\">He</span> <span style=\"color: black; font-weight: regular;\">thinks</span> <span style=\"color: black; font-weight: regular;\">another</span> <span style=\"color: black; font-weight: regular;\">crash</span> <span style=\"color: black; font-weight: regular;\">is</span> <span style=\"color: black; font-weight: regular;\">``</span> <span style=\"color: black; font-weight: regular;\">unlikely</span> <span style=\"color: black; font-weight: regular;\">,</span> <span style=\"color: black; font-weight: regular;\">''</span> <span style=\"color: black; font-weight: regular;\">and</span> <span style=\"color: black; font-weight: regular;\">says</span> <span style=\"color: blue; font-weight: bold;\">he</span> <span style=\"color: black; font-weight: regular;\">was</span> <span style=\"color: black; font-weight: regular;\">``</span> <span style=\"color: black; font-weight: regular;\">nibbling</span> <span style=\"color: black; font-weight: regular;\">at</span> <span style=\"color: black; font-weight: regular;\">''</span> <span style=\"color: black; font-weight: regular;\">selected</span> <span style=\"color: black; font-weight: regular;\">stocks</span> <span style=\"color: black; font-weight: regular;\">during</span> <span style=\"color: black; font-weight: regular;\">Friday</span> <span style=\"color: black; font-weight: regular;\">'s</span> <span style=\"color: black; font-weight: regular;\">plunge</span> <span style=\"color: black; font-weight: regular;\">.</span>"
      ],
      "text/plain": [
       "<IPython.core.display.HTML object>"
      ]
     },
     "metadata": {},
     "output_type": "display_data"
    },
    {
     "data": {
      "text/html": [
       "<span style=\"color: blue; font-weight: bold;\">He</span> <span style=\"color: black; font-weight: regular;\">thinks</span> <span style=\"color: black; font-weight: regular;\">another</span> <span style=\"color: black; font-weight: regular;\">crash</span> <span style=\"color: black; font-weight: regular;\">is</span> <span style=\"color: black; font-weight: regular;\">``</span> <span style=\"color: black; font-weight: regular;\">unlikely</span> <span style=\"color: black; font-weight: regular;\">,</span> <span style=\"color: black; font-weight: regular;\">''</span> <span style=\"color: black; font-weight: regular;\">and</span> <span style=\"color: black; font-weight: regular;\">says</span> <span style=\"color: blue; font-weight: bold;\">he</span> <span style=\"color: black; font-weight: regular;\">was</span> <span style=\"color: black; font-weight: regular;\">``</span> <span style=\"color: black; font-weight: regular;\">nibbling</span> <span style=\"color: black; font-weight: regular;\">at</span> <span style=\"color: black; font-weight: regular;\">''</span> <span style=\"color: black; font-weight: regular;\">selected</span> <span style=\"color: black; font-weight: regular;\">stocks</span> <span style=\"color: black; font-weight: regular;\">during</span> <span style=\"color: black; font-weight: regular;\">Friday</span> <span style=\"color: black; font-weight: regular;\">'s</span> <span style=\"color: black; font-weight: regular;\">plunge</span> <span style=\"color: black; font-weight: regular;\">.</span> <span style=\"color: black; font-weight: regular;\">``</span> <span style=\"color: black; font-weight: regular;\">The</span> <span style=\"color: black; font-weight: regular;\">market</span> <span style=\"color: black; font-weight: regular;\">was</span> <span style=\"color: black; font-weight: regular;\">up</span> <span style=\"color: black; font-weight: regular;\">35</span> <span style=\"color: black; font-weight: regular;\">%</span> <span style=\"color: black; font-weight: regular;\">since</span> <span style=\"color: black; font-weight: regular;\">-LCB-</span> <span style=\"color: black; font-weight: regular;\">President</span> <span style=\"color: black; font-weight: regular;\">-RCB-</span> <span style=\"color: black; font-weight: regular;\">Bush</span> <span style=\"color: black; font-weight: regular;\">took</span> <span style=\"color: black; font-weight: regular;\">office</span> <span style=\"color: black; font-weight: regular;\">,</span> <span style=\"color: black; font-weight: regular;\">''</span> <span style=\"color: blue; font-weight: bold;\">Mr.</span> <span style=\"color: blue; font-weight: bold;\">Gabelli</span> <span style=\"color: black; font-weight: regular;\">says</span> <span style=\"color: black; font-weight: regular;\">,</span> <span style=\"color: black; font-weight: regular;\">so</span> <span style=\"color: black; font-weight: regular;\">a</span> <span style=\"color: black; font-weight: regular;\">correction</span> <span style=\"color: black; font-weight: regular;\">was</span> <span style=\"color: black; font-weight: regular;\">to</span> <span style=\"color: black; font-weight: regular;\">be</span> <span style=\"color: black; font-weight: regular;\">expected</span> <span style=\"color: black; font-weight: regular;\">.</span>"
      ],
      "text/plain": [
       "<IPython.core.display.HTML object>"
      ]
     },
     "metadata": {},
     "output_type": "display_data"
    },
    {
     "name": "stdout",
     "output_type": "stream",
     "text": [
      "---\n"
     ]
    },
    {
     "data": {
      "text/html": [
       "<span style=\"color: black; font-weight: regular;\">A</span> <span style=\"color: black; font-weight: regular;\">White</span> <span style=\"color: black; font-weight: regular;\">House</span> <span style=\"color: black; font-weight: regular;\">spokesman</span> <span style=\"color: black; font-weight: regular;\">said</span> <span style=\"color: black; font-weight: regular;\">the</span> <span style=\"color: black; font-weight: regular;\">talks</span> <span style=\"color: black; font-weight: regular;\">are</span> <span style=\"color: black; font-weight: regular;\">aimed</span> <span style=\"color: black; font-weight: regular;\">at</span> <span style=\"color: black; font-weight: regular;\">establishing</span> <span style=\"color: black; font-weight: regular;\">the</span> <span style=\"color: black; font-weight: regular;\">parameters</span> <span style=\"color: black; font-weight: regular;\">for</span> <span style=\"color: black; font-weight: regular;\">resuming</span> <span style=\"color: black; font-weight: regular;\">Israeli</span> <span style=\"color: black; font-weight: regular;\">-</span> <span style=\"color: black; font-weight: regular;\">Palestinian</span> <span style=\"color: black; font-weight: regular;\">negotiations</span> <span style=\"color: black; font-weight: regular;\">.</span> <span style=\"color: black; font-weight: regular;\">Palestinians</span> <span style=\"color: black; font-weight: regular;\">have</span> <span style=\"color: black; font-weight: regular;\">demanded</span> <span style=\"color: black; font-weight: regular;\">clarification</span> <span style=\"color: black; font-weight: regular;\">of</span> <span style=\"color: black; font-weight: regular;\">US</span> <span style=\"color: black; font-weight: regular;\">proposals</span> <span style=\"color: black; font-weight: regular;\">for</span> <span style=\"color: black; font-weight: regular;\">achieving</span> <span style=\"color: black; font-weight: regular;\">a</span> <span style=\"color: black; font-weight: regular;\">final</span> <span style=\"color: black; font-weight: regular;\">peace</span> <span style=\"color: black; font-weight: regular;\">accord</span> <span style=\"color: black; font-weight: regular;\">.</span>"
      ],
      "text/plain": [
       "<IPython.core.display.HTML object>"
      ]
     },
     "metadata": {},
     "output_type": "display_data"
    },
    {
     "data": {
      "text/html": [
       "<span style=\"color: black; font-weight: regular;\">Palestinians</span> <span style=\"color: black; font-weight: regular;\">have</span> <span style=\"color: black; font-weight: regular;\">demanded</span> <span style=\"color: black; font-weight: regular;\">clarification</span> <span style=\"color: black; font-weight: regular;\">of</span> <span style=\"color: black; font-weight: regular;\">US</span> <span style=\"color: black; font-weight: regular;\">proposals</span> <span style=\"color: black; font-weight: regular;\">for</span> <span style=\"color: black; font-weight: regular;\">achieving</span> <span style=\"color: black; font-weight: regular;\">a</span> <span style=\"color: black; font-weight: regular;\">final</span> <span style=\"color: black; font-weight: regular;\">peace</span> <span style=\"color: black; font-weight: regular;\">accord</span> <span style=\"color: black; font-weight: regular;\">.</span> <span style=\"color: black; font-weight: regular;\">A</span> <span style=\"color: black; font-weight: regular;\">White</span> <span style=\"color: black; font-weight: regular;\">House</span> <span style=\"color: black; font-weight: regular;\">spokesman</span> <span style=\"color: black; font-weight: regular;\">said</span> <span style=\"color: black; font-weight: regular;\">the</span> <span style=\"color: black; font-weight: regular;\">talks</span> <span style=\"color: black; font-weight: regular;\">are</span> <span style=\"color: black; font-weight: regular;\">aimed</span> <span style=\"color: black; font-weight: regular;\">at</span> <span style=\"color: black; font-weight: regular;\">establishing</span> <span style=\"color: black; font-weight: regular;\">the</span> <span style=\"color: black; font-weight: regular;\">parameters</span> <span style=\"color: black; font-weight: regular;\">for</span> <span style=\"color: black; font-weight: regular;\">resuming</span> <span style=\"color: black; font-weight: regular;\">Israeli</span> <span style=\"color: black; font-weight: regular;\">-</span> <span style=\"color: black; font-weight: regular;\">Palestinian</span> <span style=\"color: black; font-weight: regular;\">negotiations</span> <span style=\"color: black; font-weight: regular;\">.</span>"
      ],
      "text/plain": [
       "<IPython.core.display.HTML object>"
      ]
     },
     "metadata": {},
     "output_type": "display_data"
    },
    {
     "name": "stdout",
     "output_type": "stream",
     "text": [
      "---\n"
     ]
    },
    {
     "data": {
      "text/html": [
       "<span style=\"color: black; font-weight: regular;\">So</span> <span style=\"color: black; font-weight: regular;\">you</span> <span style=\"color: black; font-weight: regular;\">have</span> <span style=\"color: black; font-weight: regular;\">no</span> <span style=\"color: black; font-weight: regular;\">intentions</span> <span style=\"color: black; font-weight: regular;\">of</span> <span style=\"color: black; font-weight: regular;\">coming</span> <span style=\"color: black; font-weight: regular;\">over</span> <span style=\"color: black; font-weight: regular;\">this</span> <span style=\"color: black; font-weight: regular;\">way</span> <span style=\"color: black; font-weight: regular;\">any</span> <span style=\"color: black; font-weight: regular;\">time</span> <span style=\"color: black; font-weight: regular;\">soon</span> <span style=\"color: black; font-weight: regular;\">?</span> <span style=\"color: black; font-weight: regular;\">%</span> <span style=\"color: black; font-weight: regular;\">um</span> <span style=\"color: black; font-weight: regular;\">.</span> <span style=\"color: black; font-weight: regular;\">I</span> <span style=\"color: black; font-weight: regular;\">do</span> <span style=\"color: black; font-weight: regular;\">n't</span> <span style=\"color: black; font-weight: regular;\">see</span> <span style=\"color: black; font-weight: regular;\">the</span> <span style=\"color: black; font-weight: regular;\">finances</span> <span style=\"color: black; font-weight: regular;\">occurring</span> <span style=\"color: black; font-weight: regular;\">uh-huh</span> <span style=\"color: black; font-weight: regular;\">,</span> <span style=\"color: black; font-weight: regular;\">right</span> <span style=\"color: black; font-weight: regular;\">.</span> <span style=\"color: black; font-weight: regular;\">for</span> <span style=\"color: black; font-weight: regular;\">a</span> <span style=\"color: black; font-weight: regular;\">while</span> <span style=\"color: black; font-weight: regular;\">.</span>"
      ],
      "text/plain": [
       "<IPython.core.display.HTML object>"
      ]
     },
     "metadata": {},
     "output_type": "display_data"
    },
    {
     "data": {
      "text/html": [
       "<span style=\"color: black; font-weight: regular;\">%</span> <span style=\"color: black; font-weight: regular;\">um</span> <span style=\"color: black; font-weight: regular;\">.</span> <span style=\"color: black; font-weight: regular;\">I</span> <span style=\"color: black; font-weight: regular;\">do</span> <span style=\"color: black; font-weight: regular;\">n't</span> <span style=\"color: black; font-weight: regular;\">see</span> <span style=\"color: black; font-weight: regular;\">the</span> <span style=\"color: black; font-weight: regular;\">finances</span> <span style=\"color: black; font-weight: regular;\">occurring</span> <span style=\"color: black; font-weight: regular;\">uh-huh</span> <span style=\"color: black; font-weight: regular;\">,</span> <span style=\"color: black; font-weight: regular;\">right</span> <span style=\"color: black; font-weight: regular;\">.</span> <span style=\"color: black; font-weight: regular;\">for</span> <span style=\"color: black; font-weight: regular;\">a</span> <span style=\"color: black; font-weight: regular;\">while</span> <span style=\"color: black; font-weight: regular;\">.</span> <span style=\"color: black; font-weight: regular;\">So</span> <span style=\"color: black; font-weight: regular;\">you</span> <span style=\"color: black; font-weight: regular;\">have</span> <span style=\"color: black; font-weight: regular;\">no</span> <span style=\"color: black; font-weight: regular;\">intentions</span> <span style=\"color: black; font-weight: regular;\">of</span> <span style=\"color: black; font-weight: regular;\">coming</span> <span style=\"color: black; font-weight: regular;\">over</span> <span style=\"color: black; font-weight: regular;\">this</span> <span style=\"color: black; font-weight: regular;\">way</span> <span style=\"color: black; font-weight: regular;\">any</span> <span style=\"color: black; font-weight: regular;\">time</span> <span style=\"color: black; font-weight: regular;\">soon</span> <span style=\"color: black; font-weight: regular;\">?</span>"
      ],
      "text/plain": [
       "<IPython.core.display.HTML object>"
      ]
     },
     "metadata": {},
     "output_type": "display_data"
    },
    {
     "name": "stdout",
     "output_type": "stream",
     "text": [
      "---\n"
     ]
    },
    {
     "data": {
      "text/html": [
       "<span style=\"color: black; font-weight: regular;\">In</span> <span style=\"color: black; font-weight: regular;\">regard</span> <span style=\"color: black; font-weight: regular;\">to</span> <span style=\"color: black; font-weight: regular;\">this</span> <span style=\"color: black; font-weight: regular;\">,</span> <span style=\"color: black; font-weight: regular;\">first</span> <span style=\"color: black; font-weight: regular;\">,</span> <span style=\"color: black; font-weight: regular;\">,</span> <span style=\"color: blue; font-weight: bold;\">children</span> <span style=\"color: blue; font-weight: bold;\">all</span> <span style=\"color: black; font-weight: regular;\">want</span> <span style=\"color: blue; font-weight: bold;\">their</span> <span style=\"color: black; font-weight: regular;\">parents</span> <span style=\"color: black; font-weight: regular;\">to</span> <span style=\"color: black; font-weight: regular;\">come</span> <span style=\"color: black; font-weight: regular;\">back</span> <span style=\"color: black; font-weight: regular;\">to</span> <span style=\"color: black; font-weight: regular;\">live</span> <span style=\"color: black; font-weight: regular;\">with</span> <span style=\"color: blue; font-weight: bold;\">them</span> <span style=\"color: black; font-weight: regular;\">.</span> <span style=\"color: black; font-weight: regular;\">However</span> <span style=\"color: black; font-weight: regular;\">,</span> <span style=\"color: black; font-weight: regular;\">51</span> <span style=\"color: black; font-weight: regular;\">percent</span> <span style=\"color: black; font-weight: regular;\">of</span> <span style=\"color: black; font-weight: regular;\">the</span> <span style=\"color: black; font-weight: regular;\">children</span> <span style=\"color: black; font-weight: regular;\">we</span> <span style=\"color: black; font-weight: regular;\">surveyed</span> <span style=\"color: black; font-weight: regular;\">were</span> <span style=\"color: black; font-weight: regular;\">unwilling</span> <span style=\"color: black; font-weight: regular;\">to</span> <span style=\"color: black; font-weight: regular;\">go</span> <span style=\"color: black; font-weight: regular;\">to</span> <span style=\"color: green; font-weight: bold;\">the</span> <span style=\"color: green; font-weight: bold;\">city</span> <span style=\"color: black; font-weight: regular;\">with</span> <span style=\"color: black; font-weight: regular;\">their</span> <span style=\"color: black; font-weight: regular;\">parents</span> <span style=\"color: black; font-weight: regular;\">,</span> <span style=\"color: black; font-weight: regular;\">go</span> <span style=\"color: black; font-weight: regular;\">to</span> <span style=\"color: green; font-weight: bold;\">the</span> <span style=\"color: green; font-weight: bold;\">city</span> <span style=\"color: black; font-weight: regular;\">,</span> <span style=\"color: black; font-weight: regular;\">to</span> <span style=\"color: black; font-weight: regular;\">live</span> <span style=\"color: black; font-weight: regular;\">in</span> <span style=\"color: green; font-weight: bold;\">the</span> <span style=\"color: green; font-weight: bold;\">city</span> <span style=\"color: black; font-weight: regular;\">.</span>"
      ],
      "text/plain": [
       "<IPython.core.display.HTML object>"
      ]
     },
     "metadata": {},
     "output_type": "display_data"
    },
    {
     "data": {
      "text/html": [
       "<span style=\"color: black; font-weight: regular;\">However</span> <span style=\"color: black; font-weight: regular;\">,</span> <span style=\"color: black; font-weight: regular;\">51</span> <span style=\"color: black; font-weight: regular;\">percent</span> <span style=\"color: black; font-weight: regular;\">of</span> <span style=\"color: black; font-weight: regular;\">the</span> <span style=\"color: black; font-weight: regular;\">children</span> <span style=\"color: blue; font-weight: bold;\">we</span> <span style=\"color: blue; font-weight: bold;\">surveyed</span> <span style=\"color: black; font-weight: regular;\">were</span> <span style=\"color: black; font-weight: regular;\">unwilling</span> <span style=\"color: black; font-weight: regular;\">to</span> <span style=\"color: black; font-weight: regular;\">go</span> <span style=\"color: black; font-weight: regular;\">to</span> <span style=\"color: green; font-weight: bold;\">the</span> <span style=\"color: green; font-weight: bold;\">city</span> <span style=\"color: black; font-weight: regular;\">with</span> <span style=\"color: blue; font-weight: bold;\">their</span> <span style=\"color: black; font-weight: regular;\">parents</span> <span style=\"color: black; font-weight: regular;\">,</span> <span style=\"color: black; font-weight: regular;\">go</span> <span style=\"color: black; font-weight: regular;\">to</span> <span style=\"color: green; font-weight: bold;\">the</span> <span style=\"color: green; font-weight: bold;\">city</span> <span style=\"color: black; font-weight: regular;\">,</span> <span style=\"color: black; font-weight: regular;\">to</span> <span style=\"color: black; font-weight: regular;\">live</span> <span style=\"color: black; font-weight: regular;\">in</span> <span style=\"color: green; font-weight: bold;\">the</span> <span style=\"color: green; font-weight: bold;\">city</span> <span style=\"color: black; font-weight: regular;\">.</span> <span style=\"color: black; font-weight: regular;\">In</span> <span style=\"color: black; font-weight: regular;\">regard</span> <span style=\"color: black; font-weight: regular;\">to</span> <span style=\"color: black; font-weight: regular;\">this</span> <span style=\"color: black; font-weight: regular;\">,</span> <span style=\"color: black; font-weight: regular;\">first</span> <span style=\"color: black; font-weight: regular;\">,</span> <span style=\"color: black; font-weight: regular;\">,</span> <span style=\"color: red; font-weight: bold;\">children</span> <span style=\"color: red; font-weight: bold;\">all</span> <span style=\"color: black; font-weight: regular;\">want</span> <span style=\"color: red; font-weight: bold;\">their</span> <span style=\"color: black; font-weight: regular;\">parents</span> <span style=\"color: black; font-weight: regular;\">to</span> <span style=\"color: black; font-weight: regular;\">come</span> <span style=\"color: black; font-weight: regular;\">back</span> <span style=\"color: black; font-weight: regular;\">to</span> <span style=\"color: black; font-weight: regular;\">live</span> <span style=\"color: black; font-weight: regular;\">with</span> <span style=\"color: red; font-weight: bold;\">them</span> <span style=\"color: black; font-weight: regular;\">.</span>"
      ],
      "text/plain": [
       "<IPython.core.display.HTML object>"
      ]
     },
     "metadata": {},
     "output_type": "display_data"
    },
    {
     "name": "stdout",
     "output_type": "stream",
     "text": [
      "---\n"
     ]
    },
    {
     "data": {
      "text/html": [
       "<span style=\"color: black; font-weight: regular;\">The</span> <span style=\"color: black; font-weight: regular;\">Van</span> <span style=\"color: black; font-weight: regular;\">Nuys</span> <span style=\"color: black; font-weight: regular;\">plant</span> <span style=\"color: black; font-weight: regular;\">,</span> <span style=\"color: black; font-weight: regular;\">which</span> <span style=\"color: black; font-weight: regular;\">employs</span> <span style=\"color: black; font-weight: regular;\">about</span> <span style=\"color: black; font-weight: regular;\">3,000</span> <span style=\"color: black; font-weight: regular;\">workers</span> <span style=\"color: black; font-weight: regular;\">,</span> <span style=\"color: black; font-weight: regular;\">does</span> <span style=\"color: black; font-weight: regular;\">n't</span> <span style=\"color: black; font-weight: regular;\">have</span> <span style=\"color: black; font-weight: regular;\">a</span> <span style=\"color: black; font-weight: regular;\">product</span> <span style=\"color: black; font-weight: regular;\">to</span> <span style=\"color: black; font-weight: regular;\">build</span> <span style=\"color: black; font-weight: regular;\">after</span> <span style=\"color: black; font-weight: regular;\">1993</span> <span style=\"color: black; font-weight: regular;\">.</span> <span style=\"color: black; font-weight: regular;\">Jerry</span> <span style=\"color: black; font-weight: regular;\">Shrieves</span> <span style=\"color: black; font-weight: regular;\">,</span> <span style=\"color: black; font-weight: regular;\">UAW</span> <span style=\"color: black; font-weight: regular;\">local</span> <span style=\"color: black; font-weight: regular;\">president</span> <span style=\"color: black; font-weight: regular;\">,</span> <span style=\"color: black; font-weight: regular;\">said</span> <span style=\"color: black; font-weight: regular;\">the</span> <span style=\"color: black; font-weight: regular;\">facility</span> <span style=\"color: black; font-weight: regular;\">was</span> <span style=\"color: black; font-weight: regular;\">asked</span> <span style=\"color: black; font-weight: regular;\">to</span> <span style=\"color: black; font-weight: regular;\">draw</span> <span style=\"color: black; font-weight: regular;\">up</span> <span style=\"color: black; font-weight: regular;\">plans</span> <span style=\"color: black; font-weight: regular;\">to</span> <span style=\"color: black; font-weight: regular;\">continue</span> <span style=\"color: black; font-weight: regular;\">working</span> <span style=\"color: black; font-weight: regular;\">as</span> <span style=\"color: black; font-weight: regular;\">a</span> <span style=\"color: black; font-weight: regular;\">``</span> <span style=\"color: black; font-weight: regular;\">flex</span> <span style=\"color: black; font-weight: regular;\">plant</span> <span style=\"color: black; font-weight: regular;\">,</span> <span style=\"color: black; font-weight: regular;\">''</span> <span style=\"color: black; font-weight: regular;\">which</span> <span style=\"color: black; font-weight: regular;\">could</span> <span style=\"color: black; font-weight: regular;\">build</span> <span style=\"color: black; font-weight: regular;\">several</span> <span style=\"color: black; font-weight: regular;\">different</span> <span style=\"color: black; font-weight: regular;\">types</span> <span style=\"color: black; font-weight: regular;\">of</span> <span style=\"color: black; font-weight: regular;\">products</span> <span style=\"color: black; font-weight: regular;\">on</span> <span style=\"color: black; font-weight: regular;\">short</span> <span style=\"color: black; font-weight: regular;\">notice</span> <span style=\"color: black; font-weight: regular;\">to</span> <span style=\"color: black; font-weight: regular;\">satisfy</span> <span style=\"color: black; font-weight: regular;\">demand</span> <span style=\"color: black; font-weight: regular;\">.</span>"
      ],
      "text/plain": [
       "<IPython.core.display.HTML object>"
      ]
     },
     "metadata": {},
     "output_type": "display_data"
    },
    {
     "data": {
      "text/html": [
       "<span style=\"color: black; font-weight: regular;\">Jerry</span> <span style=\"color: black; font-weight: regular;\">Shrieves</span> <span style=\"color: black; font-weight: regular;\">,</span> <span style=\"color: black; font-weight: regular;\">UAW</span> <span style=\"color: black; font-weight: regular;\">local</span> <span style=\"color: black; font-weight: regular;\">president</span> <span style=\"color: black; font-weight: regular;\">,</span> <span style=\"color: black; font-weight: regular;\">said</span> <span style=\"color: black; font-weight: regular;\">the</span> <span style=\"color: black; font-weight: regular;\">facility</span> <span style=\"color: black; font-weight: regular;\">was</span> <span style=\"color: black; font-weight: regular;\">asked</span> <span style=\"color: black; font-weight: regular;\">to</span> <span style=\"color: black; font-weight: regular;\">draw</span> <span style=\"color: black; font-weight: regular;\">up</span> <span style=\"color: black; font-weight: regular;\">plans</span> <span style=\"color: black; font-weight: regular;\">to</span> <span style=\"color: black; font-weight: regular;\">continue</span> <span style=\"color: black; font-weight: regular;\">working</span> <span style=\"color: black; font-weight: regular;\">as</span> <span style=\"color: black; font-weight: regular;\">a</span> <span style=\"color: black; font-weight: regular;\">``</span> <span style=\"color: black; font-weight: regular;\">flex</span> <span style=\"color: black; font-weight: regular;\">plant</span> <span style=\"color: black; font-weight: regular;\">,</span> <span style=\"color: black; font-weight: regular;\">''</span> <span style=\"color: black; font-weight: regular;\">which</span> <span style=\"color: black; font-weight: regular;\">could</span> <span style=\"color: black; font-weight: regular;\">build</span> <span style=\"color: black; font-weight: regular;\">several</span> <span style=\"color: black; font-weight: regular;\">different</span> <span style=\"color: black; font-weight: regular;\">types</span> <span style=\"color: black; font-weight: regular;\">of</span> <span style=\"color: black; font-weight: regular;\">products</span> <span style=\"color: black; font-weight: regular;\">on</span> <span style=\"color: black; font-weight: regular;\">short</span> <span style=\"color: black; font-weight: regular;\">notice</span> <span style=\"color: black; font-weight: regular;\">to</span> <span style=\"color: black; font-weight: regular;\">satisfy</span> <span style=\"color: black; font-weight: regular;\">demand</span> <span style=\"color: black; font-weight: regular;\">.</span> <span style=\"color: black; font-weight: regular;\">The</span> <span style=\"color: black; font-weight: regular;\">Van</span> <span style=\"color: black; font-weight: regular;\">Nuys</span> <span style=\"color: black; font-weight: regular;\">plant</span> <span style=\"color: black; font-weight: regular;\">,</span> <span style=\"color: black; font-weight: regular;\">which</span> <span style=\"color: black; font-weight: regular;\">employs</span> <span style=\"color: black; font-weight: regular;\">about</span> <span style=\"color: black; font-weight: regular;\">3,000</span> <span style=\"color: black; font-weight: regular;\">workers</span> <span style=\"color: black; font-weight: regular;\">,</span> <span style=\"color: black; font-weight: regular;\">does</span> <span style=\"color: black; font-weight: regular;\">n't</span> <span style=\"color: black; font-weight: regular;\">have</span> <span style=\"color: black; font-weight: regular;\">a</span> <span style=\"color: black; font-weight: regular;\">product</span> <span style=\"color: black; font-weight: regular;\">to</span> <span style=\"color: black; font-weight: regular;\">build</span> <span style=\"color: black; font-weight: regular;\">after</span> <span style=\"color: black; font-weight: regular;\">1993</span> <span style=\"color: black; font-weight: regular;\">.</span>"
      ],
      "text/plain": [
       "<IPython.core.display.HTML object>"
      ]
     },
     "metadata": {},
     "output_type": "display_data"
    },
    {
     "name": "stdout",
     "output_type": "stream",
     "text": [
      "---\n"
     ]
    },
    {
     "data": {
      "text/html": [
       "<span style=\"color: black; font-weight: regular;\">yeah</span> <span style=\"color: black; font-weight: regular;\">.</span> <span style=\"color: black; font-weight: regular;\">Walnut</span> <span style=\"color: black; font-weight: regular;\">Crest</span> <span style=\"color: black; font-weight: regular;\">or</span> <span style=\"color: black; font-weight: regular;\">Walnut</span> <span style=\"color: black; font-weight: regular;\">Creek</span> <span style=\"color: black; font-weight: regular;\">or</span> <span style=\"color: black; font-weight: regular;\">--</span> <span style=\"color: black; font-weight: regular;\">%</span> <span style=\"color: black; font-weight: regular;\">mm</span> <span style=\"color: black; font-weight: regular;\">.</span> <span style=\"color: black; font-weight: regular;\">--</span> <span style=\"color: black; font-weight: regular;\">something</span> <span style=\"color: black; font-weight: regular;\">like</span> <span style=\"color: black; font-weight: regular;\">that</span> <span style=\"color: black; font-weight: regular;\">.</span>"
      ],
      "text/plain": [
       "<IPython.core.display.HTML object>"
      ]
     },
     "metadata": {},
     "output_type": "display_data"
    },
    {
     "data": {
      "text/html": [
       "<span style=\"color: black; font-weight: regular;\">Walnut</span> <span style=\"color: black; font-weight: regular;\">Crest</span> <span style=\"color: black; font-weight: regular;\">or</span> <span style=\"color: black; font-weight: regular;\">Walnut</span> <span style=\"color: black; font-weight: regular;\">Creek</span> <span style=\"color: black; font-weight: regular;\">or</span> <span style=\"color: black; font-weight: regular;\">--</span> <span style=\"color: black; font-weight: regular;\">%</span> <span style=\"color: black; font-weight: regular;\">mm</span> <span style=\"color: black; font-weight: regular;\">.</span> <span style=\"color: black; font-weight: regular;\">--</span> <span style=\"color: black; font-weight: regular;\">something</span> <span style=\"color: black; font-weight: regular;\">like</span> <span style=\"color: black; font-weight: regular;\">that</span> <span style=\"color: black; font-weight: regular;\">.</span> <span style=\"color: black; font-weight: regular;\">yeah</span> <span style=\"color: black; font-weight: regular;\">.</span>"
      ],
      "text/plain": [
       "<IPython.core.display.HTML object>"
      ]
     },
     "metadata": {},
     "output_type": "display_data"
    },
    {
     "name": "stdout",
     "output_type": "stream",
     "text": [
      "---\n"
     ]
    },
    {
     "data": {
      "text/html": [
       "<span style=\"color: black; font-weight: regular;\">The</span> <span style=\"color: black; font-weight: regular;\">sentence</span> <span style=\"color: black; font-weight: regular;\">I</span> <span style=\"color: black; font-weight: regular;\">put</span> <span style=\"color: black; font-weight: regular;\">in</span> <span style=\"color: black; font-weight: regular;\">boldface</span> <span style=\"color: black; font-weight: regular;\">is</span> <span style=\"color: black; font-weight: regular;\">*extremely*</span> <span style=\"color: black; font-weight: regular;\">interesting</span> <span style=\"color: black; font-weight: regular;\">.</span> <span style=\"color: black; font-weight: regular;\">Was</span> <span style=\"color: black; font-weight: regular;\">n't</span> <span style=\"color: black; font-weight: regular;\">there</span> <span style=\"color: black; font-weight: regular;\">a</span> <span style=\"color: blue; font-weight: bold;\">Michael</span> <span style=\"color: blue; font-weight: bold;\">Jackson</span> <span style=\"color: black; font-weight: regular;\">video</span> <span style=\"color: black; font-weight: regular;\">where</span> <span style=\"color: blue; font-weight: bold;\">he</span> <span style=\"color: black; font-weight: regular;\">was</span> <span style=\"color: black; font-weight: regular;\">envisioning</span> <span style=\"color: blue; font-weight: bold;\">himself</span> <span style=\"color: black; font-weight: regular;\">as</span> <span style=\"color: black; font-weight: regular;\">ruler</span> <span style=\"color: black; font-weight: regular;\">of</span> <span style=\"color: black; font-weight: regular;\">the</span> <span style=\"color: black; font-weight: regular;\">world</span> <span style=\"color: black; font-weight: regular;\">or</span> <span style=\"color: black; font-weight: regular;\">some</span> <span style=\"color: black; font-weight: regular;\">such</span> <span style=\"color: black; font-weight: regular;\">?</span>"
      ],
      "text/plain": [
       "<IPython.core.display.HTML object>"
      ]
     },
     "metadata": {},
     "output_type": "display_data"
    },
    {
     "data": {
      "text/html": [
       "<span style=\"color: black; font-weight: regular;\">Was</span> <span style=\"color: black; font-weight: regular;\">n't</span> <span style=\"color: black; font-weight: regular;\">there</span> <span style=\"color: black; font-weight: regular;\">a</span> <span style=\"color: blue; font-weight: bold;\">Michael</span> <span style=\"color: blue; font-weight: bold;\">Jackson</span> <span style=\"color: black; font-weight: regular;\">video</span> <span style=\"color: black; font-weight: regular;\">where</span> <span style=\"color: blue; font-weight: bold;\">he</span> <span style=\"color: black; font-weight: regular;\">was</span> <span style=\"color: black; font-weight: regular;\">envisioning</span> <span style=\"color: blue; font-weight: bold;\">himself</span> <span style=\"color: black; font-weight: regular;\">as</span> <span style=\"color: black; font-weight: regular;\">ruler</span> <span style=\"color: black; font-weight: regular;\">of</span> <span style=\"color: black; font-weight: regular;\">the</span> <span style=\"color: black; font-weight: regular;\">world</span> <span style=\"color: black; font-weight: regular;\">or</span> <span style=\"color: black; font-weight: regular;\">some</span> <span style=\"color: black; font-weight: regular;\">such</span> <span style=\"color: black; font-weight: regular;\">?</span> <span style=\"color: black; font-weight: regular;\">The</span> <span style=\"color: black; font-weight: regular;\">sentence</span> <span style=\"color: black; font-weight: regular;\">I</span> <span style=\"color: black; font-weight: regular;\">put</span> <span style=\"color: black; font-weight: regular;\">in</span> <span style=\"color: black; font-weight: regular;\">boldface</span> <span style=\"color: black; font-weight: regular;\">is</span> <span style=\"color: black; font-weight: regular;\">*extremely*</span> <span style=\"color: black; font-weight: regular;\">interesting</span> <span style=\"color: black; font-weight: regular;\">.</span>"
      ],
      "text/plain": [
       "<IPython.core.display.HTML object>"
      ]
     },
     "metadata": {},
     "output_type": "display_data"
    },
    {
     "name": "stdout",
     "output_type": "stream",
     "text": [
      "---\n"
     ]
    },
    {
     "data": {
      "text/html": [
       "<span style=\"color: black; font-weight: regular;\">uh-huh</span> <span style=\"color: black; font-weight: regular;\">.</span> <span style=\"color: black; font-weight: regular;\">I</span> <span style=\"color: black; font-weight: regular;\">was</span> <span style=\"color: black; font-weight: regular;\">wrong</span> <span style=\"color: black; font-weight: regular;\">.</span>"
      ],
      "text/plain": [
       "<IPython.core.display.HTML object>"
      ]
     },
     "metadata": {},
     "output_type": "display_data"
    },
    {
     "data": {
      "text/html": [
       "<span style=\"color: black; font-weight: regular;\">I</span> <span style=\"color: black; font-weight: regular;\">was</span> <span style=\"color: black; font-weight: regular;\">wrong</span> <span style=\"color: black; font-weight: regular;\">.</span> <span style=\"color: black; font-weight: regular;\">uh-huh</span> <span style=\"color: black; font-weight: regular;\">.</span>"
      ],
      "text/plain": [
       "<IPython.core.display.HTML object>"
      ]
     },
     "metadata": {},
     "output_type": "display_data"
    },
    {
     "name": "stdout",
     "output_type": "stream",
     "text": [
      "---\n"
     ]
    },
    {
     "data": {
      "text/html": [
       "<span style=\"color: blue; font-weight: bold;\">He</span> <span style=\"color: black; font-weight: regular;\">escaped</span> <span style=\"color: black; font-weight: regular;\">from</span> <span style=\"color: blue; font-weight: bold;\">his</span> <span style=\"color: black; font-weight: regular;\">home</span> <span style=\"color: black; font-weight: regular;\">when</span> <span style=\"color: blue; font-weight: bold;\">he</span> <span style=\"color: black; font-weight: regular;\">was</span> <span style=\"color: black; font-weight: regular;\">seven</span> <span style=\"color: black; font-weight: regular;\">days</span> <span style=\"color: black; font-weight: regular;\">old</span> <span style=\"color: black; font-weight: regular;\">because</span> <span style=\"color: blue; font-weight: bold;\">he</span> <span style=\"color: black; font-weight: regular;\">remembered</span> <span style=\"color: black; font-weight: regular;\">how</span> <span style=\"color: blue; font-weight: bold;\">he</span> <span style=\"color: black; font-weight: regular;\">could</span> <span style=\"color: black; font-weight: regular;\">fly</span> <span style=\"color: black; font-weight: regular;\">when</span> <span style=\"color: blue; font-weight: bold;\">he</span> <span style=\"color: black; font-weight: regular;\">was</span> <span style=\"color: black; font-weight: regular;\">a</span> <span style=\"color: black; font-weight: regular;\">bird</span> <span style=\"color: black; font-weight: regular;\">before</span> <span style=\"color: blue; font-weight: bold;\">he</span> <span style=\"color: black; font-weight: regular;\">was</span> <span style=\"color: black; font-weight: regular;\">a</span> <span style=\"color: black; font-weight: regular;\">human</span> <span style=\"color: black; font-weight: regular;\">,</span> <span style=\"color: black; font-weight: regular;\">and</span> <span style=\"color: black; font-weight: regular;\">that</span> <span style=\"color: black; font-weight: regular;\">wildness</span> <span style=\"color: black; font-weight: regular;\">is</span> <span style=\"color: black; font-weight: regular;\">still</span> <span style=\"color: black; font-weight: regular;\">in</span> <span style=\"color: blue; font-weight: bold;\">him</span> <span style=\"color: black; font-weight: regular;\">,</span> <span style=\"color: black; font-weight: regular;\">as</span> <span style=\"color: black; font-weight: regular;\">it</span> <span style=\"color: black; font-weight: regular;\">is</span> <span style=\"color: black; font-weight: regular;\">with</span> <span style=\"color: black; font-weight: regular;\">all</span> <span style=\"color: black; font-weight: regular;\">children</span> <span style=\"color: black; font-weight: regular;\">.</span>"
      ],
      "text/plain": [
       "<IPython.core.display.HTML object>"
      ]
     },
     "metadata": {},
     "output_type": "display_data"
    },
    {
     "data": {
      "text/html": [
       "<span style=\"color: black; font-weight: regular;\">and</span> <span style=\"color: black; font-weight: regular;\">that</span> <span style=\"color: black; font-weight: regular;\">wildness</span> <span style=\"color: black; font-weight: regular;\">is</span> <span style=\"color: black; font-weight: regular;\">still</span> <span style=\"color: black; font-weight: regular;\">in</span> <span style=\"color: blue; font-weight: bold;\">him</span> <span style=\"color: black; font-weight: regular;\">,</span> <span style=\"color: black; font-weight: regular;\">as</span> <span style=\"color: black; font-weight: regular;\">it</span> <span style=\"color: black; font-weight: regular;\">is</span> <span style=\"color: black; font-weight: regular;\">with</span> <span style=\"color: black; font-weight: regular;\">all</span> <span style=\"color: black; font-weight: regular;\">children</span> <span style=\"color: black; font-weight: regular;\">.</span> <span style=\"color: blue; font-weight: bold;\">He</span> <span style=\"color: black; font-weight: regular;\">escaped</span> <span style=\"color: black; font-weight: regular;\">from</span> <span style=\"color: blue; font-weight: bold;\">his</span> <span style=\"color: black; font-weight: regular;\">home</span> <span style=\"color: black; font-weight: regular;\">when</span> <span style=\"color: blue; font-weight: bold;\">he</span> <span style=\"color: black; font-weight: regular;\">was</span> <span style=\"color: black; font-weight: regular;\">seven</span> <span style=\"color: black; font-weight: regular;\">days</span> <span style=\"color: black; font-weight: regular;\">old</span> <span style=\"color: black; font-weight: regular;\">because</span> <span style=\"color: blue; font-weight: bold;\">he</span> <span style=\"color: black; font-weight: regular;\">remembered</span> <span style=\"color: black; font-weight: regular;\">how</span> <span style=\"color: blue; font-weight: bold;\">he</span> <span style=\"color: black; font-weight: regular;\">could</span> <span style=\"color: black; font-weight: regular;\">fly</span> <span style=\"color: black; font-weight: regular;\">when</span> <span style=\"color: blue; font-weight: bold;\">he</span> <span style=\"color: black; font-weight: regular;\">was</span> <span style=\"color: black; font-weight: regular;\">a</span> <span style=\"color: black; font-weight: regular;\">bird</span> <span style=\"color: black; font-weight: regular;\">before</span> <span style=\"color: blue; font-weight: bold;\">he</span> <span style=\"color: black; font-weight: regular;\">was</span> <span style=\"color: black; font-weight: regular;\">a</span> <span style=\"color: black; font-weight: regular;\">human</span> <span style=\"color: black; font-weight: regular;\">,</span>"
      ],
      "text/plain": [
       "<IPython.core.display.HTML object>"
      ]
     },
     "metadata": {},
     "output_type": "display_data"
    },
    {
     "name": "stdout",
     "output_type": "stream",
     "text": [
      "---\n"
     ]
    },
    {
     "data": {
      "text/html": [
       "<span style=\"color: black; font-weight: regular;\">``</span> <span style=\"color: black; font-weight: regular;\">The</span> <span style=\"color: black; font-weight: regular;\">trend</span> <span style=\"color: black; font-weight: regular;\">is</span> <span style=\"color: black; font-weight: regular;\">pretty</span> <span style=\"color: black; font-weight: regular;\">well</span> <span style=\"color: black; font-weight: regular;\">established</span> <span style=\"color: black; font-weight: regular;\">now</span> <span style=\"color: black; font-weight: regular;\">that</span> <span style=\"color: black; font-weight: regular;\">local</span> <span style=\"color: black; font-weight: regular;\">programs</span> <span style=\"color: black; font-weight: regular;\">are</span> <span style=\"color: black; font-weight: regular;\">the</span> <span style=\"color: black; font-weight: regular;\">most</span> <span style=\"color: black; font-weight: regular;\">popular</span> <span style=\"color: black; font-weight: regular;\">,</span> <span style=\"color: black; font-weight: regular;\">with</span> <span style=\"color: black; font-weight: regular;\">American</span> <span style=\"color: black; font-weight: regular;\">programs</span> <span style=\"color: black; font-weight: regular;\">second</span> <span style=\"color: black; font-weight: regular;\">,</span> <span style=\"color: black; font-weight: regular;\">''</span> <span style=\"color: black; font-weight: regular;\">says</span> <span style=\"color: black; font-weight: regular;\">Brian</span> <span style=\"color: black; font-weight: regular;\">Wenham</span> <span style=\"color: black; font-weight: regular;\">,</span> <span style=\"color: black; font-weight: regular;\">a</span> <span style=\"color: black; font-weight: regular;\">former</span> <span style=\"color: black; font-weight: regular;\">director</span> <span style=\"color: black; font-weight: regular;\">of</span> <span style=\"color: black; font-weight: regular;\">programs</span> <span style=\"color: black; font-weight: regular;\">for</span> <span style=\"color: black; font-weight: regular;\">the</span> <span style=\"color: black; font-weight: regular;\">British</span> <span style=\"color: black; font-weight: regular;\">Broadcasting</span> <span style=\"color: black; font-weight: regular;\">Corp</span> <span style=\"color: black; font-weight: regular;\">.</span> <span style=\"color: black; font-weight: regular;\">``</span> <span style=\"color: black; font-weight: regular;\">Given</span> <span style=\"color: black; font-weight: regular;\">a</span> <span style=\"color: black; font-weight: regular;\">choice</span> <span style=\"color: black; font-weight: regular;\">,</span> <span style=\"color: black; font-weight: regular;\">everybody</span> <span style=\"color: black; font-weight: regular;\">will</span> <span style=\"color: black; font-weight: regular;\">watch</span> <span style=\"color: black; font-weight: regular;\">a</span> <span style=\"color: black; font-weight: regular;\">home</span> <span style=\"color: black; font-weight: regular;\">-</span> <span style=\"color: black; font-weight: regular;\">produced</span> <span style=\"color: black; font-weight: regular;\">show</span> <span style=\"color: black; font-weight: regular;\">.</span> <span style=\"color: black; font-weight: regular;\">''</span>"
      ],
      "text/plain": [
       "<IPython.core.display.HTML object>"
      ]
     },
     "metadata": {},
     "output_type": "display_data"
    },
    {
     "data": {
      "text/html": [
       "<span style=\"color: black; font-weight: regular;\">``</span> <span style=\"color: black; font-weight: regular;\">Given</span> <span style=\"color: black; font-weight: regular;\">a</span> <span style=\"color: black; font-weight: regular;\">choice</span> <span style=\"color: black; font-weight: regular;\">,</span> <span style=\"color: black; font-weight: regular;\">everybody</span> <span style=\"color: black; font-weight: regular;\">will</span> <span style=\"color: black; font-weight: regular;\">watch</span> <span style=\"color: black; font-weight: regular;\">a</span> <span style=\"color: black; font-weight: regular;\">home</span> <span style=\"color: black; font-weight: regular;\">-</span> <span style=\"color: black; font-weight: regular;\">produced</span> <span style=\"color: black; font-weight: regular;\">show</span> <span style=\"color: black; font-weight: regular;\">.</span> <span style=\"color: black; font-weight: regular;\">''</span> <span style=\"color: black; font-weight: regular;\">``</span> <span style=\"color: black; font-weight: regular;\">The</span> <span style=\"color: black; font-weight: regular;\">trend</span> <span style=\"color: black; font-weight: regular;\">is</span> <span style=\"color: black; font-weight: regular;\">pretty</span> <span style=\"color: black; font-weight: regular;\">well</span> <span style=\"color: black; font-weight: regular;\">established</span> <span style=\"color: black; font-weight: regular;\">now</span> <span style=\"color: black; font-weight: regular;\">that</span> <span style=\"color: black; font-weight: regular;\">local</span> <span style=\"color: black; font-weight: regular;\">programs</span> <span style=\"color: black; font-weight: regular;\">are</span> <span style=\"color: black; font-weight: regular;\">the</span> <span style=\"color: black; font-weight: regular;\">most</span> <span style=\"color: black; font-weight: regular;\">popular</span> <span style=\"color: black; font-weight: regular;\">,</span> <span style=\"color: black; font-weight: regular;\">with</span> <span style=\"color: black; font-weight: regular;\">American</span> <span style=\"color: black; font-weight: regular;\">programs</span> <span style=\"color: black; font-weight: regular;\">second</span> <span style=\"color: black; font-weight: regular;\">,</span> <span style=\"color: black; font-weight: regular;\">''</span> <span style=\"color: black; font-weight: regular;\">says</span> <span style=\"color: black; font-weight: regular;\">Brian</span> <span style=\"color: black; font-weight: regular;\">Wenham</span> <span style=\"color: black; font-weight: regular;\">,</span> <span style=\"color: black; font-weight: regular;\">a</span> <span style=\"color: black; font-weight: regular;\">former</span> <span style=\"color: black; font-weight: regular;\">director</span> <span style=\"color: black; font-weight: regular;\">of</span> <span style=\"color: black; font-weight: regular;\">programs</span> <span style=\"color: black; font-weight: regular;\">for</span> <span style=\"color: black; font-weight: regular;\">the</span> <span style=\"color: black; font-weight: regular;\">British</span> <span style=\"color: black; font-weight: regular;\">Broadcasting</span> <span style=\"color: black; font-weight: regular;\">Corp</span> <span style=\"color: black; font-weight: regular;\">.</span>"
      ],
      "text/plain": [
       "<IPython.core.display.HTML object>"
      ]
     },
     "metadata": {},
     "output_type": "display_data"
    },
    {
     "name": "stdout",
     "output_type": "stream",
     "text": [
      "---\n"
     ]
    },
    {
     "data": {
      "text/html": [
       "<span style=\"color: black; font-weight: regular;\">It</span> <span style=\"color: black; font-weight: regular;\">also</span> <span style=\"color: black; font-weight: regular;\">takes</span> <span style=\"color: black; font-weight: regular;\">money</span> <span style=\"color: black; font-weight: regular;\">that</span> <span style=\"color: blue; font-weight: bold;\">CNN</span> <span style=\"color: black; font-weight: regular;\">has</span> <span style=\"color: black; font-weight: regular;\">been</span> <span style=\"color: black; font-weight: regular;\">reluctant</span> <span style=\"color: black; font-weight: regular;\">to</span> <span style=\"color: black; font-weight: regular;\">spend</span> <span style=\"color: black; font-weight: regular;\">to</span> <span style=\"color: black; font-weight: regular;\">make</span> <span style=\"color: black; font-weight: regular;\">programs</span> <span style=\"color: black; font-weight: regular;\">and</span> <span style=\"color: black; font-weight: regular;\">hire</span> <span style=\"color: black; font-weight: regular;\">talent</span> <span style=\"color: black; font-weight: regular;\">that</span> <span style=\"color: black; font-weight: regular;\">viewers</span> <span style=\"color: black; font-weight: regular;\">will</span> <span style=\"color: black; font-weight: regular;\">tune</span> <span style=\"color: black; font-weight: regular;\">in</span> <span style=\"color: black; font-weight: regular;\">specially</span> <span style=\"color: black; font-weight: regular;\">to</span> <span style=\"color: black; font-weight: regular;\">see</span> <span style=\"color: black; font-weight: regular;\">.</span> <span style=\"color: black; font-weight: regular;\">And</span> <span style=\"color: green; font-weight: bold;\">the</span> <span style=\"color: green; font-weight: bold;\">cable</span> <span style=\"color: green; font-weight: bold;\">-</span> <span style=\"color: green; font-weight: bold;\">TV</span> <span style=\"color: green; font-weight: bold;\">operators</span> <span style=\"color: black; font-weight: regular;\">--</span> <span style=\"color: blue; font-weight: bold;\">CNN</span> <span style=\"color: blue; font-weight: bold;\">'s</span> <span style=\"color: black; font-weight: regular;\">distributors</span> <span style=\"color: black; font-weight: regular;\">and</span> <span style=\"color: black; font-weight: regular;\">part</span> <span style=\"color: black; font-weight: regular;\">owners</span> <span style=\"color: black; font-weight: regular;\">--</span> <span style=\"color: black; font-weight: regular;\">like</span> <span style=\"color: black; font-weight: regular;\">things</span> <span style=\"color: black; font-weight: regular;\">just</span> <span style=\"color: black; font-weight: regular;\">the</span> <span style=\"color: black; font-weight: regular;\">way</span> <span style=\"color: green; font-weight: bold;\">they</span> <span style=\"color: black; font-weight: regular;\">are</span> <span style=\"color: black; font-weight: regular;\">.</span>"
      ],
      "text/plain": [
       "<IPython.core.display.HTML object>"
      ]
     },
     "metadata": {},
     "output_type": "display_data"
    },
    {
     "data": {
      "text/html": [
       "<span style=\"color: black; font-weight: regular;\">And</span> <span style=\"color: black; font-weight: regular;\">the</span> <span style=\"color: black; font-weight: regular;\">cable</span> <span style=\"color: black; font-weight: regular;\">-</span> <span style=\"color: black; font-weight: regular;\">TV</span> <span style=\"color: black; font-weight: regular;\">operators</span> <span style=\"color: black; font-weight: regular;\">--</span> <span style=\"color: blue; font-weight: bold;\">CNN</span> <span style=\"color: blue; font-weight: bold;\">'s</span> <span style=\"color: black; font-weight: regular;\">distributors</span> <span style=\"color: black; font-weight: regular;\">and</span> <span style=\"color: black; font-weight: regular;\">part</span> <span style=\"color: black; font-weight: regular;\">owners</span> <span style=\"color: black; font-weight: regular;\">--</span> <span style=\"color: black; font-weight: regular;\">like</span> <span style=\"color: black; font-weight: regular;\">things</span> <span style=\"color: black; font-weight: regular;\">just</span> <span style=\"color: black; font-weight: regular;\">the</span> <span style=\"color: black; font-weight: regular;\">way</span> <span style=\"color: black; font-weight: regular;\">they</span> <span style=\"color: black; font-weight: regular;\">are</span> <span style=\"color: black; font-weight: regular;\">.</span> <span style=\"color: black; font-weight: regular;\">It</span> <span style=\"color: black; font-weight: regular;\">also</span> <span style=\"color: black; font-weight: regular;\">takes</span> <span style=\"color: black; font-weight: regular;\">money</span> <span style=\"color: black; font-weight: regular;\">that</span> <span style=\"color: blue; font-weight: bold;\">CNN</span> <span style=\"color: black; font-weight: regular;\">has</span> <span style=\"color: black; font-weight: regular;\">been</span> <span style=\"color: black; font-weight: regular;\">reluctant</span> <span style=\"color: black; font-weight: regular;\">to</span> <span style=\"color: black; font-weight: regular;\">spend</span> <span style=\"color: black; font-weight: regular;\">to</span> <span style=\"color: black; font-weight: regular;\">make</span> <span style=\"color: black; font-weight: regular;\">programs</span> <span style=\"color: black; font-weight: regular;\">and</span> <span style=\"color: black; font-weight: regular;\">hire</span> <span style=\"color: black; font-weight: regular;\">talent</span> <span style=\"color: black; font-weight: regular;\">that</span> <span style=\"color: black; font-weight: regular;\">viewers</span> <span style=\"color: black; font-weight: regular;\">will</span> <span style=\"color: black; font-weight: regular;\">tune</span> <span style=\"color: black; font-weight: regular;\">in</span> <span style=\"color: black; font-weight: regular;\">specially</span> <span style=\"color: black; font-weight: regular;\">to</span> <span style=\"color: black; font-weight: regular;\">see</span> <span style=\"color: black; font-weight: regular;\">.</span>"
      ],
      "text/plain": [
       "<IPython.core.display.HTML object>"
      ]
     },
     "metadata": {},
     "output_type": "display_data"
    },
    {
     "name": "stdout",
     "output_type": "stream",
     "text": [
      "---\n"
     ]
    },
    {
     "data": {
      "text/html": [
       "<span style=\"color: black; font-weight: regular;\">That</span> <span style=\"color: black; font-weight: regular;\">means</span> <span style=\"color: black; font-weight: regular;\">two</span> <span style=\"color: black; font-weight: regular;\">plants</span> <span style=\"color: black; font-weight: regular;\">--</span> <span style=\"color: black; font-weight: regular;\">one</span> <span style=\"color: black; font-weight: regular;\">in</span> <span style=\"color: black; font-weight: regular;\">Scarborough</span> <span style=\"color: black; font-weight: regular;\">,</span> <span style=\"color: black; font-weight: regular;\">Ontario</span> <span style=\"color: black; font-weight: regular;\">,</span> <span style=\"color: black; font-weight: regular;\">and</span> <span style=\"color: black; font-weight: regular;\">the</span> <span style=\"color: black; font-weight: regular;\">other</span> <span style=\"color: black; font-weight: regular;\">in</span> <span style=\"color: black; font-weight: regular;\">Lordstown</span> <span style=\"color: black; font-weight: regular;\">,</span> <span style=\"color: blue; font-weight: bold;\">Ohio</span> <span style=\"color: black; font-weight: regular;\">--</span> <span style=\"color: black; font-weight: regular;\">probably</span> <span style=\"color: black; font-weight: regular;\">will</span> <span style=\"color: black; font-weight: regular;\">be</span> <span style=\"color: black; font-weight: regular;\">shut</span> <span style=\"color: black; font-weight: regular;\">down</span> <span style=\"color: black; font-weight: regular;\">after</span> <span style=\"color: black; font-weight: regular;\">the</span> <span style=\"color: black; font-weight: regular;\">end</span> <span style=\"color: black; font-weight: regular;\">of</span> <span style=\"color: black; font-weight: regular;\">1991</span> <span style=\"color: black; font-weight: regular;\">.</span> <span style=\"color: black; font-weight: regular;\">The</span> <span style=\"color: black; font-weight: regular;\">shutdowns</span> <span style=\"color: black; font-weight: regular;\">will</span> <span style=\"color: black; font-weight: regular;\">idle</span> <span style=\"color: black; font-weight: regular;\">about</span> <span style=\"color: black; font-weight: regular;\">3,000</span> <span style=\"color: black; font-weight: regular;\">Canadian</span> <span style=\"color: black; font-weight: regular;\">assembly</span> <span style=\"color: black; font-weight: regular;\">workers</span> <span style=\"color: black; font-weight: regular;\">and</span> <span style=\"color: black; font-weight: regular;\">about</span> <span style=\"color: black; font-weight: regular;\">2,500</span> <span style=\"color: black; font-weight: regular;\">workers</span> <span style=\"color: black; font-weight: regular;\">in</span> <span style=\"color: blue; font-weight: bold;\">Ohio</span> <span style=\"color: black; font-weight: regular;\">.</span>"
      ],
      "text/plain": [
       "<IPython.core.display.HTML object>"
      ]
     },
     "metadata": {},
     "output_type": "display_data"
    },
    {
     "data": {
      "text/html": [
       "<span style=\"color: black; font-weight: regular;\">The</span> <span style=\"color: black; font-weight: regular;\">shutdowns</span> <span style=\"color: black; font-weight: regular;\">will</span> <span style=\"color: black; font-weight: regular;\">idle</span> <span style=\"color: black; font-weight: regular;\">about</span> <span style=\"color: black; font-weight: regular;\">3,000</span> <span style=\"color: black; font-weight: regular;\">Canadian</span> <span style=\"color: black; font-weight: regular;\">assembly</span> <span style=\"color: black; font-weight: regular;\">workers</span> <span style=\"color: black; font-weight: regular;\">and</span> <span style=\"color: black; font-weight: regular;\">about</span> <span style=\"color: black; font-weight: regular;\">2,500</span> <span style=\"color: black; font-weight: regular;\">workers</span> <span style=\"color: black; font-weight: regular;\">in</span> <span style=\"color: blue; font-weight: bold;\">Ohio</span> <span style=\"color: black; font-weight: regular;\">.</span> <span style=\"color: black; font-weight: regular;\">That</span> <span style=\"color: black; font-weight: regular;\">means</span> <span style=\"color: black; font-weight: regular;\">two</span> <span style=\"color: black; font-weight: regular;\">plants</span> <span style=\"color: black; font-weight: regular;\">--</span> <span style=\"color: black; font-weight: regular;\">one</span> <span style=\"color: black; font-weight: regular;\">in</span> <span style=\"color: black; font-weight: regular;\">Scarborough</span> <span style=\"color: black; font-weight: regular;\">,</span> <span style=\"color: black; font-weight: regular;\">Ontario</span> <span style=\"color: black; font-weight: regular;\">,</span> <span style=\"color: black; font-weight: regular;\">and</span> <span style=\"color: black; font-weight: regular;\">the</span> <span style=\"color: black; font-weight: regular;\">other</span> <span style=\"color: black; font-weight: regular;\">in</span> <span style=\"color: black; font-weight: regular;\">Lordstown</span> <span style=\"color: black; font-weight: regular;\">,</span> <span style=\"color: blue; font-weight: bold;\">Ohio</span> <span style=\"color: black; font-weight: regular;\">--</span> <span style=\"color: black; font-weight: regular;\">probably</span> <span style=\"color: black; font-weight: regular;\">will</span> <span style=\"color: black; font-weight: regular;\">be</span> <span style=\"color: black; font-weight: regular;\">shut</span> <span style=\"color: black; font-weight: regular;\">down</span> <span style=\"color: black; font-weight: regular;\">after</span> <span style=\"color: black; font-weight: regular;\">the</span> <span style=\"color: black; font-weight: regular;\">end</span> <span style=\"color: black; font-weight: regular;\">of</span> <span style=\"color: black; font-weight: regular;\">1991</span> <span style=\"color: black; font-weight: regular;\">.</span>"
      ],
      "text/plain": [
       "<IPython.core.display.HTML object>"
      ]
     },
     "metadata": {},
     "output_type": "display_data"
    },
    {
     "name": "stdout",
     "output_type": "stream",
     "text": [
      "---\n"
     ]
    },
    {
     "data": {
      "text/html": [
       "<span style=\"color: black; font-weight: regular;\">Analysts</span> <span style=\"color: black; font-weight: regular;\">and</span> <span style=\"color: black; font-weight: regular;\">competitors</span> <span style=\"color: black; font-weight: regular;\">,</span> <span style=\"color: black; font-weight: regular;\">however</span> <span style=\"color: black; font-weight: regular;\">,</span> <span style=\"color: black; font-weight: regular;\">doubt</span> <span style=\"color: black; font-weight: regular;\">the</span> <span style=\"color: black; font-weight: regular;\">numbers</span> <span style=\"color: black; font-weight: regular;\">were</span> <span style=\"color: black; font-weight: regular;\">that</span> <span style=\"color: black; font-weight: regular;\">high</span> <span style=\"color: black; font-weight: regular;\">.</span> <span style=\"color: blue; font-weight: bold;\">Budget</span> <span style=\"color: black; font-weight: regular;\">said</span> <span style=\"color: blue; font-weight: bold;\">its</span> <span style=\"color: black; font-weight: regular;\">frequent</span> <span style=\"color: black; font-weight: regular;\">-</span> <span style=\"color: black; font-weight: regular;\">flier</span> <span style=\"color: black; font-weight: regular;\">costs</span> <span style=\"color: black; font-weight: regular;\">are</span> <span style=\"color: black; font-weight: regular;\">``</span> <span style=\"color: black; font-weight: regular;\">substantially</span> <span style=\"color: black; font-weight: regular;\">below</span> <span style=\"color: black; font-weight: regular;\">''</span> <span style=\"color: black; font-weight: regular;\">Avis</span> <span style=\"color: black; font-weight: regular;\">'s</span> <span style=\"color: black; font-weight: regular;\">level</span> <span style=\"color: black; font-weight: regular;\">.</span>"
      ],
      "text/plain": [
       "<IPython.core.display.HTML object>"
      ]
     },
     "metadata": {},
     "output_type": "display_data"
    },
    {
     "data": {
      "text/html": [
       "<span style=\"color: black; font-weight: regular;\">Budget</span> <span style=\"color: black; font-weight: regular;\">said</span> <span style=\"color: black; font-weight: regular;\">its</span> <span style=\"color: black; font-weight: regular;\">frequent</span> <span style=\"color: black; font-weight: regular;\">-</span> <span style=\"color: black; font-weight: regular;\">flier</span> <span style=\"color: black; font-weight: regular;\">costs</span> <span style=\"color: black; font-weight: regular;\">are</span> <span style=\"color: black; font-weight: regular;\">``</span> <span style=\"color: black; font-weight: regular;\">substantially</span> <span style=\"color: black; font-weight: regular;\">below</span> <span style=\"color: black; font-weight: regular;\">''</span> <span style=\"color: black; font-weight: regular;\">Avis</span> <span style=\"color: black; font-weight: regular;\">'s</span> <span style=\"color: black; font-weight: regular;\">level</span> <span style=\"color: black; font-weight: regular;\">.</span> <span style=\"color: black; font-weight: regular;\">Analysts</span> <span style=\"color: black; font-weight: regular;\">and</span> <span style=\"color: black; font-weight: regular;\">competitors</span> <span style=\"color: black; font-weight: regular;\">,</span> <span style=\"color: black; font-weight: regular;\">however</span> <span style=\"color: black; font-weight: regular;\">,</span> <span style=\"color: black; font-weight: regular;\">doubt</span> <span style=\"color: black; font-weight: regular;\">the</span> <span style=\"color: black; font-weight: regular;\">numbers</span> <span style=\"color: black; font-weight: regular;\">were</span> <span style=\"color: black; font-weight: regular;\">that</span> <span style=\"color: black; font-weight: regular;\">high</span> <span style=\"color: black; font-weight: regular;\">.</span>"
      ],
      "text/plain": [
       "<IPython.core.display.HTML object>"
      ]
     },
     "metadata": {},
     "output_type": "display_data"
    },
    {
     "name": "stdout",
     "output_type": "stream",
     "text": [
      "---\n"
     ]
    },
    {
     "data": {
      "text/html": [
       "<span style=\"color: black; font-weight: regular;\">And</span> <span style=\"color: black; font-weight: regular;\">you</span> <span style=\"color: black; font-weight: regular;\">see</span> <span style=\"color: black; font-weight: regular;\">Apache</span> <span style=\"color: blue; font-weight: bold;\">helicopter</span> <span style=\"color: blue; font-weight: bold;\">pilot</span> <span style=\"color: black; font-weight: regular;\">and</span> <span style=\"color: blue; font-weight: bold;\">his</span> <span style=\"color: black; font-weight: regular;\">wife</span> <span style=\"color: black; font-weight: regular;\">Michelle</span> <span style=\"color: black; font-weight: regular;\">who</span> <span style=\"color: black; font-weight: regular;\">was</span> <span style=\"color: black; font-weight: regular;\">talking</span> <span style=\"color: black; font-weight: regular;\">with</span> <span style=\"color: black; font-weight: regular;\">us</span> <span style=\"color: black; font-weight: regular;\">on</span> <span style=\"color: black; font-weight: regular;\">the</span> <span style=\"color: black; font-weight: regular;\">telephone</span> <span style=\"color: black; font-weight: regular;\">the</span> <span style=\"color: black; font-weight: regular;\">Sunday</span> <span style=\"color: black; font-weight: regular;\">morning</span> <span style=\"color: black; font-weight: regular;\">when</span> <span style=\"color: black; font-weight: regular;\">the</span> <span style=\"color: black; font-weight: regular;\">video</span> <span style=\"color: black; font-weight: regular;\">came</span> <span style=\"color: black; font-weight: regular;\">in</span> <span style=\"color: black; font-weight: regular;\">of</span> <span style=\"color: black; font-weight: regular;\">the</span> <span style=\"color: black; font-weight: regular;\">rescue</span> <span style=\"color: black; font-weight: regular;\">of</span> <span style=\"color: black; font-weight: regular;\">the</span> <span style=\"color: black; font-weight: regular;\">POWs</span> <span style=\"color: black; font-weight: regular;\">and</span> <span style=\"color: black; font-weight: regular;\">,</span> <span style=\"color: green; font-weight: bold;\">she</span> <span style=\"color: black; font-weight: regular;\">identified</span> <span style=\"color: green; font-weight: bold;\">her</span> <span style=\"color: black; font-weight: regular;\">husband</span> <span style=\"color: black; font-weight: regular;\">and</span> <span style=\"color: black; font-weight: regular;\">life</span> <span style=\"color: black; font-weight: regular;\">just</span> <span style=\"color: black; font-weight: regular;\">got</span> <span style=\"color: black; font-weight: regular;\">better</span> <span style=\"color: black; font-weight: regular;\">and</span> <span style=\"color: black; font-weight: regular;\">better</span> <span style=\"color: black; font-weight: regular;\">for</span> <span style=\"color: green; font-weight: bold;\">her</span> <span style=\"color: black; font-weight: regular;\">after</span> <span style=\"color: black; font-weight: regular;\">that</span> <span style=\"color: black; font-weight: regular;\">.</span> <span style=\"color: black; font-weight: regular;\">Moving</span> <span style=\"color: black; font-weight: regular;\">on</span> <span style=\"color: black; font-weight: regular;\">now</span> <span style=\"color: black; font-weight: regular;\">,</span> <span style=\"color: black; font-weight: regular;\">in</span> <span style=\"color: black; font-weight: regular;\">upstate</span> <span style=\"color: black; font-weight: regular;\">New</span> <span style=\"color: black; font-weight: regular;\">York</span> <span style=\"color: black; font-weight: regular;\">Stock</span> <span style=\"color: black; font-weight: regular;\">Exchange</span> <span style=\"color: black; font-weight: regular;\">criminal</span> <span style=\"color: black; font-weight: regular;\">charges</span> <span style=\"color: black; font-weight: regular;\">have</span> <span style=\"color: black; font-weight: regular;\">been</span> <span style=\"color: black; font-weight: regular;\">filed</span> <span style=\"color: black; font-weight: regular;\">in</span> <span style=\"color: black; font-weight: regular;\">last</span> <span style=\"color: black; font-weight: regular;\">month</span> <span style=\"color: black; font-weight: regular;\">'s</span> <span style=\"color: black; font-weight: regular;\">fraternity</span> <span style=\"color: black; font-weight: regular;\">hazing</span> <span style=\"color: black; font-weight: regular;\">death</span> <span style=\"color: black; font-weight: regular;\">at</span> <span style=\"color: black; font-weight: regular;\">Platsberg</span> <span style=\"color: black; font-weight: regular;\">State</span> <span style=\"color: black; font-weight: regular;\">University</span> <span style=\"color: black; font-weight: regular;\">of</span> <span style=\"color: black; font-weight: regular;\">New</span> <span style=\"color: black; font-weight: regular;\">York</span> <span style=\"color: black; font-weight: regular;\">.</span>"
      ],
      "text/plain": [
       "<IPython.core.display.HTML object>"
      ]
     },
     "metadata": {},
     "output_type": "display_data"
    },
    {
     "data": {
      "text/html": [
       "<span style=\"color: black; font-weight: regular;\">Moving</span> <span style=\"color: black; font-weight: regular;\">on</span> <span style=\"color: black; font-weight: regular;\">now</span> <span style=\"color: black; font-weight: regular;\">,</span> <span style=\"color: black; font-weight: regular;\">in</span> <span style=\"color: black; font-weight: regular;\">upstate</span> <span style=\"color: black; font-weight: regular;\">New</span> <span style=\"color: black; font-weight: regular;\">York</span> <span style=\"color: black; font-weight: regular;\">Stock</span> <span style=\"color: black; font-weight: regular;\">Exchange</span> <span style=\"color: black; font-weight: regular;\">criminal</span> <span style=\"color: black; font-weight: regular;\">charges</span> <span style=\"color: black; font-weight: regular;\">have</span> <span style=\"color: black; font-weight: regular;\">been</span> <span style=\"color: black; font-weight: regular;\">filed</span> <span style=\"color: black; font-weight: regular;\">in</span> <span style=\"color: black; font-weight: regular;\">last</span> <span style=\"color: black; font-weight: regular;\">month</span> <span style=\"color: black; font-weight: regular;\">'s</span> <span style=\"color: black; font-weight: regular;\">fraternity</span> <span style=\"color: black; font-weight: regular;\">hazing</span> <span style=\"color: black; font-weight: regular;\">death</span> <span style=\"color: black; font-weight: regular;\">at</span> <span style=\"color: black; font-weight: regular;\">Platsberg</span> <span style=\"color: black; font-weight: regular;\">State</span> <span style=\"color: black; font-weight: regular;\">University</span> <span style=\"color: black; font-weight: regular;\">of</span> <span style=\"color: black; font-weight: regular;\">New</span> <span style=\"color: black; font-weight: regular;\">York</span> <span style=\"color: black; font-weight: regular;\">.</span> <span style=\"color: black; font-weight: regular;\">And</span> <span style=\"color: black; font-weight: regular;\">you</span> <span style=\"color: black; font-weight: regular;\">see</span> <span style=\"color: black; font-weight: regular;\">Apache</span> <span style=\"color: blue; font-weight: bold;\">helicopter</span> <span style=\"color: blue; font-weight: bold;\">pilot</span> <span style=\"color: black; font-weight: regular;\">and</span> <span style=\"color: blue; font-weight: bold;\">his</span> <span style=\"color: black; font-weight: regular;\">wife</span> <span style=\"color: black; font-weight: regular;\">Michelle</span> <span style=\"color: black; font-weight: regular;\">who</span> <span style=\"color: black; font-weight: regular;\">was</span> <span style=\"color: black; font-weight: regular;\">talking</span> <span style=\"color: black; font-weight: regular;\">with</span> <span style=\"color: black; font-weight: regular;\">us</span> <span style=\"color: black; font-weight: regular;\">on</span> <span style=\"color: black; font-weight: regular;\">the</span> <span style=\"color: black; font-weight: regular;\">telephone</span> <span style=\"color: black; font-weight: regular;\">the</span> <span style=\"color: black; font-weight: regular;\">Sunday</span> <span style=\"color: black; font-weight: regular;\">morning</span> <span style=\"color: black; font-weight: regular;\">when</span> <span style=\"color: black; font-weight: regular;\">the</span> <span style=\"color: black; font-weight: regular;\">video</span> <span style=\"color: black; font-weight: regular;\">came</span> <span style=\"color: black; font-weight: regular;\">in</span> <span style=\"color: black; font-weight: regular;\">of</span> <span style=\"color: black; font-weight: regular;\">the</span> <span style=\"color: black; font-weight: regular;\">rescue</span> <span style=\"color: black; font-weight: regular;\">of</span> <span style=\"color: black; font-weight: regular;\">the</span> <span style=\"color: black; font-weight: regular;\">POWs</span> <span style=\"color: black; font-weight: regular;\">and</span> <span style=\"color: black; font-weight: regular;\">,</span> <span style=\"color: green; font-weight: bold;\">she</span> <span style=\"color: black; font-weight: regular;\">identified</span> <span style=\"color: green; font-weight: bold;\">her</span> <span style=\"color: black; font-weight: regular;\">husband</span> <span style=\"color: black; font-weight: regular;\">and</span> <span style=\"color: black; font-weight: regular;\">life</span> <span style=\"color: black; font-weight: regular;\">just</span> <span style=\"color: black; font-weight: regular;\">got</span> <span style=\"color: black; font-weight: regular;\">better</span> <span style=\"color: black; font-weight: regular;\">and</span> <span style=\"color: black; font-weight: regular;\">better</span> <span style=\"color: black; font-weight: regular;\">for</span> <span style=\"color: green; font-weight: bold;\">her</span> <span style=\"color: black; font-weight: regular;\">after</span> <span style=\"color: black; font-weight: regular;\">that</span> <span style=\"color: black; font-weight: regular;\">.</span>"
      ],
      "text/plain": [
       "<IPython.core.display.HTML object>"
      ]
     },
     "metadata": {},
     "output_type": "display_data"
    },
    {
     "name": "stdout",
     "output_type": "stream",
     "text": [
      "---\n"
     ]
    },
    {
     "data": {
      "text/html": [
       "<span style=\"color: black; font-weight: regular;\">okay</span> <span style=\"color: black; font-weight: regular;\">.</span> <span style=\"color: black; font-weight: regular;\">I</span> <span style=\"color: black; font-weight: regular;\">just</span> <span style=\"color: black; font-weight: regular;\">got</span> <span style=\"color: black; font-weight: regular;\">a</span> <span style=\"color: black; font-weight: regular;\">card</span> <span style=\"color: black; font-weight: regular;\">from</span> <span style=\"color: black; font-weight: regular;\">Ron</span> <span style=\"color: black; font-weight: regular;\">and</span> <span style=\"color: black; font-weight: regular;\">Doris</span> <span style=\"color: black; font-weight: regular;\">,</span>"
      ],
      "text/plain": [
       "<IPython.core.display.HTML object>"
      ]
     },
     "metadata": {},
     "output_type": "display_data"
    },
    {
     "data": {
      "text/html": [
       "<span style=\"color: black; font-weight: regular;\">I</span> <span style=\"color: black; font-weight: regular;\">just</span> <span style=\"color: black; font-weight: regular;\">got</span> <span style=\"color: black; font-weight: regular;\">a</span> <span style=\"color: black; font-weight: regular;\">card</span> <span style=\"color: black; font-weight: regular;\">from</span> <span style=\"color: black; font-weight: regular;\">Ron</span> <span style=\"color: black; font-weight: regular;\">and</span> <span style=\"color: black; font-weight: regular;\">Doris</span> <span style=\"color: black; font-weight: regular;\">,</span> <span style=\"color: black; font-weight: regular;\">okay</span> <span style=\"color: black; font-weight: regular;\">.</span>"
      ],
      "text/plain": [
       "<IPython.core.display.HTML object>"
      ]
     },
     "metadata": {},
     "output_type": "display_data"
    },
    {
     "name": "stdout",
     "output_type": "stream",
     "text": [
      "---\n"
     ]
    },
    {
     "data": {
      "text/html": [
       "<span style=\"color: blue; font-weight: bold;\">The</span> <span style=\"color: blue; font-weight: bold;\">king</span> <span style=\"color: black; font-weight: regular;\">said</span> <span style=\"color: black; font-weight: regular;\">to</span> <span style=\"color: black; font-weight: regular;\">this</span> <span style=\"color: black; font-weight: regular;\">servant</span> <span style=\"color: black; font-weight: regular;\">,</span> <span style=\"color: black; font-weight: regular;\">'</span> <span style=\"color: black; font-weight: regular;\">You</span> <span style=\"color: black; font-weight: regular;\">can</span> <span style=\"color: black; font-weight: regular;\">rule</span> <span style=\"color: black; font-weight: regular;\">over</span> <span style=\"color: black; font-weight: regular;\">five</span> <span style=\"color: black; font-weight: regular;\">cities</span> <span style=\"color: black; font-weight: regular;\">.</span> <span style=\"color: black; font-weight: regular;\">'</span> <span style=\"color: black; font-weight: regular;\">``</span> <span style=\"color: black; font-weight: regular;\">Then</span> <span style=\"color: green; font-weight: bold;\">another</span> <span style=\"color: green; font-weight: bold;\">servant</span> <span style=\"color: black; font-weight: regular;\">came</span> <span style=\"color: black; font-weight: regular;\">in</span> <span style=\"color: black; font-weight: regular;\">and</span> <span style=\"color: black; font-weight: regular;\">said</span> <span style=\"color: black; font-weight: regular;\">to</span> <span style=\"color: blue; font-weight: bold;\">the</span> <span style=\"color: blue; font-weight: bold;\">king</span> <span style=\"color: black; font-weight: regular;\">,</span> <span style=\"color: black; font-weight: regular;\">'</span> <span style=\"color: green; font-weight: bold;\">Sir</span> <span style=\"color: black; font-weight: regular;\">,</span> <span style=\"color: black; font-weight: regular;\">here</span> <span style=\"color: black; font-weight: regular;\">is</span> <span style=\"color: green; font-weight: bold;\">your</span> <span style=\"color: black; font-weight: regular;\">bag</span> <span style=\"color: black; font-weight: regular;\">of</span> <span style=\"color: black; font-weight: regular;\">money</span> <span style=\"color: black; font-weight: regular;\">.</span>"
      ],
      "text/plain": [
       "<IPython.core.display.HTML object>"
      ]
     },
     "metadata": {},
     "output_type": "display_data"
    },
    {
     "data": {
      "text/html": [
       "<span style=\"color: black; font-weight: regular;\">``</span> <span style=\"color: black; font-weight: regular;\">Then</span> <span style=\"color: blue; font-weight: bold;\">another</span> <span style=\"color: blue; font-weight: bold;\">servant</span> <span style=\"color: black; font-weight: regular;\">came</span> <span style=\"color: black; font-weight: regular;\">in</span> <span style=\"color: black; font-weight: regular;\">and</span> <span style=\"color: black; font-weight: regular;\">said</span> <span style=\"color: black; font-weight: regular;\">to</span> <span style=\"color: green; font-weight: bold;\">the</span> <span style=\"color: green; font-weight: bold;\">king</span> <span style=\"color: black; font-weight: regular;\">,</span> <span style=\"color: black; font-weight: regular;\">'</span> <span style=\"color: blue; font-weight: bold;\">Sir</span> <span style=\"color: black; font-weight: regular;\">,</span> <span style=\"color: black; font-weight: regular;\">here</span> <span style=\"color: black; font-weight: regular;\">is</span> <span style=\"color: blue; font-weight: bold;\">your</span> <span style=\"color: black; font-weight: regular;\">bag</span> <span style=\"color: black; font-weight: regular;\">of</span> <span style=\"color: black; font-weight: regular;\">money</span> <span style=\"color: black; font-weight: regular;\">.</span> <span style=\"color: green; font-weight: bold;\">The</span> <span style=\"color: green; font-weight: bold;\">king</span> <span style=\"color: black; font-weight: regular;\">said</span> <span style=\"color: black; font-weight: regular;\">to</span> <span style=\"color: blue; font-weight: bold;\">this</span> <span style=\"color: blue; font-weight: bold;\">servant</span> <span style=\"color: black; font-weight: regular;\">,</span> <span style=\"color: black; font-weight: regular;\">'</span> <span style=\"color: black; font-weight: regular;\">You</span> <span style=\"color: black; font-weight: regular;\">can</span> <span style=\"color: black; font-weight: regular;\">rule</span> <span style=\"color: black; font-weight: regular;\">over</span> <span style=\"color: black; font-weight: regular;\">five</span> <span style=\"color: black; font-weight: regular;\">cities</span> <span style=\"color: black; font-weight: regular;\">.</span> <span style=\"color: black; font-weight: regular;\">'</span>"
      ],
      "text/plain": [
       "<IPython.core.display.HTML object>"
      ]
     },
     "metadata": {},
     "output_type": "display_data"
    },
    {
     "name": "stdout",
     "output_type": "stream",
     "text": [
      "---\n"
     ]
    },
    {
     "data": {
      "text/html": [
       "<span style=\"color: blue; font-weight: bold;\">Gregg</span> <span style=\"color: blue; font-weight: bold;\">Jarrett</span> <span style=\"color: black; font-weight: regular;\">.</span> <span style=\"color: black; font-weight: regular;\">I</span> <span style=\"color: black; font-weight: regular;\">should</span> <span style=\"color: black; font-weight: regular;\">point</span> <span style=\"color: black; font-weight: regular;\">out</span> <span style=\"color: black; font-weight: regular;\">,</span> <span style=\"color: blue; font-weight: bold;\">he</span> <span style=\"color: black; font-weight: regular;\">is</span> <span style=\"color: black; font-weight: regular;\">a</span> <span style=\"color: black; font-weight: regular;\">former</span> <span style=\"color: black; font-weight: regular;\">lawyer</span> <span style=\"color: black; font-weight: regular;\">himself</span> <span style=\"color: black; font-weight: regular;\">and</span> <span style=\"color: black; font-weight: regular;\">so</span> <span style=\"color: black; font-weight: regular;\">can</span> <span style=\"color: black; font-weight: regular;\">help</span> <span style=\"color: black; font-weight: regular;\">put</span> <span style=\"color: black; font-weight: regular;\">this</span> <span style=\"color: black; font-weight: regular;\">into</span> <span style=\"color: black; font-weight: regular;\">English</span> <span style=\"color: black; font-weight: regular;\">.</span>"
      ],
      "text/plain": [
       "<IPython.core.display.HTML object>"
      ]
     },
     "metadata": {},
     "output_type": "display_data"
    },
    {
     "data": {
      "text/html": [
       "<span style=\"color: black; font-weight: regular;\">I</span> <span style=\"color: black; font-weight: regular;\">should</span> <span style=\"color: black; font-weight: regular;\">point</span> <span style=\"color: black; font-weight: regular;\">out</span> <span style=\"color: black; font-weight: regular;\">,</span> <span style=\"color: blue; font-weight: bold;\">he</span> <span style=\"color: black; font-weight: regular;\">is</span> <span style=\"color: black; font-weight: regular;\">a</span> <span style=\"color: black; font-weight: regular;\">former</span> <span style=\"color: black; font-weight: regular;\">lawyer</span> <span style=\"color: blue; font-weight: bold;\">himself</span> <span style=\"color: black; font-weight: regular;\">and</span> <span style=\"color: black; font-weight: regular;\">so</span> <span style=\"color: black; font-weight: regular;\">can</span> <span style=\"color: black; font-weight: regular;\">help</span> <span style=\"color: black; font-weight: regular;\">put</span> <span style=\"color: black; font-weight: regular;\">this</span> <span style=\"color: black; font-weight: regular;\">into</span> <span style=\"color: black; font-weight: regular;\">English</span> <span style=\"color: black; font-weight: regular;\">.</span> <span style=\"color: black; font-weight: regular;\">Gregg</span> <span style=\"color: black; font-weight: regular;\">Jarrett</span> <span style=\"color: black; font-weight: regular;\">.</span>"
      ],
      "text/plain": [
       "<IPython.core.display.HTML object>"
      ]
     },
     "metadata": {},
     "output_type": "display_data"
    },
    {
     "name": "stdout",
     "output_type": "stream",
     "text": [
      "---\n"
     ]
    },
    {
     "data": {
      "text/html": [
       "<span style=\"color: black; font-weight: regular;\">That</span> <span style=\"color: black; font-weight: regular;\">July</span> <span style=\"color: black; font-weight: regular;\">,</span> <span style=\"color: blue; font-weight: bold;\">Sharon</span> <span style=\"color: blue; font-weight: bold;\">Osbourne</span> <span style=\"color: black; font-weight: regular;\">,</span> <span style=\"color: black; font-weight: regular;\">Ozzy</span> <span style=\"color: black; font-weight: regular;\">'s</span> <span style=\"color: black; font-weight: regular;\">long</span> <span style=\"color: black; font-weight: regular;\">-</span> <span style=\"color: black; font-weight: regular;\">time</span> <span style=\"color: black; font-weight: regular;\">manager</span> <span style=\"color: black; font-weight: regular;\">,</span> <span style=\"color: black; font-weight: regular;\">wife</span> <span style=\"color: black; font-weight: regular;\">and</span> <span style=\"color: black; font-weight: regular;\">best</span> <span style=\"color: black; font-weight: regular;\">friend</span> <span style=\"color: black; font-weight: regular;\">,</span> <span style=\"color: black; font-weight: regular;\">announced</span> <span style=\"color: black; font-weight: regular;\">to</span> <span style=\"color: black; font-weight: regular;\">the</span> <span style=\"color: black; font-weight: regular;\">world</span> <span style=\"color: black; font-weight: regular;\">that</span> <span style=\"color: black; font-weight: regular;\">she</span> <span style=\"color: black; font-weight: regular;\">'d</span> <span style=\"color: black; font-weight: regular;\">been</span> <span style=\"color: black; font-weight: regular;\">diagnosed</span> <span style=\"color: black; font-weight: regular;\">with</span> <span style=\"color: black; font-weight: regular;\">colon</span> <span style=\"color: black; font-weight: regular;\">cancer</span> <span style=\"color: black; font-weight: regular;\">.</span> <span style=\"color: black; font-weight: regular;\">Every</span> <span style=\"color: black; font-weight: regular;\">fiber</span> <span style=\"color: black; font-weight: regular;\">of</span> <span style=\"color: blue; font-weight: bold;\">Ozzy</span> <span style=\"color: black; font-weight: regular;\">was</span> <span style=\"color: black; font-weight: regular;\">shaken</span> <span style=\"color: black; font-weight: regular;\">.</span>"
      ],
      "text/plain": [
       "<IPython.core.display.HTML object>"
      ]
     },
     "metadata": {},
     "output_type": "display_data"
    },
    {
     "data": {
      "text/html": [
       "<span style=\"color: black; font-weight: regular;\">Every</span> <span style=\"color: black; font-weight: regular;\">fiber</span> <span style=\"color: black; font-weight: regular;\">of</span> <span style=\"color: black; font-weight: regular;\">Ozzy</span> <span style=\"color: black; font-weight: regular;\">was</span> <span style=\"color: black; font-weight: regular;\">shaken</span> <span style=\"color: black; font-weight: regular;\">.</span> <span style=\"color: black; font-weight: regular;\">That</span> <span style=\"color: black; font-weight: regular;\">July</span> <span style=\"color: black; font-weight: regular;\">,</span> <span style=\"color: black; font-weight: regular;\">Sharon</span> <span style=\"color: black; font-weight: regular;\">Osbourne</span> <span style=\"color: black; font-weight: regular;\">,</span> <span style=\"color: black; font-weight: regular;\">Ozzy</span> <span style=\"color: black; font-weight: regular;\">'s</span> <span style=\"color: black; font-weight: regular;\">long</span> <span style=\"color: black; font-weight: regular;\">-</span> <span style=\"color: black; font-weight: regular;\">time</span> <span style=\"color: black; font-weight: regular;\">manager</span> <span style=\"color: black; font-weight: regular;\">,</span> <span style=\"color: black; font-weight: regular;\">wife</span> <span style=\"color: black; font-weight: regular;\">and</span> <span style=\"color: black; font-weight: regular;\">best</span> <span style=\"color: black; font-weight: regular;\">friend</span> <span style=\"color: black; font-weight: regular;\">,</span> <span style=\"color: black; font-weight: regular;\">announced</span> <span style=\"color: black; font-weight: regular;\">to</span> <span style=\"color: black; font-weight: regular;\">the</span> <span style=\"color: black; font-weight: regular;\">world</span> <span style=\"color: black; font-weight: regular;\">that</span> <span style=\"color: black; font-weight: regular;\">she</span> <span style=\"color: black; font-weight: regular;\">'d</span> <span style=\"color: black; font-weight: regular;\">been</span> <span style=\"color: black; font-weight: regular;\">diagnosed</span> <span style=\"color: black; font-weight: regular;\">with</span> <span style=\"color: black; font-weight: regular;\">colon</span> <span style=\"color: black; font-weight: regular;\">cancer</span> <span style=\"color: black; font-weight: regular;\">.</span>"
      ],
      "text/plain": [
       "<IPython.core.display.HTML object>"
      ]
     },
     "metadata": {},
     "output_type": "display_data"
    },
    {
     "name": "stdout",
     "output_type": "stream",
     "text": [
      "---\n"
     ]
    },
    {
     "data": {
      "text/html": [
       "<span style=\"color: black; font-weight: regular;\">With</span> <span style=\"color: black; font-weight: regular;\">thiking</span> <span style=\"color: black; font-weight: regular;\">like</span> <span style=\"color: black; font-weight: regular;\">that</span> <span style=\"color: black; font-weight: regular;\">,</span> <span style=\"color: black; font-weight: regular;\">even</span> <span style=\"color: black; font-weight: regular;\">if</span> <span style=\"color: black; font-weight: regular;\">we</span> <span style=\"color: black; font-weight: regular;\">got</span> <span style=\"color: black; font-weight: regular;\">rid</span> <span style=\"color: black; font-weight: regular;\">of</span> <span style=\"color: black; font-weight: regular;\">the</span> <span style=\"color: black; font-weight: regular;\">evil</span> <span style=\"color: black; font-weight: regular;\">elite</span> <span style=\"color: black; font-weight: regular;\">,</span> <span style=\"color: black; font-weight: regular;\">a</span> <span style=\"color: black; font-weight: regular;\">new</span> <span style=\"color: black; font-weight: regular;\">set</span> <span style=\"color: black; font-weight: regular;\">of</span> <span style=\"color: black; font-weight: regular;\">'</span> <span style=\"color: black; font-weight: regular;\">evil</span> <span style=\"color: black; font-weight: regular;\">elite</span> <span style=\"color: black; font-weight: regular;\">'</span> <span style=\"color: black; font-weight: regular;\">would</span> <span style=\"color: black; font-weight: regular;\">rise</span> <span style=\"color: black; font-weight: regular;\">again</span> <span style=\"color: black; font-weight: regular;\">in</span> <span style=\"color: black; font-weight: regular;\">their</span> <span style=\"color: black; font-weight: regular;\">place</span> <span style=\"color: black; font-weight: regular;\">.</span> <span style=\"color: black; font-weight: regular;\">That</span> <span style=\"color: black; font-weight: regular;\">seems</span> <span style=\"color: black; font-weight: regular;\">to</span> <span style=\"color: black; font-weight: regular;\">be</span> <span style=\"color: black; font-weight: regular;\">the</span> <span style=\"color: black; font-weight: regular;\">nature</span> <span style=\"color: black; font-weight: regular;\">of</span> <span style=\"color: black; font-weight: regular;\">man</span> <span style=\"color: black; font-weight: regular;\">,</span> <span style=\"color: black; font-weight: regular;\">though</span> <span style=\"color: black; font-weight: regular;\">.</span>"
      ],
      "text/plain": [
       "<IPython.core.display.HTML object>"
      ]
     },
     "metadata": {},
     "output_type": "display_data"
    },
    {
     "data": {
      "text/html": [
       "<span style=\"color: black; font-weight: regular;\">That</span> <span style=\"color: black; font-weight: regular;\">seems</span> <span style=\"color: black; font-weight: regular;\">to</span> <span style=\"color: black; font-weight: regular;\">be</span> <span style=\"color: black; font-weight: regular;\">the</span> <span style=\"color: black; font-weight: regular;\">nature</span> <span style=\"color: black; font-weight: regular;\">of</span> <span style=\"color: black; font-weight: regular;\">man</span> <span style=\"color: black; font-weight: regular;\">,</span> <span style=\"color: black; font-weight: regular;\">though</span> <span style=\"color: black; font-weight: regular;\">.</span> <span style=\"color: black; font-weight: regular;\">With</span> <span style=\"color: black; font-weight: regular;\">thiking</span> <span style=\"color: black; font-weight: regular;\">like</span> <span style=\"color: black; font-weight: regular;\">that</span> <span style=\"color: black; font-weight: regular;\">,</span> <span style=\"color: black; font-weight: regular;\">even</span> <span style=\"color: black; font-weight: regular;\">if</span> <span style=\"color: black; font-weight: regular;\">we</span> <span style=\"color: black; font-weight: regular;\">got</span> <span style=\"color: black; font-weight: regular;\">rid</span> <span style=\"color: black; font-weight: regular;\">of</span> <span style=\"color: black; font-weight: regular;\">the</span> <span style=\"color: black; font-weight: regular;\">evil</span> <span style=\"color: black; font-weight: regular;\">elite</span> <span style=\"color: black; font-weight: regular;\">,</span> <span style=\"color: black; font-weight: regular;\">a</span> <span style=\"color: black; font-weight: regular;\">new</span> <span style=\"color: black; font-weight: regular;\">set</span> <span style=\"color: black; font-weight: regular;\">of</span> <span style=\"color: black; font-weight: regular;\">'</span> <span style=\"color: black; font-weight: regular;\">evil</span> <span style=\"color: black; font-weight: regular;\">elite</span> <span style=\"color: black; font-weight: regular;\">'</span> <span style=\"color: black; font-weight: regular;\">would</span> <span style=\"color: black; font-weight: regular;\">rise</span> <span style=\"color: black; font-weight: regular;\">again</span> <span style=\"color: black; font-weight: regular;\">in</span> <span style=\"color: black; font-weight: regular;\">their</span> <span style=\"color: black; font-weight: regular;\">place</span> <span style=\"color: black; font-weight: regular;\">.</span>"
      ],
      "text/plain": [
       "<IPython.core.display.HTML object>"
      ]
     },
     "metadata": {},
     "output_type": "display_data"
    },
    {
     "name": "stdout",
     "output_type": "stream",
     "text": [
      "---\n"
     ]
    },
    {
     "data": {
      "text/html": [
       "<span style=\"color: black; font-weight: regular;\">So</span> <span style=\"color: black; font-weight: regular;\">far</span> <span style=\"color: black; font-weight: regular;\">two</span> <span style=\"color: black; font-weight: regular;\">little</span> <span style=\"color: black; font-weight: regular;\">known</span> <span style=\"color: black; font-weight: regular;\">Islamic</span> <span style=\"color: black; font-weight: regular;\">groups</span> <span style=\"color: black; font-weight: regular;\">have</span> <span style=\"color: black; font-weight: regular;\">claimed</span> <span style=\"color: black; font-weight: regular;\">responsibility</span> <span style=\"color: black; font-weight: regular;\">for</span> <span style=\"color: black; font-weight: regular;\">the</span> <span style=\"color: black; font-weight: regular;\">attack</span> <span style=\"color: black; font-weight: regular;\">.</span> <span style=\"color: blue; font-weight: bold;\">Yemeni</span> <span style=\"color: blue; font-weight: bold;\">authorities</span> <span style=\"color: black; font-weight: regular;\">claimed</span> <span style=\"color: blue; font-weight: bold;\">they</span> <span style=\"color: black; font-weight: regular;\">have</span> <span style=\"color: black; font-weight: regular;\">detained</span> <span style=\"color: black; font-weight: regular;\">over</span> <span style=\"color: black; font-weight: regular;\">70</span> <span style=\"color: black; font-weight: regular;\">people</span> <span style=\"color: black; font-weight: regular;\">for</span> <span style=\"color: black; font-weight: regular;\">questioning</span> <span style=\"color: black; font-weight: regular;\">.</span>"
      ],
      "text/plain": [
       "<IPython.core.display.HTML object>"
      ]
     },
     "metadata": {},
     "output_type": "display_data"
    },
    {
     "data": {
      "text/html": [
       "<span style=\"color: blue; font-weight: bold;\">Yemeni</span> <span style=\"color: blue; font-weight: bold;\">authorities</span> <span style=\"color: black; font-weight: regular;\">claimed</span> <span style=\"color: blue; font-weight: bold;\">they</span> <span style=\"color: black; font-weight: regular;\">have</span> <span style=\"color: black; font-weight: regular;\">detained</span> <span style=\"color: black; font-weight: regular;\">over</span> <span style=\"color: black; font-weight: regular;\">70</span> <span style=\"color: black; font-weight: regular;\">people</span> <span style=\"color: black; font-weight: regular;\">for</span> <span style=\"color: black; font-weight: regular;\">questioning</span> <span style=\"color: black; font-weight: regular;\">.</span> <span style=\"color: black; font-weight: regular;\">So</span> <span style=\"color: black; font-weight: regular;\">far</span> <span style=\"color: black; font-weight: regular;\">two</span> <span style=\"color: black; font-weight: regular;\">little</span> <span style=\"color: black; font-weight: regular;\">known</span> <span style=\"color: black; font-weight: regular;\">Islamic</span> <span style=\"color: black; font-weight: regular;\">groups</span> <span style=\"color: black; font-weight: regular;\">have</span> <span style=\"color: black; font-weight: regular;\">claimed</span> <span style=\"color: black; font-weight: regular;\">responsibility</span> <span style=\"color: black; font-weight: regular;\">for</span> <span style=\"color: black; font-weight: regular;\">the</span> <span style=\"color: black; font-weight: regular;\">attack</span> <span style=\"color: black; font-weight: regular;\">.</span>"
      ],
      "text/plain": [
       "<IPython.core.display.HTML object>"
      ]
     },
     "metadata": {},
     "output_type": "display_data"
    },
    {
     "name": "stdout",
     "output_type": "stream",
     "text": [
      "---\n"
     ]
    },
    {
     "data": {
      "text/html": [
       "<span style=\"color: black; font-weight: regular;\">and</span> <span style=\"color: blue; font-weight: bold;\">he</span> <span style=\"color: black; font-weight: regular;\">'s</span> <span style=\"color: black; font-weight: regular;\">doing</span> <span style=\"color: black; font-weight: regular;\">very</span> <span style=\"color: black; font-weight: regular;\">very</span> <span style=\"color: black; font-weight: regular;\">well</span> <span style=\"color: black; font-weight: regular;\">.</span> <span style=\"color: black; font-weight: regular;\">%</span> <span style=\"color: black; font-weight: regular;\">um</span> <span style=\"color: black; font-weight: regular;\">,</span> <span style=\"color: black; font-weight: regular;\">and</span> <span style=\"color: blue; font-weight: bold;\">his</span> <span style=\"color: black; font-weight: regular;\">wife</span> <span style=\"color: black; font-weight: regular;\">just</span> <span style=\"color: black; font-weight: regular;\">had</span> <span style=\"color: black; font-weight: regular;\">their</span> <span style=\"color: black; font-weight: regular;\">fourth</span> <span style=\"color: black; font-weight: regular;\">child</span> <span style=\"color: black; font-weight: regular;\">.</span>"
      ],
      "text/plain": [
       "<IPython.core.display.HTML object>"
      ]
     },
     "metadata": {},
     "output_type": "display_data"
    },
    {
     "data": {
      "text/html": [
       "<span style=\"color: black; font-weight: regular;\">and</span> <span style=\"color: blue; font-weight: bold;\">his</span> <span style=\"color: black; font-weight: regular;\">wife</span> <span style=\"color: black; font-weight: regular;\">just</span> <span style=\"color: black; font-weight: regular;\">had</span> <span style=\"color: black; font-weight: regular;\">their</span> <span style=\"color: black; font-weight: regular;\">fourth</span> <span style=\"color: black; font-weight: regular;\">child</span> <span style=\"color: black; font-weight: regular;\">.</span> <span style=\"color: black; font-weight: regular;\">and</span> <span style=\"color: blue; font-weight: bold;\">he</span> <span style=\"color: black; font-weight: regular;\">'s</span> <span style=\"color: black; font-weight: regular;\">doing</span> <span style=\"color: black; font-weight: regular;\">very</span> <span style=\"color: black; font-weight: regular;\">very</span> <span style=\"color: black; font-weight: regular;\">well</span> <span style=\"color: black; font-weight: regular;\">.</span> <span style=\"color: black; font-weight: regular;\">%</span> <span style=\"color: black; font-weight: regular;\">um</span> <span style=\"color: black; font-weight: regular;\">,</span>"
      ],
      "text/plain": [
       "<IPython.core.display.HTML object>"
      ]
     },
     "metadata": {},
     "output_type": "display_data"
    },
    {
     "name": "stdout",
     "output_type": "stream",
     "text": [
      "---\n"
     ]
    },
    {
     "data": {
      "text/html": [
       "<span style=\"color: black; font-weight: regular;\">Hello</span> <span style=\"color: black; font-weight: regular;\">I</span> <span style=\"color: black; font-weight: regular;\">'m</span> <span style=\"color: black; font-weight: regular;\">at</span> <span style=\"color: black; font-weight: regular;\">the</span> <span style=\"color: black; font-weight: regular;\">CNN</span> <span style=\"color: black; font-weight: regular;\">center</span> <span style=\"color: black; font-weight: regular;\">in</span> <span style=\"color: black; font-weight: regular;\">Atlanta</span> <span style=\"color: black; font-weight: regular;\">/</span> <span style=\"color: black; font-weight: regular;\">.</span> <span style=\"color: black; font-weight: regular;\">Now</span> <span style=\"color: black; font-weight: regular;\">in</span> <span style=\"color: black; font-weight: regular;\">the</span> <span style=\"color: black; font-weight: regular;\">news</span> <span style=\"color: black; font-weight: regular;\">/</span> <span style=\"color: black; font-weight: regular;\">.</span>"
      ],
      "text/plain": [
       "<IPython.core.display.HTML object>"
      ]
     },
     "metadata": {},
     "output_type": "display_data"
    },
    {
     "data": {
      "text/html": [
       "<span style=\"color: black; font-weight: regular;\">Now</span> <span style=\"color: black; font-weight: regular;\">in</span> <span style=\"color: black; font-weight: regular;\">the</span> <span style=\"color: black; font-weight: regular;\">news</span> <span style=\"color: black; font-weight: regular;\">/</span> <span style=\"color: black; font-weight: regular;\">.</span> <span style=\"color: black; font-weight: regular;\">Hello</span> <span style=\"color: black; font-weight: regular;\">I</span> <span style=\"color: black; font-weight: regular;\">'m</span> <span style=\"color: black; font-weight: regular;\">at</span> <span style=\"color: black; font-weight: regular;\">the</span> <span style=\"color: black; font-weight: regular;\">CNN</span> <span style=\"color: black; font-weight: regular;\">center</span> <span style=\"color: black; font-weight: regular;\">in</span> <span style=\"color: black; font-weight: regular;\">Atlanta</span> <span style=\"color: black; font-weight: regular;\">/</span> <span style=\"color: black; font-weight: regular;\">.</span>"
      ],
      "text/plain": [
       "<IPython.core.display.HTML object>"
      ]
     },
     "metadata": {},
     "output_type": "display_data"
    },
    {
     "name": "stdout",
     "output_type": "stream",
     "text": [
      "---\n"
     ]
    },
    {
     "data": {
      "text/html": [
       "<span style=\"color: black; font-weight: regular;\">That</span> <span style=\"color: black; font-weight: regular;\">speculation</span> <span style=\"color: black; font-weight: regular;\">abounded</span> <span style=\"color: black; font-weight: regular;\">Friday</span> <span style=\"color: black; font-weight: regular;\">as</span> <span style=\"color: black; font-weight: regular;\">industry</span> <span style=\"color: black; font-weight: regular;\">executives</span> <span style=\"color: black; font-weight: regular;\">analyzed</span> <span style=\"color: black; font-weight: regular;\">the</span> <span style=\"color: black; font-weight: regular;\">appointment</span> <span style=\"color: black; font-weight: regular;\">of</span> <span style=\"color: black; font-weight: regular;\">the</span> <span style=\"color: black; font-weight: regular;\">new</span> <span style=\"color: black; font-weight: regular;\">chief</span> <span style=\"color: black; font-weight: regular;\">executive</span> <span style=\"color: black; font-weight: regular;\">,</span> <span style=\"color: black; font-weight: regular;\">Robert</span> <span style=\"color: black; font-weight: regular;\">Louis</span> <span style=\"color: black; font-weight: regular;\">-</span> <span style=\"color: black; font-weight: regular;\">Dreyfus</span> <span style=\"color: black; font-weight: regular;\">,</span> <span style=\"color: black; font-weight: regular;\">who</span> <span style=\"color: black; font-weight: regular;\">joins</span> <span style=\"color: black; font-weight: regular;\">Saatchi</span> <span style=\"color: black; font-weight: regular;\">and</span> <span style=\"color: black; font-weight: regular;\">becomes</span> <span style=\"color: black; font-weight: regular;\">a</span> <span style=\"color: black; font-weight: regular;\">member</span> <span style=\"color: black; font-weight: regular;\">of</span> <span style=\"color: black; font-weight: regular;\">its</span> <span style=\"color: black; font-weight: regular;\">board</span> <span style=\"color: black; font-weight: regular;\">on</span> <span style=\"color: black; font-weight: regular;\">Jan.</span> <span style=\"color: black; font-weight: regular;\">1</span> <span style=\"color: black; font-weight: regular;\">.</span> <span style=\"color: black; font-weight: regular;\">Mr.</span> <span style=\"color: black; font-weight: regular;\">Louis</span> <span style=\"color: black; font-weight: regular;\">-</span> <span style=\"color: black; font-weight: regular;\">Dreyfus</span> <span style=\"color: black; font-weight: regular;\">,</span> <span style=\"color: black; font-weight: regular;\">formerly</span> <span style=\"color: black; font-weight: regular;\">chief</span> <span style=\"color: black; font-weight: regular;\">executive</span> <span style=\"color: black; font-weight: regular;\">of</span> <span style=\"color: black; font-weight: regular;\">the</span> <span style=\"color: black; font-weight: regular;\">pharmaceutical</span> <span style=\"color: black; font-weight: regular;\">research</span> <span style=\"color: black; font-weight: regular;\">firm</span> <span style=\"color: black; font-weight: regular;\">IMS</span> <span style=\"color: black; font-weight: regular;\">International</span> <span style=\"color: black; font-weight: regular;\">Inc.</span> <span style=\"color: black; font-weight: regular;\">,</span> <span style=\"color: black; font-weight: regular;\">has</span> <span style=\"color: black; font-weight: regular;\">a</span> <span style=\"color: black; font-weight: regular;\">reputation</span> <span style=\"color: black; font-weight: regular;\">as</span> <span style=\"color: black; font-weight: regular;\">a</span> <span style=\"color: black; font-weight: regular;\">savvy</span> <span style=\"color: black; font-weight: regular;\">financial</span> <span style=\"color: black; font-weight: regular;\">manager</span> <span style=\"color: black; font-weight: regular;\">,</span> <span style=\"color: black; font-weight: regular;\">and</span> <span style=\"color: black; font-weight: regular;\">will</span> <span style=\"color: black; font-weight: regular;\">be</span> <span style=\"color: black; font-weight: regular;\">charged</span> <span style=\"color: black; font-weight: regular;\">largely</span> <span style=\"color: black; font-weight: regular;\">with</span> <span style=\"color: black; font-weight: regular;\">repairing</span> <span style=\"color: black; font-weight: regular;\">Saatchi</span> <span style=\"color: black; font-weight: regular;\">'s</span> <span style=\"color: black; font-weight: regular;\">poor</span> <span style=\"color: black; font-weight: regular;\">financial</span> <span style=\"color: black; font-weight: regular;\">state</span> <span style=\"color: black; font-weight: regular;\">.</span>"
      ],
      "text/plain": [
       "<IPython.core.display.HTML object>"
      ]
     },
     "metadata": {},
     "output_type": "display_data"
    },
    {
     "data": {
      "text/html": [
       "<span style=\"color: black; font-weight: regular;\">Mr.</span> <span style=\"color: black; font-weight: regular;\">Louis</span> <span style=\"color: black; font-weight: regular;\">-</span> <span style=\"color: black; font-weight: regular;\">Dreyfus</span> <span style=\"color: black; font-weight: regular;\">,</span> <span style=\"color: black; font-weight: regular;\">formerly</span> <span style=\"color: black; font-weight: regular;\">chief</span> <span style=\"color: black; font-weight: regular;\">executive</span> <span style=\"color: black; font-weight: regular;\">of</span> <span style=\"color: black; font-weight: regular;\">the</span> <span style=\"color: black; font-weight: regular;\">pharmaceutical</span> <span style=\"color: black; font-weight: regular;\">research</span> <span style=\"color: black; font-weight: regular;\">firm</span> <span style=\"color: black; font-weight: regular;\">IMS</span> <span style=\"color: black; font-weight: regular;\">International</span> <span style=\"color: black; font-weight: regular;\">Inc.</span> <span style=\"color: black; font-weight: regular;\">,</span> <span style=\"color: black; font-weight: regular;\">has</span> <span style=\"color: black; font-weight: regular;\">a</span> <span style=\"color: black; font-weight: regular;\">reputation</span> <span style=\"color: black; font-weight: regular;\">as</span> <span style=\"color: black; font-weight: regular;\">a</span> <span style=\"color: black; font-weight: regular;\">savvy</span> <span style=\"color: black; font-weight: regular;\">financial</span> <span style=\"color: black; font-weight: regular;\">manager</span> <span style=\"color: black; font-weight: regular;\">,</span> <span style=\"color: black; font-weight: regular;\">and</span> <span style=\"color: black; font-weight: regular;\">will</span> <span style=\"color: black; font-weight: regular;\">be</span> <span style=\"color: black; font-weight: regular;\">charged</span> <span style=\"color: black; font-weight: regular;\">largely</span> <span style=\"color: black; font-weight: regular;\">with</span> <span style=\"color: black; font-weight: regular;\">repairing</span> <span style=\"color: black; font-weight: regular;\">Saatchi</span> <span style=\"color: black; font-weight: regular;\">'s</span> <span style=\"color: black; font-weight: regular;\">poor</span> <span style=\"color: black; font-weight: regular;\">financial</span> <span style=\"color: black; font-weight: regular;\">state</span> <span style=\"color: black; font-weight: regular;\">.</span> <span style=\"color: black; font-weight: regular;\">That</span> <span style=\"color: black; font-weight: regular;\">speculation</span> <span style=\"color: black; font-weight: regular;\">abounded</span> <span style=\"color: black; font-weight: regular;\">Friday</span> <span style=\"color: black; font-weight: regular;\">as</span> <span style=\"color: black; font-weight: regular;\">industry</span> <span style=\"color: black; font-weight: regular;\">executives</span> <span style=\"color: black; font-weight: regular;\">analyzed</span> <span style=\"color: black; font-weight: regular;\">the</span> <span style=\"color: black; font-weight: regular;\">appointment</span> <span style=\"color: black; font-weight: regular;\">of</span> <span style=\"color: black; font-weight: regular;\">the</span> <span style=\"color: black; font-weight: regular;\">new</span> <span style=\"color: black; font-weight: regular;\">chief</span> <span style=\"color: black; font-weight: regular;\">executive</span> <span style=\"color: black; font-weight: regular;\">,</span> <span style=\"color: black; font-weight: regular;\">Robert</span> <span style=\"color: black; font-weight: regular;\">Louis</span> <span style=\"color: black; font-weight: regular;\">-</span> <span style=\"color: black; font-weight: regular;\">Dreyfus</span> <span style=\"color: black; font-weight: regular;\">,</span> <span style=\"color: black; font-weight: regular;\">who</span> <span style=\"color: black; font-weight: regular;\">joins</span> <span style=\"color: black; font-weight: regular;\">Saatchi</span> <span style=\"color: black; font-weight: regular;\">and</span> <span style=\"color: black; font-weight: regular;\">becomes</span> <span style=\"color: black; font-weight: regular;\">a</span> <span style=\"color: black; font-weight: regular;\">member</span> <span style=\"color: black; font-weight: regular;\">of</span> <span style=\"color: black; font-weight: regular;\">its</span> <span style=\"color: black; font-weight: regular;\">board</span> <span style=\"color: black; font-weight: regular;\">on</span> <span style=\"color: black; font-weight: regular;\">Jan.</span> <span style=\"color: black; font-weight: regular;\">1</span> <span style=\"color: black; font-weight: regular;\">.</span>"
      ],
      "text/plain": [
       "<IPython.core.display.HTML object>"
      ]
     },
     "metadata": {},
     "output_type": "display_data"
    },
    {
     "name": "stdout",
     "output_type": "stream",
     "text": [
      "---\n"
     ]
    },
    {
     "data": {
      "text/html": [
       "<span style=\"color: blue; font-weight: bold;\">He</span> <span style=\"color: black; font-weight: regular;\">said</span> <span style=\"color: blue; font-weight: bold;\">he</span> <span style=\"color: black; font-weight: regular;\">believes</span> <span style=\"color: green; font-weight: bold;\">GM</span> <span style=\"color: black; font-weight: regular;\">has</span> <span style=\"color: black; font-weight: regular;\">plans</span> <span style=\"color: black; font-weight: regular;\">to</span> <span style=\"color: black; font-weight: regular;\">keep</span> <span style=\"color: black; font-weight: regular;\">building</span> <span style=\"color: black; font-weight: regular;\">A</span> <span style=\"color: black; font-weight: regular;\">-</span> <span style=\"color: black; font-weight: regular;\">body</span> <span style=\"color: black; font-weight: regular;\">cars</span> <span style=\"color: black; font-weight: regular;\">into</span> <span style=\"color: black; font-weight: regular;\">the</span> <span style=\"color: black; font-weight: regular;\">mid-1990s</span> <span style=\"color: black; font-weight: regular;\">.</span> <span style=\"color: black; font-weight: regular;\">At</span> <span style=\"color: red; font-weight: bold;\">Pontiac</span> <span style=\"color: black; font-weight: regular;\">,</span> <span style=\"color: black; font-weight: regular;\">however</span> <span style=\"color: black; font-weight: regular;\">,</span> <span style=\"color: black; font-weight: regular;\">the</span> <span style=\"color: black; font-weight: regular;\">Camaro</span> <span style=\"color: black; font-weight: regular;\">-</span> <span style=\"color: black; font-weight: regular;\">Firebird</span> <span style=\"color: black; font-weight: regular;\">decision</span> <span style=\"color: black; font-weight: regular;\">appears</span> <span style=\"color: black; font-weight: regular;\">to</span> <span style=\"color: black; font-weight: regular;\">erase</span> <span style=\"color: black; font-weight: regular;\">UAW</span> <span style=\"color: black; font-weight: regular;\">hopes</span> <span style=\"color: black; font-weight: regular;\">that</span> <span style=\"color: green; font-weight: bold;\">GM</span> <span style=\"color: black; font-weight: regular;\">would</span> <span style=\"color: black; font-weight: regular;\">reopen</span> <span style=\"color: black; font-weight: regular;\">the</span> <span style=\"color: black; font-weight: regular;\">shuttered</span> <span style=\"color: black; font-weight: regular;\">assembly</span> <span style=\"color: black; font-weight: regular;\">plant</span> <span style=\"color: black; font-weight: regular;\">that</span> <span style=\"color: black; font-weight: regular;\">last</span> <span style=\"color: black; font-weight: regular;\">built</span> <span style=\"color: black; font-weight: regular;\">the</span> <span style=\"color: black; font-weight: regular;\">plastic</span> <span style=\"color: black; font-weight: regular;\">-</span> <span style=\"color: black; font-weight: regular;\">bodied</span> <span style=\"color: black; font-weight: regular;\">,</span> <span style=\"color: black; font-weight: regular;\">two</span> <span style=\"color: black; font-weight: regular;\">-</span> <span style=\"color: black; font-weight: regular;\">seater</span> <span style=\"color: red; font-weight: bold;\">Pontiac</span> <span style=\"color: black; font-weight: regular;\">Fiero</span> <span style=\"color: black; font-weight: regular;\">model</span> <span style=\"color: black; font-weight: regular;\">.</span>"
      ],
      "text/plain": [
       "<IPython.core.display.HTML object>"
      ]
     },
     "metadata": {},
     "output_type": "display_data"
    },
    {
     "data": {
      "text/html": [
       "<span style=\"color: black; font-weight: regular;\">At</span> <span style=\"color: blue; font-weight: bold;\">Pontiac</span> <span style=\"color: black; font-weight: regular;\">,</span> <span style=\"color: black; font-weight: regular;\">however</span> <span style=\"color: black; font-weight: regular;\">,</span> <span style=\"color: black; font-weight: regular;\">the</span> <span style=\"color: black; font-weight: regular;\">Camaro</span> <span style=\"color: black; font-weight: regular;\">-</span> <span style=\"color: black; font-weight: regular;\">Firebird</span> <span style=\"color: black; font-weight: regular;\">decision</span> <span style=\"color: black; font-weight: regular;\">appears</span> <span style=\"color: black; font-weight: regular;\">to</span> <span style=\"color: black; font-weight: regular;\">erase</span> <span style=\"color: green; font-weight: bold;\">UAW</span> <span style=\"color: black; font-weight: regular;\">hopes</span> <span style=\"color: black; font-weight: regular;\">that</span> <span style=\"color: red; font-weight: bold;\">GM</span> <span style=\"color: black; font-weight: regular;\">would</span> <span style=\"color: black; font-weight: regular;\">reopen</span> <span style=\"color: black; font-weight: regular;\">the</span> <span style=\"color: black; font-weight: regular;\">shuttered</span> <span style=\"color: black; font-weight: regular;\">assembly</span> <span style=\"color: black; font-weight: regular;\">plant</span> <span style=\"color: black; font-weight: regular;\">that</span> <span style=\"color: black; font-weight: regular;\">last</span> <span style=\"color: black; font-weight: regular;\">built</span> <span style=\"color: black; font-weight: regular;\">the</span> <span style=\"color: black; font-weight: regular;\">plastic</span> <span style=\"color: black; font-weight: regular;\">-</span> <span style=\"color: black; font-weight: regular;\">bodied</span> <span style=\"color: black; font-weight: regular;\">,</span> <span style=\"color: black; font-weight: regular;\">two</span> <span style=\"color: black; font-weight: regular;\">-</span> <span style=\"color: black; font-weight: regular;\">seater</span> <span style=\"color: blue; font-weight: bold;\">Pontiac</span> <span style=\"color: black; font-weight: regular;\">Fiero</span> <span style=\"color: black; font-weight: regular;\">model</span> <span style=\"color: black; font-weight: regular;\">.</span> <span style=\"color: green; font-weight: bold;\">He</span> <span style=\"color: black; font-weight: regular;\">said</span> <span style=\"color: green; font-weight: bold;\">he</span> <span style=\"color: black; font-weight: regular;\">believes</span> <span style=\"color: red; font-weight: bold;\">GM</span> <span style=\"color: black; font-weight: regular;\">has</span> <span style=\"color: black; font-weight: regular;\">plans</span> <span style=\"color: black; font-weight: regular;\">to</span> <span style=\"color: black; font-weight: regular;\">keep</span> <span style=\"color: black; font-weight: regular;\">building</span> <span style=\"color: black; font-weight: regular;\">A</span> <span style=\"color: black; font-weight: regular;\">-</span> <span style=\"color: black; font-weight: regular;\">body</span> <span style=\"color: black; font-weight: regular;\">cars</span> <span style=\"color: black; font-weight: regular;\">into</span> <span style=\"color: black; font-weight: regular;\">the</span> <span style=\"color: black; font-weight: regular;\">mid-1990s</span> <span style=\"color: black; font-weight: regular;\">.</span>"
      ],
      "text/plain": [
       "<IPython.core.display.HTML object>"
      ]
     },
     "metadata": {},
     "output_type": "display_data"
    },
    {
     "name": "stdout",
     "output_type": "stream",
     "text": [
      "---\n"
     ]
    },
    {
     "data": {
      "text/html": [
       "<span style=\"color: black; font-weight: regular;\">yeah</span> <span style=\"color: black; font-weight: regular;\">.</span> <span style=\"color: black; font-weight: regular;\">But</span> <span style=\"color: black; font-weight: regular;\">at</span> <span style=\"color: black; font-weight: regular;\">any</span> <span style=\"color: black; font-weight: regular;\">rate</span> <span style=\"color: black; font-weight: regular;\">it</span> <span style=\"color: black; font-weight: regular;\">was</span> <span style=\"color: black; font-weight: regular;\">nice</span> <span style=\"color: black; font-weight: regular;\">to</span> <span style=\"color: black; font-weight: regular;\">hear</span> <span style=\"color: black; font-weight: regular;\">from</span> <span style=\"color: blue; font-weight: bold;\">her</span> <span style=\"color: black; font-weight: regular;\">because</span> <span style=\"color: blue; font-weight: bold;\">she</span> <span style=\"color: black; font-weight: regular;\">said</span> <span style=\"color: black; font-weight: regular;\">after</span> <span style=\"color: black; font-weight: regular;\">two</span> <span style=\"color: black; font-weight: regular;\">years</span> <span style=\"color: black; font-weight: regular;\">there</span> <span style=\"color: black; font-weight: regular;\">now</span> <span style=\"color: black; font-weight: regular;\">,</span> <span style=\"color: blue; font-weight: bold;\">she</span> <span style=\"color: black; font-weight: regular;\">%</span> <span style=\"color: black; font-weight: regular;\">um</span> <span style=\"color: black; font-weight: regular;\">has</span> <span style=\"color: black; font-weight: regular;\">come</span> <span style=\"color: black; font-weight: regular;\">to</span> <span style=\"color: black; font-weight: regular;\">terms</span> <span style=\"color: black; font-weight: regular;\">with</span> <span style=\"color: black; font-weight: regular;\">this</span> <span style=\"color: black; font-weight: regular;\">,</span>"
      ],
      "text/plain": [
       "<IPython.core.display.HTML object>"
      ]
     },
     "metadata": {},
     "output_type": "display_data"
    },
    {
     "data": {
      "text/html": [
       "<span style=\"color: black; font-weight: regular;\">But</span> <span style=\"color: black; font-weight: regular;\">at</span> <span style=\"color: black; font-weight: regular;\">any</span> <span style=\"color: black; font-weight: regular;\">rate</span> <span style=\"color: black; font-weight: regular;\">it</span> <span style=\"color: black; font-weight: regular;\">was</span> <span style=\"color: black; font-weight: regular;\">nice</span> <span style=\"color: black; font-weight: regular;\">to</span> <span style=\"color: black; font-weight: regular;\">hear</span> <span style=\"color: black; font-weight: regular;\">from</span> <span style=\"color: blue; font-weight: bold;\">her</span> <span style=\"color: black; font-weight: regular;\">because</span> <span style=\"color: blue; font-weight: bold;\">she</span> <span style=\"color: black; font-weight: regular;\">said</span> <span style=\"color: black; font-weight: regular;\">after</span> <span style=\"color: black; font-weight: regular;\">two</span> <span style=\"color: black; font-weight: regular;\">years</span> <span style=\"color: black; font-weight: regular;\">there</span> <span style=\"color: black; font-weight: regular;\">now</span> <span style=\"color: black; font-weight: regular;\">,</span> <span style=\"color: blue; font-weight: bold;\">she</span> <span style=\"color: black; font-weight: regular;\">%</span> <span style=\"color: black; font-weight: regular;\">um</span> <span style=\"color: black; font-weight: regular;\">has</span> <span style=\"color: black; font-weight: regular;\">come</span> <span style=\"color: black; font-weight: regular;\">to</span> <span style=\"color: black; font-weight: regular;\">terms</span> <span style=\"color: black; font-weight: regular;\">with</span> <span style=\"color: black; font-weight: regular;\">this</span> <span style=\"color: black; font-weight: regular;\">,</span> <span style=\"color: black; font-weight: regular;\">yeah</span> <span style=\"color: black; font-weight: regular;\">.</span>"
      ],
      "text/plain": [
       "<IPython.core.display.HTML object>"
      ]
     },
     "metadata": {},
     "output_type": "display_data"
    },
    {
     "name": "stdout",
     "output_type": "stream",
     "text": [
      "---\n"
     ]
    },
    {
     "data": {
      "text/html": [
       "<span style=\"color: black; font-weight: regular;\">8</span> <span style=\"color: black; font-weight: regular;\">13/16</span> <span style=\"color: black; font-weight: regular;\">%</span> <span style=\"color: black; font-weight: regular;\">high</span> <span style=\"color: black; font-weight: regular;\">,</span> <span style=\"color: black; font-weight: regular;\">8</span> <span style=\"color: black; font-weight: regular;\">1/2</span> <span style=\"color: black; font-weight: regular;\">%</span> <span style=\"color: black; font-weight: regular;\">low</span> <span style=\"color: black; font-weight: regular;\">,</span> <span style=\"color: black; font-weight: regular;\">8</span> <span style=\"color: black; font-weight: regular;\">5/8</span> <span style=\"color: black; font-weight: regular;\">%</span> <span style=\"color: black; font-weight: regular;\">near</span> <span style=\"color: black; font-weight: regular;\">closing</span> <span style=\"color: black; font-weight: regular;\">bid</span> <span style=\"color: black; font-weight: regular;\">,</span> <span style=\"color: black; font-weight: regular;\">8</span> <span style=\"color: black; font-weight: regular;\">3/4</span> <span style=\"color: black; font-weight: regular;\">%</span> <span style=\"color: black; font-weight: regular;\">offered</span> <span style=\"color: black; font-weight: regular;\">.</span> <span style=\"color: black; font-weight: regular;\">Reserves</span> <span style=\"color: black; font-weight: regular;\">traded</span> <span style=\"color: black; font-weight: regular;\">among</span> <span style=\"color: black; font-weight: regular;\">commercial</span> <span style=\"color: black; font-weight: regular;\">banks</span> <span style=\"color: black; font-weight: regular;\">for</span> <span style=\"color: black; font-weight: regular;\">overnight</span> <span style=\"color: black; font-weight: regular;\">use</span> <span style=\"color: black; font-weight: regular;\">in</span> <span style=\"color: black; font-weight: regular;\">amounts</span> <span style=\"color: black; font-weight: regular;\">of</span> <span style=\"color: black; font-weight: regular;\">$</span> <span style=\"color: black; font-weight: regular;\">1</span> <span style=\"color: black; font-weight: regular;\">million</span> <span style=\"color: black; font-weight: regular;\">or</span> <span style=\"color: black; font-weight: regular;\">more</span> <span style=\"color: black; font-weight: regular;\">.</span>"
      ],
      "text/plain": [
       "<IPython.core.display.HTML object>"
      ]
     },
     "metadata": {},
     "output_type": "display_data"
    },
    {
     "data": {
      "text/html": [
       "<span style=\"color: black; font-weight: regular;\">Reserves</span> <span style=\"color: black; font-weight: regular;\">traded</span> <span style=\"color: black; font-weight: regular;\">among</span> <span style=\"color: black; font-weight: regular;\">commercial</span> <span style=\"color: black; font-weight: regular;\">banks</span> <span style=\"color: black; font-weight: regular;\">for</span> <span style=\"color: black; font-weight: regular;\">overnight</span> <span style=\"color: black; font-weight: regular;\">use</span> <span style=\"color: black; font-weight: regular;\">in</span> <span style=\"color: black; font-weight: regular;\">amounts</span> <span style=\"color: black; font-weight: regular;\">of</span> <span style=\"color: black; font-weight: regular;\">$</span> <span style=\"color: black; font-weight: regular;\">1</span> <span style=\"color: black; font-weight: regular;\">million</span> <span style=\"color: black; font-weight: regular;\">or</span> <span style=\"color: black; font-weight: regular;\">more</span> <span style=\"color: black; font-weight: regular;\">.</span> <span style=\"color: black; font-weight: regular;\">8</span> <span style=\"color: black; font-weight: regular;\">13/16</span> <span style=\"color: black; font-weight: regular;\">%</span> <span style=\"color: black; font-weight: regular;\">high</span> <span style=\"color: black; font-weight: regular;\">,</span> <span style=\"color: black; font-weight: regular;\">8</span> <span style=\"color: black; font-weight: regular;\">1/2</span> <span style=\"color: black; font-weight: regular;\">%</span> <span style=\"color: black; font-weight: regular;\">low</span> <span style=\"color: black; font-weight: regular;\">,</span> <span style=\"color: black; font-weight: regular;\">8</span> <span style=\"color: black; font-weight: regular;\">5/8</span> <span style=\"color: black; font-weight: regular;\">%</span> <span style=\"color: black; font-weight: regular;\">near</span> <span style=\"color: black; font-weight: regular;\">closing</span> <span style=\"color: black; font-weight: regular;\">bid</span> <span style=\"color: black; font-weight: regular;\">,</span> <span style=\"color: black; font-weight: regular;\">8</span> <span style=\"color: black; font-weight: regular;\">3/4</span> <span style=\"color: black; font-weight: regular;\">%</span> <span style=\"color: black; font-weight: regular;\">offered</span> <span style=\"color: black; font-weight: regular;\">.</span>"
      ],
      "text/plain": [
       "<IPython.core.display.HTML object>"
      ]
     },
     "metadata": {},
     "output_type": "display_data"
    },
    {
     "name": "stdout",
     "output_type": "stream",
     "text": [
      "---\n"
     ]
    },
    {
     "data": {
      "text/html": [
       "<span style=\"color: black; font-weight: regular;\">That</span> <span style=\"color: black; font-weight: regular;\">experience</span> <span style=\"color: black; font-weight: regular;\">should</span> <span style=\"color: black; font-weight: regular;\">continue</span> <span style=\"color: black; font-weight: regular;\">to</span> <span style=\"color: black; font-weight: regular;\">inspire</span> <span style=\"color: black; font-weight: regular;\">us</span> <span style=\"color: black; font-weight: regular;\">,</span> <span style=\"color: black; font-weight: regular;\">as</span> <span style=\"color: black; font-weight: regular;\">we</span> <span style=\"color: black; font-weight: regular;\">seek</span> <span style=\"color: black; font-weight: regular;\">to</span> <span style=\"color: black; font-weight: regular;\">build</span> <span style=\"color: black; font-weight: regular;\">a</span> <span style=\"color: black; font-weight: regular;\">more</span> <span style=\"color: black; font-weight: regular;\">peaceful</span> <span style=\"color: black; font-weight: regular;\">and</span> <span style=\"color: black; font-weight: regular;\">secure</span> <span style=\"color: black; font-weight: regular;\">world</span> <span style=\"color: black; font-weight: regular;\">.</span> <span style=\"color: black; font-weight: regular;\">When</span> <span style=\"color: blue; font-weight: bold;\">I</span> <span style=\"color: black; font-weight: regular;\">visited</span> <span style=\"color: black; font-weight: regular;\">your</span> <span style=\"color: black; font-weight: regular;\">country</span> <span style=\"color: black; font-weight: regular;\">in</span> <span style=\"color: black; font-weight: regular;\">1994</span> <span style=\"color: black; font-weight: regular;\">,</span> <span style=\"color: blue; font-weight: bold;\">I</span> <span style=\"color: black; font-weight: regular;\">recall</span> <span style=\"color: black; font-weight: regular;\">saying</span> <span style=\"color: black; font-weight: regular;\">to</span> <span style=\"color: green; font-weight: bold;\">President</span> <span style=\"color: green; font-weight: bold;\">Yeltsin</span> <span style=\"color: black; font-weight: regular;\">that</span> <span style=\"color: green; font-weight: bold;\">he</span> <span style=\"color: black; font-weight: regular;\">and</span> <span style=\"color: blue; font-weight: bold;\">I</span> <span style=\"color: black; font-weight: regular;\">spent</span> <span style=\"color: black; font-weight: regular;\">most</span> <span style=\"color: black; font-weight: regular;\">of</span> <span style=\"color: black; font-weight: regular;\">our</span> <span style=\"color: black; font-weight: regular;\">lives</span> <span style=\"color: black; font-weight: regular;\">believing</span> <span style=\"color: black; font-weight: regular;\">such</span> <span style=\"color: black; font-weight: regular;\">a</span> <span style=\"color: black; font-weight: regular;\">visit</span> <span style=\"color: black; font-weight: regular;\">would</span> <span style=\"color: black; font-weight: regular;\">never</span> <span style=\"color: black; font-weight: regular;\">happen</span> <span style=\"color: black; font-weight: regular;\">,</span> <span style=\"color: black; font-weight: regular;\">and</span> <span style=\"color: black; font-weight: regular;\">that</span> <span style=\"color: blue; font-weight: bold;\">I</span> <span style=\"color: black; font-weight: regular;\">hoped</span> <span style=\"color: green; font-weight: bold;\">he</span> <span style=\"color: black; font-weight: regular;\">was</span> <span style=\"color: black; font-weight: regular;\">as</span> <span style=\"color: black; font-weight: regular;\">delighted</span> <span style=\"color: black; font-weight: regular;\">as</span> <span style=\"color: blue; font-weight: bold;\">I</span> <span style=\"color: black; font-weight: regular;\">was</span> <span style=\"color: black; font-weight: regular;\">to</span> <span style=\"color: black; font-weight: regular;\">be</span> <span style=\"color: black; font-weight: regular;\">proved</span> <span style=\"color: black; font-weight: regular;\">wrong</span> <span style=\"color: black; font-weight: regular;\">.</span>"
      ],
      "text/plain": [
       "<IPython.core.display.HTML object>"
      ]
     },
     "metadata": {},
     "output_type": "display_data"
    },
    {
     "data": {
      "text/html": [
       "<span style=\"color: black; font-weight: regular;\">When</span> <span style=\"color: blue; font-weight: bold;\">I</span> <span style=\"color: black; font-weight: regular;\">visited</span> <span style=\"color: black; font-weight: regular;\">your</span> <span style=\"color: black; font-weight: regular;\">country</span> <span style=\"color: black; font-weight: regular;\">in</span> <span style=\"color: black; font-weight: regular;\">1994</span> <span style=\"color: black; font-weight: regular;\">,</span> <span style=\"color: blue; font-weight: bold;\">I</span> <span style=\"color: black; font-weight: regular;\">recall</span> <span style=\"color: black; font-weight: regular;\">saying</span> <span style=\"color: black; font-weight: regular;\">to</span> <span style=\"color: green; font-weight: bold;\">President</span> <span style=\"color: green; font-weight: bold;\">Yeltsin</span> <span style=\"color: black; font-weight: regular;\">that</span> <span style=\"color: green; font-weight: bold;\">he</span> <span style=\"color: black; font-weight: regular;\">and</span> <span style=\"color: blue; font-weight: bold;\">I</span> <span style=\"color: black; font-weight: regular;\">spent</span> <span style=\"color: black; font-weight: regular;\">most</span> <span style=\"color: black; font-weight: regular;\">of</span> <span style=\"color: black; font-weight: regular;\">our</span> <span style=\"color: black; font-weight: regular;\">lives</span> <span style=\"color: black; font-weight: regular;\">believing</span> <span style=\"color: black; font-weight: regular;\">such</span> <span style=\"color: black; font-weight: regular;\">a</span> <span style=\"color: black; font-weight: regular;\">visit</span> <span style=\"color: black; font-weight: regular;\">would</span> <span style=\"color: black; font-weight: regular;\">never</span> <span style=\"color: black; font-weight: regular;\">happen</span> <span style=\"color: black; font-weight: regular;\">,</span> <span style=\"color: black; font-weight: regular;\">and</span> <span style=\"color: black; font-weight: regular;\">that</span> <span style=\"color: blue; font-weight: bold;\">I</span> <span style=\"color: black; font-weight: regular;\">hoped</span> <span style=\"color: green; font-weight: bold;\">he</span> <span style=\"color: black; font-weight: regular;\">was</span> <span style=\"color: black; font-weight: regular;\">as</span> <span style=\"color: black; font-weight: regular;\">delighted</span> <span style=\"color: black; font-weight: regular;\">as</span> <span style=\"color: blue; font-weight: bold;\">I</span> <span style=\"color: black; font-weight: regular;\">was</span> <span style=\"color: black; font-weight: regular;\">to</span> <span style=\"color: black; font-weight: regular;\">be</span> <span style=\"color: black; font-weight: regular;\">proved</span> <span style=\"color: black; font-weight: regular;\">wrong</span> <span style=\"color: black; font-weight: regular;\">.</span> <span style=\"color: black; font-weight: regular;\">That</span> <span style=\"color: black; font-weight: regular;\">experience</span> <span style=\"color: black; font-weight: regular;\">should</span> <span style=\"color: black; font-weight: regular;\">continue</span> <span style=\"color: black; font-weight: regular;\">to</span> <span style=\"color: black; font-weight: regular;\">inspire</span> <span style=\"color: black; font-weight: regular;\">us</span> <span style=\"color: black; font-weight: regular;\">,</span> <span style=\"color: black; font-weight: regular;\">as</span> <span style=\"color: black; font-weight: regular;\">we</span> <span style=\"color: black; font-weight: regular;\">seek</span> <span style=\"color: black; font-weight: regular;\">to</span> <span style=\"color: black; font-weight: regular;\">build</span> <span style=\"color: black; font-weight: regular;\">a</span> <span style=\"color: black; font-weight: regular;\">more</span> <span style=\"color: black; font-weight: regular;\">peaceful</span> <span style=\"color: black; font-weight: regular;\">and</span> <span style=\"color: black; font-weight: regular;\">secure</span> <span style=\"color: black; font-weight: regular;\">world</span> <span style=\"color: black; font-weight: regular;\">.</span>"
      ],
      "text/plain": [
       "<IPython.core.display.HTML object>"
      ]
     },
     "metadata": {},
     "output_type": "display_data"
    },
    {
     "name": "stdout",
     "output_type": "stream",
     "text": [
      "---\n"
     ]
    },
    {
     "data": {
      "text/html": [
       "<span style=\"color: black; font-weight: regular;\">Still</span> <span style=\"color: black; font-weight: regular;\">out</span> <span style=\"color: black; font-weight: regular;\">on</span> <span style=\"color: black; font-weight: regular;\">the</span> <span style=\"color: black; font-weight: regular;\">journalistic</span> <span style=\"color: black; font-weight: regular;\">front</span> <span style=\"color: black; font-weight: regular;\">lines</span> <span style=\"color: black; font-weight: regular;\">at</span> <span style=\"color: black; font-weight: regular;\">81</span> <span style=\"color: black; font-weight: regular;\">,</span> <span style=\"color: blue; font-weight: bold;\">this</span> <span style=\"color: blue; font-weight: bold;\">spry</span> <span style=\"color: blue; font-weight: bold;\">,</span> <span style=\"color: blue; font-weight: bold;\">forthright</span> <span style=\"color: blue; font-weight: bold;\">veteran</span> <span style=\"color: black; font-weight: regular;\">has</span> <span style=\"color: black; font-weight: regular;\">an</span> <span style=\"color: black; font-weight: regular;\">immense</span> <span style=\"color: black; font-weight: regular;\">zest</span> <span style=\"color: black; font-weight: regular;\">for</span> <span style=\"color: black; font-weight: regular;\">life</span> <span style=\"color: black; font-weight: regular;\">.</span> <span style=\"color: black; font-weight: regular;\">At</span> <span style=\"color: black; font-weight: regular;\">78</span> <span style=\"color: black; font-weight: regular;\">,</span> <span style=\"color: black; font-weight: regular;\">drawing</span> <span style=\"color: black; font-weight: regular;\">on</span> <span style=\"color: blue; font-weight: bold;\">his</span> <span style=\"color: black; font-weight: regular;\">astonishingly</span> <span style=\"color: black; font-weight: regular;\">sharp</span> <span style=\"color: black; font-weight: regular;\">memory</span> <span style=\"color: black; font-weight: regular;\">,</span> <span style=\"color: blue; font-weight: bold;\">he</span> <span style=\"color: black; font-weight: regular;\">completed</span> <span style=\"color: blue; font-weight: bold;\">his</span> <span style=\"color: black; font-weight: regular;\">reminiscences</span> <span style=\"color: black; font-weight: regular;\">and</span> <span style=\"color: black; font-weight: regular;\">``</span> <span style=\"color: black; font-weight: regular;\">record</span> <span style=\"color: black; font-weight: regular;\">of</span> <span style=\"color: black; font-weight: regular;\">emotional</span> <span style=\"color: black; font-weight: regular;\">regrets</span> <span style=\"color: black; font-weight: regular;\">.</span> <span style=\"color: black; font-weight: regular;\">``</span>"
      ],
      "text/plain": [
       "<IPython.core.display.HTML object>"
      ]
     },
     "metadata": {},
     "output_type": "display_data"
    },
    {
     "data": {
      "text/html": [
       "<span style=\"color: black; font-weight: regular;\">At</span> <span style=\"color: black; font-weight: regular;\">78</span> <span style=\"color: black; font-weight: regular;\">,</span> <span style=\"color: black; font-weight: regular;\">drawing</span> <span style=\"color: black; font-weight: regular;\">on</span> <span style=\"color: blue; font-weight: bold;\">his</span> <span style=\"color: black; font-weight: regular;\">astonishingly</span> <span style=\"color: black; font-weight: regular;\">sharp</span> <span style=\"color: black; font-weight: regular;\">memory</span> <span style=\"color: black; font-weight: regular;\">,</span> <span style=\"color: blue; font-weight: bold;\">he</span> <span style=\"color: black; font-weight: regular;\">completed</span> <span style=\"color: blue; font-weight: bold;\">his</span> <span style=\"color: black; font-weight: regular;\">reminiscences</span> <span style=\"color: black; font-weight: regular;\">and</span> <span style=\"color: black; font-weight: regular;\">``</span> <span style=\"color: black; font-weight: regular;\">record</span> <span style=\"color: black; font-weight: regular;\">of</span> <span style=\"color: black; font-weight: regular;\">emotional</span> <span style=\"color: black; font-weight: regular;\">regrets</span> <span style=\"color: black; font-weight: regular;\">.</span> <span style=\"color: black; font-weight: regular;\">``</span> <span style=\"color: black; font-weight: regular;\">Still</span> <span style=\"color: black; font-weight: regular;\">out</span> <span style=\"color: black; font-weight: regular;\">on</span> <span style=\"color: black; font-weight: regular;\">the</span> <span style=\"color: black; font-weight: regular;\">journalistic</span> <span style=\"color: black; font-weight: regular;\">front</span> <span style=\"color: black; font-weight: regular;\">lines</span> <span style=\"color: black; font-weight: regular;\">at</span> <span style=\"color: black; font-weight: regular;\">81</span> <span style=\"color: black; font-weight: regular;\">,</span> <span style=\"color: blue; font-weight: bold;\">this</span> <span style=\"color: blue; font-weight: bold;\">spry</span> <span style=\"color: blue; font-weight: bold;\">,</span> <span style=\"color: blue; font-weight: bold;\">forthright</span> <span style=\"color: blue; font-weight: bold;\">veteran</span> <span style=\"color: black; font-weight: regular;\">has</span> <span style=\"color: black; font-weight: regular;\">an</span> <span style=\"color: black; font-weight: regular;\">immense</span> <span style=\"color: black; font-weight: regular;\">zest</span> <span style=\"color: black; font-weight: regular;\">for</span> <span style=\"color: black; font-weight: regular;\">life</span> <span style=\"color: black; font-weight: regular;\">.</span>"
      ],
      "text/plain": [
       "<IPython.core.display.HTML object>"
      ]
     },
     "metadata": {},
     "output_type": "display_data"
    },
    {
     "name": "stdout",
     "output_type": "stream",
     "text": [
      "---\n"
     ]
    },
    {
     "data": {
      "text/html": [
       "<span style=\"color: black; font-weight: regular;\">It</span> <span style=\"color: black; font-weight: regular;\">is</span> <span style=\"color: black; font-weight: regular;\">they</span> <span style=\"color: black; font-weight: regular;\">who</span> <span style=\"color: black; font-weight: regular;\">essentially</span> <span style=\"color: black; font-weight: regular;\">support</span> <span style=\"color: black; font-weight: regular;\">the</span> <span style=\"color: black; font-weight: regular;\">regime</span> <span style=\"color: black; font-weight: regular;\">economically</span> <span style=\"color: black; font-weight: regular;\">and</span> <span style=\"color: black; font-weight: regular;\">politically</span> <span style=\"color: black; font-weight: regular;\">/</span> <span style=\"color: black; font-weight: regular;\">.</span> <span style=\"color: black; font-weight: regular;\">But</span> <span style=\"color: black; font-weight: regular;\">makes</span> <span style=\"color: black; font-weight: regular;\">sense</span> <span style=\"color: black; font-weight: regular;\">to</span> <span style=\"color: black; font-weight: regular;\">have</span> <span style=\"color: black; font-weight: regular;\">them</span> <span style=\"color: black; font-weight: regular;\">at</span> <span style=\"color: black; font-weight: regular;\">the</span> <span style=\"color: black; font-weight: regular;\">table</span> <span style=\"color: black; font-weight: regular;\">/</span> <span style=\"color: black; font-weight: regular;\">.</span>"
      ],
      "text/plain": [
       "<IPython.core.display.HTML object>"
      ]
     },
     "metadata": {},
     "output_type": "display_data"
    },
    {
     "data": {
      "text/html": [
       "<span style=\"color: black; font-weight: regular;\">But</span> <span style=\"color: black; font-weight: regular;\">makes</span> <span style=\"color: black; font-weight: regular;\">sense</span> <span style=\"color: black; font-weight: regular;\">to</span> <span style=\"color: black; font-weight: regular;\">have</span> <span style=\"color: black; font-weight: regular;\">them</span> <span style=\"color: black; font-weight: regular;\">at</span> <span style=\"color: black; font-weight: regular;\">the</span> <span style=\"color: black; font-weight: regular;\">table</span> <span style=\"color: black; font-weight: regular;\">/</span> <span style=\"color: black; font-weight: regular;\">.</span> <span style=\"color: black; font-weight: regular;\">It</span> <span style=\"color: black; font-weight: regular;\">is</span> <span style=\"color: black; font-weight: regular;\">they</span> <span style=\"color: black; font-weight: regular;\">who</span> <span style=\"color: black; font-weight: regular;\">essentially</span> <span style=\"color: black; font-weight: regular;\">support</span> <span style=\"color: black; font-weight: regular;\">the</span> <span style=\"color: black; font-weight: regular;\">regime</span> <span style=\"color: black; font-weight: regular;\">economically</span> <span style=\"color: black; font-weight: regular;\">and</span> <span style=\"color: black; font-weight: regular;\">politically</span> <span style=\"color: black; font-weight: regular;\">/</span> <span style=\"color: black; font-weight: regular;\">.</span>"
      ],
      "text/plain": [
       "<IPython.core.display.HTML object>"
      ]
     },
     "metadata": {},
     "output_type": "display_data"
    },
    {
     "name": "stdout",
     "output_type": "stream",
     "text": [
      "---\n"
     ]
    },
    {
     "data": {
      "text/html": [
       "<span style=\"color: black; font-weight: regular;\">Also</span> <span style=\"color: black; font-weight: regular;\">,</span> <span style=\"color: blue; font-weight: bold;\">he</span> <span style=\"color: black; font-weight: regular;\">could</span> <span style=\"color: black; font-weight: regular;\">never</span> <span style=\"color: black; font-weight: regular;\">enter</span> <span style=\"color: black; font-weight: regular;\">that</span> <span style=\"color: black; font-weight: regular;\">room</span> <span style=\"color: black; font-weight: regular;\">without</span> <span style=\"color: black; font-weight: regular;\">taking</span> <span style=\"color: black; font-weight: regular;\">blood</span> <span style=\"color: black; font-weight: regular;\">with</span> <span style=\"color: blue; font-weight: bold;\">him</span> <span style=\"color: black; font-weight: regular;\">.</span> <span style=\"color: blue; font-weight: bold;\">He</span> <span style=\"color: black; font-weight: regular;\">offered</span> <span style=\"color: black; font-weight: regular;\">that</span> <span style=\"color: black; font-weight: regular;\">blood</span> <span style=\"color: black; font-weight: regular;\">to</span> <span style=\"color: black; font-weight: regular;\">God</span> <span style=\"color: black; font-weight: regular;\">for</span> <span style=\"color: blue; font-weight: bold;\">himself</span> <span style=\"color: black; font-weight: regular;\">and</span> <span style=\"color: black; font-weight: regular;\">for</span> <span style=\"color: black; font-weight: regular;\">the</span> <span style=\"color: black; font-weight: regular;\">sins</span> <span style=\"color: green; font-weight: bold;\">the</span> <span style=\"color: green; font-weight: bold;\">people</span> <span style=\"color: black; font-weight: regular;\">committed</span> <span style=\"color: black; font-weight: regular;\">without</span> <span style=\"color: black; font-weight: regular;\">knowing</span> <span style=\"color: green; font-weight: bold;\">they</span> <span style=\"color: black; font-weight: regular;\">were</span> <span style=\"color: black; font-weight: regular;\">sinning</span> <span style=\"color: black; font-weight: regular;\">.</span>"
      ],
      "text/plain": [
       "<IPython.core.display.HTML object>"
      ]
     },
     "metadata": {},
     "output_type": "display_data"
    },
    {
     "data": {
      "text/html": [
       "<span style=\"color: blue; font-weight: bold;\">He</span> <span style=\"color: black; font-weight: regular;\">offered</span> <span style=\"color: black; font-weight: regular;\">that</span> <span style=\"color: black; font-weight: regular;\">blood</span> <span style=\"color: black; font-weight: regular;\">to</span> <span style=\"color: black; font-weight: regular;\">God</span> <span style=\"color: black; font-weight: regular;\">for</span> <span style=\"color: blue; font-weight: bold;\">himself</span> <span style=\"color: black; font-weight: regular;\">and</span> <span style=\"color: black; font-weight: regular;\">for</span> <span style=\"color: black; font-weight: regular;\">the</span> <span style=\"color: black; font-weight: regular;\">sins</span> <span style=\"color: green; font-weight: bold;\">the</span> <span style=\"color: green; font-weight: bold;\">people</span> <span style=\"color: black; font-weight: regular;\">committed</span> <span style=\"color: black; font-weight: regular;\">without</span> <span style=\"color: black; font-weight: regular;\">knowing</span> <span style=\"color: green; font-weight: bold;\">they</span> <span style=\"color: black; font-weight: regular;\">were</span> <span style=\"color: black; font-weight: regular;\">sinning</span> <span style=\"color: black; font-weight: regular;\">.</span> <span style=\"color: black; font-weight: regular;\">Also</span> <span style=\"color: black; font-weight: regular;\">,</span> <span style=\"color: blue; font-weight: bold;\">he</span> <span style=\"color: black; font-weight: regular;\">could</span> <span style=\"color: black; font-weight: regular;\">never</span> <span style=\"color: black; font-weight: regular;\">enter</span> <span style=\"color: black; font-weight: regular;\">that</span> <span style=\"color: black; font-weight: regular;\">room</span> <span style=\"color: black; font-weight: regular;\">without</span> <span style=\"color: black; font-weight: regular;\">taking</span> <span style=\"color: black; font-weight: regular;\">blood</span> <span style=\"color: black; font-weight: regular;\">with</span> <span style=\"color: blue; font-weight: bold;\">him</span> <span style=\"color: black; font-weight: regular;\">.</span>"
      ],
      "text/plain": [
       "<IPython.core.display.HTML object>"
      ]
     },
     "metadata": {},
     "output_type": "display_data"
    },
    {
     "name": "stdout",
     "output_type": "stream",
     "text": [
      "---\n"
     ]
    },
    {
     "data": {
      "text/html": [
       "<span style=\"color: black; font-weight: regular;\">yeah</span> <span style=\"color: black; font-weight: regular;\">and</span> <span style=\"color: black; font-weight: regular;\">the-</span> <span style=\"color: black; font-weight: regular;\">,</span>"
      ],
      "text/plain": [
       "<IPython.core.display.HTML object>"
      ]
     },
     "metadata": {},
     "output_type": "display_data"
    },
    {
     "data": {
      "text/html": [
       "<span style=\"color: black; font-weight: regular;\">and</span> <span style=\"color: black; font-weight: regular;\">the-</span> <span style=\"color: black; font-weight: regular;\">,</span> <span style=\"color: black; font-weight: regular;\">yeah</span>"
      ],
      "text/plain": [
       "<IPython.core.display.HTML object>"
      ]
     },
     "metadata": {},
     "output_type": "display_data"
    },
    {
     "name": "stdout",
     "output_type": "stream",
     "text": [
      "---\n"
     ]
    },
    {
     "data": {
      "text/html": [
       "<span style=\"color: black; font-weight: regular;\">%</span> <span style=\"color: black; font-weight: regular;\">um</span> <span style=\"color: blue; font-weight: bold;\">He</span> <span style=\"color: black; font-weight: regular;\">was</span> <span style=\"color: black; font-weight: regular;\">changing</span> <span style=\"color: black; font-weight: regular;\">projects</span> <span style=\"color: black; font-weight: regular;\">every</span> <span style=\"color: black; font-weight: regular;\">couple</span> <span style=\"color: black; font-weight: regular;\">of</span> <span style=\"color: black; font-weight: regular;\">weeks</span> <span style=\"color: black; font-weight: regular;\">and</span> <span style=\"color: blue; font-weight: bold;\">he</span> <span style=\"color: black; font-weight: regular;\">said</span> <span style=\"color: blue; font-weight: bold;\">he</span> <span style=\"color: black; font-weight: regular;\">could</span> <span style=\"color: black; font-weight: regular;\">n't</span> <span style=\"color: black; font-weight: regular;\">keep</span> <span style=\"color: black; font-weight: regular;\">on</span> <span style=\"color: black; font-weight: regular;\">top</span> <span style=\"color: black; font-weight: regular;\">of</span> <span style=\"color: black; font-weight: regular;\">it</span> <span style=\"color: black; font-weight: regular;\">.</span>"
      ],
      "text/plain": [
       "<IPython.core.display.HTML object>"
      ]
     },
     "metadata": {},
     "output_type": "display_data"
    },
    {
     "data": {
      "text/html": [
       "<span style=\"color: black; font-weight: regular;\">and</span> <span style=\"color: blue; font-weight: bold;\">he</span> <span style=\"color: black; font-weight: regular;\">said</span> <span style=\"color: blue; font-weight: bold;\">he</span> <span style=\"color: black; font-weight: regular;\">could</span> <span style=\"color: black; font-weight: regular;\">n't</span> <span style=\"color: black; font-weight: regular;\">keep</span> <span style=\"color: black; font-weight: regular;\">on</span> <span style=\"color: black; font-weight: regular;\">top</span> <span style=\"color: black; font-weight: regular;\">of</span> <span style=\"color: black; font-weight: regular;\">it</span> <span style=\"color: black; font-weight: regular;\">.</span> <span style=\"color: black; font-weight: regular;\">%</span> <span style=\"color: black; font-weight: regular;\">um</span> <span style=\"color: blue; font-weight: bold;\">He</span> <span style=\"color: black; font-weight: regular;\">was</span> <span style=\"color: black; font-weight: regular;\">changing</span> <span style=\"color: black; font-weight: regular;\">projects</span> <span style=\"color: black; font-weight: regular;\">every</span> <span style=\"color: black; font-weight: regular;\">couple</span> <span style=\"color: black; font-weight: regular;\">of</span> <span style=\"color: black; font-weight: regular;\">weeks</span>"
      ],
      "text/plain": [
       "<IPython.core.display.HTML object>"
      ]
     },
     "metadata": {},
     "output_type": "display_data"
    },
    {
     "name": "stdout",
     "output_type": "stream",
     "text": [
      "---\n"
     ]
    },
    {
     "data": {
      "text/html": [
       "<span style=\"color: black; font-weight: regular;\">Strikes</span> <span style=\"color: black; font-weight: regular;\">and</span> <span style=\"color: black; font-weight: regular;\">mismanagement</span> <span style=\"color: black; font-weight: regular;\">were</span> <span style=\"color: black; font-weight: regular;\">cited</span> <span style=\"color: black; font-weight: regular;\">,</span> <span style=\"color: black; font-weight: regular;\">and</span> <span style=\"color: black; font-weight: regular;\">Premier</span> <span style=\"color: black; font-weight: regular;\">Ryzhkov</span> <span style=\"color: black; font-weight: regular;\">warned</span> <span style=\"color: black; font-weight: regular;\">of</span> <span style=\"color: black; font-weight: regular;\">``</span> <span style=\"color: black; font-weight: regular;\">tough</span> <span style=\"color: black; font-weight: regular;\">measures</span> <span style=\"color: black; font-weight: regular;\">.</span> <span style=\"color: black; font-weight: regular;\">''</span> <span style=\"color: black; font-weight: regular;\">Bush</span> <span style=\"color: black; font-weight: regular;\">indicated</span> <span style=\"color: black; font-weight: regular;\">there</span> <span style=\"color: black; font-weight: regular;\">might</span> <span style=\"color: black; font-weight: regular;\">be</span> <span style=\"color: black; font-weight: regular;\">``</span> <span style=\"color: black; font-weight: regular;\">room</span> <span style=\"color: black; font-weight: regular;\">for</span> <span style=\"color: black; font-weight: regular;\">flexibility</span> <span style=\"color: black; font-weight: regular;\">''</span> <span style=\"color: black; font-weight: regular;\">in</span> <span style=\"color: black; font-weight: regular;\">a</span> <span style=\"color: black; font-weight: regular;\">bill</span> <span style=\"color: black; font-weight: regular;\">to</span> <span style=\"color: black; font-weight: regular;\">allow</span> <span style=\"color: black; font-weight: regular;\">federal</span> <span style=\"color: black; font-weight: regular;\">funding</span> <span style=\"color: black; font-weight: regular;\">of</span> <span style=\"color: black; font-weight: regular;\">abortions</span> <span style=\"color: black; font-weight: regular;\">for</span> <span style=\"color: black; font-weight: regular;\">poor</span> <span style=\"color: black; font-weight: regular;\">women</span> <span style=\"color: black; font-weight: regular;\">who</span> <span style=\"color: black; font-weight: regular;\">are</span> <span style=\"color: black; font-weight: regular;\">vicitims</span> <span style=\"color: black; font-weight: regular;\">of</span> <span style=\"color: black; font-weight: regular;\">rape</span> <span style=\"color: black; font-weight: regular;\">and</span> <span style=\"color: black; font-weight: regular;\">incest</span> <span style=\"color: black; font-weight: regular;\">.</span>"
      ],
      "text/plain": [
       "<IPython.core.display.HTML object>"
      ]
     },
     "metadata": {},
     "output_type": "display_data"
    },
    {
     "data": {
      "text/html": [
       "<span style=\"color: black; font-weight: regular;\">Bush</span> <span style=\"color: black; font-weight: regular;\">indicated</span> <span style=\"color: black; font-weight: regular;\">there</span> <span style=\"color: black; font-weight: regular;\">might</span> <span style=\"color: black; font-weight: regular;\">be</span> <span style=\"color: black; font-weight: regular;\">``</span> <span style=\"color: black; font-weight: regular;\">room</span> <span style=\"color: black; font-weight: regular;\">for</span> <span style=\"color: black; font-weight: regular;\">flexibility</span> <span style=\"color: black; font-weight: regular;\">''</span> <span style=\"color: black; font-weight: regular;\">in</span> <span style=\"color: black; font-weight: regular;\">a</span> <span style=\"color: black; font-weight: regular;\">bill</span> <span style=\"color: black; font-weight: regular;\">to</span> <span style=\"color: black; font-weight: regular;\">allow</span> <span style=\"color: black; font-weight: regular;\">federal</span> <span style=\"color: black; font-weight: regular;\">funding</span> <span style=\"color: black; font-weight: regular;\">of</span> <span style=\"color: black; font-weight: regular;\">abortions</span> <span style=\"color: black; font-weight: regular;\">for</span> <span style=\"color: black; font-weight: regular;\">poor</span> <span style=\"color: black; font-weight: regular;\">women</span> <span style=\"color: black; font-weight: regular;\">who</span> <span style=\"color: black; font-weight: regular;\">are</span> <span style=\"color: black; font-weight: regular;\">vicitims</span> <span style=\"color: black; font-weight: regular;\">of</span> <span style=\"color: black; font-weight: regular;\">rape</span> <span style=\"color: black; font-weight: regular;\">and</span> <span style=\"color: black; font-weight: regular;\">incest</span> <span style=\"color: black; font-weight: regular;\">.</span> <span style=\"color: black; font-weight: regular;\">Strikes</span> <span style=\"color: black; font-weight: regular;\">and</span> <span style=\"color: black; font-weight: regular;\">mismanagement</span> <span style=\"color: black; font-weight: regular;\">were</span> <span style=\"color: black; font-weight: regular;\">cited</span> <span style=\"color: black; font-weight: regular;\">,</span> <span style=\"color: black; font-weight: regular;\">and</span> <span style=\"color: black; font-weight: regular;\">Premier</span> <span style=\"color: black; font-weight: regular;\">Ryzhkov</span> <span style=\"color: black; font-weight: regular;\">warned</span> <span style=\"color: black; font-weight: regular;\">of</span> <span style=\"color: black; font-weight: regular;\">``</span> <span style=\"color: black; font-weight: regular;\">tough</span> <span style=\"color: black; font-weight: regular;\">measures</span> <span style=\"color: black; font-weight: regular;\">.</span> <span style=\"color: black; font-weight: regular;\">''</span>"
      ],
      "text/plain": [
       "<IPython.core.display.HTML object>"
      ]
     },
     "metadata": {},
     "output_type": "display_data"
    },
    {
     "name": "stdout",
     "output_type": "stream",
     "text": [
      "---\n"
     ]
    },
    {
     "data": {
      "text/html": [
       "<span style=\"color: black; font-weight: regular;\">An</span> <span style=\"color: black; font-weight: regular;\">American</span> <span style=\"color: black; font-weight: regular;\">expatriot</span> <span style=\"color: black; font-weight: regular;\">.</span> <span style=\"color: black; font-weight: regular;\">An</span> <span style=\"color: black; font-weight: regular;\">American</span> <span style=\"color: black; font-weight: regular;\">living</span> <span style=\"color: black; font-weight: regular;\">abroad</span> <span style=\"color: black; font-weight: regular;\">.</span>"
      ],
      "text/plain": [
       "<IPython.core.display.HTML object>"
      ]
     },
     "metadata": {},
     "output_type": "display_data"
    },
    {
     "data": {
      "text/html": [
       "<span style=\"color: black; font-weight: regular;\">An</span> <span style=\"color: black; font-weight: regular;\">American</span> <span style=\"color: black; font-weight: regular;\">living</span> <span style=\"color: black; font-weight: regular;\">abroad</span> <span style=\"color: black; font-weight: regular;\">.</span> <span style=\"color: black; font-weight: regular;\">An</span> <span style=\"color: black; font-weight: regular;\">American</span> <span style=\"color: black; font-weight: regular;\">expatriot</span> <span style=\"color: black; font-weight: regular;\">.</span>"
      ],
      "text/plain": [
       "<IPython.core.display.HTML object>"
      ]
     },
     "metadata": {},
     "output_type": "display_data"
    },
    {
     "name": "stdout",
     "output_type": "stream",
     "text": [
      "---\n"
     ]
    },
    {
     "data": {
      "text/html": [
       "<span style=\"color: black; font-weight: regular;\">The</span> <span style=\"color: black; font-weight: regular;\">flood</span> <span style=\"color: black; font-weight: regular;\">-</span> <span style=\"color: black; font-weight: regular;\">prone</span> <span style=\"color: black; font-weight: regular;\">Linpien</span> <span style=\"color: black; font-weight: regular;\">River</span> <span style=\"color: black; font-weight: regular;\">has</span> <span style=\"color: black; font-weight: regular;\">been</span> <span style=\"color: black; font-weight: regular;\">dyked</span> <span style=\"color: black; font-weight: regular;\">and</span> <span style=\"color: black; font-weight: regular;\">dredged</span> <span style=\"color: black; font-weight: regular;\">since</span> <span style=\"color: black; font-weight: regular;\">the</span> <span style=\"color: black; font-weight: regular;\">Japanese</span> <span style=\"color: black; font-weight: regular;\">colonial</span> <span style=\"color: black; font-weight: regular;\">era</span> <span style=\"color: black; font-weight: regular;\">,</span> <span style=\"color: black; font-weight: regular;\">but</span> <span style=\"color: black; font-weight: regular;\">the</span> <span style=\"color: black; font-weight: regular;\">bare</span> <span style=\"color: black; font-weight: regular;\">concrete</span> <span style=\"color: black; font-weight: regular;\">embankments</span> <span style=\"color: black; font-weight: regular;\">never</span> <span style=\"color: black; font-weight: regular;\">did</span> <span style=\"color: black; font-weight: regular;\">much</span> <span style=\"color: black; font-weight: regular;\">for</span> <span style=\"color: black; font-weight: regular;\">the</span> <span style=\"color: black; font-weight: regular;\">scenery</span> <span style=\"color: black; font-weight: regular;\">.</span> <span style=\"color: black; font-weight: regular;\">In</span> <span style=\"color: black; font-weight: regular;\">1999</span> <span style=\"color: blue; font-weight: bold;\">Tsao</span> <span style=\"color: blue; font-weight: bold;\">Chi</span> <span style=\"color: blue; font-weight: bold;\">-</span> <span style=\"color: blue; font-weight: bold;\">hung</span> <span style=\"color: black; font-weight: regular;\">learned</span> <span style=\"color: black; font-weight: regular;\">that</span> <span style=\"color: black; font-weight: regular;\">the</span> <span style=\"color: black; font-weight: regular;\">Water</span> <span style=\"color: black; font-weight: regular;\">Conservancy</span> <span style=\"color: black; font-weight: regular;\">Bureau</span> <span style=\"color: black; font-weight: regular;\">was</span> <span style=\"color: black; font-weight: regular;\">planning</span> <span style=\"color: black; font-weight: regular;\">to</span> <span style=\"color: black; font-weight: regular;\">renovate</span> <span style=\"color: black; font-weight: regular;\">the</span> <span style=\"color: black; font-weight: regular;\">flood</span> <span style=\"color: black; font-weight: regular;\">defenses</span> <span style=\"color: black; font-weight: regular;\">,</span> <span style=\"color: black; font-weight: regular;\">and</span> <span style=\"color: blue; font-weight: bold;\">he</span> <span style=\"color: black; font-weight: regular;\">proposed</span> <span style=\"color: black; font-weight: regular;\">a</span> <span style=\"color: black; font-weight: regular;\">scheme</span> <span style=\"color: black; font-weight: regular;\">for</span> <span style=\"color: black; font-weight: regular;\">``</span> <span style=\"color: black; font-weight: regular;\">greenification</span> <span style=\"color: black; font-weight: regular;\">``</span> <span style=\"color: black; font-weight: regular;\">of</span> <span style=\"color: black; font-weight: regular;\">the</span> <span style=\"color: black; font-weight: regular;\">riverside</span> <span style=\"color: black; font-weight: regular;\">area</span> <span style=\"color: black; font-weight: regular;\">.</span>"
      ],
      "text/plain": [
       "<IPython.core.display.HTML object>"
      ]
     },
     "metadata": {},
     "output_type": "display_data"
    },
    {
     "data": {
      "text/html": [
       "<span style=\"color: black; font-weight: regular;\">In</span> <span style=\"color: black; font-weight: regular;\">1999</span> <span style=\"color: blue; font-weight: bold;\">Tsao</span> <span style=\"color: blue; font-weight: bold;\">Chi</span> <span style=\"color: blue; font-weight: bold;\">-</span> <span style=\"color: blue; font-weight: bold;\">hung</span> <span style=\"color: black; font-weight: regular;\">learned</span> <span style=\"color: black; font-weight: regular;\">that</span> <span style=\"color: black; font-weight: regular;\">the</span> <span style=\"color: black; font-weight: regular;\">Water</span> <span style=\"color: black; font-weight: regular;\">Conservancy</span> <span style=\"color: black; font-weight: regular;\">Bureau</span> <span style=\"color: black; font-weight: regular;\">was</span> <span style=\"color: black; font-weight: regular;\">planning</span> <span style=\"color: black; font-weight: regular;\">to</span> <span style=\"color: black; font-weight: regular;\">renovate</span> <span style=\"color: black; font-weight: regular;\">the</span> <span style=\"color: black; font-weight: regular;\">flood</span> <span style=\"color: black; font-weight: regular;\">defenses</span> <span style=\"color: black; font-weight: regular;\">,</span> <span style=\"color: black; font-weight: regular;\">and</span> <span style=\"color: blue; font-weight: bold;\">he</span> <span style=\"color: black; font-weight: regular;\">proposed</span> <span style=\"color: black; font-weight: regular;\">a</span> <span style=\"color: black; font-weight: regular;\">scheme</span> <span style=\"color: black; font-weight: regular;\">for</span> <span style=\"color: black; font-weight: regular;\">``</span> <span style=\"color: black; font-weight: regular;\">greenification</span> <span style=\"color: black; font-weight: regular;\">``</span> <span style=\"color: black; font-weight: regular;\">of</span> <span style=\"color: black; font-weight: regular;\">the</span> <span style=\"color: black; font-weight: regular;\">riverside</span> <span style=\"color: black; font-weight: regular;\">area</span> <span style=\"color: black; font-weight: regular;\">.</span> <span style=\"color: black; font-weight: regular;\">The</span> <span style=\"color: black; font-weight: regular;\">flood</span> <span style=\"color: black; font-weight: regular;\">-</span> <span style=\"color: black; font-weight: regular;\">prone</span> <span style=\"color: black; font-weight: regular;\">Linpien</span> <span style=\"color: black; font-weight: regular;\">River</span> <span style=\"color: black; font-weight: regular;\">has</span> <span style=\"color: black; font-weight: regular;\">been</span> <span style=\"color: black; font-weight: regular;\">dyked</span> <span style=\"color: black; font-weight: regular;\">and</span> <span style=\"color: black; font-weight: regular;\">dredged</span> <span style=\"color: black; font-weight: regular;\">since</span> <span style=\"color: black; font-weight: regular;\">the</span> <span style=\"color: black; font-weight: regular;\">Japanese</span> <span style=\"color: black; font-weight: regular;\">colonial</span> <span style=\"color: black; font-weight: regular;\">era</span> <span style=\"color: black; font-weight: regular;\">,</span> <span style=\"color: black; font-weight: regular;\">but</span> <span style=\"color: black; font-weight: regular;\">the</span> <span style=\"color: black; font-weight: regular;\">bare</span> <span style=\"color: black; font-weight: regular;\">concrete</span> <span style=\"color: black; font-weight: regular;\">embankments</span> <span style=\"color: black; font-weight: regular;\">never</span> <span style=\"color: black; font-weight: regular;\">did</span> <span style=\"color: black; font-weight: regular;\">much</span> <span style=\"color: black; font-weight: regular;\">for</span> <span style=\"color: black; font-weight: regular;\">the</span> <span style=\"color: black; font-weight: regular;\">scenery</span> <span style=\"color: black; font-weight: regular;\">.</span>"
      ],
      "text/plain": [
       "<IPython.core.display.HTML object>"
      ]
     },
     "metadata": {},
     "output_type": "display_data"
    },
    {
     "name": "stdout",
     "output_type": "stream",
     "text": [
      "---\n"
     ]
    },
    {
     "data": {
      "text/html": [
       "<span style=\"color: black; font-weight: regular;\">But</span> <span style=\"color: black; font-weight: regular;\">70</span> <span style=\"color: black; font-weight: regular;\">%</span> <span style=\"color: black; font-weight: regular;\">of</span> <span style=\"color: black; font-weight: regular;\">the</span> <span style=\"color: black; font-weight: regular;\">cable</span> <span style=\"color: black; font-weight: regular;\">-</span> <span style=\"color: black; font-weight: regular;\">television</span> <span style=\"color: black; font-weight: regular;\">-</span> <span style=\"color: black; font-weight: regular;\">equipped</span> <span style=\"color: black; font-weight: regular;\">households</span> <span style=\"color: black; font-weight: regular;\">that</span> <span style=\"color: black; font-weight: regular;\">watch</span> <span style=\"color: black; font-weight: regular;\">news</span> <span style=\"color: black; font-weight: regular;\">do</span> <span style=\"color: black; font-weight: regular;\">so</span> <span style=\"color: black; font-weight: regular;\">between</span> <span style=\"color: black; font-weight: regular;\">6:30</span> <span style=\"color: black; font-weight: regular;\">p.m.</span> <span style=\"color: black; font-weight: regular;\">and</span> <span style=\"color: black; font-weight: regular;\">7</span> <span style=\"color: black; font-weight: regular;\">p.m.</span> <span style=\"color: black; font-weight: regular;\">,</span> <span style=\"color: black; font-weight: regular;\">the</span> <span style=\"color: black; font-weight: regular;\">network</span> <span style=\"color: black; font-weight: regular;\">discovered</span> <span style=\"color: black; font-weight: regular;\">,</span> <span style=\"color: black; font-weight: regular;\">so</span> <span style=\"color: blue; font-weight: bold;\">CNN</span> <span style=\"color: black; font-weight: regular;\">wants</span> <span style=\"color: black; font-weight: regular;\">in</span> <span style=\"color: black; font-weight: regular;\">.</span> <span style=\"color: black; font-weight: regular;\">Mr.</span> <span style=\"color: black; font-weight: regular;\">Amos</span> <span style=\"color: black; font-weight: regular;\">says</span> <span style=\"color: black; font-weight: regular;\">the</span> <span style=\"color: black; font-weight: regular;\">Shaw</span> <span style=\"color: black; font-weight: regular;\">-</span> <span style=\"color: black; font-weight: regular;\">Crier</span> <span style=\"color: black; font-weight: regular;\">team</span> <span style=\"color: black; font-weight: regular;\">will</span> <span style=\"color: black; font-weight: regular;\">probably</span> <span style=\"color: black; font-weight: regular;\">do</span> <span style=\"color: black; font-weight: regular;\">two</span> <span style=\"color: black; font-weight: regular;\">live</span> <span style=\"color: black; font-weight: regular;\">interviews</span> <span style=\"color: black; font-weight: regular;\">a</span> <span style=\"color: black; font-weight: regular;\">day</span> <span style=\"color: black; font-weight: regular;\">,</span> <span style=\"color: black; font-weight: regular;\">with</span> <span style=\"color: black; font-weight: regular;\">most</span> <span style=\"color: black; font-weight: regular;\">of</span> <span style=\"color: black; font-weight: regular;\">the</span> <span style=\"color: black; font-weight: regular;\">program</span> <span style=\"color: black; font-weight: regular;\">,</span> <span style=\"color: black; font-weight: regular;\">at</span> <span style=\"color: black; font-weight: regular;\">least</span> <span style=\"color: black; font-weight: regular;\">for</span> <span style=\"color: black; font-weight: regular;\">now</span> <span style=\"color: black; font-weight: regular;\">,</span> <span style=\"color: black; font-weight: regular;\">appearing</span> <span style=\"color: black; font-weight: regular;\">similar</span> <span style=\"color: black; font-weight: regular;\">to</span> <span style=\"color: blue; font-weight: bold;\">CNN</span> <span style=\"color: blue; font-weight: bold;\">'s</span> <span style=\"color: black; font-weight: regular;\">other</span> <span style=\"color: black; font-weight: regular;\">newcasts</span> <span style=\"color: black; font-weight: regular;\">.</span>"
      ],
      "text/plain": [
       "<IPython.core.display.HTML object>"
      ]
     },
     "metadata": {},
     "output_type": "display_data"
    },
    {
     "data": {
      "text/html": [
       "<span style=\"color: black; font-weight: regular;\">Mr.</span> <span style=\"color: black; font-weight: regular;\">Amos</span> <span style=\"color: black; font-weight: regular;\">says</span> <span style=\"color: black; font-weight: regular;\">the</span> <span style=\"color: black; font-weight: regular;\">Shaw</span> <span style=\"color: black; font-weight: regular;\">-</span> <span style=\"color: black; font-weight: regular;\">Crier</span> <span style=\"color: black; font-weight: regular;\">team</span> <span style=\"color: black; font-weight: regular;\">will</span> <span style=\"color: black; font-weight: regular;\">probably</span> <span style=\"color: black; font-weight: regular;\">do</span> <span style=\"color: black; font-weight: regular;\">two</span> <span style=\"color: black; font-weight: regular;\">live</span> <span style=\"color: black; font-weight: regular;\">interviews</span> <span style=\"color: black; font-weight: regular;\">a</span> <span style=\"color: black; font-weight: regular;\">day</span> <span style=\"color: black; font-weight: regular;\">,</span> <span style=\"color: black; font-weight: regular;\">with</span> <span style=\"color: black; font-weight: regular;\">most</span> <span style=\"color: black; font-weight: regular;\">of</span> <span style=\"color: black; font-weight: regular;\">the</span> <span style=\"color: black; font-weight: regular;\">program</span> <span style=\"color: black; font-weight: regular;\">,</span> <span style=\"color: black; font-weight: regular;\">at</span> <span style=\"color: black; font-weight: regular;\">least</span> <span style=\"color: black; font-weight: regular;\">for</span> <span style=\"color: black; font-weight: regular;\">now</span> <span style=\"color: black; font-weight: regular;\">,</span> <span style=\"color: black; font-weight: regular;\">appearing</span> <span style=\"color: black; font-weight: regular;\">similar</span> <span style=\"color: black; font-weight: regular;\">to</span> <span style=\"color: blue; font-weight: bold;\">CNN</span> <span style=\"color: blue; font-weight: bold;\">'s</span> <span style=\"color: black; font-weight: regular;\">other</span> <span style=\"color: black; font-weight: regular;\">newcasts</span> <span style=\"color: black; font-weight: regular;\">.</span> <span style=\"color: black; font-weight: regular;\">But</span> <span style=\"color: black; font-weight: regular;\">70</span> <span style=\"color: black; font-weight: regular;\">%</span> <span style=\"color: black; font-weight: regular;\">of</span> <span style=\"color: black; font-weight: regular;\">the</span> <span style=\"color: black; font-weight: regular;\">cable</span> <span style=\"color: black; font-weight: regular;\">-</span> <span style=\"color: black; font-weight: regular;\">television</span> <span style=\"color: black; font-weight: regular;\">-</span> <span style=\"color: black; font-weight: regular;\">equipped</span> <span style=\"color: black; font-weight: regular;\">households</span> <span style=\"color: black; font-weight: regular;\">that</span> <span style=\"color: black; font-weight: regular;\">watch</span> <span style=\"color: black; font-weight: regular;\">news</span> <span style=\"color: black; font-weight: regular;\">do</span> <span style=\"color: black; font-weight: regular;\">so</span> <span style=\"color: black; font-weight: regular;\">between</span> <span style=\"color: black; font-weight: regular;\">6:30</span> <span style=\"color: black; font-weight: regular;\">p.m.</span> <span style=\"color: black; font-weight: regular;\">and</span> <span style=\"color: black; font-weight: regular;\">7</span> <span style=\"color: black; font-weight: regular;\">p.m.</span> <span style=\"color: black; font-weight: regular;\">,</span> <span style=\"color: black; font-weight: regular;\">the</span> <span style=\"color: black; font-weight: regular;\">network</span> <span style=\"color: black; font-weight: regular;\">discovered</span> <span style=\"color: black; font-weight: regular;\">,</span> <span style=\"color: black; font-weight: regular;\">so</span> <span style=\"color: blue; font-weight: bold;\">CNN</span> <span style=\"color: black; font-weight: regular;\">wants</span> <span style=\"color: black; font-weight: regular;\">in</span> <span style=\"color: black; font-weight: regular;\">.</span>"
      ],
      "text/plain": [
       "<IPython.core.display.HTML object>"
      ]
     },
     "metadata": {},
     "output_type": "display_data"
    },
    {
     "name": "stdout",
     "output_type": "stream",
     "text": [
      "---\n"
     ]
    },
    {
     "data": {
      "text/html": [
       "<span style=\"color: black; font-weight: regular;\">In</span> <span style=\"color: black; font-weight: regular;\">paintings</span> <span style=\"color: black; font-weight: regular;\">,</span> <span style=\"color: black; font-weight: regular;\">a</span> <span style=\"color: black; font-weight: regular;\">white</span> <span style=\"color: black; font-weight: regular;\">cloud</span> <span style=\"color: black; font-weight: regular;\">layer</span> <span style=\"color: black; font-weight: regular;\">swirls</span> <span style=\"color: black; font-weight: regular;\">over</span> <span style=\"color: black; font-weight: regular;\">Mt</span> <span style=\"color: black; font-weight: regular;\">.</span> <span style=\"color: black; font-weight: regular;\">Kuanyin</span> <span style=\"color: black; font-weight: regular;\">;</span> <span style=\"color: black; font-weight: regular;\">waves</span> <span style=\"color: black; font-weight: regular;\">on</span> <span style=\"color: black; font-weight: regular;\">the</span> <span style=\"color: black; font-weight: regular;\">river</span> <span style=\"color: black; font-weight: regular;\">drift</span> <span style=\"color: black; font-weight: regular;\">like</span> <span style=\"color: black; font-weight: regular;\">a</span> <span style=\"color: black; font-weight: regular;\">breeze</span> <span style=\"color: black; font-weight: regular;\">;</span>"
      ],
      "text/plain": [
       "<IPython.core.display.HTML object>"
      ]
     },
     "metadata": {},
     "output_type": "display_data"
    },
    {
     "data": {
      "text/html": [
       "<span style=\"color: black; font-weight: regular;\">waves</span> <span style=\"color: black; font-weight: regular;\">on</span> <span style=\"color: black; font-weight: regular;\">the</span> <span style=\"color: black; font-weight: regular;\">river</span> <span style=\"color: black; font-weight: regular;\">drift</span> <span style=\"color: black; font-weight: regular;\">like</span> <span style=\"color: black; font-weight: regular;\">a</span> <span style=\"color: black; font-weight: regular;\">breeze</span> <span style=\"color: black; font-weight: regular;\">;</span> <span style=\"color: black; font-weight: regular;\">In</span> <span style=\"color: black; font-weight: regular;\">paintings</span> <span style=\"color: black; font-weight: regular;\">,</span> <span style=\"color: black; font-weight: regular;\">a</span> <span style=\"color: black; font-weight: regular;\">white</span> <span style=\"color: black; font-weight: regular;\">cloud</span> <span style=\"color: black; font-weight: regular;\">layer</span> <span style=\"color: black; font-weight: regular;\">swirls</span> <span style=\"color: black; font-weight: regular;\">over</span> <span style=\"color: black; font-weight: regular;\">Mt</span> <span style=\"color: black; font-weight: regular;\">.</span> <span style=\"color: black; font-weight: regular;\">Kuanyin</span> <span style=\"color: black; font-weight: regular;\">;</span>"
      ],
      "text/plain": [
       "<IPython.core.display.HTML object>"
      ]
     },
     "metadata": {},
     "output_type": "display_data"
    },
    {
     "name": "stdout",
     "output_type": "stream",
     "text": [
      "---\n"
     ]
    },
    {
     "data": {
      "text/html": [
       "<span style=\"color: black; font-weight: regular;\">The</span> <span style=\"color: black; font-weight: regular;\">Message</span> <span style=\"color: black; font-weight: regular;\">Is</span> <span style=\"color: black; font-weight: regular;\">:</span> <span style=\"color: black; font-weight: regular;\">``</span> <span style=\"color: blue; font-weight: bold;\">Big</span> <span style=\"color: blue; font-weight: bold;\">Brother</span> <span style=\"color: black; font-weight: regular;\">must</span> <span style=\"color: black; font-weight: regular;\">be</span> <span style=\"color: black; font-weight: regular;\">informed</span> <span style=\"color: black; font-weight: regular;\">!</span> <span style=\"color: blue; font-weight: bold;\">Only</span> <span style=\"color: blue; font-weight: bold;\">Big</span> <span style=\"color: blue; font-weight: bold;\">Brother</span> <span style=\"color: black; font-weight: regular;\">can</span> <span style=\"color: black; font-weight: regular;\">manage</span> <span style=\"color: black; font-weight: regular;\">society</span> <span style=\"color: black; font-weight: regular;\">!</span> <span style=\"color: black; font-weight: regular;\">''</span>"
      ],
      "text/plain": [
       "<IPython.core.display.HTML object>"
      ]
     },
     "metadata": {},
     "output_type": "display_data"
    },
    {
     "data": {
      "text/html": [
       "<span style=\"color: blue; font-weight: bold;\">Only</span> <span style=\"color: blue; font-weight: bold;\">Big</span> <span style=\"color: blue; font-weight: bold;\">Brother</span> <span style=\"color: black; font-weight: regular;\">can</span> <span style=\"color: black; font-weight: regular;\">manage</span> <span style=\"color: black; font-weight: regular;\">society</span> <span style=\"color: black; font-weight: regular;\">!</span> <span style=\"color: black; font-weight: regular;\">''</span> <span style=\"color: black; font-weight: regular;\">The</span> <span style=\"color: black; font-weight: regular;\">Message</span> <span style=\"color: black; font-weight: regular;\">Is</span> <span style=\"color: black; font-weight: regular;\">:</span> <span style=\"color: black; font-weight: regular;\">``</span> <span style=\"color: blue; font-weight: bold;\">Big</span> <span style=\"color: blue; font-weight: bold;\">Brother</span> <span style=\"color: black; font-weight: regular;\">must</span> <span style=\"color: black; font-weight: regular;\">be</span> <span style=\"color: black; font-weight: regular;\">informed</span> <span style=\"color: black; font-weight: regular;\">!</span>"
      ],
      "text/plain": [
       "<IPython.core.display.HTML object>"
      ]
     },
     "metadata": {},
     "output_type": "display_data"
    },
    {
     "name": "stdout",
     "output_type": "stream",
     "text": [
      "---\n"
     ]
    },
    {
     "data": {
      "text/html": [
       "<span style=\"color: black; font-weight: regular;\">p.</span> <span style=\"color: black; font-weight: regular;\">097</span> <span style=\"color: black; font-weight: regular;\">As</span> <span style=\"color: black; font-weight: regular;\">the</span> <span style=\"color: black; font-weight: regular;\">lazy</span> <span style=\"color: black; font-weight: regular;\">sun</span> <span style=\"color: black; font-weight: regular;\">displays</span> <span style=\"color: black; font-weight: regular;\">an</span> <span style=\"color: black; font-weight: regular;\">extraordinary</span> <span style=\"color: black; font-weight: regular;\">beauty</span> <span style=\"color: black; font-weight: regular;\">,</span> <span style=\"color: black; font-weight: regular;\">a</span> <span style=\"color: black; font-weight: regular;\">fishing</span> <span style=\"color: black; font-weight: regular;\">boat</span> <span style=\"color: black; font-weight: regular;\">drifts</span> <span style=\"color: black; font-weight: regular;\">toward</span> <span style=\"color: black; font-weight: regular;\">shore</span> <span style=\"color: black; font-weight: regular;\">over</span> <span style=\"color: black; font-weight: regular;\">the</span> <span style=\"color: black; font-weight: regular;\">golden</span> <span style=\"color: black; font-weight: regular;\">water</span> <span style=\"color: black; font-weight: regular;\">.</span>"
      ],
      "text/plain": [
       "<IPython.core.display.HTML object>"
      ]
     },
     "metadata": {},
     "output_type": "display_data"
    },
    {
     "data": {
      "text/html": [
       "<span style=\"color: black; font-weight: regular;\">As</span> <span style=\"color: black; font-weight: regular;\">the</span> <span style=\"color: black; font-weight: regular;\">lazy</span> <span style=\"color: black; font-weight: regular;\">sun</span> <span style=\"color: black; font-weight: regular;\">displays</span> <span style=\"color: black; font-weight: regular;\">an</span> <span style=\"color: black; font-weight: regular;\">extraordinary</span> <span style=\"color: black; font-weight: regular;\">beauty</span> <span style=\"color: black; font-weight: regular;\">,</span> <span style=\"color: black; font-weight: regular;\">a</span> <span style=\"color: black; font-weight: regular;\">fishing</span> <span style=\"color: black; font-weight: regular;\">boat</span> <span style=\"color: black; font-weight: regular;\">drifts</span> <span style=\"color: black; font-weight: regular;\">toward</span> <span style=\"color: black; font-weight: regular;\">shore</span> <span style=\"color: black; font-weight: regular;\">over</span> <span style=\"color: black; font-weight: regular;\">the</span> <span style=\"color: black; font-weight: regular;\">golden</span> <span style=\"color: black; font-weight: regular;\">water</span> <span style=\"color: black; font-weight: regular;\">.</span> <span style=\"color: black; font-weight: regular;\">p.</span> <span style=\"color: black; font-weight: regular;\">097</span>"
      ],
      "text/plain": [
       "<IPython.core.display.HTML object>"
      ]
     },
     "metadata": {},
     "output_type": "display_data"
    },
    {
     "name": "stdout",
     "output_type": "stream",
     "text": [
      "---\n"
     ]
    },
    {
     "data": {
      "text/html": [
       "<span style=\"color: black; font-weight: regular;\">But</span> <span style=\"color: black; font-weight: regular;\">he</span> <span style=\"color: black; font-weight: regular;\">has</span> <span style=\"color: black; font-weight: regular;\">been</span> <span style=\"color: black; font-weight: regular;\">very</span> <span style=\"color: black; font-weight: regular;\">consistent</span> <span style=\"color: black; font-weight: regular;\">since</span> <span style=\"color: black; font-weight: regular;\">then</span> <span style=\"color: black; font-weight: regular;\">in</span> <span style=\"color: black; font-weight: regular;\">putting</span> <span style=\"color: black; font-weight: regular;\">forward</span> <span style=\"color: black; font-weight: regular;\">the</span> <span style=\"color: black; font-weight: regular;\">proposition</span> <span style=\"color: black; font-weight: regular;\">that</span> <span style=\"color: black; font-weight: regular;\">we</span> <span style=\"color: black; font-weight: regular;\">have</span> <span style=\"color: black; font-weight: regular;\">to</span> <span style=\"color: black; font-weight: regular;\">oppose</span> <span style=\"color: black; font-weight: regular;\">the</span> <span style=\"color: black; font-weight: regular;\">human</span> <span style=\"color: black; font-weight: regular;\">rights</span> <span style=\"color: black; font-weight: regular;\">abuses</span> <span style=\"color: black; font-weight: regular;\">of</span> <span style=\"color: black; font-weight: regular;\">the</span> <span style=\"color: black; font-weight: regular;\">government</span> <span style=\"color: black; font-weight: regular;\">/</span> <span style=\"color: black; font-weight: regular;\">.</span> <span style=\"color: black; font-weight: regular;\">We</span> <span style=\"color: black; font-weight: regular;\">have</span> <span style=\"color: black; font-weight: regular;\">to</span> <span style=\"color: black; font-weight: regular;\">try</span> <span style=\"color: black; font-weight: regular;\">to</span> <span style=\"color: black; font-weight: regular;\">draw</span> <span style=\"color: black; font-weight: regular;\">a</span> <span style=\"color: black; font-weight: regular;\">net</span> <span style=\"color: black; font-weight: regular;\">around</span> <span style=\"color: black; font-weight: regular;\">the</span> <span style=\"color: black; font-weight: regular;\">fact</span> <span style=\"color: black; font-weight: regular;\">that</span> <span style=\"color: blue; font-weight: bold;\">North</span> <span style=\"color: blue; font-weight: bold;\">Korea</span> <span style=\"color: black; font-weight: regular;\">is</span> <span style=\"color: black; font-weight: regular;\">the</span> <span style=\"color: black; font-weight: regular;\">leading</span> <span style=\"color: black; font-weight: regular;\">exporter</span> <span style=\"color: black; font-weight: regular;\">of</span> <span style=\"color: black; font-weight: regular;\">ballistic</span> <span style=\"color: black; font-weight: regular;\">missile</span> <span style=\"color: black; font-weight: regular;\">technology</span> <span style=\"color: black; font-weight: regular;\">around</span> <span style=\"color: black; font-weight: regular;\">the</span> <span style=\"color: black; font-weight: regular;\">world</span> <span style=\"color: black; font-weight: regular;\">The</span> <span style=\"color: black; font-weight: regular;\">proliferator</span> <span style=\"color: black; font-weight: regular;\">of</span> <span style=\"color: blue; font-weight: bold;\">it</span> <span style=\"color: black; font-weight: regular;\">/</span> <span style=\"color: black; font-weight: regular;\">.</span>"
      ],
      "text/plain": [
       "<IPython.core.display.HTML object>"
      ]
     },
     "metadata": {},
     "output_type": "display_data"
    },
    {
     "data": {
      "text/html": [
       "<span style=\"color: black; font-weight: regular;\">We</span> <span style=\"color: black; font-weight: regular;\">have</span> <span style=\"color: black; font-weight: regular;\">to</span> <span style=\"color: black; font-weight: regular;\">try</span> <span style=\"color: black; font-weight: regular;\">to</span> <span style=\"color: black; font-weight: regular;\">draw</span> <span style=\"color: black; font-weight: regular;\">a</span> <span style=\"color: black; font-weight: regular;\">net</span> <span style=\"color: black; font-weight: regular;\">around</span> <span style=\"color: black; font-weight: regular;\">the</span> <span style=\"color: black; font-weight: regular;\">fact</span> <span style=\"color: black; font-weight: regular;\">that</span> <span style=\"color: blue; font-weight: bold;\">North</span> <span style=\"color: blue; font-weight: bold;\">Korea</span> <span style=\"color: black; font-weight: regular;\">is</span> <span style=\"color: black; font-weight: regular;\">the</span> <span style=\"color: black; font-weight: regular;\">leading</span> <span style=\"color: black; font-weight: regular;\">exporter</span> <span style=\"color: black; font-weight: regular;\">of</span> <span style=\"color: black; font-weight: regular;\">ballistic</span> <span style=\"color: black; font-weight: regular;\">missile</span> <span style=\"color: black; font-weight: regular;\">technology</span> <span style=\"color: black; font-weight: regular;\">around</span> <span style=\"color: black; font-weight: regular;\">the</span> <span style=\"color: black; font-weight: regular;\">world</span> <span style=\"color: black; font-weight: regular;\">The</span> <span style=\"color: black; font-weight: regular;\">proliferator</span> <span style=\"color: black; font-weight: regular;\">of</span> <span style=\"color: blue; font-weight: bold;\">it</span> <span style=\"color: black; font-weight: regular;\">/</span> <span style=\"color: black; font-weight: regular;\">.</span> <span style=\"color: black; font-weight: regular;\">But</span> <span style=\"color: black; font-weight: regular;\">he</span> <span style=\"color: black; font-weight: regular;\">has</span> <span style=\"color: black; font-weight: regular;\">been</span> <span style=\"color: black; font-weight: regular;\">very</span> <span style=\"color: black; font-weight: regular;\">consistent</span> <span style=\"color: black; font-weight: regular;\">since</span> <span style=\"color: black; font-weight: regular;\">then</span> <span style=\"color: black; font-weight: regular;\">in</span> <span style=\"color: black; font-weight: regular;\">putting</span> <span style=\"color: black; font-weight: regular;\">forward</span> <span style=\"color: black; font-weight: regular;\">the</span> <span style=\"color: black; font-weight: regular;\">proposition</span> <span style=\"color: black; font-weight: regular;\">that</span> <span style=\"color: black; font-weight: regular;\">we</span> <span style=\"color: black; font-weight: regular;\">have</span> <span style=\"color: black; font-weight: regular;\">to</span> <span style=\"color: black; font-weight: regular;\">oppose</span> <span style=\"color: black; font-weight: regular;\">the</span> <span style=\"color: black; font-weight: regular;\">human</span> <span style=\"color: black; font-weight: regular;\">rights</span> <span style=\"color: black; font-weight: regular;\">abuses</span> <span style=\"color: black; font-weight: regular;\">of</span> <span style=\"color: black; font-weight: regular;\">the</span> <span style=\"color: black; font-weight: regular;\">government</span> <span style=\"color: black; font-weight: regular;\">/</span> <span style=\"color: black; font-weight: regular;\">.</span>"
      ],
      "text/plain": [
       "<IPython.core.display.HTML object>"
      ]
     },
     "metadata": {},
     "output_type": "display_data"
    },
    {
     "name": "stdout",
     "output_type": "stream",
     "text": [
      "---\n"
     ]
    },
    {
     "data": {
      "text/html": [
       "<span style=\"color: black; font-weight: regular;\">In</span> <span style=\"color: black; font-weight: regular;\">fact</span> <span style=\"color: black; font-weight: regular;\">,</span> <span style=\"color: blue; font-weight: bold;\">Budget</span> <span style=\"color: black; font-weight: regular;\">indicated</span> <span style=\"color: blue; font-weight: bold;\">it</span> <span style=\"color: black; font-weight: regular;\">saw</span> <span style=\"color: black; font-weight: regular;\">some</span> <span style=\"color: black; font-weight: regular;\">benefit</span> <span style=\"color: black; font-weight: regular;\">to</span> <span style=\"color: black; font-weight: regular;\">staying</span> <span style=\"color: black; font-weight: regular;\">involved</span> <span style=\"color: black; font-weight: regular;\">in</span> <span style=\"color: black; font-weight: regular;\">these</span> <span style=\"color: black; font-weight: regular;\">programs</span> <span style=\"color: black; font-weight: regular;\">,</span> <span style=\"color: black; font-weight: regular;\">in</span> <span style=\"color: black; font-weight: regular;\">which</span> <span style=\"color: black; font-weight: regular;\">renters</span> <span style=\"color: black; font-weight: regular;\">earn</span> <span style=\"color: black; font-weight: regular;\">frequent</span> <span style=\"color: black; font-weight: regular;\">-</span> <span style=\"color: black; font-weight: regular;\">flier</span> <span style=\"color: black; font-weight: regular;\">miles</span> <span style=\"color: black; font-weight: regular;\">and</span> <span style=\"color: green; font-weight: bold;\">fliers</span> <span style=\"color: black; font-weight: regular;\">can</span> <span style=\"color: black; font-weight: regular;\">get</span> <span style=\"color: black; font-weight: regular;\">car</span> <span style=\"color: black; font-weight: regular;\">-</span> <span style=\"color: black; font-weight: regular;\">rental</span> <span style=\"color: black; font-weight: regular;\">discounts</span> <span style=\"color: black; font-weight: regular;\">.</span> <span style=\"color: black; font-weight: regular;\">``</span> <span style=\"color: blue; font-weight: bold;\">I</span> <span style=\"color: black; font-weight: regular;\">can</span> <span style=\"color: black; font-weight: regular;\">not</span> <span style=\"color: black; font-weight: regular;\">see</span> <span style=\"color: black; font-weight: regular;\">how</span> <span style=\"color: black; font-weight: regular;\">this</span> <span style=\"color: black; font-weight: regular;\">news</span> <span style=\"color: black; font-weight: regular;\">by</span> <span style=\"color: black; font-weight: regular;\">Hertz</span> <span style=\"color: black; font-weight: regular;\">and</span> <span style=\"color: green; font-weight: bold;\">Avis</span> <span style=\"color: black; font-weight: regular;\">can</span> <span style=\"color: black; font-weight: regular;\">not</span> <span style=\"color: black; font-weight: regular;\">benefit</span> <span style=\"color: blue; font-weight: bold;\">Budget</span> <span style=\"color: blue; font-weight: bold;\">'s</span> <span style=\"color: black; font-weight: regular;\">programs</span> <span style=\"color: black; font-weight: regular;\">,</span> <span style=\"color: black; font-weight: regular;\">''</span> <span style=\"color: black; font-weight: regular;\">said</span> <span style=\"color: black; font-weight: regular;\">Bob</span> <span style=\"color: black; font-weight: regular;\">Wilson</span> <span style=\"color: black; font-weight: regular;\">,</span> <span style=\"color: blue; font-weight: bold;\">Budget</span> <span style=\"color: blue; font-weight: bold;\">'s</span> <span style=\"color: black; font-weight: regular;\">vice</span> <span style=\"color: black; font-weight: regular;\">president</span> <span style=\"color: black; font-weight: regular;\">,</span> <span style=\"color: black; font-weight: regular;\">marketing</span> <span style=\"color: black; font-weight: regular;\">planning</span> <span style=\"color: black; font-weight: regular;\">.</span>"
      ],
      "text/plain": [
       "<IPython.core.display.HTML object>"
      ]
     },
     "metadata": {},
     "output_type": "display_data"
    },
    {
     "data": {
      "text/html": [
       "<span style=\"color: black; font-weight: regular;\">``</span> <span style=\"color: black; font-weight: regular;\">I</span> <span style=\"color: black; font-weight: regular;\">can</span> <span style=\"color: black; font-weight: regular;\">not</span> <span style=\"color: black; font-weight: regular;\">see</span> <span style=\"color: black; font-weight: regular;\">how</span> <span style=\"color: black; font-weight: regular;\">this</span> <span style=\"color: black; font-weight: regular;\">news</span> <span style=\"color: black; font-weight: regular;\">by</span> <span style=\"color: black; font-weight: regular;\">Hertz</span> <span style=\"color: black; font-weight: regular;\">and</span> <span style=\"color: green; font-weight: bold;\">Avis</span> <span style=\"color: black; font-weight: regular;\">can</span> <span style=\"color: black; font-weight: regular;\">not</span> <span style=\"color: black; font-weight: regular;\">benefit</span> <span style=\"color: blue; font-weight: bold;\">Budget</span> <span style=\"color: blue; font-weight: bold;\">'s</span> <span style=\"color: black; font-weight: regular;\">programs</span> <span style=\"color: black; font-weight: regular;\">,</span> <span style=\"color: black; font-weight: regular;\">''</span> <span style=\"color: black; font-weight: regular;\">said</span> <span style=\"color: black; font-weight: regular;\">Bob</span> <span style=\"color: black; font-weight: regular;\">Wilson</span> <span style=\"color: black; font-weight: regular;\">,</span> <span style=\"color: blue; font-weight: bold;\">Budget</span> <span style=\"color: blue; font-weight: bold;\">'s</span> <span style=\"color: black; font-weight: regular;\">vice</span> <span style=\"color: black; font-weight: regular;\">president</span> <span style=\"color: black; font-weight: regular;\">,</span> <span style=\"color: black; font-weight: regular;\">marketing</span> <span style=\"color: black; font-weight: regular;\">planning</span> <span style=\"color: black; font-weight: regular;\">.</span> <span style=\"color: black; font-weight: regular;\">In</span> <span style=\"color: black; font-weight: regular;\">fact</span> <span style=\"color: black; font-weight: regular;\">,</span> <span style=\"color: blue; font-weight: bold;\">Budget</span> <span style=\"color: black; font-weight: regular;\">indicated</span> <span style=\"color: blue; font-weight: bold;\">it</span> <span style=\"color: black; font-weight: regular;\">saw</span> <span style=\"color: black; font-weight: regular;\">some</span> <span style=\"color: black; font-weight: regular;\">benefit</span> <span style=\"color: black; font-weight: regular;\">to</span> <span style=\"color: black; font-weight: regular;\">staying</span> <span style=\"color: black; font-weight: regular;\">involved</span> <span style=\"color: black; font-weight: regular;\">in</span> <span style=\"color: black; font-weight: regular;\">these</span> <span style=\"color: black; font-weight: regular;\">programs</span> <span style=\"color: black; font-weight: regular;\">,</span> <span style=\"color: black; font-weight: regular;\">in</span> <span style=\"color: black; font-weight: regular;\">which</span> <span style=\"color: black; font-weight: regular;\">renters</span> <span style=\"color: black; font-weight: regular;\">earn</span> <span style=\"color: black; font-weight: regular;\">frequent</span> <span style=\"color: black; font-weight: regular;\">-</span> <span style=\"color: black; font-weight: regular;\">flier</span> <span style=\"color: black; font-weight: regular;\">miles</span> <span style=\"color: black; font-weight: regular;\">and</span> <span style=\"color: green; font-weight: bold;\">fliers</span> <span style=\"color: black; font-weight: regular;\">can</span> <span style=\"color: black; font-weight: regular;\">get</span> <span style=\"color: black; font-weight: regular;\">car</span> <span style=\"color: black; font-weight: regular;\">-</span> <span style=\"color: black; font-weight: regular;\">rental</span> <span style=\"color: black; font-weight: regular;\">discounts</span> <span style=\"color: black; font-weight: regular;\">.</span>"
      ],
      "text/plain": [
       "<IPython.core.display.HTML object>"
      ]
     },
     "metadata": {},
     "output_type": "display_data"
    },
    {
     "name": "stdout",
     "output_type": "stream",
     "text": [
      "---\n"
     ]
    },
    {
     "data": {
      "text/html": [
       "<span style=\"color: black; font-weight: regular;\">Well</span> <span style=\"color: black; font-weight: regular;\">not</span> <span style=\"color: black; font-weight: regular;\">just</span> <span style=\"color: blue; font-weight: bold;\">Rove</span> <span style=\"color: black; font-weight: regular;\">though</span> <span style=\"color: black; font-weight: regular;\">/</span> <span style=\"color: black; font-weight: regular;\">.</span> <span style=\"color: black; font-weight: regular;\">what</span> <span style=\"color: black; font-weight: regular;\">we</span> <span style=\"color: black; font-weight: regular;\">have</span> <span style=\"color: black; font-weight: regular;\">speculated</span> <span style=\"color: black; font-weight: regular;\">is</span> <span style=\"color: black; font-weight: regular;\">that</span> <span style=\"color: black; font-weight: regular;\">it</span> <span style=\"color: black; font-weight: regular;\">might</span> <span style=\"color: black; font-weight: regular;\">be</span> <span style=\"color: black; font-weight: regular;\">a</span> <span style=\"color: black; font-weight: regular;\">much</span> <span style=\"color: black; font-weight: regular;\">more</span> <span style=\"color: black; font-weight: regular;\">tangled</span> <span style=\"color: black; font-weight: regular;\">web</span> <span style=\"color: black; font-weight: regular;\">that</span> <span style=\"color: black; font-weight: regular;\">Fitzgerald</span> <span style=\"color: black; font-weight: regular;\">is</span> <span style=\"color: black; font-weight: regular;\">after</span> <span style=\"color: black; font-weight: regular;\">the</span> <span style=\"color: black; font-weight: regular;\">whole</span> <span style=\"color: black; font-weight: regular;\">Iraq</span> <span style=\"color: black; font-weight: regular;\">White</span> <span style=\"color: black; font-weight: regular;\">House</span> <span style=\"color: black; font-weight: regular;\">group</span> <span style=\"color: black; font-weight: regular;\">the</span> <span style=\"color: black; font-weight: regular;\">group</span> <span style=\"color: black; font-weight: regular;\">that</span> <span style=\"color: black; font-weight: regular;\">uh</span> <span style=\"color: black; font-weight: regular;\">in</span> <span style=\"color: black; font-weight: regular;\">Cheney</span> <span style=\"color: black; font-weight: regular;\">'s</span> <span style=\"color: black; font-weight: regular;\">office</span> <span style=\"color: black; font-weight: regular;\">with</span> <span style=\"color: black; font-weight: regular;\">Libby</span> <span style=\"color: black; font-weight: regular;\">and</span> <span style=\"color: blue; font-weight: bold;\">Rove</span> <span style=\"color: black; font-weight: regular;\">and</span> <span style=\"color: black; font-weight: regular;\">Mary</span> <span style=\"color: black; font-weight: regular;\">Matalin</span> <span style=\"color: black; font-weight: regular;\">and</span> <span style=\"color: black; font-weight: regular;\">Condoleezza</span> <span style=\"color: black; font-weight: regular;\">Rice</span> <span style=\"color: black; font-weight: regular;\">and</span> <span style=\"color: black; font-weight: regular;\">a</span> <span style=\"color: black; font-weight: regular;\">lot</span> <span style=\"color: black; font-weight: regular;\">of</span> <span style=\"color: black; font-weight: regular;\">administration</span> <span style=\"color: black; font-weight: regular;\">officials</span> <span style=\"color: black; font-weight: regular;\">basically</span> <span style=\"color: black; font-weight: regular;\">sold</span> <span style=\"color: black; font-weight: regular;\">um</span> <span style=\"color: black; font-weight: regular;\">a</span> <span style=\"color: black; font-weight: regular;\">war</span> <span style=\"color: black; font-weight: regular;\">to</span> <span style=\"color: black; font-weight: regular;\">the</span> <span style=\"color: black; font-weight: regular;\">American</span> <span style=\"color: black; font-weight: regular;\">public</span> <span style=\"color: black; font-weight: regular;\">based</span> <span style=\"color: black; font-weight: regular;\">on</span> <span style=\"color: black; font-weight: regular;\">lies</span> <span style=\"color: black; font-weight: regular;\">/</span> <span style=\"color: black; font-weight: regular;\">.</span>"
      ],
      "text/plain": [
       "<IPython.core.display.HTML object>"
      ]
     },
     "metadata": {},
     "output_type": "display_data"
    },
    {
     "data": {
      "text/html": [
       "<span style=\"color: black; font-weight: regular;\">what</span> <span style=\"color: black; font-weight: regular;\">we</span> <span style=\"color: black; font-weight: regular;\">have</span> <span style=\"color: black; font-weight: regular;\">speculated</span> <span style=\"color: black; font-weight: regular;\">is</span> <span style=\"color: black; font-weight: regular;\">that</span> <span style=\"color: black; font-weight: regular;\">it</span> <span style=\"color: black; font-weight: regular;\">might</span> <span style=\"color: black; font-weight: regular;\">be</span> <span style=\"color: black; font-weight: regular;\">a</span> <span style=\"color: black; font-weight: regular;\">much</span> <span style=\"color: black; font-weight: regular;\">more</span> <span style=\"color: black; font-weight: regular;\">tangled</span> <span style=\"color: black; font-weight: regular;\">web</span> <span style=\"color: black; font-weight: regular;\">that</span> <span style=\"color: black; font-weight: regular;\">Fitzgerald</span> <span style=\"color: black; font-weight: regular;\">is</span> <span style=\"color: black; font-weight: regular;\">after</span> <span style=\"color: black; font-weight: regular;\">the</span> <span style=\"color: black; font-weight: regular;\">whole</span> <span style=\"color: black; font-weight: regular;\">Iraq</span> <span style=\"color: black; font-weight: regular;\">White</span> <span style=\"color: black; font-weight: regular;\">House</span> <span style=\"color: black; font-weight: regular;\">group</span> <span style=\"color: black; font-weight: regular;\">the</span> <span style=\"color: black; font-weight: regular;\">group</span> <span style=\"color: black; font-weight: regular;\">that</span> <span style=\"color: black; font-weight: regular;\">uh</span> <span style=\"color: black; font-weight: regular;\">in</span> <span style=\"color: blue; font-weight: bold;\">Cheney</span> <span style=\"color: blue; font-weight: bold;\">'s</span> <span style=\"color: black; font-weight: regular;\">office</span> <span style=\"color: black; font-weight: regular;\">with</span> <span style=\"color: black; font-weight: regular;\">Libby</span> <span style=\"color: black; font-weight: regular;\">and</span> <span style=\"color: blue; font-weight: bold;\">Rove</span> <span style=\"color: black; font-weight: regular;\">and</span> <span style=\"color: black; font-weight: regular;\">Mary</span> <span style=\"color: black; font-weight: regular;\">Matalin</span> <span style=\"color: black; font-weight: regular;\">and</span> <span style=\"color: black; font-weight: regular;\">Condoleezza</span> <span style=\"color: black; font-weight: regular;\">Rice</span> <span style=\"color: black; font-weight: regular;\">and</span> <span style=\"color: black; font-weight: regular;\">a</span> <span style=\"color: black; font-weight: regular;\">lot</span> <span style=\"color: black; font-weight: regular;\">of</span> <span style=\"color: black; font-weight: regular;\">administration</span> <span style=\"color: black; font-weight: regular;\">officials</span> <span style=\"color: black; font-weight: regular;\">basically</span> <span style=\"color: black; font-weight: regular;\">sold</span> <span style=\"color: black; font-weight: regular;\">um</span> <span style=\"color: black; font-weight: regular;\">a</span> <span style=\"color: black; font-weight: regular;\">war</span> <span style=\"color: black; font-weight: regular;\">to</span> <span style=\"color: black; font-weight: regular;\">the</span> <span style=\"color: black; font-weight: regular;\">American</span> <span style=\"color: black; font-weight: regular;\">public</span> <span style=\"color: black; font-weight: regular;\">based</span> <span style=\"color: black; font-weight: regular;\">on</span> <span style=\"color: black; font-weight: regular;\">lies</span> <span style=\"color: black; font-weight: regular;\">/</span> <span style=\"color: black; font-weight: regular;\">.</span> <span style=\"color: black; font-weight: regular;\">Well</span> <span style=\"color: black; font-weight: regular;\">not</span> <span style=\"color: black; font-weight: regular;\">just</span> <span style=\"color: blue; font-weight: bold;\">Rove</span> <span style=\"color: black; font-weight: regular;\">though</span> <span style=\"color: black; font-weight: regular;\">/</span> <span style=\"color: black; font-weight: regular;\">.</span>"
      ],
      "text/plain": [
       "<IPython.core.display.HTML object>"
      ]
     },
     "metadata": {},
     "output_type": "display_data"
    },
    {
     "name": "stdout",
     "output_type": "stream",
     "text": [
      "---\n"
     ]
    },
    {
     "data": {
      "text/html": [
       "<span style=\"color: black; font-weight: regular;\">That</span> <span style=\"color: black; font-weight: regular;\">seems</span> <span style=\"color: black; font-weight: regular;\">to</span> <span style=\"color: black; font-weight: regular;\">be</span> <span style=\"color: black; font-weight: regular;\">the</span> <span style=\"color: black; font-weight: regular;\">nature</span> <span style=\"color: black; font-weight: regular;\">of</span> <span style=\"color: black; font-weight: regular;\">man</span> <span style=\"color: black; font-weight: regular;\">,</span> <span style=\"color: black; font-weight: regular;\">though</span> <span style=\"color: black; font-weight: regular;\">.</span> <span style=\"color: black; font-weight: regular;\">We</span> <span style=\"color: black; font-weight: regular;\">have</span> <span style=\"color: black; font-weight: regular;\">all</span> <span style=\"color: black; font-weight: regular;\">got</span> <span style=\"color: black; font-weight: regular;\">to</span> <span style=\"color: black; font-weight: regular;\">do</span> <span style=\"color: black; font-weight: regular;\">what</span> <span style=\"color: black; font-weight: regular;\">we</span> <span style=\"color: black; font-weight: regular;\">can</span> <span style=\"color: black; font-weight: regular;\">without</span> <span style=\"color: black; font-weight: regular;\">needlessly</span> <span style=\"color: black; font-weight: regular;\">attacking</span> <span style=\"color: black; font-weight: regular;\">the</span> <span style=\"color: black; font-weight: regular;\">innocent</span> <span style=\"color: black; font-weight: regular;\">.</span>"
      ],
      "text/plain": [
       "<IPython.core.display.HTML object>"
      ]
     },
     "metadata": {},
     "output_type": "display_data"
    },
    {
     "data": {
      "text/html": [
       "<span style=\"color: black; font-weight: regular;\">We</span> <span style=\"color: black; font-weight: regular;\">have</span> <span style=\"color: black; font-weight: regular;\">all</span> <span style=\"color: black; font-weight: regular;\">got</span> <span style=\"color: black; font-weight: regular;\">to</span> <span style=\"color: black; font-weight: regular;\">do</span> <span style=\"color: black; font-weight: regular;\">what</span> <span style=\"color: black; font-weight: regular;\">we</span> <span style=\"color: black; font-weight: regular;\">can</span> <span style=\"color: black; font-weight: regular;\">without</span> <span style=\"color: black; font-weight: regular;\">needlessly</span> <span style=\"color: black; font-weight: regular;\">attacking</span> <span style=\"color: black; font-weight: regular;\">the</span> <span style=\"color: black; font-weight: regular;\">innocent</span> <span style=\"color: black; font-weight: regular;\">.</span> <span style=\"color: black; font-weight: regular;\">That</span> <span style=\"color: black; font-weight: regular;\">seems</span> <span style=\"color: black; font-weight: regular;\">to</span> <span style=\"color: black; font-weight: regular;\">be</span> <span style=\"color: black; font-weight: regular;\">the</span> <span style=\"color: black; font-weight: regular;\">nature</span> <span style=\"color: black; font-weight: regular;\">of</span> <span style=\"color: black; font-weight: regular;\">man</span> <span style=\"color: black; font-weight: regular;\">,</span> <span style=\"color: black; font-weight: regular;\">though</span> <span style=\"color: black; font-weight: regular;\">.</span>"
      ],
      "text/plain": [
       "<IPython.core.display.HTML object>"
      ]
     },
     "metadata": {},
     "output_type": "display_data"
    },
    {
     "name": "stdout",
     "output_type": "stream",
     "text": [
      "---\n"
     ]
    },
    {
     "data": {
      "text/html": [
       "<span style=\"color: black; font-weight: regular;\">I</span> <span style=\"color: black; font-weight: regular;\">do</span> <span style=\"color: black; font-weight: regular;\">n't</span> <span style=\"color: black; font-weight: regular;\">think</span> <span style=\"color: black; font-weight: regular;\">we</span> <span style=\"color: black; font-weight: regular;\">need</span> <span style=\"color: black; font-weight: regular;\">see</span> <span style=\"color: black; font-weight: regular;\">a</span> <span style=\"color: black; font-weight: regular;\">plot</span> <span style=\"color: black; font-weight: regular;\">in</span> <span style=\"color: black; font-weight: regular;\">every</span> <span style=\"color: black; font-weight: regular;\">wood</span> <span style=\"color: black; font-weight: regular;\">pile</span> <span style=\"color: black; font-weight: regular;\">.</span> <span style=\"color: blue; font-weight: bold;\">The</span> <span style=\"color: blue; font-weight: bold;\">JW</span> <span style=\"color: black; font-weight: regular;\">considers</span> <span style=\"color: blue; font-weight: bold;\">itself</span> <span style=\"color: black; font-weight: regular;\">THE</span> <span style=\"color: black; font-weight: regular;\">kingdom</span> <span style=\"color: black; font-weight: regular;\">of</span> <span style=\"color: black; font-weight: regular;\">God</span> <span style=\"color: black; font-weight: regular;\">on</span> <span style=\"color: black; font-weight: regular;\">earth</span> <span style=\"color: black; font-weight: regular;\">.</span>"
      ],
      "text/plain": [
       "<IPython.core.display.HTML object>"
      ]
     },
     "metadata": {},
     "output_type": "display_data"
    },
    {
     "data": {
      "text/html": [
       "<span style=\"color: black; font-weight: regular;\">The</span> <span style=\"color: black; font-weight: regular;\">JW</span> <span style=\"color: black; font-weight: regular;\">considers</span> <span style=\"color: black; font-weight: regular;\">itself</span> <span style=\"color: black; font-weight: regular;\">THE</span> <span style=\"color: black; font-weight: regular;\">kingdom</span> <span style=\"color: black; font-weight: regular;\">of</span> <span style=\"color: black; font-weight: regular;\">God</span> <span style=\"color: black; font-weight: regular;\">on</span> <span style=\"color: black; font-weight: regular;\">earth</span> <span style=\"color: black; font-weight: regular;\">.</span> <span style=\"color: black; font-weight: regular;\">I</span> <span style=\"color: black; font-weight: regular;\">do</span> <span style=\"color: black; font-weight: regular;\">n't</span> <span style=\"color: black; font-weight: regular;\">think</span> <span style=\"color: black; font-weight: regular;\">we</span> <span style=\"color: black; font-weight: regular;\">need</span> <span style=\"color: black; font-weight: regular;\">see</span> <span style=\"color: black; font-weight: regular;\">a</span> <span style=\"color: black; font-weight: regular;\">plot</span> <span style=\"color: black; font-weight: regular;\">in</span> <span style=\"color: black; font-weight: regular;\">every</span> <span style=\"color: black; font-weight: regular;\">wood</span> <span style=\"color: black; font-weight: regular;\">pile</span> <span style=\"color: black; font-weight: regular;\">.</span>"
      ],
      "text/plain": [
       "<IPython.core.display.HTML object>"
      ]
     },
     "metadata": {},
     "output_type": "display_data"
    },
    {
     "name": "stdout",
     "output_type": "stream",
     "text": [
      "---\n"
     ]
    },
    {
     "data": {
      "text/html": [
       "<span style=\"color: black; font-weight: regular;\">We</span> <span style=\"color: black; font-weight: regular;\">want</span> <span style=\"color: black; font-weight: regular;\">to</span> <span style=\"color: black; font-weight: regular;\">see</span> <span style=\"color: black; font-weight: regular;\">China</span> <span style=\"color: black; font-weight: regular;\">push</span> <span style=\"color: black; font-weight: regular;\">forward</span> <span style=\"color: black; font-weight: regular;\">and</span> <span style=\"color: black; font-weight: regular;\">ask</span> <span style=\"color: blue; font-weight: bold;\">the</span> <span style=\"color: blue; font-weight: bold;\">North</span> <span style=\"color: blue; font-weight: bold;\">Koreans</span> <span style=\"color: black; font-weight: regular;\">to</span> <span style=\"color: black; font-weight: regular;\">meet</span> <span style=\"color: black; font-weight: regular;\">these</span> <span style=\"color: black; font-weight: regular;\">commitments</span> <span style=\"color: black; font-weight: regular;\">that</span> <span style=\"color: blue; font-weight: bold;\">they</span> <span style=\"color: black; font-weight: regular;\">'ve</span> <span style=\"color: black; font-weight: regular;\">made</span> <span style=\"color: black; font-weight: regular;\">to</span> <span style=\"color: black; font-weight: regular;\">all</span> <span style=\"color: black; font-weight: regular;\">of</span> <span style=\"color: black; font-weight: regular;\">us</span> <span style=\"color: black; font-weight: regular;\">/</span> <span style=\"color: black; font-weight: regular;\">.</span> <span style=\"color: black; font-weight: regular;\">Speaker</span> <span style=\"color: black; font-weight: regular;\">Newt</span> <span style=\"color: black; font-weight: regular;\">Gingrich</span> <span style=\"color: black; font-weight: regular;\">the</span> <span style=\"color: black; font-weight: regular;\">former</span> <span style=\"color: black; font-weight: regular;\">speaker</span> <span style=\"color: black; font-weight: regular;\">Republican</span> <span style=\"color: black; font-weight: regular;\">weighed</span> <span style=\"color: black; font-weight: regular;\">in</span> <span style=\"color: black; font-weight: regular;\">on</span> <span style=\"color: black; font-weight: regular;\">this</span> <span style=\"color: black; font-weight: regular;\">debate</span> <span style=\"color: black; font-weight: regular;\">in</span> <span style=\"color: black; font-weight: regular;\">this</span> <span style=\"color: black; font-weight: regular;\">way</span> <span style=\"color: black; font-weight: regular;\">/</span> <span style=\"color: black; font-weight: regular;\">.</span>"
      ],
      "text/plain": [
       "<IPython.core.display.HTML object>"
      ]
     },
     "metadata": {},
     "output_type": "display_data"
    },
    {
     "data": {
      "text/html": [
       "<span style=\"color: black; font-weight: regular;\">Speaker</span> <span style=\"color: black; font-weight: regular;\">Newt</span> <span style=\"color: black; font-weight: regular;\">Gingrich</span> <span style=\"color: black; font-weight: regular;\">the</span> <span style=\"color: black; font-weight: regular;\">former</span> <span style=\"color: black; font-weight: regular;\">speaker</span> <span style=\"color: black; font-weight: regular;\">Republican</span> <span style=\"color: black; font-weight: regular;\">weighed</span> <span style=\"color: black; font-weight: regular;\">in</span> <span style=\"color: black; font-weight: regular;\">on</span> <span style=\"color: black; font-weight: regular;\">this</span> <span style=\"color: black; font-weight: regular;\">debate</span> <span style=\"color: black; font-weight: regular;\">in</span> <span style=\"color: black; font-weight: regular;\">this</span> <span style=\"color: black; font-weight: regular;\">way</span> <span style=\"color: black; font-weight: regular;\">/</span> <span style=\"color: black; font-weight: regular;\">.</span> <span style=\"color: black; font-weight: regular;\">We</span> <span style=\"color: black; font-weight: regular;\">want</span> <span style=\"color: black; font-weight: regular;\">to</span> <span style=\"color: black; font-weight: regular;\">see</span> <span style=\"color: black; font-weight: regular;\">China</span> <span style=\"color: black; font-weight: regular;\">push</span> <span style=\"color: black; font-weight: regular;\">forward</span> <span style=\"color: black; font-weight: regular;\">and</span> <span style=\"color: black; font-weight: regular;\">ask</span> <span style=\"color: blue; font-weight: bold;\">the</span> <span style=\"color: blue; font-weight: bold;\">North</span> <span style=\"color: blue; font-weight: bold;\">Koreans</span> <span style=\"color: black; font-weight: regular;\">to</span> <span style=\"color: black; font-weight: regular;\">meet</span> <span style=\"color: black; font-weight: regular;\">these</span> <span style=\"color: black; font-weight: regular;\">commitments</span> <span style=\"color: black; font-weight: regular;\">that</span> <span style=\"color: blue; font-weight: bold;\">they</span> <span style=\"color: black; font-weight: regular;\">'ve</span> <span style=\"color: black; font-weight: regular;\">made</span> <span style=\"color: black; font-weight: regular;\">to</span> <span style=\"color: black; font-weight: regular;\">all</span> <span style=\"color: black; font-weight: regular;\">of</span> <span style=\"color: black; font-weight: regular;\">us</span> <span style=\"color: black; font-weight: regular;\">/</span> <span style=\"color: black; font-weight: regular;\">.</span>"
      ],
      "text/plain": [
       "<IPython.core.display.HTML object>"
      ]
     },
     "metadata": {},
     "output_type": "display_data"
    },
    {
     "name": "stdout",
     "output_type": "stream",
     "text": [
      "---\n"
     ]
    },
    {
     "data": {
      "text/html": [
       "<span style=\"color: black; font-weight: regular;\">It</span> <span style=\"color: black; font-weight: regular;\">would</span> <span style=\"color: black; font-weight: regular;\">be</span> <span style=\"color: black; font-weight: regular;\">irresponsible</span> <span style=\"color: black; font-weight: regular;\">I</span> <span style=\"color: black; font-weight: regular;\">think</span> <span style=\"color: black; font-weight: regular;\">for</span> <span style=\"color: black; font-weight: regular;\">the</span> <span style=\"color: black; font-weight: regular;\">media</span> <span style=\"color: black; font-weight: regular;\">not</span> <span style=\"color: black; font-weight: regular;\">to</span> <span style=\"color: black; font-weight: regular;\">reflect</span> <span style=\"color: black; font-weight: regular;\">what</span> <span style=\"color: black; font-weight: regular;\">the</span> <span style=\"color: black; font-weight: regular;\">discussion</span> <span style=\"color: black; font-weight: regular;\">is</span> <span style=\"color: black; font-weight: regular;\">here</span> <span style=\"color: black; font-weight: regular;\">in</span> <span style=\"color: blue; font-weight: bold;\">town</span> <span style=\"color: blue; font-weight: bold;\">/</span> <span style=\"color: black; font-weight: regular;\">.</span> <span style=\"color: black; font-weight: regular;\">And</span> <span style=\"color: black; font-weight: regular;\">there</span> <span style=\"color: black; font-weight: regular;\">are</span> <span style=\"color: black; font-weight: regular;\">plenty</span> <span style=\"color: black; font-weight: regular;\">of</span> <span style=\"color: black; font-weight: regular;\">Republicans</span> <span style=\"color: black; font-weight: regular;\">mostly</span> <span style=\"color: black; font-weight: regular;\">Republicans</span> <span style=\"color: black; font-weight: regular;\">who</span> <span style=\"color: black; font-weight: regular;\">are</span> <span style=\"color: black; font-weight: regular;\">worried</span> <span style=\"color: black; font-weight: regular;\">about</span> <span style=\"color: blue; font-weight: bold;\">this</span> <span style=\"color: blue; font-weight: bold;\">/</span> <span style=\"color: black; font-weight: regular;\">.</span>"
      ],
      "text/plain": [
       "<IPython.core.display.HTML object>"
      ]
     },
     "metadata": {},
     "output_type": "display_data"
    },
    {
     "data": {
      "text/html": [
       "<span style=\"color: black; font-weight: regular;\">And</span> <span style=\"color: black; font-weight: regular;\">there</span> <span style=\"color: black; font-weight: regular;\">are</span> <span style=\"color: black; font-weight: regular;\">plenty</span> <span style=\"color: black; font-weight: regular;\">of</span> <span style=\"color: black; font-weight: regular;\">Republicans</span> <span style=\"color: black; font-weight: regular;\">mostly</span> <span style=\"color: black; font-weight: regular;\">Republicans</span> <span style=\"color: black; font-weight: regular;\">who</span> <span style=\"color: black; font-weight: regular;\">are</span> <span style=\"color: black; font-weight: regular;\">worried</span> <span style=\"color: black; font-weight: regular;\">about</span> <span style=\"color: black; font-weight: regular;\">this</span> <span style=\"color: black; font-weight: regular;\">/</span> <span style=\"color: black; font-weight: regular;\">.</span> <span style=\"color: black; font-weight: regular;\">It</span> <span style=\"color: black; font-weight: regular;\">would</span> <span style=\"color: black; font-weight: regular;\">be</span> <span style=\"color: black; font-weight: regular;\">irresponsible</span> <span style=\"color: black; font-weight: regular;\">I</span> <span style=\"color: black; font-weight: regular;\">think</span> <span style=\"color: black; font-weight: regular;\">for</span> <span style=\"color: black; font-weight: regular;\">the</span> <span style=\"color: black; font-weight: regular;\">media</span> <span style=\"color: black; font-weight: regular;\">not</span> <span style=\"color: black; font-weight: regular;\">to</span> <span style=\"color: black; font-weight: regular;\">reflect</span> <span style=\"color: black; font-weight: regular;\">what</span> <span style=\"color: black; font-weight: regular;\">the</span> <span style=\"color: black; font-weight: regular;\">discussion</span> <span style=\"color: black; font-weight: regular;\">is</span> <span style=\"color: black; font-weight: regular;\">here</span> <span style=\"color: black; font-weight: regular;\">in</span> <span style=\"color: black; font-weight: regular;\">town</span> <span style=\"color: black; font-weight: regular;\">/</span> <span style=\"color: black; font-weight: regular;\">.</span>"
      ],
      "text/plain": [
       "<IPython.core.display.HTML object>"
      ]
     },
     "metadata": {},
     "output_type": "display_data"
    },
    {
     "name": "stdout",
     "output_type": "stream",
     "text": [
      "---\n"
     ]
    },
    {
     "data": {
      "text/html": [
       "<span style=\"color: blue; font-weight: bold;\">The</span> <span style=\"color: blue; font-weight: bold;\">Box</span> <span style=\"color: black; font-weight: regular;\">was</span> <span style=\"color: black; font-weight: regular;\">covered</span> <span style=\"color: black; font-weight: regular;\">with</span> <span style=\"color: black; font-weight: regular;\">gold</span> <span style=\"color: black; font-weight: regular;\">.</span> <span style=\"color: black; font-weight: regular;\">Inside</span> <span style=\"color: blue; font-weight: bold;\">this</span> <span style=\"color: blue; font-weight: bold;\">Box</span> <span style=\"color: black; font-weight: regular;\">was</span> <span style=\"color: black; font-weight: regular;\">a</span> <span style=\"color: black; font-weight: regular;\">golden</span> <span style=\"color: black; font-weight: regular;\">jar</span> <span style=\"color: black; font-weight: regular;\">of</span> <span style=\"color: black; font-weight: regular;\">manna</span> <span style=\"color: black; font-weight: regular;\">and</span> <span style=\"color: black; font-weight: regular;\">Aaron</span> <span style=\"color: black; font-weight: regular;\">'s</span> <span style=\"color: black; font-weight: regular;\">rod</span> <span style=\"color: black; font-weight: regular;\">--</span> <span style=\"color: black; font-weight: regular;\">the</span> <span style=\"color: black; font-weight: regular;\">rod</span> <span style=\"color: black; font-weight: regular;\">that</span> <span style=\"color: black; font-weight: regular;\">once</span> <span style=\"color: black; font-weight: regular;\">grew</span> <span style=\"color: black; font-weight: regular;\">leaves</span> <span style=\"color: black; font-weight: regular;\">.</span>"
      ],
      "text/plain": [
       "<IPython.core.display.HTML object>"
      ]
     },
     "metadata": {},
     "output_type": "display_data"
    },
    {
     "data": {
      "text/html": [
       "<span style=\"color: black; font-weight: regular;\">Inside</span> <span style=\"color: blue; font-weight: bold;\">this</span> <span style=\"color: blue; font-weight: bold;\">Box</span> <span style=\"color: black; font-weight: regular;\">was</span> <span style=\"color: black; font-weight: regular;\">a</span> <span style=\"color: black; font-weight: regular;\">golden</span> <span style=\"color: black; font-weight: regular;\">jar</span> <span style=\"color: black; font-weight: regular;\">of</span> <span style=\"color: black; font-weight: regular;\">manna</span> <span style=\"color: black; font-weight: regular;\">and</span> <span style=\"color: black; font-weight: regular;\">Aaron</span> <span style=\"color: black; font-weight: regular;\">'s</span> <span style=\"color: black; font-weight: regular;\">rod</span> <span style=\"color: black; font-weight: regular;\">--</span> <span style=\"color: black; font-weight: regular;\">the</span> <span style=\"color: black; font-weight: regular;\">rod</span> <span style=\"color: black; font-weight: regular;\">that</span> <span style=\"color: black; font-weight: regular;\">once</span> <span style=\"color: black; font-weight: regular;\">grew</span> <span style=\"color: black; font-weight: regular;\">leaves</span> <span style=\"color: black; font-weight: regular;\">.</span> <span style=\"color: blue; font-weight: bold;\">The</span> <span style=\"color: blue; font-weight: bold;\">Box</span> <span style=\"color: black; font-weight: regular;\">was</span> <span style=\"color: black; font-weight: regular;\">covered</span> <span style=\"color: black; font-weight: regular;\">with</span> <span style=\"color: black; font-weight: regular;\">gold</span> <span style=\"color: black; font-weight: regular;\">.</span>"
      ],
      "text/plain": [
       "<IPython.core.display.HTML object>"
      ]
     },
     "metadata": {},
     "output_type": "display_data"
    },
    {
     "name": "stdout",
     "output_type": "stream",
     "text": [
      "---\n"
     ]
    },
    {
     "data": {
      "text/html": [
       "<span style=\"color: black; font-weight: regular;\">High</span> <span style=\"color: black; font-weight: regular;\">-</span> <span style=\"color: black; font-weight: regular;\">rises</span> <span style=\"color: black; font-weight: regular;\">are</span> <span style=\"color: black; font-weight: regular;\">thought</span> <span style=\"color: black; font-weight: regular;\">by</span> <span style=\"color: black; font-weight: regular;\">many</span> <span style=\"color: black; font-weight: regular;\">to</span> <span style=\"color: black; font-weight: regular;\">represent</span> <span style=\"color: black; font-weight: regular;\">development</span> <span style=\"color: black; font-weight: regular;\">,</span> <span style=\"color: black; font-weight: regular;\">but</span> <span style=\"color: black; font-weight: regular;\">in</span> <span style=\"color: black; font-weight: regular;\">Tanshui</span> <span style=\"color: black; font-weight: regular;\">they</span> <span style=\"color: black; font-weight: regular;\">are</span> <span style=\"color: black; font-weight: regular;\">ruining</span> <span style=\"color: black; font-weight: regular;\">the</span> <span style=\"color: black; font-weight: regular;\">skyline</span> <span style=\"color: black; font-weight: regular;\">and</span> <span style=\"color: black; font-weight: regular;\">the</span> <span style=\"color: black; font-weight: regular;\">historic</span> <span style=\"color: black; font-weight: regular;\">ambience</span> <span style=\"color: black; font-weight: regular;\">of</span> <span style=\"color: black; font-weight: regular;\">the</span> <span style=\"color: black; font-weight: regular;\">town</span> <span style=\"color: black; font-weight: regular;\">.</span> <span style=\"color: black; font-weight: regular;\">p.</span> <span style=\"color: black; font-weight: regular;\">095</span>"
      ],
      "text/plain": [
       "<IPython.core.display.HTML object>"
      ]
     },
     "metadata": {},
     "output_type": "display_data"
    },
    {
     "data": {
      "text/html": [
       "<span style=\"color: black; font-weight: regular;\">p.</span> <span style=\"color: black; font-weight: regular;\">095</span> <span style=\"color: blue; font-weight: bold;\">High</span> <span style=\"color: blue; font-weight: bold;\">-</span> <span style=\"color: blue; font-weight: bold;\">rises</span> <span style=\"color: black; font-weight: regular;\">are</span> <span style=\"color: black; font-weight: regular;\">thought</span> <span style=\"color: black; font-weight: regular;\">by</span> <span style=\"color: black; font-weight: regular;\">many</span> <span style=\"color: black; font-weight: regular;\">to</span> <span style=\"color: black; font-weight: regular;\">represent</span> <span style=\"color: black; font-weight: regular;\">development</span> <span style=\"color: black; font-weight: regular;\">,</span> <span style=\"color: black; font-weight: regular;\">but</span> <span style=\"color: black; font-weight: regular;\">in</span> <span style=\"color: black; font-weight: regular;\">Tanshui</span> <span style=\"color: blue; font-weight: bold;\">they</span> <span style=\"color: black; font-weight: regular;\">are</span> <span style=\"color: black; font-weight: regular;\">ruining</span> <span style=\"color: black; font-weight: regular;\">the</span> <span style=\"color: black; font-weight: regular;\">skyline</span> <span style=\"color: black; font-weight: regular;\">and</span> <span style=\"color: black; font-weight: regular;\">the</span> <span style=\"color: black; font-weight: regular;\">historic</span> <span style=\"color: black; font-weight: regular;\">ambience</span> <span style=\"color: black; font-weight: regular;\">of</span> <span style=\"color: black; font-weight: regular;\">the</span> <span style=\"color: black; font-weight: regular;\">town</span> <span style=\"color: black; font-weight: regular;\">.</span>"
      ],
      "text/plain": [
       "<IPython.core.display.HTML object>"
      ]
     },
     "metadata": {},
     "output_type": "display_data"
    },
    {
     "name": "stdout",
     "output_type": "stream",
     "text": [
      "---\n"
     ]
    },
    {
     "data": {
      "text/html": [
       "<span style=\"color: black; font-weight: regular;\">Now</span> <span style=\"color: black; font-weight: regular;\">,</span> <span style=\"color: blue; font-weight: bold;\">GM</span> <span style=\"color: black; font-weight: regular;\">appears</span> <span style=\"color: black; font-weight: regular;\">to</span> <span style=\"color: black; font-weight: regular;\">be</span> <span style=\"color: black; font-weight: regular;\">stepping</span> <span style=\"color: black; font-weight: regular;\">up</span> <span style=\"color: black; font-weight: regular;\">the</span> <span style=\"color: black; font-weight: regular;\">pace</span> <span style=\"color: black; font-weight: regular;\">of</span> <span style=\"color: blue; font-weight: bold;\">its</span> <span style=\"color: black; font-weight: regular;\">factory</span> <span style=\"color: black; font-weight: regular;\">consolidation</span> <span style=\"color: black; font-weight: regular;\">to</span> <span style=\"color: black; font-weight: regular;\">get</span> <span style=\"color: black; font-weight: regular;\">in</span> <span style=\"color: black; font-weight: regular;\">shape</span> <span style=\"color: black; font-weight: regular;\">for</span> <span style=\"color: black; font-weight: regular;\">the</span> <span style=\"color: black; font-weight: regular;\">1990s</span> <span style=\"color: black; font-weight: regular;\">.</span> <span style=\"color: black; font-weight: regular;\">One</span> <span style=\"color: black; font-weight: regular;\">reason</span> <span style=\"color: black; font-weight: regular;\">is</span> <span style=\"color: black; font-weight: regular;\">mounting</span> <span style=\"color: black; font-weight: regular;\">competition</span> <span style=\"color: black; font-weight: regular;\">from</span> <span style=\"color: black; font-weight: regular;\">new</span> <span style=\"color: black; font-weight: regular;\">Japanese</span> <span style=\"color: black; font-weight: regular;\">car</span> <span style=\"color: black; font-weight: regular;\">plants</span> <span style=\"color: black; font-weight: regular;\">in</span> <span style=\"color: black; font-weight: regular;\">the</span> <span style=\"color: black; font-weight: regular;\">U.S.</span> <span style=\"color: black; font-weight: regular;\">that</span> <span style=\"color: black; font-weight: regular;\">are</span> <span style=\"color: black; font-weight: regular;\">pouring</span> <span style=\"color: black; font-weight: regular;\">out</span> <span style=\"color: black; font-weight: regular;\">more</span> <span style=\"color: black; font-weight: regular;\">than</span> <span style=\"color: black; font-weight: regular;\">one</span> <span style=\"color: black; font-weight: regular;\">million</span> <span style=\"color: black; font-weight: regular;\">vehicles</span> <span style=\"color: black; font-weight: regular;\">a</span> <span style=\"color: black; font-weight: regular;\">year</span> <span style=\"color: black; font-weight: regular;\">at</span> <span style=\"color: black; font-weight: regular;\">costs</span> <span style=\"color: black; font-weight: regular;\">lower</span> <span style=\"color: black; font-weight: regular;\">than</span> <span style=\"color: blue; font-weight: bold;\">GM</span> <span style=\"color: black; font-weight: regular;\">can</span> <span style=\"color: black; font-weight: regular;\">match</span> <span style=\"color: black; font-weight: regular;\">.</span>"
      ],
      "text/plain": [
       "<IPython.core.display.HTML object>"
      ]
     },
     "metadata": {},
     "output_type": "display_data"
    },
    {
     "data": {
      "text/html": [
       "<span style=\"color: black; font-weight: regular;\">One</span> <span style=\"color: black; font-weight: regular;\">reason</span> <span style=\"color: black; font-weight: regular;\">is</span> <span style=\"color: black; font-weight: regular;\">mounting</span> <span style=\"color: black; font-weight: regular;\">competition</span> <span style=\"color: black; font-weight: regular;\">from</span> <span style=\"color: black; font-weight: regular;\">new</span> <span style=\"color: black; font-weight: regular;\">Japanese</span> <span style=\"color: black; font-weight: regular;\">car</span> <span style=\"color: black; font-weight: regular;\">plants</span> <span style=\"color: black; font-weight: regular;\">in</span> <span style=\"color: black; font-weight: regular;\">the</span> <span style=\"color: black; font-weight: regular;\">U.S.</span> <span style=\"color: black; font-weight: regular;\">that</span> <span style=\"color: black; font-weight: regular;\">are</span> <span style=\"color: black; font-weight: regular;\">pouring</span> <span style=\"color: black; font-weight: regular;\">out</span> <span style=\"color: black; font-weight: regular;\">more</span> <span style=\"color: black; font-weight: regular;\">than</span> <span style=\"color: black; font-weight: regular;\">one</span> <span style=\"color: black; font-weight: regular;\">million</span> <span style=\"color: black; font-weight: regular;\">vehicles</span> <span style=\"color: black; font-weight: regular;\">a</span> <span style=\"color: black; font-weight: regular;\">year</span> <span style=\"color: black; font-weight: regular;\">at</span> <span style=\"color: black; font-weight: regular;\">costs</span> <span style=\"color: black; font-weight: regular;\">lower</span> <span style=\"color: black; font-weight: regular;\">than</span> <span style=\"color: blue; font-weight: bold;\">GM</span> <span style=\"color: black; font-weight: regular;\">can</span> <span style=\"color: black; font-weight: regular;\">match</span> <span style=\"color: black; font-weight: regular;\">.</span> <span style=\"color: black; font-weight: regular;\">Now</span> <span style=\"color: black; font-weight: regular;\">,</span> <span style=\"color: blue; font-weight: bold;\">GM</span> <span style=\"color: black; font-weight: regular;\">appears</span> <span style=\"color: black; font-weight: regular;\">to</span> <span style=\"color: black; font-weight: regular;\">be</span> <span style=\"color: black; font-weight: regular;\">stepping</span> <span style=\"color: black; font-weight: regular;\">up</span> <span style=\"color: black; font-weight: regular;\">the</span> <span style=\"color: black; font-weight: regular;\">pace</span> <span style=\"color: black; font-weight: regular;\">of</span> <span style=\"color: blue; font-weight: bold;\">its</span> <span style=\"color: black; font-weight: regular;\">factory</span> <span style=\"color: black; font-weight: regular;\">consolidation</span> <span style=\"color: black; font-weight: regular;\">to</span> <span style=\"color: black; font-weight: regular;\">get</span> <span style=\"color: black; font-weight: regular;\">in</span> <span style=\"color: black; font-weight: regular;\">shape</span> <span style=\"color: black; font-weight: regular;\">for</span> <span style=\"color: black; font-weight: regular;\">the</span> <span style=\"color: black; font-weight: regular;\">1990s</span> <span style=\"color: black; font-weight: regular;\">.</span>"
      ],
      "text/plain": [
       "<IPython.core.display.HTML object>"
      ]
     },
     "metadata": {},
     "output_type": "display_data"
    },
    {
     "name": "stdout",
     "output_type": "stream",
     "text": [
      "---\n"
     ]
    },
    {
     "data": {
      "text/html": [
       "<span style=\"color: blue; font-weight: bold;\">Kim</span> <span style=\"color: blue; font-weight: bold;\">Jong</span> <span style=\"color: blue; font-weight: bold;\">-</span> <span style=\"color: blue; font-weight: bold;\">Il</span> <span style=\"color: black; font-weight: regular;\">is</span> <span style=\"color: black; font-weight: regular;\">a</span> <span style=\"color: black; font-weight: regular;\">despot</span> <span style=\"color: black; font-weight: regular;\">/</span> <span style=\"color: black; font-weight: regular;\">.</span> <span style=\"color: black; font-weight: regular;\">And</span> <span style=\"color: blue; font-weight: bold;\">he</span> <span style=\"color: black; font-weight: regular;\">is</span> <span style=\"color: black; font-weight: regular;\">someone</span> <span style=\"color: black; font-weight: regular;\">who</span> <span style=\"color: black; font-weight: regular;\">is</span> <span style=\"color: black; font-weight: regular;\">one</span> <span style=\"color: black; font-weight: regular;\">of</span> <span style=\"color: black; font-weight: regular;\">the</span> <span style=\"color: black; font-weight: regular;\">worst</span> <span style=\"color: black; font-weight: regular;\">offenders</span> <span style=\"color: black; font-weight: regular;\">of</span> <span style=\"color: black; font-weight: regular;\">human</span> <span style=\"color: black; font-weight: regular;\">rights</span> <span style=\"color: black; font-weight: regular;\">all</span> <span style=\"color: black; font-weight: regular;\">over</span> <span style=\"color: black; font-weight: regular;\">the</span> <span style=\"color: black; font-weight: regular;\">world</span> <span style=\"color: black; font-weight: regular;\">/</span> <span style=\"color: black; font-weight: regular;\">.</span>"
      ],
      "text/plain": [
       "<IPython.core.display.HTML object>"
      ]
     },
     "metadata": {},
     "output_type": "display_data"
    },
    {
     "data": {
      "text/html": [
       "<span style=\"color: black; font-weight: regular;\">And</span> <span style=\"color: black; font-weight: regular;\">he</span> <span style=\"color: black; font-weight: regular;\">is</span> <span style=\"color: black; font-weight: regular;\">someone</span> <span style=\"color: black; font-weight: regular;\">who</span> <span style=\"color: black; font-weight: regular;\">is</span> <span style=\"color: black; font-weight: regular;\">one</span> <span style=\"color: black; font-weight: regular;\">of</span> <span style=\"color: black; font-weight: regular;\">the</span> <span style=\"color: black; font-weight: regular;\">worst</span> <span style=\"color: black; font-weight: regular;\">offenders</span> <span style=\"color: black; font-weight: regular;\">of</span> <span style=\"color: black; font-weight: regular;\">human</span> <span style=\"color: black; font-weight: regular;\">rights</span> <span style=\"color: black; font-weight: regular;\">all</span> <span style=\"color: black; font-weight: regular;\">over</span> <span style=\"color: black; font-weight: regular;\">the</span> <span style=\"color: black; font-weight: regular;\">world</span> <span style=\"color: black; font-weight: regular;\">/</span> <span style=\"color: black; font-weight: regular;\">.</span> <span style=\"color: black; font-weight: regular;\">Kim</span> <span style=\"color: black; font-weight: regular;\">Jong</span> <span style=\"color: black; font-weight: regular;\">-</span> <span style=\"color: black; font-weight: regular;\">Il</span> <span style=\"color: black; font-weight: regular;\">is</span> <span style=\"color: black; font-weight: regular;\">a</span> <span style=\"color: black; font-weight: regular;\">despot</span> <span style=\"color: black; font-weight: regular;\">/</span> <span style=\"color: black; font-weight: regular;\">.</span>"
      ],
      "text/plain": [
       "<IPython.core.display.HTML object>"
      ]
     },
     "metadata": {},
     "output_type": "display_data"
    },
    {
     "name": "stdout",
     "output_type": "stream",
     "text": [
      "---\n"
     ]
    }
   ],
   "source": [
    "pairs = random.sample([\n",
    "    (s1, s2) for doc in random.sample(c.documents, 100)\n",
    "    for s1, s2 in pairwise(doc.sents())\n",
    "], 100)\n",
    "\n",
    "for sent1, sent2 in pairs:\n",
    "\n",
    "    try:\n",
    "\n",
    "        tokens1 = [t.text for t in sent1]\n",
    "        tokens2 = [t.text for t in sent2]\n",
    "\n",
    "        d1 = Document.from_text(' '.join(tokens1 + tokens2))\n",
    "        d2 = Document.from_text(' '.join(tokens2 + tokens1))\n",
    "\n",
    "        display(viz_clusters(d1))\n",
    "        display(viz_clusters(d2))\n",
    "\n",
    "    except Exception as e:\n",
    "        print(e)\n",
    "\n",
    "    print('---')"
   ]
  },
  {
   "cell_type": "code",
   "execution_count": null,
   "metadata": {},
   "outputs": [],
   "source": []
  }
 ],
 "metadata": {
  "kernelspec": {
   "display_name": "Python 3",
   "language": "python",
   "name": "python3"
  },
  "language_info": {
   "codemirror_mode": {
    "name": "ipython",
    "version": 3
   },
   "file_extension": ".py",
   "mimetype": "text/x-python",
   "name": "python",
   "nbconvert_exporter": "python",
   "pygments_lexer": "ipython3",
   "version": "3.6.5"
  }
 },
 "nbformat": 4,
 "nbformat_minor": 2
}
