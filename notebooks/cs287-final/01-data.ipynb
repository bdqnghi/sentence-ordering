{
 "cells": [
  {
   "cell_type": "code",
   "execution_count": 33,
   "metadata": {},
   "outputs": [],
   "source": [
    "import attr\n",
    "import re"
   ]
  },
  {
   "cell_type": "code",
   "execution_count": 34,
   "metadata": {},
   "outputs": [],
   "source": [
    "def parse_int(text):\n",
    "    matches = re.findall('[0-9]+', text)\n",
    "    return int(matches[0]) if matches else None"
   ]
  },
  {
   "cell_type": "code",
   "execution_count": 35,
   "metadata": {},
   "outputs": [],
   "source": [
    "@attr.s\n",
    "class Token:\n",
    "    \n",
    "    text = attr.ib()\n",
    "    label = attr.ib()"
   ]
  },
  {
   "cell_type": "code",
   "execution_count": 39,
   "metadata": {},
   "outputs": [],
   "source": [
    "@attr.s\n",
    "class GoldFile:\n",
    "    \n",
    "    path = attr.ib()\n",
    "    \n",
    "    def lines(self):\n",
    "        with open(self.path) as fh:\n",
    "            for line in fh:\n",
    "                line = line.strip()\n",
    "                if line and not line.startswith('#'):\n",
    "                    yield line.split()\n",
    "                    \n",
    "    def tokens(self):\n",
    "        open_tag = None\n",
    "        for line in self.lines():\n",
    "            \n",
    "            digit = parse_int(line[-1])\n",
    "            \n",
    "            if digit is not None and line[-1].startswith('('):\n",
    "                open_tag = digit\n",
    "                \n",
    "            yield Token(line[3], open_tag)\n",
    "                \n",
    "            if line[-1].endswith(')'):\n",
    "                open_tag = None"
   ]
  },
  {
   "cell_type": "code",
   "execution_count": 42,
   "metadata": {},
   "outputs": [],
   "source": [
    "gf = GoldFile('../../data/conll-2012-english/v4/data/train/data/english/annotations/bn/cnn/01/cnn_0104.v4_auto_conll')"
   ]
  },
  {
   "cell_type": "code",
   "execution_count": 43,
   "metadata": {},
   "outputs": [
    {
     "data": {
      "text/plain": [
       "[Token(text='United', label=None),\n",
       " Token(text='Nations', label=None),\n",
       " Token(text='health', label=None),\n",
       " Token(text='officials', label=None),\n",
       " Token(text='say', label=None),\n",
       " Token(text='the', label=None),\n",
       " Token(text='infection', label=None),\n",
       " Token(text='rate', label=None),\n",
       " Token(text='for', label=None),\n",
       " Token(text='new', label=None),\n",
       " Token(text='AIDS', label=0),\n",
       " Token(text='cases', label=None),\n",
       " Token(text='has', label=None),\n",
       " Token(text='remained', label=None),\n",
       " Token(text='constant', label=None),\n",
       " Token(text=',', label=None),\n",
       " Token(text='but', label=None),\n",
       " Token(text='the', label=None),\n",
       " Token(text='death', label=None),\n",
       " Token(text='rate', label=None),\n",
       " Token(text='is', label=None),\n",
       " Token(text='up', label=None),\n",
       " Token(text='.', label=None),\n",
       " Token(text='According', label=None),\n",
       " Token(text='to', label=None),\n",
       " Token(text='the', label=4),\n",
       " Token(text='World', label=4),\n",
       " Token(text='Health', label=4),\n",
       " Token(text='Organization', label=4),\n",
       " Token(text=',', label=None),\n",
       " Token(text='36', label=None),\n",
       " Token(text='million', label=None),\n",
       " Token(text='people', label=None),\n",
       " Token(text='worldwide', label=None),\n",
       " Token(text='are', label=None),\n",
       " Token(text='now', label=None),\n",
       " Token(text='infected', label=None),\n",
       " Token(text='with', label=None),\n",
       " Token(text='HIV', label=1),\n",
       " Token(text=',', label=None),\n",
       " Token(text='the', label=1),\n",
       " Token(text='virus', label=1),\n",
       " Token(text='that', label=1),\n",
       " Token(text='causes', label=1),\n",
       " Token(text='AIDS', label=0),\n",
       " Token(text='.', label=None),\n",
       " Token(text='The', label=4),\n",
       " Token(text='organization', label=4),\n",
       " Token(text='estimates', label=None),\n",
       " Token(text='there', label=None),\n",
       " Token(text='will', label=None),\n",
       " Token(text='be', label=None),\n",
       " Token(text='5.3', label=None),\n",
       " Token(text='million', label=None),\n",
       " Token(text='new', label=None),\n",
       " Token(text='cases', label=None),\n",
       " Token(text='this', label=3),\n",
       " Token(text='year', label=3),\n",
       " Token(text='.', label=None),\n",
       " Token(text='An', label=None),\n",
       " Token(text='estimated', label=None),\n",
       " Token(text='3', label=None),\n",
       " Token(text='million', label=None),\n",
       " Token(text='people', label=None),\n",
       " Token(text='will', label=None),\n",
       " Token(text='die', label=2),\n",
       " Token(text='from', label=None),\n",
       " Token(text='AIDS', label=0),\n",
       " Token(text='this', label=3),\n",
       " Token(text='year', label=3),\n",
       " Token(text='.', label=None),\n",
       " Token(text='That', label=2),\n",
       " Token(text=\"'s\", label=None),\n",
       " Token(text='expected', label=None),\n",
       " Token(text='to', label=None),\n",
       " Token(text='bring', label=None),\n",
       " Token(text='the', label=None),\n",
       " Token(text='total', label=None),\n",
       " Token(text='deaths', label=None),\n",
       " Token(text='worldwide', label=None),\n",
       " Token(text='to', label=None),\n",
       " Token(text='nearly', label=None),\n",
       " Token(text='22', label=None),\n",
       " Token(text='million', label=None),\n",
       " Token(text='people', label=None),\n",
       " Token(text='.', label=None)]"
      ]
     },
     "execution_count": 43,
     "metadata": {},
     "output_type": "execute_result"
    }
   ],
   "source": [
    "list(gf.tokens())"
   ]
  },
  {
   "cell_type": "code",
   "execution_count": null,
   "metadata": {},
   "outputs": [],
   "source": []
  }
 ],
 "metadata": {
  "kernelspec": {
   "display_name": "Python 3",
   "language": "python",
   "name": "python3"
  },
  "language_info": {
   "codemirror_mode": {
    "name": "ipython",
    "version": 3
   },
   "file_extension": ".py",
   "mimetype": "text/x-python",
   "name": "python",
   "nbconvert_exporter": "python",
   "pygments_lexer": "ipython3",
   "version": "3.6.5"
  }
 },
 "nbformat": 4,
 "nbformat_minor": 2
}
