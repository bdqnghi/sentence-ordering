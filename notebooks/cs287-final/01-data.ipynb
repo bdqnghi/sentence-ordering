{
 "cells": [
  {
   "cell_type": "code",
   "execution_count": 102,
   "metadata": {},
   "outputs": [],
   "source": [
    "import attr\n",
    "import re\n",
    "\n",
    "from collections import defaultdict"
   ]
  },
  {
   "cell_type": "code",
   "execution_count": 61,
   "metadata": {},
   "outputs": [],
   "source": [
    "def parse_int(text):\n",
    "    matches = re.findall('[0-9]+', text)\n",
    "    return int(matches[0]) if matches else None"
   ]
  },
  {
   "cell_type": "code",
   "execution_count": 62,
   "metadata": {},
   "outputs": [],
   "source": [
    "@attr.s\n",
    "class Token:\n",
    "    \n",
    "    text = attr.ib()\n",
    "    document_id = attr.ib()\n",
    "    coref_id = attr.ib()"
   ]
  },
  {
   "cell_type": "code",
   "execution_count": 95,
   "metadata": {},
   "outputs": [],
   "source": [
    "class Document:\n",
    "    \n",
    "    def __init__(self, tokens):\n",
    "        self.tokens = tokens\n",
    "\n",
    "    def __repr__(self):\n",
    "        return 'Document<%d tokens>' % len(self.tokens)"
   ]
  },
  {
   "cell_type": "code",
   "execution_count": 103,
   "metadata": {},
   "outputs": [],
   "source": [
    "class GoldFile:\n",
    "    \n",
    "    def __init__(self, path):\n",
    "        self.path = path\n",
    "    \n",
    "    def lines(self):\n",
    "        \"\"\"Split lines into cols. Skip comments / blank lines.\n",
    "        \"\"\"\n",
    "        with open(self.path) as fh:\n",
    "            for line in fh:\n",
    "                line = line.strip()\n",
    "                if line and not line.startswith('#'):\n",
    "                    yield line.split()\n",
    "                    \n",
    "    def tokens(self):\n",
    "        \"\"\"Generate tokens.\n",
    "        \"\"\"\n",
    "        open_tag = None\n",
    "        for line in self.lines():\n",
    "            \n",
    "            digit = parse_int(line[-1])\n",
    "            \n",
    "            if digit is not None and line[-1].startswith('('):\n",
    "                open_tag = digit\n",
    "                \n",
    "            yield Token(line[3], int(line[1]), open_tag)\n",
    "                \n",
    "            if line[-1].endswith(')'):\n",
    "                open_tag = None\n",
    "                    \n",
    "    def documents(self):\n",
    "        \"\"\"Group tokens by document.\n",
    "        \"\"\"`\n",
    "        groups = defaultdict(list)\n",
    "        \n",
    "        for token in self.tokens():\n",
    "            groups[token.document_id].append(token)\n",
    "            \n",
    "        for tokens in groups.values():\n",
    "            yield Document(tokens)"
   ]
  },
  {
   "cell_type": "code",
   "execution_count": 104,
   "metadata": {},
   "outputs": [],
   "source": [
    "gf = GoldFile('../../data/conll-2012-english/v4/data/train/data/english/annotations/pt/nt/40/nt_4001.v4_auto_conll')"
   ]
  },
  {
   "cell_type": "code",
   "execution_count": 105,
   "metadata": {},
   "outputs": [
    {
     "data": {
      "text/plain": [
       "[Document<670 tokens>]"
      ]
     },
     "execution_count": 105,
     "metadata": {},
     "output_type": "execute_result"
    }
   ],
   "source": [
    "list(gf.documents())"
   ]
  },
  {
   "cell_type": "code",
   "execution_count": null,
   "metadata": {},
   "outputs": [],
   "source": []
  }
 ],
 "metadata": {
  "kernelspec": {
   "display_name": "Python 3",
   "language": "python",
   "name": "python3"
  },
  "language_info": {
   "codemirror_mode": {
    "name": "ipython",
    "version": 3
   },
   "file_extension": ".py",
   "mimetype": "text/x-python",
   "name": "python",
   "nbconvert_exporter": "python",
   "pygments_lexer": "ipython3",
   "version": "3.6.5"
  }
 },
 "nbformat": 4,
 "nbformat_minor": 2
}
