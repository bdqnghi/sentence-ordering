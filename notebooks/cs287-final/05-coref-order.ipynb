{
 "cells": [
  {
   "cell_type": "code",
   "execution_count": 19,
   "metadata": {},
   "outputs": [],
   "source": [
    "import torch\n",
    "import random\n",
    "\n",
    "from sent_order.conll import Corpus, Document\n",
    "\n",
    "from torch.nn import functional as F\n",
    "from itertools import islice\n",
    "from tqdm import tqdm_notebook"
   ]
  },
  {
   "cell_type": "code",
   "execution_count": 20,
   "metadata": {},
   "outputs": [],
   "source": [
    "model = torch.load(\n",
    "    '../../data/coref.4.bin',\n",
    "    map_location={'cpu': 'cpu'},\n",
    ")"
   ]
  },
  {
   "cell_type": "code",
   "execution_count": 22,
   "metadata": {},
   "outputs": [
    {
     "data": {
      "text/plain": [
       "Coref(\n",
       "  (encode_doc): DocEncoder(\n",
       "    (embeddings): WordEmbedding(39414, 300)\n",
       "    (lstm): LSTM(300, 200, batch_first=True, bidirectional=True)\n",
       "    (dropout): Dropout(p=0.5)\n",
       "  )\n",
       "  (score_spans): SpanScorer(\n",
       "    (attention): Scorer(\n",
       "      (score): Sequential(\n",
       "        (0): Linear(in_features=400, out_features=150, bias=True)\n",
       "        (1): ReLU()\n",
       "        (2): Linear(in_features=150, out_features=150, bias=True)\n",
       "        (3): ReLU()\n",
       "        (4): Linear(in_features=150, out_features=1, bias=True)\n",
       "      )\n",
       "    )\n",
       "    (width_embeddings): DistanceEmbedding(9, 20)\n",
       "    (sm): Scorer(\n",
       "      (score): Sequential(\n",
       "        (0): Linear(in_features=1120, out_features=150, bias=True)\n",
       "        (1): ReLU()\n",
       "        (2): Linear(in_features=150, out_features=150, bias=True)\n",
       "        (3): ReLU()\n",
       "        (4): Linear(in_features=150, out_features=1, bias=True)\n",
       "      )\n",
       "    )\n",
       "  )\n",
       "  (score_pairs): PairScorer(\n",
       "    (dist_embeddings): DistanceEmbedding(9, 20)\n",
       "    (sa): Scorer(\n",
       "      (score): Sequential(\n",
       "        (0): Linear(in_features=3380, out_features=150, bias=True)\n",
       "        (1): ReLU()\n",
       "        (2): Linear(in_features=150, out_features=150, bias=True)\n",
       "        (3): ReLU()\n",
       "        (4): Linear(in_features=150, out_features=1, bias=True)\n",
       "      )\n",
       "    )\n",
       "  )\n",
       ")"
      ]
     },
     "execution_count": 22,
     "metadata": {},
     "output_type": "execute_result"
    }
   ],
   "source": [
    "model.eval()"
   ]
  },
  {
   "cell_type": "code",
   "execution_count": 23,
   "metadata": {},
   "outputs": [],
   "source": [
    "c = Corpus.from_combined_file('../../data/test.conll')"
   ]
  },
  {
   "cell_type": "code",
   "execution_count": 24,
   "metadata": {},
   "outputs": [],
   "source": [
    "def score(spans):\n",
    "    return sum([sum(F.softmax(span.sij, 0)[:-1]) for span in spans])"
   ]
  },
  {
   "cell_type": "code",
   "execution_count": 25,
   "metadata": {},
   "outputs": [
    {
     "data": {
      "application/vnd.jupyter.widget-view+json": {
       "model_id": "75889389d714489790432abd0ccd4dfd",
       "version_major": 2,
       "version_minor": 0
      },
      "text/html": [
       "<p>Failed to display Jupyter Widget of type <code>HBox</code>.</p>\n",
       "<p>\n",
       "  If you're reading this message in Jupyter Notebook or JupyterLab, it may mean\n",
       "  that the widgets JavaScript is still loading. If this message persists, it\n",
       "  likely means that the widgets JavaScript library is either not installed or\n",
       "  not enabled. See the <a href=\"https://ipywidgets.readthedocs.io/en/stable/user_install.html\">Jupyter\n",
       "  Widgets Documentation</a> for setup instructions.\n",
       "</p>\n",
       "<p>\n",
       "  If you're reading this message in another notebook frontend (for example, a static\n",
       "  rendering on GitHub or <a href=\"https://nbviewer.jupyter.org/\">NBViewer</a>),\n",
       "  it may mean that your frontend doesn't currently support widgets.\n",
       "</p>\n"
      ],
      "text/plain": [
       "HBox(children=(IntProgress(value=1, bar_style='info', max=1), HTML(value='')))"
      ]
     },
     "metadata": {},
     "output_type": "display_data"
    },
    {
     "name": "stdout",
     "output_type": "stream",
     "text": [
      "\n"
     ]
    }
   ],
   "source": [
    "correct, total = 0, 0\n",
    "for sent_tokens in tqdm_notebook(islice(c.sent_chunk_tokens(), 200)):\n",
    "    \n",
    "    shuffled = sorted(sent_tokens, key=lambda x: random.random())\n",
    "    \n",
    "    d1 = Document([t for s in sent_tokens for t in s])\n",
    "    d2 = Document([t for s in shuffled for t in s])\n",
    "    \n",
    "    try:\n",
    "    \n",
    "        spans1 = model(d1)\n",
    "        spans2 = model(d2)\n",
    "        \n",
    "        if score(spans1) > score(spans2):\n",
    "            correct += 1\n",
    "\n",
    "        total += 1\n",
    "        \n",
    "    except:\n",
    "        pass"
   ]
  },
  {
   "cell_type": "code",
   "execution_count": 26,
   "metadata": {},
   "outputs": [
    {
     "data": {
      "text/plain": [
       "0.49246231155778897"
      ]
     },
     "execution_count": 26,
     "metadata": {},
     "output_type": "execute_result"
    }
   ],
   "source": [
    "correct / total"
   ]
  },
  {
   "cell_type": "code",
   "execution_count": null,
   "metadata": {},
   "outputs": [],
   "source": []
  },
  {
   "cell_type": "code",
   "execution_count": null,
   "metadata": {},
   "outputs": [],
   "source": []
  }
 ],
 "metadata": {
  "kernelspec": {
   "display_name": "Python 3",
   "language": "python",
   "name": "python3"
  },
  "language_info": {
   "codemirror_mode": {
    "name": "ipython",
    "version": 3
   },
   "file_extension": ".py",
   "mimetype": "text/x-python",
   "name": "python",
   "nbconvert_exporter": "python",
   "pygments_lexer": "ipython3",
   "version": "3.6.5"
  }
 },
 "nbformat": 4,
 "nbformat_minor": 2
}
