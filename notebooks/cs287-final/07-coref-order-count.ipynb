{
 "cells": [
  {
   "cell_type": "code",
   "execution_count": 1,
   "metadata": {},
   "outputs": [],
   "source": [
    "import torch\n",
    "\n",
    "from sent_order.conll import Corpus, Document\n",
    "\n",
    "from torch.nn import functional as F\n",
    "from itertools import islice\n",
    "from tqdm import tqdm_notebook"
   ]
  },
  {
   "cell_type": "code",
   "execution_count": 2,
   "metadata": {},
   "outputs": [],
   "source": [
    "model = torch.load(\n",
    "    '../../data/coref.4.bin',\n",
    "    map_location={'cpu': 'cpu'},\n",
    ")"
   ]
  },
  {
   "cell_type": "code",
   "execution_count": 3,
   "metadata": {},
   "outputs": [
    {
     "data": {
      "text/plain": [
       "Coref(\n",
       "  (encode_doc): DocEncoder(\n",
       "    (embeddings): WordEmbedding(39414, 300)\n",
       "    (lstm): LSTM(300, 200, batch_first=True, bidirectional=True)\n",
       "    (dropout): Dropout(p=0.5)\n",
       "  )\n",
       "  (score_spans): SpanScorer(\n",
       "    (attention): Scorer(\n",
       "      (score): Sequential(\n",
       "        (0): Linear(in_features=400, out_features=150, bias=True)\n",
       "        (1): ReLU()\n",
       "        (2): Linear(in_features=150, out_features=150, bias=True)\n",
       "        (3): ReLU()\n",
       "        (4): Linear(in_features=150, out_features=1, bias=True)\n",
       "      )\n",
       "    )\n",
       "    (width_embeddings): DistanceEmbedding(9, 20)\n",
       "    (sm): Scorer(\n",
       "      (score): Sequential(\n",
       "        (0): Linear(in_features=1120, out_features=150, bias=True)\n",
       "        (1): ReLU()\n",
       "        (2): Linear(in_features=150, out_features=150, bias=True)\n",
       "        (3): ReLU()\n",
       "        (4): Linear(in_features=150, out_features=1, bias=True)\n",
       "      )\n",
       "    )\n",
       "  )\n",
       "  (score_pairs): PairScorer(\n",
       "    (dist_embeddings): DistanceEmbedding(9, 20)\n",
       "    (sa): Scorer(\n",
       "      (score): Sequential(\n",
       "        (0): Linear(in_features=3380, out_features=150, bias=True)\n",
       "        (1): ReLU()\n",
       "        (2): Linear(in_features=150, out_features=150, bias=True)\n",
       "        (3): ReLU()\n",
       "        (4): Linear(in_features=150, out_features=1, bias=True)\n",
       "      )\n",
       "    )\n",
       "  )\n",
       ")"
      ]
     },
     "execution_count": 3,
     "metadata": {},
     "output_type": "execute_result"
    }
   ],
   "source": [
    "model"
   ]
  },
  {
   "cell_type": "code",
   "execution_count": 4,
   "metadata": {},
   "outputs": [],
   "source": [
    "c = Corpus.from_combined_file('../../data/test.conll')"
   ]
  },
  {
   "cell_type": "code",
   "execution_count": 5,
   "metadata": {},
   "outputs": [],
   "source": [
    "def score(spans):\n",
    "    return sum([F.softmax(span.sij, 0)[-1] for span in spans])"
   ]
  },
  {
   "cell_type": "code",
   "execution_count": 7,
   "metadata": {},
   "outputs": [
    {
     "data": {
      "application/vnd.jupyter.widget-view+json": {
       "model_id": "2b0b225fe2a3493d8fe38c9fdf5b72b5",
       "version_major": 2,
       "version_minor": 0
      },
      "text/html": [
       "<p>Failed to display Jupyter Widget of type <code>HBox</code>.</p>\n",
       "<p>\n",
       "  If you're reading this message in Jupyter Notebook or JupyterLab, it may mean\n",
       "  that the widgets JavaScript is still loading. If this message persists, it\n",
       "  likely means that the widgets JavaScript library is either not installed or\n",
       "  not enabled. See the <a href=\"https://ipywidgets.readthedocs.io/en/stable/user_install.html\">Jupyter\n",
       "  Widgets Documentation</a> for setup instructions.\n",
       "</p>\n",
       "<p>\n",
       "  If you're reading this message in another notebook frontend (for example, a static\n",
       "  rendering on GitHub or <a href=\"https://nbviewer.jupyter.org/\">NBViewer</a>),\n",
       "  it may mean that your frontend doesn't currently support widgets.\n",
       "</p>\n"
      ],
      "text/plain": [
       "HBox(children=(IntProgress(value=1, bar_style='info', max=1), HTML(value='')))"
      ]
     },
     "metadata": {},
     "output_type": "display_data"
    },
    {
     "name": "stdout",
     "output_type": "stream",
     "text": [
      "[{(16, 16), (3, 3)}] []\n",
      "[] []\n",
      "[] []\n",
      "[] []\n",
      "[] []\n",
      "[] []\n",
      "[] []\n",
      "[] []\n",
      "[] [{(0, 0), (25, 25)}]\n",
      "[] []\n",
      "[] [{(3, 4), (38, 39)}]\n",
      "[] []\n",
      "[] []\n",
      "[{(15, 16), (19, 20)}] [{(1, 2), (30, 31)}]\n",
      "[] []\n",
      "[] []\n",
      "[{(9, 10), (26, 27)}] [{(7, 8), (35, 36)}]\n",
      "[] []\n",
      "[] []\n",
      "[] []\n",
      "[] []\n",
      "[] []\n",
      "[{(36, 36), (45, 45), (2, 2)}] [{(25, 25), (19, 19), (10, 10)}]\n",
      "[{(5, 5), (19, 19), (10, 10)}] [{(12, 12), (7, 7), (21, 21)}]\n",
      "[] []\n",
      "[] []\n",
      "[{(36, 36), (25, 25), (3, 3)}, {(21, 22), (32, 32)}] [{(27, 27), (7, 7), (18, 18)}]\n",
      "[{(3, 4), (14, 14)}, {(27, 27), (7, 7), (18, 18)}] [{(28, 28), (17, 17), (3, 3)}, {(13, 14), (24, 24)}]\n",
      "[] []\n",
      "[] []\n",
      "[] []\n",
      "[] []\n",
      "[] []\n",
      "[{(5, 5), (17, 17)}, {(22, 23), (2, 3)}] [{(15, 15), (3, 3)}, {(20, 21), (0, 1)}]\n",
      "[{(15, 15), (3, 3)}, {(20, 21), (0, 1), (46, 47)}] [{(20, 21), (40, 41), (17, 18)}, {(23, 23), (35, 35)}]\n",
      "[] []\n",
      "[] []\n",
      "[{(5, 6), (8, 8)}] [{(3, 4), (6, 6)}]\n",
      "[{(30, 31), (15, 18)}, {(41, 42), (47, 48), (55, 57)}] [{(27, 28), (35, 37)}, {(42, 43), (45, 45)}]\n",
      "[{(27, 28), (35, 37)}] [{(29, 30), (37, 39), (23, 24)}]\n",
      "[{(12, 12), (5, 5)}] [{(3, 3), (10, 10)}]\n",
      "[{(33, 33), (3, 3), (10, 10)}] [{(18, 18), (39, 39), (46, 46)}]\n",
      "[] []\n",
      "[] []\n",
      "[] []\n",
      "[] []\n",
      "[] [{(17, 18), (10, 11)}]\n",
      "[{(10, 11), (23, 24)}, {(28, 28), (26, 26)}] [{(11, 11), (13, 13)}, {(28, 29), (8, 9)}]\n",
      "[{(11, 11), (13, 13)}] [{(51, 51), (49, 49)}]\n",
      "[{(9, 9), (38, 38)}] [{(0, 0), (31, 31)}]\n",
      "[] []\n",
      "[] []\n",
      "[] []\n",
      "[] []\n",
      "[] []\n",
      "[] []\n",
      "[] []\n",
      "[] []\n",
      "[] []\n",
      "[{(4, 4), (14, 14)}] [{(12, 12), (2, 2)}]\n",
      "[{(12, 12), (2, 2)}] [{(4, 4), (14, 14)}]\n",
      "[{(5, 6), (18, 18)}] [{(16, 16), (3, 4)}]\n",
      "[{(16, 16), (3, 4)}] [{(38, 39), (51, 51)}]\n",
      "[] []\n",
      "[{(19, 19), (5, 8)}] []\n",
      "[] []\n",
      "[{(17, 17), (6, 6)}] [{(24, 24), (18, 19)}, {(27, 27), (6, 6)}]\n",
      "[] []\n",
      "[] []\n",
      "[] []\n",
      "[] []\n",
      "[] []\n",
      "[] []\n",
      "[{(34, 34), (46, 46)}, {(64, 64), (50, 50)}] [{(2, 2), (14, 14)}, {(32, 32), (18, 18)}, {(10, 10), (66, 66)}]\n",
      "[{(2, 2), (14, 14)}, {(27, 27), (10, 10)}, {(32, 32), (18, 18)}] [{(16, 16), (4, 4)}, {(12, 12), (29, 29)}, {(20, 20), (34, 34)}]\n",
      "[] []\n",
      "[] []\n",
      "[] []\n",
      "[] []\n",
      "[] []\n",
      "[{(12, 12), (27, 27)}] [{(16, 16), (1, 1)}]\n",
      "[{(16, 16), (1, 1)}] [{(3, 3), (18, 18)}]\n",
      "[] []\n",
      "[] []\n",
      "[] []\n",
      "[{(6, 6), (14, 14)}] []\n",
      "[{(16, 17), (14, 14)}] []\n",
      "[{(4, 4), (0, 0)}, {(9, 9), (37, 37)}] [{(31, 31), (18, 18)}]\n",
      "[] []\n",
      "[{(43, 43), (50, 50)}] [{(9, 9), (2, 2)}]\n",
      "[{(9, 9), (2, 2)}] [{(11, 11), (18, 18)}]\n",
      "[] []\n",
      "[] []\n",
      "[] []\n",
      "[] []\n",
      "[] []\n",
      "[] []\n",
      "[{(0, 0), (10, 10)}] [{(13, 13), (2, 2)}]\n",
      "[] []\n",
      "[] []\n",
      "[] []\n",
      "[] []\n",
      "[] []\n",
      "[] []\n",
      "[] []\n",
      "[] []\n",
      "[] []\n",
      "[{(8, 8), (2, 2)}] [{(0, 0), (14, 14)}]\n",
      "[] []\n",
      "[] []\n",
      "[] []\n",
      "[] []\n",
      "[] []\n",
      "[] []\n",
      "[] []\n",
      "[] []\n",
      "[] []\n",
      "[] []\n",
      "[] []\n",
      "[] []\n",
      "[] []\n",
      "[{(13, 13), (10, 10)}] [{(8, 8), (11, 11)}]\n",
      "[{(8, 8), (11, 11)}] [{(23, 23), (26, 26)}]\n",
      "[] []\n",
      "[] []\n",
      "[] []\n",
      "[] []\n",
      "[{(25, 26), (14, 15)}] []\n",
      "[] []\n",
      "[{(17, 17), (31, 31)}] [{(12, 12), (31, 31)}]\n",
      "[] []\n",
      "[] []\n",
      "[] []\n",
      "[{(28, 28), (38, 38)}] []\n",
      "[{(23, 23), (13, 13)}] []\n",
      "[] [{(52, 53), (40, 41)}]\n",
      "[] []\n",
      "[{(11, 11), (41, 41)}] [{(33, 33), (75, 75)}]\n",
      "[] []\n",
      "[] []\n",
      "[{(14, 15), (19, 19)}] []\n",
      "[{(2, 3), (7, 7)}] [{(4, 5), (9, 9)}]\n",
      "[] []\n",
      "[] []\n",
      "[] []\n",
      "[] []\n",
      "[{(29, 29), (20, 20), (14, 15), (34, 34), (17, 17)}] [{(11, 11), (20, 20), (25, 25)}]\n",
      "[{(11, 11), (5, 6), (20, 20), (25, 25), (8, 8)}] [{(0, 1), (32, 32), (27, 27), (18, 18), (15, 15)}]\n",
      "[] []\n",
      "[] []\n",
      "[] []\n",
      "[{(12, 13), (16, 16)}] [{(0, 1), (4, 4)}]\n",
      "[{(0, 1), (4, 4)}] [{(19, 20), (23, 23)}]\n",
      "[{(45, 46), (37, 38)}] []\n",
      "[] [{(28, 29), (20, 21)}]\n",
      "[] []\n",
      "[{(13, 13), (2, 2)}] []\n",
      "[] []\n",
      "[] []\n",
      "[] []\n",
      "[] []\n",
      "[] []\n",
      "[] [{(2, 3), (17, 17)}]\n",
      "[] []\n",
      "[] []\n",
      "[{(1, 5), (14, 14)}] [{(56, 56), (43, 43)}]\n",
      "[] []\n",
      "[] []\n",
      "[] []\n",
      "[] []\n",
      "[] []\n",
      "[] []\n",
      "[] []\n",
      "[] []\n",
      "[] []\n",
      "[] []\n",
      "[] []\n",
      "[] []\n",
      "[] []\n",
      "[] []\n",
      "[] []\n",
      "[] []\n",
      "[] []\n",
      "[] []\n",
      "[] []\n",
      "[] []\n",
      "[] []\n",
      "[] []\n",
      "[] []\n",
      "[] []\n",
      "[] []\n",
      "[{(12, 13), (26, 27)}] []\n",
      "[{(17, 18), (11, 12)}] [{(68, 69), (3, 4)}]\n",
      "[] []\n",
      "[] []\n",
      "[{(12, 12), (24, 24), (17, 17)}] [{(19, 19), (26, 26)}]\n",
      "[] []\n",
      "[] []\n",
      "[] [{(5, 6), (36, 36)}]\n",
      "[] []\n",
      "\n"
     ]
    }
   ],
   "source": [
    "correct, total = 0, 0\n",
    "for tokens1, tokens2 in tqdm_notebook(islice(c.sent_pair_tokens(), 200)):\n",
    "    \n",
    "    d1 = Document(tokens1+tokens2)\n",
    "    d2 = Document(tokens2+tokens1)\n",
    "    \n",
    "    pred1 = model.predict(d1)\n",
    "    pred2 = model.predict(d2)\n",
    "    \n",
    "    print(pred1, pred2)"
   ]
  },
  {
   "cell_type": "code",
   "execution_count": 8,
   "metadata": {},
   "outputs": [
    {
     "data": {
      "application/vnd.jupyter.widget-view+json": {
       "model_id": "047c204657594b1495485a78c597a0ce",
       "version_major": 2,
       "version_minor": 0
      },
      "text/html": [
       "<p>Failed to display Jupyter Widget of type <code>HBox</code>.</p>\n",
       "<p>\n",
       "  If you're reading this message in Jupyter Notebook or JupyterLab, it may mean\n",
       "  that the widgets JavaScript is still loading. If this message persists, it\n",
       "  likely means that the widgets JavaScript library is either not installed or\n",
       "  not enabled. See the <a href=\"https://ipywidgets.readthedocs.io/en/stable/user_install.html\">Jupyter\n",
       "  Widgets Documentation</a> for setup instructions.\n",
       "</p>\n",
       "<p>\n",
       "  If you're reading this message in another notebook frontend (for example, a static\n",
       "  rendering on GitHub or <a href=\"https://nbviewer.jupyter.org/\">NBViewer</a>),\n",
       "  it may mean that your frontend doesn't currently support widgets.\n",
       "</p>\n"
      ],
      "text/plain": [
       "HBox(children=(IntProgress(value=1, bar_style='info', max=1), HTML(value='')))"
      ]
     },
     "metadata": {},
     "output_type": "display_data"
    },
    {
     "name": "stdout",
     "output_type": "stream",
     "text": [
      "\n"
     ]
    }
   ],
   "source": [
    "correct, total = 0, 0\n",
    "for tokens1, tokens2 in tqdm_notebook(islice(c.sent_pair_tokens(), 200)):\n",
    "    \n",
    "    d1 = Document(tokens1+tokens2)\n",
    "    d2 = Document(tokens2+tokens1)\n",
    "    \n",
    "    try:\n",
    "        \n",
    "        pred1 = model.predict(d1)\n",
    "        pred2 = model.predict(d2)\n",
    "        \n",
    "        if not pred1 or not pred2:\n",
    "            continue\n",
    "    \n",
    "        spans1 = model(d1)\n",
    "        spans2 = model(d2)\n",
    "        \n",
    "        if score(spans1) > score(spans2):\n",
    "            correct += 1\n",
    "\n",
    "        total += 1\n",
    "        \n",
    "    except:\n",
    "        pass"
   ]
  },
  {
   "cell_type": "code",
   "execution_count": 10,
   "metadata": {},
   "outputs": [
    {
     "data": {
      "text/plain": [
       "0.5526315789473685"
      ]
     },
     "execution_count": 10,
     "metadata": {},
     "output_type": "execute_result"
    }
   ],
   "source": [
    "correct / total"
   ]
  },
  {
   "cell_type": "code",
   "execution_count": 12,
   "metadata": {},
   "outputs": [],
   "source": [
    "d = Document.from_text('d1', 0, 'After Mr. Trump’s election, while the F.B.I. was investigating whether his campaign helped Russian efforts to put Mr. Trump in the Oval Office, Mr. Cohen visited his boss in the White House. During that February 2017 visit, Mr. Cohen left for the national security adviser, Michael Flynn, a plan to lift sanctions against Russia, which had been imposed for its attacks on Ukraine. These sanctions had squeezed the sorts of people Mr. Cohen dealt with. The plan was proposed by Mr. Sater and a Ukrainian politician with ties to Paul Manafort, a former Trump campaign chairman.')"
   ]
  },
  {
   "cell_type": "code",
   "execution_count": 21,
   "metadata": {},
   "outputs": [
    {
     "data": {
      "text/plain": [
       "Coref(\n",
       "  (encode_doc): DocEncoder(\n",
       "    (embeddings): WordEmbedding(39414, 300)\n",
       "    (lstm): LSTM(300, 200, batch_first=True, bidirectional=True)\n",
       "    (dropout): Dropout(p=0.5)\n",
       "  )\n",
       "  (score_spans): SpanScorer(\n",
       "    (attention): Scorer(\n",
       "      (score): Sequential(\n",
       "        (0): Linear(in_features=400, out_features=150, bias=True)\n",
       "        (1): ReLU()\n",
       "        (2): Linear(in_features=150, out_features=150, bias=True)\n",
       "        (3): ReLU()\n",
       "        (4): Linear(in_features=150, out_features=1, bias=True)\n",
       "      )\n",
       "    )\n",
       "    (width_embeddings): DistanceEmbedding(9, 20)\n",
       "    (sm): Scorer(\n",
       "      (score): Sequential(\n",
       "        (0): Linear(in_features=1120, out_features=150, bias=True)\n",
       "        (1): ReLU()\n",
       "        (2): Linear(in_features=150, out_features=150, bias=True)\n",
       "        (3): ReLU()\n",
       "        (4): Linear(in_features=150, out_features=1, bias=True)\n",
       "      )\n",
       "    )\n",
       "  )\n",
       "  (score_pairs): PairScorer(\n",
       "    (dist_embeddings): DistanceEmbedding(9, 20)\n",
       "    (sa): Scorer(\n",
       "      (score): Sequential(\n",
       "        (0): Linear(in_features=3380, out_features=150, bias=True)\n",
       "        (1): ReLU()\n",
       "        (2): Linear(in_features=150, out_features=150, bias=True)\n",
       "        (3): ReLU()\n",
       "        (4): Linear(in_features=150, out_features=1, bias=True)\n",
       "      )\n",
       "    )\n",
       "  )\n",
       ")"
      ]
     },
     "execution_count": 21,
     "metadata": {},
     "output_type": "execute_result"
    }
   ],
   "source": [
    "model.eval()"
   ]
  },
  {
   "cell_type": "code",
   "execution_count": 25,
   "metadata": {},
   "outputs": [
    {
     "data": {
      "text/plain": [
       "[{(1, 4), (14, 14), (28, 29), (31, 31), (44, 45), (82, 83), (92, 93)},\n",
       " {(1, 2), (21, 22)}]"
      ]
     },
     "execution_count": 25,
     "metadata": {},
     "output_type": "execute_result"
    }
   ],
   "source": [
    "model.predict(d)"
   ]
  },
  {
   "cell_type": "code",
   "execution_count": 27,
   "metadata": {},
   "outputs": [
    {
     "name": "stdout",
     "output_type": "stream",
     "text": [
      "['Mr.', 'Cohen']\n",
      "['Mr.', 'Cohen']\n",
      "['Mr.', 'Sater']\n",
      "['Mr.', 'Trump', '’', 's']\n",
      "['Mr.', 'Cohen']\n",
      "['his']\n",
      "['his']\n",
      "---\n",
      "['Mr.', 'Trump']\n",
      "['Mr.', 'Trump']\n",
      "---\n"
     ]
    }
   ],
   "source": [
    "for c in model.predict(d):\n",
    "    for i1, i2 in c:\n",
    "        print([t.text for t in d.tokens[i1:i2+1]])\n",
    "    print('---')"
   ]
  },
  {
   "cell_type": "code",
   "execution_count": null,
   "metadata": {},
   "outputs": [],
   "source": []
  }
 ],
 "metadata": {
  "kernelspec": {
   "display_name": "Python 3",
   "language": "python",
   "name": "python3"
  },
  "language_info": {
   "codemirror_mode": {
    "name": "ipython",
    "version": 3
   },
   "file_extension": ".py",
   "mimetype": "text/x-python",
   "name": "python",
   "nbconvert_exporter": "python",
   "pygments_lexer": "ipython3",
   "version": "3.6.5"
  }
 },
 "nbformat": 4,
 "nbformat_minor": 2
}
