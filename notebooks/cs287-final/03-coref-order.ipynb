{
 "cells": [
  {
   "cell_type": "code",
   "execution_count": 13,
   "metadata": {},
   "outputs": [],
   "source": [
    "import torch\n",
    "\n",
    "from sent_order.conll import Corpus, Document\n",
    "\n",
    "from torch.nn import functional as F"
   ]
  },
  {
   "cell_type": "code",
   "execution_count": 2,
   "metadata": {},
   "outputs": [],
   "source": [
    "model = torch.load(\n",
    "    '../../data/coref.4.bin',\n",
    "    map_location={'cpu': 'cpu'},\n",
    ")"
   ]
  },
  {
   "cell_type": "code",
   "execution_count": 3,
   "metadata": {},
   "outputs": [
    {
     "data": {
      "text/plain": [
       "Coref(\n",
       "  (encode_doc): DocEncoder(\n",
       "    (embeddings): WordEmbedding(39414, 300)\n",
       "    (lstm): LSTM(300, 200, batch_first=True, bidirectional=True)\n",
       "    (dropout): Dropout(p=0.5)\n",
       "  )\n",
       "  (score_spans): SpanScorer(\n",
       "    (attention): Scorer(\n",
       "      (score): Sequential(\n",
       "        (0): Linear(in_features=400, out_features=150, bias=True)\n",
       "        (1): ReLU()\n",
       "        (2): Linear(in_features=150, out_features=150, bias=True)\n",
       "        (3): ReLU()\n",
       "        (4): Linear(in_features=150, out_features=1, bias=True)\n",
       "      )\n",
       "    )\n",
       "    (width_embeddings): DistanceEmbedding(9, 20)\n",
       "    (sm): Scorer(\n",
       "      (score): Sequential(\n",
       "        (0): Linear(in_features=1120, out_features=150, bias=True)\n",
       "        (1): ReLU()\n",
       "        (2): Linear(in_features=150, out_features=150, bias=True)\n",
       "        (3): ReLU()\n",
       "        (4): Linear(in_features=150, out_features=1, bias=True)\n",
       "      )\n",
       "    )\n",
       "  )\n",
       "  (score_pairs): PairScorer(\n",
       "    (dist_embeddings): DistanceEmbedding(9, 20)\n",
       "    (sa): Scorer(\n",
       "      (score): Sequential(\n",
       "        (0): Linear(in_features=3380, out_features=150, bias=True)\n",
       "        (1): ReLU()\n",
       "        (2): Linear(in_features=150, out_features=150, bias=True)\n",
       "        (3): ReLU()\n",
       "        (4): Linear(in_features=150, out_features=1, bias=True)\n",
       "      )\n",
       "    )\n",
       "  )\n",
       ")"
      ]
     },
     "execution_count": 3,
     "metadata": {},
     "output_type": "execute_result"
    }
   ],
   "source": [
    "model"
   ]
  },
  {
   "cell_type": "code",
   "execution_count": 24,
   "metadata": {},
   "outputs": [
    {
     "name": "stdout",
     "output_type": "stream",
     "text": [
      "David\n",
      "went\n",
      "to\n",
      "the\n",
      "store\n",
      ".\n",
      "Then\n",
      "he\n",
      "bought\n",
      "some\n",
      "milk\n",
      ".\n"
     ]
    }
   ],
   "source": [
    "doc = Document.from_text('d1', 0, 'David went to the store. Then he bought some milk.')"
   ]
  },
  {
   "cell_type": "code",
   "execution_count": 43,
   "metadata": {},
   "outputs": [
    {
     "name": "stdout",
     "output_type": "stream",
     "text": [
      "The\n",
      "rockets\n",
      "were\n",
      "all\n",
      "either\n",
      "intercepted\n",
      "or\n",
      "fell\n",
      "short\n",
      "of\n",
      "their\n",
      "mark\n",
      "in\n",
      "Syrian\n",
      "territory\n",
      ",\n",
      "the\n",
      "spokesman\n",
      "said\n",
      ",\n",
      "but\n",
      "were\n",
      "nevertheless\n",
      "a\n",
      "significant\n",
      "escalation\n",
      "in\n",
      "Iran\n",
      "'s\n",
      "maneuvers\n",
      "in\n",
      "the\n",
      "Middle\n",
      "East\n",
      ".\n",
      "Overnight\n",
      ",\n",
      "Iranian\n",
      "forces\n",
      "fired\n",
      "around\n",
      "20\n",
      "rockets\n",
      "at\n",
      "the\n",
      "Israeli-controlled\n",
      "Golan\n",
      "Heights\n",
      ",\n",
      "targeting\n",
      "forward\n",
      "positions\n",
      "of\n",
      "the\n",
      "Israeli\n",
      "military\n",
      ",\n",
      "according\n",
      "to\n",
      "an\n",
      "Israeli\n",
      "military\n",
      "spokesman\n",
      ".\n"
     ]
    }
   ],
   "source": [
    "doc = Document.from_text('d1', 0, 'The rockets were all either intercepted or fell short of their mark in Syrian territory, the spokesman said, but were nevertheless a significant escalation in Iran\\'s maneuvers in the Middle East. Overnight, Iranian forces fired around 20 rockets at the Israeli-controlled Golan Heights, targeting forward positions of the Israeli military, according to an Israeli military spokesman.')"
   ]
  },
  {
   "cell_type": "code",
   "execution_count": 44,
   "metadata": {},
   "outputs": [],
   "source": [
    "spans = model(doc)"
   ]
  },
  {
   "cell_type": "code",
   "execution_count": 45,
   "metadata": {},
   "outputs": [
    {
     "data": {
      "text/plain": [
       "[Span<0, 1, \"The rockets\">,\n",
       " Span<5, 5, \"intercepted\">,\n",
       " Span<10, 10, \"their\">,\n",
       " Span<11, 11, \"mark\">,\n",
       " Span<13, 14, \"Syrian territory\">,\n",
       " Span<16, 17, \"the spokesman\">,\n",
       " Span<23, 25, \"a significant escalation\">,\n",
       " Span<25, 25, \"escalation\">,\n",
       " Span<27, 28, \"Iran 's\">,\n",
       " Span<31, 33, \"the Middle East\">,\n",
       " Span<37, 38, \"Iranian forces\">,\n",
       " Span<39, 39, \"fired\">,\n",
       " Span<41, 42, \"20 rockets\">,\n",
       " Span<42, 42, \"rockets\">,\n",
       " Span<44, 47, \"the Israeli-controlled Golan Heights\">,\n",
       " Span<45, 45, \"Israeli-controlled\">,\n",
       " Span<45, 47, \"Israeli-controlled Golan Heights\">,\n",
       " Span<45, 46, \"Israeli-controlled Golan\">,\n",
       " Span<46, 46, \"Golan\">,\n",
       " Span<46, 47, \"Golan Heights\">,\n",
       " Span<49, 49, \"targeting\">,\n",
       " Span<53, 55, \"the Israeli military\">,\n",
       " Span<54, 55, \"Israeli military\">,\n",
       " Span<54, 54, \"Israeli\">,\n",
       " Span<59, 61, \"an Israeli military\">,\n",
       " Span<60, 61, \"Israeli military\">]"
      ]
     },
     "execution_count": 45,
     "metadata": {},
     "output_type": "execute_result"
    }
   ],
   "source": [
    "spans"
   ]
  },
  {
   "cell_type": "code",
   "execution_count": 46,
   "metadata": {},
   "outputs": [
    {
     "name": "stdout",
     "output_type": "stream",
     "text": [
      "Span<0, 1, \"The rockets\">\n",
      "0\n",
      "Span<5, 5, \"intercepted\">\n",
      "tensor(1.00000e-04 *\n",
      "       1.0638)\n",
      "Span<10, 10, \"their\">\n",
      "tensor(0.3853)\n",
      "Span<11, 11, \"mark\">\n",
      "tensor(1.00000e-06 *\n",
      "       3.1176)\n",
      "Span<13, 14, \"Syrian territory\">\n",
      "tensor(1.00000e-05 *\n",
      "       4.4532)\n",
      "Span<16, 17, \"the spokesman\">\n",
      "tensor(1.00000e-04 *\n",
      "       5.3154)\n",
      "Span<23, 25, \"a significant escalation\">\n",
      "tensor(1.00000e-07 *\n",
      "       3.6493)\n",
      "Span<25, 25, \"escalation\">\n",
      "tensor(1.00000e-07 *\n",
      "       3.9297)\n",
      "Span<27, 28, \"Iran 's\">\n",
      "tensor(1.00000e-03 *\n",
      "       1.5929)\n",
      "Span<31, 33, \"the Middle East\">\n",
      "tensor(1.00000e-04 *\n",
      "       6.4053)\n",
      "Span<37, 38, \"Iranian forces\">\n",
      "tensor(1.00000e-04 *\n",
      "       8.8234)\n",
      "Span<39, 39, \"fired\">\n",
      "tensor(1.00000e-03 *\n",
      "       1.4326)\n",
      "Span<41, 42, \"20 rockets\">\n",
      "tensor(1.00000e-03 *\n",
      "       3.0510)\n",
      "Span<42, 42, \"rockets\">\n",
      "tensor(1.00000e-03 *\n",
      "       2.5065)\n",
      "Span<44, 47, \"the Israeli-controlled Golan Heights\">\n",
      "tensor(1.00000e-04 *\n",
      "       6.7819)\n",
      "Span<45, 45, \"Israeli-controlled\">\n",
      "tensor(1.00000e-04 *\n",
      "       1.3909)\n",
      "Span<45, 47, \"Israeli-controlled Golan Heights\">\n",
      "tensor(1.00000e-05 *\n",
      "       5.6352)\n",
      "Span<45, 46, \"Israeli-controlled Golan\">\n",
      "tensor(1.00000e-04 *\n",
      "       1.3941)\n",
      "Span<46, 46, \"Golan\">\n",
      "tensor(1.00000e-04 *\n",
      "       7.1958)\n",
      "Span<46, 47, \"Golan Heights\">\n",
      "tensor(1.00000e-05 *\n",
      "       9.1248)\n",
      "Span<49, 49, \"targeting\">\n",
      "tensor(1.00000e-06 *\n",
      "       5.8312)\n",
      "Span<53, 55, \"the Israeli military\">\n",
      "tensor(1.00000e-03 *\n",
      "       3.0619)\n",
      "Span<54, 55, \"Israeli military\">\n",
      "tensor(1.00000e-05 *\n",
      "       1.1681)\n",
      "Span<54, 54, \"Israeli\">\n",
      "tensor(1.00000e-05 *\n",
      "       6.2533)\n",
      "Span<59, 61, \"an Israeli military\">\n",
      "tensor(1.00000e-03 *\n",
      "       3.1165)\n",
      "Span<60, 61, \"Israeli military\">\n",
      "tensor(1.00000e-03 *\n",
      "       4.9246)\n"
     ]
    },
    {
     "data": {
      "text/plain": [
       "tensor(0.4091)"
      ]
     },
     "execution_count": 46,
     "metadata": {},
     "output_type": "execute_result"
    }
   ],
   "source": [
    "total = 0\n",
    "for span in spans:\n",
    "    print(span)\n",
    "    pred = F.softmax(span.sij, dim=0)\n",
    "    total += sum(pred[:-1])\n",
    "    print(sum(pred[:-1]))\n",
    "    \n",
    "total"
   ]
  },
  {
   "cell_type": "code",
   "execution_count": null,
   "metadata": {},
   "outputs": [],
   "source": []
  }
 ],
 "metadata": {
  "kernelspec": {
   "display_name": "Python 3",
   "language": "python",
   "name": "python3"
  },
  "language_info": {
   "codemirror_mode": {
    "name": "ipython",
    "version": 3
   },
   "file_extension": ".py",
   "mimetype": "text/x-python",
   "name": "python",
   "nbconvert_exporter": "python",
   "pygments_lexer": "ipython3",
   "version": "3.6.5"
  }
 },
 "nbformat": 4,
 "nbformat_minor": 2
}
