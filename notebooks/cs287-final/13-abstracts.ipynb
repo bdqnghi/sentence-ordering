{
 "cells": [
  {
   "cell_type": "code",
   "execution_count": 24,
   "metadata": {},
   "outputs": [],
   "source": [
    "import torch\n",
    "import random\n",
    "\n",
    "from itertools import islice\n",
    "from tqdm import tqdm_notebook\n",
    "\n",
    "from sent_order.conll import Document"
   ]
  },
  {
   "cell_type": "code",
   "execution_count": 4,
   "metadata": {},
   "outputs": [
    {
     "name": "stderr",
     "output_type": "stream",
     "text": [
      "/Users/dclure/Projects/plot-ordering/env/lib/python3.6/site-packages/torch/serialization.py:367: SourceChangeWarning: source code of class 'sent_order.models.coref.DocEncoder' has changed. you can retrieve the original source code by accessing the object's source attribute or set `torch.nn.Module.dump_patches = True` and use the patch tool to revert the changes.\n",
      "  warnings.warn(msg, SourceChangeWarning)\n"
     ]
    }
   ],
   "source": [
    "model = torch.load(\n",
    "    '../../data/coref.9.bin',\n",
    "    map_location={'cpu': 'cpu'},\n",
    ")"
   ]
  },
  {
   "cell_type": "code",
   "execution_count": 6,
   "metadata": {},
   "outputs": [
    {
     "data": {
      "text/plain": [
       "Coref(\n",
       "  (encode_doc): DocEncoder(\n",
       "    (embeddings): WordEmbedding(39414, 300)\n",
       "    (lstm): LSTM(300, 200, batch_first=True, bidirectional=True)\n",
       "    (dropout): Dropout(p=0.5)\n",
       "  )\n",
       "  (score_spans): SpanScorer(\n",
       "    (attention): Scorer(\n",
       "      (score): Sequential(\n",
       "        (0): Linear(in_features=400, out_features=150, bias=True)\n",
       "        (1): ReLU()\n",
       "        (2): Linear(in_features=150, out_features=150, bias=True)\n",
       "        (3): ReLU()\n",
       "        (4): Linear(in_features=150, out_features=1, bias=True)\n",
       "      )\n",
       "    )\n",
       "    (width_embeddings): DistanceEmbedding(9, 20)\n",
       "    (sm): Scorer(\n",
       "      (score): Sequential(\n",
       "        (0): Linear(in_features=1120, out_features=150, bias=True)\n",
       "        (1): ReLU()\n",
       "        (2): Linear(in_features=150, out_features=150, bias=True)\n",
       "        (3): ReLU()\n",
       "        (4): Linear(in_features=150, out_features=1, bias=True)\n",
       "      )\n",
       "    )\n",
       "  )\n",
       "  (score_pairs): PairScorer(\n",
       "    (dist_embeddings): DistanceEmbedding(9, 20)\n",
       "    (sa): Scorer(\n",
       "      (score): Sequential(\n",
       "        (0): Linear(in_features=3380, out_features=150, bias=True)\n",
       "        (1): ReLU()\n",
       "        (2): Linear(in_features=150, out_features=150, bias=True)\n",
       "        (3): ReLU()\n",
       "        (4): Linear(in_features=150, out_features=1, bias=True)\n",
       "      )\n",
       "    )\n",
       "  )\n",
       ")"
      ]
     },
     "execution_count": 6,
     "metadata": {},
     "output_type": "execute_result"
    }
   ],
   "source": [
    "model.eval()"
   ]
  },
  {
   "cell_type": "code",
   "execution_count": 18,
   "metadata": {},
   "outputs": [],
   "source": [
    "def score_doc(text):\n",
    "    doc = Document.from_text(text)\n",
    "    spans = model(doc)\n",
    "    return sum([sum(F.softmax(s.sij, 0)[:-1]) for s in spans]).item()"
   ]
  },
  {
   "cell_type": "code",
   "execution_count": 14,
   "metadata": {},
   "outputs": [],
   "source": [
    "class Corpus:\n",
    "\n",
    "    def __init__(self, path):\n",
    "        self.path = path\n",
    "\n",
    "    def lines(self):\n",
    "        with open(self.path) as fh:\n",
    "            for line in fh:\n",
    "                yield line.strip()\n",
    "\n",
    "    def abstract_lines(self):\n",
    "        \"\"\"Generate abstract line groups.\n",
    "        \"\"\"\n",
    "        lines = []\n",
    "        for line in self.lines():\n",
    "            if line:\n",
    "                lines.append(line)\n",
    "            else:\n",
    "                yield lines[2:]\n",
    "                lines = []"
   ]
  },
  {
   "cell_type": "code",
   "execution_count": 26,
   "metadata": {},
   "outputs": [],
   "source": [
    "c = Corpus('../../data/abstracts/test.txt')"
   ]
  },
  {
   "cell_type": "code",
   "execution_count": 29,
   "metadata": {},
   "outputs": [
    {
     "data": {
      "application/vnd.jupyter.widget-view+json": {
       "model_id": "7e725321660a4606a022f30ecc3c7e1c",
       "version_major": 2,
       "version_minor": 0
      },
      "text/html": [
       "<p>Failed to display Jupyter Widget of type <code>HBox</code>.</p>\n",
       "<p>\n",
       "  If you're reading this message in Jupyter Notebook or JupyterLab, it may mean\n",
       "  that the widgets JavaScript is still loading. If this message persists, it\n",
       "  likely means that the widgets JavaScript library is either not installed or\n",
       "  not enabled. See the <a href=\"https://ipywidgets.readthedocs.io/en/stable/user_install.html\">Jupyter\n",
       "  Widgets Documentation</a> for setup instructions.\n",
       "</p>\n",
       "<p>\n",
       "  If you're reading this message in another notebook frontend (for example, a static\n",
       "  rendering on GitHub or <a href=\"https://nbviewer.jupyter.org/\">NBViewer</a>),\n",
       "  it may mean that your frontend doesn't currently support widgets.\n",
       "</p>\n"
      ],
      "text/plain": [
       "HBox(children=(IntProgress(value=1, bar_style='info', max=1), HTML(value='')))"
      ]
     },
     "metadata": {},
     "output_type": "display_data"
    },
    {
     "name": "stdout",
     "output_type": "stream",
     "text": [
      "\n"
     ]
    }
   ],
   "source": [
    "correct, total = 0, 0\n",
    "for sents in tqdm_notebook(islice(c.abstract_lines(), 100)):\n",
    "    \n",
    "    shuffled_sents = sorted(sents, key=lambda x: random.random())\n",
    "    \n",
    "    s1 = score_doc(' '.join(sents))\n",
    "    s2 = score_doc(' '.join(shuffled_sents))\n",
    "    \n",
    "    if s1 > s2:\n",
    "        correct += 1\n",
    "        \n",
    "    total += 1"
   ]
  },
  {
   "cell_type": "code",
   "execution_count": 30,
   "metadata": {},
   "outputs": [
    {
     "data": {
      "text/plain": [
       "0.47"
      ]
     },
     "execution_count": 30,
     "metadata": {},
     "output_type": "execute_result"
    }
   ],
   "source": [
    "correct / total"
   ]
  },
  {
   "cell_type": "code",
   "execution_count": null,
   "metadata": {},
   "outputs": [],
   "source": []
  }
 ],
 "metadata": {
  "kernelspec": {
   "display_name": "Python 3",
   "language": "python",
   "name": "python3"
  },
  "language_info": {
   "codemirror_mode": {
    "name": "ipython",
    "version": 3
   },
   "file_extension": ".py",
   "mimetype": "text/x-python",
   "name": "python",
   "nbconvert_exporter": "python",
   "pygments_lexer": "ipython3",
   "version": "3.6.5"
  }
 },
 "nbformat": 4,
 "nbformat_minor": 2
}
