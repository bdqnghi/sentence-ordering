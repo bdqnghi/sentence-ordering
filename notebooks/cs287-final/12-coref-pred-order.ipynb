{
 "cells": [
  {
   "cell_type": "code",
   "execution_count": 45,
   "metadata": {},
   "outputs": [],
   "source": [
    "import torch\n",
    "import random\n",
    "\n",
    "from sent_order.conll import Corpus, Document\n",
    "\n",
    "from torch.nn import functional as F\n",
    "from itertools import islice\n",
    "from boltons.iterutils import pairwise, chunked\n",
    "from tqdm import tqdm_notebook\n",
    "from textblob import TextBlob\n",
    "\n",
    "from IPython.core.display import display, HTML"
   ]
  },
  {
   "cell_type": "code",
   "execution_count": 5,
   "metadata": {},
   "outputs": [
    {
     "name": "stderr",
     "output_type": "stream",
     "text": [
      "/Users/dclure/Projects/plot-ordering/env/lib/python3.6/site-packages/torch/serialization.py:367: SourceChangeWarning: source code of class 'sent_order.models.coref.DocEncoder' has changed. you can retrieve the original source code by accessing the object's source attribute or set `torch.nn.Module.dump_patches = True` and use the patch tool to revert the changes.\n",
      "  warnings.warn(msg, SourceChangeWarning)\n"
     ]
    }
   ],
   "source": [
    "model = torch.load(\n",
    "    '../../data/coref.9.bin',\n",
    "    map_location={'cpu': 'cpu'},\n",
    ")"
   ]
  },
  {
   "cell_type": "code",
   "execution_count": 6,
   "metadata": {},
   "outputs": [
    {
     "data": {
      "text/plain": [
       "Coref(\n",
       "  (encode_doc): DocEncoder(\n",
       "    (embeddings): WordEmbedding(39414, 300)\n",
       "    (lstm): LSTM(300, 200, batch_first=True, bidirectional=True)\n",
       "    (dropout): Dropout(p=0.5)\n",
       "  )\n",
       "  (score_spans): SpanScorer(\n",
       "    (attention): Scorer(\n",
       "      (score): Sequential(\n",
       "        (0): Linear(in_features=400, out_features=150, bias=True)\n",
       "        (1): ReLU()\n",
       "        (2): Linear(in_features=150, out_features=150, bias=True)\n",
       "        (3): ReLU()\n",
       "        (4): Linear(in_features=150, out_features=1, bias=True)\n",
       "      )\n",
       "    )\n",
       "    (width_embeddings): DistanceEmbedding(9, 20)\n",
       "    (sm): Scorer(\n",
       "      (score): Sequential(\n",
       "        (0): Linear(in_features=1120, out_features=150, bias=True)\n",
       "        (1): ReLU()\n",
       "        (2): Linear(in_features=150, out_features=150, bias=True)\n",
       "        (3): ReLU()\n",
       "        (4): Linear(in_features=150, out_features=1, bias=True)\n",
       "      )\n",
       "    )\n",
       "  )\n",
       "  (score_pairs): PairScorer(\n",
       "    (dist_embeddings): DistanceEmbedding(9, 20)\n",
       "    (sa): Scorer(\n",
       "      (score): Sequential(\n",
       "        (0): Linear(in_features=3380, out_features=150, bias=True)\n",
       "        (1): ReLU()\n",
       "        (2): Linear(in_features=150, out_features=150, bias=True)\n",
       "        (3): ReLU()\n",
       "        (4): Linear(in_features=150, out_features=1, bias=True)\n",
       "      )\n",
       "    )\n",
       "  )\n",
       ")"
      ]
     },
     "execution_count": 6,
     "metadata": {},
     "output_type": "execute_result"
    }
   ],
   "source": [
    "model.eval()"
   ]
  },
  {
   "cell_type": "code",
   "execution_count": 43,
   "metadata": {},
   "outputs": [],
   "source": [
    "c = Corpus.from_combined_file('../../data/development.conll')"
   ]
  },
  {
   "cell_type": "code",
   "execution_count": 73,
   "metadata": {
    "scrolled": false
   },
   "outputs": [
    {
     "data": {
      "application/vnd.jupyter.widget-view+json": {
       "model_id": "d3f9f7f392424fc1bc1a1f40d14893db",
       "version_major": 2,
       "version_minor": 0
      },
      "text/html": [
       "<p>Failed to display Jupyter Widget of type <code>HBox</code>.</p>\n",
       "<p>\n",
       "  If you're reading this message in Jupyter Notebook or JupyterLab, it may mean\n",
       "  that the widgets JavaScript is still loading. If this message persists, it\n",
       "  likely means that the widgets JavaScript library is either not installed or\n",
       "  not enabled. See the <a href=\"https://ipywidgets.readthedocs.io/en/stable/user_install.html\">Jupyter\n",
       "  Widgets Documentation</a> for setup instructions.\n",
       "</p>\n",
       "<p>\n",
       "  If you're reading this message in another notebook frontend (for example, a static\n",
       "  rendering on GitHub or <a href=\"https://nbviewer.jupyter.org/\">NBViewer</a>),\n",
       "  it may mean that your frontend doesn't currently support widgets.\n",
       "</p>\n"
      ],
      "text/plain": [
       "HBox(children=(IntProgress(value=0, max=343), HTML(value='')))"
      ]
     },
     "metadata": {},
     "output_type": "display_data"
    },
    {
     "name": "stdout",
     "output_type": "stream",
     "text": [
      "No candidate pairs after pruning.\n",
      "No candidate pairs after pruning.\n",
      "No candidate pairs after pruning.\n",
      "No candidate pairs after pruning.\n",
      "No candidate pairs after pruning.\n",
      "No candidate pairs after pruning.\n",
      "No candidate pairs after pruning.\n",
      "No candidate pairs after pruning.\n",
      "No candidate pairs after pruning.\n",
      "No candidate pairs after pruning.\n",
      "No candidate pairs after pruning.\n",
      "No candidate pairs after pruning.\n",
      "No candidate pairs after pruning.\n",
      "No candidate pairs after pruning.\n",
      "No candidate pairs after pruning.\n",
      "No candidate pairs after pruning.\n",
      "No candidate pairs after pruning.\n",
      "No candidate pairs after pruning.\n",
      "No candidate pairs after pruning.\n",
      "No candidate pairs after pruning.\n",
      "No candidate pairs after pruning.\n",
      "No candidate pairs after pruning.\n",
      "No candidate pairs after pruning.\n",
      "No candidate pairs after pruning.\n",
      "No candidate pairs after pruning.\n",
      "No candidate pairs after pruning.\n",
      "No candidate pairs after pruning.\n",
      "No candidate pairs after pruning.\n",
      "No candidate pairs after pruning.\n",
      "No candidate pairs after pruning.\n",
      "No candidate pairs after pruning.\n",
      "No candidate pairs after pruning.\n",
      "No candidate pairs after pruning.\n",
      "No candidate pairs after pruning.\n",
      "No candidate pairs after pruning.\n",
      "No candidate pairs after pruning.\n",
      "No candidate pairs after pruning.\n",
      "No candidate pairs after pruning.\n",
      "No candidate pairs after pruning.\n",
      "No candidate pairs after pruning.\n",
      "No candidate pairs after pruning.\n",
      "No candidate pairs after pruning.\n",
      "No candidate pairs after pruning.\n",
      "No candidate pairs after pruning.\n",
      "No candidate pairs after pruning.\n",
      "No candidate pairs after pruning.\n",
      "No candidate pairs after pruning.\n",
      "No candidate pairs after pruning.\n",
      "No candidate pairs after pruning.\n",
      "No candidate pairs after pruning.\n",
      "No candidate pairs after pruning.\n",
      "No candidate pairs after pruning.\n",
      "No candidate pairs after pruning.\n",
      "No candidate pairs after pruning.\n",
      "No candidate pairs after pruning.\n",
      "No candidate pairs after pruning.\n",
      "No candidate pairs after pruning.\n",
      "No candidate pairs after pruning.\n",
      "No candidate pairs after pruning.\n",
      "No candidate pairs after pruning.\n",
      "No candidate pairs after pruning.\n",
      "No candidate pairs after pruning.\n",
      "No candidate pairs after pruning.\n",
      "No candidate pairs after pruning.\n",
      "No candidate pairs after pruning.\n",
      "No candidate pairs after pruning.\n",
      "No candidate pairs after pruning.\n",
      "No candidate pairs after pruning.\n",
      "No candidate pairs after pruning.\n",
      "No candidate pairs after pruning.\n",
      "No candidate pairs after pruning.\n",
      "No candidate pairs after pruning.\n",
      "No candidate pairs after pruning.\n",
      "No candidate pairs after pruning.\n",
      "No candidate pairs after pruning.\n",
      "No candidate pairs after pruning.\n",
      "No candidate pairs after pruning.\n",
      "No candidate pairs after pruning.\n",
      "No candidate pairs after pruning.\n",
      "No candidate pairs after pruning.\n",
      "No candidate pairs after pruning.\n",
      "No candidate pairs after pruning.\n",
      "No candidate pairs after pruning.\n",
      "No candidate pairs after pruning.\n",
      "No candidate pairs after pruning.\n",
      "No candidate pairs after pruning.\n",
      "No candidate pairs after pruning.\n",
      "No candidate pairs after pruning.\n",
      "No candidate pairs after pruning.\n",
      "No candidate pairs after pruning.\n",
      "No candidate pairs after pruning.\n",
      "No candidate pairs after pruning.\n",
      "No candidate pairs after pruning.\n",
      "No candidate pairs after pruning.\n",
      "No candidate pairs after pruning.\n",
      "No candidate pairs after pruning.\n",
      "No candidate pairs after pruning.\n",
      "No candidate pairs after pruning.\n",
      "No candidate pairs after pruning.\n",
      "No candidate pairs after pruning.\n",
      "No candidate pairs after pruning.\n",
      "No candidate pairs after pruning.\n",
      "No candidate pairs after pruning.\n",
      "No candidate pairs after pruning.\n",
      "No candidate pairs after pruning.\n",
      "No candidate pairs after pruning.\n",
      "No candidate pairs after pruning.\n",
      "No candidate pairs after pruning.\n",
      "No candidate pairs after pruning.\n",
      "No candidate pairs after pruning.\n",
      "No candidate pairs after pruning.\n",
      "No candidate pairs after pruning.\n",
      "No candidate pairs after pruning.\n",
      "\n"
     ]
    }
   ],
   "source": [
    "correct, total = 0, 0\n",
    "for doc in tqdm_notebook(c.documents[:500]):\n",
    "    for s1, s2 in pairwise(doc.sents()):\n",
    "\n",
    "        try:\n",
    "\n",
    "            tokens1 = [t.text for t in s1]\n",
    "            tokens2 = [t.text for t in s2]\n",
    "\n",
    "            d1 = Document.from_text(' '.join(tokens1 + tokens2))\n",
    "            d2 = Document.from_text(' '.join(tokens2 + tokens1))\n",
    "            \n",
    "            spans1 = model(d1)\n",
    "            spans2 = model(d2)\n",
    "\n",
    "            score1 = sum([sum(F.softmax(s.sij, 0)[:-1]) for s in spans1]).item()\n",
    "            score2 = sum([sum(F.softmax(s.sij, 0)[:-1]) for s in spans2]).item()\n",
    "        \n",
    "            if score1 > score2:\n",
    "                correct += 1\n",
    "            \n",
    "            total += 1\n",
    "\n",
    "        except Exception as e:\n",
    "            print(e)"
   ]
  },
  {
   "cell_type": "code",
   "execution_count": 74,
   "metadata": {},
   "outputs": [
    {
     "data": {
      "text/plain": [
       "0.5202798731824642"
      ]
     },
     "execution_count": 74,
     "metadata": {},
     "output_type": "execute_result"
    }
   ],
   "source": [
    "correct / total"
   ]
  },
  {
   "cell_type": "code",
   "execution_count": 75,
   "metadata": {},
   "outputs": [
    {
     "data": {
      "text/plain": [
       "9147"
      ]
     },
     "execution_count": 75,
     "metadata": {},
     "output_type": "execute_result"
    }
   ],
   "source": [
    "total"
   ]
  },
  {
   "cell_type": "code",
   "execution_count": 66,
   "metadata": {},
   "outputs": [],
   "source": [
    "doc = TextBlob(\"\"\"\n",
    "Randall L. Stephenson, AT&T’s chief executive, said on Friday that the company had made a “big mistake” by hiring President Trump’s personal lawyer, Michael D. Cohen, to advise on the telecommunications giant’s deal to buy Time Warner.\n",
    "\n",
    "“Our company has been in the headlines for all the wrong reasons these last few days and our reputation has been damaged,” Mr. Stephenson wrote in a memo to employees. “There is no other way to say it — AT&T hiring Michael Cohen as a political consultant was a big mistake.”\n",
    "\n",
    "Mr. Stephenson’s note followed the revelation that the company had paid Mr. Cohen $600,000 to advise on the $85.4 billion merger with Time Warner and other regulatory matters. Mr. Stephenson also said in the memo that the company’s head of lobbying and external affairs, Bob Quinn, 57, would be retiring.\n",
    "\n",
    "Federal prosecutors are investigating Mr. Cohen’s business dealings, including a $130,000 payment he made to the pornographic film actress Stephanie Clifford, known professionally as Stormy Daniels, as part of a deal to buy her silence about an affair she says she had with Mr. Trump. The president has denied Ms. Clifford’s claims.\n",
    "\n",
    "The payment to Ms. Clifford was the first known activity involving Essential Consultants, a so-called shell company incorporated in Delaware by Mr. Cohen. It was through Essential Consultants that AT&T retained Mr. Cohen.\n",
    "\n",
    "AT&T was one of multiple companies Mr. Cohen approached after the election. The Swiss drugmaker Novartis paid Essential Consultants $1.2 million for a yearlong contract to provide insights on the new administration’s approach to health care policy.\n",
    "\n",
    "Novartis said its former chief executive, Joe Jimenez, hired Essential Consultants. Like Mr. Stephenson, Norvartis’ current chief executive, Vasant Narasimhan, also distanced himself from Mr. Cohen, saying this week that he had no role in the decision to hire Mr. Cohen.\n",
    "\n",
    "Novartis said it discovered soon after signing the contract that Mr. Cohen could not provide the services he had promised and allowed the contract to expire.\n",
    "\n",
    "For AT&T, the disclosure of its ties to Mr. Cohen comes at a critical moment. The company is defending its merger with Time Warner in federal court against the Justice Department’s efforts to block the deal.\n",
    "\n",
    "Mr. Stephenson insisted in his memo that “everything we did was done according to the law and entirely legitimate” and that Mr. Cohen did not do any lobbying on behalf of AT&T. Nonetheless, Mr. Stephenson added, retaining Mr. Cohen “was a serious misjudgment.”\n",
    "\n",
    "“In this instance,” he continued, “our Washington D.C. team’s vetting process clearly failed, and I take responsibility for that.”\n",
    "\n",
    "Time Warner was not aware of AT&T’s contract with Mr. Cohen, according to a person familiar with the company’s thinking. Within Time Warner this week, officials were surprised to learn about the contract with Essential Consultants.\n",
    "\n",
    "AT&T has said that Mr. Cohen approached employees in the company’s Washington office shortly after the election. The company signed a contract with him three days after Mr. Trump took the oath of office. He promised to provide advice on who the “key players” would be in Mr. Trump’s administration and “their priorities, and how they think,” AT&T said in a fact sheet released on Friday.\n",
    "\n",
    "AT&T noted in the fact sheet that Mr. Cohen was among “several consultants” the company hired as Mr. Trump was assuming the presidency. AT&T said it would not disclose the names of the other people and firms hired.\n",
    "\n",
    "Mr. Quinn was promoted to replace AT&T’s longtime head of lobbying, James Cicconi, just before the company announced its merger with Time Warner. Mr. Quinn, who began working at AT&T in the 1980s, is well connected in the political circles of both parties. But he, and the rest of the company, was surprised by the election results and had few connections to Mr. Trump’s circles.\n",
    "\n",
    "AT&T’s vast lobbying team, which includes more than 100 people, and public policy staff will now report to the company’s general counsel, David McAtee.\n",
    "\n",
    "Mr. Quinn declined to comment.\n",
    "\n",
    "Earlier this week, the company said that it had been contacted late last year about Mr. Cohen by the office of Robert S. Mueller III, the special counsel investigating Russian meddling in the 2016 election and other matters. AT&T said it had “cooperated fully” with the inquiries.\n",
    "\n",
    "Novartis said this week that it had also spoken with Mr. Mueller’s team about the payments to Mr. Cohen. Novartis said that it had cooperated fully and considers its role in the matter closed.\n",
    "\n",
    "Analysts said they did not expect the revelations about AT&T’s ties to Mr. Cohen to affect the government’s lawsuit to block the company’s merger with Time Warner.\n",
    "\n",
    "AT&T and Time Warner had suggested ahead of the trial that the Justice Department’s decision to block a merger of two companies that don’t compete was influenced by presidential politics. Mr. Trump has been vocal in his disdain for CNN’s coverage of his administration. CNN is owned by Time Warner.\n",
    "\n",
    "But Judge Richard J. Leon of United States District Court in Washington has been strict about keeping politics out of the case, which focuses on antitrust law and whether the deal would violate competition policy and harm consumers.\n",
    "\n",
    "Judge Leon is expected to deliver an opinion on the case by June 12.\n",
    "\n",
    "“These revelations come at a critical point in the trial, but they are very unlikely to have any meaningful impact on the judge’s ruling,” said Gene Kimmelman, a former senior official for the antitrust division of the Justice Department and the president of nonprofit Public Knowledge.\n",
    "\"\"\")"
   ]
  },
  {
   "cell_type": "code",
   "execution_count": 67,
   "metadata": {},
   "outputs": [
    {
     "data": {
      "application/vnd.jupyter.widget-view+json": {
       "model_id": "971fd726c09042f191c945c1962fd77d",
       "version_major": 2,
       "version_minor": 0
      },
      "text/html": [
       "<p>Failed to display Jupyter Widget of type <code>HBox</code>.</p>\n",
       "<p>\n",
       "  If you're reading this message in Jupyter Notebook or JupyterLab, it may mean\n",
       "  that the widgets JavaScript is still loading. If this message persists, it\n",
       "  likely means that the widgets JavaScript library is either not installed or\n",
       "  not enabled. See the <a href=\"https://ipywidgets.readthedocs.io/en/stable/user_install.html\">Jupyter\n",
       "  Widgets Documentation</a> for setup instructions.\n",
       "</p>\n",
       "<p>\n",
       "  If you're reading this message in another notebook frontend (for example, a static\n",
       "  rendering on GitHub or <a href=\"https://nbviewer.jupyter.org/\">NBViewer</a>),\n",
       "  it may mean that your frontend doesn't currently support widgets.\n",
       "</p>\n"
      ],
      "text/plain": [
       "HBox(children=(IntProgress(value=0, max=38), HTML(value='')))"
      ]
     },
     "metadata": {},
     "output_type": "display_data"
    },
    {
     "name": "stdout",
     "output_type": "stream",
     "text": [
      "\n"
     ]
    }
   ],
   "source": [
    "correct, total = 0, 0\n",
    "for s1, s2 in tqdm_notebook(pairwise(doc.sentences)):\n",
    "\n",
    "    try:\n",
    "\n",
    "        tokens1 = [str(t) for t in s1]\n",
    "        tokens2 = [str(t) for t in s2]\n",
    "\n",
    "        d1 = Document.from_text(' '.join(tokens1 + tokens2))\n",
    "        d2 = Document.from_text(' '.join(tokens2 + tokens1))\n",
    "\n",
    "        spans1 = model(d1)\n",
    "        spans2 = model(d2)\n",
    "\n",
    "        score1 = sum([sum(F.softmax(s.sij, 0)[:-1]) for s in spans1]).item()\n",
    "        score2 = sum([sum(F.softmax(s.sij, 0)[:-1]) for s in spans2]).item()\n",
    "\n",
    "        if score1 > score2:\n",
    "            correct += 1\n",
    "\n",
    "        total += 1\n",
    "\n",
    "    except Exception as e:\n",
    "        print(e)"
   ]
  },
  {
   "cell_type": "code",
   "execution_count": 68,
   "metadata": {},
   "outputs": [
    {
     "data": {
      "text/plain": [
       "0.47368421052631576"
      ]
     },
     "execution_count": 68,
     "metadata": {},
     "output_type": "execute_result"
    }
   ],
   "source": [
    "correct / total"
   ]
  },
  {
   "cell_type": "code",
   "execution_count": 53,
   "metadata": {},
   "outputs": [],
   "source": [
    "colors = ('blue', 'green', 'red', 'orange', 'purple')\n",
    "\n",
    "def viz_clusters(doc):\n",
    "    \n",
    "    clusters = model.predict(doc)\n",
    "    spans = model(doc)\n",
    "    \n",
    "    tags = {\n",
    "        i: tag\n",
    "        for tag, c in enumerate(clusters)\n",
    "        for i1, i2 in c\n",
    "        for i in range(i1, i2+1)\n",
    "    }\n",
    "    \n",
    "    tokens = []\n",
    "    for i, token in enumerate(doc.tokens):\n",
    "        tag = tags.get(i)\n",
    "        color = colors[tag] if tag is not None else 'black'\n",
    "        weight = 'bold' if tag is not None else 'regular'\n",
    "        tokens.append(f'<span style=\"color: {color}; font-weight: {weight};\">{token.text}</span>')\n",
    "        \n",
    "    display(HTML(' '.join(tokens)))\n",
    "    print(sum([sum(F.softmax(s.sij, 0)[:-1]) for s in spans]).item())"
   ]
  },
  {
   "cell_type": "code",
   "execution_count": 54,
   "metadata": {},
   "outputs": [
    {
     "data": {
      "text/html": [
       "<span style=\"color: blue; font-weight: bold;\">David</span> <span style=\"color: black; font-weight: regular;\">woke</span> <span style=\"color: black; font-weight: regular;\">up</span> <span style=\"color: black; font-weight: regular;\">.</span> <span style=\"color: blue; font-weight: bold;\">He</span> <span style=\"color: black; font-weight: regular;\">went</span> <span style=\"color: black; font-weight: regular;\">to</span> <span style=\"color: black; font-weight: regular;\">the</span> <span style=\"color: black; font-weight: regular;\">store</span> <span style=\"color: black; font-weight: regular;\">.</span>"
      ],
      "text/plain": [
       "<IPython.core.display.HTML object>"
      ]
     },
     "metadata": {},
     "output_type": "display_data"
    },
    {
     "name": "stdout",
     "output_type": "stream",
     "text": [
      "0.9959083199501038\n"
     ]
    }
   ],
   "source": [
    "viz_clusters(Document.from_text('David woke up. He went to the store.'))"
   ]
  },
  {
   "cell_type": "code",
   "execution_count": 55,
   "metadata": {},
   "outputs": [
    {
     "data": {
      "text/html": [
       "<span style=\"color: blue; font-weight: bold;\">He</span> <span style=\"color: black; font-weight: regular;\">went</span> <span style=\"color: black; font-weight: regular;\">to</span> <span style=\"color: black; font-weight: regular;\">the</span> <span style=\"color: black; font-weight: regular;\">store</span> <span style=\"color: black; font-weight: regular;\">.</span> <span style=\"color: blue; font-weight: bold;\">David</span> <span style=\"color: black; font-weight: regular;\">woke</span> <span style=\"color: black; font-weight: regular;\">up</span>"
      ],
      "text/plain": [
       "<IPython.core.display.HTML object>"
      ]
     },
     "metadata": {},
     "output_type": "display_data"
    },
    {
     "name": "stdout",
     "output_type": "stream",
     "text": [
      "0.5271236896514893\n"
     ]
    }
   ],
   "source": [
    "viz_clusters(Document.from_text('He went to the store. David woke up'))"
   ]
  },
  {
   "cell_type": "code",
   "execution_count": 71,
   "metadata": {},
   "outputs": [
    {
     "data": {
      "text/html": [
       "<span style=\"color: blue; font-weight: bold;\">Shayne</span> <span style=\"color: black; font-weight: regular;\">bought</span> <span style=\"color: green; font-weight: bold;\">a</span> <span style=\"color: green; font-weight: bold;\">car</span> <span style=\"color: black; font-weight: regular;\">.</span> <span style=\"color: black; font-weight: regular;\">Then</span> <span style=\"color: blue; font-weight: bold;\">he</span> <span style=\"color: black; font-weight: regular;\">drove</span> <span style=\"color: green; font-weight: bold;\">it</span> <span style=\"color: black; font-weight: regular;\">to</span> <span style=\"color: black; font-weight: regular;\">California</span> <span style=\"color: black; font-weight: regular;\">.</span>"
      ],
      "text/plain": [
       "<IPython.core.display.HTML object>"
      ]
     },
     "metadata": {},
     "output_type": "display_data"
    },
    {
     "name": "stdout",
     "output_type": "stream",
     "text": [
      "1.8547711372375488\n"
     ]
    }
   ],
   "source": [
    "viz_clusters(Document.from_text('Shayne bought a car. Then he drove it to California.'))"
   ]
  },
  {
   "cell_type": "code",
   "execution_count": 72,
   "metadata": {},
   "outputs": [
    {
     "data": {
      "text/html": [
       "<span style=\"color: black; font-weight: regular;\">Then</span> <span style=\"color: blue; font-weight: bold;\">he</span> <span style=\"color: black; font-weight: regular;\">drove</span> <span style=\"color: black; font-weight: regular;\">it</span> <span style=\"color: black; font-weight: regular;\">to</span> <span style=\"color: black; font-weight: regular;\">California</span> <span style=\"color: black; font-weight: regular;\">.</span> <span style=\"color: blue; font-weight: bold;\">Shayne</span> <span style=\"color: black; font-weight: regular;\">bought</span> <span style=\"color: black; font-weight: regular;\">a</span> <span style=\"color: black; font-weight: regular;\">car</span> <span style=\"color: black; font-weight: regular;\">.</span>"
      ],
      "text/plain": [
       "<IPython.core.display.HTML object>"
      ]
     },
     "metadata": {},
     "output_type": "display_data"
    },
    {
     "name": "stdout",
     "output_type": "stream",
     "text": [
      "0.6168746948242188\n"
     ]
    }
   ],
   "source": [
    "viz_clusters(Document.from_text('Then he drove it to California. Shayne bought a car.'))"
   ]
  },
  {
   "cell_type": "code",
   "execution_count": 64,
   "metadata": {},
   "outputs": [
    {
     "data": {
      "text/html": [
       "<span style=\"color: green; font-weight: bold;\">Mr.</span> <span style=\"color: green; font-weight: bold;\">Quinn</span> <span style=\"color: black; font-weight: regular;\">was</span> <span style=\"color: black; font-weight: regular;\">promoted</span> <span style=\"color: black; font-weight: regular;\">to</span> <span style=\"color: black; font-weight: regular;\">replace</span> <span style=\"color: black; font-weight: regular;\">AT</span> <span style=\"color: black; font-weight: regular;\">&</span> <span style=\"color: black; font-weight: regular;\">T</span> <span style=\"color: black; font-weight: regular;\">’</span> <span style=\"color: black; font-weight: regular;\">s</span> <span style=\"color: black; font-weight: regular;\">longtime</span> <span style=\"color: black; font-weight: regular;\">head</span> <span style=\"color: black; font-weight: regular;\">of</span> <span style=\"color: black; font-weight: regular;\">lobbying</span> <span style=\"color: black; font-weight: regular;\">,</span> <span style=\"color: black; font-weight: regular;\">James</span> <span style=\"color: black; font-weight: regular;\">Cicconi</span> <span style=\"color: black; font-weight: regular;\">,</span> <span style=\"color: black; font-weight: regular;\">just</span> <span style=\"color: black; font-weight: regular;\">before</span> <span style=\"color: blue; font-weight: bold;\">the</span> <span style=\"color: blue; font-weight: bold;\">company</span> <span style=\"color: black; font-weight: regular;\">announced</span> <span style=\"color: blue; font-weight: bold;\">its</span> <span style=\"color: black; font-weight: regular;\">merger</span> <span style=\"color: black; font-weight: regular;\">with</span> <span style=\"color: black; font-weight: regular;\">Time</span> <span style=\"color: black; font-weight: regular;\">Warner</span> <span style=\"color: black; font-weight: regular;\">.</span> <span style=\"color: black; font-weight: regular;\">Mr.</span> <span style=\"color: black; font-weight: regular;\">Quinn</span> <span style=\"color: black; font-weight: regular;\">,</span> <span style=\"color: black; font-weight: regular;\">who</span> <span style=\"color: black; font-weight: regular;\">began</span> <span style=\"color: black; font-weight: regular;\">working</span> <span style=\"color: black; font-weight: regular;\">at</span> <span style=\"color: black; font-weight: regular;\">AT</span> <span style=\"color: black; font-weight: regular;\">&</span> <span style=\"color: black; font-weight: regular;\">T</span> <span style=\"color: black; font-weight: regular;\">in</span> <span style=\"color: black; font-weight: regular;\">the</span> <span style=\"color: black; font-weight: regular;\">1980s</span> <span style=\"color: black; font-weight: regular;\">,</span> <span style=\"color: black; font-weight: regular;\">is</span> <span style=\"color: black; font-weight: regular;\">well</span> <span style=\"color: black; font-weight: regular;\">connected</span> <span style=\"color: black; font-weight: regular;\">in</span> <span style=\"color: black; font-weight: regular;\">the</span> <span style=\"color: black; font-weight: regular;\">political</span> <span style=\"color: black; font-weight: regular;\">circles</span> <span style=\"color: black; font-weight: regular;\">of</span> <span style=\"color: black; font-weight: regular;\">both</span> <span style=\"color: black; font-weight: regular;\">parties</span> <span style=\"color: black; font-weight: regular;\">.</span> <span style=\"color: black; font-weight: regular;\">But</span> <span style=\"color: green; font-weight: bold;\">he</span> <span style=\"color: black; font-weight: regular;\">,</span> <span style=\"color: black; font-weight: regular;\">and</span> <span style=\"color: black; font-weight: regular;\">the</span> <span style=\"color: black; font-weight: regular;\">rest</span> <span style=\"color: black; font-weight: regular;\">of</span> <span style=\"color: blue; font-weight: bold;\">the</span> <span style=\"color: blue; font-weight: bold;\">company</span> <span style=\"color: black; font-weight: regular;\">,</span> <span style=\"color: black; font-weight: regular;\">was</span> <span style=\"color: black; font-weight: regular;\">surprised</span> <span style=\"color: black; font-weight: regular;\">by</span> <span style=\"color: black; font-weight: regular;\">the</span> <span style=\"color: black; font-weight: regular;\">election</span> <span style=\"color: black; font-weight: regular;\">results</span> <span style=\"color: black; font-weight: regular;\">and</span> <span style=\"color: black; font-weight: regular;\">had</span> <span style=\"color: black; font-weight: regular;\">few</span> <span style=\"color: black; font-weight: regular;\">connections</span> <span style=\"color: black; font-weight: regular;\">to</span> <span style=\"color: black; font-weight: regular;\">Mr.</span> <span style=\"color: black; font-weight: regular;\">Trump</span> <span style=\"color: black; font-weight: regular;\">’</span> <span style=\"color: black; font-weight: regular;\">s</span> <span style=\"color: black; font-weight: regular;\">circles</span> <span style=\"color: black; font-weight: regular;\">.</span>"
      ],
      "text/plain": [
       "<IPython.core.display.HTML object>"
      ]
     },
     "metadata": {},
     "output_type": "display_data"
    },
    {
     "name": "stdout",
     "output_type": "stream",
     "text": [
      "3.47507905960083\n"
     ]
    }
   ],
   "source": [
    "viz_clusters(Document.from_text('Mr. Quinn was promoted to replace AT&T’s longtime head of lobbying, James Cicconi, just before the company announced its merger with Time Warner. Mr. Quinn, who began working at AT&T in the 1980s, is well connected in the political circles of both parties. But he, and the rest of the company, was surprised by the election results and had few connections to Mr. Trump’s circles.'))"
   ]
  },
  {
   "cell_type": "code",
   "execution_count": 65,
   "metadata": {},
   "outputs": [
    {
     "data": {
      "text/html": [
       "<span style=\"color: black; font-weight: regular;\">But</span> <span style=\"color: blue; font-weight: bold;\">he</span> <span style=\"color: black; font-weight: regular;\">,</span> <span style=\"color: black; font-weight: regular;\">and</span> <span style=\"color: black; font-weight: regular;\">the</span> <span style=\"color: black; font-weight: regular;\">rest</span> <span style=\"color: black; font-weight: regular;\">of</span> <span style=\"color: green; font-weight: bold;\">the</span> <span style=\"color: green; font-weight: bold;\">company</span> <span style=\"color: black; font-weight: regular;\">,</span> <span style=\"color: black; font-weight: regular;\">was</span> <span style=\"color: black; font-weight: regular;\">surprised</span> <span style=\"color: black; font-weight: regular;\">by</span> <span style=\"color: black; font-weight: regular;\">the</span> <span style=\"color: black; font-weight: regular;\">election</span> <span style=\"color: black; font-weight: regular;\">results</span> <span style=\"color: black; font-weight: regular;\">and</span> <span style=\"color: black; font-weight: regular;\">had</span> <span style=\"color: black; font-weight: regular;\">few</span> <span style=\"color: black; font-weight: regular;\">connections</span> <span style=\"color: black; font-weight: regular;\">to</span> <span style=\"color: black; font-weight: regular;\">Mr.</span> <span style=\"color: black; font-weight: regular;\">Trump</span> <span style=\"color: black; font-weight: regular;\">’</span> <span style=\"color: black; font-weight: regular;\">s</span> <span style=\"color: black; font-weight: regular;\">circles</span> <span style=\"color: black; font-weight: regular;\">.</span> <span style=\"color: blue; font-weight: bold;\">Mr.</span> <span style=\"color: blue; font-weight: bold;\">Quinn</span> <span style=\"color: black; font-weight: regular;\">was</span> <span style=\"color: black; font-weight: regular;\">promoted</span> <span style=\"color: black; font-weight: regular;\">to</span> <span style=\"color: black; font-weight: regular;\">replace</span> <span style=\"color: black; font-weight: regular;\">AT</span> <span style=\"color: black; font-weight: regular;\">&</span> <span style=\"color: black; font-weight: regular;\">T</span> <span style=\"color: black; font-weight: regular;\">’</span> <span style=\"color: black; font-weight: regular;\">s</span> <span style=\"color: black; font-weight: regular;\">longtime</span> <span style=\"color: black; font-weight: regular;\">head</span> <span style=\"color: black; font-weight: regular;\">of</span> <span style=\"color: black; font-weight: regular;\">lobbying</span> <span style=\"color: black; font-weight: regular;\">,</span> <span style=\"color: black; font-weight: regular;\">James</span> <span style=\"color: black; font-weight: regular;\">Cicconi</span> <span style=\"color: black; font-weight: regular;\">,</span> <span style=\"color: black; font-weight: regular;\">just</span> <span style=\"color: black; font-weight: regular;\">before</span> <span style=\"color: green; font-weight: bold;\">the</span> <span style=\"color: green; font-weight: bold;\">company</span> <span style=\"color: black; font-weight: regular;\">announced</span> <span style=\"color: green; font-weight: bold;\">its</span> <span style=\"color: black; font-weight: regular;\">merger</span> <span style=\"color: black; font-weight: regular;\">with</span> <span style=\"color: black; font-weight: regular;\">Time</span> <span style=\"color: black; font-weight: regular;\">Warner</span> <span style=\"color: black; font-weight: regular;\">.</span> <span style=\"color: black; font-weight: regular;\">Mr.</span> <span style=\"color: black; font-weight: regular;\">Quinn</span> <span style=\"color: black; font-weight: regular;\">,</span> <span style=\"color: black; font-weight: regular;\">who</span> <span style=\"color: black; font-weight: regular;\">began</span> <span style=\"color: black; font-weight: regular;\">working</span> <span style=\"color: black; font-weight: regular;\">at</span> <span style=\"color: black; font-weight: regular;\">AT</span> <span style=\"color: black; font-weight: regular;\">&</span> <span style=\"color: black; font-weight: regular;\">T</span> <span style=\"color: black; font-weight: regular;\">in</span> <span style=\"color: black; font-weight: regular;\">the</span> <span style=\"color: black; font-weight: regular;\">1980s</span> <span style=\"color: black; font-weight: regular;\">,</span> <span style=\"color: black; font-weight: regular;\">is</span> <span style=\"color: black; font-weight: regular;\">well</span> <span style=\"color: black; font-weight: regular;\">connected</span> <span style=\"color: black; font-weight: regular;\">in</span> <span style=\"color: black; font-weight: regular;\">the</span> <span style=\"color: black; font-weight: regular;\">political</span> <span style=\"color: black; font-weight: regular;\">circles</span> <span style=\"color: black; font-weight: regular;\">of</span> <span style=\"color: black; font-weight: regular;\">both</span> <span style=\"color: black; font-weight: regular;\">parties</span> <span style=\"color: black; font-weight: regular;\">.</span>"
      ],
      "text/plain": [
       "<IPython.core.display.HTML object>"
      ]
     },
     "metadata": {},
     "output_type": "display_data"
    },
    {
     "name": "stdout",
     "output_type": "stream",
     "text": [
      "2.9756550788879395\n"
     ]
    }
   ],
   "source": [
    "viz_clusters(Document.from_text(' But he, and the rest of the company, was surprised by the election results and had few connections to Mr. Trump’s circles. Mr. Quinn was promoted to replace AT&T’s longtime head of lobbying, James Cicconi, just before the company announced its merger with Time Warner. Mr. Quinn, who began working at AT&T in the 1980s, is well connected in the political circles of both parties.'))"
   ]
  },
  {
   "cell_type": "code",
   "execution_count": null,
   "metadata": {},
   "outputs": [],
   "source": []
  }
 ],
 "metadata": {
  "kernelspec": {
   "display_name": "Python 3",
   "language": "python",
   "name": "python3"
  },
  "language_info": {
   "codemirror_mode": {
    "name": "ipython",
    "version": 3
   },
   "file_extension": ".py",
   "mimetype": "text/x-python",
   "name": "python",
   "nbconvert_exporter": "python",
   "pygments_lexer": "ipython3",
   "version": "3.6.5"
  }
 },
 "nbformat": 4,
 "nbformat_minor": 2
}
