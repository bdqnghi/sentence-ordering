{
 "cells": [
  {
   "cell_type": "code",
   "execution_count": 56,
   "metadata": {},
   "outputs": [],
   "source": [
    "import torch\n",
    "import random\n",
    "\n",
    "from sent_order.conll import Corpus, Document\n",
    "\n",
    "from torch.nn import functional as F\n",
    "from itertools import islice\n",
    "from boltons.iterutils import pairwise, chunked\n",
    "from tqdm import tqdm_notebook\n",
    "\n",
    "from IPython.core.display import display, HTML"
   ]
  },
  {
   "cell_type": "code",
   "execution_count": 57,
   "metadata": {},
   "outputs": [
    {
     "name": "stderr",
     "output_type": "stream",
     "text": [
      "/Users/dclure/Projects/plot-ordering/env/lib/python3.6/site-packages/torch/serialization.py:367: SourceChangeWarning: source code of class 'sent_order.models.coref.DocEncoder' has changed. you can retrieve the original source code by accessing the object's source attribute or set `torch.nn.Module.dump_patches = True` and use the patch tool to revert the changes.\n",
      "  warnings.warn(msg, SourceChangeWarning)\n"
     ]
    }
   ],
   "source": [
    "model = torch.load(\n",
    "    '../../data/coref.4.bin',\n",
    "    map_location={'cpu': 'cpu'},\n",
    ")"
   ]
  },
  {
   "cell_type": "code",
   "execution_count": 58,
   "metadata": {},
   "outputs": [
    {
     "data": {
      "text/plain": [
       "Coref(\n",
       "  (encode_doc): DocEncoder(\n",
       "    (embeddings): WordEmbedding(39414, 300)\n",
       "    (lstm): LSTM(300, 200, batch_first=True, bidirectional=True)\n",
       "    (dropout): Dropout(p=0.5)\n",
       "  )\n",
       "  (score_spans): SpanScorer(\n",
       "    (attention): Scorer(\n",
       "      (score): Sequential(\n",
       "        (0): Linear(in_features=400, out_features=150, bias=True)\n",
       "        (1): ReLU()\n",
       "        (2): Linear(in_features=150, out_features=150, bias=True)\n",
       "        (3): ReLU()\n",
       "        (4): Linear(in_features=150, out_features=1, bias=True)\n",
       "      )\n",
       "    )\n",
       "    (width_embeddings): DistanceEmbedding(9, 20)\n",
       "    (sm): Scorer(\n",
       "      (score): Sequential(\n",
       "        (0): Linear(in_features=1120, out_features=150, bias=True)\n",
       "        (1): ReLU()\n",
       "        (2): Linear(in_features=150, out_features=150, bias=True)\n",
       "        (3): ReLU()\n",
       "        (4): Linear(in_features=150, out_features=1, bias=True)\n",
       "      )\n",
       "    )\n",
       "  )\n",
       "  (score_pairs): PairScorer(\n",
       "    (dist_embeddings): DistanceEmbedding(9, 20)\n",
       "    (sa): Scorer(\n",
       "      (score): Sequential(\n",
       "        (0): Linear(in_features=3380, out_features=150, bias=True)\n",
       "        (1): ReLU()\n",
       "        (2): Linear(in_features=150, out_features=150, bias=True)\n",
       "        (3): ReLU()\n",
       "        (4): Linear(in_features=150, out_features=1, bias=True)\n",
       "      )\n",
       "    )\n",
       "  )\n",
       ")"
      ]
     },
     "execution_count": 58,
     "metadata": {},
     "output_type": "execute_result"
    }
   ],
   "source": [
    "model.eval()"
   ]
  },
  {
   "cell_type": "code",
   "execution_count": 59,
   "metadata": {},
   "outputs": [],
   "source": [
    "c = Corpus.from_combined_file('../../data/test.conll')"
   ]
  },
  {
   "cell_type": "code",
   "execution_count": 65,
   "metadata": {},
   "outputs": [],
   "source": [
    "colors = ('blue', 'green', 'red', 'orange', 'purple')\n",
    "\n",
    "def viz_clusters(doc):\n",
    "    \n",
    "    clusters = model.predict(doc)\n",
    "    \n",
    "    tags = {\n",
    "        i: tag\n",
    "        for tag, c in enumerate(clusters)\n",
    "        for i1, i2 in c\n",
    "        for i in range(i1, i2+1)\n",
    "    }\n",
    "    \n",
    "    tokens = []\n",
    "    for i, token in enumerate(doc.tokens):\n",
    "        tag = tags.get(i)\n",
    "        color = colors[tag] if tag is not None else 'black'\n",
    "        weight = 'bold' if tag is not None else 'regular'\n",
    "        tokens.append(f'<span style=\"color: {color}; font-weight: {weight};\">{token.text}</span>')\n",
    "        \n",
    "    return HTML(' '.join(tokens))"
   ]
  },
  {
   "cell_type": "code",
   "execution_count": 66,
   "metadata": {},
   "outputs": [
    {
     "data": {
      "text/html": [
       "<span style=\"color: blue; font-weight: bold;\">David</span> <span style=\"color: black; font-weight: regular;\">woke</span> <span style=\"color: black; font-weight: regular;\">up</span> <span style=\"color: black; font-weight: regular;\">.</span> <span style=\"color: blue; font-weight: bold;\">He</span> <span style=\"color: black; font-weight: regular;\">went</span> <span style=\"color: black; font-weight: regular;\">to</span> <span style=\"color: black; font-weight: regular;\">the</span> <span style=\"color: black; font-weight: regular;\">store</span> <span style=\"color: black; font-weight: regular;\">.</span> <span style=\"color: blue; font-weight: bold;\">He</span> <span style=\"color: black; font-weight: regular;\">called</span> <span style=\"color: green; font-weight: bold;\">Kara</span> <span style=\"color: black; font-weight: regular;\">.</span> <span style=\"color: green; font-weight: bold;\">She</span> <span style=\"color: black; font-weight: regular;\">was</span> <span style=\"color: black; font-weight: regular;\">at</span> <span style=\"color: black; font-weight: regular;\">work</span> <span style=\"color: black; font-weight: regular;\">.</span>"
      ],
      "text/plain": [
       "<IPython.core.display.HTML object>"
      ]
     },
     "execution_count": 66,
     "metadata": {},
     "output_type": "execute_result"
    }
   ],
   "source": [
    "viz_clusters(Document.from_text('David woke up. He went to the store. He called Kara. She was at work.'))"
   ]
  },
  {
   "cell_type": "code",
   "execution_count": 67,
   "metadata": {},
   "outputs": [
    {
     "data": {
      "text/html": [
       "<span style=\"color: blue; font-weight: bold;\">David</span> <span style=\"color: black; font-weight: regular;\">woke</span> <span style=\"color: black; font-weight: regular;\">up</span> <span style=\"color: black; font-weight: regular;\">.</span> <span style=\"color: blue; font-weight: bold;\">He</span> <span style=\"color: black; font-weight: regular;\">went</span> <span style=\"color: black; font-weight: regular;\">to</span> <span style=\"color: black; font-weight: regular;\">the</span> <span style=\"color: black; font-weight: regular;\">store</span> <span style=\"color: black; font-weight: regular;\">.</span>"
      ],
      "text/plain": [
       "<IPython.core.display.HTML object>"
      ]
     },
     "execution_count": 67,
     "metadata": {},
     "output_type": "execute_result"
    }
   ],
   "source": [
    "viz_clusters(Document.from_text('David woke up. He went to the store.'))"
   ]
  },
  {
   "cell_type": "code",
   "execution_count": 68,
   "metadata": {},
   "outputs": [
    {
     "data": {
      "text/html": [
       "<span style=\"color: black; font-weight: regular;\">He</span> <span style=\"color: black; font-weight: regular;\">went</span> <span style=\"color: black; font-weight: regular;\">to</span> <span style=\"color: black; font-weight: regular;\">the</span> <span style=\"color: black; font-weight: regular;\">store</span> <span style=\"color: black; font-weight: regular;\">.</span> <span style=\"color: black; font-weight: regular;\">David</span> <span style=\"color: black; font-weight: regular;\">woke</span> <span style=\"color: black; font-weight: regular;\">up</span>"
      ],
      "text/plain": [
       "<IPython.core.display.HTML object>"
      ]
     },
     "execution_count": 68,
     "metadata": {},
     "output_type": "execute_result"
    }
   ],
   "source": [
    "viz_clusters(Document.from_text('He went to the store. David woke up'))"
   ]
  },
  {
   "cell_type": "code",
   "execution_count": 69,
   "metadata": {},
   "outputs": [
    {
     "data": {
      "text/html": [
       "<span style=\"color: black; font-weight: regular;\">David</span> <span style=\"color: black; font-weight: regular;\">gave</span> <span style=\"color: blue; font-weight: bold;\">Kara</span> <span style=\"color: black; font-weight: regular;\">a</span> <span style=\"color: black; font-weight: regular;\">car</span> <span style=\"color: black; font-weight: regular;\">.</span> <span style=\"color: blue; font-weight: bold;\">She</span> <span style=\"color: black; font-weight: regular;\">drove</span> <span style=\"color: black; font-weight: regular;\">it</span> <span style=\"color: black; font-weight: regular;\">to</span> <span style=\"color: black; font-weight: regular;\">California</span> <span style=\"color: black; font-weight: regular;\">.</span>"
      ],
      "text/plain": [
       "<IPython.core.display.HTML object>"
      ]
     },
     "execution_count": 69,
     "metadata": {},
     "output_type": "execute_result"
    }
   ],
   "source": [
    "viz_clusters(Document.from_text('David gave Kara a car. She drove it to California.'))"
   ]
  },
  {
   "cell_type": "code",
   "execution_count": 74,
   "metadata": {
    "scrolled": false
   },
   "outputs": [
    {
     "data": {
      "text/html": [
       "<span style=\"color: green; font-weight: bold;\">Jesus</span> <span style=\"color: black; font-weight: regular;\">came</span> <span style=\"color: black; font-weight: regular;\">near</span> <span style=\"color: blue; font-weight: bold;\">Jerusalem</span> <span style=\"color: black; font-weight: regular;\">.</span> <span style=\"color: black; font-weight: regular;\">Looking</span> <span style=\"color: black; font-weight: regular;\">at</span> <span style=\"color: blue; font-weight: bold;\">the</span> <span style=\"color: blue; font-weight: bold;\">city</span> <span style=\"color: black; font-weight: regular;\">,</span> <span style=\"color: green; font-weight: bold;\">he</span> <span style=\"color: black; font-weight: regular;\">began</span> <span style=\"color: black; font-weight: regular;\">to</span> <span style=\"color: black; font-weight: regular;\">cry</span> <span style=\"color: black; font-weight: regular;\">for</span> <span style=\"color: blue; font-weight: bold;\">it</span> <span style=\"color: black; font-weight: regular;\">and</span> <span style=\"color: black; font-weight: regular;\">said</span> <span style=\"color: black; font-weight: regular;\">,</span> <span style=\"color: black; font-weight: regular;\">``</span> <span style=\"color: green; font-weight: bold;\">I</span> <span style=\"color: black; font-weight: regular;\">wish</span> <span style=\"color: black; font-weight: regular;\">you</span> <span style=\"color: black; font-weight: regular;\">knew</span> <span style=\"color: black; font-weight: regular;\">today</span> <span style=\"color: black; font-weight: regular;\">what</span> <span style=\"color: black; font-weight: regular;\">would</span> <span style=\"color: black; font-weight: regular;\">bring</span> <span style=\"color: black; font-weight: regular;\">you</span> <span style=\"color: black; font-weight: regular;\">peace</span> <span style=\"color: black; font-weight: regular;\">.</span>"
      ],
      "text/plain": [
       "<IPython.core.display.HTML object>"
      ]
     },
     "metadata": {},
     "output_type": "display_data"
    },
    {
     "data": {
      "text/html": [
       "<span style=\"color: black; font-weight: regular;\">Looking</span> <span style=\"color: black; font-weight: regular;\">at</span> <span style=\"color: black; font-weight: regular;\">the</span> <span style=\"color: black; font-weight: regular;\">city</span> <span style=\"color: black; font-weight: regular;\">,</span> <span style=\"color: black; font-weight: regular;\">he</span> <span style=\"color: black; font-weight: regular;\">began</span> <span style=\"color: black; font-weight: regular;\">to</span> <span style=\"color: black; font-weight: regular;\">cry</span> <span style=\"color: black; font-weight: regular;\">for</span> <span style=\"color: black; font-weight: regular;\">it</span> <span style=\"color: black; font-weight: regular;\">and</span> <span style=\"color: black; font-weight: regular;\">said</span> <span style=\"color: black; font-weight: regular;\">,</span> <span style=\"color: black; font-weight: regular;\">``</span> <span style=\"color: blue; font-weight: bold;\">I</span> <span style=\"color: black; font-weight: regular;\">wish</span> <span style=\"color: black; font-weight: regular;\">you</span> <span style=\"color: black; font-weight: regular;\">knew</span> <span style=\"color: black; font-weight: regular;\">today</span> <span style=\"color: black; font-weight: regular;\">what</span> <span style=\"color: black; font-weight: regular;\">would</span> <span style=\"color: black; font-weight: regular;\">bring</span> <span style=\"color: black; font-weight: regular;\">you</span> <span style=\"color: black; font-weight: regular;\">peace</span> <span style=\"color: black; font-weight: regular;\">.</span> <span style=\"color: blue; font-weight: bold;\">Jesus</span> <span style=\"color: black; font-weight: regular;\">came</span> <span style=\"color: black; font-weight: regular;\">near</span> <span style=\"color: black; font-weight: regular;\">Jerusalem</span> <span style=\"color: black; font-weight: regular;\">.</span>"
      ],
      "text/plain": [
       "<IPython.core.display.HTML object>"
      ]
     },
     "metadata": {},
     "output_type": "display_data"
    },
    {
     "name": "stdout",
     "output_type": "stream",
     "text": [
      "---\n"
     ]
    },
    {
     "data": {
      "text/html": [
       "<span style=\"color: black; font-weight: regular;\">Wait</span> <span style=\"color: black; font-weight: regular;\">,</span> <span style=\"color: black; font-weight: regular;\">wait</span> <span style=\"color: black; font-weight: regular;\">,</span>"
      ],
      "text/plain": [
       "<IPython.core.display.HTML object>"
      ]
     },
     "metadata": {},
     "output_type": "display_data"
    },
    {
     "data": {
      "text/html": [
       "<span style=\"color: black; font-weight: regular;\">wait</span> <span style=\"color: black; font-weight: regular;\">,</span> <span style=\"color: black; font-weight: regular;\">Wait</span> <span style=\"color: black; font-weight: regular;\">,</span>"
      ],
      "text/plain": [
       "<IPython.core.display.HTML object>"
      ]
     },
     "metadata": {},
     "output_type": "display_data"
    },
    {
     "name": "stdout",
     "output_type": "stream",
     "text": [
      "---\n"
     ]
    },
    {
     "data": {
      "text/html": [
       "<span style=\"color: black; font-weight: regular;\">you</span> <span style=\"color: black; font-weight: regular;\">'re</span> <span style=\"color: black; font-weight: regular;\">being</span> <span style=\"color: black; font-weight: regular;\">protected</span> <span style=\"color: black; font-weight: regular;\">/</span> <span style=\"color: black; font-weight: regular;\">.</span> <span style=\"color: black; font-weight: regular;\">and</span> <span style=\"color: black; font-weight: regular;\">you</span> <span style=\"color: black; font-weight: regular;\">must</span> <span style=\"color: black; font-weight: regular;\">have</span> <span style=\"color: black; font-weight: regular;\">been</span> <span style=\"color: black; font-weight: regular;\">a</span> <span style=\"color: black; font-weight: regular;\">little</span> <span style=\"color: black; font-weight: regular;\">bit</span> <span style=\"color: black; font-weight: regular;\">nervous</span> <span style=\"color: black; font-weight: regular;\">of</span> <span style=\"color: black; font-weight: regular;\">what</span> <span style=\"color: black; font-weight: regular;\">the</span> <span style=\"color: black; font-weight: regular;\">safety</span> <span style=\"color: black; font-weight: regular;\">situation</span> <span style=\"color: black; font-weight: regular;\">is</span> <span style=\"color: black; font-weight: regular;\">in</span> <span style=\"color: black; font-weight: regular;\">there</span> <span style=\"color: black; font-weight: regular;\">/</span> <span style=\"color: black; font-weight: regular;\">.</span>"
      ],
      "text/plain": [
       "<IPython.core.display.HTML object>"
      ]
     },
     "metadata": {},
     "output_type": "display_data"
    },
    {
     "data": {
      "text/html": [
       "<span style=\"color: black; font-weight: regular;\">and</span> <span style=\"color: black; font-weight: regular;\">you</span> <span style=\"color: black; font-weight: regular;\">must</span> <span style=\"color: black; font-weight: regular;\">have</span> <span style=\"color: black; font-weight: regular;\">been</span> <span style=\"color: black; font-weight: regular;\">a</span> <span style=\"color: black; font-weight: regular;\">little</span> <span style=\"color: black; font-weight: regular;\">bit</span> <span style=\"color: black; font-weight: regular;\">nervous</span> <span style=\"color: black; font-weight: regular;\">of</span> <span style=\"color: black; font-weight: regular;\">what</span> <span style=\"color: black; font-weight: regular;\">the</span> <span style=\"color: black; font-weight: regular;\">safety</span> <span style=\"color: black; font-weight: regular;\">situation</span> <span style=\"color: black; font-weight: regular;\">is</span> <span style=\"color: black; font-weight: regular;\">in</span> <span style=\"color: black; font-weight: regular;\">there</span> <span style=\"color: black; font-weight: regular;\">/</span> <span style=\"color: black; font-weight: regular;\">.</span> <span style=\"color: black; font-weight: regular;\">you</span> <span style=\"color: black; font-weight: regular;\">'re</span> <span style=\"color: black; font-weight: regular;\">being</span> <span style=\"color: black; font-weight: regular;\">protected</span> <span style=\"color: black; font-weight: regular;\">/</span> <span style=\"color: black; font-weight: regular;\">.</span>"
      ],
      "text/plain": [
       "<IPython.core.display.HTML object>"
      ]
     },
     "metadata": {},
     "output_type": "display_data"
    },
    {
     "name": "stdout",
     "output_type": "stream",
     "text": [
      "---\n"
     ]
    },
    {
     "data": {
      "text/html": [
       "<span style=\"color: black; font-weight: regular;\">Can</span> <span style=\"color: blue; font-weight: bold;\">Taiwan</span> <span style=\"color: black; font-weight: regular;\">really</span> <span style=\"color: black; font-weight: regular;\">repeat</span> <span style=\"color: blue; font-weight: bold;\">its</span> <span style=\"color: black; font-weight: regular;\">success</span> <span style=\"color: black; font-weight: regular;\">in</span> <span style=\"color: black; font-weight: regular;\">the</span> <span style=\"color: black; font-weight: regular;\">semiconductor</span> <span style=\"color: black; font-weight: regular;\">industry</span> <span style=\"color: black; font-weight: regular;\">,</span> <span style=\"color: black; font-weight: regular;\">to</span> <span style=\"color: black; font-weight: regular;\">become</span> <span style=\"color: black; font-weight: regular;\">a</span> <span style=\"color: black; font-weight: regular;\">major</span> <span style=\"color: black; font-weight: regular;\">production</span> <span style=\"color: black; font-weight: regular;\">center</span> <span style=\"color: black; font-weight: regular;\">for</span> <span style=\"color: black; font-weight: regular;\">biochips</span> <span style=\"color: black; font-weight: regular;\">?</span> <span style=\"color: black; font-weight: regular;\">BMEC</span> <span style=\"color: black; font-weight: regular;\">director</span> <span style=\"color: black; font-weight: regular;\">Johnsee</span> <span style=\"color: black; font-weight: regular;\">Lee</span> <span style=\"color: black; font-weight: regular;\">observes</span> <span style=\"color: black; font-weight: regular;\">that</span> <span style=\"color: black; font-weight: regular;\">the</span> <span style=\"color: black; font-weight: regular;\">level</span> <span style=\"color: black; font-weight: regular;\">of</span> <span style=\"color: black; font-weight: regular;\">scientific</span> <span style=\"color: black; font-weight: regular;\">and</span> <span style=\"color: black; font-weight: regular;\">technical</span> <span style=\"color: black; font-weight: regular;\">know</span> <span style=\"color: black; font-weight: regular;\">-</span> <span style=\"color: black; font-weight: regular;\">how</span> <span style=\"color: black; font-weight: regular;\">required</span> <span style=\"color: black; font-weight: regular;\">for</span> <span style=\"color: black; font-weight: regular;\">biochip</span> <span style=\"color: black; font-weight: regular;\">production</span> <span style=\"color: black; font-weight: regular;\">is</span> <span style=\"color: black; font-weight: regular;\">very</span> <span style=\"color: black; font-weight: regular;\">high</span> <span style=\"color: black; font-weight: regular;\">,</span> <span style=\"color: black; font-weight: regular;\">so</span> <span style=\"color: black; font-weight: regular;\">that</span> <span style=\"color: black; font-weight: regular;\">the</span> <span style=\"color: black; font-weight: regular;\">opportunities</span> <span style=\"color: black; font-weight: regular;\">for</span> <span style=\"color: black; font-weight: regular;\">contract</span> <span style=\"color: black; font-weight: regular;\">manufacture</span> <span style=\"color: black; font-weight: regular;\">are</span> <span style=\"color: black; font-weight: regular;\">limited</span> <span style=\"color: black; font-weight: regular;\">.</span>"
      ],
      "text/plain": [
       "<IPython.core.display.HTML object>"
      ]
     },
     "metadata": {},
     "output_type": "display_data"
    },
    {
     "data": {
      "text/html": [
       "<span style=\"color: black; font-weight: regular;\">BMEC</span> <span style=\"color: black; font-weight: regular;\">director</span> <span style=\"color: black; font-weight: regular;\">Johnsee</span> <span style=\"color: black; font-weight: regular;\">Lee</span> <span style=\"color: black; font-weight: regular;\">observes</span> <span style=\"color: black; font-weight: regular;\">that</span> <span style=\"color: black; font-weight: regular;\">the</span> <span style=\"color: black; font-weight: regular;\">level</span> <span style=\"color: black; font-weight: regular;\">of</span> <span style=\"color: black; font-weight: regular;\">scientific</span> <span style=\"color: black; font-weight: regular;\">and</span> <span style=\"color: black; font-weight: regular;\">technical</span> <span style=\"color: black; font-weight: regular;\">know</span> <span style=\"color: black; font-weight: regular;\">-</span> <span style=\"color: black; font-weight: regular;\">how</span> <span style=\"color: black; font-weight: regular;\">required</span> <span style=\"color: black; font-weight: regular;\">for</span> <span style=\"color: black; font-weight: regular;\">biochip</span> <span style=\"color: black; font-weight: regular;\">production</span> <span style=\"color: black; font-weight: regular;\">is</span> <span style=\"color: black; font-weight: regular;\">very</span> <span style=\"color: black; font-weight: regular;\">high</span> <span style=\"color: black; font-weight: regular;\">,</span> <span style=\"color: black; font-weight: regular;\">so</span> <span style=\"color: black; font-weight: regular;\">that</span> <span style=\"color: black; font-weight: regular;\">the</span> <span style=\"color: black; font-weight: regular;\">opportunities</span> <span style=\"color: black; font-weight: regular;\">for</span> <span style=\"color: black; font-weight: regular;\">contract</span> <span style=\"color: black; font-weight: regular;\">manufacture</span> <span style=\"color: black; font-weight: regular;\">are</span> <span style=\"color: black; font-weight: regular;\">limited</span> <span style=\"color: black; font-weight: regular;\">.</span> <span style=\"color: black; font-weight: regular;\">Can</span> <span style=\"color: blue; font-weight: bold;\">Taiwan</span> <span style=\"color: black; font-weight: regular;\">really</span> <span style=\"color: black; font-weight: regular;\">repeat</span> <span style=\"color: blue; font-weight: bold;\">its</span> <span style=\"color: black; font-weight: regular;\">success</span> <span style=\"color: black; font-weight: regular;\">in</span> <span style=\"color: black; font-weight: regular;\">the</span> <span style=\"color: black; font-weight: regular;\">semiconductor</span> <span style=\"color: black; font-weight: regular;\">industry</span> <span style=\"color: black; font-weight: regular;\">,</span> <span style=\"color: black; font-weight: regular;\">to</span> <span style=\"color: black; font-weight: regular;\">become</span> <span style=\"color: black; font-weight: regular;\">a</span> <span style=\"color: black; font-weight: regular;\">major</span> <span style=\"color: black; font-weight: regular;\">production</span> <span style=\"color: black; font-weight: regular;\">center</span> <span style=\"color: black; font-weight: regular;\">for</span> <span style=\"color: black; font-weight: regular;\">biochips</span> <span style=\"color: black; font-weight: regular;\">?</span>"
      ],
      "text/plain": [
       "<IPython.core.display.HTML object>"
      ]
     },
     "metadata": {},
     "output_type": "display_data"
    },
    {
     "name": "stdout",
     "output_type": "stream",
     "text": [
      "---\n"
     ]
    },
    {
     "data": {
      "text/html": [
       "<span style=\"color: black; font-weight: regular;\">``</span> <span style=\"color: black; font-weight: regular;\">Most</span> <span style=\"color: black; font-weight: regular;\">people</span> <span style=\"color: black; font-weight: regular;\">,</span> <span style=\"color: black; font-weight: regular;\">''</span> <span style=\"color: black; font-weight: regular;\">he</span> <span style=\"color: black; font-weight: regular;\">says</span> <span style=\"color: black; font-weight: regular;\">,</span> <span style=\"color: black; font-weight: regular;\">``</span> <span style=\"color: black; font-weight: regular;\">have</span> <span style=\"color: black; font-weight: regular;\">no</span> <span style=\"color: black; font-weight: regular;\">idea</span> <span style=\"color: black; font-weight: regular;\">what</span> <span style=\"color: black; font-weight: regular;\">a</span> <span style=\"color: black; font-weight: regular;\">massacre</span> <span style=\"color: black; font-weight: regular;\">pattern</span> <span style=\"color: black; font-weight: regular;\">looks</span> <span style=\"color: black; font-weight: regular;\">like</span> <span style=\"color: black; font-weight: regular;\">.</span> <span style=\"color: black; font-weight: regular;\">''</span> <span style=\"color: black; font-weight: regular;\">Elaine</span> <span style=\"color: black; font-weight: regular;\">Garzarelli</span> <span style=\"color: black; font-weight: regular;\">.</span>"
      ],
      "text/plain": [
       "<IPython.core.display.HTML object>"
      ]
     },
     "metadata": {},
     "output_type": "display_data"
    },
    {
     "data": {
      "text/html": [
       "<span style=\"color: blue; font-weight: bold;\">Elaine</span> <span style=\"color: blue; font-weight: bold;\">Garzarelli</span> <span style=\"color: black; font-weight: regular;\">.</span> <span style=\"color: black; font-weight: regular;\">``</span> <span style=\"color: black; font-weight: regular;\">Most</span> <span style=\"color: black; font-weight: regular;\">people</span> <span style=\"color: black; font-weight: regular;\">,</span> <span style=\"color: black; font-weight: regular;\">''</span> <span style=\"color: blue; font-weight: bold;\">he</span> <span style=\"color: black; font-weight: regular;\">says</span> <span style=\"color: black; font-weight: regular;\">,</span> <span style=\"color: black; font-weight: regular;\">``</span> <span style=\"color: black; font-weight: regular;\">have</span> <span style=\"color: black; font-weight: regular;\">no</span> <span style=\"color: black; font-weight: regular;\">idea</span> <span style=\"color: black; font-weight: regular;\">what</span> <span style=\"color: black; font-weight: regular;\">a</span> <span style=\"color: black; font-weight: regular;\">massacre</span> <span style=\"color: black; font-weight: regular;\">pattern</span> <span style=\"color: black; font-weight: regular;\">looks</span> <span style=\"color: black; font-weight: regular;\">like</span> <span style=\"color: black; font-weight: regular;\">.</span> <span style=\"color: black; font-weight: regular;\">''</span>"
      ],
      "text/plain": [
       "<IPython.core.display.HTML object>"
      ]
     },
     "metadata": {},
     "output_type": "display_data"
    },
    {
     "name": "stdout",
     "output_type": "stream",
     "text": [
      "---\n"
     ]
    },
    {
     "data": {
      "text/html": [
       "<span style=\"color: black; font-weight: regular;\">The</span> <span style=\"color: black; font-weight: regular;\">lights</span> <span style=\"color: black; font-weight: regular;\">,</span> <span style=\"color: black; font-weight: regular;\">like</span> <span style=\"color: black; font-weight: regular;\">the</span> <span style=\"color: black; font-weight: regular;\">karaoke</span> <span style=\"color: black; font-weight: regular;\">singing</span> <span style=\"color: black; font-weight: regular;\">within</span> <span style=\"color: black; font-weight: regular;\">them</span> <span style=\"color: black; font-weight: regular;\">,</span> <span style=\"color: black; font-weight: regular;\">pulsate</span> <span style=\"color: black; font-weight: regular;\">until</span> <span style=\"color: black; font-weight: regular;\">dawn</span> <span style=\"color: black; font-weight: regular;\">no</span> <span style=\"color: black; font-weight: regular;\">matter</span> <span style=\"color: black; font-weight: regular;\">the</span> <span style=\"color: black; font-weight: regular;\">season</span> <span style=\"color: black; font-weight: regular;\">.</span> <span style=\"color: black; font-weight: regular;\">Inside</span> <span style=\"color: black; font-weight: regular;\">there</span> <span style=\"color: black; font-weight: regular;\">is</span> <span style=\"color: black; font-weight: regular;\">a</span> <span style=\"color: black; font-weight: regular;\">raucous</span> <span style=\"color: black; font-weight: regular;\">crowd</span> <span style=\"color: black; font-weight: regular;\">.</span>"
      ],
      "text/plain": [
       "<IPython.core.display.HTML object>"
      ]
     },
     "metadata": {},
     "output_type": "display_data"
    },
    {
     "data": {
      "text/html": [
       "<span style=\"color: black; font-weight: regular;\">Inside</span> <span style=\"color: black; font-weight: regular;\">there</span> <span style=\"color: black; font-weight: regular;\">is</span> <span style=\"color: black; font-weight: regular;\">a</span> <span style=\"color: black; font-weight: regular;\">raucous</span> <span style=\"color: black; font-weight: regular;\">crowd</span> <span style=\"color: black; font-weight: regular;\">.</span> <span style=\"color: black; font-weight: regular;\">The</span> <span style=\"color: black; font-weight: regular;\">lights</span> <span style=\"color: black; font-weight: regular;\">,</span> <span style=\"color: black; font-weight: regular;\">like</span> <span style=\"color: black; font-weight: regular;\">the</span> <span style=\"color: black; font-weight: regular;\">karaoke</span> <span style=\"color: black; font-weight: regular;\">singing</span> <span style=\"color: black; font-weight: regular;\">within</span> <span style=\"color: black; font-weight: regular;\">them</span> <span style=\"color: black; font-weight: regular;\">,</span> <span style=\"color: black; font-weight: regular;\">pulsate</span> <span style=\"color: black; font-weight: regular;\">until</span> <span style=\"color: black; font-weight: regular;\">dawn</span> <span style=\"color: black; font-weight: regular;\">no</span> <span style=\"color: black; font-weight: regular;\">matter</span> <span style=\"color: black; font-weight: regular;\">the</span> <span style=\"color: black; font-weight: regular;\">season</span> <span style=\"color: black; font-weight: regular;\">.</span>"
      ],
      "text/plain": [
       "<IPython.core.display.HTML object>"
      ]
     },
     "metadata": {},
     "output_type": "display_data"
    },
    {
     "name": "stdout",
     "output_type": "stream",
     "text": [
      "---\n"
     ]
    },
    {
     "data": {
      "text/html": [
       "<span style=\"color: black; font-weight: regular;\">Are</span> <span style=\"color: black; font-weight: regular;\">you</span> <span style=\"color: black; font-weight: regular;\">going</span> <span style=\"color: black; font-weight: regular;\">to</span> <span style=\"color: black; font-weight: regular;\">become</span> <span style=\"color: black; font-weight: regular;\">a</span> <span style=\"color: black; font-weight: regular;\">dual</span> <span style=\"color: black; font-weight: regular;\">citizen</span> <span style=\"color: black; font-weight: regular;\">?</span> <span style=\"color: black; font-weight: regular;\">What</span> <span style=\"color: black; font-weight: regular;\">'s</span> <span style=\"color: black; font-weight: regular;\">that</span> <span style=\"color: black; font-weight: regular;\">?</span>"
      ],
      "text/plain": [
       "<IPython.core.display.HTML object>"
      ]
     },
     "metadata": {},
     "output_type": "display_data"
    },
    {
     "data": {
      "text/html": [
       "<span style=\"color: black; font-weight: regular;\">What</span> <span style=\"color: black; font-weight: regular;\">'s</span> <span style=\"color: black; font-weight: regular;\">that</span> <span style=\"color: black; font-weight: regular;\">?</span> <span style=\"color: black; font-weight: regular;\">Are</span> <span style=\"color: black; font-weight: regular;\">you</span> <span style=\"color: black; font-weight: regular;\">going</span> <span style=\"color: black; font-weight: regular;\">to</span> <span style=\"color: black; font-weight: regular;\">become</span> <span style=\"color: black; font-weight: regular;\">a</span> <span style=\"color: black; font-weight: regular;\">dual</span> <span style=\"color: black; font-weight: regular;\">citizen</span> <span style=\"color: black; font-weight: regular;\">?</span>"
      ],
      "text/plain": [
       "<IPython.core.display.HTML object>"
      ]
     },
     "metadata": {},
     "output_type": "display_data"
    },
    {
     "name": "stdout",
     "output_type": "stream",
     "text": [
      "---\n"
     ]
    },
    {
     "data": {
      "text/html": [
       "<span style=\"color: black; font-weight: regular;\">http</span> <span style=\"color: black; font-weight: regular;\">:</span> <span style=\"color: black; font-weight: regular;\">//z08.zupload.com/download.php</span> <span style=\"color: black; font-weight: regular;\">?</span> <span style=\"color: black; font-weight: regular;\">...</span> <span style=\"color: black; font-weight: regular;\">filepath=48993</span> <span style=\"color: black; font-weight: regular;\">The</span> <span style=\"color: black; font-weight: regular;\">Islam</span> <span style=\"color: black; font-weight: regular;\">Diary</span> <span style=\"color: black; font-weight: regular;\">:</span> <span style=\"color: black; font-weight: regular;\">A</span> <span style=\"color: black; font-weight: regular;\">leader</span> <span style=\"color: black; font-weight: regular;\">of</span> <span style=\"color: black; font-weight: regular;\">the</span> <span style=\"color: black; font-weight: regular;\">Shiite</span> <span style=\"color: black; font-weight: regular;\">death</span> <span style=\"color: black; font-weight: regular;\">squads</span> <span style=\"color: black; font-weight: regular;\">in</span> <span style=\"color: black; font-weight: regular;\">Sadr</span> <span style=\"color: black; font-weight: regular;\">City</span> <span style=\"color: black; font-weight: regular;\">,</span> <span style=\"color: black; font-weight: regular;\">east</span> <span style=\"color: black; font-weight: regular;\">of</span> <span style=\"color: black; font-weight: regular;\">Baghdad</span> <span style=\"color: black; font-weight: regular;\">,</span> <span style=\"color: black; font-weight: regular;\">acknowledged</span> <span style=\"color: black; font-weight: regular;\">that</span> <span style=\"color: blue; font-weight: bold;\">the</span> <span style=\"color: blue; font-weight: bold;\">Mahdi</span> <span style=\"color: blue; font-weight: bold;\">Army</span> <span style=\"color: blue; font-weight: bold;\">militia</span> <span style=\"color: black; font-weight: regular;\">was</span> <span style=\"color: black; font-weight: regular;\">involved</span> <span style=\"color: black; font-weight: regular;\">in</span> <span style=\"color: black; font-weight: regular;\">killing</span> <span style=\"color: black; font-weight: regular;\">operations</span> <span style=\"color: black; font-weight: regular;\">of</span> <span style=\"color: black; font-weight: regular;\">Arab</span> <span style=\"color: black; font-weight: regular;\">Sunni</span> <span style=\"color: black; font-weight: regular;\">men</span> <span style=\"color: black; font-weight: regular;\">after</span> <span style=\"color: black; font-weight: regular;\">kidnapping</span> <span style=\"color: blue; font-weight: bold;\">them</span> <span style=\"color: black; font-weight: regular;\">,</span> <span style=\"color: black; font-weight: regular;\">despite</span> <span style=\"color: blue; font-weight: bold;\">their</span> <span style=\"color: black; font-weight: regular;\">relatives</span> <span style=\"color: black; font-weight: regular;\">having</span> <span style=\"color: black; font-weight: regular;\">paid</span> <span style=\"color: black; font-weight: regular;\">the</span> <span style=\"color: black; font-weight: regular;\">blood</span> <span style=\"color: black; font-weight: regular;\">money</span> <span style=\"color: black; font-weight: regular;\">demanded</span> <span style=\"color: black; font-weight: regular;\">by</span> <span style=\"color: black; font-weight: regular;\">the</span> <span style=\"color: black; font-weight: regular;\">hostage</span> <span style=\"color: black; font-weight: regular;\">-</span> <span style=\"color: black; font-weight: regular;\">takers</span> <span style=\"color: black; font-weight: regular;\">in</span> <span style=\"color: black; font-weight: regular;\">return</span> <span style=\"color: black; font-weight: regular;\">for</span> <span style=\"color: black; font-weight: regular;\">their</span> <span style=\"color: black; font-weight: regular;\">being</span> <span style=\"color: black; font-weight: regular;\">freed</span> <span style=\"color: black; font-weight: regular;\">.</span>"
      ],
      "text/plain": [
       "<IPython.core.display.HTML object>"
      ]
     },
     "metadata": {},
     "output_type": "display_data"
    },
    {
     "data": {
      "text/html": [
       "<span style=\"color: black; font-weight: regular;\">The</span> <span style=\"color: black; font-weight: regular;\">Islam</span> <span style=\"color: black; font-weight: regular;\">Diary</span> <span style=\"color: black; font-weight: regular;\">:</span> <span style=\"color: black; font-weight: regular;\">A</span> <span style=\"color: black; font-weight: regular;\">leader</span> <span style=\"color: black; font-weight: regular;\">of</span> <span style=\"color: black; font-weight: regular;\">the</span> <span style=\"color: black; font-weight: regular;\">Shiite</span> <span style=\"color: black; font-weight: regular;\">death</span> <span style=\"color: black; font-weight: regular;\">squads</span> <span style=\"color: black; font-weight: regular;\">in</span> <span style=\"color: black; font-weight: regular;\">Sadr</span> <span style=\"color: black; font-weight: regular;\">City</span> <span style=\"color: black; font-weight: regular;\">,</span> <span style=\"color: black; font-weight: regular;\">east</span> <span style=\"color: black; font-weight: regular;\">of</span> <span style=\"color: black; font-weight: regular;\">Baghdad</span> <span style=\"color: black; font-weight: regular;\">,</span> <span style=\"color: black; font-weight: regular;\">acknowledged</span> <span style=\"color: black; font-weight: regular;\">that</span> <span style=\"color: blue; font-weight: bold;\">the</span> <span style=\"color: blue; font-weight: bold;\">Mahdi</span> <span style=\"color: blue; font-weight: bold;\">Army</span> <span style=\"color: blue; font-weight: bold;\">militia</span> <span style=\"color: black; font-weight: regular;\">was</span> <span style=\"color: black; font-weight: regular;\">involved</span> <span style=\"color: black; font-weight: regular;\">in</span> <span style=\"color: black; font-weight: regular;\">killing</span> <span style=\"color: black; font-weight: regular;\">operations</span> <span style=\"color: black; font-weight: regular;\">of</span> <span style=\"color: black; font-weight: regular;\">Arab</span> <span style=\"color: black; font-weight: regular;\">Sunni</span> <span style=\"color: black; font-weight: regular;\">men</span> <span style=\"color: black; font-weight: regular;\">after</span> <span style=\"color: black; font-weight: regular;\">kidnapping</span> <span style=\"color: blue; font-weight: bold;\">them</span> <span style=\"color: black; font-weight: regular;\">,</span> <span style=\"color: black; font-weight: regular;\">despite</span> <span style=\"color: blue; font-weight: bold;\">their</span> <span style=\"color: black; font-weight: regular;\">relatives</span> <span style=\"color: black; font-weight: regular;\">having</span> <span style=\"color: black; font-weight: regular;\">paid</span> <span style=\"color: black; font-weight: regular;\">the</span> <span style=\"color: black; font-weight: regular;\">blood</span> <span style=\"color: black; font-weight: regular;\">money</span> <span style=\"color: black; font-weight: regular;\">demanded</span> <span style=\"color: black; font-weight: regular;\">by</span> <span style=\"color: black; font-weight: regular;\">the</span> <span style=\"color: black; font-weight: regular;\">hostage</span> <span style=\"color: black; font-weight: regular;\">-</span> <span style=\"color: black; font-weight: regular;\">takers</span> <span style=\"color: black; font-weight: regular;\">in</span> <span style=\"color: black; font-weight: regular;\">return</span> <span style=\"color: black; font-weight: regular;\">for</span> <span style=\"color: black; font-weight: regular;\">their</span> <span style=\"color: black; font-weight: regular;\">being</span> <span style=\"color: black; font-weight: regular;\">freed</span> <span style=\"color: black; font-weight: regular;\">.</span> <span style=\"color: black; font-weight: regular;\">http</span> <span style=\"color: black; font-weight: regular;\">:</span> <span style=\"color: black; font-weight: regular;\">//z08.zupload.com/download.php</span> <span style=\"color: black; font-weight: regular;\">?</span> <span style=\"color: black; font-weight: regular;\">...</span> <span style=\"color: black; font-weight: regular;\">filepath=48993</span>"
      ],
      "text/plain": [
       "<IPython.core.display.HTML object>"
      ]
     },
     "metadata": {},
     "output_type": "display_data"
    },
    {
     "name": "stdout",
     "output_type": "stream",
     "text": [
      "---\n"
     ]
    },
    {
     "data": {
      "text/html": [
       "<span style=\"color: black; font-weight: regular;\">``</span> <span style=\"color: black; font-weight: regular;\">We</span> <span style=\"color: black; font-weight: regular;\">do</span> <span style=\"color: black; font-weight: regular;\">n't</span> <span style=\"color: black; font-weight: regular;\">take</span> <span style=\"color: black; font-weight: regular;\">much</span> <span style=\"color: black; font-weight: regular;\">of</span> <span style=\"color: black; font-weight: regular;\">a</span> <span style=\"color: black; font-weight: regular;\">break</span> <span style=\"color: black; font-weight: regular;\">for</span> <span style=\"color: black; font-weight: regular;\">the</span> <span style=\"color: black; font-weight: regular;\">Chinese</span> <span style=\"color: black; font-weight: regular;\">New</span> <span style=\"color: black; font-weight: regular;\">Year</span> <span style=\"color: black; font-weight: regular;\">'s</span> <span style=\"color: black; font-weight: regular;\">holidays</span> <span style=\"color: black; font-weight: regular;\">,</span> <span style=\"color: black; font-weight: regular;\">``</span> <span style=\"color: black; font-weight: regular;\">says</span> <span style=\"color: black; font-weight: regular;\">Andrew</span> <span style=\"color: black; font-weight: regular;\">Yeh</span> <span style=\"color: black; font-weight: regular;\">,</span> <span style=\"color: black; font-weight: regular;\">chairman</span> <span style=\"color: black; font-weight: regular;\">of</span> <span style=\"color: black; font-weight: regular;\">Dongguan</span> <span style=\"color: black; font-weight: regular;\">'s</span> <span style=\"color: black; font-weight: regular;\">Powin</span> <span style=\"color: black; font-weight: regular;\">Electric</span> <span style=\"color: black; font-weight: regular;\">,</span> <span style=\"color: black; font-weight: regular;\">which</span> <span style=\"color: black; font-weight: regular;\">makes</span> <span style=\"color: black; font-weight: regular;\">cable</span> <span style=\"color: black; font-weight: regular;\">for</span> <span style=\"color: black; font-weight: regular;\">the</span> <span style=\"color: black; font-weight: regular;\">telecoms</span> <span style=\"color: black; font-weight: regular;\">industry</span> <span style=\"color: black; font-weight: regular;\">.</span> <span style=\"color: black; font-weight: regular;\">``</span> <span style=\"color: black; font-weight: regular;\">By</span> <span style=\"color: black; font-weight: regular;\">the</span> <span style=\"color: black; font-weight: regular;\">morning</span> <span style=\"color: black; font-weight: regular;\">of</span> <span style=\"color: black; font-weight: regular;\">the</span> <span style=\"color: black; font-weight: regular;\">third</span> <span style=\"color: black; font-weight: regular;\">day</span> <span style=\"color: black; font-weight: regular;\">we</span> <span style=\"color: black; font-weight: regular;\">start</span> <span style=\"color: black; font-weight: regular;\">up</span> <span style=\"color: black; font-weight: regular;\">again</span> <span style=\"color: black; font-weight: regular;\">with</span> <span style=\"color: black; font-weight: regular;\">three</span> <span style=\"color: black; font-weight: regular;\">shifts</span> <span style=\"color: black; font-weight: regular;\">,</span> <span style=\"color: black; font-weight: regular;\">just</span> <span style=\"color: black; font-weight: regular;\">like</span> <span style=\"color: black; font-weight: regular;\">any</span> <span style=\"color: black; font-weight: regular;\">other</span> <span style=\"color: black; font-weight: regular;\">day</span> <span style=\"color: black; font-weight: regular;\">.</span>"
      ],
      "text/plain": [
       "<IPython.core.display.HTML object>"
      ]
     },
     "metadata": {},
     "output_type": "display_data"
    },
    {
     "data": {
      "text/html": [
       "<span style=\"color: black; font-weight: regular;\">``</span> <span style=\"color: black; font-weight: regular;\">By</span> <span style=\"color: black; font-weight: regular;\">the</span> <span style=\"color: black; font-weight: regular;\">morning</span> <span style=\"color: black; font-weight: regular;\">of</span> <span style=\"color: black; font-weight: regular;\">the</span> <span style=\"color: black; font-weight: regular;\">third</span> <span style=\"color: black; font-weight: regular;\">day</span> <span style=\"color: black; font-weight: regular;\">we</span> <span style=\"color: black; font-weight: regular;\">start</span> <span style=\"color: black; font-weight: regular;\">up</span> <span style=\"color: black; font-weight: regular;\">again</span> <span style=\"color: black; font-weight: regular;\">with</span> <span style=\"color: black; font-weight: regular;\">three</span> <span style=\"color: black; font-weight: regular;\">shifts</span> <span style=\"color: black; font-weight: regular;\">,</span> <span style=\"color: black; font-weight: regular;\">just</span> <span style=\"color: black; font-weight: regular;\">like</span> <span style=\"color: black; font-weight: regular;\">any</span> <span style=\"color: black; font-weight: regular;\">other</span> <span style=\"color: black; font-weight: regular;\">day</span> <span style=\"color: black; font-weight: regular;\">.</span> <span style=\"color: black; font-weight: regular;\">``</span> <span style=\"color: black; font-weight: regular;\">We</span> <span style=\"color: black; font-weight: regular;\">do</span> <span style=\"color: black; font-weight: regular;\">n't</span> <span style=\"color: black; font-weight: regular;\">take</span> <span style=\"color: black; font-weight: regular;\">much</span> <span style=\"color: black; font-weight: regular;\">of</span> <span style=\"color: black; font-weight: regular;\">a</span> <span style=\"color: black; font-weight: regular;\">break</span> <span style=\"color: black; font-weight: regular;\">for</span> <span style=\"color: black; font-weight: regular;\">the</span> <span style=\"color: black; font-weight: regular;\">Chinese</span> <span style=\"color: black; font-weight: regular;\">New</span> <span style=\"color: black; font-weight: regular;\">Year</span> <span style=\"color: black; font-weight: regular;\">'s</span> <span style=\"color: black; font-weight: regular;\">holidays</span> <span style=\"color: black; font-weight: regular;\">,</span> <span style=\"color: black; font-weight: regular;\">``</span> <span style=\"color: black; font-weight: regular;\">says</span> <span style=\"color: black; font-weight: regular;\">Andrew</span> <span style=\"color: black; font-weight: regular;\">Yeh</span> <span style=\"color: black; font-weight: regular;\">,</span> <span style=\"color: black; font-weight: regular;\">chairman</span> <span style=\"color: black; font-weight: regular;\">of</span> <span style=\"color: black; font-weight: regular;\">Dongguan</span> <span style=\"color: black; font-weight: regular;\">'s</span> <span style=\"color: black; font-weight: regular;\">Powin</span> <span style=\"color: black; font-weight: regular;\">Electric</span> <span style=\"color: black; font-weight: regular;\">,</span> <span style=\"color: black; font-weight: regular;\">which</span> <span style=\"color: black; font-weight: regular;\">makes</span> <span style=\"color: black; font-weight: regular;\">cable</span> <span style=\"color: black; font-weight: regular;\">for</span> <span style=\"color: black; font-weight: regular;\">the</span> <span style=\"color: black; font-weight: regular;\">telecoms</span> <span style=\"color: black; font-weight: regular;\">industry</span> <span style=\"color: black; font-weight: regular;\">.</span>"
      ],
      "text/plain": [
       "<IPython.core.display.HTML object>"
      ]
     },
     "metadata": {},
     "output_type": "display_data"
    },
    {
     "name": "stdout",
     "output_type": "stream",
     "text": [
      "---\n"
     ]
    },
    {
     "data": {
      "text/html": [
       "<span style=\"color: black; font-weight: regular;\">And</span> <span style=\"color: black; font-weight: regular;\">in</span> <span style=\"color: green; font-weight: bold;\">Dongguan</span> <span style=\"color: black; font-weight: regular;\">downstream</span> <span style=\"color: blue; font-weight: bold;\">Taiwan</span> <span style=\"color: black; font-weight: regular;\">firms</span> <span style=\"color: black; font-weight: regular;\">have</span> <span style=\"color: black; font-weight: regular;\">expanded</span> <span style=\"color: black; font-weight: regular;\">into</span> <span style=\"color: black; font-weight: regular;\">the</span> <span style=\"color: black; font-weight: regular;\">mid-stream</span> <span style=\"color: black; font-weight: regular;\">,</span> <span style=\"color: black; font-weight: regular;\">becoming</span> <span style=\"color: black; font-weight: regular;\">more</span> <span style=\"color: black; font-weight: regular;\">vertically</span> <span style=\"color: black; font-weight: regular;\">integrated</span> <span style=\"color: black; font-weight: regular;\">.</span> <span style=\"color: black; font-weight: regular;\">Tahsin</span> <span style=\"color: black; font-weight: regular;\">Printing</span> <span style=\"color: black; font-weight: regular;\">only</span> <span style=\"color: black; font-weight: regular;\">made</span> <span style=\"color: black; font-weight: regular;\">paper</span> <span style=\"color: black; font-weight: regular;\">boxes</span> <span style=\"color: black; font-weight: regular;\">in</span> <span style=\"color: blue; font-weight: bold;\">Taiwan</span> <span style=\"color: black; font-weight: regular;\">but</span> <span style=\"color: black; font-weight: regular;\">when</span> <span style=\"color: red; font-weight: bold;\">they</span> <span style=\"color: black; font-weight: regular;\">set</span> <span style=\"color: black; font-weight: regular;\">up</span> <span style=\"color: black; font-weight: regular;\">a</span> <span style=\"color: black; font-weight: regular;\">plant</span> <span style=\"color: black; font-weight: regular;\">in</span> <span style=\"color: green; font-weight: bold;\">Dongguan</span> <span style=\"color: red; font-weight: bold;\">they</span> <span style=\"color: black; font-weight: regular;\">discovered</span> <span style=\"color: black; font-weight: regular;\">that</span> <span style=\"color: black; font-weight: regular;\">it</span> <span style=\"color: black; font-weight: regular;\">was</span> <span style=\"color: black; font-weight: regular;\">hard</span> <span style=\"color: black; font-weight: regular;\">to</span> <span style=\"color: black; font-weight: regular;\">obtain</span> <span style=\"color: black; font-weight: regular;\">the</span> <span style=\"color: black; font-weight: regular;\">paper</span> <span style=\"color: black; font-weight: regular;\">rolls</span> <span style=\"color: red; font-weight: bold;\">they</span> <span style=\"color: black; font-weight: regular;\">needed</span> <span style=\"color: black; font-weight: regular;\">and</span> <span style=\"color: black; font-weight: regular;\">thus</span> <span style=\"color: black; font-weight: regular;\">learned</span> <span style=\"color: black; font-weight: regular;\">how</span> <span style=\"color: black; font-weight: regular;\">to</span> <span style=\"color: black; font-weight: regular;\">make</span> <span style=\"color: red; font-weight: bold;\">them</span> <span style=\"color: red; font-weight: bold;\">themselves</span> <span style=\"color: black; font-weight: regular;\">.</span>"
      ],
      "text/plain": [
       "<IPython.core.display.HTML object>"
      ]
     },
     "metadata": {},
     "output_type": "display_data"
    },
    {
     "data": {
      "text/html": [
       "<span style=\"color: black; font-weight: regular;\">Tahsin</span> <span style=\"color: black; font-weight: regular;\">Printing</span> <span style=\"color: black; font-weight: regular;\">only</span> <span style=\"color: black; font-weight: regular;\">made</span> <span style=\"color: black; font-weight: regular;\">paper</span> <span style=\"color: black; font-weight: regular;\">boxes</span> <span style=\"color: black; font-weight: regular;\">in</span> <span style=\"color: red; font-weight: bold;\">Taiwan</span> <span style=\"color: black; font-weight: regular;\">but</span> <span style=\"color: black; font-weight: regular;\">when</span> <span style=\"color: blue; font-weight: bold;\">they</span> <span style=\"color: black; font-weight: regular;\">set</span> <span style=\"color: black; font-weight: regular;\">up</span> <span style=\"color: black; font-weight: regular;\">a</span> <span style=\"color: black; font-weight: regular;\">plant</span> <span style=\"color: black; font-weight: regular;\">in</span> <span style=\"color: green; font-weight: bold;\">Dongguan</span> <span style=\"color: blue; font-weight: bold;\">they</span> <span style=\"color: black; font-weight: regular;\">discovered</span> <span style=\"color: black; font-weight: regular;\">that</span> <span style=\"color: black; font-weight: regular;\">it</span> <span style=\"color: black; font-weight: regular;\">was</span> <span style=\"color: black; font-weight: regular;\">hard</span> <span style=\"color: black; font-weight: regular;\">to</span> <span style=\"color: black; font-weight: regular;\">obtain</span> <span style=\"color: black; font-weight: regular;\">the</span> <span style=\"color: black; font-weight: regular;\">paper</span> <span style=\"color: black; font-weight: regular;\">rolls</span> <span style=\"color: blue; font-weight: bold;\">they</span> <span style=\"color: black; font-weight: regular;\">needed</span> <span style=\"color: black; font-weight: regular;\">and</span> <span style=\"color: black; font-weight: regular;\">thus</span> <span style=\"color: black; font-weight: regular;\">learned</span> <span style=\"color: black; font-weight: regular;\">how</span> <span style=\"color: black; font-weight: regular;\">to</span> <span style=\"color: black; font-weight: regular;\">make</span> <span style=\"color: blue; font-weight: bold;\">them</span> <span style=\"color: blue; font-weight: bold;\">themselves</span> <span style=\"color: black; font-weight: regular;\">.</span> <span style=\"color: black; font-weight: regular;\">And</span> <span style=\"color: black; font-weight: regular;\">in</span> <span style=\"color: green; font-weight: bold;\">Dongguan</span> <span style=\"color: black; font-weight: regular;\">downstream</span> <span style=\"color: red; font-weight: bold;\">Taiwan</span> <span style=\"color: black; font-weight: regular;\">firms</span> <span style=\"color: black; font-weight: regular;\">have</span> <span style=\"color: black; font-weight: regular;\">expanded</span> <span style=\"color: black; font-weight: regular;\">into</span> <span style=\"color: black; font-weight: regular;\">the</span> <span style=\"color: black; font-weight: regular;\">mid-stream</span> <span style=\"color: black; font-weight: regular;\">,</span> <span style=\"color: black; font-weight: regular;\">becoming</span> <span style=\"color: black; font-weight: regular;\">more</span> <span style=\"color: black; font-weight: regular;\">vertically</span> <span style=\"color: black; font-weight: regular;\">integrated</span> <span style=\"color: black; font-weight: regular;\">.</span>"
      ],
      "text/plain": [
       "<IPython.core.display.HTML object>"
      ]
     },
     "metadata": {},
     "output_type": "display_data"
    },
    {
     "name": "stdout",
     "output_type": "stream",
     "text": [
      "---\n"
     ]
    },
    {
     "data": {
      "text/html": [
       "<span style=\"color: black; font-weight: regular;\">New</span> <span style=\"color: black; font-weight: regular;\">York</span> <span style=\"color: black; font-weight: regular;\">money</span> <span style=\"color: black; font-weight: regular;\">manager</span> <span style=\"color: black; font-weight: regular;\">Mario</span> <span style=\"color: black; font-weight: regular;\">Gabelli</span> <span style=\"color: black; font-weight: regular;\">,</span> <span style=\"color: black; font-weight: regular;\">an</span> <span style=\"color: black; font-weight: regular;\">expert</span> <span style=\"color: black; font-weight: regular;\">at</span> <span style=\"color: black; font-weight: regular;\">spotting</span> <span style=\"color: black; font-weight: regular;\">takeover</span> <span style=\"color: black; font-weight: regular;\">candidates</span> <span style=\"color: black; font-weight: regular;\">,</span> <span style=\"color: black; font-weight: regular;\">says</span> <span style=\"color: black; font-weight: regular;\">that</span> <span style=\"color: black; font-weight: regular;\">takeovers</span> <span style=\"color: black; font-weight: regular;\">are</span> <span style=\"color: black; font-weight: regular;\">n't</span> <span style=\"color: black; font-weight: regular;\">totally</span> <span style=\"color: black; font-weight: regular;\">gone</span> <span style=\"color: black; font-weight: regular;\">.</span> <span style=\"color: black; font-weight: regular;\">``</span> <span style=\"color: black; font-weight: regular;\">Companies</span> <span style=\"color: black; font-weight: regular;\">are</span> <span style=\"color: black; font-weight: regular;\">still</span> <span style=\"color: black; font-weight: regular;\">going</span> <span style=\"color: black; font-weight: regular;\">to</span> <span style=\"color: black; font-weight: regular;\">buy</span> <span style=\"color: black; font-weight: regular;\">companies</span> <span style=\"color: black; font-weight: regular;\">around</span> <span style=\"color: black; font-weight: regular;\">the</span> <span style=\"color: black; font-weight: regular;\">world</span> <span style=\"color: black; font-weight: regular;\">,</span> <span style=\"color: black; font-weight: regular;\">''</span> <span style=\"color: black; font-weight: regular;\">he</span> <span style=\"color: black; font-weight: regular;\">says</span> <span style=\"color: black; font-weight: regular;\">.</span>"
      ],
      "text/plain": [
       "<IPython.core.display.HTML object>"
      ]
     },
     "metadata": {},
     "output_type": "display_data"
    },
    {
     "data": {
      "text/html": [
       "<span style=\"color: black; font-weight: regular;\">``</span> <span style=\"color: black; font-weight: regular;\">Companies</span> <span style=\"color: black; font-weight: regular;\">are</span> <span style=\"color: black; font-weight: regular;\">still</span> <span style=\"color: black; font-weight: regular;\">going</span> <span style=\"color: black; font-weight: regular;\">to</span> <span style=\"color: black; font-weight: regular;\">buy</span> <span style=\"color: black; font-weight: regular;\">companies</span> <span style=\"color: black; font-weight: regular;\">around</span> <span style=\"color: black; font-weight: regular;\">the</span> <span style=\"color: black; font-weight: regular;\">world</span> <span style=\"color: black; font-weight: regular;\">,</span> <span style=\"color: black; font-weight: regular;\">''</span> <span style=\"color: black; font-weight: regular;\">he</span> <span style=\"color: black; font-weight: regular;\">says</span> <span style=\"color: black; font-weight: regular;\">.</span> <span style=\"color: black; font-weight: regular;\">New</span> <span style=\"color: black; font-weight: regular;\">York</span> <span style=\"color: black; font-weight: regular;\">money</span> <span style=\"color: black; font-weight: regular;\">manager</span> <span style=\"color: black; font-weight: regular;\">Mario</span> <span style=\"color: black; font-weight: regular;\">Gabelli</span> <span style=\"color: black; font-weight: regular;\">,</span> <span style=\"color: black; font-weight: regular;\">an</span> <span style=\"color: black; font-weight: regular;\">expert</span> <span style=\"color: black; font-weight: regular;\">at</span> <span style=\"color: black; font-weight: regular;\">spotting</span> <span style=\"color: black; font-weight: regular;\">takeover</span> <span style=\"color: black; font-weight: regular;\">candidates</span> <span style=\"color: black; font-weight: regular;\">,</span> <span style=\"color: black; font-weight: regular;\">says</span> <span style=\"color: black; font-weight: regular;\">that</span> <span style=\"color: black; font-weight: regular;\">takeovers</span> <span style=\"color: black; font-weight: regular;\">are</span> <span style=\"color: black; font-weight: regular;\">n't</span> <span style=\"color: black; font-weight: regular;\">totally</span> <span style=\"color: black; font-weight: regular;\">gone</span> <span style=\"color: black; font-weight: regular;\">.</span>"
      ],
      "text/plain": [
       "<IPython.core.display.HTML object>"
      ]
     },
     "metadata": {},
     "output_type": "display_data"
    },
    {
     "name": "stdout",
     "output_type": "stream",
     "text": [
      "---\n"
     ]
    },
    {
     "data": {
      "text/html": [
       "<span style=\"color: black; font-weight: regular;\">It</span> <span style=\"color: black; font-weight: regular;\">can</span> <span style=\"color: black; font-weight: regular;\">be</span> <span style=\"color: black; font-weight: regular;\">said</span> <span style=\"color: black; font-weight: regular;\">that</span> <span style=\"color: black; font-weight: regular;\">there</span> <span style=\"color: black; font-weight: regular;\">will</span> <span style=\"color: black; font-weight: regular;\">be</span> <span style=\"color: black; font-weight: regular;\">less</span> <span style=\"color: black; font-weight: regular;\">snow</span> <span style=\"color: black; font-weight: regular;\">in</span> <span style=\"color: black; font-weight: regular;\">the</span> <span style=\"color: black; font-weight: regular;\">north</span> <span style=\"color: black; font-weight: regular;\">and</span> <span style=\"color: black; font-weight: regular;\">heavier</span> <span style=\"color: black; font-weight: regular;\">rain</span> <span style=\"color: black; font-weight: regular;\">in</span> <span style=\"color: black; font-weight: regular;\">the</span> <span style=\"color: black; font-weight: regular;\">south</span> <span style=\"color: black; font-weight: regular;\">tomorrow</span> <span style=\"color: black; font-weight: regular;\">.</span> <span style=\"color: black; font-weight: regular;\">Furthermore</span> <span style=\"color: black; font-weight: regular;\">,</span> <span style=\"color: black; font-weight: regular;\">temperatures</span> <span style=\"color: black; font-weight: regular;\">tomorrow</span> <span style=\"color: black; font-weight: regular;\">in</span> <span style=\"color: black; font-weight: regular;\">many</span> <span style=\"color: black; font-weight: regular;\">places</span> <span style=\"color: black; font-weight: regular;\">south</span> <span style=\"color: black; font-weight: regular;\">of</span> <span style=\"color: black; font-weight: regular;\">the</span> <span style=\"color: black; font-weight: regular;\">Huai</span> <span style=\"color: black; font-weight: regular;\">River</span> <span style=\"color: black; font-weight: regular;\">will</span> <span style=\"color: black; font-weight: regular;\">fall</span> <span style=\"color: black; font-weight: regular;\">by</span> <span style=\"color: black; font-weight: regular;\">between</span> <span style=\"color: black; font-weight: regular;\">four</span> <span style=\"color: black; font-weight: regular;\">and</span> <span style=\"color: black; font-weight: regular;\">ten</span> <span style=\"color: black; font-weight: regular;\">degrees</span> <span style=\"color: black; font-weight: regular;\">.</span>"
      ],
      "text/plain": [
       "<IPython.core.display.HTML object>"
      ]
     },
     "metadata": {},
     "output_type": "display_data"
    },
    {
     "data": {
      "text/html": [
       "<span style=\"color: black; font-weight: regular;\">Furthermore</span> <span style=\"color: black; font-weight: regular;\">,</span> <span style=\"color: black; font-weight: regular;\">temperatures</span> <span style=\"color: black; font-weight: regular;\">tomorrow</span> <span style=\"color: black; font-weight: regular;\">in</span> <span style=\"color: black; font-weight: regular;\">many</span> <span style=\"color: black; font-weight: regular;\">places</span> <span style=\"color: black; font-weight: regular;\">south</span> <span style=\"color: black; font-weight: regular;\">of</span> <span style=\"color: black; font-weight: regular;\">the</span> <span style=\"color: black; font-weight: regular;\">Huai</span> <span style=\"color: black; font-weight: regular;\">River</span> <span style=\"color: black; font-weight: regular;\">will</span> <span style=\"color: black; font-weight: regular;\">fall</span> <span style=\"color: black; font-weight: regular;\">by</span> <span style=\"color: black; font-weight: regular;\">between</span> <span style=\"color: black; font-weight: regular;\">four</span> <span style=\"color: black; font-weight: regular;\">and</span> <span style=\"color: black; font-weight: regular;\">ten</span> <span style=\"color: black; font-weight: regular;\">degrees</span> <span style=\"color: black; font-weight: regular;\">.</span> <span style=\"color: black; font-weight: regular;\">It</span> <span style=\"color: black; font-weight: regular;\">can</span> <span style=\"color: black; font-weight: regular;\">be</span> <span style=\"color: black; font-weight: regular;\">said</span> <span style=\"color: black; font-weight: regular;\">that</span> <span style=\"color: black; font-weight: regular;\">there</span> <span style=\"color: black; font-weight: regular;\">will</span> <span style=\"color: black; font-weight: regular;\">be</span> <span style=\"color: black; font-weight: regular;\">less</span> <span style=\"color: black; font-weight: regular;\">snow</span> <span style=\"color: black; font-weight: regular;\">in</span> <span style=\"color: black; font-weight: regular;\">the</span> <span style=\"color: black; font-weight: regular;\">north</span> <span style=\"color: black; font-weight: regular;\">and</span> <span style=\"color: black; font-weight: regular;\">heavier</span> <span style=\"color: black; font-weight: regular;\">rain</span> <span style=\"color: black; font-weight: regular;\">in</span> <span style=\"color: black; font-weight: regular;\">the</span> <span style=\"color: black; font-weight: regular;\">south</span> <span style=\"color: black; font-weight: regular;\">tomorrow</span> <span style=\"color: black; font-weight: regular;\">.</span>"
      ],
      "text/plain": [
       "<IPython.core.display.HTML object>"
      ]
     },
     "metadata": {},
     "output_type": "display_data"
    },
    {
     "name": "stdout",
     "output_type": "stream",
     "text": [
      "---\n"
     ]
    },
    {
     "data": {
      "text/html": [
       "<span style=\"color: black; font-weight: regular;\">The</span> <span style=\"color: black; font-weight: regular;\">UN</span> <span style=\"color: black; font-weight: regular;\">Co-ordinator</span> <span style=\"color: black; font-weight: regular;\">for</span> <span style=\"color: black; font-weight: regular;\">Afghanistan</span> <span style=\"color: black; font-weight: regular;\">said</span> <span style=\"color: black; font-weight: regular;\">in</span> <span style=\"color: black; font-weight: regular;\">Geneva</span> <span style=\"color: black; font-weight: regular;\">,</span> <span style=\"color: black; font-weight: regular;\">the</span> <span style=\"color: black; font-weight: regular;\">proposed</span> <span style=\"color: black; font-weight: regular;\">UN</span> <span style=\"color: black; font-weight: regular;\">measure</span> <span style=\"color: black; font-weight: regular;\">could</span> <span style=\"color: black; font-weight: regular;\">block</span> <span style=\"color: black; font-weight: regular;\">badly</span> <span style=\"color: black; font-weight: regular;\">-</span> <span style=\"color: black; font-weight: regular;\">needed</span> <span style=\"color: black; font-weight: regular;\">aid</span> <span style=\"color: black; font-weight: regular;\">shipments</span> <span style=\"color: black; font-weight: regular;\">.</span> <span style=\"color: black; font-weight: regular;\">I</span> <span style=\"color: black; font-weight: regular;\">'m</span> <span style=\"color: black; font-weight: regular;\">Connie</span> <span style=\"color: black; font-weight: regular;\">Lawn</span> <span style=\"color: black; font-weight: regular;\">,</span> <span style=\"color: black; font-weight: regular;\">VOA</span> <span style=\"color: black; font-weight: regular;\">News</span> <span style=\"color: black; font-weight: regular;\">.</span>"
      ],
      "text/plain": [
       "<IPython.core.display.HTML object>"
      ]
     },
     "metadata": {},
     "output_type": "display_data"
    },
    {
     "data": {
      "text/html": [
       "<span style=\"color: black; font-weight: regular;\">I</span> <span style=\"color: black; font-weight: regular;\">'m</span> <span style=\"color: black; font-weight: regular;\">Connie</span> <span style=\"color: black; font-weight: regular;\">Lawn</span> <span style=\"color: black; font-weight: regular;\">,</span> <span style=\"color: black; font-weight: regular;\">VOA</span> <span style=\"color: black; font-weight: regular;\">News</span> <span style=\"color: black; font-weight: regular;\">.</span> <span style=\"color: black; font-weight: regular;\">The</span> <span style=\"color: black; font-weight: regular;\">UN</span> <span style=\"color: black; font-weight: regular;\">Co-ordinator</span> <span style=\"color: black; font-weight: regular;\">for</span> <span style=\"color: black; font-weight: regular;\">Afghanistan</span> <span style=\"color: black; font-weight: regular;\">said</span> <span style=\"color: black; font-weight: regular;\">in</span> <span style=\"color: black; font-weight: regular;\">Geneva</span> <span style=\"color: black; font-weight: regular;\">,</span> <span style=\"color: black; font-weight: regular;\">the</span> <span style=\"color: black; font-weight: regular;\">proposed</span> <span style=\"color: black; font-weight: regular;\">UN</span> <span style=\"color: black; font-weight: regular;\">measure</span> <span style=\"color: black; font-weight: regular;\">could</span> <span style=\"color: black; font-weight: regular;\">block</span> <span style=\"color: black; font-weight: regular;\">badly</span> <span style=\"color: black; font-weight: regular;\">-</span> <span style=\"color: black; font-weight: regular;\">needed</span> <span style=\"color: black; font-weight: regular;\">aid</span> <span style=\"color: black; font-weight: regular;\">shipments</span> <span style=\"color: black; font-weight: regular;\">.</span>"
      ],
      "text/plain": [
       "<IPython.core.display.HTML object>"
      ]
     },
     "metadata": {},
     "output_type": "display_data"
    },
    {
     "name": "stdout",
     "output_type": "stream",
     "text": [
      "---\n"
     ]
    },
    {
     "data": {
      "text/html": [
       "<span style=\"color: black; font-weight: regular;\">The</span> <span style=\"color: black; font-weight: regular;\">Source</span> <span style=\"color: black; font-weight: regular;\">of</span> <span style=\"color: black; font-weight: regular;\">the</span> <span style=\"color: black; font-weight: regular;\">Word</span> <span style=\"color: black; font-weight: regular;\">.</span> <span style=\"color: black; font-weight: regular;\">The</span> <span style=\"color: black; font-weight: regular;\">al</span> <span style=\"color: black; font-weight: regular;\">-</span> <span style=\"color: black; font-weight: regular;\">Jazeera</span> <span style=\"color: black; font-weight: regular;\">channel</span> <span style=\"color: black; font-weight: regular;\">broadcasted</span> <span style=\"color: blue; font-weight: bold;\">the</span> <span style=\"color: blue; font-weight: bold;\">film</span> <span style=\"color: black; font-weight: regular;\">``</span> <span style=\"color: black; font-weight: regular;\">The</span> <span style=\"color: black; font-weight: regular;\">Death</span> <span style=\"color: black; font-weight: regular;\">Squads</span> <span style=\"color: black; font-weight: regular;\">``</span> <span style=\"color: black; font-weight: regular;\">with</span> <span style=\"color: black; font-weight: regular;\">subtitles</span> <span style=\"color: black; font-weight: regular;\">,</span> <span style=\"color: black; font-weight: regular;\">as</span> <span style=\"color: blue; font-weight: bold;\">it</span> <span style=\"color: black; font-weight: regular;\">was</span> <span style=\"color: black; font-weight: regular;\">previously</span> <span style=\"color: black; font-weight: regular;\">shown</span> <span style=\"color: black; font-weight: regular;\">on</span> <span style=\"color: black; font-weight: regular;\">the</span> <span style=\"color: black; font-weight: regular;\">British</span> <span style=\"color: black; font-weight: regular;\">Channel</span> <span style=\"color: black; font-weight: regular;\">4</span> <span style=\"color: black; font-weight: regular;\">.</span>"
      ],
      "text/plain": [
       "<IPython.core.display.HTML object>"
      ]
     },
     "metadata": {},
     "output_type": "display_data"
    },
    {
     "data": {
      "text/html": [
       "<span style=\"color: black; font-weight: regular;\">The</span> <span style=\"color: black; font-weight: regular;\">al</span> <span style=\"color: black; font-weight: regular;\">-</span> <span style=\"color: black; font-weight: regular;\">Jazeera</span> <span style=\"color: black; font-weight: regular;\">channel</span> <span style=\"color: black; font-weight: regular;\">broadcasted</span> <span style=\"color: blue; font-weight: bold;\">the</span> <span style=\"color: blue; font-weight: bold;\">film</span> <span style=\"color: black; font-weight: regular;\">``</span> <span style=\"color: black; font-weight: regular;\">The</span> <span style=\"color: black; font-weight: regular;\">Death</span> <span style=\"color: black; font-weight: regular;\">Squads</span> <span style=\"color: black; font-weight: regular;\">``</span> <span style=\"color: black; font-weight: regular;\">with</span> <span style=\"color: black; font-weight: regular;\">subtitles</span> <span style=\"color: black; font-weight: regular;\">,</span> <span style=\"color: black; font-weight: regular;\">as</span> <span style=\"color: blue; font-weight: bold;\">it</span> <span style=\"color: black; font-weight: regular;\">was</span> <span style=\"color: black; font-weight: regular;\">previously</span> <span style=\"color: black; font-weight: regular;\">shown</span> <span style=\"color: black; font-weight: regular;\">on</span> <span style=\"color: black; font-weight: regular;\">the</span> <span style=\"color: black; font-weight: regular;\">British</span> <span style=\"color: black; font-weight: regular;\">Channel</span> <span style=\"color: black; font-weight: regular;\">4</span> <span style=\"color: black; font-weight: regular;\">.</span> <span style=\"color: black; font-weight: regular;\">The</span> <span style=\"color: black; font-weight: regular;\">Source</span> <span style=\"color: black; font-weight: regular;\">of</span> <span style=\"color: black; font-weight: regular;\">the</span> <span style=\"color: black; font-weight: regular;\">Word</span> <span style=\"color: black; font-weight: regular;\">.</span>"
      ],
      "text/plain": [
       "<IPython.core.display.HTML object>"
      ]
     },
     "metadata": {},
     "output_type": "display_data"
    },
    {
     "name": "stdout",
     "output_type": "stream",
     "text": [
      "---\n"
     ]
    },
    {
     "data": {
      "text/html": [
       "<span style=\"color: black; font-weight: regular;\">We</span> <span style=\"color: black; font-weight: regular;\">ca</span> <span style=\"color: black; font-weight: regular;\">n't</span> <span style=\"color: black; font-weight: regular;\">keep</span> <span style=\"color: black; font-weight: regular;\">up</span> <span style=\"color: black; font-weight: regular;\">with</span> <span style=\"color: black; font-weight: regular;\">our</span> <span style=\"color: black; font-weight: regular;\">orders</span> <span style=\"color: black; font-weight: regular;\">and</span> <span style=\"color: black; font-weight: regular;\">have</span> <span style=\"color: black; font-weight: regular;\">got</span> <span style=\"color: black; font-weight: regular;\">to</span> <span style=\"color: black; font-weight: regular;\">squeeze</span> <span style=\"color: black; font-weight: regular;\">five</span> <span style=\"color: black; font-weight: regular;\">days</span> <span style=\"color: black; font-weight: regular;\">of</span> <span style=\"color: black; font-weight: regular;\">work</span> <span style=\"color: black; font-weight: regular;\">into</span> <span style=\"color: black; font-weight: regular;\">every</span> <span style=\"color: black; font-weight: regular;\">24</span> <span style=\"color: black; font-weight: regular;\">hours</span> <span style=\"color: black; font-weight: regular;\">.</span> <span style=\"color: black; font-weight: regular;\">``</span> <span style=\"color: black; font-weight: regular;\">In</span> <span style=\"color: black; font-weight: regular;\">the</span> <span style=\"color: black; font-weight: regular;\">busy</span> <span style=\"color: black; font-weight: regular;\">Fucheng</span> <span style=\"color: black; font-weight: regular;\">district</span> <span style=\"color: black; font-weight: regular;\">,</span> <span style=\"color: black; font-weight: regular;\">you</span> <span style=\"color: black; font-weight: regular;\">find</span> <span style=\"color: black; font-weight: regular;\">the</span> <span style=\"color: black; font-weight: regular;\">Taiwanese</span> <span style=\"color: black; font-weight: regular;\">bars</span> <span style=\"color: black; font-weight: regular;\">,</span> <span style=\"color: black; font-weight: regular;\">covered</span> <span style=\"color: black; font-weight: regular;\">from</span> <span style=\"color: black; font-weight: regular;\">door</span> <span style=\"color: black; font-weight: regular;\">to</span> <span style=\"color: black; font-weight: regular;\">rooftop</span> <span style=\"color: black; font-weight: regular;\">with</span> <span style=\"color: black; font-weight: regular;\">flashing</span> <span style=\"color: black; font-weight: regular;\">lights</span>"
      ],
      "text/plain": [
       "<IPython.core.display.HTML object>"
      ]
     },
     "metadata": {},
     "output_type": "display_data"
    },
    {
     "data": {
      "text/html": [
       "<span style=\"color: black; font-weight: regular;\">In</span> <span style=\"color: black; font-weight: regular;\">the</span> <span style=\"color: black; font-weight: regular;\">busy</span> <span style=\"color: black; font-weight: regular;\">Fucheng</span> <span style=\"color: black; font-weight: regular;\">district</span> <span style=\"color: black; font-weight: regular;\">,</span> <span style=\"color: black; font-weight: regular;\">you</span> <span style=\"color: black; font-weight: regular;\">find</span> <span style=\"color: black; font-weight: regular;\">the</span> <span style=\"color: black; font-weight: regular;\">Taiwanese</span> <span style=\"color: black; font-weight: regular;\">bars</span> <span style=\"color: black; font-weight: regular;\">,</span> <span style=\"color: black; font-weight: regular;\">covered</span> <span style=\"color: black; font-weight: regular;\">from</span> <span style=\"color: black; font-weight: regular;\">door</span> <span style=\"color: black; font-weight: regular;\">to</span> <span style=\"color: black; font-weight: regular;\">rooftop</span> <span style=\"color: black; font-weight: regular;\">with</span> <span style=\"color: black; font-weight: regular;\">flashing</span> <span style=\"color: black; font-weight: regular;\">lights</span> <span style=\"color: black; font-weight: regular;\">We</span> <span style=\"color: black; font-weight: regular;\">ca</span> <span style=\"color: black; font-weight: regular;\">n't</span> <span style=\"color: black; font-weight: regular;\">keep</span> <span style=\"color: black; font-weight: regular;\">up</span> <span style=\"color: black; font-weight: regular;\">with</span> <span style=\"color: black; font-weight: regular;\">our</span> <span style=\"color: black; font-weight: regular;\">orders</span> <span style=\"color: black; font-weight: regular;\">and</span> <span style=\"color: black; font-weight: regular;\">have</span> <span style=\"color: black; font-weight: regular;\">got</span> <span style=\"color: black; font-weight: regular;\">to</span> <span style=\"color: black; font-weight: regular;\">squeeze</span> <span style=\"color: black; font-weight: regular;\">five</span> <span style=\"color: black; font-weight: regular;\">days</span> <span style=\"color: black; font-weight: regular;\">of</span> <span style=\"color: black; font-weight: regular;\">work</span> <span style=\"color: black; font-weight: regular;\">into</span> <span style=\"color: black; font-weight: regular;\">every</span> <span style=\"color: black; font-weight: regular;\">24</span> <span style=\"color: black; font-weight: regular;\">hours</span> <span style=\"color: black; font-weight: regular;\">.</span> <span style=\"color: black; font-weight: regular;\">``</span>"
      ],
      "text/plain": [
       "<IPython.core.display.HTML object>"
      ]
     },
     "metadata": {},
     "output_type": "display_data"
    },
    {
     "name": "stdout",
     "output_type": "stream",
     "text": [
      "---\n"
     ]
    },
    {
     "data": {
      "text/html": [
       "<span style=\"color: blue; font-weight: bold;\">He</span> <span style=\"color: black; font-weight: regular;\">decided</span> <span style=\"color: black; font-weight: regular;\">to</span> <span style=\"color: black; font-weight: regular;\">go</span> <span style=\"color: black; font-weight: regular;\">to</span> <span style=\"color: black; font-weight: regular;\">Jerusalem</span> <span style=\"color: black; font-weight: regular;\">.</span> <span style=\"color: blue; font-weight: bold;\">He</span> <span style=\"color: black; font-weight: regular;\">sent</span> <span style=\"color: black; font-weight: regular;\">some</span> <span style=\"color: black; font-weight: regular;\">men</span> <span style=\"color: black; font-weight: regular;\">ahead</span> <span style=\"color: black; font-weight: regular;\">of</span> <span style=\"color: blue; font-weight: bold;\">him</span> <span style=\"color: black; font-weight: regular;\">.</span>"
      ],
      "text/plain": [
       "<IPython.core.display.HTML object>"
      ]
     },
     "metadata": {},
     "output_type": "display_data"
    },
    {
     "data": {
      "text/html": [
       "<span style=\"color: blue; font-weight: bold;\">He</span> <span style=\"color: black; font-weight: regular;\">sent</span> <span style=\"color: black; font-weight: regular;\">some</span> <span style=\"color: black; font-weight: regular;\">men</span> <span style=\"color: black; font-weight: regular;\">ahead</span> <span style=\"color: black; font-weight: regular;\">of</span> <span style=\"color: blue; font-weight: bold;\">him</span> <span style=\"color: black; font-weight: regular;\">.</span> <span style=\"color: blue; font-weight: bold;\">He</span> <span style=\"color: black; font-weight: regular;\">decided</span> <span style=\"color: black; font-weight: regular;\">to</span> <span style=\"color: black; font-weight: regular;\">go</span> <span style=\"color: black; font-weight: regular;\">to</span> <span style=\"color: black; font-weight: regular;\">Jerusalem</span> <span style=\"color: black; font-weight: regular;\">.</span>"
      ],
      "text/plain": [
       "<IPython.core.display.HTML object>"
      ]
     },
     "metadata": {},
     "output_type": "display_data"
    },
    {
     "name": "stdout",
     "output_type": "stream",
     "text": [
      "---\n"
     ]
    },
    {
     "data": {
      "text/html": [
       "<span style=\"color: black; font-weight: regular;\">Just</span> <span style=\"color: black; font-weight: regular;\">last</span> <span style=\"color: black; font-weight: regular;\">week</span> <span style=\"color: blue; font-weight: bold;\">they</span> <span style=\"color: black; font-weight: regular;\">announced</span> <span style=\"color: blue; font-weight: bold;\">they</span> <span style=\"color: black; font-weight: regular;\">may</span> <span style=\"color: black; font-weight: regular;\">make</span> <span style=\"color: black; font-weight: regular;\">a</span> <span style=\"color: black; font-weight: regular;\">joint</span> <span style=\"color: black; font-weight: regular;\">bid</span> <span style=\"color: black; font-weight: regular;\">to</span> <span style=\"color: black; font-weight: regular;\">buy</span> <span style=\"color: black; font-weight: regular;\">Ferranti</span> <span style=\"color: black; font-weight: regular;\">International</span> <span style=\"color: black; font-weight: regular;\">Signal</span> <span style=\"color: black; font-weight: regular;\">PLC</span> <span style=\"color: black; font-weight: regular;\">,</span> <span style=\"color: black; font-weight: regular;\">a</span> <span style=\"color: black; font-weight: regular;\">smaller</span> <span style=\"color: black; font-weight: regular;\">British</span> <span style=\"color: black; font-weight: regular;\">defense</span> <span style=\"color: black; font-weight: regular;\">contractor</span> <span style=\"color: black; font-weight: regular;\">rocked</span> <span style=\"color: black; font-weight: regular;\">by</span> <span style=\"color: black; font-weight: regular;\">alleged</span> <span style=\"color: black; font-weight: regular;\">accounting</span> <span style=\"color: black; font-weight: regular;\">fraud</span> <span style=\"color: black; font-weight: regular;\">at</span> <span style=\"color: black; font-weight: regular;\">a</span> <span style=\"color: black; font-weight: regular;\">U.S.</span> <span style=\"color: black; font-weight: regular;\">unit</span> <span style=\"color: black; font-weight: regular;\">.</span> <span style=\"color: black; font-weight: regular;\">The</span> <span style=\"color: black; font-weight: regular;\">sudden</span> <span style=\"color: black; font-weight: regular;\">romance</span> <span style=\"color: black; font-weight: regular;\">of</span> <span style=\"color: black; font-weight: regular;\">British</span> <span style=\"color: black; font-weight: regular;\">Aerospace</span> <span style=\"color: black; font-weight: regular;\">and</span> <span style=\"color: black; font-weight: regular;\">Thomson</span> <span style=\"color: black; font-weight: regular;\">-</span> <span style=\"color: black; font-weight: regular;\">CSF</span> <span style=\"color: black; font-weight: regular;\">--</span> <span style=\"color: black; font-weight: regular;\">traditionally</span> <span style=\"color: black; font-weight: regular;\">bitter</span> <span style=\"color: black; font-weight: regular;\">competitors</span> <span style=\"color: black; font-weight: regular;\">for</span> <span style=\"color: black; font-weight: regular;\">Middle</span> <span style=\"color: black; font-weight: regular;\">East</span> <span style=\"color: black; font-weight: regular;\">and</span> <span style=\"color: black; font-weight: regular;\">Third</span> <span style=\"color: black; font-weight: regular;\">World</span> <span style=\"color: black; font-weight: regular;\">weapons</span> <span style=\"color: black; font-weight: regular;\">contracts</span> <span style=\"color: black; font-weight: regular;\">--</span> <span style=\"color: black; font-weight: regular;\">is</span> <span style=\"color: black; font-weight: regular;\">stirring</span> <span style=\"color: black; font-weight: regular;\">controversy</span> <span style=\"color: black; font-weight: regular;\">in</span> <span style=\"color: black; font-weight: regular;\">Western</span> <span style=\"color: black; font-weight: regular;\">Europe</span> <span style=\"color: black; font-weight: regular;\">'s</span> <span style=\"color: black; font-weight: regular;\">defense</span> <span style=\"color: black; font-weight: regular;\">industry</span> <span style=\"color: black; font-weight: regular;\">.</span>"
      ],
      "text/plain": [
       "<IPython.core.display.HTML object>"
      ]
     },
     "metadata": {},
     "output_type": "display_data"
    },
    {
     "data": {
      "text/html": [
       "<span style=\"color: black; font-weight: regular;\">The</span> <span style=\"color: black; font-weight: regular;\">sudden</span> <span style=\"color: black; font-weight: regular;\">romance</span> <span style=\"color: black; font-weight: regular;\">of</span> <span style=\"color: black; font-weight: regular;\">British</span> <span style=\"color: black; font-weight: regular;\">Aerospace</span> <span style=\"color: black; font-weight: regular;\">and</span> <span style=\"color: black; font-weight: regular;\">Thomson</span> <span style=\"color: black; font-weight: regular;\">-</span> <span style=\"color: black; font-weight: regular;\">CSF</span> <span style=\"color: black; font-weight: regular;\">--</span> <span style=\"color: black; font-weight: regular;\">traditionally</span> <span style=\"color: black; font-weight: regular;\">bitter</span> <span style=\"color: black; font-weight: regular;\">competitors</span> <span style=\"color: black; font-weight: regular;\">for</span> <span style=\"color: black; font-weight: regular;\">Middle</span> <span style=\"color: black; font-weight: regular;\">East</span> <span style=\"color: black; font-weight: regular;\">and</span> <span style=\"color: black; font-weight: regular;\">Third</span> <span style=\"color: black; font-weight: regular;\">World</span> <span style=\"color: black; font-weight: regular;\">weapons</span> <span style=\"color: black; font-weight: regular;\">contracts</span> <span style=\"color: black; font-weight: regular;\">--</span> <span style=\"color: black; font-weight: regular;\">is</span> <span style=\"color: black; font-weight: regular;\">stirring</span> <span style=\"color: black; font-weight: regular;\">controversy</span> <span style=\"color: black; font-weight: regular;\">in</span> <span style=\"color: black; font-weight: regular;\">Western</span> <span style=\"color: black; font-weight: regular;\">Europe</span> <span style=\"color: black; font-weight: regular;\">'s</span> <span style=\"color: black; font-weight: regular;\">defense</span> <span style=\"color: black; font-weight: regular;\">industry</span> <span style=\"color: black; font-weight: regular;\">.</span> <span style=\"color: black; font-weight: regular;\">Just</span> <span style=\"color: black; font-weight: regular;\">last</span> <span style=\"color: black; font-weight: regular;\">week</span> <span style=\"color: blue; font-weight: bold;\">they</span> <span style=\"color: black; font-weight: regular;\">announced</span> <span style=\"color: blue; font-weight: bold;\">they</span> <span style=\"color: black; font-weight: regular;\">may</span> <span style=\"color: black; font-weight: regular;\">make</span> <span style=\"color: black; font-weight: regular;\">a</span> <span style=\"color: black; font-weight: regular;\">joint</span> <span style=\"color: black; font-weight: regular;\">bid</span> <span style=\"color: black; font-weight: regular;\">to</span> <span style=\"color: black; font-weight: regular;\">buy</span> <span style=\"color: black; font-weight: regular;\">Ferranti</span> <span style=\"color: black; font-weight: regular;\">International</span> <span style=\"color: black; font-weight: regular;\">Signal</span> <span style=\"color: black; font-weight: regular;\">PLC</span> <span style=\"color: black; font-weight: regular;\">,</span> <span style=\"color: black; font-weight: regular;\">a</span> <span style=\"color: black; font-weight: regular;\">smaller</span> <span style=\"color: black; font-weight: regular;\">British</span> <span style=\"color: black; font-weight: regular;\">defense</span> <span style=\"color: black; font-weight: regular;\">contractor</span> <span style=\"color: black; font-weight: regular;\">rocked</span> <span style=\"color: black; font-weight: regular;\">by</span> <span style=\"color: black; font-weight: regular;\">alleged</span> <span style=\"color: black; font-weight: regular;\">accounting</span> <span style=\"color: black; font-weight: regular;\">fraud</span> <span style=\"color: black; font-weight: regular;\">at</span> <span style=\"color: black; font-weight: regular;\">a</span> <span style=\"color: black; font-weight: regular;\">U.S.</span> <span style=\"color: black; font-weight: regular;\">unit</span> <span style=\"color: black; font-weight: regular;\">.</span>"
      ],
      "text/plain": [
       "<IPython.core.display.HTML object>"
      ]
     },
     "metadata": {},
     "output_type": "display_data"
    },
    {
     "name": "stdout",
     "output_type": "stream",
     "text": [
      "---\n"
     ]
    },
    {
     "data": {
      "text/html": [
       "<span style=\"color: blue; font-weight: bold;\">I</span> <span style=\"color: black; font-weight: regular;\">want</span> <span style=\"color: black; font-weight: regular;\">to</span> <span style=\"color: black; font-weight: regular;\">tell</span> <span style=\"color: green; font-weight: bold;\">them</span> <span style=\"color: black; font-weight: regular;\">that</span> <span style=\"color: blue; font-weight: bold;\">I</span> <span style=\"color: black; font-weight: regular;\">miss</span> <span style=\"color: green; font-weight: bold;\">them</span> <span style=\"color: black; font-weight: regular;\">a</span> <span style=\"color: black; font-weight: regular;\">lot</span> <span style=\"color: black; font-weight: regular;\">.</span> <span style=\"color: black; font-weight: regular;\">Day</span> <span style=\"color: black; font-weight: regular;\">after</span> <span style=\"color: black; font-weight: regular;\">day</span> <span style=\"color: black; font-weight: regular;\">and</span> <span style=\"color: black; font-weight: regular;\">year</span> <span style=\"color: black; font-weight: regular;\">after</span> <span style=\"color: black; font-weight: regular;\">year</span> <span style=\"color: black; font-weight: regular;\">,</span> <span style=\"color: green; font-weight: bold;\">they</span> <span style=\"color: black; font-weight: regular;\">long</span> <span style=\"color: black; font-weight: regular;\">for</span> <span style=\"color: black; font-weight: regular;\">love</span> <span style=\"color: black; font-weight: regular;\">in</span> <span style=\"color: black; font-weight: regular;\">loneliness</span> <span style=\"color: black; font-weight: regular;\">and</span> <span style=\"color: black; font-weight: regular;\">wait</span> <span style=\"color: black; font-weight: regular;\">for</span> <span style=\"color: black; font-weight: regular;\">family</span> <span style=\"color: black; font-weight: regular;\">affection</span> <span style=\"color: black; font-weight: regular;\">in</span> <span style=\"color: black; font-weight: regular;\">defect</span> <span style=\"color: black; font-weight: regular;\">.</span>"
      ],
      "text/plain": [
       "<IPython.core.display.HTML object>"
      ]
     },
     "metadata": {},
     "output_type": "display_data"
    },
    {
     "data": {
      "text/html": [
       "<span style=\"color: black; font-weight: regular;\">Day</span> <span style=\"color: black; font-weight: regular;\">after</span> <span style=\"color: black; font-weight: regular;\">day</span> <span style=\"color: black; font-weight: regular;\">and</span> <span style=\"color: black; font-weight: regular;\">year</span> <span style=\"color: black; font-weight: regular;\">after</span> <span style=\"color: black; font-weight: regular;\">year</span> <span style=\"color: black; font-weight: regular;\">,</span> <span style=\"color: blue; font-weight: bold;\">they</span> <span style=\"color: black; font-weight: regular;\">long</span> <span style=\"color: black; font-weight: regular;\">for</span> <span style=\"color: black; font-weight: regular;\">love</span> <span style=\"color: black; font-weight: regular;\">in</span> <span style=\"color: black; font-weight: regular;\">loneliness</span> <span style=\"color: black; font-weight: regular;\">and</span> <span style=\"color: black; font-weight: regular;\">wait</span> <span style=\"color: black; font-weight: regular;\">for</span> <span style=\"color: black; font-weight: regular;\">family</span> <span style=\"color: black; font-weight: regular;\">affection</span> <span style=\"color: black; font-weight: regular;\">in</span> <span style=\"color: black; font-weight: regular;\">defect</span> <span style=\"color: black; font-weight: regular;\">.</span> <span style=\"color: green; font-weight: bold;\">I</span> <span style=\"color: black; font-weight: regular;\">want</span> <span style=\"color: black; font-weight: regular;\">to</span> <span style=\"color: black; font-weight: regular;\">tell</span> <span style=\"color: blue; font-weight: bold;\">them</span> <span style=\"color: black; font-weight: regular;\">that</span> <span style=\"color: green; font-weight: bold;\">I</span> <span style=\"color: black; font-weight: regular;\">miss</span> <span style=\"color: blue; font-weight: bold;\">them</span> <span style=\"color: black; font-weight: regular;\">a</span> <span style=\"color: black; font-weight: regular;\">lot</span> <span style=\"color: black; font-weight: regular;\">.</span>"
      ],
      "text/plain": [
       "<IPython.core.display.HTML object>"
      ]
     },
     "metadata": {},
     "output_type": "display_data"
    },
    {
     "name": "stdout",
     "output_type": "stream",
     "text": [
      "---\n"
     ]
    },
    {
     "data": {
      "text/html": [
       "<span style=\"color: black; font-weight: regular;\">A</span> <span style=\"color: black; font-weight: regular;\">great</span> <span style=\"color: black; font-weight: regular;\">number</span> <span style=\"color: black; font-weight: regular;\">of</span> <span style=\"color: black; font-weight: regular;\">industrial</span> <span style=\"color: black; font-weight: regular;\">processing</span> <span style=\"color: black; font-weight: regular;\">projects</span> <span style=\"color: black; font-weight: regular;\">come</span> <span style=\"color: black; font-weight: regular;\">to</span> <span style=\"color: black; font-weight: regular;\">the</span> <span style=\"color: black; font-weight: regular;\">area</span> <span style=\"color: black; font-weight: regular;\">successively</span> <span style=\"color: black; font-weight: regular;\">from</span> <span style=\"color: black; font-weight: regular;\">inside</span> <span style=\"color: black; font-weight: regular;\">and</span> <span style=\"color: black; font-weight: regular;\">outside</span> <span style=\"color: black; font-weight: regular;\">the</span> <span style=\"color: black; font-weight: regular;\">country</span> <span style=\"color: black; font-weight: regular;\">.</span> <span style=\"color: black; font-weight: regular;\">By</span> <span style=\"color: black; font-weight: regular;\">the</span> <span style=\"color: black; font-weight: regular;\">end</span> <span style=\"color: black; font-weight: regular;\">of</span> <span style=\"color: black; font-weight: regular;\">last</span> <span style=\"color: black; font-weight: regular;\">December</span> <span style=\"color: black; font-weight: regular;\">,</span> <span style=\"color: black; font-weight: regular;\">the</span> <span style=\"color: black; font-weight: regular;\">total</span> <span style=\"color: black; font-weight: regular;\">number</span> <span style=\"color: black; font-weight: regular;\">of</span> <span style=\"color: black; font-weight: regular;\">enterprises</span> <span style=\"color: black; font-weight: regular;\">in</span> <span style=\"color: black; font-weight: regular;\">the</span> <span style=\"color: black; font-weight: regular;\">bonded</span> <span style=\"color: black; font-weight: regular;\">area</span> <span style=\"color: black; font-weight: regular;\">was</span> <span style=\"color: black; font-weight: regular;\">1,614</span> <span style=\"color: black; font-weight: regular;\">,</span> <span style=\"color: black; font-weight: regular;\">of</span> <span style=\"color: black; font-weight: regular;\">which</span> <span style=\"color: black; font-weight: regular;\">260</span> <span style=\"color: black; font-weight: regular;\">were</span> <span style=\"color: black; font-weight: regular;\">foreign</span> <span style=\"color: black; font-weight: regular;\">-</span> <span style=\"color: black; font-weight: regular;\">invested</span> <span style=\"color: black; font-weight: regular;\">enterprises</span> <span style=\"color: black; font-weight: regular;\">and</span> <span style=\"color: black; font-weight: regular;\">the</span> <span style=\"color: black; font-weight: regular;\">total</span> <span style=\"color: black; font-weight: regular;\">investment</span> <span style=\"color: black; font-weight: regular;\">reached</span> <span style=\"color: black; font-weight: regular;\">1.2</span> <span style=\"color: black; font-weight: regular;\">billion</span> <span style=\"color: black; font-weight: regular;\">US</span> <span style=\"color: black; font-weight: regular;\">dollars</span> <span style=\"color: black; font-weight: regular;\">,</span> <span style=\"color: black; font-weight: regular;\">with</span> <span style=\"color: black; font-weight: regular;\">an</span> <span style=\"color: black; font-weight: regular;\">actual</span> <span style=\"color: black; font-weight: regular;\">utilized</span> <span style=\"color: black; font-weight: regular;\">foreign</span> <span style=\"color: black; font-weight: regular;\">investment</span> <span style=\"color: black; font-weight: regular;\">of</span> <span style=\"color: black; font-weight: regular;\">113</span> <span style=\"color: black; font-weight: regular;\">million</span> <span style=\"color: black; font-weight: regular;\">US</span> <span style=\"color: black; font-weight: regular;\">dollars</span> <span style=\"color: black; font-weight: regular;\">.</span>"
      ],
      "text/plain": [
       "<IPython.core.display.HTML object>"
      ]
     },
     "metadata": {},
     "output_type": "display_data"
    },
    {
     "data": {
      "text/html": [
       "<span style=\"color: black; font-weight: regular;\">By</span> <span style=\"color: black; font-weight: regular;\">the</span> <span style=\"color: black; font-weight: regular;\">end</span> <span style=\"color: black; font-weight: regular;\">of</span> <span style=\"color: black; font-weight: regular;\">last</span> <span style=\"color: black; font-weight: regular;\">December</span> <span style=\"color: black; font-weight: regular;\">,</span> <span style=\"color: black; font-weight: regular;\">the</span> <span style=\"color: black; font-weight: regular;\">total</span> <span style=\"color: black; font-weight: regular;\">number</span> <span style=\"color: black; font-weight: regular;\">of</span> <span style=\"color: black; font-weight: regular;\">enterprises</span> <span style=\"color: black; font-weight: regular;\">in</span> <span style=\"color: black; font-weight: regular;\">the</span> <span style=\"color: black; font-weight: regular;\">bonded</span> <span style=\"color: black; font-weight: regular;\">area</span> <span style=\"color: black; font-weight: regular;\">was</span> <span style=\"color: black; font-weight: regular;\">1,614</span> <span style=\"color: black; font-weight: regular;\">,</span> <span style=\"color: black; font-weight: regular;\">of</span> <span style=\"color: black; font-weight: regular;\">which</span> <span style=\"color: black; font-weight: regular;\">260</span> <span style=\"color: black; font-weight: regular;\">were</span> <span style=\"color: black; font-weight: regular;\">foreign</span> <span style=\"color: black; font-weight: regular;\">-</span> <span style=\"color: black; font-weight: regular;\">invested</span> <span style=\"color: black; font-weight: regular;\">enterprises</span> <span style=\"color: black; font-weight: regular;\">and</span> <span style=\"color: black; font-weight: regular;\">the</span> <span style=\"color: black; font-weight: regular;\">total</span> <span style=\"color: black; font-weight: regular;\">investment</span> <span style=\"color: black; font-weight: regular;\">reached</span> <span style=\"color: black; font-weight: regular;\">1.2</span> <span style=\"color: black; font-weight: regular;\">billion</span> <span style=\"color: black; font-weight: regular;\">US</span> <span style=\"color: black; font-weight: regular;\">dollars</span> <span style=\"color: black; font-weight: regular;\">,</span> <span style=\"color: black; font-weight: regular;\">with</span> <span style=\"color: black; font-weight: regular;\">an</span> <span style=\"color: black; font-weight: regular;\">actual</span> <span style=\"color: black; font-weight: regular;\">utilized</span> <span style=\"color: black; font-weight: regular;\">foreign</span> <span style=\"color: black; font-weight: regular;\">investment</span> <span style=\"color: black; font-weight: regular;\">of</span> <span style=\"color: black; font-weight: regular;\">113</span> <span style=\"color: black; font-weight: regular;\">million</span> <span style=\"color: black; font-weight: regular;\">US</span> <span style=\"color: black; font-weight: regular;\">dollars</span> <span style=\"color: black; font-weight: regular;\">.</span> <span style=\"color: black; font-weight: regular;\">A</span> <span style=\"color: black; font-weight: regular;\">great</span> <span style=\"color: black; font-weight: regular;\">number</span> <span style=\"color: black; font-weight: regular;\">of</span> <span style=\"color: black; font-weight: regular;\">industrial</span> <span style=\"color: black; font-weight: regular;\">processing</span> <span style=\"color: black; font-weight: regular;\">projects</span> <span style=\"color: black; font-weight: regular;\">come</span> <span style=\"color: black; font-weight: regular;\">to</span> <span style=\"color: black; font-weight: regular;\">the</span> <span style=\"color: black; font-weight: regular;\">area</span> <span style=\"color: black; font-weight: regular;\">successively</span> <span style=\"color: black; font-weight: regular;\">from</span> <span style=\"color: black; font-weight: regular;\">inside</span> <span style=\"color: black; font-weight: regular;\">and</span> <span style=\"color: black; font-weight: regular;\">outside</span> <span style=\"color: black; font-weight: regular;\">the</span> <span style=\"color: black; font-weight: regular;\">country</span> <span style=\"color: black; font-weight: regular;\">.</span>"
      ],
      "text/plain": [
       "<IPython.core.display.HTML object>"
      ]
     },
     "metadata": {},
     "output_type": "display_data"
    },
    {
     "name": "stdout",
     "output_type": "stream",
     "text": [
      "---\n"
     ]
    },
    {
     "data": {
      "text/html": [
       "<span style=\"color: blue; font-weight: bold;\">He</span> <span style=\"color: black; font-weight: regular;\">answered</span> <span style=\"color: black; font-weight: regular;\">,</span> <span style=\"color: black; font-weight: regular;\">``</span> <span style=\"color: blue; font-weight: bold;\">I</span> <span style=\"color: black; font-weight: regular;\">have</span> <span style=\"color: black; font-weight: regular;\">already</span> <span style=\"color: black; font-weight: regular;\">told</span> <span style=\"color: black; font-weight: regular;\">you</span> <span style=\"color: black; font-weight: regular;\">that</span> <span style=\"color: black; font-weight: regular;\">.</span> <span style=\"color: black; font-weight: regular;\">But</span> <span style=\"color: black; font-weight: regular;\">you</span> <span style=\"color: black; font-weight: regular;\">would</span> <span style=\"color: black; font-weight: regular;\">not</span> <span style=\"color: black; font-weight: regular;\">listen</span> <span style=\"color: black; font-weight: regular;\">to</span> <span style=\"color: blue; font-weight: bold;\">me</span> <span style=\"color: black; font-weight: regular;\">.</span>"
      ],
      "text/plain": [
       "<IPython.core.display.HTML object>"
      ]
     },
     "metadata": {},
     "output_type": "display_data"
    },
    {
     "data": {
      "text/html": [
       "<span style=\"color: black; font-weight: regular;\">But</span> <span style=\"color: black; font-weight: regular;\">you</span> <span style=\"color: black; font-weight: regular;\">would</span> <span style=\"color: black; font-weight: regular;\">not</span> <span style=\"color: black; font-weight: regular;\">listen</span> <span style=\"color: black; font-weight: regular;\">to</span> <span style=\"color: blue; font-weight: bold;\">me</span> <span style=\"color: black; font-weight: regular;\">.</span> <span style=\"color: black; font-weight: regular;\">He</span> <span style=\"color: black; font-weight: regular;\">answered</span> <span style=\"color: black; font-weight: regular;\">,</span> <span style=\"color: black; font-weight: regular;\">``</span> <span style=\"color: blue; font-weight: bold;\">I</span> <span style=\"color: black; font-weight: regular;\">have</span> <span style=\"color: black; font-weight: regular;\">already</span> <span style=\"color: black; font-weight: regular;\">told</span> <span style=\"color: black; font-weight: regular;\">you</span> <span style=\"color: black; font-weight: regular;\">that</span> <span style=\"color: black; font-weight: regular;\">.</span>"
      ],
      "text/plain": [
       "<IPython.core.display.HTML object>"
      ]
     },
     "metadata": {},
     "output_type": "display_data"
    },
    {
     "name": "stdout",
     "output_type": "stream",
     "text": [
      "---\n"
     ]
    },
    {
     "data": {
      "text/html": [
       "<span style=\"color: black; font-weight: regular;\">God</span> <span style=\"color: black; font-weight: regular;\">bless</span> <span style=\"color: black; font-weight: regular;\">the</span> <span style=\"color: black; font-weight: regular;\">king</span> <span style=\"color: black; font-weight: regular;\">who</span> <span style=\"color: black; font-weight: regular;\">comes</span> <span style=\"color: black; font-weight: regular;\">in</span> <span style=\"color: black; font-weight: regular;\">the</span> <span style=\"color: black; font-weight: regular;\">name</span> <span style=\"color: black; font-weight: regular;\">of</span> <span style=\"color: blue; font-weight: bold;\">the</span> <span style=\"color: blue; font-weight: bold;\">Lord</span> <span style=\"color: black; font-weight: regular;\">.</span> <span style=\"color: black; font-weight: regular;\">'</span> <span style=\"color: black; font-weight: regular;\">Peace</span> <span style=\"color: black; font-weight: regular;\">in</span> <span style=\"color: black; font-weight: regular;\">heaven</span> <span style=\"color: black; font-weight: regular;\">and</span> <span style=\"color: black; font-weight: regular;\">glory</span> <span style=\"color: black; font-weight: regular;\">to</span> <span style=\"color: blue; font-weight: bold;\">God</span> <span style=\"color: black; font-weight: regular;\">!</span> <span style=\"color: black; font-weight: regular;\">''</span>"
      ],
      "text/plain": [
       "<IPython.core.display.HTML object>"
      ]
     },
     "metadata": {},
     "output_type": "display_data"
    },
    {
     "data": {
      "text/html": [
       "<span style=\"color: black; font-weight: regular;\">Peace</span> <span style=\"color: black; font-weight: regular;\">in</span> <span style=\"color: black; font-weight: regular;\">heaven</span> <span style=\"color: black; font-weight: regular;\">and</span> <span style=\"color: black; font-weight: regular;\">glory</span> <span style=\"color: black; font-weight: regular;\">to</span> <span style=\"color: blue; font-weight: bold;\">God</span> <span style=\"color: black; font-weight: regular;\">!</span> <span style=\"color: black; font-weight: regular;\">''</span> <span style=\"color: black; font-weight: regular;\">God</span> <span style=\"color: black; font-weight: regular;\">bless</span> <span style=\"color: black; font-weight: regular;\">the</span> <span style=\"color: black; font-weight: regular;\">king</span> <span style=\"color: black; font-weight: regular;\">who</span> <span style=\"color: black; font-weight: regular;\">comes</span> <span style=\"color: black; font-weight: regular;\">in</span> <span style=\"color: black; font-weight: regular;\">the</span> <span style=\"color: black; font-weight: regular;\">name</span> <span style=\"color: black; font-weight: regular;\">of</span> <span style=\"color: blue; font-weight: bold;\">the</span> <span style=\"color: blue; font-weight: bold;\">Lord</span> <span style=\"color: black; font-weight: regular;\">.</span> <span style=\"color: black; font-weight: regular;\">'</span>"
      ],
      "text/plain": [
       "<IPython.core.display.HTML object>"
      ]
     },
     "metadata": {},
     "output_type": "display_data"
    },
    {
     "name": "stdout",
     "output_type": "stream",
     "text": [
      "---\n"
     ]
    },
    {
     "data": {
      "text/html": [
       "<span style=\"color: black; font-weight: regular;\">and</span> <span style=\"color: black; font-weight: regular;\">he</span> <span style=\"color: black; font-weight: regular;\">is</span> <span style=\"color: black; font-weight: regular;\">Great</span> <span style=\"color: black; font-weight: regular;\">still</span> <span style=\"color: black; font-weight: regular;\">in</span> <span style=\"color: black; font-weight: regular;\">academic</span> <span style=\"color: black; font-weight: regular;\">publishing</span> <span style=\"color: black; font-weight: regular;\">.</span> <span style=\"color: black; font-weight: regular;\">My</span> <span style=\"color: black; font-weight: regular;\">other</span> <span style=\"color: black; font-weight: regular;\">friend</span> <span style=\"color: black; font-weight: regular;\">just</span> <span style=\"color: black; font-weight: regular;\">moved</span> <span style=\"color: black; font-weight: regular;\">to</span> <span style=\"color: black; font-weight: regular;\">trade</span> <span style=\"color: black; font-weight: regular;\">publishing</span> <span style=\"color: black; font-weight: regular;\">after</span> <span style=\"color: black; font-weight: regular;\">years</span> <span style=\"color: black; font-weight: regular;\">in</span> <span style=\"color: black; font-weight: regular;\">academic</span> <span style=\"color: black; font-weight: regular;\">publishing</span>"
      ],
      "text/plain": [
       "<IPython.core.display.HTML object>"
      ]
     },
     "metadata": {},
     "output_type": "display_data"
    },
    {
     "data": {
      "text/html": [
       "<span style=\"color: black; font-weight: regular;\">My</span> <span style=\"color: black; font-weight: regular;\">other</span> <span style=\"color: blue; font-weight: bold;\">friend</span> <span style=\"color: black; font-weight: regular;\">just</span> <span style=\"color: black; font-weight: regular;\">moved</span> <span style=\"color: black; font-weight: regular;\">to</span> <span style=\"color: black; font-weight: regular;\">trade</span> <span style=\"color: black; font-weight: regular;\">publishing</span> <span style=\"color: black; font-weight: regular;\">after</span> <span style=\"color: black; font-weight: regular;\">years</span> <span style=\"color: black; font-weight: regular;\">in</span> <span style=\"color: black; font-weight: regular;\">academic</span> <span style=\"color: black; font-weight: regular;\">publishing</span> <span style=\"color: black; font-weight: regular;\">and</span> <span style=\"color: blue; font-weight: bold;\">he</span> <span style=\"color: black; font-weight: regular;\">is</span> <span style=\"color: black; font-weight: regular;\">Great</span> <span style=\"color: black; font-weight: regular;\">still</span> <span style=\"color: black; font-weight: regular;\">in</span> <span style=\"color: black; font-weight: regular;\">academic</span> <span style=\"color: black; font-weight: regular;\">publishing</span> <span style=\"color: black; font-weight: regular;\">.</span>"
      ],
      "text/plain": [
       "<IPython.core.display.HTML object>"
      ]
     },
     "metadata": {},
     "output_type": "display_data"
    },
    {
     "name": "stdout",
     "output_type": "stream",
     "text": [
      "---\n"
     ]
    },
    {
     "data": {
      "text/html": [
       "<span style=\"color: black; font-weight: regular;\">And</span> <span style=\"color: black; font-weight: regular;\">when</span> <span style=\"color: blue; font-weight: bold;\">they</span> <span style=\"color: black; font-weight: regular;\">pray</span> <span style=\"color: black; font-weight: regular;\">,</span> <span style=\"color: blue; font-weight: bold;\">they</span> <span style=\"color: black; font-weight: regular;\">will</span> <span style=\"color: black; font-weight: regular;\">wish</span> <span style=\"color: blue; font-weight: bold;\">they</span> <span style=\"color: black; font-weight: regular;\">could</span> <span style=\"color: black; font-weight: regular;\">be</span> <span style=\"color: black; font-weight: regular;\">with</span> <span style=\"color: black; font-weight: regular;\">you</span> <span style=\"color: black; font-weight: regular;\">.</span> <span style=\"color: blue; font-weight: bold;\">They</span> <span style=\"color: black; font-weight: regular;\">will</span> <span style=\"color: black; font-weight: regular;\">feel</span> <span style=\"color: black; font-weight: regular;\">this</span> <span style=\"color: black; font-weight: regular;\">way</span> <span style=\"color: black; font-weight: regular;\">because</span> <span style=\"color: black; font-weight: regular;\">of</span> <span style=\"color: black; font-weight: regular;\">the</span> <span style=\"color: black; font-weight: regular;\">great</span> <span style=\"color: black; font-weight: regular;\">grace</span> <span style=\"color: black; font-weight: regular;\">that</span> <span style=\"color: black; font-weight: regular;\">God</span> <span style=\"color: black; font-weight: regular;\">gave</span> <span style=\"color: black; font-weight: regular;\">you</span> <span style=\"color: black; font-weight: regular;\">.</span>"
      ],
      "text/plain": [
       "<IPython.core.display.HTML object>"
      ]
     },
     "metadata": {},
     "output_type": "display_data"
    },
    {
     "data": {
      "text/html": [
       "<span style=\"color: blue; font-weight: bold;\">They</span> <span style=\"color: black; font-weight: regular;\">will</span> <span style=\"color: black; font-weight: regular;\">feel</span> <span style=\"color: black; font-weight: regular;\">this</span> <span style=\"color: black; font-weight: regular;\">way</span> <span style=\"color: black; font-weight: regular;\">because</span> <span style=\"color: black; font-weight: regular;\">of</span> <span style=\"color: black; font-weight: regular;\">the</span> <span style=\"color: black; font-weight: regular;\">great</span> <span style=\"color: black; font-weight: regular;\">grace</span> <span style=\"color: black; font-weight: regular;\">that</span> <span style=\"color: black; font-weight: regular;\">God</span> <span style=\"color: black; font-weight: regular;\">gave</span> <span style=\"color: green; font-weight: bold;\">you</span> <span style=\"color: black; font-weight: regular;\">.</span> <span style=\"color: black; font-weight: regular;\">And</span> <span style=\"color: black; font-weight: regular;\">when</span> <span style=\"color: blue; font-weight: bold;\">they</span> <span style=\"color: black; font-weight: regular;\">pray</span> <span style=\"color: black; font-weight: regular;\">,</span> <span style=\"color: blue; font-weight: bold;\">they</span> <span style=\"color: black; font-weight: regular;\">will</span> <span style=\"color: black; font-weight: regular;\">wish</span> <span style=\"color: blue; font-weight: bold;\">they</span> <span style=\"color: black; font-weight: regular;\">could</span> <span style=\"color: black; font-weight: regular;\">be</span> <span style=\"color: black; font-weight: regular;\">with</span> <span style=\"color: green; font-weight: bold;\">you</span> <span style=\"color: black; font-weight: regular;\">.</span>"
      ],
      "text/plain": [
       "<IPython.core.display.HTML object>"
      ]
     },
     "metadata": {},
     "output_type": "display_data"
    },
    {
     "name": "stdout",
     "output_type": "stream",
     "text": [
      "---\n"
     ]
    },
    {
     "data": {
      "text/html": [
       "<span style=\"color: black; font-weight: regular;\">The</span> <span style=\"color: black; font-weight: regular;\">United</span> <span style=\"color: black; font-weight: regular;\">States</span> <span style=\"color: black; font-weight: regular;\">and</span> <span style=\"color: black; font-weight: regular;\">the</span> <span style=\"color: black; font-weight: regular;\">European</span> <span style=\"color: black; font-weight: regular;\">Union</span> <span style=\"color: black; font-weight: regular;\">will</span> <span style=\"color: black; font-weight: regular;\">start</span> <span style=\"color: black; font-weight: regular;\">lifting</span> <span style=\"color: black; font-weight: regular;\">economic</span> <span style=\"color: black; font-weight: regular;\">sanctions</span> <span style=\"color: black; font-weight: regular;\">against</span> <span style=\"color: black; font-weight: regular;\">Yugoslavia</span> <span style=\"color: black; font-weight: regular;\">today</span> <span style=\"color: black; font-weight: regular;\">.</span> <span style=\"color: black; font-weight: regular;\">Among</span> <span style=\"color: black; font-weight: regular;\">the</span> <span style=\"color: black; font-weight: regular;\">sanctions</span> <span style=\"color: black; font-weight: regular;\">imposed</span> <span style=\"color: black; font-weight: regular;\">against</span> <span style=\"color: black; font-weight: regular;\">the</span> <span style=\"color: black; font-weight: regular;\">regime</span> <span style=\"color: black; font-weight: regular;\">of</span> <span style=\"color: black; font-weight: regular;\">former</span> <span style=\"color: black; font-weight: regular;\">President</span> <span style=\"color: black; font-weight: regular;\">Slobodan</span> <span style=\"color: black; font-weight: regular;\">Milosevic</span> <span style=\"color: black; font-weight: regular;\">during</span> <span style=\"color: black; font-weight: regular;\">the</span> <span style=\"color: black; font-weight: regular;\">fight</span> <span style=\"color: black; font-weight: regular;\">over</span> <span style=\"color: black; font-weight: regular;\">Kosovo</span> <span style=\"color: black; font-weight: regular;\">are</span> <span style=\"color: black; font-weight: regular;\">an</span> <span style=\"color: black; font-weight: regular;\">oil</span> <span style=\"color: black; font-weight: regular;\">embargo</span> <span style=\"color: black; font-weight: regular;\">and</span> <span style=\"color: black; font-weight: regular;\">a</span> <span style=\"color: black; font-weight: regular;\">ban</span> <span style=\"color: black; font-weight: regular;\">on</span> <span style=\"color: black; font-weight: regular;\">commercial</span> <span style=\"color: black; font-weight: regular;\">air</span> <span style=\"color: black; font-weight: regular;\">traffic</span> <span style=\"color: black; font-weight: regular;\">.</span>"
      ],
      "text/plain": [
       "<IPython.core.display.HTML object>"
      ]
     },
     "metadata": {},
     "output_type": "display_data"
    },
    {
     "data": {
      "text/html": [
       "<span style=\"color: black; font-weight: regular;\">Among</span> <span style=\"color: black; font-weight: regular;\">the</span> <span style=\"color: black; font-weight: regular;\">sanctions</span> <span style=\"color: black; font-weight: regular;\">imposed</span> <span style=\"color: black; font-weight: regular;\">against</span> <span style=\"color: black; font-weight: regular;\">the</span> <span style=\"color: black; font-weight: regular;\">regime</span> <span style=\"color: black; font-weight: regular;\">of</span> <span style=\"color: black; font-weight: regular;\">former</span> <span style=\"color: black; font-weight: regular;\">President</span> <span style=\"color: black; font-weight: regular;\">Slobodan</span> <span style=\"color: black; font-weight: regular;\">Milosevic</span> <span style=\"color: black; font-weight: regular;\">during</span> <span style=\"color: black; font-weight: regular;\">the</span> <span style=\"color: black; font-weight: regular;\">fight</span> <span style=\"color: black; font-weight: regular;\">over</span> <span style=\"color: black; font-weight: regular;\">Kosovo</span> <span style=\"color: black; font-weight: regular;\">are</span> <span style=\"color: black; font-weight: regular;\">an</span> <span style=\"color: black; font-weight: regular;\">oil</span> <span style=\"color: black; font-weight: regular;\">embargo</span> <span style=\"color: black; font-weight: regular;\">and</span> <span style=\"color: black; font-weight: regular;\">a</span> <span style=\"color: black; font-weight: regular;\">ban</span> <span style=\"color: black; font-weight: regular;\">on</span> <span style=\"color: black; font-weight: regular;\">commercial</span> <span style=\"color: black; font-weight: regular;\">air</span> <span style=\"color: black; font-weight: regular;\">traffic</span> <span style=\"color: black; font-weight: regular;\">.</span> <span style=\"color: black; font-weight: regular;\">The</span> <span style=\"color: black; font-weight: regular;\">United</span> <span style=\"color: black; font-weight: regular;\">States</span> <span style=\"color: black; font-weight: regular;\">and</span> <span style=\"color: black; font-weight: regular;\">the</span> <span style=\"color: black; font-weight: regular;\">European</span> <span style=\"color: black; font-weight: regular;\">Union</span> <span style=\"color: black; font-weight: regular;\">will</span> <span style=\"color: black; font-weight: regular;\">start</span> <span style=\"color: black; font-weight: regular;\">lifting</span> <span style=\"color: black; font-weight: regular;\">economic</span> <span style=\"color: black; font-weight: regular;\">sanctions</span> <span style=\"color: black; font-weight: regular;\">against</span> <span style=\"color: black; font-weight: regular;\">Yugoslavia</span> <span style=\"color: black; font-weight: regular;\">today</span> <span style=\"color: black; font-weight: regular;\">.</span>"
      ],
      "text/plain": [
       "<IPython.core.display.HTML object>"
      ]
     },
     "metadata": {},
     "output_type": "display_data"
    },
    {
     "name": "stdout",
     "output_type": "stream",
     "text": [
      "---\n"
     ]
    },
    {
     "data": {
      "text/html": [
       "<span style=\"color: black; font-weight: regular;\">Nonetheless</span> <span style=\"color: black; font-weight: regular;\">,</span> <span style=\"color: black; font-weight: regular;\">the</span> <span style=\"color: black; font-weight: regular;\">fact</span> <span style=\"color: black; font-weight: regular;\">that</span> <span style=\"color: black; font-weight: regular;\">she</span> <span style=\"color: black; font-weight: regular;\">did</span> <span style=\"color: black; font-weight: regular;\">meet</span> <span style=\"color: black; font-weight: regular;\">with</span> <span style=\"color: black; font-weight: regular;\">Bashar</span> <span style=\"color: black; font-weight: regular;\">Al</span> <span style=\"color: black; font-weight: regular;\">-</span> <span style=\"color: black; font-weight: regular;\">Assad</span> <span style=\"color: black; font-weight: regular;\">and</span> <span style=\"color: black; font-weight: regular;\">it</span> <span style=\"color: black; font-weight: regular;\">was</span> <span style=\"color: black; font-weight: regular;\">n't</span> <span style=\"color: black; font-weight: regular;\">Saudi</span> <span style=\"color: black; font-weight: regular;\">Arabia</span> <span style=\"color: black; font-weight: regular;\">which</span> <span style=\"color: black; font-weight: regular;\">is</span> <span style=\"color: black; font-weight: regular;\">traditionally</span> <span style=\"color: black; font-weight: regular;\">being</span> <span style=\"color: black; font-weight: regular;\">more</span> <span style=\"color: black; font-weight: regular;\">dovish</span> <span style=\"color: black; font-weight: regular;\">and</span> <span style=\"color: black; font-weight: regular;\">has</span> <span style=\"color: black; font-weight: regular;\">supported</span> <span style=\"color: black; font-weight: regular;\">US</span> <span style=\"color: black; font-weight: regular;\">policy</span> <span style=\"color: black; font-weight: regular;\">,</span> <span style=\"color: black; font-weight: regular;\">it</span> <span style=\"color: black; font-weight: regular;\">is</span> <span style=\"color: black; font-weight: regular;\">significant</span> <span style=\"color: black; font-weight: regular;\">.</span> <span style=\"color: black; font-weight: regular;\">So</span> <span style=\"color: black; font-weight: regular;\">,</span> <span style=\"color: black; font-weight: regular;\">as</span> <span style=\"color: black; font-weight: regular;\">of</span> <span style=\"color: black; font-weight: regular;\">today</span> <span style=\"color: black; font-weight: regular;\">,</span> <span style=\"color: black; font-weight: regular;\">I</span> <span style=\"color: black; font-weight: regular;\">would</span> <span style=\"color: black; font-weight: regular;\">say</span> <span style=\"color: black; font-weight: regular;\">certainly</span> <span style=\"color: black; font-weight: regular;\">on</span> <span style=\"color: black; font-weight: regular;\">the</span> <span style=\"color: black; font-weight: regular;\">surface</span> <span style=\"color: black; font-weight: regular;\">there</span> <span style=\"color: black; font-weight: regular;\">has</span> <span style=\"color: black; font-weight: regular;\">been</span> <span style=\"color: black; font-weight: regular;\">little</span> <span style=\"color: black; font-weight: regular;\">US</span> <span style=\"color: black; font-weight: regular;\">action</span> <span style=\"color: black; font-weight: regular;\">.</span>"
      ],
      "text/plain": [
       "<IPython.core.display.HTML object>"
      ]
     },
     "metadata": {},
     "output_type": "display_data"
    },
    {
     "data": {
      "text/html": [
       "<span style=\"color: black; font-weight: regular;\">So</span> <span style=\"color: black; font-weight: regular;\">,</span> <span style=\"color: black; font-weight: regular;\">as</span> <span style=\"color: black; font-weight: regular;\">of</span> <span style=\"color: black; font-weight: regular;\">today</span> <span style=\"color: black; font-weight: regular;\">,</span> <span style=\"color: black; font-weight: regular;\">I</span> <span style=\"color: black; font-weight: regular;\">would</span> <span style=\"color: black; font-weight: regular;\">say</span> <span style=\"color: black; font-weight: regular;\">certainly</span> <span style=\"color: black; font-weight: regular;\">on</span> <span style=\"color: black; font-weight: regular;\">the</span> <span style=\"color: black; font-weight: regular;\">surface</span> <span style=\"color: black; font-weight: regular;\">there</span> <span style=\"color: black; font-weight: regular;\">has</span> <span style=\"color: black; font-weight: regular;\">been</span> <span style=\"color: black; font-weight: regular;\">little</span> <span style=\"color: black; font-weight: regular;\">US</span> <span style=\"color: black; font-weight: regular;\">action</span> <span style=\"color: black; font-weight: regular;\">.</span> <span style=\"color: black; font-weight: regular;\">Nonetheless</span> <span style=\"color: black; font-weight: regular;\">,</span> <span style=\"color: black; font-weight: regular;\">the</span> <span style=\"color: black; font-weight: regular;\">fact</span> <span style=\"color: black; font-weight: regular;\">that</span> <span style=\"color: black; font-weight: regular;\">she</span> <span style=\"color: black; font-weight: regular;\">did</span> <span style=\"color: black; font-weight: regular;\">meet</span> <span style=\"color: black; font-weight: regular;\">with</span> <span style=\"color: black; font-weight: regular;\">Bashar</span> <span style=\"color: black; font-weight: regular;\">Al</span> <span style=\"color: black; font-weight: regular;\">-</span> <span style=\"color: black; font-weight: regular;\">Assad</span> <span style=\"color: black; font-weight: regular;\">and</span> <span style=\"color: black; font-weight: regular;\">it</span> <span style=\"color: black; font-weight: regular;\">was</span> <span style=\"color: black; font-weight: regular;\">n't</span> <span style=\"color: black; font-weight: regular;\">Saudi</span> <span style=\"color: black; font-weight: regular;\">Arabia</span> <span style=\"color: black; font-weight: regular;\">which</span> <span style=\"color: black; font-weight: regular;\">is</span> <span style=\"color: black; font-weight: regular;\">traditionally</span> <span style=\"color: black; font-weight: regular;\">being</span> <span style=\"color: black; font-weight: regular;\">more</span> <span style=\"color: black; font-weight: regular;\">dovish</span> <span style=\"color: black; font-weight: regular;\">and</span> <span style=\"color: black; font-weight: regular;\">has</span> <span style=\"color: black; font-weight: regular;\">supported</span> <span style=\"color: black; font-weight: regular;\">US</span> <span style=\"color: black; font-weight: regular;\">policy</span> <span style=\"color: black; font-weight: regular;\">,</span> <span style=\"color: black; font-weight: regular;\">it</span> <span style=\"color: black; font-weight: regular;\">is</span> <span style=\"color: black; font-weight: regular;\">significant</span> <span style=\"color: black; font-weight: regular;\">.</span>"
      ],
      "text/plain": [
       "<IPython.core.display.HTML object>"
      ]
     },
     "metadata": {},
     "output_type": "display_data"
    },
    {
     "name": "stdout",
     "output_type": "stream",
     "text": [
      "---\n"
     ]
    },
    {
     "data": {
      "text/html": [
       "<span style=\"color: black; font-weight: regular;\">Many</span> <span style=\"color: black; font-weight: regular;\">Americans</span> <span style=\"color: black; font-weight: regular;\">have</span> <span style=\"color: black; font-weight: regular;\">interpreted</span> <span style=\"color: black; font-weight: regular;\">a</span> <span style=\"color: black; font-weight: regular;\">1986</span> <span style=\"color: black; font-weight: regular;\">agreement</span> <span style=\"color: black; font-weight: regular;\">as</span> <span style=\"color: black; font-weight: regular;\">assuring</span> <span style=\"color: black; font-weight: regular;\">U.S.</span> <span style=\"color: black; font-weight: regular;\">companies</span> <span style=\"color: black; font-weight: regular;\">a</span> <span style=\"color: black; font-weight: regular;\">20</span> <span style=\"color: black; font-weight: regular;\">%</span> <span style=\"color: black; font-weight: regular;\">share</span> <span style=\"color: black; font-weight: regular;\">by</span> <span style=\"color: black; font-weight: regular;\">1991</span> <span style=\"color: black; font-weight: regular;\">,</span> <span style=\"color: black; font-weight: regular;\">but</span> <span style=\"color: black; font-weight: regular;\">the</span> <span style=\"color: black; font-weight: regular;\">Japanese</span> <span style=\"color: black; font-weight: regular;\">have</span> <span style=\"color: black; font-weight: regular;\">denied</span> <span style=\"color: black; font-weight: regular;\">making</span> <span style=\"color: black; font-weight: regular;\">any</span> <span style=\"color: black; font-weight: regular;\">such</span> <span style=\"color: black; font-weight: regular;\">promise</span> <span style=\"color: black; font-weight: regular;\">.</span> <span style=\"color: black; font-weight: regular;\">At</span> <span style=\"color: black; font-weight: regular;\">one</span> <span style=\"color: black; font-weight: regular;\">of</span> <span style=\"color: blue; font-weight: bold;\">her</span> <span style=\"color: black; font-weight: regular;\">news</span> <span style=\"color: black; font-weight: regular;\">conferences</span> <span style=\"color: black; font-weight: regular;\">,</span> <span style=\"color: blue; font-weight: bold;\">Mrs.</span> <span style=\"color: blue; font-weight: bold;\">Hills</span> <span style=\"color: black; font-weight: regular;\">said</span> <span style=\"color: black; font-weight: regular;\">,</span> <span style=\"color: black; font-weight: regular;\">``</span> <span style=\"color: blue; font-weight: bold;\">I</span> <span style=\"color: black; font-weight: regular;\">believe</span> <span style=\"color: black; font-weight: regular;\">we</span> <span style=\"color: black; font-weight: regular;\">can</span> <span style=\"color: black; font-weight: regular;\">do</span> <span style=\"color: black; font-weight: regular;\">much</span> <span style=\"color: black; font-weight: regular;\">better</span> <span style=\"color: black; font-weight: regular;\">than</span> <span style=\"color: black; font-weight: regular;\">20</span> <span style=\"color: black; font-weight: regular;\">%</span> <span style=\"color: black; font-weight: regular;\">.</span> <span style=\"color: black; font-weight: regular;\">''</span>"
      ],
      "text/plain": [
       "<IPython.core.display.HTML object>"
      ]
     },
     "metadata": {},
     "output_type": "display_data"
    },
    {
     "data": {
      "text/html": [
       "<span style=\"color: black; font-weight: regular;\">At</span> <span style=\"color: black; font-weight: regular;\">one</span> <span style=\"color: black; font-weight: regular;\">of</span> <span style=\"color: blue; font-weight: bold;\">her</span> <span style=\"color: black; font-weight: regular;\">news</span> <span style=\"color: black; font-weight: regular;\">conferences</span> <span style=\"color: black; font-weight: regular;\">,</span> <span style=\"color: blue; font-weight: bold;\">Mrs.</span> <span style=\"color: blue; font-weight: bold;\">Hills</span> <span style=\"color: black; font-weight: regular;\">said</span> <span style=\"color: black; font-weight: regular;\">,</span> <span style=\"color: black; font-weight: regular;\">``</span> <span style=\"color: blue; font-weight: bold;\">I</span> <span style=\"color: black; font-weight: regular;\">believe</span> <span style=\"color: black; font-weight: regular;\">we</span> <span style=\"color: black; font-weight: regular;\">can</span> <span style=\"color: black; font-weight: regular;\">do</span> <span style=\"color: black; font-weight: regular;\">much</span> <span style=\"color: black; font-weight: regular;\">better</span> <span style=\"color: black; font-weight: regular;\">than</span> <span style=\"color: black; font-weight: regular;\">20</span> <span style=\"color: black; font-weight: regular;\">%</span> <span style=\"color: black; font-weight: regular;\">.</span> <span style=\"color: black; font-weight: regular;\">''</span> <span style=\"color: black; font-weight: regular;\">Many</span> <span style=\"color: black; font-weight: regular;\">Americans</span> <span style=\"color: black; font-weight: regular;\">have</span> <span style=\"color: black; font-weight: regular;\">interpreted</span> <span style=\"color: black; font-weight: regular;\">a</span> <span style=\"color: black; font-weight: regular;\">1986</span> <span style=\"color: black; font-weight: regular;\">agreement</span> <span style=\"color: black; font-weight: regular;\">as</span> <span style=\"color: black; font-weight: regular;\">assuring</span> <span style=\"color: black; font-weight: regular;\">U.S.</span> <span style=\"color: black; font-weight: regular;\">companies</span> <span style=\"color: black; font-weight: regular;\">a</span> <span style=\"color: black; font-weight: regular;\">20</span> <span style=\"color: black; font-weight: regular;\">%</span> <span style=\"color: black; font-weight: regular;\">share</span> <span style=\"color: black; font-weight: regular;\">by</span> <span style=\"color: black; font-weight: regular;\">1991</span> <span style=\"color: black; font-weight: regular;\">,</span> <span style=\"color: black; font-weight: regular;\">but</span> <span style=\"color: black; font-weight: regular;\">the</span> <span style=\"color: black; font-weight: regular;\">Japanese</span> <span style=\"color: black; font-weight: regular;\">have</span> <span style=\"color: black; font-weight: regular;\">denied</span> <span style=\"color: black; font-weight: regular;\">making</span> <span style=\"color: black; font-weight: regular;\">any</span> <span style=\"color: black; font-weight: regular;\">such</span> <span style=\"color: black; font-weight: regular;\">promise</span> <span style=\"color: black; font-weight: regular;\">.</span>"
      ],
      "text/plain": [
       "<IPython.core.display.HTML object>"
      ]
     },
     "metadata": {},
     "output_type": "display_data"
    },
    {
     "name": "stdout",
     "output_type": "stream",
     "text": [
      "---\n"
     ]
    },
    {
     "data": {
      "text/html": [
       "<span style=\"color: black; font-weight: regular;\">``</span> <span style=\"color: black; font-weight: regular;\">I</span> <span style=\"color: black; font-weight: regular;\">have</span> <span style=\"color: black; font-weight: regular;\">every</span> <span style=\"color: black; font-weight: regular;\">intention</span> <span style=\"color: black; font-weight: regular;\">of</span> <span style=\"color: black; font-weight: regular;\">making</span> <span style=\"color: black; font-weight: regular;\">this</span> <span style=\"color: black; font-weight: regular;\">the</span> <span style=\"color: black; font-weight: regular;\">best</span> <span style=\"color: black; font-weight: regular;\">possible</span> <span style=\"color: black; font-weight: regular;\">show</span> <span style=\"color: black; font-weight: regular;\">and</span> <span style=\"color: black; font-weight: regular;\">having</span> <span style=\"color: blue; font-weight: bold;\">it</span> <span style=\"color: black; font-weight: regular;\">run</span> <span style=\"color: black; font-weight: regular;\">one</span> <span style=\"color: black; font-weight: regular;\">hour</span> <span style=\"color: black; font-weight: regular;\">is</span> <span style=\"color: black; font-weight: regular;\">the</span> <span style=\"color: black; font-weight: regular;\">best</span> <span style=\"color: black; font-weight: regular;\">way</span> <span style=\"color: black; font-weight: regular;\">to</span> <span style=\"color: blue; font-weight: bold;\">it</span> <span style=\"color: black; font-weight: regular;\">,</span> <span style=\"color: black; font-weight: regular;\">''</span> <span style=\"color: black; font-weight: regular;\">said</span> <span style=\"color: black; font-weight: regular;\">Rod</span> <span style=\"color: black; font-weight: regular;\">Perth</span> <span style=\"color: black; font-weight: regular;\">,</span> <span style=\"color: black; font-weight: regular;\">who</span> <span style=\"color: black; font-weight: regular;\">was</span> <span style=\"color: black; font-weight: regular;\">named</span> <span style=\"color: black; font-weight: regular;\">vice</span> <span style=\"color: black; font-weight: regular;\">president</span> <span style=\"color: black; font-weight: regular;\">of</span> <span style=\"color: black; font-weight: regular;\">late</span> <span style=\"color: black; font-weight: regular;\">night</span> <span style=\"color: black; font-weight: regular;\">entertainment</span> <span style=\"color: black; font-weight: regular;\">in</span> <span style=\"color: black; font-weight: regular;\">August</span> <span style=\"color: black; font-weight: regular;\">.</span> <span style=\"color: black; font-weight: regular;\">``</span> <span style=\"color: black; font-weight: regular;\">This</span> <span style=\"color: black; font-weight: regular;\">will</span> <span style=\"color: black; font-weight: regular;\">raise</span> <span style=\"color: black; font-weight: regular;\">the</span> <span style=\"color: black; font-weight: regular;\">energy</span> <span style=\"color: black; font-weight: regular;\">level</span> <span style=\"color: black; font-weight: regular;\">of</span> <span style=\"color: black; font-weight: regular;\">the</span> <span style=\"color: black; font-weight: regular;\">show</span> <span style=\"color: black; font-weight: regular;\">.</span> <span style=\"color: black; font-weight: regular;\">''</span>"
      ],
      "text/plain": [
       "<IPython.core.display.HTML object>"
      ]
     },
     "metadata": {},
     "output_type": "display_data"
    },
    {
     "data": {
      "text/html": [
       "<span style=\"color: black; font-weight: regular;\">``</span> <span style=\"color: black; font-weight: regular;\">This</span> <span style=\"color: black; font-weight: regular;\">will</span> <span style=\"color: black; font-weight: regular;\">raise</span> <span style=\"color: black; font-weight: regular;\">the</span> <span style=\"color: black; font-weight: regular;\">energy</span> <span style=\"color: black; font-weight: regular;\">level</span> <span style=\"color: black; font-weight: regular;\">of</span> <span style=\"color: black; font-weight: regular;\">the</span> <span style=\"color: black; font-weight: regular;\">show</span> <span style=\"color: black; font-weight: regular;\">.</span> <span style=\"color: black; font-weight: regular;\">''</span> <span style=\"color: black; font-weight: regular;\">``</span> <span style=\"color: black; font-weight: regular;\">I</span> <span style=\"color: black; font-weight: regular;\">have</span> <span style=\"color: black; font-weight: regular;\">every</span> <span style=\"color: black; font-weight: regular;\">intention</span> <span style=\"color: black; font-weight: regular;\">of</span> <span style=\"color: black; font-weight: regular;\">making</span> <span style=\"color: black; font-weight: regular;\">this</span> <span style=\"color: black; font-weight: regular;\">the</span> <span style=\"color: black; font-weight: regular;\">best</span> <span style=\"color: black; font-weight: regular;\">possible</span> <span style=\"color: black; font-weight: regular;\">show</span> <span style=\"color: black; font-weight: regular;\">and</span> <span style=\"color: black; font-weight: regular;\">having</span> <span style=\"color: blue; font-weight: bold;\">it</span> <span style=\"color: black; font-weight: regular;\">run</span> <span style=\"color: black; font-weight: regular;\">one</span> <span style=\"color: black; font-weight: regular;\">hour</span> <span style=\"color: black; font-weight: regular;\">is</span> <span style=\"color: black; font-weight: regular;\">the</span> <span style=\"color: black; font-weight: regular;\">best</span> <span style=\"color: black; font-weight: regular;\">way</span> <span style=\"color: black; font-weight: regular;\">to</span> <span style=\"color: blue; font-weight: bold;\">it</span> <span style=\"color: black; font-weight: regular;\">,</span> <span style=\"color: black; font-weight: regular;\">''</span> <span style=\"color: black; font-weight: regular;\">said</span> <span style=\"color: black; font-weight: regular;\">Rod</span> <span style=\"color: black; font-weight: regular;\">Perth</span> <span style=\"color: black; font-weight: regular;\">,</span> <span style=\"color: black; font-weight: regular;\">who</span> <span style=\"color: black; font-weight: regular;\">was</span> <span style=\"color: black; font-weight: regular;\">named</span> <span style=\"color: black; font-weight: regular;\">vice</span> <span style=\"color: black; font-weight: regular;\">president</span> <span style=\"color: black; font-weight: regular;\">of</span> <span style=\"color: black; font-weight: regular;\">late</span> <span style=\"color: black; font-weight: regular;\">night</span> <span style=\"color: black; font-weight: regular;\">entertainment</span> <span style=\"color: black; font-weight: regular;\">in</span> <span style=\"color: black; font-weight: regular;\">August</span> <span style=\"color: black; font-weight: regular;\">.</span>"
      ],
      "text/plain": [
       "<IPython.core.display.HTML object>"
      ]
     },
     "metadata": {},
     "output_type": "display_data"
    },
    {
     "name": "stdout",
     "output_type": "stream",
     "text": [
      "---\n"
     ]
    },
    {
     "data": {
      "text/html": [
       "<span style=\"color: black; font-weight: regular;\">okay</span> <span style=\"color: black; font-weight: regular;\">.</span> <span style=\"color: black; font-weight: regular;\">I</span> <span style=\"color: black; font-weight: regular;\">just</span> <span style=\"color: black; font-weight: regular;\">got</span> <span style=\"color: black; font-weight: regular;\">a</span> <span style=\"color: black; font-weight: regular;\">card</span> <span style=\"color: black; font-weight: regular;\">from</span> <span style=\"color: black; font-weight: regular;\">Ron</span> <span style=\"color: black; font-weight: regular;\">and</span> <span style=\"color: black; font-weight: regular;\">Doris</span> <span style=\"color: black; font-weight: regular;\">,</span>"
      ],
      "text/plain": [
       "<IPython.core.display.HTML object>"
      ]
     },
     "metadata": {},
     "output_type": "display_data"
    },
    {
     "data": {
      "text/html": [
       "<span style=\"color: black; font-weight: regular;\">I</span> <span style=\"color: black; font-weight: regular;\">just</span> <span style=\"color: black; font-weight: regular;\">got</span> <span style=\"color: black; font-weight: regular;\">a</span> <span style=\"color: black; font-weight: regular;\">card</span> <span style=\"color: black; font-weight: regular;\">from</span> <span style=\"color: black; font-weight: regular;\">Ron</span> <span style=\"color: black; font-weight: regular;\">and</span> <span style=\"color: black; font-weight: regular;\">Doris</span> <span style=\"color: black; font-weight: regular;\">,</span> <span style=\"color: black; font-weight: regular;\">okay</span> <span style=\"color: black; font-weight: regular;\">.</span>"
      ],
      "text/plain": [
       "<IPython.core.display.HTML object>"
      ]
     },
     "metadata": {},
     "output_type": "display_data"
    },
    {
     "name": "stdout",
     "output_type": "stream",
     "text": [
      "---\n"
     ]
    },
    {
     "data": {
      "text/html": [
       "<span style=\"color: black; font-weight: regular;\">I</span> <span style=\"color: black; font-weight: regular;\">think</span> <span style=\"color: black; font-weight: regular;\">many</span> <span style=\"color: black; font-weight: regular;\">good</span> <span style=\"color: black; font-weight: regular;\">things</span> <span style=\"color: black; font-weight: regular;\">can</span> <span style=\"color: black; font-weight: regular;\">be</span> <span style=\"color: black; font-weight: regular;\">summed</span> <span style=\"color: black; font-weight: regular;\">up</span> <span style=\"color: black; font-weight: regular;\">from</span> <span style=\"color: black; font-weight: regular;\">this</span> <span style=\"color: black; font-weight: regular;\">.</span> <span style=\"color: black; font-weight: regular;\">Yes</span> <span style=\"color: black; font-weight: regular;\">.</span>"
      ],
      "text/plain": [
       "<IPython.core.display.HTML object>"
      ]
     },
     "metadata": {},
     "output_type": "display_data"
    },
    {
     "data": {
      "text/html": [
       "<span style=\"color: black; font-weight: regular;\">Yes</span> <span style=\"color: black; font-weight: regular;\">.</span> <span style=\"color: black; font-weight: regular;\">I</span> <span style=\"color: black; font-weight: regular;\">think</span> <span style=\"color: black; font-weight: regular;\">many</span> <span style=\"color: black; font-weight: regular;\">good</span> <span style=\"color: black; font-weight: regular;\">things</span> <span style=\"color: black; font-weight: regular;\">can</span> <span style=\"color: black; font-weight: regular;\">be</span> <span style=\"color: black; font-weight: regular;\">summed</span> <span style=\"color: black; font-weight: regular;\">up</span> <span style=\"color: black; font-weight: regular;\">from</span> <span style=\"color: black; font-weight: regular;\">this</span> <span style=\"color: black; font-weight: regular;\">.</span>"
      ],
      "text/plain": [
       "<IPython.core.display.HTML object>"
      ]
     },
     "metadata": {},
     "output_type": "display_data"
    },
    {
     "name": "stdout",
     "output_type": "stream",
     "text": [
      "---\n"
     ]
    },
    {
     "data": {
      "text/html": [
       "<span style=\"color: black; font-weight: regular;\">But</span> <span style=\"color: black; font-weight: regular;\">you</span> <span style=\"color: black; font-weight: regular;\">ca</span> <span style=\"color: black; font-weight: regular;\">n't</span> <span style=\"color: black; font-weight: regular;\">If</span> <span style=\"color: blue; font-weight: bold;\">I</span> <span style=\"color: black; font-weight: regular;\">would</span> <span style=\"color: black; font-weight: regular;\">to</span> <span style=\"color: black; font-weight: regular;\">ask</span> <span style=\"color: black; font-weight: regular;\">to</span> <span style=\"color: black; font-weight: regular;\">become</span> <span style=\"color: black; font-weight: regular;\">a</span> <span style=\"color: black; font-weight: regular;\">citizen</span> <span style=\"color: black; font-weight: regular;\">in</span> <span style=\"color: black; font-weight: regular;\">Holland</span> <span style=\"color: blue; font-weight: bold;\">I</span> <span style=\"color: black; font-weight: regular;\">would</span> <span style=\"color: black; font-weight: regular;\">automatically</span> <span style=\"color: black; font-weight: regular;\">lose</span> <span style=\"color: blue; font-weight: bold;\">my</span> <span style=\"color: black; font-weight: regular;\">American</span> <span style=\"color: black; font-weight: regular;\">citizenship</span> <span style=\"color: black; font-weight: regular;\">.</span>"
      ],
      "text/plain": [
       "<IPython.core.display.HTML object>"
      ]
     },
     "metadata": {},
     "output_type": "display_data"
    },
    {
     "data": {
      "text/html": [
       "<span style=\"color: black; font-weight: regular;\">If</span> <span style=\"color: blue; font-weight: bold;\">I</span> <span style=\"color: black; font-weight: regular;\">would</span> <span style=\"color: black; font-weight: regular;\">to</span> <span style=\"color: black; font-weight: regular;\">ask</span> <span style=\"color: black; font-weight: regular;\">to</span> <span style=\"color: black; font-weight: regular;\">become</span> <span style=\"color: black; font-weight: regular;\">a</span> <span style=\"color: black; font-weight: regular;\">citizen</span> <span style=\"color: black; font-weight: regular;\">in</span> <span style=\"color: black; font-weight: regular;\">Holland</span> <span style=\"color: blue; font-weight: bold;\">I</span> <span style=\"color: black; font-weight: regular;\">would</span> <span style=\"color: black; font-weight: regular;\">automatically</span> <span style=\"color: black; font-weight: regular;\">lose</span> <span style=\"color: blue; font-weight: bold;\">my</span> <span style=\"color: black; font-weight: regular;\">American</span> <span style=\"color: black; font-weight: regular;\">citizenship</span> <span style=\"color: black; font-weight: regular;\">.</span> <span style=\"color: black; font-weight: regular;\">But</span> <span style=\"color: black; font-weight: regular;\">you</span> <span style=\"color: black; font-weight: regular;\">ca</span> <span style=\"color: black; font-weight: regular;\">n't</span>"
      ],
      "text/plain": [
       "<IPython.core.display.HTML object>"
      ]
     },
     "metadata": {},
     "output_type": "display_data"
    },
    {
     "name": "stdout",
     "output_type": "stream",
     "text": [
      "---\n"
     ]
    },
    {
     "data": {
      "text/html": [
       "<span style=\"color: black; font-weight: regular;\">NPR</span> <span style=\"color: black; font-weight: regular;\">'s</span> <span style=\"color: black; font-weight: regular;\">Sheryl</span> <span style=\"color: black; font-weight: regular;\">Corley</span> <span style=\"color: black; font-weight: regular;\">reports</span> <span style=\"color: black; font-weight: regular;\">from</span> <span style=\"color: black; font-weight: regular;\">Chicago</span> <span style=\"color: black; font-weight: regular;\">.</span> <span style=\"color: black; font-weight: regular;\">Sidney</span> <span style=\"color: black; font-weight: regular;\">Yates</span> <span style=\"color: black; font-weight: regular;\">was</span> <span style=\"color: black; font-weight: regular;\">first</span> <span style=\"color: black; font-weight: regular;\">elected</span> <span style=\"color: black; font-weight: regular;\">to</span> <span style=\"color: black; font-weight: regular;\">the</span> <span style=\"color: black; font-weight: regular;\">U.S.</span> <span style=\"color: black; font-weight: regular;\">house</span> <span style=\"color: black; font-weight: regular;\">in</span> <span style=\"color: black; font-weight: regular;\">1948</span> <span style=\"color: black; font-weight: regular;\">,</span> <span style=\"color: black; font-weight: regular;\">when</span> <span style=\"color: blue; font-weight: bold;\">Harry</span> <span style=\"color: blue; font-weight: bold;\">Truman</span> <span style=\"color: black; font-weight: regular;\">was</span> <span style=\"color: black; font-weight: regular;\">President</span> <span style=\"color: black; font-weight: regular;\">and</span> <span style=\"color: black; font-weight: regular;\">for</span> <span style=\"color: black; font-weight: regular;\">more</span> <span style=\"color: black; font-weight: regular;\">than</span> <span style=\"color: black; font-weight: regular;\">4</span> <span style=\"color: black; font-weight: regular;\">decades</span> <span style=\"color: blue; font-weight: bold;\">he</span> <span style=\"color: black; font-weight: regular;\">trounced</span> <span style=\"color: black; font-weight: regular;\">every</span> <span style=\"color: black; font-weight: regular;\">challenger</span> <span style=\"color: black; font-weight: regular;\">to</span> <span style=\"color: black; font-weight: regular;\">face</span> <span style=\"color: blue; font-weight: bold;\">him</span> <span style=\"color: black; font-weight: regular;\">in</span> <span style=\"color: black; font-weight: regular;\">congressional</span> <span style=\"color: black; font-weight: regular;\">election</span> <span style=\"color: black; font-weight: regular;\">.</span>"
      ],
      "text/plain": [
       "<IPython.core.display.HTML object>"
      ]
     },
     "metadata": {},
     "output_type": "display_data"
    },
    {
     "data": {
      "text/html": [
       "<span style=\"color: black; font-weight: regular;\">Sidney</span> <span style=\"color: black; font-weight: regular;\">Yates</span> <span style=\"color: black; font-weight: regular;\">was</span> <span style=\"color: black; font-weight: regular;\">first</span> <span style=\"color: black; font-weight: regular;\">elected</span> <span style=\"color: black; font-weight: regular;\">to</span> <span style=\"color: black; font-weight: regular;\">the</span> <span style=\"color: black; font-weight: regular;\">U.S.</span> <span style=\"color: black; font-weight: regular;\">house</span> <span style=\"color: black; font-weight: regular;\">in</span> <span style=\"color: black; font-weight: regular;\">1948</span> <span style=\"color: black; font-weight: regular;\">,</span> <span style=\"color: black; font-weight: regular;\">when</span> <span style=\"color: blue; font-weight: bold;\">Harry</span> <span style=\"color: blue; font-weight: bold;\">Truman</span> <span style=\"color: black; font-weight: regular;\">was</span> <span style=\"color: black; font-weight: regular;\">President</span> <span style=\"color: black; font-weight: regular;\">and</span> <span style=\"color: black; font-weight: regular;\">for</span> <span style=\"color: black; font-weight: regular;\">more</span> <span style=\"color: black; font-weight: regular;\">than</span> <span style=\"color: black; font-weight: regular;\">4</span> <span style=\"color: black; font-weight: regular;\">decades</span> <span style=\"color: blue; font-weight: bold;\">he</span> <span style=\"color: black; font-weight: regular;\">trounced</span> <span style=\"color: black; font-weight: regular;\">every</span> <span style=\"color: black; font-weight: regular;\">challenger</span> <span style=\"color: black; font-weight: regular;\">to</span> <span style=\"color: black; font-weight: regular;\">face</span> <span style=\"color: blue; font-weight: bold;\">him</span> <span style=\"color: black; font-weight: regular;\">in</span> <span style=\"color: black; font-weight: regular;\">congressional</span> <span style=\"color: black; font-weight: regular;\">election</span> <span style=\"color: black; font-weight: regular;\">.</span> <span style=\"color: black; font-weight: regular;\">NPR</span> <span style=\"color: black; font-weight: regular;\">'s</span> <span style=\"color: black; font-weight: regular;\">Sheryl</span> <span style=\"color: black; font-weight: regular;\">Corley</span> <span style=\"color: black; font-weight: regular;\">reports</span> <span style=\"color: black; font-weight: regular;\">from</span> <span style=\"color: black; font-weight: regular;\">Chicago</span> <span style=\"color: black; font-weight: regular;\">.</span>"
      ],
      "text/plain": [
       "<IPython.core.display.HTML object>"
      ]
     },
     "metadata": {},
     "output_type": "display_data"
    },
    {
     "name": "stdout",
     "output_type": "stream",
     "text": [
      "---\n"
     ]
    },
    {
     "data": {
      "text/html": [
       "<span style=\"color: black; font-weight: regular;\">Is</span> <span style=\"color: black; font-weight: regular;\">n't</span> <span style=\"color: black; font-weight: regular;\">this</span> <span style=\"color: black; font-weight: regular;\">ridiculous</span> <span style=\"color: black; font-weight: regular;\">?</span> <span style=\"color: black; font-weight: regular;\">Then</span> <span style=\"color: black; font-weight: regular;\">,</span> <span style=\"color: black; font-weight: regular;\">which</span> <span style=\"color: black; font-weight: regular;\">elections</span> <span style=\"color: black; font-weight: regular;\">are</span> <span style=\"color: black; font-weight: regular;\">you</span> <span style=\"color: black; font-weight: regular;\">talking</span> <span style=\"color: black; font-weight: regular;\">about</span> <span style=\"color: black; font-weight: regular;\">?</span>"
      ],
      "text/plain": [
       "<IPython.core.display.HTML object>"
      ]
     },
     "metadata": {},
     "output_type": "display_data"
    },
    {
     "data": {
      "text/html": [
       "<span style=\"color: black; font-weight: regular;\">Then</span> <span style=\"color: black; font-weight: regular;\">,</span> <span style=\"color: black; font-weight: regular;\">which</span> <span style=\"color: black; font-weight: regular;\">elections</span> <span style=\"color: black; font-weight: regular;\">are</span> <span style=\"color: black; font-weight: regular;\">you</span> <span style=\"color: black; font-weight: regular;\">talking</span> <span style=\"color: black; font-weight: regular;\">about</span> <span style=\"color: black; font-weight: regular;\">?</span> <span style=\"color: black; font-weight: regular;\">Is</span> <span style=\"color: black; font-weight: regular;\">n't</span> <span style=\"color: black; font-weight: regular;\">this</span> <span style=\"color: black; font-weight: regular;\">ridiculous</span> <span style=\"color: black; font-weight: regular;\">?</span>"
      ],
      "text/plain": [
       "<IPython.core.display.HTML object>"
      ]
     },
     "metadata": {},
     "output_type": "display_data"
    },
    {
     "name": "stdout",
     "output_type": "stream",
     "text": [
      "---\n"
     ]
    },
    {
     "data": {
      "text/html": [
       "<span style=\"color: black; font-weight: regular;\">At</span> <span style=\"color: black; font-weight: regular;\">bankruptcy</span> <span style=\"color: black; font-weight: regular;\">,</span> <span style=\"color: black; font-weight: regular;\">income</span> <span style=\"color: black; font-weight: regular;\">from</span> <span style=\"color: black; font-weight: regular;\">liquidating</span> <span style=\"color: black; font-weight: regular;\">assets</span> <span style=\"color: black; font-weight: regular;\">should</span> <span style=\"color: black; font-weight: regular;\">be</span> <span style=\"color: black; font-weight: regular;\">used</span> <span style=\"color: black; font-weight: regular;\">first</span> <span style=\"color: black; font-weight: regular;\">to</span> <span style=\"color: black; font-weight: regular;\">settle</span> <span style=\"color: black; font-weight: regular;\">employees</span> <span style=\"color: black; font-weight: regular;\">and</span> <span style=\"color: black; font-weight: regular;\">insufficiencies</span> <span style=\"color: black; font-weight: regular;\">should</span> <span style=\"color: black; font-weight: regular;\">be</span> <span style=\"color: black; font-weight: regular;\">made</span> <span style=\"color: black; font-weight: regular;\">up</span> <span style=\"color: black; font-weight: regular;\">for</span> <span style=\"color: black; font-weight: regular;\">from</span> <span style=\"color: black; font-weight: regular;\">the</span> <span style=\"color: black; font-weight: regular;\">sale</span> <span style=\"color: black; font-weight: regular;\">of</span> <span style=\"color: black; font-weight: regular;\">real</span> <span style=\"color: black; font-weight: regular;\">estate</span> <span style=\"color: black; font-weight: regular;\">.</span> <span style=\"color: black; font-weight: regular;\">Stock</span> <span style=\"color: black; font-weight: regular;\">cooperatives</span> <span style=\"color: black; font-weight: regular;\">are</span> <span style=\"color: black; font-weight: regular;\">an</span> <span style=\"color: black; font-weight: regular;\">important</span> <span style=\"color: black; font-weight: regular;\">form</span> <span style=\"color: black; font-weight: regular;\">of</span> <span style=\"color: black; font-weight: regular;\">opening</span> <span style=\"color: black; font-weight: regular;\">up</span> <span style=\"color: black; font-weight: regular;\">small</span> <span style=\"color: black; font-weight: regular;\">state</span> <span style=\"color: black; font-weight: regular;\">-</span> <span style=\"color: black; font-weight: regular;\">owned</span> <span style=\"color: black; font-weight: regular;\">enterprises</span> <span style=\"color: black; font-weight: regular;\">.</span>"
      ],
      "text/plain": [
       "<IPython.core.display.HTML object>"
      ]
     },
     "metadata": {},
     "output_type": "display_data"
    },
    {
     "data": {
      "text/html": [
       "<span style=\"color: black; font-weight: regular;\">Stock</span> <span style=\"color: black; font-weight: regular;\">cooperatives</span> <span style=\"color: black; font-weight: regular;\">are</span> <span style=\"color: black; font-weight: regular;\">an</span> <span style=\"color: black; font-weight: regular;\">important</span> <span style=\"color: black; font-weight: regular;\">form</span> <span style=\"color: black; font-weight: regular;\">of</span> <span style=\"color: black; font-weight: regular;\">opening</span> <span style=\"color: black; font-weight: regular;\">up</span> <span style=\"color: black; font-weight: regular;\">small</span> <span style=\"color: black; font-weight: regular;\">state</span> <span style=\"color: black; font-weight: regular;\">-</span> <span style=\"color: black; font-weight: regular;\">owned</span> <span style=\"color: black; font-weight: regular;\">enterprises</span> <span style=\"color: black; font-weight: regular;\">.</span> <span style=\"color: black; font-weight: regular;\">At</span> <span style=\"color: black; font-weight: regular;\">bankruptcy</span> <span style=\"color: black; font-weight: regular;\">,</span> <span style=\"color: black; font-weight: regular;\">income</span> <span style=\"color: black; font-weight: regular;\">from</span> <span style=\"color: black; font-weight: regular;\">liquidating</span> <span style=\"color: black; font-weight: regular;\">assets</span> <span style=\"color: black; font-weight: regular;\">should</span> <span style=\"color: black; font-weight: regular;\">be</span> <span style=\"color: black; font-weight: regular;\">used</span> <span style=\"color: black; font-weight: regular;\">first</span> <span style=\"color: black; font-weight: regular;\">to</span> <span style=\"color: black; font-weight: regular;\">settle</span> <span style=\"color: black; font-weight: regular;\">employees</span> <span style=\"color: black; font-weight: regular;\">and</span> <span style=\"color: black; font-weight: regular;\">insufficiencies</span> <span style=\"color: black; font-weight: regular;\">should</span> <span style=\"color: black; font-weight: regular;\">be</span> <span style=\"color: black; font-weight: regular;\">made</span> <span style=\"color: black; font-weight: regular;\">up</span> <span style=\"color: black; font-weight: regular;\">for</span> <span style=\"color: black; font-weight: regular;\">from</span> <span style=\"color: black; font-weight: regular;\">the</span> <span style=\"color: black; font-weight: regular;\">sale</span> <span style=\"color: black; font-weight: regular;\">of</span> <span style=\"color: black; font-weight: regular;\">real</span> <span style=\"color: black; font-weight: regular;\">estate</span> <span style=\"color: black; font-weight: regular;\">.</span>"
      ],
      "text/plain": [
       "<IPython.core.display.HTML object>"
      ]
     },
     "metadata": {},
     "output_type": "display_data"
    },
    {
     "name": "stdout",
     "output_type": "stream",
     "text": [
      "---\n",
      "No candidate pairs after pruning.\n",
      "---\n"
     ]
    },
    {
     "data": {
      "text/html": [
       "<span style=\"color: black; font-weight: regular;\">A</span> <span style=\"color: black; font-weight: regular;\">friend</span> <span style=\"color: black; font-weight: regular;\">happened</span> <span style=\"color: black; font-weight: regular;\">to</span> <span style=\"color: black; font-weight: regular;\">call</span> <span style=\"color: black; font-weight: regular;\">me</span> <span style=\"color: black; font-weight: regular;\">.</span> <span style=\"color: black; font-weight: regular;\">You</span> <span style=\"color: black; font-weight: regular;\">were</span> <span style=\"color: black; font-weight: regular;\">not</span> <span style=\"color: black; font-weight: regular;\">at</span> <span style=\"color: black; font-weight: regular;\">work</span> <span style=\"color: black; font-weight: regular;\">that</span> <span style=\"color: black; font-weight: regular;\">day</span> <span style=\"color: black; font-weight: regular;\">?</span>"
      ],
      "text/plain": [
       "<IPython.core.display.HTML object>"
      ]
     },
     "metadata": {},
     "output_type": "display_data"
    },
    {
     "data": {
      "text/html": [
       "<span style=\"color: black; font-weight: regular;\">You</span> <span style=\"color: black; font-weight: regular;\">were</span> <span style=\"color: black; font-weight: regular;\">not</span> <span style=\"color: black; font-weight: regular;\">at</span> <span style=\"color: black; font-weight: regular;\">work</span> <span style=\"color: black; font-weight: regular;\">that</span> <span style=\"color: black; font-weight: regular;\">day</span> <span style=\"color: black; font-weight: regular;\">?</span> <span style=\"color: black; font-weight: regular;\">A</span> <span style=\"color: black; font-weight: regular;\">friend</span> <span style=\"color: black; font-weight: regular;\">happened</span> <span style=\"color: black; font-weight: regular;\">to</span> <span style=\"color: black; font-weight: regular;\">call</span> <span style=\"color: black; font-weight: regular;\">me</span> <span style=\"color: black; font-weight: regular;\">.</span>"
      ],
      "text/plain": [
       "<IPython.core.display.HTML object>"
      ]
     },
     "metadata": {},
     "output_type": "display_data"
    },
    {
     "name": "stdout",
     "output_type": "stream",
     "text": [
      "---\n"
     ]
    },
    {
     "data": {
      "text/html": [
       "<span style=\"color: black; font-weight: regular;\">Well</span> <span style=\"color: black; font-weight: regular;\">today</span> <span style=\"color: black; font-weight: regular;\">not</span> <span style=\"color: black; font-weight: regular;\">too</span> <span style=\"color: black; font-weight: regular;\">much</span> <span style=\"color: black; font-weight: regular;\">.</span> <span style=\"color: black; font-weight: regular;\">I</span> <span style=\"color: black; font-weight: regular;\">mean</span> <span style=\"color: blue; font-weight: bold;\">Madeleine</span> <span style=\"color: blue; font-weight: bold;\">Albright</span> <span style=\"color: black; font-weight: regular;\">was</span> <span style=\"color: black; font-weight: regular;\">in</span> <span style=\"color: black; font-weight: regular;\">Saudi</span> <span style=\"color: black; font-weight: regular;\">Arabia</span> <span style=\"color: black; font-weight: regular;\">yesterday</span> <span style=\"color: black; font-weight: regular;\">where</span> <span style=\"color: blue; font-weight: bold;\">she</span> <span style=\"color: black; font-weight: regular;\">met</span> <span style=\"color: black; font-weight: regular;\">with</span> <span style=\"color: black; font-weight: regular;\">crown</span> <span style=\"color: black; font-weight: regular;\">prince</span> <span style=\"color: black; font-weight: regular;\">Abdullah</span> <span style=\"color: black; font-weight: regular;\">and</span> <span style=\"color: black; font-weight: regular;\">the</span> <span style=\"color: black; font-weight: regular;\">new</span> <span style=\"color: black; font-weight: regular;\">Syrian</span> <span style=\"color: black; font-weight: regular;\">President</span> <span style=\"color: black; font-weight: regular;\">Bashar</span> <span style=\"color: black; font-weight: regular;\">Al</span> <span style=\"color: black; font-weight: regular;\">-</span> <span style=\"color: black; font-weight: regular;\">Assad</span> <span style=\"color: black; font-weight: regular;\">.</span>"
      ],
      "text/plain": [
       "<IPython.core.display.HTML object>"
      ]
     },
     "metadata": {},
     "output_type": "display_data"
    },
    {
     "data": {
      "text/html": [
       "<span style=\"color: black; font-weight: regular;\">I</span> <span style=\"color: black; font-weight: regular;\">mean</span> <span style=\"color: blue; font-weight: bold;\">Madeleine</span> <span style=\"color: blue; font-weight: bold;\">Albright</span> <span style=\"color: black; font-weight: regular;\">was</span> <span style=\"color: black; font-weight: regular;\">in</span> <span style=\"color: black; font-weight: regular;\">Saudi</span> <span style=\"color: black; font-weight: regular;\">Arabia</span> <span style=\"color: black; font-weight: regular;\">yesterday</span> <span style=\"color: black; font-weight: regular;\">where</span> <span style=\"color: blue; font-weight: bold;\">she</span> <span style=\"color: black; font-weight: regular;\">met</span> <span style=\"color: black; font-weight: regular;\">with</span> <span style=\"color: black; font-weight: regular;\">crown</span> <span style=\"color: black; font-weight: regular;\">prince</span> <span style=\"color: black; font-weight: regular;\">Abdullah</span> <span style=\"color: black; font-weight: regular;\">and</span> <span style=\"color: black; font-weight: regular;\">the</span> <span style=\"color: black; font-weight: regular;\">new</span> <span style=\"color: black; font-weight: regular;\">Syrian</span> <span style=\"color: black; font-weight: regular;\">President</span> <span style=\"color: black; font-weight: regular;\">Bashar</span> <span style=\"color: black; font-weight: regular;\">Al</span> <span style=\"color: black; font-weight: regular;\">-</span> <span style=\"color: black; font-weight: regular;\">Assad</span> <span style=\"color: black; font-weight: regular;\">.</span> <span style=\"color: black; font-weight: regular;\">Well</span> <span style=\"color: black; font-weight: regular;\">today</span> <span style=\"color: black; font-weight: regular;\">not</span> <span style=\"color: black; font-weight: regular;\">too</span> <span style=\"color: black; font-weight: regular;\">much</span> <span style=\"color: black; font-weight: regular;\">.</span>"
      ],
      "text/plain": [
       "<IPython.core.display.HTML object>"
      ]
     },
     "metadata": {},
     "output_type": "display_data"
    },
    {
     "name": "stdout",
     "output_type": "stream",
     "text": [
      "---\n"
     ]
    },
    {
     "data": {
      "text/html": [
       "<span style=\"color: black; font-weight: regular;\">You</span> <span style=\"color: black; font-weight: regular;\">do</span> <span style=\"color: black; font-weight: regular;\">n't</span> <span style=\"color: black; font-weight: regular;\">always</span> <span style=\"color: black; font-weight: regular;\">get</span> <span style=\"color: black; font-weight: regular;\">the</span> <span style=\"color: black; font-weight: regular;\">higherups</span> <span style=\"color: black; font-weight: regular;\">.</span> <span style=\"color: black; font-weight: regular;\">Reaction</span> <span style=\"color: black; font-weight: regular;\">in</span> <span style=\"color: black; font-weight: regular;\">Libya</span> <span style=\"color: black; font-weight: regular;\">,</span> <span style=\"color: black; font-weight: regular;\">where</span> <span style=\"color: black; font-weight: regular;\">many</span> <span style=\"color: black; font-weight: regular;\">followed</span> <span style=\"color: black; font-weight: regular;\">the</span> <span style=\"color: black; font-weight: regular;\">trial</span> <span style=\"color: black; font-weight: regular;\">,</span> <span style=\"color: black; font-weight: regular;\">mixed</span> <span style=\"color: black; font-weight: regular;\">.</span>"
      ],
      "text/plain": [
       "<IPython.core.display.HTML object>"
      ]
     },
     "metadata": {},
     "output_type": "display_data"
    },
    {
     "data": {
      "text/html": [
       "<span style=\"color: black; font-weight: regular;\">Reaction</span> <span style=\"color: black; font-weight: regular;\">in</span> <span style=\"color: black; font-weight: regular;\">Libya</span> <span style=\"color: black; font-weight: regular;\">,</span> <span style=\"color: black; font-weight: regular;\">where</span> <span style=\"color: black; font-weight: regular;\">many</span> <span style=\"color: black; font-weight: regular;\">followed</span> <span style=\"color: black; font-weight: regular;\">the</span> <span style=\"color: black; font-weight: regular;\">trial</span> <span style=\"color: black; font-weight: regular;\">,</span> <span style=\"color: black; font-weight: regular;\">mixed</span> <span style=\"color: black; font-weight: regular;\">.</span> <span style=\"color: black; font-weight: regular;\">You</span> <span style=\"color: black; font-weight: regular;\">do</span> <span style=\"color: black; font-weight: regular;\">n't</span> <span style=\"color: black; font-weight: regular;\">always</span> <span style=\"color: black; font-weight: regular;\">get</span> <span style=\"color: black; font-weight: regular;\">the</span> <span style=\"color: black; font-weight: regular;\">higherups</span> <span style=\"color: black; font-weight: regular;\">.</span>"
      ],
      "text/plain": [
       "<IPython.core.display.HTML object>"
      ]
     },
     "metadata": {},
     "output_type": "display_data"
    },
    {
     "name": "stdout",
     "output_type": "stream",
     "text": [
      "---\n"
     ]
    },
    {
     "data": {
      "text/html": [
       "<span style=\"color: black; font-weight: regular;\">Also</span> <span style=\"color: black; font-weight: regular;\">,</span> <span style=\"color: black; font-weight: regular;\">any</span> <span style=\"color: black; font-weight: regular;\">GEC</span> <span style=\"color: black; font-weight: regular;\">bid</span> <span style=\"color: black; font-weight: regular;\">might</span> <span style=\"color: black; font-weight: regular;\">be</span> <span style=\"color: black; font-weight: regular;\">blocked</span> <span style=\"color: black; font-weight: regular;\">by</span> <span style=\"color: black; font-weight: regular;\">British</span> <span style=\"color: black; font-weight: regular;\">antitrust</span> <span style=\"color: black; font-weight: regular;\">regulators</span> <span style=\"color: black; font-weight: regular;\">;</span> <span style=\"color: blue; font-weight: bold;\">Ferranti</span> <span style=\"color: black; font-weight: regular;\">is</span> <span style=\"color: green; font-weight: bold;\">GEC</span> <span style=\"color: green; font-weight: bold;\">'s</span> <span style=\"color: black; font-weight: regular;\">main</span> <span style=\"color: black; font-weight: regular;\">competitor</span> <span style=\"color: black; font-weight: regular;\">on</span> <span style=\"color: black; font-weight: regular;\">several</span> <span style=\"color: black; font-weight: regular;\">key</span> <span style=\"color: black; font-weight: regular;\">defense</span> <span style=\"color: black; font-weight: regular;\">-</span> <span style=\"color: black; font-weight: regular;\">electronics</span> <span style=\"color: black; font-weight: regular;\">contracts</span> <span style=\"color: black; font-weight: regular;\">,</span> <span style=\"color: black; font-weight: regular;\">and</span> <span style=\"color: blue; font-weight: bold;\">its</span> <span style=\"color: black; font-weight: regular;\">purchase</span> <span style=\"color: black; font-weight: regular;\">by</span> <span style=\"color: green; font-weight: bold;\">GEC</span> <span style=\"color: black; font-weight: regular;\">may</span> <span style=\"color: black; font-weight: regular;\">heighten</span> <span style=\"color: black; font-weight: regular;\">British</span> <span style=\"color: black; font-weight: regular;\">Defense</span> <span style=\"color: black; font-weight: regular;\">Ministry</span> <span style=\"color: black; font-weight: regular;\">worries</span> <span style=\"color: black; font-weight: regular;\">about</span> <span style=\"color: black; font-weight: regular;\">concentration</span> <span style=\"color: black; font-weight: regular;\">in</span> <span style=\"color: black; font-weight: regular;\">the</span> <span style=\"color: black; font-weight: regular;\">country</span> <span style=\"color: black; font-weight: regular;\">'s</span> <span style=\"color: black; font-weight: regular;\">defense</span> <span style=\"color: black; font-weight: regular;\">industry</span> <span style=\"color: black; font-weight: regular;\">.</span> <span style=\"color: black; font-weight: regular;\">A</span> <span style=\"color: black; font-weight: regular;\">consortium</span> <span style=\"color: black; font-weight: regular;\">bid</span> <span style=\"color: black; font-weight: regular;\">,</span> <span style=\"color: black; font-weight: regular;\">however</span> <span style=\"color: black; font-weight: regular;\">,</span> <span style=\"color: black; font-weight: regular;\">would</span> <span style=\"color: black; font-weight: regular;\">diminish</span> <span style=\"color: green; font-weight: bold;\">GEC</span> <span style=\"color: green; font-weight: bold;\">'s</span> <span style=\"color: black; font-weight: regular;\">direct</span> <span style=\"color: black; font-weight: regular;\">role</span> <span style=\"color: black; font-weight: regular;\">in</span> <span style=\"color: blue; font-weight: bold;\">Ferranti</span> <span style=\"color: black; font-weight: regular;\">and</span> <span style=\"color: black; font-weight: regular;\">might</span> <span style=\"color: black; font-weight: regular;\">consequently</span> <span style=\"color: black; font-weight: regular;\">appease</span> <span style=\"color: black; font-weight: regular;\">ministry</span> <span style=\"color: black; font-weight: regular;\">officials</span> <span style=\"color: black; font-weight: regular;\">.</span>"
      ],
      "text/plain": [
       "<IPython.core.display.HTML object>"
      ]
     },
     "metadata": {},
     "output_type": "display_data"
    },
    {
     "data": {
      "text/html": [
       "<span style=\"color: black; font-weight: regular;\">A</span> <span style=\"color: black; font-weight: regular;\">consortium</span> <span style=\"color: black; font-weight: regular;\">bid</span> <span style=\"color: black; font-weight: regular;\">,</span> <span style=\"color: black; font-weight: regular;\">however</span> <span style=\"color: black; font-weight: regular;\">,</span> <span style=\"color: black; font-weight: regular;\">would</span> <span style=\"color: black; font-weight: regular;\">diminish</span> <span style=\"color: green; font-weight: bold;\">GEC</span> <span style=\"color: green; font-weight: bold;\">'s</span> <span style=\"color: black; font-weight: regular;\">direct</span> <span style=\"color: black; font-weight: regular;\">role</span> <span style=\"color: black; font-weight: regular;\">in</span> <span style=\"color: blue; font-weight: bold;\">Ferranti</span> <span style=\"color: black; font-weight: regular;\">and</span> <span style=\"color: black; font-weight: regular;\">might</span> <span style=\"color: black; font-weight: regular;\">consequently</span> <span style=\"color: black; font-weight: regular;\">appease</span> <span style=\"color: black; font-weight: regular;\">ministry</span> <span style=\"color: black; font-weight: regular;\">officials</span> <span style=\"color: black; font-weight: regular;\">.</span> <span style=\"color: black; font-weight: regular;\">Also</span> <span style=\"color: black; font-weight: regular;\">,</span> <span style=\"color: black; font-weight: regular;\">any</span> <span style=\"color: black; font-weight: regular;\">GEC</span> <span style=\"color: black; font-weight: regular;\">bid</span> <span style=\"color: black; font-weight: regular;\">might</span> <span style=\"color: black; font-weight: regular;\">be</span> <span style=\"color: black; font-weight: regular;\">blocked</span> <span style=\"color: black; font-weight: regular;\">by</span> <span style=\"color: black; font-weight: regular;\">British</span> <span style=\"color: black; font-weight: regular;\">antitrust</span> <span style=\"color: black; font-weight: regular;\">regulators</span> <span style=\"color: black; font-weight: regular;\">;</span> <span style=\"color: blue; font-weight: bold;\">Ferranti</span> <span style=\"color: black; font-weight: regular;\">is</span> <span style=\"color: green; font-weight: bold;\">GEC</span> <span style=\"color: green; font-weight: bold;\">'s</span> <span style=\"color: black; font-weight: regular;\">main</span> <span style=\"color: black; font-weight: regular;\">competitor</span> <span style=\"color: black; font-weight: regular;\">on</span> <span style=\"color: black; font-weight: regular;\">several</span> <span style=\"color: black; font-weight: regular;\">key</span> <span style=\"color: black; font-weight: regular;\">defense</span> <span style=\"color: black; font-weight: regular;\">-</span> <span style=\"color: black; font-weight: regular;\">electronics</span> <span style=\"color: black; font-weight: regular;\">contracts</span> <span style=\"color: black; font-weight: regular;\">,</span> <span style=\"color: black; font-weight: regular;\">and</span> <span style=\"color: blue; font-weight: bold;\">its</span> <span style=\"color: black; font-weight: regular;\">purchase</span> <span style=\"color: black; font-weight: regular;\">by</span> <span style=\"color: green; font-weight: bold;\">GEC</span> <span style=\"color: black; font-weight: regular;\">may</span> <span style=\"color: black; font-weight: regular;\">heighten</span> <span style=\"color: black; font-weight: regular;\">British</span> <span style=\"color: black; font-weight: regular;\">Defense</span> <span style=\"color: black; font-weight: regular;\">Ministry</span> <span style=\"color: black; font-weight: regular;\">worries</span> <span style=\"color: black; font-weight: regular;\">about</span> <span style=\"color: black; font-weight: regular;\">concentration</span> <span style=\"color: black; font-weight: regular;\">in</span> <span style=\"color: black; font-weight: regular;\">the</span> <span style=\"color: black; font-weight: regular;\">country</span> <span style=\"color: black; font-weight: regular;\">'s</span> <span style=\"color: black; font-weight: regular;\">defense</span> <span style=\"color: black; font-weight: regular;\">industry</span> <span style=\"color: black; font-weight: regular;\">.</span>"
      ],
      "text/plain": [
       "<IPython.core.display.HTML object>"
      ]
     },
     "metadata": {},
     "output_type": "display_data"
    },
    {
     "name": "stdout",
     "output_type": "stream",
     "text": [
      "---\n"
     ]
    },
    {
     "data": {
      "text/html": [
       "<span style=\"color: black; font-weight: regular;\">oh</span> <span style=\"color: black; font-weight: regular;\">no</span> <span style=\"color: black; font-weight: regular;\">!</span> <span style=\"color: blue; font-weight: bold;\">She</span> <span style=\"color: black; font-weight: regular;\">said</span> <span style=\"color: blue; font-weight: bold;\">she</span> <span style=\"color: black; font-weight: regular;\">was</span> <span style=\"color: black; font-weight: regular;\">going</span> <span style=\"color: black; font-weight: regular;\">to</span> <span style=\"color: black; font-weight: regular;\">call</span> <span style=\"color: black; font-weight: regular;\">you</span> <span style=\"color: black; font-weight: regular;\">.</span>"
      ],
      "text/plain": [
       "<IPython.core.display.HTML object>"
      ]
     },
     "metadata": {},
     "output_type": "display_data"
    },
    {
     "data": {
      "text/html": [
       "<span style=\"color: blue; font-weight: bold;\">She</span> <span style=\"color: black; font-weight: regular;\">said</span> <span style=\"color: blue; font-weight: bold;\">she</span> <span style=\"color: black; font-weight: regular;\">was</span> <span style=\"color: black; font-weight: regular;\">going</span> <span style=\"color: black; font-weight: regular;\">to</span> <span style=\"color: black; font-weight: regular;\">call</span> <span style=\"color: black; font-weight: regular;\">you</span> <span style=\"color: black; font-weight: regular;\">.</span> <span style=\"color: black; font-weight: regular;\">oh</span> <span style=\"color: black; font-weight: regular;\">no</span> <span style=\"color: black; font-weight: regular;\">!</span>"
      ],
      "text/plain": [
       "<IPython.core.display.HTML object>"
      ]
     },
     "metadata": {},
     "output_type": "display_data"
    },
    {
     "name": "stdout",
     "output_type": "stream",
     "text": [
      "---\n"
     ]
    },
    {
     "data": {
      "text/html": [
       "<span style=\"color: black; font-weight: regular;\">We</span> <span style=\"color: black; font-weight: regular;\">told</span> <span style=\"color: blue; font-weight: bold;\">him</span> <span style=\"color: black; font-weight: regular;\">to</span> <span style=\"color: black; font-weight: regular;\">stop</span> <span style=\"color: black; font-weight: regular;\">because</span> <span style=\"color: blue; font-weight: bold;\">he</span> <span style=\"color: black; font-weight: regular;\">does</span> <span style=\"color: black; font-weight: regular;\">not</span> <span style=\"color: black; font-weight: regular;\">belong</span> <span style=\"color: black; font-weight: regular;\">to</span> <span style=\"color: black; font-weight: regular;\">our</span> <span style=\"color: black; font-weight: regular;\">group</span> <span style=\"color: black; font-weight: regular;\">.</span> <span style=\"color: black; font-weight: regular;\">''</span> <span style=\"color: blue; font-weight: bold;\">Jesus</span> <span style=\"color: black; font-weight: regular;\">said</span> <span style=\"color: black; font-weight: regular;\">to</span> <span style=\"color: blue; font-weight: bold;\">him</span> <span style=\"color: black; font-weight: regular;\">,</span> <span style=\"color: black; font-weight: regular;\">``</span> <span style=\"color: black; font-weight: regular;\">Do</span> <span style=\"color: black; font-weight: regular;\">n't</span> <span style=\"color: black; font-weight: regular;\">stop</span> <span style=\"color: blue; font-weight: bold;\">him</span> <span style=\"color: black; font-weight: regular;\">.</span>"
      ],
      "text/plain": [
       "<IPython.core.display.HTML object>"
      ]
     },
     "metadata": {},
     "output_type": "display_data"
    },
    {
     "data": {
      "text/html": [
       "<span style=\"color: blue; font-weight: bold;\">Jesus</span> <span style=\"color: black; font-weight: regular;\">said</span> <span style=\"color: black; font-weight: regular;\">to</span> <span style=\"color: blue; font-weight: bold;\">him</span> <span style=\"color: black; font-weight: regular;\">,</span> <span style=\"color: black; font-weight: regular;\">``</span> <span style=\"color: black; font-weight: regular;\">Do</span> <span style=\"color: black; font-weight: regular;\">n't</span> <span style=\"color: black; font-weight: regular;\">stop</span> <span style=\"color: blue; font-weight: bold;\">him</span> <span style=\"color: black; font-weight: regular;\">.</span> <span style=\"color: black; font-weight: regular;\">We</span> <span style=\"color: black; font-weight: regular;\">told</span> <span style=\"color: blue; font-weight: bold;\">him</span> <span style=\"color: black; font-weight: regular;\">to</span> <span style=\"color: black; font-weight: regular;\">stop</span> <span style=\"color: black; font-weight: regular;\">because</span> <span style=\"color: blue; font-weight: bold;\">he</span> <span style=\"color: black; font-weight: regular;\">does</span> <span style=\"color: black; font-weight: regular;\">not</span> <span style=\"color: black; font-weight: regular;\">belong</span> <span style=\"color: black; font-weight: regular;\">to</span> <span style=\"color: black; font-weight: regular;\">our</span> <span style=\"color: black; font-weight: regular;\">group</span> <span style=\"color: black; font-weight: regular;\">.</span> <span style=\"color: black; font-weight: regular;\">''</span>"
      ],
      "text/plain": [
       "<IPython.core.display.HTML object>"
      ]
     },
     "metadata": {},
     "output_type": "display_data"
    },
    {
     "name": "stdout",
     "output_type": "stream",
     "text": [
      "---\n"
     ]
    },
    {
     "data": {
      "text/html": [
       "<span style=\"color: black; font-weight: regular;\">so</span> <span style=\"color: black; font-weight: regular;\">stay</span> <span style=\"color: black; font-weight: regular;\">tuned</span> <span style=\"color: black; font-weight: regular;\">/</span> <span style=\"color: black; font-weight: regular;\">.</span> <span style=\"color: black; font-weight: regular;\">I</span> <span style=\"color: black; font-weight: regular;\">had</span> <span style=\"color: black; font-weight: regular;\">a</span> <span style=\"color: black; font-weight: regular;\">wide</span> <span style=\"color: black; font-weight: regular;\">ranging</span> <span style=\"color: black; font-weight: regular;\">sitdown</span> <span style=\"color: black; font-weight: regular;\">with</span> <span style=\"color: black; font-weight: regular;\">Pulitzer</span> <span style=\"color: black; font-weight: regular;\">Prize</span> <span style=\"color: black; font-weight: regular;\">winner</span> <span style=\"color: black; font-weight: regular;\">Tom</span> <span style=\"color: black; font-weight: regular;\">Friedman</span> <span style=\"color: black; font-weight: regular;\">/</span> <span style=\"color: black; font-weight: regular;\">.</span>"
      ],
      "text/plain": [
       "<IPython.core.display.HTML object>"
      ]
     },
     "metadata": {},
     "output_type": "display_data"
    },
    {
     "data": {
      "text/html": [
       "<span style=\"color: black; font-weight: regular;\">I</span> <span style=\"color: black; font-weight: regular;\">had</span> <span style=\"color: black; font-weight: regular;\">a</span> <span style=\"color: black; font-weight: regular;\">wide</span> <span style=\"color: black; font-weight: regular;\">ranging</span> <span style=\"color: black; font-weight: regular;\">sitdown</span> <span style=\"color: black; font-weight: regular;\">with</span> <span style=\"color: black; font-weight: regular;\">Pulitzer</span> <span style=\"color: black; font-weight: regular;\">Prize</span> <span style=\"color: black; font-weight: regular;\">winner</span> <span style=\"color: black; font-weight: regular;\">Tom</span> <span style=\"color: black; font-weight: regular;\">Friedman</span> <span style=\"color: black; font-weight: regular;\">/</span> <span style=\"color: black; font-weight: regular;\">.</span> <span style=\"color: black; font-weight: regular;\">so</span> <span style=\"color: black; font-weight: regular;\">stay</span> <span style=\"color: black; font-weight: regular;\">tuned</span> <span style=\"color: black; font-weight: regular;\">/</span> <span style=\"color: black; font-weight: regular;\">.</span>"
      ],
      "text/plain": [
       "<IPython.core.display.HTML object>"
      ]
     },
     "metadata": {},
     "output_type": "display_data"
    },
    {
     "name": "stdout",
     "output_type": "stream",
     "text": [
      "---\n"
     ]
    },
    {
     "data": {
      "text/html": [
       "<span style=\"color: black; font-weight: regular;\">If</span> <span style=\"color: black; font-weight: regular;\">anyone</span> <span style=\"color: black; font-weight: regular;\">asks</span> <span style=\"color: black; font-weight: regular;\">you</span> <span style=\"color: black; font-weight: regular;\">why</span> <span style=\"color: black; font-weight: regular;\">you</span> <span style=\"color: black; font-weight: regular;\">are</span> <span style=\"color: black; font-weight: regular;\">taking</span> <span style=\"color: blue; font-weight: bold;\">the</span> <span style=\"color: blue; font-weight: bold;\">donkey</span> <span style=\"color: black; font-weight: regular;\">,</span> <span style=\"color: black; font-weight: regular;\">you</span> <span style=\"color: black; font-weight: regular;\">should</span> <span style=\"color: black; font-weight: regular;\">say</span> <span style=\"color: black; font-weight: regular;\">,</span> <span style=\"color: black; font-weight: regular;\">'</span> <span style=\"color: black; font-weight: regular;\">The</span> <span style=\"color: black; font-weight: regular;\">Master</span> <span style=\"color: black; font-weight: regular;\">needs</span> <span style=\"color: blue; font-weight: bold;\">it</span> <span style=\"color: black; font-weight: regular;\">.</span> <span style=\"color: black; font-weight: regular;\">'</span> <span style=\"color: black; font-weight: regular;\">''</span> <span style=\"color: black; font-weight: regular;\">The</span> <span style=\"color: black; font-weight: regular;\">two</span> <span style=\"color: black; font-weight: regular;\">followers</span> <span style=\"color: black; font-weight: regular;\">went</span> <span style=\"color: black; font-weight: regular;\">into</span> <span style=\"color: black; font-weight: regular;\">town</span> <span style=\"color: black; font-weight: regular;\">.</span>"
      ],
      "text/plain": [
       "<IPython.core.display.HTML object>"
      ]
     },
     "metadata": {},
     "output_type": "display_data"
    },
    {
     "data": {
      "text/html": [
       "<span style=\"color: black; font-weight: regular;\">The</span> <span style=\"color: black; font-weight: regular;\">two</span> <span style=\"color: black; font-weight: regular;\">followers</span> <span style=\"color: black; font-weight: regular;\">went</span> <span style=\"color: black; font-weight: regular;\">into</span> <span style=\"color: black; font-weight: regular;\">town</span> <span style=\"color: black; font-weight: regular;\">.</span> <span style=\"color: black; font-weight: regular;\">If</span> <span style=\"color: black; font-weight: regular;\">anyone</span> <span style=\"color: black; font-weight: regular;\">asks</span> <span style=\"color: blue; font-weight: bold;\">you</span> <span style=\"color: black; font-weight: regular;\">why</span> <span style=\"color: blue; font-weight: bold;\">you</span> <span style=\"color: black; font-weight: regular;\">are</span> <span style=\"color: black; font-weight: regular;\">taking</span> <span style=\"color: green; font-weight: bold;\">the</span> <span style=\"color: green; font-weight: bold;\">donkey</span> <span style=\"color: black; font-weight: regular;\">,</span> <span style=\"color: blue; font-weight: bold;\">you</span> <span style=\"color: black; font-weight: regular;\">should</span> <span style=\"color: black; font-weight: regular;\">say</span> <span style=\"color: black; font-weight: regular;\">,</span> <span style=\"color: black; font-weight: regular;\">'</span> <span style=\"color: black; font-weight: regular;\">The</span> <span style=\"color: black; font-weight: regular;\">Master</span> <span style=\"color: black; font-weight: regular;\">needs</span> <span style=\"color: green; font-weight: bold;\">it</span> <span style=\"color: black; font-weight: regular;\">.</span> <span style=\"color: black; font-weight: regular;\">'</span> <span style=\"color: black; font-weight: regular;\">''</span>"
      ],
      "text/plain": [
       "<IPython.core.display.HTML object>"
      ]
     },
     "metadata": {},
     "output_type": "display_data"
    },
    {
     "name": "stdout",
     "output_type": "stream",
     "text": [
      "---\n"
     ]
    },
    {
     "data": {
      "text/html": [
       "<span style=\"color: black; font-weight: regular;\">Uh-huh</span> <span style=\"color: black; font-weight: regular;\">,</span> <span style=\"color: black; font-weight: regular;\">it</span> <span style=\"color: black; font-weight: regular;\">was</span> <span style=\"color: black; font-weight: regular;\">through</span> <span style=\"color: black; font-weight: regular;\">an</span> <span style=\"color: black; font-weight: regular;\">SMS</span> <span style=\"color: black; font-weight: regular;\">.</span> <span style=\"color: black; font-weight: regular;\">And</span> <span style=\"color: black; font-weight: regular;\">you</span> <span style=\"color: black; font-weight: regular;\">,</span> <span style=\"color: black; font-weight: regular;\">Yang</span> <span style=\"color: black; font-weight: regular;\">Yang</span> <span style=\"color: black; font-weight: regular;\">?</span>"
      ],
      "text/plain": [
       "<IPython.core.display.HTML object>"
      ]
     },
     "metadata": {},
     "output_type": "display_data"
    },
    {
     "data": {
      "text/html": [
       "<span style=\"color: black; font-weight: regular;\">And</span> <span style=\"color: black; font-weight: regular;\">you</span> <span style=\"color: black; font-weight: regular;\">,</span> <span style=\"color: black; font-weight: regular;\">Yang</span> <span style=\"color: black; font-weight: regular;\">Yang</span> <span style=\"color: black; font-weight: regular;\">?</span> <span style=\"color: black; font-weight: regular;\">Uh-huh</span> <span style=\"color: black; font-weight: regular;\">,</span> <span style=\"color: black; font-weight: regular;\">it</span> <span style=\"color: black; font-weight: regular;\">was</span> <span style=\"color: black; font-weight: regular;\">through</span> <span style=\"color: black; font-weight: regular;\">an</span> <span style=\"color: black; font-weight: regular;\">SMS</span> <span style=\"color: black; font-weight: regular;\">.</span>"
      ],
      "text/plain": [
       "<IPython.core.display.HTML object>"
      ]
     },
     "metadata": {},
     "output_type": "display_data"
    },
    {
     "name": "stdout",
     "output_type": "stream",
     "text": [
      "---\n"
     ]
    },
    {
     "data": {
      "text/html": [
       "<span style=\"color: black; font-weight: regular;\">Right</span> <span style=\"color: black; font-weight: regular;\">.</span> <span style=\"color: black; font-weight: regular;\">And</span> <span style=\"color: black; font-weight: regular;\">she</span> <span style=\"color: black; font-weight: regular;\">went</span> <span style=\"color: black; font-weight: regular;\">from</span> <span style=\"color: black; font-weight: regular;\">Penn</span> <span style=\"color: black; font-weight: regular;\">,</span> <span style=\"color: black; font-weight: regular;\">%</span> <span style=\"color: black; font-weight: regular;\">um</span> <span style=\"color: black; font-weight: regular;\">To</span> <span style=\"color: blue; font-weight: bold;\">Columbia</span> <span style=\"color: black; font-weight: regular;\">.</span> <span style=\"color: black; font-weight: regular;\">to</span> <span style=\"color: blue; font-weight: bold;\">Columbia</span> <span style=\"color: black; font-weight: regular;\">to</span> <span style=\"color: black; font-weight: regular;\">U</span> <span style=\"color: black; font-weight: regular;\">R</span> <span style=\"color: black; font-weight: regular;\">I</span> <span style=\"color: black; font-weight: regular;\">.</span>"
      ],
      "text/plain": [
       "<IPython.core.display.HTML object>"
      ]
     },
     "metadata": {},
     "output_type": "display_data"
    },
    {
     "data": {
      "text/html": [
       "<span style=\"color: black; font-weight: regular;\">And</span> <span style=\"color: black; font-weight: regular;\">she</span> <span style=\"color: black; font-weight: regular;\">went</span> <span style=\"color: black; font-weight: regular;\">from</span> <span style=\"color: black; font-weight: regular;\">Penn</span> <span style=\"color: black; font-weight: regular;\">,</span> <span style=\"color: black; font-weight: regular;\">%</span> <span style=\"color: black; font-weight: regular;\">um</span> <span style=\"color: black; font-weight: regular;\">To</span> <span style=\"color: blue; font-weight: bold;\">Columbia</span> <span style=\"color: black; font-weight: regular;\">.</span> <span style=\"color: black; font-weight: regular;\">to</span> <span style=\"color: blue; font-weight: bold;\">Columbia</span> <span style=\"color: black; font-weight: regular;\">to</span> <span style=\"color: black; font-weight: regular;\">U</span> <span style=\"color: black; font-weight: regular;\">R</span> <span style=\"color: black; font-weight: regular;\">I</span> <span style=\"color: black; font-weight: regular;\">.</span> <span style=\"color: black; font-weight: regular;\">Right</span> <span style=\"color: black; font-weight: regular;\">.</span>"
      ],
      "text/plain": [
       "<IPython.core.display.HTML object>"
      ]
     },
     "metadata": {},
     "output_type": "display_data"
    },
    {
     "name": "stdout",
     "output_type": "stream",
     "text": [
      "---\n"
     ]
    },
    {
     "data": {
      "text/html": [
       "<span style=\"color: black; font-weight: regular;\">So</span> <span style=\"color: black; font-weight: regular;\">the</span> <span style=\"color: black; font-weight: regular;\">taxes</span> <span style=\"color: black; font-weight: regular;\">here</span> <span style=\"color: black; font-weight: regular;\">are</span> <span style=\"color: black; font-weight: regular;\">so</span> <span style=\"color: black; font-weight: regular;\">much</span> <span style=\"color: black; font-weight: regular;\">higher</span> <span style=\"color: black; font-weight: regular;\">that</span> <span style=\"color: black; font-weight: regular;\">,</span> <span style=\"color: black; font-weight: regular;\">yeah</span> <span style=\"color: black; font-weight: regular;\">I</span> <span style=\"color: black; font-weight: regular;\">would</span> <span style=\"color: black; font-weight: regular;\">never</span> <span style=\"color: black; font-weight: regular;\">have</span> <span style=\"color: black; font-weight: regular;\">to</span> <span style=\"color: black; font-weight: regular;\">worry</span> <span style=\"color: black; font-weight: regular;\">about</span> <span style=\"color: black; font-weight: regular;\">it</span> <span style=\"color: black; font-weight: regular;\">.</span> <span style=\"color: black; font-weight: regular;\">Unless</span> <span style=\"color: black; font-weight: regular;\">you</span> <span style=\"color: black; font-weight: regular;\">became</span> <span style=\"color: black; font-weight: regular;\">C</span> <span style=\"color: black; font-weight: regular;\">E</span> <span style=\"color: black; font-weight: regular;\">O</span> <span style=\"color: black; font-weight: regular;\">of</span> <span style=\"color: black; font-weight: regular;\">the</span> <span style=\"color: black; font-weight: regular;\">company</span> <span style=\"color: black; font-weight: regular;\">then</span> <span style=\"color: black; font-weight: regular;\">maybe</span> <span style=\"color: black; font-weight: regular;\">like</span> <span style=\"color: black; font-weight: regular;\">a</span> <span style=\"color: black; font-weight: regular;\">thousand</span> <span style=\"color: black; font-weight: regular;\">dollars</span> <span style=\"color: black; font-weight: regular;\">would</span> <span style=\"color: black; font-weight: regular;\">be</span> <span style=\"color: black; font-weight: regular;\">taxable</span> <span style=\"color: black; font-weight: regular;\">,</span> <span style=\"color: black; font-weight: regular;\">right</span> <span style=\"color: black; font-weight: regular;\">?</span>"
      ],
      "text/plain": [
       "<IPython.core.display.HTML object>"
      ]
     },
     "metadata": {},
     "output_type": "display_data"
    },
    {
     "data": {
      "text/html": [
       "<span style=\"color: black; font-weight: regular;\">Unless</span> <span style=\"color: black; font-weight: regular;\">you</span> <span style=\"color: black; font-weight: regular;\">became</span> <span style=\"color: black; font-weight: regular;\">C</span> <span style=\"color: black; font-weight: regular;\">E</span> <span style=\"color: black; font-weight: regular;\">O</span> <span style=\"color: black; font-weight: regular;\">of</span> <span style=\"color: black; font-weight: regular;\">the</span> <span style=\"color: black; font-weight: regular;\">company</span> <span style=\"color: black; font-weight: regular;\">then</span> <span style=\"color: black; font-weight: regular;\">maybe</span> <span style=\"color: black; font-weight: regular;\">like</span> <span style=\"color: black; font-weight: regular;\">a</span> <span style=\"color: black; font-weight: regular;\">thousand</span> <span style=\"color: black; font-weight: regular;\">dollars</span> <span style=\"color: black; font-weight: regular;\">would</span> <span style=\"color: black; font-weight: regular;\">be</span> <span style=\"color: black; font-weight: regular;\">taxable</span> <span style=\"color: black; font-weight: regular;\">,</span> <span style=\"color: black; font-weight: regular;\">right</span> <span style=\"color: black; font-weight: regular;\">?</span> <span style=\"color: black; font-weight: regular;\">So</span> <span style=\"color: black; font-weight: regular;\">the</span> <span style=\"color: black; font-weight: regular;\">taxes</span> <span style=\"color: black; font-weight: regular;\">here</span> <span style=\"color: black; font-weight: regular;\">are</span> <span style=\"color: black; font-weight: regular;\">so</span> <span style=\"color: black; font-weight: regular;\">much</span> <span style=\"color: black; font-weight: regular;\">higher</span> <span style=\"color: black; font-weight: regular;\">that</span> <span style=\"color: black; font-weight: regular;\">,</span> <span style=\"color: black; font-weight: regular;\">yeah</span> <span style=\"color: black; font-weight: regular;\">I</span> <span style=\"color: black; font-weight: regular;\">would</span> <span style=\"color: black; font-weight: regular;\">never</span> <span style=\"color: black; font-weight: regular;\">have</span> <span style=\"color: black; font-weight: regular;\">to</span> <span style=\"color: black; font-weight: regular;\">worry</span> <span style=\"color: black; font-weight: regular;\">about</span> <span style=\"color: black; font-weight: regular;\">it</span> <span style=\"color: black; font-weight: regular;\">.</span>"
      ],
      "text/plain": [
       "<IPython.core.display.HTML object>"
      ]
     },
     "metadata": {},
     "output_type": "display_data"
    },
    {
     "name": "stdout",
     "output_type": "stream",
     "text": [
      "---\n"
     ]
    },
    {
     "data": {
      "text/html": [
       "<span style=\"color: blue; font-weight: bold;\">Ron</span> <span style=\"color: black; font-weight: regular;\">is</span> <span style=\"color: black; font-weight: regular;\">working</span> <span style=\"color: black; font-weight: regular;\">as</span> <span style=\"color: black; font-weight: regular;\">a</span> <span style=\"color: black; font-weight: regular;\">financial</span> <span style=\"color: black; font-weight: regular;\">consultant</span> <span style=\"color: black; font-weight: regular;\">for</span> <span style=\"color: black; font-weight: regular;\">,</span> <span style=\"color: black; font-weight: regular;\">%</span> <span style=\"color: black; font-weight: regular;\">um</span> <span style=\"color: black; font-weight: regular;\">,</span> <span style=\"color: black; font-weight: regular;\">Meryl</span> <span style=\"color: black; font-weight: regular;\">Lynch</span> <span style=\"color: black; font-weight: regular;\">.</span> <span style=\"color: black; font-weight: regular;\">And</span> <span style=\"color: blue; font-weight: bold;\">he</span>"
      ],
      "text/plain": [
       "<IPython.core.display.HTML object>"
      ]
     },
     "metadata": {},
     "output_type": "display_data"
    },
    {
     "data": {
      "text/html": [
       "<span style=\"color: black; font-weight: regular;\">And</span> <span style=\"color: black; font-weight: regular;\">he</span> <span style=\"color: black; font-weight: regular;\">Ron</span> <span style=\"color: black; font-weight: regular;\">is</span> <span style=\"color: black; font-weight: regular;\">working</span> <span style=\"color: black; font-weight: regular;\">as</span> <span style=\"color: black; font-weight: regular;\">a</span> <span style=\"color: black; font-weight: regular;\">financial</span> <span style=\"color: black; font-weight: regular;\">consultant</span> <span style=\"color: black; font-weight: regular;\">for</span> <span style=\"color: black; font-weight: regular;\">,</span> <span style=\"color: black; font-weight: regular;\">%</span> <span style=\"color: black; font-weight: regular;\">um</span> <span style=\"color: black; font-weight: regular;\">,</span> <span style=\"color: black; font-weight: regular;\">Meryl</span> <span style=\"color: black; font-weight: regular;\">Lynch</span> <span style=\"color: black; font-weight: regular;\">.</span>"
      ],
      "text/plain": [
       "<IPython.core.display.HTML object>"
      ]
     },
     "metadata": {},
     "output_type": "display_data"
    },
    {
     "name": "stdout",
     "output_type": "stream",
     "text": [
      "---\n"
     ]
    },
    {
     "data": {
      "text/html": [
       "<span style=\"color: black; font-weight: regular;\">Egypt</span> <span style=\"color: black; font-weight: regular;\">called</span> <span style=\"color: black; font-weight: regular;\">the</span> <span style=\"color: black; font-weight: regular;\">emergency</span> <span style=\"color: black; font-weight: regular;\">summit</span> <span style=\"color: black; font-weight: regular;\">to</span> <span style=\"color: black; font-weight: regular;\">declare</span> <span style=\"color: black; font-weight: regular;\">support</span> <span style=\"color: black; font-weight: regular;\">for</span> <span style=\"color: black; font-weight: regular;\">the</span> <span style=\"color: black; font-weight: regular;\">Palestinians</span> <span style=\"color: black; font-weight: regular;\">in</span> <span style=\"color: black; font-weight: regular;\">the</span> <span style=\"color: black; font-weight: regular;\">wake</span> <span style=\"color: black; font-weight: regular;\">of</span> <span style=\"color: black; font-weight: regular;\">three</span> <span style=\"color: black; font-weight: regular;\">weeks</span> <span style=\"color: black; font-weight: regular;\">of</span> <span style=\"color: black; font-weight: regular;\">violence</span> <span style=\"color: black; font-weight: regular;\">that</span> <span style=\"color: black; font-weight: regular;\">has</span> <span style=\"color: black; font-weight: regular;\">left</span> <span style=\"color: black; font-weight: regular;\">at</span> <span style=\"color: black; font-weight: regular;\">least</span> <span style=\"color: black; font-weight: regular;\">106</span> <span style=\"color: black; font-weight: regular;\">people</span> <span style=\"color: black; font-weight: regular;\">dead</span> <span style=\"color: black; font-weight: regular;\">,</span> <span style=\"color: black; font-weight: regular;\">almost</span> <span style=\"color: black; font-weight: regular;\">all</span> <span style=\"color: black; font-weight: regular;\">of</span> <span style=\"color: black; font-weight: regular;\">them</span> <span style=\"color: black; font-weight: regular;\">Palestinian</span> <span style=\"color: black; font-weight: regular;\">.</span> <span style=\"color: black; font-weight: regular;\">Violence</span> <span style=\"color: black; font-weight: regular;\">has</span> <span style=\"color: black; font-weight: regular;\">abated</span> <span style=\"color: black; font-weight: regular;\">somewhat</span> <span style=\"color: black; font-weight: regular;\">since</span> <span style=\"color: black; font-weight: regular;\">the</span> <span style=\"color: black; font-weight: regular;\">deal</span> <span style=\"color: black; font-weight: regular;\">was</span> <span style=\"color: black; font-weight: regular;\">struck</span> <span style=\"color: black; font-weight: regular;\">at</span> <span style=\"color: black; font-weight: regular;\">Sharm</span> <span style=\"color: black; font-weight: regular;\">el</span> <span style=\"color: black; font-weight: regular;\">-</span> <span style=\"color: black; font-weight: regular;\">Sheikh</span> <span style=\"color: black; font-weight: regular;\">two</span> <span style=\"color: black; font-weight: regular;\">days</span> <span style=\"color: black; font-weight: regular;\">ago</span> <span style=\"color: black; font-weight: regular;\">,</span> <span style=\"color: black; font-weight: regular;\">but</span> <span style=\"color: blue; font-weight: bold;\">Arab</span> <span style=\"color: blue; font-weight: bold;\">governments</span> <span style=\"color: black; font-weight: regular;\">are</span> <span style=\"color: black; font-weight: regular;\">under</span> <span style=\"color: black; font-weight: regular;\">pressure</span> <span style=\"color: black; font-weight: regular;\">from</span> <span style=\"color: blue; font-weight: bold;\">their</span> <span style=\"color: black; font-weight: regular;\">own</span> <span style=\"color: black; font-weight: regular;\">citizens</span> <span style=\"color: black; font-weight: regular;\">to</span> <span style=\"color: black; font-weight: regular;\">take</span> <span style=\"color: black; font-weight: regular;\">a</span> <span style=\"color: black; font-weight: regular;\">tough</span> <span style=\"color: black; font-weight: regular;\">stance</span> <span style=\"color: black; font-weight: regular;\">against</span> <span style=\"color: black; font-weight: regular;\">Israel</span> <span style=\"color: black; font-weight: regular;\">.</span>"
      ],
      "text/plain": [
       "<IPython.core.display.HTML object>"
      ]
     },
     "metadata": {},
     "output_type": "display_data"
    },
    {
     "data": {
      "text/html": [
       "<span style=\"color: black; font-weight: regular;\">Violence</span> <span style=\"color: black; font-weight: regular;\">has</span> <span style=\"color: black; font-weight: regular;\">abated</span> <span style=\"color: black; font-weight: regular;\">somewhat</span> <span style=\"color: black; font-weight: regular;\">since</span> <span style=\"color: black; font-weight: regular;\">the</span> <span style=\"color: black; font-weight: regular;\">deal</span> <span style=\"color: black; font-weight: regular;\">was</span> <span style=\"color: black; font-weight: regular;\">struck</span> <span style=\"color: black; font-weight: regular;\">at</span> <span style=\"color: black; font-weight: regular;\">Sharm</span> <span style=\"color: black; font-weight: regular;\">el</span> <span style=\"color: black; font-weight: regular;\">-</span> <span style=\"color: black; font-weight: regular;\">Sheikh</span> <span style=\"color: black; font-weight: regular;\">two</span> <span style=\"color: black; font-weight: regular;\">days</span> <span style=\"color: black; font-weight: regular;\">ago</span> <span style=\"color: black; font-weight: regular;\">,</span> <span style=\"color: black; font-weight: regular;\">but</span> <span style=\"color: blue; font-weight: bold;\">Arab</span> <span style=\"color: blue; font-weight: bold;\">governments</span> <span style=\"color: black; font-weight: regular;\">are</span> <span style=\"color: black; font-weight: regular;\">under</span> <span style=\"color: black; font-weight: regular;\">pressure</span> <span style=\"color: black; font-weight: regular;\">from</span> <span style=\"color: blue; font-weight: bold;\">their</span> <span style=\"color: black; font-weight: regular;\">own</span> <span style=\"color: black; font-weight: regular;\">citizens</span> <span style=\"color: black; font-weight: regular;\">to</span> <span style=\"color: black; font-weight: regular;\">take</span> <span style=\"color: black; font-weight: regular;\">a</span> <span style=\"color: black; font-weight: regular;\">tough</span> <span style=\"color: black; font-weight: regular;\">stance</span> <span style=\"color: black; font-weight: regular;\">against</span> <span style=\"color: black; font-weight: regular;\">Israel</span> <span style=\"color: black; font-weight: regular;\">.</span> <span style=\"color: black; font-weight: regular;\">Egypt</span> <span style=\"color: black; font-weight: regular;\">called</span> <span style=\"color: black; font-weight: regular;\">the</span> <span style=\"color: black; font-weight: regular;\">emergency</span> <span style=\"color: black; font-weight: regular;\">summit</span> <span style=\"color: black; font-weight: regular;\">to</span> <span style=\"color: black; font-weight: regular;\">declare</span> <span style=\"color: black; font-weight: regular;\">support</span> <span style=\"color: black; font-weight: regular;\">for</span> <span style=\"color: black; font-weight: regular;\">the</span> <span style=\"color: black; font-weight: regular;\">Palestinians</span> <span style=\"color: black; font-weight: regular;\">in</span> <span style=\"color: black; font-weight: regular;\">the</span> <span style=\"color: black; font-weight: regular;\">wake</span> <span style=\"color: black; font-weight: regular;\">of</span> <span style=\"color: black; font-weight: regular;\">three</span> <span style=\"color: black; font-weight: regular;\">weeks</span> <span style=\"color: black; font-weight: regular;\">of</span> <span style=\"color: black; font-weight: regular;\">violence</span> <span style=\"color: black; font-weight: regular;\">that</span> <span style=\"color: black; font-weight: regular;\">has</span> <span style=\"color: black; font-weight: regular;\">left</span> <span style=\"color: black; font-weight: regular;\">at</span> <span style=\"color: black; font-weight: regular;\">least</span> <span style=\"color: black; font-weight: regular;\">106</span> <span style=\"color: black; font-weight: regular;\">people</span> <span style=\"color: black; font-weight: regular;\">dead</span> <span style=\"color: black; font-weight: regular;\">,</span> <span style=\"color: black; font-weight: regular;\">almost</span> <span style=\"color: black; font-weight: regular;\">all</span> <span style=\"color: black; font-weight: regular;\">of</span> <span style=\"color: black; font-weight: regular;\">them</span> <span style=\"color: black; font-weight: regular;\">Palestinian</span> <span style=\"color: black; font-weight: regular;\">.</span>"
      ],
      "text/plain": [
       "<IPython.core.display.HTML object>"
      ]
     },
     "metadata": {},
     "output_type": "display_data"
    },
    {
     "name": "stdout",
     "output_type": "stream",
     "text": [
      "---\n"
     ]
    },
    {
     "data": {
      "text/html": [
       "<span style=\"color: black; font-weight: regular;\">And</span> <span style=\"color: black; font-weight: regular;\">that</span> <span style=\"color: black; font-weight: regular;\">is</span> <span style=\"color: black; font-weight: regular;\">to</span> <span style=\"color: black; font-weight: regular;\">stop</span> <span style=\"color: black; font-weight: regular;\">the</span> <span style=\"color: black; font-weight: regular;\">North</span> <span style=\"color: black; font-weight: regular;\">Korea</span> <span style=\"color: black; font-weight: regular;\">nuclear</span> <span style=\"color: black; font-weight: regular;\">program</span> <span style=\"color: black; font-weight: regular;\">/</span> <span style=\"color: black; font-weight: regular;\">.</span> <span style=\"color: black; font-weight: regular;\">Our</span> <span style=\"color: black; font-weight: regular;\">allies</span> <span style=\"color: black; font-weight: regular;\">Japan</span> <span style=\"color: black; font-weight: regular;\">and</span> <span style=\"color: black; font-weight: regular;\">South</span> <span style=\"color: black; font-weight: regular;\">Korea</span> <span style=\"color: black; font-weight: regular;\">have</span> <span style=\"color: black; font-weight: regular;\">the</span> <span style=\"color: black; font-weight: regular;\">same</span> <span style=\"color: black; font-weight: regular;\">interests</span> <span style=\"color: black; font-weight: regular;\">/</span> <span style=\"color: black; font-weight: regular;\">.</span>"
      ],
      "text/plain": [
       "<IPython.core.display.HTML object>"
      ]
     },
     "metadata": {},
     "output_type": "display_data"
    },
    {
     "data": {
      "text/html": [
       "<span style=\"color: black; font-weight: regular;\">Our</span> <span style=\"color: black; font-weight: regular;\">allies</span> <span style=\"color: black; font-weight: regular;\">Japan</span> <span style=\"color: black; font-weight: regular;\">and</span> <span style=\"color: black; font-weight: regular;\">South</span> <span style=\"color: black; font-weight: regular;\">Korea</span> <span style=\"color: black; font-weight: regular;\">have</span> <span style=\"color: black; font-weight: regular;\">the</span> <span style=\"color: black; font-weight: regular;\">same</span> <span style=\"color: black; font-weight: regular;\">interests</span> <span style=\"color: black; font-weight: regular;\">/</span> <span style=\"color: black; font-weight: regular;\">.</span> <span style=\"color: black; font-weight: regular;\">And</span> <span style=\"color: black; font-weight: regular;\">that</span> <span style=\"color: black; font-weight: regular;\">is</span> <span style=\"color: black; font-weight: regular;\">to</span> <span style=\"color: black; font-weight: regular;\">stop</span> <span style=\"color: black; font-weight: regular;\">the</span> <span style=\"color: black; font-weight: regular;\">North</span> <span style=\"color: black; font-weight: regular;\">Korea</span> <span style=\"color: black; font-weight: regular;\">nuclear</span> <span style=\"color: black; font-weight: regular;\">program</span> <span style=\"color: black; font-weight: regular;\">/</span> <span style=\"color: black; font-weight: regular;\">.</span>"
      ],
      "text/plain": [
       "<IPython.core.display.HTML object>"
      ]
     },
     "metadata": {},
     "output_type": "display_data"
    },
    {
     "name": "stdout",
     "output_type": "stream",
     "text": [
      "---\n"
     ]
    },
    {
     "data": {
      "text/html": [
       "<span style=\"color: black; font-weight: regular;\">Exactly</span> <span style=\"color: black; font-weight: regular;\">.</span> <span style=\"color: black; font-weight: regular;\">Because</span> <span style=\"color: black; font-weight: regular;\">,</span>"
      ],
      "text/plain": [
       "<IPython.core.display.HTML object>"
      ]
     },
     "metadata": {},
     "output_type": "display_data"
    },
    {
     "data": {
      "text/html": [
       "<span style=\"color: black; font-weight: regular;\">Because</span> <span style=\"color: black; font-weight: regular;\">,</span> <span style=\"color: black; font-weight: regular;\">Exactly</span> <span style=\"color: black; font-weight: regular;\">.</span>"
      ],
      "text/plain": [
       "<IPython.core.display.HTML object>"
      ]
     },
     "metadata": {},
     "output_type": "display_data"
    },
    {
     "name": "stdout",
     "output_type": "stream",
     "text": [
      "---\n"
     ]
    },
    {
     "data": {
      "text/html": [
       "<span style=\"color: blue; font-weight: bold;\">You</span> <span style=\"color: black; font-weight: regular;\">'re</span> <span style=\"color: black; font-weight: regular;\">there</span> <span style=\"color: black; font-weight: regular;\">/</span> <span style=\"color: black; font-weight: regular;\">.</span> <span style=\"color: blue; font-weight: bold;\">you</span> <span style=\"color: black; font-weight: regular;\">'re</span> <span style=\"color: black; font-weight: regular;\">being</span> <span style=\"color: black; font-weight: regular;\">protected</span> <span style=\"color: black; font-weight: regular;\">/</span> <span style=\"color: black; font-weight: regular;\">.</span>"
      ],
      "text/plain": [
       "<IPython.core.display.HTML object>"
      ]
     },
     "metadata": {},
     "output_type": "display_data"
    },
    {
     "data": {
      "text/html": [
       "<span style=\"color: blue; font-weight: bold;\">you</span> <span style=\"color: black; font-weight: regular;\">'re</span> <span style=\"color: black; font-weight: regular;\">being</span> <span style=\"color: black; font-weight: regular;\">protected</span> <span style=\"color: black; font-weight: regular;\">/</span> <span style=\"color: black; font-weight: regular;\">.</span> <span style=\"color: blue; font-weight: bold;\">You</span> <span style=\"color: black; font-weight: regular;\">'re</span> <span style=\"color: black; font-weight: regular;\">there</span> <span style=\"color: black; font-weight: regular;\">/</span> <span style=\"color: black; font-weight: regular;\">.</span>"
      ],
      "text/plain": [
       "<IPython.core.display.HTML object>"
      ]
     },
     "metadata": {},
     "output_type": "display_data"
    },
    {
     "name": "stdout",
     "output_type": "stream",
     "text": [
      "---\n"
     ]
    },
    {
     "data": {
      "text/html": [
       "<span style=\"color: blue; font-weight: bold;\">She</span> <span style=\"color: black; font-weight: regular;\">said</span> <span style=\"color: blue; font-weight: bold;\">she</span> <span style=\"color: black; font-weight: regular;\">was</span> <span style=\"color: black; font-weight: regular;\">going</span> <span style=\"color: black; font-weight: regular;\">to</span> <span style=\"color: black; font-weight: regular;\">call</span> <span style=\"color: green; font-weight: bold;\">you</span> <span style=\"color: black; font-weight: regular;\">.</span> <span style=\"color: blue; font-weight: bold;\">She</span> <span style=\"color: black; font-weight: regular;\">said</span> <span style=\"color: blue; font-weight: bold;\">she</span> <span style=\"color: black; font-weight: regular;\">was</span> <span style=\"color: black; font-weight: regular;\">going</span> <span style=\"color: black; font-weight: regular;\">to</span> <span style=\"color: black; font-weight: regular;\">call</span> <span style=\"color: green; font-weight: bold;\">you</span> <span style=\"color: black; font-weight: regular;\">.</span>"
      ],
      "text/plain": [
       "<IPython.core.display.HTML object>"
      ]
     },
     "metadata": {},
     "output_type": "display_data"
    },
    {
     "data": {
      "text/html": [
       "<span style=\"color: blue; font-weight: bold;\">She</span> <span style=\"color: black; font-weight: regular;\">said</span> <span style=\"color: blue; font-weight: bold;\">she</span> <span style=\"color: black; font-weight: regular;\">was</span> <span style=\"color: black; font-weight: regular;\">going</span> <span style=\"color: black; font-weight: regular;\">to</span> <span style=\"color: black; font-weight: regular;\">call</span> <span style=\"color: green; font-weight: bold;\">you</span> <span style=\"color: black; font-weight: regular;\">.</span> <span style=\"color: blue; font-weight: bold;\">She</span> <span style=\"color: black; font-weight: regular;\">said</span> <span style=\"color: blue; font-weight: bold;\">she</span> <span style=\"color: black; font-weight: regular;\">was</span> <span style=\"color: black; font-weight: regular;\">going</span> <span style=\"color: black; font-weight: regular;\">to</span> <span style=\"color: black; font-weight: regular;\">call</span> <span style=\"color: green; font-weight: bold;\">you</span> <span style=\"color: black; font-weight: regular;\">.</span>"
      ],
      "text/plain": [
       "<IPython.core.display.HTML object>"
      ]
     },
     "metadata": {},
     "output_type": "display_data"
    },
    {
     "name": "stdout",
     "output_type": "stream",
     "text": [
      "---\n"
     ]
    },
    {
     "data": {
      "text/html": [
       "<span style=\"color: blue; font-weight: bold;\">You</span> <span style=\"color: black; font-weight: regular;\">said</span> <span style=\"color: black; font-weight: regular;\">as</span> <span style=\"color: black; font-weight: regular;\">days</span> <span style=\"color: black; font-weight: regular;\">go</span> <span style=\"color: black; font-weight: regular;\">by</span> <span style=\"color: blue; font-weight: bold;\">I</span> <span style=\"color: black; font-weight: regular;\">do</span> <span style=\"color: black; font-weight: regular;\">n't</span> <span style=\"color: black; font-weight: regular;\">believe</span> <span style=\"color: green; font-weight: bold;\">they</span> <span style=\"color: black; font-weight: regular;\">'re</span> <span style=\"color: black; font-weight: regular;\">going</span> <span style=\"color: black; font-weight: regular;\">to</span> <span style=\"color: black; font-weight: regular;\">do</span> <span style=\"color: black; font-weight: regular;\">it</span> <span style=\"color: black; font-weight: regular;\">/</span> <span style=\"color: black; font-weight: regular;\">.</span> <span style=\"color: black; font-weight: regular;\">But</span> <span style=\"color: black; font-weight: regular;\">early</span> <span style=\"color: black; font-weight: regular;\">on</span> <span style=\"color: blue; font-weight: bold;\">I</span> <span style=\"color: black; font-weight: regular;\">said</span> <span style=\"color: black; font-weight: regular;\">that</span> <span style=\"color: green; font-weight: bold;\">they</span> <span style=\"color: black; font-weight: regular;\">did</span> <span style=\"color: black; font-weight: regular;\">on</span> <span style=\"color: black; font-weight: regular;\">CBS</span> <span style=\"color: black; font-weight: regular;\">/</span> <span style=\"color: black; font-weight: regular;\">.</span>"
      ],
      "text/plain": [
       "<IPython.core.display.HTML object>"
      ]
     },
     "metadata": {},
     "output_type": "display_data"
    },
    {
     "data": {
      "text/html": [
       "<span style=\"color: black; font-weight: regular;\">But</span> <span style=\"color: black; font-weight: regular;\">early</span> <span style=\"color: black; font-weight: regular;\">on</span> <span style=\"color: blue; font-weight: bold;\">I</span> <span style=\"color: black; font-weight: regular;\">said</span> <span style=\"color: black; font-weight: regular;\">that</span> <span style=\"color: green; font-weight: bold;\">they</span> <span style=\"color: black; font-weight: regular;\">did</span> <span style=\"color: black; font-weight: regular;\">on</span> <span style=\"color: black; font-weight: regular;\">CBS</span> <span style=\"color: black; font-weight: regular;\">/</span> <span style=\"color: black; font-weight: regular;\">.</span> <span style=\"color: black; font-weight: regular;\">You</span> <span style=\"color: black; font-weight: regular;\">said</span> <span style=\"color: black; font-weight: regular;\">as</span> <span style=\"color: black; font-weight: regular;\">days</span> <span style=\"color: black; font-weight: regular;\">go</span> <span style=\"color: black; font-weight: regular;\">by</span> <span style=\"color: blue; font-weight: bold;\">I</span> <span style=\"color: black; font-weight: regular;\">do</span> <span style=\"color: black; font-weight: regular;\">n't</span> <span style=\"color: black; font-weight: regular;\">believe</span> <span style=\"color: green; font-weight: bold;\">they</span> <span style=\"color: black; font-weight: regular;\">'re</span> <span style=\"color: black; font-weight: regular;\">going</span> <span style=\"color: black; font-weight: regular;\">to</span> <span style=\"color: black; font-weight: regular;\">do</span> <span style=\"color: black; font-weight: regular;\">it</span> <span style=\"color: black; font-weight: regular;\">/</span> <span style=\"color: black; font-weight: regular;\">.</span>"
      ],
      "text/plain": [
       "<IPython.core.display.HTML object>"
      ]
     },
     "metadata": {},
     "output_type": "display_data"
    },
    {
     "name": "stdout",
     "output_type": "stream",
     "text": [
      "---\n"
     ]
    },
    {
     "data": {
      "text/html": [
       "<span style=\"color: black; font-weight: regular;\">As</span> <span style=\"color: blue; font-weight: bold;\">DPP</span> <span style=\"color: black; font-weight: regular;\">legislator</span> <span style=\"color: black; font-weight: regular;\">Shen</span> <span style=\"color: black; font-weight: regular;\">Fu</span> <span style=\"color: black; font-weight: regular;\">-</span> <span style=\"color: black; font-weight: regular;\">hsiung</span> <span style=\"color: black; font-weight: regular;\">pointed</span> <span style=\"color: black; font-weight: regular;\">out</span> <span style=\"color: black; font-weight: regular;\">,</span> <span style=\"color: black; font-weight: regular;\">the</span> <span style=\"color: black; font-weight: regular;\">Group</span> <span style=\"color: black; font-weight: regular;\">had</span> <span style=\"color: black; font-weight: regular;\">to</span> <span style=\"color: black; font-weight: regular;\">draft</span> <span style=\"color: black; font-weight: regular;\">something</span> <span style=\"color: black; font-weight: regular;\">``</span> <span style=\"color: black; font-weight: regular;\">palatable</span> <span style=\"color: black; font-weight: regular;\">both</span> <span style=\"color: black; font-weight: regular;\">to</span> <span style=\"color: black; font-weight: regular;\">the</span> <span style=\"color: black; font-weight: regular;\">pro-unification</span> <span style=\"color: black; font-weight: regular;\">and</span> <span style=\"color: black; font-weight: regular;\">pro-independence</span> <span style=\"color: black; font-weight: regular;\">camps</span> <span style=\"color: black; font-weight: regular;\">;</span> <span style=\"color: black; font-weight: regular;\">something</span> <span style=\"color: black; font-weight: regular;\">which</span> <span style=\"color: blue; font-weight: bold;\">the</span> <span style=\"color: blue; font-weight: bold;\">DPP</span> <span style=\"color: black; font-weight: regular;\">ca</span> <span style=\"color: black; font-weight: regular;\">n't</span> <span style=\"color: black; font-weight: regular;\">shun</span> <span style=\"color: black; font-weight: regular;\">and</span> <span style=\"color: black; font-weight: regular;\">yet</span> <span style=\"color: black; font-weight: regular;\">which</span> <span style=\"color: black; font-weight: regular;\">does</span> <span style=\"color: black; font-weight: regular;\">n't</span> <span style=\"color: black; font-weight: regular;\">make</span> <span style=\"color: black; font-weight: regular;\">Beijing</span> <span style=\"color: black; font-weight: regular;\">wince</span> <span style=\"color: black; font-weight: regular;\">.</span> <span style=\"color: black; font-weight: regular;\">``</span> <span style=\"color: black; font-weight: regular;\">Clearly</span> <span style=\"color: black; font-weight: regular;\">no</span> <span style=\"color: black; font-weight: regular;\">easy</span> <span style=\"color: black; font-weight: regular;\">task</span> <span style=\"color: black; font-weight: regular;\">.</span>"
      ],
      "text/plain": [
       "<IPython.core.display.HTML object>"
      ]
     },
     "metadata": {},
     "output_type": "display_data"
    },
    {
     "data": {
      "text/html": [
       "<span style=\"color: black; font-weight: regular;\">Clearly</span> <span style=\"color: black; font-weight: regular;\">no</span> <span style=\"color: black; font-weight: regular;\">easy</span> <span style=\"color: black; font-weight: regular;\">task</span> <span style=\"color: black; font-weight: regular;\">.</span> <span style=\"color: black; font-weight: regular;\">As</span> <span style=\"color: blue; font-weight: bold;\">DPP</span> <span style=\"color: black; font-weight: regular;\">legislator</span> <span style=\"color: black; font-weight: regular;\">Shen</span> <span style=\"color: black; font-weight: regular;\">Fu</span> <span style=\"color: black; font-weight: regular;\">-</span> <span style=\"color: black; font-weight: regular;\">hsiung</span> <span style=\"color: black; font-weight: regular;\">pointed</span> <span style=\"color: black; font-weight: regular;\">out</span> <span style=\"color: black; font-weight: regular;\">,</span> <span style=\"color: black; font-weight: regular;\">the</span> <span style=\"color: black; font-weight: regular;\">Group</span> <span style=\"color: black; font-weight: regular;\">had</span> <span style=\"color: black; font-weight: regular;\">to</span> <span style=\"color: black; font-weight: regular;\">draft</span> <span style=\"color: black; font-weight: regular;\">something</span> <span style=\"color: black; font-weight: regular;\">``</span> <span style=\"color: black; font-weight: regular;\">palatable</span> <span style=\"color: black; font-weight: regular;\">both</span> <span style=\"color: black; font-weight: regular;\">to</span> <span style=\"color: black; font-weight: regular;\">the</span> <span style=\"color: black; font-weight: regular;\">pro-unification</span> <span style=\"color: black; font-weight: regular;\">and</span> <span style=\"color: black; font-weight: regular;\">pro-independence</span> <span style=\"color: black; font-weight: regular;\">camps</span> <span style=\"color: black; font-weight: regular;\">;</span> <span style=\"color: black; font-weight: regular;\">something</span> <span style=\"color: black; font-weight: regular;\">which</span> <span style=\"color: blue; font-weight: bold;\">the</span> <span style=\"color: blue; font-weight: bold;\">DPP</span> <span style=\"color: black; font-weight: regular;\">ca</span> <span style=\"color: black; font-weight: regular;\">n't</span> <span style=\"color: black; font-weight: regular;\">shun</span> <span style=\"color: black; font-weight: regular;\">and</span> <span style=\"color: black; font-weight: regular;\">yet</span> <span style=\"color: black; font-weight: regular;\">which</span> <span style=\"color: black; font-weight: regular;\">does</span> <span style=\"color: black; font-weight: regular;\">n't</span> <span style=\"color: black; font-weight: regular;\">make</span> <span style=\"color: black; font-weight: regular;\">Beijing</span> <span style=\"color: black; font-weight: regular;\">wince</span> <span style=\"color: black; font-weight: regular;\">.</span> <span style=\"color: black; font-weight: regular;\">``</span>"
      ],
      "text/plain": [
       "<IPython.core.display.HTML object>"
      ]
     },
     "metadata": {},
     "output_type": "display_data"
    },
    {
     "name": "stdout",
     "output_type": "stream",
     "text": [
      "---\n"
     ]
    },
    {
     "data": {
      "text/html": [
       "<span style=\"color: blue; font-weight: bold;\">She</span> <span style=\"color: black; font-weight: regular;\">called</span> <span style=\"color: black; font-weight: regular;\">mom</span> <span style=\"color: black; font-weight: regular;\">to</span> <span style=\"color: black; font-weight: regular;\">talk</span> <span style=\"color: black; font-weight: regular;\">to</span> <span style=\"color: black; font-weight: regular;\">mom</span> <span style=\"color: black; font-weight: regular;\">let</span> <span style=\"color: black; font-weight: regular;\">'s</span> <span style=\"color: black; font-weight: regular;\">see</span> <span style=\"color: blue; font-weight: bold;\">she</span> <span style=\"color: black; font-weight: regular;\">bought</span> <span style=\"color: black; font-weight: regular;\">,</span>"
      ],
      "text/plain": [
       "<IPython.core.display.HTML object>"
      ]
     },
     "metadata": {},
     "output_type": "display_data"
    },
    {
     "data": {
      "text/html": [
       "<span style=\"color: black; font-weight: regular;\">let</span> <span style=\"color: black; font-weight: regular;\">'s</span> <span style=\"color: black; font-weight: regular;\">see</span> <span style=\"color: blue; font-weight: bold;\">she</span> <span style=\"color: black; font-weight: regular;\">bought</span> <span style=\"color: black; font-weight: regular;\">,</span> <span style=\"color: blue; font-weight: bold;\">She</span> <span style=\"color: black; font-weight: regular;\">called</span> <span style=\"color: black; font-weight: regular;\">mom</span> <span style=\"color: black; font-weight: regular;\">to</span> <span style=\"color: black; font-weight: regular;\">talk</span> <span style=\"color: black; font-weight: regular;\">to</span> <span style=\"color: black; font-weight: regular;\">mom</span>"
      ],
      "text/plain": [
       "<IPython.core.display.HTML object>"
      ]
     },
     "metadata": {},
     "output_type": "display_data"
    },
    {
     "name": "stdout",
     "output_type": "stream",
     "text": [
      "---\n"
     ]
    },
    {
     "data": {
      "text/html": [
       "<span style=\"color: black; font-weight: regular;\">Here</span> <span style=\"color: black; font-weight: regular;\">wait</span> <span style=\"color: black; font-weight: regular;\">.</span> <span style=\"color: black; font-weight: regular;\">Let</span> <span style=\"color: blue; font-weight: bold;\">me</span> <span style=\"color: black; font-weight: regular;\">look</span> <span style=\"color: black; font-weight: regular;\">for</span> <span style=\"color: blue; font-weight: bold;\">my</span> <span style=\"color: black; font-weight: regular;\">phonebook</span> <span style=\"color: black; font-weight: regular;\">.</span>"
      ],
      "text/plain": [
       "<IPython.core.display.HTML object>"
      ]
     },
     "metadata": {},
     "output_type": "display_data"
    },
    {
     "data": {
      "text/html": [
       "<span style=\"color: black; font-weight: regular;\">Let</span> <span style=\"color: blue; font-weight: bold;\">me</span> <span style=\"color: black; font-weight: regular;\">look</span> <span style=\"color: black; font-weight: regular;\">for</span> <span style=\"color: blue; font-weight: bold;\">my</span> <span style=\"color: black; font-weight: regular;\">phonebook</span> <span style=\"color: black; font-weight: regular;\">.</span> <span style=\"color: black; font-weight: regular;\">Here</span> <span style=\"color: black; font-weight: regular;\">wait</span> <span style=\"color: black; font-weight: regular;\">.</span>"
      ],
      "text/plain": [
       "<IPython.core.display.HTML object>"
      ]
     },
     "metadata": {},
     "output_type": "display_data"
    },
    {
     "name": "stdout",
     "output_type": "stream",
     "text": [
      "---\n"
     ]
    },
    {
     "data": {
      "text/html": [
       "<span style=\"color: blue; font-weight: bold;\">It</span> <span style=\"color: black; font-weight: regular;\">was</span> <span style=\"color: black; font-weight: regular;\">let</span> <span style=\"color: black; font-weight: regular;\">'s</span> <span style=\"color: black; font-weight: regular;\">face</span> <span style=\"color: blue; font-weight: bold;\">it</span> <span style=\"color: black; font-weight: regular;\">irresistable</span> <span style=\"color: black; font-weight: regular;\">/</span> <span style=\"color: black; font-weight: regular;\">.</span> <span style=\"color: black; font-weight: regular;\">And</span> <span style=\"color: black; font-weight: regular;\">since</span> <span style=\"color: black; font-weight: regular;\">it</span> <span style=\"color: black; font-weight: regular;\">was</span> <span style=\"color: black; font-weight: regular;\">right</span> <span style=\"color: black; font-weight: regular;\">there</span> <span style=\"color: black; font-weight: regular;\">in</span> <span style=\"color: black; font-weight: regular;\">the</span> <span style=\"color: black; font-weight: regular;\">Big</span> <span style=\"color: black; font-weight: regular;\">Apple</span> <span style=\"color: black; font-weight: regular;\">cable</span> <span style=\"color: black; font-weight: regular;\">anchors</span> <span style=\"color: black; font-weight: regular;\">and</span> <span style=\"color: black; font-weight: regular;\">correspondents</span> <span style=\"color: black; font-weight: regular;\">could</span> <span style=\"color: black; font-weight: regular;\">provide</span> <span style=\"color: black; font-weight: regular;\">almost</span> <span style=\"color: black; font-weight: regular;\">non-stop</span> <span style=\"color: black; font-weight: regular;\">on</span> <span style=\"color: black; font-weight: regular;\">the</span> <span style=\"color: black; font-weight: regular;\">scene</span> <span style=\"color: black; font-weight: regular;\">coverage</span> <span style=\"color: black; font-weight: regular;\">/</span> <span style=\"color: black; font-weight: regular;\">.</span>"
      ],
      "text/plain": [
       "<IPython.core.display.HTML object>"
      ]
     },
     "metadata": {},
     "output_type": "display_data"
    },
    {
     "data": {
      "text/html": [
       "<span style=\"color: black; font-weight: regular;\">And</span> <span style=\"color: black; font-weight: regular;\">since</span> <span style=\"color: black; font-weight: regular;\">it</span> <span style=\"color: black; font-weight: regular;\">was</span> <span style=\"color: black; font-weight: regular;\">right</span> <span style=\"color: black; font-weight: regular;\">there</span> <span style=\"color: black; font-weight: regular;\">in</span> <span style=\"color: black; font-weight: regular;\">the</span> <span style=\"color: black; font-weight: regular;\">Big</span> <span style=\"color: black; font-weight: regular;\">Apple</span> <span style=\"color: black; font-weight: regular;\">cable</span> <span style=\"color: black; font-weight: regular;\">anchors</span> <span style=\"color: black; font-weight: regular;\">and</span> <span style=\"color: black; font-weight: regular;\">correspondents</span> <span style=\"color: black; font-weight: regular;\">could</span> <span style=\"color: black; font-weight: regular;\">provide</span> <span style=\"color: black; font-weight: regular;\">almost</span> <span style=\"color: black; font-weight: regular;\">non-stop</span> <span style=\"color: black; font-weight: regular;\">on</span> <span style=\"color: black; font-weight: regular;\">the</span> <span style=\"color: black; font-weight: regular;\">scene</span> <span style=\"color: black; font-weight: regular;\">coverage</span> <span style=\"color: black; font-weight: regular;\">/</span> <span style=\"color: black; font-weight: regular;\">.</span> <span style=\"color: blue; font-weight: bold;\">It</span> <span style=\"color: black; font-weight: regular;\">was</span> <span style=\"color: black; font-weight: regular;\">let</span> <span style=\"color: black; font-weight: regular;\">'s</span> <span style=\"color: black; font-weight: regular;\">face</span> <span style=\"color: blue; font-weight: bold;\">it</span> <span style=\"color: black; font-weight: regular;\">irresistable</span> <span style=\"color: black; font-weight: regular;\">/</span> <span style=\"color: black; font-weight: regular;\">.</span>"
      ],
      "text/plain": [
       "<IPython.core.display.HTML object>"
      ]
     },
     "metadata": {},
     "output_type": "display_data"
    },
    {
     "name": "stdout",
     "output_type": "stream",
     "text": [
      "---\n"
     ]
    },
    {
     "data": {
      "text/html": [
       "<span style=\"color: black; font-weight: regular;\">When</span> <span style=\"color: black; font-weight: regular;\">people</span> <span style=\"color: black; font-weight: regular;\">living</span> <span style=\"color: black; font-weight: regular;\">in</span> <span style=\"color: black; font-weight: regular;\">the</span> <span style=\"color: black; font-weight: regular;\">west</span> <span style=\"color: black; font-weight: regular;\">want</span> <span style=\"color: black; font-weight: regular;\">to</span> <span style=\"color: black; font-weight: regular;\">cross</span> <span style=\"color: black; font-weight: regular;\">over</span> <span style=\"color: black; font-weight: regular;\">from</span> <span style=\"color: black; font-weight: regular;\">the</span> <span style=\"color: black; font-weight: regular;\">city</span> <span style=\"color: black; font-weight: regular;\">,</span> <span style=\"color: black; font-weight: regular;\">they</span> <span style=\"color: black; font-weight: regular;\">have</span> <span style=\"color: black; font-weight: regular;\">to</span> <span style=\"color: black; font-weight: regular;\">go</span> <span style=\"color: black; font-weight: regular;\">via</span> <span style=\"color: black; font-weight: regular;\">this</span> <span style=\"color: black; font-weight: regular;\">road</span> <span style=\"color: black; font-weight: regular;\">.</span> <span style=\"color: black; font-weight: regular;\">Hence</span> <span style=\"color: black; font-weight: regular;\">,</span> <span style=\"color: black; font-weight: regular;\">if</span> <span style=\"color: black; font-weight: regular;\">a</span> <span style=\"color: black; font-weight: regular;\">traffic</span> <span style=\"color: black; font-weight: regular;\">accident</span> <span style=\"color: black; font-weight: regular;\">occurs</span> <span style=\"color: black; font-weight: regular;\">at</span> <span style=\"color: black; font-weight: regular;\">this</span> <span style=\"color: black; font-weight: regular;\">place</span> <span style=\"color: black; font-weight: regular;\">,</span> <span style=\"color: black; font-weight: regular;\">we</span> <span style=\"color: black; font-weight: regular;\">can</span> <span style=\"color: black; font-weight: regular;\">indeed</span> <span style=\"color: black; font-weight: regular;\">imagine</span> <span style=\"color: black; font-weight: regular;\">,</span> <span style=\"color: black; font-weight: regular;\">ha</span> <span style=\"color: black; font-weight: regular;\">,</span> <span style=\"color: black; font-weight: regular;\">how</span> <span style=\"color: black; font-weight: regular;\">widespread</span> <span style=\"color: black; font-weight: regular;\">,</span> <span style=\"color: black; font-weight: regular;\">ah</span> <span style=\"color: black; font-weight: regular;\">,</span> <span style=\"color: black; font-weight: regular;\">the</span> <span style=\"color: black; font-weight: regular;\">extent</span> <span style=\"color: black; font-weight: regular;\">of</span> <span style=\"color: black; font-weight: regular;\">the</span> <span style=\"color: black; font-weight: regular;\">impact</span> <span style=\"color: black; font-weight: regular;\">will</span> <span style=\"color: black; font-weight: regular;\">be</span> <span style=\"color: black; font-weight: regular;\">,</span> <span style=\"color: black; font-weight: regular;\">such</span> <span style=\"color: black; font-weight: regular;\">as</span> <span style=\"color: black; font-weight: regular;\">the</span> <span style=\"color: black; font-weight: regular;\">number</span> <span style=\"color: black; font-weight: regular;\">of</span> <span style=\"color: black; font-weight: regular;\">cars</span> <span style=\"color: black; font-weight: regular;\">caught</span> <span style=\"color: black; font-weight: regular;\">in</span> <span style=\"color: black; font-weight: regular;\">traffic</span> <span style=\"color: black; font-weight: regular;\">jams</span> <span style=\"color: black; font-weight: regular;\">.</span>"
      ],
      "text/plain": [
       "<IPython.core.display.HTML object>"
      ]
     },
     "metadata": {},
     "output_type": "display_data"
    },
    {
     "data": {
      "text/html": [
       "<span style=\"color: black; font-weight: regular;\">Hence</span> <span style=\"color: black; font-weight: regular;\">,</span> <span style=\"color: black; font-weight: regular;\">if</span> <span style=\"color: black; font-weight: regular;\">a</span> <span style=\"color: black; font-weight: regular;\">traffic</span> <span style=\"color: black; font-weight: regular;\">accident</span> <span style=\"color: black; font-weight: regular;\">occurs</span> <span style=\"color: black; font-weight: regular;\">at</span> <span style=\"color: black; font-weight: regular;\">this</span> <span style=\"color: black; font-weight: regular;\">place</span> <span style=\"color: black; font-weight: regular;\">,</span> <span style=\"color: black; font-weight: regular;\">we</span> <span style=\"color: black; font-weight: regular;\">can</span> <span style=\"color: black; font-weight: regular;\">indeed</span> <span style=\"color: black; font-weight: regular;\">imagine</span> <span style=\"color: black; font-weight: regular;\">,</span> <span style=\"color: black; font-weight: regular;\">ha</span> <span style=\"color: black; font-weight: regular;\">,</span> <span style=\"color: black; font-weight: regular;\">how</span> <span style=\"color: black; font-weight: regular;\">widespread</span> <span style=\"color: black; font-weight: regular;\">,</span> <span style=\"color: black; font-weight: regular;\">ah</span> <span style=\"color: black; font-weight: regular;\">,</span> <span style=\"color: black; font-weight: regular;\">the</span> <span style=\"color: black; font-weight: regular;\">extent</span> <span style=\"color: black; font-weight: regular;\">of</span> <span style=\"color: black; font-weight: regular;\">the</span> <span style=\"color: black; font-weight: regular;\">impact</span> <span style=\"color: black; font-weight: regular;\">will</span> <span style=\"color: black; font-weight: regular;\">be</span> <span style=\"color: black; font-weight: regular;\">,</span> <span style=\"color: black; font-weight: regular;\">such</span> <span style=\"color: black; font-weight: regular;\">as</span> <span style=\"color: black; font-weight: regular;\">the</span> <span style=\"color: black; font-weight: regular;\">number</span> <span style=\"color: black; font-weight: regular;\">of</span> <span style=\"color: black; font-weight: regular;\">cars</span> <span style=\"color: black; font-weight: regular;\">caught</span> <span style=\"color: black; font-weight: regular;\">in</span> <span style=\"color: black; font-weight: regular;\">traffic</span> <span style=\"color: black; font-weight: regular;\">jams</span> <span style=\"color: black; font-weight: regular;\">.</span> <span style=\"color: black; font-weight: regular;\">When</span> <span style=\"color: black; font-weight: regular;\">people</span> <span style=\"color: black; font-weight: regular;\">living</span> <span style=\"color: black; font-weight: regular;\">in</span> <span style=\"color: black; font-weight: regular;\">the</span> <span style=\"color: black; font-weight: regular;\">west</span> <span style=\"color: black; font-weight: regular;\">want</span> <span style=\"color: black; font-weight: regular;\">to</span> <span style=\"color: black; font-weight: regular;\">cross</span> <span style=\"color: black; font-weight: regular;\">over</span> <span style=\"color: black; font-weight: regular;\">from</span> <span style=\"color: black; font-weight: regular;\">the</span> <span style=\"color: black; font-weight: regular;\">city</span> <span style=\"color: black; font-weight: regular;\">,</span> <span style=\"color: black; font-weight: regular;\">they</span> <span style=\"color: black; font-weight: regular;\">have</span> <span style=\"color: black; font-weight: regular;\">to</span> <span style=\"color: black; font-weight: regular;\">go</span> <span style=\"color: black; font-weight: regular;\">via</span> <span style=\"color: black; font-weight: regular;\">this</span> <span style=\"color: black; font-weight: regular;\">road</span> <span style=\"color: black; font-weight: regular;\">.</span>"
      ],
      "text/plain": [
       "<IPython.core.display.HTML object>"
      ]
     },
     "metadata": {},
     "output_type": "display_data"
    },
    {
     "name": "stdout",
     "output_type": "stream",
     "text": [
      "---\n"
     ]
    },
    {
     "data": {
      "text/html": [
       "<span style=\"color: black; font-weight: regular;\">Now</span> <span style=\"color: black; font-weight: regular;\">I</span> <span style=\"color: black; font-weight: regular;\">just</span> <span style=\"color: black; font-weight: regular;\">have</span> <span style=\"color: black; font-weight: regular;\">to</span> <span style=\"color: black; font-weight: regular;\">work</span> <span style=\"color: black; font-weight: regular;\">on</span> <span style=\"color: black; font-weight: regular;\">the</span> <span style=\"color: black; font-weight: regular;\">financial</span> <span style=\"color: black; font-weight: regular;\">aspects</span> <span style=\"color: black; font-weight: regular;\">of</span> <span style=\"color: black; font-weight: regular;\">all</span> <span style=\"color: black; font-weight: regular;\">of</span> <span style=\"color: black; font-weight: regular;\">this</span> <span style=\"color: black; font-weight: regular;\">.</span> <span style=\"color: black; font-weight: regular;\">But</span> <span style=\"color: black; font-weight: regular;\">yeah</span> <span style=\"color: black; font-weight: regular;\">.</span> <span style=\"color: black; font-weight: regular;\">yeah</span> <span style=\"color: black; font-weight: regular;\">.</span>"
      ],
      "text/plain": [
       "<IPython.core.display.HTML object>"
      ]
     },
     "metadata": {},
     "output_type": "display_data"
    },
    {
     "data": {
      "text/html": [
       "<span style=\"color: black; font-weight: regular;\">But</span> <span style=\"color: black; font-weight: regular;\">yeah</span> <span style=\"color: black; font-weight: regular;\">.</span> <span style=\"color: black; font-weight: regular;\">yeah</span> <span style=\"color: black; font-weight: regular;\">.</span> <span style=\"color: black; font-weight: regular;\">Now</span> <span style=\"color: black; font-weight: regular;\">I</span> <span style=\"color: black; font-weight: regular;\">just</span> <span style=\"color: black; font-weight: regular;\">have</span> <span style=\"color: black; font-weight: regular;\">to</span> <span style=\"color: black; font-weight: regular;\">work</span> <span style=\"color: black; font-weight: regular;\">on</span> <span style=\"color: black; font-weight: regular;\">the</span> <span style=\"color: black; font-weight: regular;\">financial</span> <span style=\"color: black; font-weight: regular;\">aspects</span> <span style=\"color: black; font-weight: regular;\">of</span> <span style=\"color: black; font-weight: regular;\">all</span> <span style=\"color: black; font-weight: regular;\">of</span> <span style=\"color: black; font-weight: regular;\">this</span> <span style=\"color: black; font-weight: regular;\">.</span>"
      ],
      "text/plain": [
       "<IPython.core.display.HTML object>"
      ]
     },
     "metadata": {},
     "output_type": "display_data"
    },
    {
     "name": "stdout",
     "output_type": "stream",
     "text": [
      "---\n"
     ]
    },
    {
     "data": {
      "text/html": [
       "<span style=\"color: black; font-weight: regular;\">So</span> <span style=\"color: blue; font-weight: bold;\">the</span> <span style=\"color: blue; font-weight: bold;\">Jewish</span> <span style=\"color: blue; font-weight: bold;\">leaders</span> <span style=\"color: black; font-weight: regular;\">called</span> <span style=\"color: green; font-weight: bold;\">the</span> <span style=\"color: green; font-weight: bold;\">man</span> <span style=\"color: green; font-weight: bold;\">who</span> <span style=\"color: green; font-weight: bold;\">had</span> <span style=\"color: green; font-weight: bold;\">been</span> <span style=\"color: green; font-weight: bold;\">blind</span> <span style=\"color: black; font-weight: regular;\">.</span> <span style=\"color: blue; font-weight: bold;\">They</span> <span style=\"color: black; font-weight: regular;\">told</span> <span style=\"color: green; font-weight: bold;\">him</span> <span style=\"color: black; font-weight: regular;\">to</span> <span style=\"color: black; font-weight: regular;\">come</span> <span style=\"color: black; font-weight: regular;\">in</span> <span style=\"color: black; font-weight: regular;\">again</span> <span style=\"color: black; font-weight: regular;\">.</span>"
      ],
      "text/plain": [
       "<IPython.core.display.HTML object>"
      ]
     },
     "metadata": {},
     "output_type": "display_data"
    },
    {
     "data": {
      "text/html": [
       "<span style=\"color: black; font-weight: regular;\">They</span> <span style=\"color: black; font-weight: regular;\">told</span> <span style=\"color: black; font-weight: regular;\">him</span> <span style=\"color: black; font-weight: regular;\">to</span> <span style=\"color: black; font-weight: regular;\">come</span> <span style=\"color: black; font-weight: regular;\">in</span> <span style=\"color: black; font-weight: regular;\">again</span> <span style=\"color: black; font-weight: regular;\">.</span> <span style=\"color: black; font-weight: regular;\">So</span> <span style=\"color: black; font-weight: regular;\">the</span> <span style=\"color: black; font-weight: regular;\">Jewish</span> <span style=\"color: black; font-weight: regular;\">leaders</span> <span style=\"color: black; font-weight: regular;\">called</span> <span style=\"color: black; font-weight: regular;\">the</span> <span style=\"color: black; font-weight: regular;\">man</span> <span style=\"color: black; font-weight: regular;\">who</span> <span style=\"color: black; font-weight: regular;\">had</span> <span style=\"color: black; font-weight: regular;\">been</span> <span style=\"color: black; font-weight: regular;\">blind</span> <span style=\"color: black; font-weight: regular;\">.</span>"
      ],
      "text/plain": [
       "<IPython.core.display.HTML object>"
      ]
     },
     "metadata": {},
     "output_type": "display_data"
    },
    {
     "name": "stdout",
     "output_type": "stream",
     "text": [
      "---\n"
     ]
    },
    {
     "data": {
      "text/html": [
       "<span style=\"color: black; font-weight: regular;\">An</span> <span style=\"color: black; font-weight: regular;\">American</span> <span style=\"color: black; font-weight: regular;\">living</span> <span style=\"color: black; font-weight: regular;\">abroad</span> <span style=\"color: black; font-weight: regular;\">.</span> <span style=\"color: black; font-weight: regular;\">I</span> <span style=\"color: black; font-weight: regular;\">still</span> <span style=\"color: black; font-weight: regular;\">have</span> <span style=\"color: black; font-weight: regular;\">to</span> <span style=\"color: black; font-weight: regular;\">file</span> <span style=\"color: black; font-weight: regular;\">a</span> <span style=\"color: black; font-weight: regular;\">tax</span> <span style=\"color: black; font-weight: regular;\">return</span> <span style=\"color: black; font-weight: regular;\">.</span>"
      ],
      "text/plain": [
       "<IPython.core.display.HTML object>"
      ]
     },
     "metadata": {},
     "output_type": "display_data"
    },
    {
     "data": {
      "text/html": [
       "<span style=\"color: black; font-weight: regular;\">I</span> <span style=\"color: black; font-weight: regular;\">still</span> <span style=\"color: black; font-weight: regular;\">have</span> <span style=\"color: black; font-weight: regular;\">to</span> <span style=\"color: black; font-weight: regular;\">file</span> <span style=\"color: black; font-weight: regular;\">a</span> <span style=\"color: black; font-weight: regular;\">tax</span> <span style=\"color: black; font-weight: regular;\">return</span> <span style=\"color: black; font-weight: regular;\">.</span> <span style=\"color: black; font-weight: regular;\">An</span> <span style=\"color: black; font-weight: regular;\">American</span> <span style=\"color: black; font-weight: regular;\">living</span> <span style=\"color: black; font-weight: regular;\">abroad</span> <span style=\"color: black; font-weight: regular;\">.</span>"
      ],
      "text/plain": [
       "<IPython.core.display.HTML object>"
      ]
     },
     "metadata": {},
     "output_type": "display_data"
    },
    {
     "name": "stdout",
     "output_type": "stream",
     "text": [
      "---\n"
     ]
    },
    {
     "data": {
      "text/html": [
       "<span style=\"color: black; font-weight: regular;\">Only</span> <span style=\"color: black; font-weight: regular;\">the</span> <span style=\"color: black; font-weight: regular;\">lower</span> <span style=\"color: black; font-weight: regular;\">-</span> <span style=\"color: black; font-weight: regular;\">middle</span> <span style=\"color: black; font-weight: regular;\">class</span> <span style=\"color: black; font-weight: regular;\">will</span> <span style=\"color: black; font-weight: regular;\">leave</span> <span style=\"color: black; font-weight: regular;\">the</span> <span style=\"color: black; font-weight: regular;\">rural</span> <span style=\"color: black; font-weight: regular;\">areas</span> <span style=\"color: black; font-weight: regular;\">and</span> <span style=\"color: black; font-weight: regular;\">work</span> <span style=\"color: black; font-weight: regular;\">in</span> <span style=\"color: black; font-weight: regular;\">the</span> <span style=\"color: black; font-weight: regular;\">city</span> <span style=\"color: black; font-weight: regular;\">.</span> <span style=\"color: black; font-weight: regular;\">They</span> <span style=\"color: black; font-weight: regular;\">have</span> <span style=\"color: black; font-weight: regular;\">to</span> <span style=\"color: black; font-weight: regular;\">make</span> <span style=\"color: black; font-weight: regular;\">money</span> <span style=\"color: black; font-weight: regular;\">to</span> <span style=\"color: black; font-weight: regular;\">support</span> <span style=\"color: black; font-weight: regular;\">the</span> <span style=\"color: black; font-weight: regular;\">family</span> <span style=\"color: black; font-weight: regular;\">.</span>"
      ],
      "text/plain": [
       "<IPython.core.display.HTML object>"
      ]
     },
     "metadata": {},
     "output_type": "display_data"
    },
    {
     "data": {
      "text/html": [
       "<span style=\"color: black; font-weight: regular;\">They</span> <span style=\"color: black; font-weight: regular;\">have</span> <span style=\"color: black; font-weight: regular;\">to</span> <span style=\"color: black; font-weight: regular;\">make</span> <span style=\"color: black; font-weight: regular;\">money</span> <span style=\"color: black; font-weight: regular;\">to</span> <span style=\"color: black; font-weight: regular;\">support</span> <span style=\"color: black; font-weight: regular;\">the</span> <span style=\"color: black; font-weight: regular;\">family</span> <span style=\"color: black; font-weight: regular;\">.</span> <span style=\"color: black; font-weight: regular;\">Only</span> <span style=\"color: black; font-weight: regular;\">the</span> <span style=\"color: black; font-weight: regular;\">lower</span> <span style=\"color: black; font-weight: regular;\">-</span> <span style=\"color: black; font-weight: regular;\">middle</span> <span style=\"color: black; font-weight: regular;\">class</span> <span style=\"color: black; font-weight: regular;\">will</span> <span style=\"color: black; font-weight: regular;\">leave</span> <span style=\"color: black; font-weight: regular;\">the</span> <span style=\"color: black; font-weight: regular;\">rural</span> <span style=\"color: black; font-weight: regular;\">areas</span> <span style=\"color: black; font-weight: regular;\">and</span> <span style=\"color: black; font-weight: regular;\">work</span> <span style=\"color: black; font-weight: regular;\">in</span> <span style=\"color: black; font-weight: regular;\">the</span> <span style=\"color: black; font-weight: regular;\">city</span> <span style=\"color: black; font-weight: regular;\">.</span>"
      ],
      "text/plain": [
       "<IPython.core.display.HTML object>"
      ]
     },
     "metadata": {},
     "output_type": "display_data"
    },
    {
     "name": "stdout",
     "output_type": "stream",
     "text": [
      "---\n"
     ]
    },
    {
     "data": {
      "text/html": [
       "<span style=\"color: black; font-weight: regular;\">A</span> <span style=\"color: black; font-weight: regular;\">reporter</span> <span style=\"color: black; font-weight: regular;\">asked</span> <span style=\"color: black; font-weight: regular;\">:</span> <span style=\"color: black; font-weight: regular;\">on</span> <span style=\"color: black; font-weight: regular;\">August</span> <span style=\"color: black; font-weight: regular;\">23rd</span> <span style=\"color: black; font-weight: regular;\">,</span> <span style=\"color: black; font-weight: regular;\">the</span> <span style=\"color: black; font-weight: regular;\">US</span> <span style=\"color: black; font-weight: regular;\">president</span> <span style=\"color: black; font-weight: regular;\">signed</span> <span style=\"color: black; font-weight: regular;\">the</span> <span style=\"color: black; font-weight: regular;\">``</span> <span style=\"color: black; font-weight: regular;\">1995</span> <span style=\"color: black; font-weight: regular;\">financial</span> <span style=\"color: black; font-weight: regular;\">year</span> <span style=\"color: black; font-weight: regular;\">overseas</span> <span style=\"color: black; font-weight: regular;\">activities</span> <span style=\"color: black; font-weight: regular;\">fund</span> <span style=\"color: black; font-weight: regular;\">appropriation</span> <span style=\"color: black; font-weight: regular;\">act</span> <span style=\"color: black; font-weight: regular;\">``</span> <span style=\"color: black; font-weight: regular;\">in</span> <span style=\"color: black; font-weight: regular;\">which</span> <span style=\"color: black; font-weight: regular;\">it</span> <span style=\"color: black; font-weight: regular;\">is</span> <span style=\"color: black; font-weight: regular;\">stipulated</span> <span style=\"color: black; font-weight: regular;\">that</span> <span style=\"color: black; font-weight: regular;\">any</span> <span style=\"color: black; font-weight: regular;\">donation</span> <span style=\"color: black; font-weight: regular;\">made</span> <span style=\"color: black; font-weight: regular;\">by</span> <span style=\"color: black; font-weight: regular;\">the</span> <span style=\"color: black; font-weight: regular;\">US</span> <span style=\"color: black; font-weight: regular;\">to</span> <span style=\"color: black; font-weight: regular;\">the</span> <span style=\"color: black; font-weight: regular;\">UN</span> <span style=\"color: black; font-weight: regular;\">population</span> <span style=\"color: black; font-weight: regular;\">fund</span> <span style=\"color: black; font-weight: regular;\">must</span> <span style=\"color: black; font-weight: regular;\">not</span> <span style=\"color: black; font-weight: regular;\">be</span> <span style=\"color: black; font-weight: regular;\">used</span> <span style=\"color: black; font-weight: regular;\">in</span> <span style=\"color: black; font-weight: regular;\">China</span> <span style=\"color: black; font-weight: regular;\">.</span> <span style=\"color: black; font-weight: regular;\">What</span> <span style=\"color: black; font-weight: regular;\">is</span> <span style=\"color: black; font-weight: regular;\">your</span> <span style=\"color: black; font-weight: regular;\">opinion</span> <span style=\"color: black; font-weight: regular;\">of</span> <span style=\"color: black; font-weight: regular;\">this</span> <span style=\"color: black; font-weight: regular;\">?</span>"
      ],
      "text/plain": [
       "<IPython.core.display.HTML object>"
      ]
     },
     "metadata": {},
     "output_type": "display_data"
    },
    {
     "data": {
      "text/html": [
       "<span style=\"color: black; font-weight: regular;\">What</span> <span style=\"color: black; font-weight: regular;\">is</span> <span style=\"color: black; font-weight: regular;\">your</span> <span style=\"color: black; font-weight: regular;\">opinion</span> <span style=\"color: black; font-weight: regular;\">of</span> <span style=\"color: black; font-weight: regular;\">this</span> <span style=\"color: black; font-weight: regular;\">?</span> <span style=\"color: black; font-weight: regular;\">A</span> <span style=\"color: black; font-weight: regular;\">reporter</span> <span style=\"color: black; font-weight: regular;\">asked</span> <span style=\"color: black; font-weight: regular;\">:</span> <span style=\"color: black; font-weight: regular;\">on</span> <span style=\"color: black; font-weight: regular;\">August</span> <span style=\"color: black; font-weight: regular;\">23rd</span> <span style=\"color: black; font-weight: regular;\">,</span> <span style=\"color: black; font-weight: regular;\">the</span> <span style=\"color: black; font-weight: regular;\">US</span> <span style=\"color: black; font-weight: regular;\">president</span> <span style=\"color: black; font-weight: regular;\">signed</span> <span style=\"color: black; font-weight: regular;\">the</span> <span style=\"color: black; font-weight: regular;\">``</span> <span style=\"color: black; font-weight: regular;\">1995</span> <span style=\"color: black; font-weight: regular;\">financial</span> <span style=\"color: black; font-weight: regular;\">year</span> <span style=\"color: black; font-weight: regular;\">overseas</span> <span style=\"color: black; font-weight: regular;\">activities</span> <span style=\"color: black; font-weight: regular;\">fund</span> <span style=\"color: black; font-weight: regular;\">appropriation</span> <span style=\"color: black; font-weight: regular;\">act</span> <span style=\"color: black; font-weight: regular;\">``</span> <span style=\"color: black; font-weight: regular;\">in</span> <span style=\"color: black; font-weight: regular;\">which</span> <span style=\"color: black; font-weight: regular;\">it</span> <span style=\"color: black; font-weight: regular;\">is</span> <span style=\"color: black; font-weight: regular;\">stipulated</span> <span style=\"color: black; font-weight: regular;\">that</span> <span style=\"color: black; font-weight: regular;\">any</span> <span style=\"color: black; font-weight: regular;\">donation</span> <span style=\"color: black; font-weight: regular;\">made</span> <span style=\"color: black; font-weight: regular;\">by</span> <span style=\"color: black; font-weight: regular;\">the</span> <span style=\"color: black; font-weight: regular;\">US</span> <span style=\"color: black; font-weight: regular;\">to</span> <span style=\"color: black; font-weight: regular;\">the</span> <span style=\"color: black; font-weight: regular;\">UN</span> <span style=\"color: black; font-weight: regular;\">population</span> <span style=\"color: black; font-weight: regular;\">fund</span> <span style=\"color: black; font-weight: regular;\">must</span> <span style=\"color: black; font-weight: regular;\">not</span> <span style=\"color: black; font-weight: regular;\">be</span> <span style=\"color: black; font-weight: regular;\">used</span> <span style=\"color: black; font-weight: regular;\">in</span> <span style=\"color: black; font-weight: regular;\">China</span> <span style=\"color: black; font-weight: regular;\">.</span>"
      ],
      "text/plain": [
       "<IPython.core.display.HTML object>"
      ]
     },
     "metadata": {},
     "output_type": "display_data"
    },
    {
     "name": "stdout",
     "output_type": "stream",
     "text": [
      "---\n"
     ]
    },
    {
     "data": {
      "text/html": [
       "<span style=\"color: black; font-weight: regular;\">H.D</span> <span style=\"color: black; font-weight: regular;\">.</span> <span style=\"color: black; font-weight: regular;\">Yeh</span> <span style=\"color: black; font-weight: regular;\">points</span> <span style=\"color: black; font-weight: regular;\">out</span> <span style=\"color: black; font-weight: regular;\">that</span> <span style=\"color: black; font-weight: regular;\">competition</span> <span style=\"color: black; font-weight: regular;\">in</span> <span style=\"color: black; font-weight: regular;\">the</span> <span style=\"color: black; font-weight: regular;\">21st</span> <span style=\"color: black; font-weight: regular;\">century</span> <span style=\"color: black; font-weight: regular;\">is</span> <span style=\"color: black; font-weight: regular;\">all</span> <span style=\"color: black; font-weight: regular;\">about</span> <span style=\"color: black; font-weight: regular;\">speed</span> <span style=\"color: black; font-weight: regular;\">.</span> <span style=\"color: black; font-weight: regular;\">When</span> <span style=\"color: black; font-weight: regular;\">customers</span> <span style=\"color: black; font-weight: regular;\">in</span> <span style=\"color: black; font-weight: regular;\">America</span> <span style=\"color: black; font-weight: regular;\">make</span> <span style=\"color: black; font-weight: regular;\">purchase</span> <span style=\"color: black; font-weight: regular;\">orders</span> <span style=\"color: black; font-weight: regular;\">,</span> <span style=\"color: black; font-weight: regular;\">the</span> <span style=\"color: black; font-weight: regular;\">whole</span> <span style=\"color: black; font-weight: regular;\">process</span> <span style=\"color: black; font-weight: regular;\">,</span> <span style=\"color: black; font-weight: regular;\">including</span> <span style=\"color: black; font-weight: regular;\">drawing</span> <span style=\"color: black; font-weight: regular;\">up</span> <span style=\"color: black; font-weight: regular;\">the</span> <span style=\"color: black; font-weight: regular;\">contract</span> <span style=\"color: black; font-weight: regular;\">and</span> <span style=\"color: black; font-weight: regular;\">manufacturing</span> <span style=\"color: black; font-weight: regular;\">the</span> <span style=\"color: black; font-weight: regular;\">goods</span> <span style=\"color: black; font-weight: regular;\">,</span> <span style=\"color: black; font-weight: regular;\">requires</span> <span style=\"color: black; font-weight: regular;\">four</span> <span style=\"color: black; font-weight: regular;\">months</span> <span style=\"color: black; font-weight: regular;\">.</span>"
      ],
      "text/plain": [
       "<IPython.core.display.HTML object>"
      ]
     },
     "metadata": {},
     "output_type": "display_data"
    },
    {
     "data": {
      "text/html": [
       "<span style=\"color: black; font-weight: regular;\">When</span> <span style=\"color: black; font-weight: regular;\">customers</span> <span style=\"color: black; font-weight: regular;\">in</span> <span style=\"color: black; font-weight: regular;\">America</span> <span style=\"color: black; font-weight: regular;\">make</span> <span style=\"color: black; font-weight: regular;\">purchase</span> <span style=\"color: black; font-weight: regular;\">orders</span> <span style=\"color: black; font-weight: regular;\">,</span> <span style=\"color: black; font-weight: regular;\">the</span> <span style=\"color: black; font-weight: regular;\">whole</span> <span style=\"color: black; font-weight: regular;\">process</span> <span style=\"color: black; font-weight: regular;\">,</span> <span style=\"color: black; font-weight: regular;\">including</span> <span style=\"color: black; font-weight: regular;\">drawing</span> <span style=\"color: black; font-weight: regular;\">up</span> <span style=\"color: black; font-weight: regular;\">the</span> <span style=\"color: black; font-weight: regular;\">contract</span> <span style=\"color: black; font-weight: regular;\">and</span> <span style=\"color: black; font-weight: regular;\">manufacturing</span> <span style=\"color: black; font-weight: regular;\">the</span> <span style=\"color: black; font-weight: regular;\">goods</span> <span style=\"color: black; font-weight: regular;\">,</span> <span style=\"color: black; font-weight: regular;\">requires</span> <span style=\"color: black; font-weight: regular;\">four</span> <span style=\"color: black; font-weight: regular;\">months</span> <span style=\"color: black; font-weight: regular;\">.</span> <span style=\"color: black; font-weight: regular;\">H.D</span> <span style=\"color: black; font-weight: regular;\">.</span> <span style=\"color: black; font-weight: regular;\">Yeh</span> <span style=\"color: black; font-weight: regular;\">points</span> <span style=\"color: black; font-weight: regular;\">out</span> <span style=\"color: black; font-weight: regular;\">that</span> <span style=\"color: black; font-weight: regular;\">competition</span> <span style=\"color: black; font-weight: regular;\">in</span> <span style=\"color: black; font-weight: regular;\">the</span> <span style=\"color: black; font-weight: regular;\">21st</span> <span style=\"color: black; font-weight: regular;\">century</span> <span style=\"color: black; font-weight: regular;\">is</span> <span style=\"color: black; font-weight: regular;\">all</span> <span style=\"color: black; font-weight: regular;\">about</span> <span style=\"color: black; font-weight: regular;\">speed</span> <span style=\"color: black; font-weight: regular;\">.</span>"
      ],
      "text/plain": [
       "<IPython.core.display.HTML object>"
      ]
     },
     "metadata": {},
     "output_type": "display_data"
    },
    {
     "name": "stdout",
     "output_type": "stream",
     "text": [
      "---\n"
     ]
    },
    {
     "data": {
      "text/html": [
       "<span style=\"color: black; font-weight: regular;\">And</span> <span style=\"color: black; font-weight: regular;\">how</span> <span style=\"color: black; font-weight: regular;\">do</span> <span style=\"color: black; font-weight: regular;\">they</span> <span style=\"color: black; font-weight: regular;\">see</span> <span style=\"color: black; font-weight: regular;\">the</span> <span style=\"color: black; font-weight: regular;\">future</span> <span style=\"color: black; font-weight: regular;\">?</span> <span style=\"color: black; font-weight: regular;\">``</span> <span style=\"color: black; font-weight: regular;\">You</span> <span style=\"color: black; font-weight: regular;\">want</span> <span style=\"color: black; font-weight: regular;\">to</span> <span style=\"color: black; font-weight: regular;\">know</span> <span style=\"color: black; font-weight: regular;\">how</span> <span style=\"color: black; font-weight: regular;\">Tanshui</span> <span style=\"color: black; font-weight: regular;\">has</span> <span style=\"color: black; font-weight: regular;\">changed</span> <span style=\"color: black; font-weight: regular;\">?</span>"
      ],
      "text/plain": [
       "<IPython.core.display.HTML object>"
      ]
     },
     "metadata": {},
     "output_type": "display_data"
    },
    {
     "data": {
      "text/html": [
       "<span style=\"color: black; font-weight: regular;\">``</span> <span style=\"color: black; font-weight: regular;\">You</span> <span style=\"color: black; font-weight: regular;\">want</span> <span style=\"color: black; font-weight: regular;\">to</span> <span style=\"color: black; font-weight: regular;\">know</span> <span style=\"color: black; font-weight: regular;\">how</span> <span style=\"color: black; font-weight: regular;\">Tanshui</span> <span style=\"color: black; font-weight: regular;\">has</span> <span style=\"color: black; font-weight: regular;\">changed</span> <span style=\"color: black; font-weight: regular;\">?</span> <span style=\"color: black; font-weight: regular;\">And</span> <span style=\"color: black; font-weight: regular;\">how</span> <span style=\"color: black; font-weight: regular;\">do</span> <span style=\"color: black; font-weight: regular;\">they</span> <span style=\"color: black; font-weight: regular;\">see</span> <span style=\"color: black; font-weight: regular;\">the</span> <span style=\"color: black; font-weight: regular;\">future</span> <span style=\"color: black; font-weight: regular;\">?</span>"
      ],
      "text/plain": [
       "<IPython.core.display.HTML object>"
      ]
     },
     "metadata": {},
     "output_type": "display_data"
    },
    {
     "name": "stdout",
     "output_type": "stream",
     "text": [
      "---\n"
     ]
    },
    {
     "data": {
      "text/html": [
       "<span style=\"color: black; font-weight: regular;\">And</span> <span style=\"color: blue; font-weight: bold;\">they</span> <span style=\"color: black; font-weight: regular;\">'re</span> <span style=\"color: black; font-weight: regular;\">doing</span> <span style=\"color: black; font-weight: regular;\">great</span> <span style=\"color: black; font-weight: regular;\">.</span> <span style=\"color: black; font-weight: regular;\">%</span> <span style=\"color: black; font-weight: regular;\">um</span> <span style=\"color: black; font-weight: regular;\">,</span> <span style=\"color: blue; font-weight: bold;\">they</span> <span style=\"color: black; font-weight: regular;\">had</span> <span style=\"color: black; font-weight: regular;\">just</span> <span style=\"color: black; font-weight: regular;\">moved</span> <span style=\"color: black; font-weight: regular;\">to</span> <span style=\"color: black; font-weight: regular;\">He</span> <span style=\"color: black; font-weight: regular;\">'s</span> <span style=\"color: black; font-weight: regular;\">in</span> <span style=\"color: black; font-weight: regular;\">New</span> <span style=\"color: black; font-weight: regular;\">York</span> <span style=\"color: black; font-weight: regular;\">now</span> <span style=\"color: black; font-weight: regular;\">,</span> <span style=\"color: black; font-weight: regular;\">right</span> <span style=\"color: black; font-weight: regular;\">?</span> <span style=\"color: black; font-weight: regular;\">a</span> <span style=\"color: black; font-weight: regular;\">really</span> <span style=\"color: black; font-weight: regular;\">nice</span> <span style=\"color: black; font-weight: regular;\">house</span> <span style=\"color: black; font-weight: regular;\">in</span> <span style=\"color: black; font-weight: regular;\">Westchester</span> <span style=\"color: black; font-weight: regular;\">.</span>"
      ],
      "text/plain": [
       "<IPython.core.display.HTML object>"
      ]
     },
     "metadata": {},
     "output_type": "display_data"
    },
    {
     "data": {
      "text/html": [
       "<span style=\"color: black; font-weight: regular;\">%</span> <span style=\"color: black; font-weight: regular;\">um</span> <span style=\"color: black; font-weight: regular;\">,</span> <span style=\"color: blue; font-weight: bold;\">they</span> <span style=\"color: black; font-weight: regular;\">had</span> <span style=\"color: black; font-weight: regular;\">just</span> <span style=\"color: black; font-weight: regular;\">moved</span> <span style=\"color: black; font-weight: regular;\">to</span> <span style=\"color: black; font-weight: regular;\">He</span> <span style=\"color: black; font-weight: regular;\">'s</span> <span style=\"color: black; font-weight: regular;\">in</span> <span style=\"color: black; font-weight: regular;\">New</span> <span style=\"color: black; font-weight: regular;\">York</span> <span style=\"color: black; font-weight: regular;\">now</span> <span style=\"color: black; font-weight: regular;\">,</span> <span style=\"color: black; font-weight: regular;\">right</span> <span style=\"color: black; font-weight: regular;\">?</span> <span style=\"color: black; font-weight: regular;\">a</span> <span style=\"color: black; font-weight: regular;\">really</span> <span style=\"color: black; font-weight: regular;\">nice</span> <span style=\"color: black; font-weight: regular;\">house</span> <span style=\"color: black; font-weight: regular;\">in</span> <span style=\"color: black; font-weight: regular;\">Westchester</span> <span style=\"color: black; font-weight: regular;\">.</span> <span style=\"color: black; font-weight: regular;\">And</span> <span style=\"color: blue; font-weight: bold;\">they</span> <span style=\"color: black; font-weight: regular;\">'re</span> <span style=\"color: black; font-weight: regular;\">doing</span> <span style=\"color: black; font-weight: regular;\">great</span> <span style=\"color: black; font-weight: regular;\">.</span>"
      ],
      "text/plain": [
       "<IPython.core.display.HTML object>"
      ]
     },
     "metadata": {},
     "output_type": "display_data"
    },
    {
     "name": "stdout",
     "output_type": "stream",
     "text": [
      "---\n"
     ]
    },
    {
     "data": {
      "text/html": [
       "<span style=\"color: black; font-weight: regular;\">Thus</span> <span style=\"color: black; font-weight: regular;\">it</span> <span style=\"color: black; font-weight: regular;\">is</span> <span style=\"color: black; font-weight: regular;\">hoped</span> <span style=\"color: black; font-weight: regular;\">that</span> <span style=\"color: black; font-weight: regular;\">research</span> <span style=\"color: black; font-weight: regular;\">into</span> <span style=\"color: black; font-weight: regular;\">human</span> <span style=\"color: black; font-weight: regular;\">adipocytes</span> <span style=\"color: black; font-weight: regular;\">can</span> <span style=\"color: black; font-weight: regular;\">help</span> <span style=\"color: black; font-weight: regular;\">in</span> <span style=\"color: black; font-weight: regular;\">the</span> <span style=\"color: black; font-weight: regular;\">search</span> <span style=\"color: black; font-weight: regular;\">for</span> <span style=\"color: black; font-weight: regular;\">drugs</span> <span style=\"color: black; font-weight: regular;\">and</span> <span style=\"color: black; font-weight: regular;\">other</span> <span style=\"color: black; font-weight: regular;\">therapies</span> <span style=\"color: black; font-weight: regular;\">to</span> <span style=\"color: black; font-weight: regular;\">treat</span> <span style=\"color: black; font-weight: regular;\">these</span> <span style=\"color: black; font-weight: regular;\">disorders</span> <span style=\"color: black; font-weight: regular;\">.</span> <span style=\"color: black; font-weight: regular;\">Apart</span> <span style=\"color: black; font-weight: regular;\">from</span> <span style=\"color: black; font-weight: regular;\">this</span> <span style=\"color: black; font-weight: regular;\">,</span> <span style=\"color: black; font-weight: regular;\">U</span> <span style=\"color: black; font-weight: regular;\">-</span> <span style=\"color: black; font-weight: regular;\">Vision</span> <span style=\"color: black; font-weight: regular;\">is</span> <span style=\"color: black; font-weight: regular;\">also</span> <span style=\"color: black; font-weight: regular;\">conducting</span> <span style=\"color: black; font-weight: regular;\">a</span> <span style=\"color: black; font-weight: regular;\">one</span> <span style=\"color: black; font-weight: regular;\">-</span> <span style=\"color: black; font-weight: regular;\">year</span> <span style=\"color: black; font-weight: regular;\">bacterial</span> <span style=\"color: black; font-weight: regular;\">genome</span> <span style=\"color: black; font-weight: regular;\">project</span> <span style=\"color: black; font-weight: regular;\">,</span> <span style=\"color: black; font-weight: regular;\">which</span> <span style=\"color: black; font-weight: regular;\">aims</span> <span style=\"color: black; font-weight: regular;\">to</span> <span style=\"color: black; font-weight: regular;\">map</span> <span style=\"color: black; font-weight: regular;\">the</span> <span style=\"color: black; font-weight: regular;\">genome</span> <span style=\"color: black; font-weight: regular;\">of</span> <span style=\"color: black; font-weight: regular;\">a</span> <span style=\"color: black; font-weight: regular;\">certain</span> <span style=\"color: black; font-weight: regular;\">drug</span> <span style=\"color: black; font-weight: regular;\">-</span> <span style=\"color: black; font-weight: regular;\">resistant</span> <span style=\"color: black; font-weight: regular;\">bacterium</span> <span style=\"color: black; font-weight: regular;\">as</span> <span style=\"color: black; font-weight: regular;\">a</span> <span style=\"color: black; font-weight: regular;\">basis</span> <span style=\"color: black; font-weight: regular;\">for</span> <span style=\"color: black; font-weight: regular;\">developing</span> <span style=\"color: black; font-weight: regular;\">new</span> <span style=\"color: black; font-weight: regular;\">vaccines</span> <span style=\"color: black; font-weight: regular;\">and</span> <span style=\"color: black; font-weight: regular;\">drugs</span> <span style=\"color: black; font-weight: regular;\">.</span>"
      ],
      "text/plain": [
       "<IPython.core.display.HTML object>"
      ]
     },
     "metadata": {},
     "output_type": "display_data"
    },
    {
     "data": {
      "text/html": [
       "<span style=\"color: black; font-weight: regular;\">Apart</span> <span style=\"color: black; font-weight: regular;\">from</span> <span style=\"color: black; font-weight: regular;\">this</span> <span style=\"color: black; font-weight: regular;\">,</span> <span style=\"color: black; font-weight: regular;\">U</span> <span style=\"color: black; font-weight: regular;\">-</span> <span style=\"color: black; font-weight: regular;\">Vision</span> <span style=\"color: black; font-weight: regular;\">is</span> <span style=\"color: black; font-weight: regular;\">also</span> <span style=\"color: black; font-weight: regular;\">conducting</span> <span style=\"color: black; font-weight: regular;\">a</span> <span style=\"color: black; font-weight: regular;\">one</span> <span style=\"color: black; font-weight: regular;\">-</span> <span style=\"color: black; font-weight: regular;\">year</span> <span style=\"color: black; font-weight: regular;\">bacterial</span> <span style=\"color: black; font-weight: regular;\">genome</span> <span style=\"color: black; font-weight: regular;\">project</span> <span style=\"color: black; font-weight: regular;\">,</span> <span style=\"color: black; font-weight: regular;\">which</span> <span style=\"color: black; font-weight: regular;\">aims</span> <span style=\"color: black; font-weight: regular;\">to</span> <span style=\"color: black; font-weight: regular;\">map</span> <span style=\"color: black; font-weight: regular;\">the</span> <span style=\"color: black; font-weight: regular;\">genome</span> <span style=\"color: black; font-weight: regular;\">of</span> <span style=\"color: black; font-weight: regular;\">a</span> <span style=\"color: black; font-weight: regular;\">certain</span> <span style=\"color: black; font-weight: regular;\">drug</span> <span style=\"color: black; font-weight: regular;\">-</span> <span style=\"color: black; font-weight: regular;\">resistant</span> <span style=\"color: black; font-weight: regular;\">bacterium</span> <span style=\"color: black; font-weight: regular;\">as</span> <span style=\"color: black; font-weight: regular;\">a</span> <span style=\"color: black; font-weight: regular;\">basis</span> <span style=\"color: black; font-weight: regular;\">for</span> <span style=\"color: black; font-weight: regular;\">developing</span> <span style=\"color: black; font-weight: regular;\">new</span> <span style=\"color: black; font-weight: regular;\">vaccines</span> <span style=\"color: black; font-weight: regular;\">and</span> <span style=\"color: black; font-weight: regular;\">drugs</span> <span style=\"color: black; font-weight: regular;\">.</span> <span style=\"color: black; font-weight: regular;\">Thus</span> <span style=\"color: black; font-weight: regular;\">it</span> <span style=\"color: black; font-weight: regular;\">is</span> <span style=\"color: black; font-weight: regular;\">hoped</span> <span style=\"color: black; font-weight: regular;\">that</span> <span style=\"color: black; font-weight: regular;\">research</span> <span style=\"color: black; font-weight: regular;\">into</span> <span style=\"color: black; font-weight: regular;\">human</span> <span style=\"color: black; font-weight: regular;\">adipocytes</span> <span style=\"color: black; font-weight: regular;\">can</span> <span style=\"color: black; font-weight: regular;\">help</span> <span style=\"color: black; font-weight: regular;\">in</span> <span style=\"color: black; font-weight: regular;\">the</span> <span style=\"color: black; font-weight: regular;\">search</span> <span style=\"color: black; font-weight: regular;\">for</span> <span style=\"color: black; font-weight: regular;\">drugs</span> <span style=\"color: black; font-weight: regular;\">and</span> <span style=\"color: black; font-weight: regular;\">other</span> <span style=\"color: black; font-weight: regular;\">therapies</span> <span style=\"color: black; font-weight: regular;\">to</span> <span style=\"color: black; font-weight: regular;\">treat</span> <span style=\"color: black; font-weight: regular;\">these</span> <span style=\"color: black; font-weight: regular;\">disorders</span> <span style=\"color: black; font-weight: regular;\">.</span>"
      ],
      "text/plain": [
       "<IPython.core.display.HTML object>"
      ]
     },
     "metadata": {},
     "output_type": "display_data"
    },
    {
     "name": "stdout",
     "output_type": "stream",
     "text": [
      "---\n"
     ]
    },
    {
     "data": {
      "text/html": [
       "<span style=\"color: black; font-weight: regular;\">and</span> <span style=\"color: black; font-weight: regular;\">so</span> <span style=\"color: black; font-weight: regular;\">Neil</span> <span style=\"color: black; font-weight: regular;\">then</span> <span style=\"color: black; font-weight: regular;\">--</span> <span style=\"color: black; font-weight: regular;\">Said</span> <span style=\"color: black; font-weight: regular;\">oh</span> <span style=\"color: black; font-weight: regular;\">just</span> <span style=\"color: black; font-weight: regular;\">a</span> <span style=\"color: black; font-weight: regular;\">second</span> <span style=\"color: black; font-weight: regular;\">I</span> <span style=\"color: black; font-weight: regular;\">--</span> <span style=\"color: black; font-weight: regular;\">like</span> <span style=\"color: black; font-weight: regular;\">a</span> <span style=\"color: black; font-weight: regular;\">week</span> <span style=\"color: black; font-weight: regular;\">later</span> <span style=\"color: black; font-weight: regular;\">came</span> <span style=\"color: black; font-weight: regular;\">to</span> <span style=\"color: black; font-weight: regular;\">Bryn</span> <span style=\"color: blue; font-weight: bold;\">Mawr</span> <span style=\"color: black; font-weight: regular;\">and</span> <span style=\"color: blue; font-weight: bold;\">he</span> <span style=\"color: black; font-weight: regular;\">said</span> <span style=\"color: black; font-weight: regular;\">,</span> <span style=\"color: black; font-weight: regular;\">hey</span> <span style=\"color: black; font-weight: regular;\">Lowell</span> <span style=\"color: black; font-weight: regular;\">,</span> <span style=\"color: black; font-weight: regular;\">we</span> <span style=\"color: black; font-weight: regular;\">got</span> <span style=\"color: black; font-weight: regular;\">to</span> <span style=\"color: black; font-weight: regular;\">write</span> <span style=\"color: black; font-weight: regular;\">this</span> <span style=\"color: black; font-weight: regular;\">up</span> <span style=\"color: black; font-weight: regular;\">.</span>"
      ],
      "text/plain": [
       "<IPython.core.display.HTML object>"
      ]
     },
     "metadata": {},
     "output_type": "display_data"
    },
    {
     "data": {
      "text/html": [
       "<span style=\"color: black; font-weight: regular;\">and</span> <span style=\"color: black; font-weight: regular;\">he</span> <span style=\"color: black; font-weight: regular;\">said</span> <span style=\"color: black; font-weight: regular;\">,</span> <span style=\"color: black; font-weight: regular;\">hey</span> <span style=\"color: black; font-weight: regular;\">Lowell</span> <span style=\"color: black; font-weight: regular;\">,</span> <span style=\"color: black; font-weight: regular;\">we</span> <span style=\"color: black; font-weight: regular;\">got</span> <span style=\"color: black; font-weight: regular;\">to</span> <span style=\"color: black; font-weight: regular;\">write</span> <span style=\"color: black; font-weight: regular;\">this</span> <span style=\"color: black; font-weight: regular;\">up</span> <span style=\"color: black; font-weight: regular;\">.</span> <span style=\"color: black; font-weight: regular;\">and</span> <span style=\"color: black; font-weight: regular;\">so</span> <span style=\"color: black; font-weight: regular;\">Neil</span> <span style=\"color: black; font-weight: regular;\">then</span> <span style=\"color: black; font-weight: regular;\">--</span> <span style=\"color: black; font-weight: regular;\">Said</span> <span style=\"color: black; font-weight: regular;\">oh</span> <span style=\"color: black; font-weight: regular;\">just</span> <span style=\"color: black; font-weight: regular;\">a</span> <span style=\"color: black; font-weight: regular;\">second</span> <span style=\"color: black; font-weight: regular;\">I</span> <span style=\"color: black; font-weight: regular;\">--</span> <span style=\"color: black; font-weight: regular;\">like</span> <span style=\"color: black; font-weight: regular;\">a</span> <span style=\"color: black; font-weight: regular;\">week</span> <span style=\"color: black; font-weight: regular;\">later</span> <span style=\"color: black; font-weight: regular;\">came</span> <span style=\"color: black; font-weight: regular;\">to</span> <span style=\"color: black; font-weight: regular;\">Bryn</span> <span style=\"color: black; font-weight: regular;\">Mawr</span>"
      ],
      "text/plain": [
       "<IPython.core.display.HTML object>"
      ]
     },
     "metadata": {},
     "output_type": "display_data"
    },
    {
     "name": "stdout",
     "output_type": "stream",
     "text": [
      "---\n"
     ]
    },
    {
     "data": {
      "text/html": [
       "<span style=\"color: blue; font-weight: bold;\">I</span> <span style=\"color: black; font-weight: regular;\">asked</span> <span style=\"color: black; font-weight: regular;\">your</span> <span style=\"color: black; font-weight: regular;\">followers</span> <span style=\"color: black; font-weight: regular;\">to</span> <span style=\"color: black; font-weight: regular;\">force</span> <span style=\"color: black; font-weight: regular;\">the</span> <span style=\"color: black; font-weight: regular;\">evil</span> <span style=\"color: black; font-weight: regular;\">spirit</span> <span style=\"color: black; font-weight: regular;\">out</span> <span style=\"color: black; font-weight: regular;\">,</span> <span style=\"color: black; font-weight: regular;\">but</span> <span style=\"color: black; font-weight: regular;\">they</span> <span style=\"color: black; font-weight: regular;\">could</span> <span style=\"color: black; font-weight: regular;\">not</span> <span style=\"color: black; font-weight: regular;\">.</span> <span style=\"color: black; font-weight: regular;\">''</span> <span style=\"color: blue; font-weight: bold;\">Jesus</span> <span style=\"color: black; font-weight: regular;\">answered</span> <span style=\"color: black; font-weight: regular;\">,</span> <span style=\"color: black; font-weight: regular;\">``</span> <span style=\"color: black; font-weight: regular;\">You</span> <span style=\"color: black; font-weight: regular;\">people</span> <span style=\"color: black; font-weight: regular;\">today</span> <span style=\"color: black; font-weight: regular;\">do</span> <span style=\"color: black; font-weight: regular;\">n't</span> <span style=\"color: black; font-weight: regular;\">believe</span> <span style=\"color: black; font-weight: regular;\">!</span>"
      ],
      "text/plain": [
       "<IPython.core.display.HTML object>"
      ]
     },
     "metadata": {},
     "output_type": "display_data"
    },
    {
     "data": {
      "text/html": [
       "<span style=\"color: blue; font-weight: bold;\">Jesus</span> <span style=\"color: black; font-weight: regular;\">answered</span> <span style=\"color: black; font-weight: regular;\">,</span> <span style=\"color: black; font-weight: regular;\">``</span> <span style=\"color: black; font-weight: regular;\">You</span> <span style=\"color: black; font-weight: regular;\">people</span> <span style=\"color: black; font-weight: regular;\">today</span> <span style=\"color: black; font-weight: regular;\">do</span> <span style=\"color: black; font-weight: regular;\">n't</span> <span style=\"color: black; font-weight: regular;\">believe</span> <span style=\"color: black; font-weight: regular;\">!</span> <span style=\"color: blue; font-weight: bold;\">I</span> <span style=\"color: black; font-weight: regular;\">asked</span> <span style=\"color: black; font-weight: regular;\">your</span> <span style=\"color: black; font-weight: regular;\">followers</span> <span style=\"color: black; font-weight: regular;\">to</span> <span style=\"color: black; font-weight: regular;\">force</span> <span style=\"color: black; font-weight: regular;\">the</span> <span style=\"color: black; font-weight: regular;\">evil</span> <span style=\"color: black; font-weight: regular;\">spirit</span> <span style=\"color: black; font-weight: regular;\">out</span> <span style=\"color: black; font-weight: regular;\">,</span> <span style=\"color: black; font-weight: regular;\">but</span> <span style=\"color: black; font-weight: regular;\">they</span> <span style=\"color: black; font-weight: regular;\">could</span> <span style=\"color: black; font-weight: regular;\">not</span> <span style=\"color: black; font-weight: regular;\">.</span> <span style=\"color: black; font-weight: regular;\">''</span>"
      ],
      "text/plain": [
       "<IPython.core.display.HTML object>"
      ]
     },
     "metadata": {},
     "output_type": "display_data"
    },
    {
     "name": "stdout",
     "output_type": "stream",
     "text": [
      "---\n"
     ]
    },
    {
     "data": {
      "text/html": [
       "<span style=\"color: black; font-weight: regular;\">He</span> <span style=\"color: black; font-weight: regular;\">said</span> <span style=\"color: black; font-weight: regular;\">that</span> <span style=\"color: black; font-weight: regular;\">no</span> <span style=\"color: black; font-weight: regular;\">one</span> <span style=\"color: black; font-weight: regular;\">feels</span> <span style=\"color: black; font-weight: regular;\">this</span> <span style=\"color: black; font-weight: regular;\">``</span> <span style=\"color: black; font-weight: regular;\">ferocious</span> <span style=\"color: black; font-weight: regular;\">and</span> <span style=\"color: black; font-weight: regular;\">inexcusable</span> <span style=\"color: black; font-weight: regular;\">``</span> <span style=\"color: black; font-weight: regular;\">bombing</span> <span style=\"color: black; font-weight: regular;\">is</span> <span style=\"color: black; font-weight: regular;\">just</span> <span style=\"color: black; font-weight: regular;\">.</span> <span style=\"color: black; font-weight: regular;\">In</span> <span style=\"color: black; font-weight: regular;\">Amman</span> <span style=\"color: black; font-weight: regular;\">,</span> <span style=\"color: black; font-weight: regular;\">capital</span> <span style=\"color: black; font-weight: regular;\">of</span> <span style=\"color: black; font-weight: regular;\">Jordan</span> <span style=\"color: black; font-weight: regular;\">,</span> <span style=\"color: black; font-weight: regular;\">thousands</span> <span style=\"color: black; font-weight: regular;\">of</span> <span style=\"color: black; font-weight: regular;\">angry</span> <span style=\"color: black; font-weight: regular;\">people</span> <span style=\"color: black; font-weight: regular;\">paraded</span> <span style=\"color: black; font-weight: regular;\">and</span> <span style=\"color: black; font-weight: regular;\">demonstrated</span> <span style=\"color: black; font-weight: regular;\">in</span> <span style=\"color: black; font-weight: regular;\">front</span> <span style=\"color: black; font-weight: regular;\">of</span> <span style=\"color: black; font-weight: regular;\">the</span> <span style=\"color: black; font-weight: regular;\">US</span> <span style=\"color: black; font-weight: regular;\">embassy</span> <span style=\"color: black; font-weight: regular;\">,</span> <span style=\"color: black; font-weight: regular;\">objecting</span> <span style=\"color: black; font-weight: regular;\">to</span> <span style=\"color: black; font-weight: regular;\">the</span> <span style=\"color: black; font-weight: regular;\">multi-national</span> <span style=\"color: black; font-weight: regular;\">forces</span> <span style=\"color: black; font-weight: regular;\">bombing</span> <span style=\"color: black; font-weight: regular;\">and</span> <span style=\"color: black; font-weight: regular;\">killing</span> <span style=\"color: black; font-weight: regular;\">innocent</span> <span style=\"color: black; font-weight: regular;\">civilians</span> <span style=\"color: black; font-weight: regular;\">in</span> <span style=\"color: black; font-weight: regular;\">Baghdad</span> <span style=\"color: black; font-weight: regular;\">.</span>"
      ],
      "text/plain": [
       "<IPython.core.display.HTML object>"
      ]
     },
     "metadata": {},
     "output_type": "display_data"
    },
    {
     "data": {
      "text/html": [
       "<span style=\"color: black; font-weight: regular;\">In</span> <span style=\"color: black; font-weight: regular;\">Amman</span> <span style=\"color: black; font-weight: regular;\">,</span> <span style=\"color: black; font-weight: regular;\">capital</span> <span style=\"color: black; font-weight: regular;\">of</span> <span style=\"color: black; font-weight: regular;\">Jordan</span> <span style=\"color: black; font-weight: regular;\">,</span> <span style=\"color: black; font-weight: regular;\">thousands</span> <span style=\"color: black; font-weight: regular;\">of</span> <span style=\"color: black; font-weight: regular;\">angry</span> <span style=\"color: black; font-weight: regular;\">people</span> <span style=\"color: black; font-weight: regular;\">paraded</span> <span style=\"color: black; font-weight: regular;\">and</span> <span style=\"color: black; font-weight: regular;\">demonstrated</span> <span style=\"color: black; font-weight: regular;\">in</span> <span style=\"color: black; font-weight: regular;\">front</span> <span style=\"color: black; font-weight: regular;\">of</span> <span style=\"color: black; font-weight: regular;\">the</span> <span style=\"color: black; font-weight: regular;\">US</span> <span style=\"color: black; font-weight: regular;\">embassy</span> <span style=\"color: black; font-weight: regular;\">,</span> <span style=\"color: blue; font-weight: bold;\">objecting</span> <span style=\"color: black; font-weight: regular;\">to</span> <span style=\"color: black; font-weight: regular;\">the</span> <span style=\"color: black; font-weight: regular;\">multi-national</span> <span style=\"color: black; font-weight: regular;\">forces</span> <span style=\"color: black; font-weight: regular;\">bombing</span> <span style=\"color: black; font-weight: regular;\">and</span> <span style=\"color: black; font-weight: regular;\">killing</span> <span style=\"color: black; font-weight: regular;\">innocent</span> <span style=\"color: black; font-weight: regular;\">civilians</span> <span style=\"color: black; font-weight: regular;\">in</span> <span style=\"color: black; font-weight: regular;\">Baghdad</span> <span style=\"color: black; font-weight: regular;\">.</span> <span style=\"color: blue; font-weight: bold;\">He</span> <span style=\"color: black; font-weight: regular;\">said</span> <span style=\"color: black; font-weight: regular;\">that</span> <span style=\"color: black; font-weight: regular;\">no</span> <span style=\"color: black; font-weight: regular;\">one</span> <span style=\"color: black; font-weight: regular;\">feels</span> <span style=\"color: black; font-weight: regular;\">this</span> <span style=\"color: black; font-weight: regular;\">``</span> <span style=\"color: black; font-weight: regular;\">ferocious</span> <span style=\"color: black; font-weight: regular;\">and</span> <span style=\"color: black; font-weight: regular;\">inexcusable</span> <span style=\"color: black; font-weight: regular;\">``</span> <span style=\"color: black; font-weight: regular;\">bombing</span> <span style=\"color: black; font-weight: regular;\">is</span> <span style=\"color: black; font-weight: regular;\">just</span> <span style=\"color: black; font-weight: regular;\">.</span>"
      ],
      "text/plain": [
       "<IPython.core.display.HTML object>"
      ]
     },
     "metadata": {},
     "output_type": "display_data"
    },
    {
     "name": "stdout",
     "output_type": "stream",
     "text": [
      "---\n"
     ]
    },
    {
     "data": {
      "text/html": [
       "<span style=\"color: black; font-weight: regular;\">yeah</span> <span style=\"color: black; font-weight: regular;\">.</span> <span style=\"color: black; font-weight: regular;\">%</span> <span style=\"color: black; font-weight: regular;\">uh</span> <span style=\"color: black; font-weight: regular;\">.</span>"
      ],
      "text/plain": [
       "<IPython.core.display.HTML object>"
      ]
     },
     "metadata": {},
     "output_type": "display_data"
    },
    {
     "data": {
      "text/html": [
       "<span style=\"color: black; font-weight: regular;\">%</span> <span style=\"color: black; font-weight: regular;\">uh</span> <span style=\"color: black; font-weight: regular;\">.</span> <span style=\"color: black; font-weight: regular;\">yeah</span> <span style=\"color: black; font-weight: regular;\">.</span>"
      ],
      "text/plain": [
       "<IPython.core.display.HTML object>"
      ]
     },
     "metadata": {},
     "output_type": "display_data"
    },
    {
     "name": "stdout",
     "output_type": "stream",
     "text": [
      "---\n"
     ]
    },
    {
     "data": {
      "text/html": [
       "<span style=\"color: black; font-weight: regular;\">The</span> <span style=\"color: black; font-weight: regular;\">speech</span> <span style=\"color: black; font-weight: regular;\">is</span> <span style=\"color: black; font-weight: regular;\">being</span> <span style=\"color: black; font-weight: regular;\">billed</span> <span style=\"color: black; font-weight: regular;\">as</span> <span style=\"color: black; font-weight: regular;\">a</span> <span style=\"color: black; font-weight: regular;\">thank</span> <span style=\"color: black; font-weight: regular;\">-</span> <span style=\"color: black; font-weight: regular;\">you</span> <span style=\"color: black; font-weight: regular;\">to</span> <span style=\"color: black; font-weight: regular;\">the</span> <span style=\"color: black; font-weight: regular;\">people</span> <span style=\"color: black; font-weight: regular;\">who</span> <span style=\"color: black; font-weight: regular;\">twice</span> <span style=\"color: black; font-weight: regular;\">voted</span> <span style=\"color: blue; font-weight: bold;\">him</span> <span style=\"color: black; font-weight: regular;\">into</span> <span style=\"color: black; font-weight: regular;\">the</span> <span style=\"color: black; font-weight: regular;\">White</span> <span style=\"color: black; font-weight: regular;\">House</span> <span style=\"color: black; font-weight: regular;\">and</span> <span style=\"color: black; font-weight: regular;\">supported</span> <span style=\"color: blue; font-weight: bold;\">him</span> <span style=\"color: black; font-weight: regular;\">even</span> <span style=\"color: black; font-weight: regular;\">at</span> <span style=\"color: blue; font-weight: bold;\">his</span> <span style=\"color: black; font-weight: regular;\">lowest</span> <span style=\"color: black; font-weight: regular;\">moments</span> <span style=\"color: black; font-weight: regular;\">.</span> <span style=\"color: black; font-weight: regular;\">Yesterday</span> <span style=\"color: black; font-weight: regular;\">,</span> <span style=\"color: blue; font-weight: bold;\">Mr.</span> <span style=\"color: blue; font-weight: bold;\">Clinton</span> <span style=\"color: black; font-weight: regular;\">spoke</span> <span style=\"color: black; font-weight: regular;\">to</span> <span style=\"color: black; font-weight: regular;\">supporters</span> <span style=\"color: black; font-weight: regular;\">in</span> <span style=\"color: blue; font-weight: bold;\">his</span> <span style=\"color: black; font-weight: regular;\">home</span> <span style=\"color: black; font-weight: regular;\">state</span> <span style=\"color: black; font-weight: regular;\">of</span> <span style=\"color: black; font-weight: regular;\">Arkansas</span> <span style=\"color: black; font-weight: regular;\">.</span>"
      ],
      "text/plain": [
       "<IPython.core.display.HTML object>"
      ]
     },
     "metadata": {},
     "output_type": "display_data"
    },
    {
     "data": {
      "text/html": [
       "<span style=\"color: black; font-weight: regular;\">Yesterday</span> <span style=\"color: black; font-weight: regular;\">,</span> <span style=\"color: blue; font-weight: bold;\">Mr.</span> <span style=\"color: blue; font-weight: bold;\">Clinton</span> <span style=\"color: black; font-weight: regular;\">spoke</span> <span style=\"color: black; font-weight: regular;\">to</span> <span style=\"color: black; font-weight: regular;\">supporters</span> <span style=\"color: black; font-weight: regular;\">in</span> <span style=\"color: blue; font-weight: bold;\">his</span> <span style=\"color: black; font-weight: regular;\">home</span> <span style=\"color: black; font-weight: regular;\">state</span> <span style=\"color: black; font-weight: regular;\">of</span> <span style=\"color: black; font-weight: regular;\">Arkansas</span> <span style=\"color: black; font-weight: regular;\">.</span> <span style=\"color: black; font-weight: regular;\">The</span> <span style=\"color: black; font-weight: regular;\">speech</span> <span style=\"color: black; font-weight: regular;\">is</span> <span style=\"color: black; font-weight: regular;\">being</span> <span style=\"color: black; font-weight: regular;\">billed</span> <span style=\"color: black; font-weight: regular;\">as</span> <span style=\"color: black; font-weight: regular;\">a</span> <span style=\"color: black; font-weight: regular;\">thank</span> <span style=\"color: black; font-weight: regular;\">-</span> <span style=\"color: black; font-weight: regular;\">you</span> <span style=\"color: black; font-weight: regular;\">to</span> <span style=\"color: black; font-weight: regular;\">the</span> <span style=\"color: black; font-weight: regular;\">people</span> <span style=\"color: black; font-weight: regular;\">who</span> <span style=\"color: black; font-weight: regular;\">twice</span> <span style=\"color: black; font-weight: regular;\">voted</span> <span style=\"color: blue; font-weight: bold;\">him</span> <span style=\"color: black; font-weight: regular;\">into</span> <span style=\"color: black; font-weight: regular;\">the</span> <span style=\"color: black; font-weight: regular;\">White</span> <span style=\"color: black; font-weight: regular;\">House</span> <span style=\"color: black; font-weight: regular;\">and</span> <span style=\"color: black; font-weight: regular;\">supported</span> <span style=\"color: blue; font-weight: bold;\">him</span> <span style=\"color: black; font-weight: regular;\">even</span> <span style=\"color: black; font-weight: regular;\">at</span> <span style=\"color: blue; font-weight: bold;\">his</span> <span style=\"color: black; font-weight: regular;\">lowest</span> <span style=\"color: black; font-weight: regular;\">moments</span> <span style=\"color: black; font-weight: regular;\">.</span>"
      ],
      "text/plain": [
       "<IPython.core.display.HTML object>"
      ]
     },
     "metadata": {},
     "output_type": "display_data"
    },
    {
     "name": "stdout",
     "output_type": "stream",
     "text": [
      "---\n"
     ]
    },
    {
     "data": {
      "text/html": [
       "<span style=\"color: black; font-weight: regular;\">And</span> <span style=\"color: black; font-weight: regular;\">as</span> <span style=\"color: black; font-weight: regular;\">a</span> <span style=\"color: black; font-weight: regular;\">reporter</span> <span style=\"color: black; font-weight: regular;\">as</span> <span style=\"color: black; font-weight: regular;\">a</span> <span style=\"color: black; font-weight: regular;\">columnist</span> <span style=\"color: black; font-weight: regular;\">who</span> <span style=\"color: black; font-weight: regular;\">really</span> <span style=\"color: black; font-weight: regular;\">cares</span> <span style=\"color: black; font-weight: regular;\">about</span> <span style=\"color: black; font-weight: regular;\">this</span> <span style=\"color: black; font-weight: regular;\">story</span> <span style=\"color: blue; font-weight: bold;\">I</span> <span style=\"color: black; font-weight: regular;\">find</span> <span style=\"color: black; font-weight: regular;\">that</span> <span style=\"color: black; font-weight: regular;\">really</span> <span style=\"color: black; font-weight: regular;\">frustra-</span> <span style=\"color: black; font-weight: regular;\">/-</span> <span style=\"color: blue; font-weight: bold;\">I</span> <span style=\"color: black; font-weight: regular;\">can</span> <span style=\"color: black; font-weight: regular;\">not</span> <span style=\"color: black; font-weight: regular;\">report</span> <span style=\"color: black; font-weight: regular;\">it</span> <span style=\"color: black; font-weight: regular;\">the</span> <span style=\"color: black; font-weight: regular;\">way</span> <span style=\"color: blue; font-weight: bold;\">I</span> <span style=\"color: black; font-weight: regular;\">'d</span> <span style=\"color: black; font-weight: regular;\">love</span> <span style=\"color: black; font-weight: regular;\">to</span> <span style=\"color: black; font-weight: regular;\">/</span> <span style=\"color: black; font-weight: regular;\">.</span>"
      ],
      "text/plain": [
       "<IPython.core.display.HTML object>"
      ]
     },
     "metadata": {},
     "output_type": "display_data"
    },
    {
     "data": {
      "text/html": [
       "<span style=\"color: blue; font-weight: bold;\">I</span> <span style=\"color: black; font-weight: regular;\">can</span> <span style=\"color: black; font-weight: regular;\">not</span> <span style=\"color: black; font-weight: regular;\">report</span> <span style=\"color: black; font-weight: regular;\">it</span> <span style=\"color: black; font-weight: regular;\">the</span> <span style=\"color: black; font-weight: regular;\">way</span> <span style=\"color: blue; font-weight: bold;\">I</span> <span style=\"color: black; font-weight: regular;\">'d</span> <span style=\"color: black; font-weight: regular;\">love</span> <span style=\"color: black; font-weight: regular;\">to</span> <span style=\"color: black; font-weight: regular;\">/</span> <span style=\"color: black; font-weight: regular;\">.</span> <span style=\"color: black; font-weight: regular;\">And</span> <span style=\"color: black; font-weight: regular;\">as</span> <span style=\"color: black; font-weight: regular;\">a</span> <span style=\"color: black; font-weight: regular;\">reporter</span> <span style=\"color: black; font-weight: regular;\">as</span> <span style=\"color: black; font-weight: regular;\">a</span> <span style=\"color: black; font-weight: regular;\">columnist</span> <span style=\"color: black; font-weight: regular;\">who</span> <span style=\"color: black; font-weight: regular;\">really</span> <span style=\"color: black; font-weight: regular;\">cares</span> <span style=\"color: black; font-weight: regular;\">about</span> <span style=\"color: black; font-weight: regular;\">this</span> <span style=\"color: black; font-weight: regular;\">story</span> <span style=\"color: blue; font-weight: bold;\">I</span> <span style=\"color: black; font-weight: regular;\">find</span> <span style=\"color: black; font-weight: regular;\">that</span> <span style=\"color: black; font-weight: regular;\">really</span> <span style=\"color: black; font-weight: regular;\">frustra-</span> <span style=\"color: black; font-weight: regular;\">/-</span>"
      ],
      "text/plain": [
       "<IPython.core.display.HTML object>"
      ]
     },
     "metadata": {},
     "output_type": "display_data"
    },
    {
     "name": "stdout",
     "output_type": "stream",
     "text": [
      "---\n"
     ]
    },
    {
     "data": {
      "text/html": [
       "<span style=\"color: black; font-weight: regular;\">Microfluidics</span> <span style=\"color: black; font-weight: regular;\">chips</span> <span style=\"color: black; font-weight: regular;\">bring</span> <span style=\"color: black; font-weight: regular;\">together</span> <span style=\"color: black; font-weight: regular;\">biotechnology</span> <span style=\"color: black; font-weight: regular;\">,</span> <span style=\"color: black; font-weight: regular;\">microelectronics</span> <span style=\"color: black; font-weight: regular;\">,</span> <span style=\"color: black; font-weight: regular;\">micromachining</span> <span style=\"color: black; font-weight: regular;\">and</span> <span style=\"color: black; font-weight: regular;\">other</span> <span style=\"color: black; font-weight: regular;\">technologies</span> <span style=\"color: black; font-weight: regular;\">to</span> <span style=\"color: black; font-weight: regular;\">integrate</span> <span style=\"color: black; font-weight: regular;\">the</span> <span style=\"color: black; font-weight: regular;\">functions</span> <span style=\"color: black; font-weight: regular;\">of</span> <span style=\"color: black; font-weight: regular;\">multiple</span> <span style=\"color: black; font-weight: regular;\">laboratory</span> <span style=\"color: black; font-weight: regular;\">instruments</span> <span style=\"color: black; font-weight: regular;\">onto</span> <span style=\"color: black; font-weight: regular;\">a</span> <span style=\"color: black; font-weight: regular;\">single</span> <span style=\"color: black; font-weight: regular;\">chip</span> <span style=\"color: black; font-weight: regular;\">in</span> <span style=\"color: black; font-weight: regular;\">miniaturized</span> <span style=\"color: black; font-weight: regular;\">form</span> <span style=\"color: black; font-weight: regular;\">.</span> <span style=\"color: black; font-weight: regular;\">Meanwhile</span> <span style=\"color: black; font-weight: regular;\">on</span> <span style=\"color: black; font-weight: regular;\">microarray</span> <span style=\"color: black; font-weight: regular;\">chips</span> <span style=\"color: black; font-weight: regular;\">,</span> <span style=\"color: black; font-weight: regular;\">biological</span> <span style=\"color: black; font-weight: regular;\">molecules</span> <span style=\"color: black; font-weight: regular;\">such</span> <span style=\"color: black; font-weight: regular;\">as</span> <span style=\"color: black; font-weight: regular;\">gene</span> <span style=\"color: black; font-weight: regular;\">segments</span> <span style=\"color: black; font-weight: regular;\">,</span> <span style=\"color: black; font-weight: regular;\">oligonucleotides</span> <span style=\"color: black; font-weight: regular;\">,</span> <span style=\"color: black; font-weight: regular;\">proteins</span> <span style=\"color: black; font-weight: regular;\">or</span> <span style=\"color: black; font-weight: regular;\">antibodies</span> <span style=\"color: black; font-weight: regular;\">are</span> <span style=\"color: black; font-weight: regular;\">bound</span> <span style=\"color: black; font-weight: regular;\">to</span> <span style=\"color: black; font-weight: regular;\">the</span> <span style=\"color: black; font-weight: regular;\">chip</span> <span style=\"color: black; font-weight: regular;\">surface</span> <span style=\"color: black; font-weight: regular;\">in</span> <span style=\"color: black; font-weight: regular;\">an</span> <span style=\"color: black; font-weight: regular;\">array</span> <span style=\"color: black; font-weight: regular;\">of</span> <span style=\"color: black; font-weight: regular;\">tiny</span> <span style=\"color: black; font-weight: regular;\">spots</span> <span style=\"color: black; font-weight: regular;\">,</span> <span style=\"color: black; font-weight: regular;\">and</span> <span style=\"color: black; font-weight: regular;\">a</span> <span style=\"color: black; font-weight: regular;\">single</span> <span style=\"color: black; font-weight: regular;\">chip</span> <span style=\"color: black; font-weight: regular;\">may</span> <span style=\"color: black; font-weight: regular;\">carry</span> <span style=\"color: black; font-weight: regular;\">many</span> <span style=\"color: black; font-weight: regular;\">tens</span> <span style=\"color: black; font-weight: regular;\">of</span> <span style=\"color: black; font-weight: regular;\">thousands</span> <span style=\"color: black; font-weight: regular;\">of</span> <span style=\"color: black; font-weight: regular;\">such</span> <span style=\"color: black; font-weight: regular;\">spots</span> <span style=\"color: black; font-weight: regular;\">.</span>"
      ],
      "text/plain": [
       "<IPython.core.display.HTML object>"
      ]
     },
     "metadata": {},
     "output_type": "display_data"
    },
    {
     "data": {
      "text/html": [
       "<span style=\"color: black; font-weight: regular;\">Meanwhile</span> <span style=\"color: black; font-weight: regular;\">on</span> <span style=\"color: black; font-weight: regular;\">microarray</span> <span style=\"color: black; font-weight: regular;\">chips</span> <span style=\"color: black; font-weight: regular;\">,</span> <span style=\"color: black; font-weight: regular;\">biological</span> <span style=\"color: black; font-weight: regular;\">molecules</span> <span style=\"color: black; font-weight: regular;\">such</span> <span style=\"color: black; font-weight: regular;\">as</span> <span style=\"color: black; font-weight: regular;\">gene</span> <span style=\"color: black; font-weight: regular;\">segments</span> <span style=\"color: black; font-weight: regular;\">,</span> <span style=\"color: black; font-weight: regular;\">oligonucleotides</span> <span style=\"color: black; font-weight: regular;\">,</span> <span style=\"color: black; font-weight: regular;\">proteins</span> <span style=\"color: black; font-weight: regular;\">or</span> <span style=\"color: black; font-weight: regular;\">antibodies</span> <span style=\"color: black; font-weight: regular;\">are</span> <span style=\"color: black; font-weight: regular;\">bound</span> <span style=\"color: black; font-weight: regular;\">to</span> <span style=\"color: black; font-weight: regular;\">the</span> <span style=\"color: black; font-weight: regular;\">chip</span> <span style=\"color: black; font-weight: regular;\">surface</span> <span style=\"color: black; font-weight: regular;\">in</span> <span style=\"color: black; font-weight: regular;\">an</span> <span style=\"color: black; font-weight: regular;\">array</span> <span style=\"color: black; font-weight: regular;\">of</span> <span style=\"color: black; font-weight: regular;\">tiny</span> <span style=\"color: black; font-weight: regular;\">spots</span> <span style=\"color: black; font-weight: regular;\">,</span> <span style=\"color: black; font-weight: regular;\">and</span> <span style=\"color: black; font-weight: regular;\">a</span> <span style=\"color: black; font-weight: regular;\">single</span> <span style=\"color: black; font-weight: regular;\">chip</span> <span style=\"color: black; font-weight: regular;\">may</span> <span style=\"color: black; font-weight: regular;\">carry</span> <span style=\"color: black; font-weight: regular;\">many</span> <span style=\"color: black; font-weight: regular;\">tens</span> <span style=\"color: black; font-weight: regular;\">of</span> <span style=\"color: black; font-weight: regular;\">thousands</span> <span style=\"color: black; font-weight: regular;\">of</span> <span style=\"color: black; font-weight: regular;\">such</span> <span style=\"color: black; font-weight: regular;\">spots</span> <span style=\"color: black; font-weight: regular;\">.</span> <span style=\"color: black; font-weight: regular;\">Microfluidics</span> <span style=\"color: black; font-weight: regular;\">chips</span> <span style=\"color: black; font-weight: regular;\">bring</span> <span style=\"color: black; font-weight: regular;\">together</span> <span style=\"color: black; font-weight: regular;\">biotechnology</span> <span style=\"color: black; font-weight: regular;\">,</span> <span style=\"color: black; font-weight: regular;\">microelectronics</span> <span style=\"color: black; font-weight: regular;\">,</span> <span style=\"color: black; font-weight: regular;\">micromachining</span> <span style=\"color: black; font-weight: regular;\">and</span> <span style=\"color: black; font-weight: regular;\">other</span> <span style=\"color: black; font-weight: regular;\">technologies</span> <span style=\"color: black; font-weight: regular;\">to</span> <span style=\"color: black; font-weight: regular;\">integrate</span> <span style=\"color: black; font-weight: regular;\">the</span> <span style=\"color: black; font-weight: regular;\">functions</span> <span style=\"color: black; font-weight: regular;\">of</span> <span style=\"color: black; font-weight: regular;\">multiple</span> <span style=\"color: black; font-weight: regular;\">laboratory</span> <span style=\"color: black; font-weight: regular;\">instruments</span> <span style=\"color: black; font-weight: regular;\">onto</span> <span style=\"color: black; font-weight: regular;\">a</span> <span style=\"color: black; font-weight: regular;\">single</span> <span style=\"color: black; font-weight: regular;\">chip</span> <span style=\"color: black; font-weight: regular;\">in</span> <span style=\"color: black; font-weight: regular;\">miniaturized</span> <span style=\"color: black; font-weight: regular;\">form</span> <span style=\"color: black; font-weight: regular;\">.</span>"
      ],
      "text/plain": [
       "<IPython.core.display.HTML object>"
      ]
     },
     "metadata": {},
     "output_type": "display_data"
    },
    {
     "name": "stdout",
     "output_type": "stream",
     "text": [
      "---\n"
     ]
    },
    {
     "data": {
      "text/html": [
       "<span style=\"color: blue; font-weight: bold;\">CBS</span> <span style=\"color: blue; font-weight: bold;\">Inc.</span> <span style=\"color: black; font-weight: regular;\">is</span> <span style=\"color: black; font-weight: regular;\">cutting</span> <span style=\"color: black; font-weight: regular;\">``</span> <span style=\"color: black; font-weight: regular;\">The</span> <span style=\"color: black; font-weight: regular;\">Pat</span> <span style=\"color: black; font-weight: regular;\">Sajak</span> <span style=\"color: black; font-weight: regular;\">Show</span> <span style=\"color: black; font-weight: regular;\">''</span> <span style=\"color: black; font-weight: regular;\">down</span> <span style=\"color: black; font-weight: regular;\">to</span> <span style=\"color: black; font-weight: regular;\">one</span> <span style=\"color: black; font-weight: regular;\">hour</span> <span style=\"color: black; font-weight: regular;\">from</span> <span style=\"color: blue; font-weight: bold;\">its</span> <span style=\"color: black; font-weight: regular;\">current</span> <span style=\"color: black; font-weight: regular;\">90</span> <span style=\"color: black; font-weight: regular;\">minutes</span> <span style=\"color: black; font-weight: regular;\">.</span> <span style=\"color: blue; font-weight: bold;\">CBS</span> <span style=\"color: black; font-weight: regular;\">insisted</span> <span style=\"color: black; font-weight: regular;\">the</span> <span style=\"color: black; font-weight: regular;\">move</span> <span style=\"color: black; font-weight: regular;\">was</span> <span style=\"color: black; font-weight: regular;\">n't</span> <span style=\"color: black; font-weight: regular;\">a</span> <span style=\"color: black; font-weight: regular;\">setback</span> <span style=\"color: black; font-weight: regular;\">for</span> <span style=\"color: black; font-weight: regular;\">the</span> <span style=\"color: black; font-weight: regular;\">program</span> <span style=\"color: black; font-weight: regular;\">,</span> <span style=\"color: black; font-weight: regular;\">which</span> <span style=\"color: black; font-weight: regular;\">is</span> <span style=\"color: blue; font-weight: bold;\">the</span> <span style=\"color: blue; font-weight: bold;\">network</span> <span style=\"color: blue; font-weight: bold;\">'s</span> <span style=\"color: black; font-weight: regular;\">first</span> <span style=\"color: black; font-weight: regular;\">entry</span> <span style=\"color: black; font-weight: regular;\">into</span> <span style=\"color: black; font-weight: regular;\">the</span> <span style=\"color: black; font-weight: regular;\">late</span> <span style=\"color: black; font-weight: regular;\">-</span> <span style=\"color: black; font-weight: regular;\">night</span> <span style=\"color: black; font-weight: regular;\">talk</span> <span style=\"color: black; font-weight: regular;\">show</span> <span style=\"color: black; font-weight: regular;\">format</span> <span style=\"color: black; font-weight: regular;\">since</span> <span style=\"color: black; font-weight: regular;\">1972</span> <span style=\"color: black; font-weight: regular;\">.</span>"
      ],
      "text/plain": [
       "<IPython.core.display.HTML object>"
      ]
     },
     "metadata": {},
     "output_type": "display_data"
    },
    {
     "data": {
      "text/html": [
       "<span style=\"color: blue; font-weight: bold;\">CBS</span> <span style=\"color: black; font-weight: regular;\">insisted</span> <span style=\"color: black; font-weight: regular;\">the</span> <span style=\"color: black; font-weight: regular;\">move</span> <span style=\"color: black; font-weight: regular;\">was</span> <span style=\"color: black; font-weight: regular;\">n't</span> <span style=\"color: black; font-weight: regular;\">a</span> <span style=\"color: black; font-weight: regular;\">setback</span> <span style=\"color: black; font-weight: regular;\">for</span> <span style=\"color: black; font-weight: regular;\">the</span> <span style=\"color: black; font-weight: regular;\">program</span> <span style=\"color: black; font-weight: regular;\">,</span> <span style=\"color: black; font-weight: regular;\">which</span> <span style=\"color: black; font-weight: regular;\">is</span> <span style=\"color: blue; font-weight: bold;\">the</span> <span style=\"color: blue; font-weight: bold;\">network</span> <span style=\"color: blue; font-weight: bold;\">'s</span> <span style=\"color: black; font-weight: regular;\">first</span> <span style=\"color: black; font-weight: regular;\">entry</span> <span style=\"color: black; font-weight: regular;\">into</span> <span style=\"color: black; font-weight: regular;\">the</span> <span style=\"color: black; font-weight: regular;\">late</span> <span style=\"color: black; font-weight: regular;\">-</span> <span style=\"color: black; font-weight: regular;\">night</span> <span style=\"color: black; font-weight: regular;\">talk</span> <span style=\"color: black; font-weight: regular;\">show</span> <span style=\"color: black; font-weight: regular;\">format</span> <span style=\"color: black; font-weight: regular;\">since</span> <span style=\"color: black; font-weight: regular;\">1972</span> <span style=\"color: black; font-weight: regular;\">.</span> <span style=\"color: blue; font-weight: bold;\">CBS</span> <span style=\"color: blue; font-weight: bold;\">Inc.</span> <span style=\"color: black; font-weight: regular;\">is</span> <span style=\"color: black; font-weight: regular;\">cutting</span> <span style=\"color: black; font-weight: regular;\">``</span> <span style=\"color: black; font-weight: regular;\">The</span> <span style=\"color: black; font-weight: regular;\">Pat</span> <span style=\"color: black; font-weight: regular;\">Sajak</span> <span style=\"color: black; font-weight: regular;\">Show</span> <span style=\"color: black; font-weight: regular;\">''</span> <span style=\"color: black; font-weight: regular;\">down</span> <span style=\"color: black; font-weight: regular;\">to</span> <span style=\"color: black; font-weight: regular;\">one</span> <span style=\"color: black; font-weight: regular;\">hour</span> <span style=\"color: black; font-weight: regular;\">from</span> <span style=\"color: blue; font-weight: bold;\">its</span> <span style=\"color: black; font-weight: regular;\">current</span> <span style=\"color: black; font-weight: regular;\">90</span> <span style=\"color: black; font-weight: regular;\">minutes</span> <span style=\"color: black; font-weight: regular;\">.</span>"
      ],
      "text/plain": [
       "<IPython.core.display.HTML object>"
      ]
     },
     "metadata": {},
     "output_type": "display_data"
    },
    {
     "name": "stdout",
     "output_type": "stream",
     "text": [
      "---\n"
     ]
    },
    {
     "data": {
      "text/html": [
       "<span style=\"color: black; font-weight: regular;\">They</span> <span style=\"color: black; font-weight: regular;\">did</span> <span style=\"color: black; font-weight: regular;\">n't</span> <span style=\"color: black; font-weight: regular;\">have</span> <span style=\"color: black; font-weight: regular;\">Ken</span> <span style=\"color: black; font-weight: regular;\">Starr</span> <span style=\"color: black; font-weight: regular;\">on</span> <span style=\"color: black; font-weight: regular;\">to</span> <span style=\"color: black; font-weight: regular;\">rebut</span> <span style=\"color: black; font-weight: regular;\">/</span> <span style=\"color: black; font-weight: regular;\">.</span> <span style=\"color: black; font-weight: regular;\">Now</span> <span style=\"color: black; font-weight: regular;\">the</span> <span style=\"color: black; font-weight: regular;\">former</span> <span style=\"color: black; font-weight: regular;\">director</span> <span style=\"color: black; font-weight: regular;\">of</span> <span style=\"color: black; font-weight: regular;\">the</span> <span style=\"color: black; font-weight: regular;\">Federal</span> <span style=\"color: black; font-weight: regular;\">Bureau</span> <span style=\"color: black; font-weight: regular;\">of</span> <span style=\"color: black; font-weight: regular;\">Investigation</span> <span style=\"color: black; font-weight: regular;\">uh</span> <span style=\"color: black; font-weight: regular;\">who</span> <span style=\"color: black; font-weight: regular;\">ca</span> <span style=\"color: black; font-weight: regular;\">n't</span> <span style=\"color: black; font-weight: regular;\">stand</span> <span style=\"color: blue; font-weight: bold;\">Clinton</span> <span style=\"color: black; font-weight: regular;\">clearly</span> <span style=\"color: black; font-weight: regular;\">writes</span> <span style=\"color: black; font-weight: regular;\">a</span> <span style=\"color: black; font-weight: regular;\">book</span> <span style=\"color: black; font-weight: regular;\">gets</span> <span style=\"color: black; font-weight: regular;\">one</span> <span style=\"color: black; font-weight: regular;\">segment</span> <span style=\"color: black; font-weight: regular;\">for</span> <span style=\"color: blue; font-weight: bold;\">his</span> <span style=\"color: black; font-weight: regular;\">book</span> <span style=\"color: black; font-weight: regular;\">/</span> <span style=\"color: black; font-weight: regular;\">.</span>"
      ],
      "text/plain": [
       "<IPython.core.display.HTML object>"
      ]
     },
     "metadata": {},
     "output_type": "display_data"
    },
    {
     "data": {
      "text/html": [
       "<span style=\"color: black; font-weight: regular;\">Now</span> <span style=\"color: black; font-weight: regular;\">the</span> <span style=\"color: black; font-weight: regular;\">former</span> <span style=\"color: black; font-weight: regular;\">director</span> <span style=\"color: black; font-weight: regular;\">of</span> <span style=\"color: black; font-weight: regular;\">the</span> <span style=\"color: black; font-weight: regular;\">Federal</span> <span style=\"color: black; font-weight: regular;\">Bureau</span> <span style=\"color: black; font-weight: regular;\">of</span> <span style=\"color: black; font-weight: regular;\">Investigation</span> <span style=\"color: black; font-weight: regular;\">uh</span> <span style=\"color: black; font-weight: regular;\">who</span> <span style=\"color: black; font-weight: regular;\">ca</span> <span style=\"color: black; font-weight: regular;\">n't</span> <span style=\"color: black; font-weight: regular;\">stand</span> <span style=\"color: blue; font-weight: bold;\">Clinton</span> <span style=\"color: black; font-weight: regular;\">clearly</span> <span style=\"color: black; font-weight: regular;\">writes</span> <span style=\"color: black; font-weight: regular;\">a</span> <span style=\"color: black; font-weight: regular;\">book</span> <span style=\"color: black; font-weight: regular;\">gets</span> <span style=\"color: black; font-weight: regular;\">one</span> <span style=\"color: black; font-weight: regular;\">segment</span> <span style=\"color: black; font-weight: regular;\">for</span> <span style=\"color: blue; font-weight: bold;\">his</span> <span style=\"color: black; font-weight: regular;\">book</span> <span style=\"color: black; font-weight: regular;\">/</span> <span style=\"color: black; font-weight: regular;\">.</span> <span style=\"color: black; font-weight: regular;\">They</span> <span style=\"color: black; font-weight: regular;\">did</span> <span style=\"color: black; font-weight: regular;\">n't</span> <span style=\"color: black; font-weight: regular;\">have</span> <span style=\"color: black; font-weight: regular;\">Ken</span> <span style=\"color: black; font-weight: regular;\">Starr</span> <span style=\"color: black; font-weight: regular;\">on</span> <span style=\"color: black; font-weight: regular;\">to</span> <span style=\"color: black; font-weight: regular;\">rebut</span> <span style=\"color: black; font-weight: regular;\">/</span> <span style=\"color: black; font-weight: regular;\">.</span>"
      ],
      "text/plain": [
       "<IPython.core.display.HTML object>"
      ]
     },
     "metadata": {},
     "output_type": "display_data"
    },
    {
     "name": "stdout",
     "output_type": "stream",
     "text": [
      "---\n"
     ]
    },
    {
     "data": {
      "text/html": [
       "<span style=\"color: black; font-weight: regular;\">``</span> <span style=\"color: blue; font-weight: bold;\">I</span> <span style=\"color: black; font-weight: regular;\">'m</span> <span style=\"color: black; font-weight: regular;\">constantly</span> <span style=\"color: black; font-weight: regular;\">thinking</span> <span style=\"color: black; font-weight: regular;\">about</span> <span style=\"color: black; font-weight: regular;\">them</span> <span style=\"color: black; font-weight: regular;\">.</span> <span style=\"color: blue; font-weight: bold;\">I</span> <span style=\"color: black; font-weight: regular;\">'m</span> <span style=\"color: black; font-weight: regular;\">meditating</span> <span style=\"color: black; font-weight: regular;\">and</span> <span style=\"color: black; font-weight: regular;\">have</span> <span style=\"color: black; font-weight: regular;\">gone</span> <span style=\"color: black; font-weight: regular;\">vegetarian</span> <span style=\"color: black; font-weight: regular;\">,</span> <span style=\"color: black; font-weight: regular;\">but</span> <span style=\"color: blue; font-weight: bold;\">I</span> <span style=\"color: black; font-weight: regular;\">'m</span> <span style=\"color: black; font-weight: regular;\">still</span> <span style=\"color: black; font-weight: regular;\">not</span> <span style=\"color: black; font-weight: regular;\">at</span> <span style=\"color: black; font-weight: regular;\">peace</span> <span style=\"color: black; font-weight: regular;\">,</span> <span style=\"color: black; font-weight: regular;\">``</span> <span style=\"color: blue; font-weight: bold;\">Yeh</span> <span style=\"color: black; font-weight: regular;\">says</span> <span style=\"color: black; font-weight: regular;\">.</span>"
      ],
      "text/plain": [
       "<IPython.core.display.HTML object>"
      ]
     },
     "metadata": {},
     "output_type": "display_data"
    },
    {
     "data": {
      "text/html": [
       "<span style=\"color: blue; font-weight: bold;\">I</span> <span style=\"color: black; font-weight: regular;\">'m</span> <span style=\"color: black; font-weight: regular;\">meditating</span> <span style=\"color: black; font-weight: regular;\">and</span> <span style=\"color: black; font-weight: regular;\">have</span> <span style=\"color: black; font-weight: regular;\">gone</span> <span style=\"color: black; font-weight: regular;\">vegetarian</span> <span style=\"color: black; font-weight: regular;\">,</span> <span style=\"color: black; font-weight: regular;\">but</span> <span style=\"color: blue; font-weight: bold;\">I</span> <span style=\"color: black; font-weight: regular;\">'m</span> <span style=\"color: black; font-weight: regular;\">still</span> <span style=\"color: black; font-weight: regular;\">not</span> <span style=\"color: black; font-weight: regular;\">at</span> <span style=\"color: black; font-weight: regular;\">peace</span> <span style=\"color: black; font-weight: regular;\">,</span> <span style=\"color: black; font-weight: regular;\">``</span> <span style=\"color: blue; font-weight: bold;\">Yeh</span> <span style=\"color: black; font-weight: regular;\">says</span> <span style=\"color: black; font-weight: regular;\">.</span> <span style=\"color: black; font-weight: regular;\">``</span> <span style=\"color: blue; font-weight: bold;\">I</span> <span style=\"color: black; font-weight: regular;\">'m</span> <span style=\"color: black; font-weight: regular;\">constantly</span> <span style=\"color: black; font-weight: regular;\">thinking</span> <span style=\"color: black; font-weight: regular;\">about</span> <span style=\"color: black; font-weight: regular;\">them</span> <span style=\"color: black; font-weight: regular;\">.</span>"
      ],
      "text/plain": [
       "<IPython.core.display.HTML object>"
      ]
     },
     "metadata": {},
     "output_type": "display_data"
    },
    {
     "name": "stdout",
     "output_type": "stream",
     "text": [
      "---\n"
     ]
    },
    {
     "data": {
      "text/html": [
       "<span style=\"color: black; font-weight: regular;\">Governor</span> <span style=\"color: black; font-weight: regular;\">Richardson</span> <span style=\"color: black; font-weight: regular;\">should</span> <span style=\"color: black; font-weight: regular;\">the</span> <span style=\"color: black; font-weight: regular;\">United</span> <span style=\"color: black; font-weight: regular;\">States</span> <span style=\"color: black; font-weight: regular;\">negotiate</span> <span style=\"color: black; font-weight: regular;\">directly</span> <span style=\"color: black; font-weight: regular;\">one</span> <span style=\"color: black; font-weight: regular;\">on</span> <span style=\"color: black; font-weight: regular;\">one</span> <span style=\"color: black; font-weight: regular;\">with</span> <span style=\"color: black; font-weight: regular;\">North</span> <span style=\"color: black; font-weight: regular;\">Korea</span> <span style=\"color: black; font-weight: regular;\">/</span> <span style=\"color: black; font-weight: regular;\">?</span> <span style=\"color: black; font-weight: regular;\">Yes</span> <span style=\"color: black; font-weight: regular;\">it</span> <span style=\"color: black; font-weight: regular;\">should</span> <span style=\"color: black; font-weight: regular;\">/</span> <span style=\"color: black; font-weight: regular;\">.</span>"
      ],
      "text/plain": [
       "<IPython.core.display.HTML object>"
      ]
     },
     "metadata": {},
     "output_type": "display_data"
    },
    {
     "data": {
      "text/html": [
       "<span style=\"color: black; font-weight: regular;\">Yes</span> <span style=\"color: black; font-weight: regular;\">it</span> <span style=\"color: black; font-weight: regular;\">should</span> <span style=\"color: black; font-weight: regular;\">/</span> <span style=\"color: black; font-weight: regular;\">.</span> <span style=\"color: black; font-weight: regular;\">Governor</span> <span style=\"color: black; font-weight: regular;\">Richardson</span> <span style=\"color: black; font-weight: regular;\">should</span> <span style=\"color: black; font-weight: regular;\">the</span> <span style=\"color: black; font-weight: regular;\">United</span> <span style=\"color: black; font-weight: regular;\">States</span> <span style=\"color: black; font-weight: regular;\">negotiate</span> <span style=\"color: black; font-weight: regular;\">directly</span> <span style=\"color: black; font-weight: regular;\">one</span> <span style=\"color: black; font-weight: regular;\">on</span> <span style=\"color: black; font-weight: regular;\">one</span> <span style=\"color: black; font-weight: regular;\">with</span> <span style=\"color: black; font-weight: regular;\">North</span> <span style=\"color: black; font-weight: regular;\">Korea</span> <span style=\"color: black; font-weight: regular;\">/</span> <span style=\"color: black; font-weight: regular;\">?</span>"
      ],
      "text/plain": [
       "<IPython.core.display.HTML object>"
      ]
     },
     "metadata": {},
     "output_type": "display_data"
    },
    {
     "name": "stdout",
     "output_type": "stream",
     "text": [
      "---\n"
     ]
    },
    {
     "data": {
      "text/html": [
       "<span style=\"color: black; font-weight: regular;\">You</span> <span style=\"color: black; font-weight: regular;\">were</span> <span style=\"color: black; font-weight: regular;\">not</span> <span style=\"color: black; font-weight: regular;\">at</span> <span style=\"color: black; font-weight: regular;\">work</span> <span style=\"color: black; font-weight: regular;\">that</span> <span style=\"color: black; font-weight: regular;\">day</span> <span style=\"color: black; font-weight: regular;\">?</span> <span style=\"color: black; font-weight: regular;\">No</span> <span style=\"color: black; font-weight: regular;\">.</span>"
      ],
      "text/plain": [
       "<IPython.core.display.HTML object>"
      ]
     },
     "metadata": {},
     "output_type": "display_data"
    },
    {
     "data": {
      "text/html": [
       "<span style=\"color: black; font-weight: regular;\">No</span> <span style=\"color: black; font-weight: regular;\">.</span> <span style=\"color: black; font-weight: regular;\">You</span> <span style=\"color: black; font-weight: regular;\">were</span> <span style=\"color: black; font-weight: regular;\">not</span> <span style=\"color: black; font-weight: regular;\">at</span> <span style=\"color: black; font-weight: regular;\">work</span> <span style=\"color: black; font-weight: regular;\">that</span> <span style=\"color: black; font-weight: regular;\">day</span> <span style=\"color: black; font-weight: regular;\">?</span>"
      ],
      "text/plain": [
       "<IPython.core.display.HTML object>"
      ]
     },
     "metadata": {},
     "output_type": "display_data"
    },
    {
     "name": "stdout",
     "output_type": "stream",
     "text": [
      "---\n"
     ]
    },
    {
     "data": {
      "text/html": [
       "<span style=\"color: black; font-weight: regular;\">and</span> <span style=\"color: black; font-weight: regular;\">Adele</span> <span style=\"color: black; font-weight: regular;\">still</span> <span style=\"color: black; font-weight: regular;\">talks</span> <span style=\"color: black; font-weight: regular;\">about</span> <span style=\"color: black; font-weight: regular;\">the</span> <span style=\"color: black; font-weight: regular;\">black</span> <span style=\"color: black; font-weight: regular;\">dress</span> <span style=\"color: black; font-weight: regular;\">.</span> <span style=\"color: black; font-weight: regular;\">What</span> <span style=\"color: black; font-weight: regular;\">?</span>"
      ],
      "text/plain": [
       "<IPython.core.display.HTML object>"
      ]
     },
     "metadata": {},
     "output_type": "display_data"
    },
    {
     "data": {
      "text/html": [
       "<span style=\"color: black; font-weight: regular;\">What</span> <span style=\"color: black; font-weight: regular;\">?</span> <span style=\"color: black; font-weight: regular;\">and</span> <span style=\"color: black; font-weight: regular;\">Adele</span> <span style=\"color: black; font-weight: regular;\">still</span> <span style=\"color: black; font-weight: regular;\">talks</span> <span style=\"color: black; font-weight: regular;\">about</span> <span style=\"color: black; font-weight: regular;\">the</span> <span style=\"color: black; font-weight: regular;\">black</span> <span style=\"color: black; font-weight: regular;\">dress</span> <span style=\"color: black; font-weight: regular;\">.</span>"
      ],
      "text/plain": [
       "<IPython.core.display.HTML object>"
      ]
     },
     "metadata": {},
     "output_type": "display_data"
    },
    {
     "name": "stdout",
     "output_type": "stream",
     "text": [
      "---\n"
     ]
    },
    {
     "data": {
      "text/html": [
       "<span style=\"color: black; font-weight: regular;\">Well</span> <span style=\"color: black; font-weight: regular;\">,</span> <span style=\"color: blue; font-weight: bold;\">I</span> <span style=\"color: black; font-weight: regular;\">think</span> <span style=\"color: black; font-weight: regular;\">that</span> <span style=\"color: black; font-weight: regular;\">the</span> <span style=\"color: black; font-weight: regular;\">marketplace</span> <span style=\"color: black; font-weight: regular;\">is</span> <span style=\"color: black; font-weight: regular;\">becoming</span> <span style=\"color: black; font-weight: regular;\">increasingly</span> <span style=\"color: black; font-weight: regular;\">secure</span> <span style=\"color: black; font-weight: regular;\">.</span> <span style=\"color: blue; font-weight: bold;\">I</span> <span style=\"color: black; font-weight: regular;\">think</span> <span style=\"color: black; font-weight: regular;\">a</span> <span style=\"color: black; font-weight: regular;\">number</span> <span style=\"color: black; font-weight: regular;\">of</span> <span style=\"color: black; font-weight: regular;\">the</span> <span style=\"color: black; font-weight: regular;\">reforms</span> <span style=\"color: black; font-weight: regular;\">that</span> <span style=\"color: black; font-weight: regular;\">have</span> <span style=\"color: black; font-weight: regular;\">come</span> <span style=\"color: black; font-weight: regular;\">via</span> <span style=\"color: black; font-weight: regular;\">the</span> <span style=\"color: black; font-weight: regular;\">Sarbanes</span> <span style=\"color: black; font-weight: regular;\">-</span> <span style=\"color: black; font-weight: regular;\">Oxley</span> <span style=\"color: black; font-weight: regular;\">Act</span> <span style=\"color: black; font-weight: regular;\">and</span> <span style=\"color: black; font-weight: regular;\">a</span> <span style=\"color: black; font-weight: regular;\">number</span> <span style=\"color: black; font-weight: regular;\">of</span> <span style=\"color: black; font-weight: regular;\">things</span> <span style=\"color: black; font-weight: regular;\">that</span> <span style=\"color: black; font-weight: regular;\">we</span> <span style=\"color: black; font-weight: regular;\">have</span> <span style=\"color: black; font-weight: regular;\">done</span> <span style=\"color: black; font-weight: regular;\">at</span> <span style=\"color: black; font-weight: regular;\">the</span> <span style=\"color: black; font-weight: regular;\">SEC</span> <span style=\"color: black; font-weight: regular;\">are</span> <span style=\"color: black; font-weight: regular;\">basically</span> <span style=\"color: black; font-weight: regular;\">making</span> <span style=\"color: green; font-weight: bold;\">everybody</span> <span style=\"color: black; font-weight: regular;\">take</span> <span style=\"color: black; font-weight: regular;\">a</span> <span style=\"color: black; font-weight: regular;\">new</span> <span style=\"color: black; font-weight: regular;\">look</span> <span style=\"color: black; font-weight: regular;\">at</span> <span style=\"color: black; font-weight: regular;\">how</span> <span style=\"color: green; font-weight: bold;\">they</span> <span style=\"color: black; font-weight: regular;\">'re</span> <span style=\"color: black; font-weight: regular;\">performing</span> <span style=\"color: green; font-weight: bold;\">their</span> <span style=\"color: black; font-weight: regular;\">duty</span> <span style=\"color: black; font-weight: regular;\">as</span> <span style=\"color: black; font-weight: regular;\">a</span> <span style=\"color: black; font-weight: regular;\">director</span> <span style=\"color: black; font-weight: regular;\">,</span> <span style=\"color: black; font-weight: regular;\">how</span> <span style=\"color: green; font-weight: bold;\">they</span> <span style=\"color: black; font-weight: regular;\">'re</span> <span style=\"color: black; font-weight: regular;\">performing</span> <span style=\"color: green; font-weight: bold;\">their</span> <span style=\"color: black; font-weight: regular;\">duties</span> <span style=\"color: black; font-weight: regular;\">on</span> <span style=\"color: black; font-weight: regular;\">audit</span> <span style=\"color: black; font-weight: regular;\">committees</span> <span style=\"color: black; font-weight: regular;\">and</span> <span style=\"color: black; font-weight: regular;\">compensation</span> <span style=\"color: black; font-weight: regular;\">committees</span> <span style=\"color: black; font-weight: regular;\">and</span> <span style=\"color: black; font-weight: regular;\">in</span> <span style=\"color: black; font-weight: regular;\">Wall</span> <span style=\"color: black; font-weight: regular;\">Street</span> <span style=\"color: black; font-weight: regular;\">.</span>"
      ],
      "text/plain": [
       "<IPython.core.display.HTML object>"
      ]
     },
     "metadata": {},
     "output_type": "display_data"
    },
    {
     "data": {
      "text/html": [
       "<span style=\"color: green; font-weight: bold;\">I</span> <span style=\"color: black; font-weight: regular;\">think</span> <span style=\"color: black; font-weight: regular;\">a</span> <span style=\"color: black; font-weight: regular;\">number</span> <span style=\"color: black; font-weight: regular;\">of</span> <span style=\"color: black; font-weight: regular;\">the</span> <span style=\"color: black; font-weight: regular;\">reforms</span> <span style=\"color: black; font-weight: regular;\">that</span> <span style=\"color: black; font-weight: regular;\">have</span> <span style=\"color: black; font-weight: regular;\">come</span> <span style=\"color: black; font-weight: regular;\">via</span> <span style=\"color: black; font-weight: regular;\">the</span> <span style=\"color: black; font-weight: regular;\">Sarbanes</span> <span style=\"color: black; font-weight: regular;\">-</span> <span style=\"color: black; font-weight: regular;\">Oxley</span> <span style=\"color: black; font-weight: regular;\">Act</span> <span style=\"color: black; font-weight: regular;\">and</span> <span style=\"color: black; font-weight: regular;\">a</span> <span style=\"color: black; font-weight: regular;\">number</span> <span style=\"color: black; font-weight: regular;\">of</span> <span style=\"color: black; font-weight: regular;\">things</span> <span style=\"color: black; font-weight: regular;\">that</span> <span style=\"color: black; font-weight: regular;\">we</span> <span style=\"color: black; font-weight: regular;\">have</span> <span style=\"color: black; font-weight: regular;\">done</span> <span style=\"color: black; font-weight: regular;\">at</span> <span style=\"color: black; font-weight: regular;\">the</span> <span style=\"color: black; font-weight: regular;\">SEC</span> <span style=\"color: black; font-weight: regular;\">are</span> <span style=\"color: black; font-weight: regular;\">basically</span> <span style=\"color: black; font-weight: regular;\">making</span> <span style=\"color: blue; font-weight: bold;\">everybody</span> <span style=\"color: black; font-weight: regular;\">take</span> <span style=\"color: black; font-weight: regular;\">a</span> <span style=\"color: black; font-weight: regular;\">new</span> <span style=\"color: black; font-weight: regular;\">look</span> <span style=\"color: black; font-weight: regular;\">at</span> <span style=\"color: black; font-weight: regular;\">how</span> <span style=\"color: blue; font-weight: bold;\">they</span> <span style=\"color: black; font-weight: regular;\">'re</span> <span style=\"color: black; font-weight: regular;\">performing</span> <span style=\"color: blue; font-weight: bold;\">their</span> <span style=\"color: black; font-weight: regular;\">duty</span> <span style=\"color: black; font-weight: regular;\">as</span> <span style=\"color: black; font-weight: regular;\">a</span> <span style=\"color: black; font-weight: regular;\">director</span> <span style=\"color: black; font-weight: regular;\">,</span> <span style=\"color: black; font-weight: regular;\">how</span> <span style=\"color: blue; font-weight: bold;\">they</span> <span style=\"color: black; font-weight: regular;\">'re</span> <span style=\"color: black; font-weight: regular;\">performing</span> <span style=\"color: blue; font-weight: bold;\">their</span> <span style=\"color: black; font-weight: regular;\">duties</span> <span style=\"color: black; font-weight: regular;\">on</span> <span style=\"color: black; font-weight: regular;\">audit</span> <span style=\"color: black; font-weight: regular;\">committees</span> <span style=\"color: black; font-weight: regular;\">and</span> <span style=\"color: black; font-weight: regular;\">compensation</span> <span style=\"color: black; font-weight: regular;\">committees</span> <span style=\"color: black; font-weight: regular;\">and</span> <span style=\"color: black; font-weight: regular;\">in</span> <span style=\"color: black; font-weight: regular;\">Wall</span> <span style=\"color: black; font-weight: regular;\">Street</span> <span style=\"color: black; font-weight: regular;\">.</span> <span style=\"color: black; font-weight: regular;\">Well</span> <span style=\"color: black; font-weight: regular;\">,</span> <span style=\"color: green; font-weight: bold;\">I</span> <span style=\"color: black; font-weight: regular;\">think</span> <span style=\"color: black; font-weight: regular;\">that</span> <span style=\"color: black; font-weight: regular;\">the</span> <span style=\"color: black; font-weight: regular;\">marketplace</span> <span style=\"color: black; font-weight: regular;\">is</span> <span style=\"color: black; font-weight: regular;\">becoming</span> <span style=\"color: black; font-weight: regular;\">increasingly</span> <span style=\"color: black; font-weight: regular;\">secure</span> <span style=\"color: black; font-weight: regular;\">.</span>"
      ],
      "text/plain": [
       "<IPython.core.display.HTML object>"
      ]
     },
     "metadata": {},
     "output_type": "display_data"
    },
    {
     "name": "stdout",
     "output_type": "stream",
     "text": [
      "---\n"
     ]
    },
    {
     "data": {
      "text/html": [
       "<span style=\"color: black; font-weight: regular;\">``</span> <span style=\"color: black; font-weight: regular;\">The</span> <span style=\"color: black; font-weight: regular;\">student</span> <span style=\"color: black; font-weight: regular;\">then</span> <span style=\"color: black; font-weight: regular;\">challenges</span> <span style=\"color: black; font-weight: regular;\">the</span> <span style=\"color: black; font-weight: regular;\">master</span> <span style=\"color: black; font-weight: regular;\">,</span> <span style=\"color: black; font-weight: regular;\">``</span> <span style=\"color: black; font-weight: regular;\">explains</span> <span style=\"color: black; font-weight: regular;\">Sylvia</span> <span style=\"color: black; font-weight: regular;\">Yang</span> <span style=\"color: black; font-weight: regular;\">,</span> <span style=\"color: black; font-weight: regular;\">detailing</span> <span style=\"color: black; font-weight: regular;\">how</span> <span style=\"color: black; font-weight: regular;\">these</span> <span style=\"color: black; font-weight: regular;\">mainland</span> <span style=\"color: black; font-weight: regular;\">upstarts</span> <span style=\"color: black; font-weight: regular;\">go</span> <span style=\"color: black; font-weight: regular;\">on</span> <span style=\"color: black; font-weight: regular;\">to</span> <span style=\"color: black; font-weight: regular;\">compete</span> <span style=\"color: black; font-weight: regular;\">with</span> <span style=\"color: black; font-weight: regular;\">the</span> <span style=\"color: black; font-weight: regular;\">very</span> <span style=\"color: black; font-weight: regular;\">Taiwan</span> <span style=\"color: black; font-weight: regular;\">firms</span> <span style=\"color: black; font-weight: regular;\">that</span> <span style=\"color: black; font-weight: regular;\">taught</span> <span style=\"color: blue; font-weight: bold;\">them</span> <span style=\"color: black; font-weight: regular;\">all</span> <span style=\"color: blue; font-weight: bold;\">they</span> <span style=\"color: black; font-weight: regular;\">know</span> <span style=\"color: black; font-weight: regular;\">.</span> <span style=\"color: black; font-weight: regular;\">This</span> <span style=\"color: black; font-weight: regular;\">scenario</span> <span style=\"color: black; font-weight: regular;\">should</span> <span style=\"color: black; font-weight: regular;\">be</span> <span style=\"color: black; font-weight: regular;\">familiar</span> <span style=\"color: black; font-weight: regular;\">to</span> <span style=\"color: black; font-weight: regular;\">Taiwanese</span> <span style=\"color: black; font-weight: regular;\">.</span>"
      ],
      "text/plain": [
       "<IPython.core.display.HTML object>"
      ]
     },
     "metadata": {},
     "output_type": "display_data"
    },
    {
     "data": {
      "text/html": [
       "<span style=\"color: black; font-weight: regular;\">This</span> <span style=\"color: black; font-weight: regular;\">scenario</span> <span style=\"color: black; font-weight: regular;\">should</span> <span style=\"color: black; font-weight: regular;\">be</span> <span style=\"color: black; font-weight: regular;\">familiar</span> <span style=\"color: black; font-weight: regular;\">to</span> <span style=\"color: black; font-weight: regular;\">Taiwanese</span> <span style=\"color: black; font-weight: regular;\">.</span> <span style=\"color: black; font-weight: regular;\">``</span> <span style=\"color: black; font-weight: regular;\">The</span> <span style=\"color: black; font-weight: regular;\">student</span> <span style=\"color: black; font-weight: regular;\">then</span> <span style=\"color: black; font-weight: regular;\">challenges</span> <span style=\"color: black; font-weight: regular;\">the</span> <span style=\"color: black; font-weight: regular;\">master</span> <span style=\"color: black; font-weight: regular;\">,</span> <span style=\"color: black; font-weight: regular;\">``</span> <span style=\"color: black; font-weight: regular;\">explains</span> <span style=\"color: black; font-weight: regular;\">Sylvia</span> <span style=\"color: black; font-weight: regular;\">Yang</span> <span style=\"color: black; font-weight: regular;\">,</span> <span style=\"color: black; font-weight: regular;\">detailing</span> <span style=\"color: black; font-weight: regular;\">how</span> <span style=\"color: black; font-weight: regular;\">these</span> <span style=\"color: black; font-weight: regular;\">mainland</span> <span style=\"color: black; font-weight: regular;\">upstarts</span> <span style=\"color: black; font-weight: regular;\">go</span> <span style=\"color: black; font-weight: regular;\">on</span> <span style=\"color: black; font-weight: regular;\">to</span> <span style=\"color: black; font-weight: regular;\">compete</span> <span style=\"color: black; font-weight: regular;\">with</span> <span style=\"color: black; font-weight: regular;\">the</span> <span style=\"color: black; font-weight: regular;\">very</span> <span style=\"color: black; font-weight: regular;\">Taiwan</span> <span style=\"color: black; font-weight: regular;\">firms</span> <span style=\"color: black; font-weight: regular;\">that</span> <span style=\"color: black; font-weight: regular;\">taught</span> <span style=\"color: blue; font-weight: bold;\">them</span> <span style=\"color: black; font-weight: regular;\">all</span> <span style=\"color: blue; font-weight: bold;\">they</span> <span style=\"color: black; font-weight: regular;\">know</span> <span style=\"color: black; font-weight: regular;\">.</span>"
      ],
      "text/plain": [
       "<IPython.core.display.HTML object>"
      ]
     },
     "metadata": {},
     "output_type": "display_data"
    },
    {
     "name": "stdout",
     "output_type": "stream",
     "text": [
      "---\n"
     ]
    },
    {
     "data": {
      "text/html": [
       "<span style=\"color: black; font-weight: regular;\">t-</span> <span style=\"color: black; font-weight: regular;\">,</span> <span style=\"color: black; font-weight: regular;\">oh</span> <span style=\"color: black; font-weight: regular;\">yes</span> <span style=\"color: black; font-weight: regular;\">.</span>"
      ],
      "text/plain": [
       "<IPython.core.display.HTML object>"
      ]
     },
     "metadata": {},
     "output_type": "display_data"
    },
    {
     "data": {
      "text/html": [
       "<span style=\"color: black; font-weight: regular;\">oh</span> <span style=\"color: black; font-weight: regular;\">yes</span> <span style=\"color: black; font-weight: regular;\">.</span> <span style=\"color: black; font-weight: regular;\">t-</span> <span style=\"color: black; font-weight: regular;\">,</span>"
      ],
      "text/plain": [
       "<IPython.core.display.HTML object>"
      ]
     },
     "metadata": {},
     "output_type": "display_data"
    },
    {
     "name": "stdout",
     "output_type": "stream",
     "text": [
      "---\n"
     ]
    },
    {
     "data": {
      "text/html": [
       "<span style=\"color: black; font-weight: regular;\">on</span> <span style=\"color: black; font-weight: regular;\">the</span> <span style=\"color: black; font-weight: regular;\">fourth</span> <span style=\"color: black; font-weight: regular;\">of</span> <span style=\"color: black; font-weight: regular;\">July</span> <span style=\"color: black; font-weight: regular;\">North</span> <span style=\"color: black; font-weight: regular;\">Korea</span> <span style=\"color: black; font-weight: regular;\">tested</span> <span style=\"color: black; font-weight: regular;\">medium</span> <span style=\"color: black; font-weight: regular;\">and</span> <span style=\"color: black; font-weight: regular;\">long</span> <span style=\"color: black; font-weight: regular;\">range</span> <span style=\"color: black; font-weight: regular;\">+missiles</span> <span style=\"color: black; font-weight: regular;\">/</span> <span style=\"color: black; font-weight: regular;\">.</span> <span style=\"color: black; font-weight: regular;\">and</span> <span style=\"color: black; font-weight: regular;\">their</span> <span style=\"color: black; font-weight: regular;\">nuclear</span> <span style=\"color: black; font-weight: regular;\">program</span> <span style=\"color: black; font-weight: regular;\">appears</span> <span style=\"color: black; font-weight: regular;\">to</span> <span style=\"color: black; font-weight: regular;\">be</span> <span style=\"color: black; font-weight: regular;\">full</span> <span style=\"color: black; font-weight: regular;\">speed</span> <span style=\"color: black; font-weight: regular;\">ahead</span> <span style=\"color: black; font-weight: regular;\">/</span> <span style=\"color: black; font-weight: regular;\">.</span>"
      ],
      "text/plain": [
       "<IPython.core.display.HTML object>"
      ]
     },
     "metadata": {},
     "output_type": "display_data"
    },
    {
     "data": {
      "text/html": [
       "<span style=\"color: black; font-weight: regular;\">and</span> <span style=\"color: black; font-weight: regular;\">their</span> <span style=\"color: black; font-weight: regular;\">nuclear</span> <span style=\"color: black; font-weight: regular;\">program</span> <span style=\"color: black; font-weight: regular;\">appears</span> <span style=\"color: black; font-weight: regular;\">to</span> <span style=\"color: black; font-weight: regular;\">be</span> <span style=\"color: black; font-weight: regular;\">full</span> <span style=\"color: black; font-weight: regular;\">speed</span> <span style=\"color: black; font-weight: regular;\">ahead</span> <span style=\"color: black; font-weight: regular;\">/</span> <span style=\"color: black; font-weight: regular;\">.</span> <span style=\"color: black; font-weight: regular;\">on</span> <span style=\"color: black; font-weight: regular;\">the</span> <span style=\"color: black; font-weight: regular;\">fourth</span> <span style=\"color: black; font-weight: regular;\">of</span> <span style=\"color: black; font-weight: regular;\">July</span> <span style=\"color: black; font-weight: regular;\">North</span> <span style=\"color: black; font-weight: regular;\">Korea</span> <span style=\"color: black; font-weight: regular;\">tested</span> <span style=\"color: black; font-weight: regular;\">medium</span> <span style=\"color: black; font-weight: regular;\">and</span> <span style=\"color: black; font-weight: regular;\">long</span> <span style=\"color: black; font-weight: regular;\">range</span> <span style=\"color: black; font-weight: regular;\">+missiles</span> <span style=\"color: black; font-weight: regular;\">/</span> <span style=\"color: black; font-weight: regular;\">.</span>"
      ],
      "text/plain": [
       "<IPython.core.display.HTML object>"
      ]
     },
     "metadata": {},
     "output_type": "display_data"
    },
    {
     "name": "stdout",
     "output_type": "stream",
     "text": [
      "---\n"
     ]
    },
    {
     "data": {
      "text/html": [
       "<span style=\"color: black; font-weight: regular;\">Well</span> <span style=\"color: blue; font-weight: bold;\">I</span> <span style=\"color: black; font-weight: regular;\">strongly</span> <span style=\"color: black; font-weight: regular;\">disagree</span> <span style=\"color: black; font-weight: regular;\">with</span> <span style=\"color: black; font-weight: regular;\">that</span> <span style=\"color: black; font-weight: regular;\">criticism</span> <span style=\"color: black; font-weight: regular;\">from</span> <span style=\"color: black; font-weight: regular;\">Bill</span> <span style=\"color: black; font-weight: regular;\">Crystal</span> <span style=\"color: black; font-weight: regular;\">/</span> <span style=\"color: black; font-weight: regular;\">.</span> <span style=\"color: black; font-weight: regular;\">And</span> <span style=\"color: blue; font-weight: bold;\">I</span> <span style=\"color: black; font-weight: regular;\">disagree</span> <span style=\"color: black; font-weight: regular;\">for</span> <span style=\"color: black; font-weight: regular;\">one</span> <span style=\"color: black; font-weight: regular;\">reason</span> <span style=\"color: black; font-weight: regular;\">/</span> <span style=\"color: black; font-weight: regular;\">.</span>"
      ],
      "text/plain": [
       "<IPython.core.display.HTML object>"
      ]
     },
     "metadata": {},
     "output_type": "display_data"
    },
    {
     "data": {
      "text/html": [
       "<span style=\"color: black; font-weight: regular;\">And</span> <span style=\"color: blue; font-weight: bold;\">I</span> <span style=\"color: black; font-weight: regular;\">disagree</span> <span style=\"color: black; font-weight: regular;\">for</span> <span style=\"color: black; font-weight: regular;\">one</span> <span style=\"color: black; font-weight: regular;\">reason</span> <span style=\"color: black; font-weight: regular;\">/</span> <span style=\"color: black; font-weight: regular;\">.</span> <span style=\"color: black; font-weight: regular;\">Well</span> <span style=\"color: blue; font-weight: bold;\">I</span> <span style=\"color: black; font-weight: regular;\">strongly</span> <span style=\"color: black; font-weight: regular;\">disagree</span> <span style=\"color: black; font-weight: regular;\">with</span> <span style=\"color: black; font-weight: regular;\">that</span> <span style=\"color: black; font-weight: regular;\">criticism</span> <span style=\"color: black; font-weight: regular;\">from</span> <span style=\"color: black; font-weight: regular;\">Bill</span> <span style=\"color: black; font-weight: regular;\">Crystal</span> <span style=\"color: black; font-weight: regular;\">/</span> <span style=\"color: black; font-weight: regular;\">.</span>"
      ],
      "text/plain": [
       "<IPython.core.display.HTML object>"
      ]
     },
     "metadata": {},
     "output_type": "display_data"
    },
    {
     "name": "stdout",
     "output_type": "stream",
     "text": [
      "---\n"
     ]
    },
    {
     "data": {
      "text/html": [
       "<span style=\"color: black; font-weight: regular;\">Then</span> <span style=\"color: blue; font-weight: bold;\">he</span> <span style=\"color: black; font-weight: regular;\">and</span> <span style=\"color: blue; font-weight: bold;\">his</span> <span style=\"color: black; font-weight: regular;\">followers</span> <span style=\"color: black; font-weight: regular;\">went</span> <span style=\"color: black; font-weight: regular;\">to</span> <span style=\"color: black; font-weight: regular;\">another</span> <span style=\"color: black; font-weight: regular;\">town</span> <span style=\"color: black; font-weight: regular;\">.</span> <span style=\"color: black; font-weight: regular;\">They</span> <span style=\"color: black; font-weight: regular;\">were</span> <span style=\"color: black; font-weight: regular;\">all</span> <span style=\"color: black; font-weight: regular;\">traveling</span> <span style=\"color: black; font-weight: regular;\">along</span> <span style=\"color: black; font-weight: regular;\">the</span> <span style=\"color: black; font-weight: regular;\">road</span> <span style=\"color: black; font-weight: regular;\">.</span>"
      ],
      "text/plain": [
       "<IPython.core.display.HTML object>"
      ]
     },
     "metadata": {},
     "output_type": "display_data"
    },
    {
     "data": {
      "text/html": [
       "<span style=\"color: black; font-weight: regular;\">They</span> <span style=\"color: black; font-weight: regular;\">were</span> <span style=\"color: black; font-weight: regular;\">all</span> <span style=\"color: black; font-weight: regular;\">traveling</span> <span style=\"color: black; font-weight: regular;\">along</span> <span style=\"color: black; font-weight: regular;\">the</span> <span style=\"color: black; font-weight: regular;\">road</span> <span style=\"color: black; font-weight: regular;\">.</span> <span style=\"color: black; font-weight: regular;\">Then</span> <span style=\"color: blue; font-weight: bold;\">he</span> <span style=\"color: black; font-weight: regular;\">and</span> <span style=\"color: blue; font-weight: bold;\">his</span> <span style=\"color: black; font-weight: regular;\">followers</span> <span style=\"color: black; font-weight: regular;\">went</span> <span style=\"color: black; font-weight: regular;\">to</span> <span style=\"color: black; font-weight: regular;\">another</span> <span style=\"color: black; font-weight: regular;\">town</span> <span style=\"color: black; font-weight: regular;\">.</span>"
      ],
      "text/plain": [
       "<IPython.core.display.HTML object>"
      ]
     },
     "metadata": {},
     "output_type": "display_data"
    },
    {
     "name": "stdout",
     "output_type": "stream",
     "text": [
      "---\n"
     ]
    },
    {
     "data": {
      "text/html": [
       "<span style=\"color: blue; font-weight: bold;\">They</span> <span style=\"color: black; font-weight: regular;\">might</span> <span style=\"color: black; font-weight: regular;\">relate</span> <span style=\"color: black; font-weight: regular;\">how</span> <span style=\"color: black; font-weight: regular;\">in</span> <span style=\"color: black; font-weight: regular;\">the</span> <span style=\"color: black; font-weight: regular;\">old</span> <span style=\"color: black; font-weight: regular;\">days</span> <span style=\"color: blue; font-weight: bold;\">they</span> <span style=\"color: black; font-weight: regular;\">could</span> <span style=\"color: black; font-weight: regular;\">just</span> <span style=\"color: black; font-weight: regular;\">put</span> <span style=\"color: black; font-weight: regular;\">a</span> <span style=\"color: black; font-weight: regular;\">hand</span> <span style=\"color: black; font-weight: regular;\">in</span> <span style=\"color: black; font-weight: regular;\">the</span> <span style=\"color: black; font-weight: regular;\">river</span> <span style=\"color: black; font-weight: regular;\">and</span> <span style=\"color: black; font-weight: regular;\">come</span> <span style=\"color: black; font-weight: regular;\">up</span> <span style=\"color: black; font-weight: regular;\">with</span> <span style=\"color: black; font-weight: regular;\">a</span> <span style=\"color: black; font-weight: regular;\">big</span> <span style=\"color: black; font-weight: regular;\">catch</span> <span style=\"color: black; font-weight: regular;\">.</span> <span style=\"color: black; font-weight: regular;\">The</span> <span style=\"color: black; font-weight: regular;\">lonely</span> <span style=\"color: black; font-weight: regular;\">fishing</span> <span style=\"color: black; font-weight: regular;\">boats</span> <span style=\"color: black; font-weight: regular;\">are</span> <span style=\"color: black; font-weight: regular;\">waiting</span> <span style=\"color: black; font-weight: regular;\">for</span> <span style=\"color: black; font-weight: regular;\">the</span> <span style=\"color: black; font-weight: regular;\">Tanshui</span> <span style=\"color: black; font-weight: regular;\">-</span> <span style=\"color: black; font-weight: regular;\">Pali</span> <span style=\"color: black; font-weight: regular;\">ferry</span> <span style=\"color: black; font-weight: regular;\">to</span> <span style=\"color: black; font-weight: regular;\">pass</span> <span style=\"color: black; font-weight: regular;\">by</span> <span style=\"color: black; font-weight: regular;\">and</span> <span style=\"color: black; font-weight: regular;\">say</span> <span style=\"color: black; font-weight: regular;\">hello</span> <span style=\"color: black; font-weight: regular;\">.</span>"
      ],
      "text/plain": [
       "<IPython.core.display.HTML object>"
      ]
     },
     "metadata": {},
     "output_type": "display_data"
    },
    {
     "data": {
      "text/html": [
       "<span style=\"color: black; font-weight: regular;\">The</span> <span style=\"color: black; font-weight: regular;\">lonely</span> <span style=\"color: black; font-weight: regular;\">fishing</span> <span style=\"color: black; font-weight: regular;\">boats</span> <span style=\"color: black; font-weight: regular;\">are</span> <span style=\"color: black; font-weight: regular;\">waiting</span> <span style=\"color: black; font-weight: regular;\">for</span> <span style=\"color: black; font-weight: regular;\">the</span> <span style=\"color: black; font-weight: regular;\">Tanshui</span> <span style=\"color: black; font-weight: regular;\">-</span> <span style=\"color: black; font-weight: regular;\">Pali</span> <span style=\"color: black; font-weight: regular;\">ferry</span> <span style=\"color: black; font-weight: regular;\">to</span> <span style=\"color: black; font-weight: regular;\">pass</span> <span style=\"color: black; font-weight: regular;\">by</span> <span style=\"color: black; font-weight: regular;\">and</span> <span style=\"color: black; font-weight: regular;\">say</span> <span style=\"color: black; font-weight: regular;\">hello</span> <span style=\"color: black; font-weight: regular;\">.</span> <span style=\"color: blue; font-weight: bold;\">They</span> <span style=\"color: black; font-weight: regular;\">might</span> <span style=\"color: black; font-weight: regular;\">relate</span> <span style=\"color: black; font-weight: regular;\">how</span> <span style=\"color: black; font-weight: regular;\">in</span> <span style=\"color: black; font-weight: regular;\">the</span> <span style=\"color: black; font-weight: regular;\">old</span> <span style=\"color: black; font-weight: regular;\">days</span> <span style=\"color: blue; font-weight: bold;\">they</span> <span style=\"color: black; font-weight: regular;\">could</span> <span style=\"color: black; font-weight: regular;\">just</span> <span style=\"color: black; font-weight: regular;\">put</span> <span style=\"color: black; font-weight: regular;\">a</span> <span style=\"color: black; font-weight: regular;\">hand</span> <span style=\"color: black; font-weight: regular;\">in</span> <span style=\"color: black; font-weight: regular;\">the</span> <span style=\"color: black; font-weight: regular;\">river</span> <span style=\"color: black; font-weight: regular;\">and</span> <span style=\"color: black; font-weight: regular;\">come</span> <span style=\"color: black; font-weight: regular;\">up</span> <span style=\"color: black; font-weight: regular;\">with</span> <span style=\"color: black; font-weight: regular;\">a</span> <span style=\"color: black; font-weight: regular;\">big</span> <span style=\"color: black; font-weight: regular;\">catch</span> <span style=\"color: black; font-weight: regular;\">.</span>"
      ],
      "text/plain": [
       "<IPython.core.display.HTML object>"
      ]
     },
     "metadata": {},
     "output_type": "display_data"
    },
    {
     "name": "stdout",
     "output_type": "stream",
     "text": [
      "---\n"
     ]
    },
    {
     "data": {
      "text/html": [
       "<span style=\"color: black; font-weight: regular;\">The</span> <span style=\"color: black; font-weight: regular;\">time</span> <span style=\"color: black; font-weight: regular;\">was</span> <span style=\"color: black; font-weight: regular;\">coming</span> <span style=\"color: black; font-weight: regular;\">near</span> <span style=\"color: black; font-weight: regular;\">when</span> <span style=\"color: blue; font-weight: bold;\">Jesus</span> <span style=\"color: black; font-weight: regular;\">would</span> <span style=\"color: black; font-weight: regular;\">leave</span> <span style=\"color: black; font-weight: regular;\">and</span> <span style=\"color: black; font-weight: regular;\">go</span> <span style=\"color: black; font-weight: regular;\">back</span> <span style=\"color: black; font-weight: regular;\">to</span> <span style=\"color: black; font-weight: regular;\">heaven</span> <span style=\"color: black; font-weight: regular;\">.</span> <span style=\"color: blue; font-weight: bold;\">He</span> <span style=\"color: black; font-weight: regular;\">decided</span> <span style=\"color: black; font-weight: regular;\">to</span> <span style=\"color: black; font-weight: regular;\">go</span> <span style=\"color: black; font-weight: regular;\">to</span> <span style=\"color: black; font-weight: regular;\">Jerusalem</span> <span style=\"color: black; font-weight: regular;\">.</span>"
      ],
      "text/plain": [
       "<IPython.core.display.HTML object>"
      ]
     },
     "metadata": {},
     "output_type": "display_data"
    },
    {
     "data": {
      "text/html": [
       "<span style=\"color: black; font-weight: regular;\">He</span> <span style=\"color: black; font-weight: regular;\">decided</span> <span style=\"color: black; font-weight: regular;\">to</span> <span style=\"color: black; font-weight: regular;\">go</span> <span style=\"color: black; font-weight: regular;\">to</span> <span style=\"color: black; font-weight: regular;\">Jerusalem</span> <span style=\"color: black; font-weight: regular;\">.</span> <span style=\"color: black; font-weight: regular;\">The</span> <span style=\"color: black; font-weight: regular;\">time</span> <span style=\"color: black; font-weight: regular;\">was</span> <span style=\"color: black; font-weight: regular;\">coming</span> <span style=\"color: black; font-weight: regular;\">near</span> <span style=\"color: black; font-weight: regular;\">when</span> <span style=\"color: black; font-weight: regular;\">Jesus</span> <span style=\"color: black; font-weight: regular;\">would</span> <span style=\"color: black; font-weight: regular;\">leave</span> <span style=\"color: black; font-weight: regular;\">and</span> <span style=\"color: black; font-weight: regular;\">go</span> <span style=\"color: black; font-weight: regular;\">back</span> <span style=\"color: black; font-weight: regular;\">to</span> <span style=\"color: black; font-weight: regular;\">heaven</span> <span style=\"color: black; font-weight: regular;\">.</span>"
      ],
      "text/plain": [
       "<IPython.core.display.HTML object>"
      ]
     },
     "metadata": {},
     "output_type": "display_data"
    },
    {
     "name": "stdout",
     "output_type": "stream",
     "text": [
      "---\n"
     ]
    },
    {
     "data": {
      "text/html": [
       "<span style=\"color: black; font-weight: regular;\">But</span> <span style=\"color: black; font-weight: regular;\">you</span> <span style=\"color: black; font-weight: regular;\">know</span> <span style=\"color: blue; font-weight: bold;\">I</span> <span style=\"color: black; font-weight: regular;\">always</span> <span style=\"color: black; font-weight: regular;\">worried</span> <span style=\"color: black; font-weight: regular;\">you</span> <span style=\"color: black; font-weight: regular;\">know</span> <span style=\"color: black; font-weight: regular;\">even</span> <span style=\"color: black; font-weight: regular;\">after</span> <span style=\"color: black; font-weight: regular;\">you</span> <span style=\"color: black; font-weight: regular;\">left</span> <span style=\"color: blue; font-weight: bold;\">I</span> <span style=\"color: black; font-weight: regular;\">said</span> <span style=\"color: black; font-weight: regular;\">,</span> <span style=\"color: blue; font-weight: bold;\">I</span> <span style=\"color: black; font-weight: regular;\">just</span> <span style=\"color: black; font-weight: regular;\">hope</span> <span style=\"color: black; font-weight: regular;\">Arlita</span> <span style=\"color: black; font-weight: regular;\">knows</span> <span style=\"color: black; font-weight: regular;\">that</span> <span style=\"color: black; font-weight: regular;\">you</span> <span style=\"color: black; font-weight: regular;\">know</span> <span style=\"color: blue; font-weight: bold;\">I</span> <span style=\"color: black; font-weight: regular;\">tried</span> <span style=\"color: blue; font-weight: bold;\">my</span> <span style=\"color: black; font-weight: regular;\">best</span> <span style=\"color: black; font-weight: regular;\">you</span> <span style=\"color: black; font-weight: regular;\">know</span>"
      ],
      "text/plain": [
       "<IPython.core.display.HTML object>"
      ]
     },
     "metadata": {},
     "output_type": "display_data"
    },
    {
     "data": {
      "text/html": [
       "<span style=\"color: black; font-weight: regular;\">you</span> <span style=\"color: black; font-weight: regular;\">know</span> <span style=\"color: black; font-weight: regular;\">even</span> <span style=\"color: black; font-weight: regular;\">after</span> <span style=\"color: black; font-weight: regular;\">you</span> <span style=\"color: black; font-weight: regular;\">left</span> <span style=\"color: blue; font-weight: bold;\">I</span> <span style=\"color: black; font-weight: regular;\">said</span> <span style=\"color: black; font-weight: regular;\">,</span> <span style=\"color: blue; font-weight: bold;\">I</span> <span style=\"color: black; font-weight: regular;\">just</span> <span style=\"color: black; font-weight: regular;\">hope</span> <span style=\"color: black; font-weight: regular;\">Arlita</span> <span style=\"color: black; font-weight: regular;\">knows</span> <span style=\"color: black; font-weight: regular;\">that</span> <span style=\"color: black; font-weight: regular;\">you</span> <span style=\"color: black; font-weight: regular;\">know</span> <span style=\"color: blue; font-weight: bold;\">I</span> <span style=\"color: black; font-weight: regular;\">tried</span> <span style=\"color: blue; font-weight: bold;\">my</span> <span style=\"color: black; font-weight: regular;\">best</span> <span style=\"color: black; font-weight: regular;\">you</span> <span style=\"color: black; font-weight: regular;\">know</span> <span style=\"color: black; font-weight: regular;\">But</span> <span style=\"color: black; font-weight: regular;\">you</span> <span style=\"color: black; font-weight: regular;\">know</span> <span style=\"color: blue; font-weight: bold;\">I</span> <span style=\"color: black; font-weight: regular;\">always</span> <span style=\"color: black; font-weight: regular;\">worried</span>"
      ],
      "text/plain": [
       "<IPython.core.display.HTML object>"
      ]
     },
     "metadata": {},
     "output_type": "display_data"
    },
    {
     "name": "stdout",
     "output_type": "stream",
     "text": [
      "---\n"
     ]
    },
    {
     "data": {
      "text/html": [
       "<span style=\"color: black; font-weight: regular;\">Then</span> <span style=\"color: blue; font-weight: bold;\">he</span> <span style=\"color: black; font-weight: regular;\">said</span> <span style=\"color: black; font-weight: regular;\">to</span> <span style=\"color: black; font-weight: regular;\">the</span> <span style=\"color: black; font-weight: regular;\">followers</span> <span style=\"color: black; font-weight: regular;\">,</span> <span style=\"color: black; font-weight: regular;\">``</span> <span style=\"color: black; font-weight: regular;\">Whoever</span> <span style=\"color: black; font-weight: regular;\">accepts</span> <span style=\"color: black; font-weight: regular;\">a</span> <span style=\"color: black; font-weight: regular;\">little</span> <span style=\"color: black; font-weight: regular;\">child</span> <span style=\"color: black; font-weight: regular;\">like</span> <span style=\"color: black; font-weight: regular;\">this</span> <span style=\"color: black; font-weight: regular;\">in</span> <span style=\"color: blue; font-weight: bold;\">my</span> <span style=\"color: black; font-weight: regular;\">name</span> <span style=\"color: black; font-weight: regular;\">is</span> <span style=\"color: black; font-weight: regular;\">accepting</span> <span style=\"color: blue; font-weight: bold;\">me</span> <span style=\"color: black; font-weight: regular;\">.</span> <span style=\"color: black; font-weight: regular;\">And</span> <span style=\"color: black; font-weight: regular;\">anyone</span> <span style=\"color: black; font-weight: regular;\">who</span> <span style=\"color: black; font-weight: regular;\">accepts</span> <span style=\"color: blue; font-weight: bold;\">me</span> <span style=\"color: black; font-weight: regular;\">is</span> <span style=\"color: black; font-weight: regular;\">also</span> <span style=\"color: black; font-weight: regular;\">accepting</span> <span style=\"color: black; font-weight: regular;\">the</span> <span style=\"color: black; font-weight: regular;\">one</span> <span style=\"color: black; font-weight: regular;\">who</span> <span style=\"color: black; font-weight: regular;\">sent</span> <span style=\"color: blue; font-weight: bold;\">me</span> <span style=\"color: black; font-weight: regular;\">.</span>"
      ],
      "text/plain": [
       "<IPython.core.display.HTML object>"
      ]
     },
     "metadata": {},
     "output_type": "display_data"
    },
    {
     "data": {
      "text/html": [
       "<span style=\"color: black; font-weight: regular;\">And</span> <span style=\"color: black; font-weight: regular;\">anyone</span> <span style=\"color: black; font-weight: regular;\">who</span> <span style=\"color: black; font-weight: regular;\">accepts</span> <span style=\"color: blue; font-weight: bold;\">me</span> <span style=\"color: black; font-weight: regular;\">is</span> <span style=\"color: black; font-weight: regular;\">also</span> <span style=\"color: black; font-weight: regular;\">accepting</span> <span style=\"color: black; font-weight: regular;\">the</span> <span style=\"color: black; font-weight: regular;\">one</span> <span style=\"color: black; font-weight: regular;\">who</span> <span style=\"color: black; font-weight: regular;\">sent</span> <span style=\"color: blue; font-weight: bold;\">me</span> <span style=\"color: black; font-weight: regular;\">.</span> <span style=\"color: black; font-weight: regular;\">Then</span> <span style=\"color: black; font-weight: regular;\">he</span> <span style=\"color: black; font-weight: regular;\">said</span> <span style=\"color: black; font-weight: regular;\">to</span> <span style=\"color: black; font-weight: regular;\">the</span> <span style=\"color: black; font-weight: regular;\">followers</span> <span style=\"color: black; font-weight: regular;\">,</span> <span style=\"color: black; font-weight: regular;\">``</span> <span style=\"color: black; font-weight: regular;\">Whoever</span> <span style=\"color: black; font-weight: regular;\">accepts</span> <span style=\"color: black; font-weight: regular;\">a</span> <span style=\"color: black; font-weight: regular;\">little</span> <span style=\"color: black; font-weight: regular;\">child</span> <span style=\"color: black; font-weight: regular;\">like</span> <span style=\"color: black; font-weight: regular;\">this</span> <span style=\"color: black; font-weight: regular;\">in</span> <span style=\"color: blue; font-weight: bold;\">my</span> <span style=\"color: black; font-weight: regular;\">name</span> <span style=\"color: black; font-weight: regular;\">is</span> <span style=\"color: black; font-weight: regular;\">accepting</span> <span style=\"color: blue; font-weight: bold;\">me</span> <span style=\"color: black; font-weight: regular;\">.</span>"
      ],
      "text/plain": [
       "<IPython.core.display.HTML object>"
      ]
     },
     "metadata": {},
     "output_type": "display_data"
    },
    {
     "name": "stdout",
     "output_type": "stream",
     "text": [
      "---\n"
     ]
    },
    {
     "data": {
      "text/html": [
       "<span style=\"color: black; font-weight: regular;\">And</span> <span style=\"color: blue; font-weight: bold;\">he</span> <span style=\"color: black; font-weight: regular;\">'s</span> <span style=\"color: black; font-weight: regular;\">had</span> <span style=\"color: black; font-weight: regular;\">Well</span> <span style=\"color: blue; font-weight: bold;\">he</span> <span style=\"color: black; font-weight: regular;\">'s</span> <span style=\"color: black; font-weight: regular;\">working</span> <span style=\"color: black; font-weight: regular;\">for</span> <span style=\"color: black; font-weight: regular;\">an</span> <span style=\"color: black; font-weight: regular;\">American</span> <span style=\"color: black; font-weight: regular;\">firm</span> <span style=\"color: black; font-weight: regular;\">over</span> <span style=\"color: black; font-weight: regular;\">here</span> <span style=\"color: black; font-weight: regular;\">,</span>"
      ],
      "text/plain": [
       "<IPython.core.display.HTML object>"
      ]
     },
     "metadata": {},
     "output_type": "display_data"
    },
    {
     "data": {
      "text/html": [
       "<span style=\"color: black; font-weight: regular;\">Well</span> <span style=\"color: blue; font-weight: bold;\">he</span> <span style=\"color: black; font-weight: regular;\">'s</span> <span style=\"color: black; font-weight: regular;\">working</span> <span style=\"color: black; font-weight: regular;\">for</span> <span style=\"color: black; font-weight: regular;\">an</span> <span style=\"color: black; font-weight: regular;\">American</span> <span style=\"color: black; font-weight: regular;\">firm</span> <span style=\"color: black; font-weight: regular;\">over</span> <span style=\"color: black; font-weight: regular;\">here</span> <span style=\"color: black; font-weight: regular;\">,</span> <span style=\"color: black; font-weight: regular;\">And</span> <span style=\"color: blue; font-weight: bold;\">he</span> <span style=\"color: black; font-weight: regular;\">'s</span> <span style=\"color: black; font-weight: regular;\">had</span>"
      ],
      "text/plain": [
       "<IPython.core.display.HTML object>"
      ]
     },
     "metadata": {},
     "output_type": "display_data"
    },
    {
     "name": "stdout",
     "output_type": "stream",
     "text": [
      "---\n"
     ]
    },
    {
     "data": {
      "text/html": [
       "<span style=\"color: black; font-weight: regular;\">you</span> <span style=\"color: black; font-weight: regular;\">know</span> <span style=\"color: black; font-weight: regular;\">them</span> <span style=\"color: black; font-weight: regular;\">/</span> <span style=\"color: black; font-weight: regular;\">.</span> <span style=\"color: black; font-weight: regular;\">and</span> <span style=\"color: black; font-weight: regular;\">yet</span> <span style=\"color: black; font-weight: regular;\">a</span> <span style=\"color: black; font-weight: regular;\">few</span> <span style=\"color: black; font-weight: regular;\">weeks</span> <span style=\"color: black; font-weight: regular;\">before</span> <span style=\"color: black; font-weight: regular;\">the</span> <span style=\"color: black; font-weight: regular;\">missile</span> <span style=\"color: black; font-weight: regular;\">launch</span> <span style=\"color: blue; font-weight: bold;\">you</span> <span style=\"color: black; font-weight: regular;\">said</span> <span style=\"color: blue; font-weight: bold;\">I</span> <span style=\"color: black; font-weight: regular;\">do</span> <span style=\"color: black; font-weight: regular;\">n't</span> <span style=\"color: black; font-weight: regular;\">think</span> <span style=\"color: black; font-weight: regular;\">they</span> <span style=\"color: black; font-weight: regular;\">'re</span> <span style=\"color: black; font-weight: regular;\">going</span> <span style=\"color: black; font-weight: regular;\">to</span> <span style=\"color: black; font-weight: regular;\">test</span> <span style=\"color: black; font-weight: regular;\">/</span> <span style=\"color: black; font-weight: regular;\">.</span>"
      ],
      "text/plain": [
       "<IPython.core.display.HTML object>"
      ]
     },
     "metadata": {},
     "output_type": "display_data"
    },
    {
     "data": {
      "text/html": [
       "<span style=\"color: black; font-weight: regular;\">and</span> <span style=\"color: black; font-weight: regular;\">yet</span> <span style=\"color: black; font-weight: regular;\">a</span> <span style=\"color: black; font-weight: regular;\">few</span> <span style=\"color: black; font-weight: regular;\">weeks</span> <span style=\"color: black; font-weight: regular;\">before</span> <span style=\"color: black; font-weight: regular;\">the</span> <span style=\"color: black; font-weight: regular;\">missile</span> <span style=\"color: black; font-weight: regular;\">launch</span> <span style=\"color: blue; font-weight: bold;\">you</span> <span style=\"color: black; font-weight: regular;\">said</span> <span style=\"color: blue; font-weight: bold;\">I</span> <span style=\"color: black; font-weight: regular;\">do</span> <span style=\"color: black; font-weight: regular;\">n't</span> <span style=\"color: black; font-weight: regular;\">think</span> <span style=\"color: green; font-weight: bold;\">they</span> <span style=\"color: black; font-weight: regular;\">'re</span> <span style=\"color: black; font-weight: regular;\">going</span> <span style=\"color: black; font-weight: regular;\">to</span> <span style=\"color: black; font-weight: regular;\">test</span> <span style=\"color: black; font-weight: regular;\">/</span> <span style=\"color: black; font-weight: regular;\">.</span> <span style=\"color: black; font-weight: regular;\">you</span> <span style=\"color: black; font-weight: regular;\">know</span> <span style=\"color: green; font-weight: bold;\">them</span> <span style=\"color: black; font-weight: regular;\">/</span> <span style=\"color: black; font-weight: regular;\">.</span>"
      ],
      "text/plain": [
       "<IPython.core.display.HTML object>"
      ]
     },
     "metadata": {},
     "output_type": "display_data"
    },
    {
     "name": "stdout",
     "output_type": "stream",
     "text": [
      "---\n"
     ]
    },
    {
     "data": {
      "text/html": [
       "<span style=\"color: black; font-weight: regular;\">As</span> <span style=\"color: black; font-weight: regular;\">long</span> <span style=\"color: black; font-weight: regular;\">as</span> <span style=\"color: black; font-weight: regular;\">you</span> <span style=\"color: black; font-weight: regular;\">can</span> <span style=\"color: black; font-weight: regular;\">accept</span> <span style=\"color: black; font-weight: regular;\">yourself</span> <span style=\"color: black; font-weight: regular;\">,</span> <span style=\"color: black; font-weight: regular;\">then</span> <span style=\"color: black; font-weight: regular;\">everything</span> <span style=\"color: black; font-weight: regular;\">is</span> <span style=\"color: black; font-weight: regular;\">all</span> <span style=\"color: black; font-weight: regular;\">right</span> <span style=\"color: black; font-weight: regular;\">.</span> <span style=\"color: black; font-weight: regular;\">As</span> <span style=\"color: black; font-weight: regular;\">for</span> <span style=\"color: black; font-weight: regular;\">losing</span> <span style=\"color: black; font-weight: regular;\">your</span> <span style=\"color: black; font-weight: regular;\">job</span> <span style=\"color: black; font-weight: regular;\">in</span> <span style=\"color: black; font-weight: regular;\">middle</span> <span style=\"color: black; font-weight: regular;\">age</span> <span style=\"color: black; font-weight: regular;\">,</span> <span style=\"color: black; font-weight: regular;\">some</span> <span style=\"color: black; font-weight: regular;\">people</span> <span style=\"color: black; font-weight: regular;\">make</span> <span style=\"color: black; font-weight: regular;\">NT</span> <span style=\"color: black; font-weight: regular;\">$</span> <span style=\"color: black; font-weight: regular;\">100,000</span> <span style=\"color: black; font-weight: regular;\">and</span> <span style=\"color: black; font-weight: regular;\">it</span> <span style=\"color: black; font-weight: regular;\">'s</span> <span style=\"color: black; font-weight: regular;\">not</span> <span style=\"color: black; font-weight: regular;\">enough</span> <span style=\"color: black; font-weight: regular;\">.</span>"
      ],
      "text/plain": [
       "<IPython.core.display.HTML object>"
      ]
     },
     "metadata": {},
     "output_type": "display_data"
    },
    {
     "data": {
      "text/html": [
       "<span style=\"color: black; font-weight: regular;\">As</span> <span style=\"color: black; font-weight: regular;\">for</span> <span style=\"color: black; font-weight: regular;\">losing</span> <span style=\"color: black; font-weight: regular;\">your</span> <span style=\"color: black; font-weight: regular;\">job</span> <span style=\"color: black; font-weight: regular;\">in</span> <span style=\"color: black; font-weight: regular;\">middle</span> <span style=\"color: black; font-weight: regular;\">age</span> <span style=\"color: black; font-weight: regular;\">,</span> <span style=\"color: black; font-weight: regular;\">some</span> <span style=\"color: black; font-weight: regular;\">people</span> <span style=\"color: black; font-weight: regular;\">make</span> <span style=\"color: black; font-weight: regular;\">NT</span> <span style=\"color: black; font-weight: regular;\">$</span> <span style=\"color: black; font-weight: regular;\">100,000</span> <span style=\"color: black; font-weight: regular;\">and</span> <span style=\"color: black; font-weight: regular;\">it</span> <span style=\"color: black; font-weight: regular;\">'s</span> <span style=\"color: black; font-weight: regular;\">not</span> <span style=\"color: black; font-weight: regular;\">enough</span> <span style=\"color: black; font-weight: regular;\">.</span> <span style=\"color: black; font-weight: regular;\">As</span> <span style=\"color: black; font-weight: regular;\">long</span> <span style=\"color: black; font-weight: regular;\">as</span> <span style=\"color: black; font-weight: regular;\">you</span> <span style=\"color: black; font-weight: regular;\">can</span> <span style=\"color: black; font-weight: regular;\">accept</span> <span style=\"color: black; font-weight: regular;\">yourself</span> <span style=\"color: black; font-weight: regular;\">,</span> <span style=\"color: black; font-weight: regular;\">then</span> <span style=\"color: black; font-weight: regular;\">everything</span> <span style=\"color: black; font-weight: regular;\">is</span> <span style=\"color: black; font-weight: regular;\">all</span> <span style=\"color: black; font-weight: regular;\">right</span> <span style=\"color: black; font-weight: regular;\">.</span>"
      ],
      "text/plain": [
       "<IPython.core.display.HTML object>"
      ]
     },
     "metadata": {},
     "output_type": "display_data"
    },
    {
     "name": "stdout",
     "output_type": "stream",
     "text": [
      "---\n"
     ]
    },
    {
     "data": {
      "text/html": [
       "<span style=\"color: black; font-weight: regular;\">Some</span> <span style=\"color: black; font-weight: regular;\">in</span> <span style=\"color: black; font-weight: regular;\">the</span> <span style=\"color: black; font-weight: regular;\">industry</span> <span style=\"color: black; font-weight: regular;\">are</span> <span style=\"color: black; font-weight: regular;\">skeptical</span> <span style=\"color: black; font-weight: regular;\">.</span> <span style=\"color: black; font-weight: regular;\">``</span> <span style=\"color: black; font-weight: regular;\">I</span> <span style=\"color: black; font-weight: regular;\">find</span> <span style=\"color: black; font-weight: regular;\">it</span> <span style=\"color: black; font-weight: regular;\">hard</span> <span style=\"color: black; font-weight: regular;\">to</span> <span style=\"color: black; font-weight: regular;\">conceive</span> <span style=\"color: black; font-weight: regular;\">of</span> <span style=\"color: black; font-weight: regular;\">people</span> <span style=\"color: black; font-weight: regular;\">switching</span> <span style=\"color: black; font-weight: regular;\">over</span> <span style=\"color: black; font-weight: regular;\">to</span> <span style=\"color: black; font-weight: regular;\">CNN</span> <span style=\"color: black; font-weight: regular;\">for</span> <span style=\"color: black; font-weight: regular;\">what</span> <span style=\"color: black; font-weight: regular;\">,</span> <span style=\"color: black; font-weight: regular;\">at</span> <span style=\"color: black; font-weight: regular;\">least</span> <span style=\"color: black; font-weight: regular;\">in</span> <span style=\"color: black; font-weight: regular;\">the</span> <span style=\"color: black; font-weight: regular;\">public</span> <span style=\"color: black; font-weight: regular;\">'s</span> <span style=\"color: black; font-weight: regular;\">mind</span> <span style=\"color: black; font-weight: regular;\">,</span> <span style=\"color: black; font-weight: regular;\">is</span> <span style=\"color: black; font-weight: regular;\">the</span> <span style=\"color: black; font-weight: regular;\">same</span> <span style=\"color: black; font-weight: regular;\">news</span> <span style=\"color: black; font-weight: regular;\">,</span> <span style=\"color: black; font-weight: regular;\">''</span> <span style=\"color: black; font-weight: regular;\">says</span> <span style=\"color: black; font-weight: regular;\">Reuven</span> <span style=\"color: black; font-weight: regular;\">Frank</span> <span style=\"color: black; font-weight: regular;\">,</span> <span style=\"color: black; font-weight: regular;\">the</span> <span style=\"color: black; font-weight: regular;\">former</span> <span style=\"color: black; font-weight: regular;\">two</span> <span style=\"color: black; font-weight: regular;\">-</span> <span style=\"color: black; font-weight: regular;\">time</span> <span style=\"color: black; font-weight: regular;\">president</span> <span style=\"color: black; font-weight: regular;\">of</span> <span style=\"color: black; font-weight: regular;\">NBC</span> <span style=\"color: black; font-weight: regular;\">News</span> <span style=\"color: black; font-weight: regular;\">and</span> <span style=\"color: black; font-weight: regular;\">creator</span> <span style=\"color: black; font-weight: regular;\">of</span> <span style=\"color: black; font-weight: regular;\">the</span> <span style=\"color: black; font-weight: regular;\">Huntley</span> <span style=\"color: black; font-weight: regular;\">-</span> <span style=\"color: black; font-weight: regular;\">Brinkley</span> <span style=\"color: black; font-weight: regular;\">Report</span> <span style=\"color: black; font-weight: regular;\">.</span>"
      ],
      "text/plain": [
       "<IPython.core.display.HTML object>"
      ]
     },
     "metadata": {},
     "output_type": "display_data"
    },
    {
     "data": {
      "text/html": [
       "<span style=\"color: black; font-weight: regular;\">``</span> <span style=\"color: black; font-weight: regular;\">I</span> <span style=\"color: black; font-weight: regular;\">find</span> <span style=\"color: black; font-weight: regular;\">it</span> <span style=\"color: black; font-weight: regular;\">hard</span> <span style=\"color: black; font-weight: regular;\">to</span> <span style=\"color: black; font-weight: regular;\">conceive</span> <span style=\"color: black; font-weight: regular;\">of</span> <span style=\"color: black; font-weight: regular;\">people</span> <span style=\"color: black; font-weight: regular;\">switching</span> <span style=\"color: black; font-weight: regular;\">over</span> <span style=\"color: black; font-weight: regular;\">to</span> <span style=\"color: black; font-weight: regular;\">CNN</span> <span style=\"color: black; font-weight: regular;\">for</span> <span style=\"color: black; font-weight: regular;\">what</span> <span style=\"color: black; font-weight: regular;\">,</span> <span style=\"color: black; font-weight: regular;\">at</span> <span style=\"color: black; font-weight: regular;\">least</span> <span style=\"color: black; font-weight: regular;\">in</span> <span style=\"color: black; font-weight: regular;\">the</span> <span style=\"color: black; font-weight: regular;\">public</span> <span style=\"color: black; font-weight: regular;\">'s</span> <span style=\"color: black; font-weight: regular;\">mind</span> <span style=\"color: black; font-weight: regular;\">,</span> <span style=\"color: black; font-weight: regular;\">is</span> <span style=\"color: black; font-weight: regular;\">the</span> <span style=\"color: black; font-weight: regular;\">same</span> <span style=\"color: black; font-weight: regular;\">news</span> <span style=\"color: black; font-weight: regular;\">,</span> <span style=\"color: black; font-weight: regular;\">''</span> <span style=\"color: black; font-weight: regular;\">says</span> <span style=\"color: black; font-weight: regular;\">Reuven</span> <span style=\"color: black; font-weight: regular;\">Frank</span> <span style=\"color: black; font-weight: regular;\">,</span> <span style=\"color: black; font-weight: regular;\">the</span> <span style=\"color: black; font-weight: regular;\">former</span> <span style=\"color: black; font-weight: regular;\">two</span> <span style=\"color: black; font-weight: regular;\">-</span> <span style=\"color: black; font-weight: regular;\">time</span> <span style=\"color: black; font-weight: regular;\">president</span> <span style=\"color: black; font-weight: regular;\">of</span> <span style=\"color: black; font-weight: regular;\">NBC</span> <span style=\"color: black; font-weight: regular;\">News</span> <span style=\"color: black; font-weight: regular;\">and</span> <span style=\"color: black; font-weight: regular;\">creator</span> <span style=\"color: black; font-weight: regular;\">of</span> <span style=\"color: black; font-weight: regular;\">the</span> <span style=\"color: black; font-weight: regular;\">Huntley</span> <span style=\"color: black; font-weight: regular;\">-</span> <span style=\"color: black; font-weight: regular;\">Brinkley</span> <span style=\"color: black; font-weight: regular;\">Report</span> <span style=\"color: black; font-weight: regular;\">.</span> <span style=\"color: black; font-weight: regular;\">Some</span> <span style=\"color: black; font-weight: regular;\">in</span> <span style=\"color: black; font-weight: regular;\">the</span> <span style=\"color: black; font-weight: regular;\">industry</span> <span style=\"color: black; font-weight: regular;\">are</span> <span style=\"color: black; font-weight: regular;\">skeptical</span> <span style=\"color: black; font-weight: regular;\">.</span>"
      ],
      "text/plain": [
       "<IPython.core.display.HTML object>"
      ]
     },
     "metadata": {},
     "output_type": "display_data"
    },
    {
     "name": "stdout",
     "output_type": "stream",
     "text": [
      "---\n",
      "No candidate pairs after pruning.\n",
      "---\n"
     ]
    },
    {
     "data": {
      "text/html": [
       "<span style=\"color: black; font-weight: regular;\">Do</span> <span style=\"color: blue; font-weight: bold;\">you</span> <span style=\"color: black; font-weight: regular;\">deny</span> <span style=\"color: black; font-weight: regular;\">that</span> <span style=\"color: blue; font-weight: bold;\">you</span> <span style=\"color: black; font-weight: regular;\">had</span> <span style=\"color: black; font-weight: regular;\">intentions</span> <span style=\"color: black; font-weight: regular;\">to</span> <span style=\"color: black; font-weight: regular;\">manufacture</span> <span style=\"color: black; font-weight: regular;\">a</span> <span style=\"color: black; font-weight: regular;\">nuclear</span> <span style=\"color: black; font-weight: regular;\">bomb</span> <span style=\"color: black; font-weight: regular;\">?</span> <span style=\"color: black; font-weight: regular;\">Saddam</span> <span style=\"color: black; font-weight: regular;\">Hussein</span> <span style=\"color: black; font-weight: regular;\">:</span> <span style=\"color: green; font-weight: bold;\">We</span> <span style=\"color: black; font-weight: regular;\">have</span> <span style=\"color: black; font-weight: regular;\">had</span> <span style=\"color: black; font-weight: regular;\">no</span> <span style=\"color: black; font-weight: regular;\">weapons</span> <span style=\"color: black; font-weight: regular;\">of</span> <span style=\"color: black; font-weight: regular;\">mass</span> <span style=\"color: black; font-weight: regular;\">destruction</span> <span style=\"color: black; font-weight: regular;\">since</span> <span style=\"color: black; font-weight: regular;\">1991</span> <span style=\"color: black; font-weight: regular;\">,</span> <span style=\"color: green; font-weight: bold;\">we</span> <span style=\"color: black; font-weight: regular;\">were</span> <span style=\"color: black; font-weight: regular;\">truthful</span> <span style=\"color: black; font-weight: regular;\">when</span> <span style=\"color: green; font-weight: bold;\">we</span> <span style=\"color: black; font-weight: regular;\">spoke</span> <span style=\"color: black; font-weight: regular;\">with</span> <span style=\"color: black; font-weight: regular;\">the</span> <span style=\"color: black; font-weight: regular;\">international</span> <span style=\"color: black; font-weight: regular;\">inspection</span> <span style=\"color: black; font-weight: regular;\">mission</span> <span style=\"color: black; font-weight: regular;\">,</span> <span style=\"color: black; font-weight: regular;\">we</span> <span style=\"color: black; font-weight: regular;\">were</span> <span style=\"color: black; font-weight: regular;\">truthful</span> <span style=\"color: black; font-weight: regular;\">in</span> <span style=\"color: black; font-weight: regular;\">our</span> <span style=\"color: black; font-weight: regular;\">letters</span> <span style=\"color: black; font-weight: regular;\">to</span> <span style=\"color: black; font-weight: regular;\">Kofi</span> <span style=\"color: black; font-weight: regular;\">Annan</span> <span style=\"color: black; font-weight: regular;\">,</span> <span style=\"color: red; font-weight: bold;\">you</span> <span style=\"color: black; font-weight: regular;\">knew</span> <span style=\"color: black; font-weight: regular;\">these</span> <span style=\"color: black; font-weight: regular;\">facts</span> <span style=\"color: black; font-weight: regular;\">but</span> <span style=\"color: red; font-weight: bold;\">you</span> <span style=\"color: black; font-weight: regular;\">were</span> <span style=\"color: black; font-weight: regular;\">looking</span> <span style=\"color: black; font-weight: regular;\">for</span> <span style=\"color: black; font-weight: regular;\">any</span> <span style=\"color: black; font-weight: regular;\">pretext</span> <span style=\"color: black; font-weight: regular;\">to</span> <span style=\"color: black; font-weight: regular;\">occupy</span> <span style=\"color: orange; font-weight: bold;\">Iraq</span> <span style=\"color: black; font-weight: regular;\">and</span> <span style=\"color: black; font-weight: regular;\">topple</span> <span style=\"color: orange; font-weight: bold;\">its</span> <span style=\"color: black; font-weight: regular;\">legitimate</span> <span style=\"color: black; font-weight: regular;\">authority</span> <span style=\"color: black; font-weight: regular;\">.</span>"
      ],
      "text/plain": [
       "<IPython.core.display.HTML object>"
      ]
     },
     "metadata": {},
     "output_type": "display_data"
    },
    {
     "data": {
      "text/html": [
       "<span style=\"color: black; font-weight: regular;\">Saddam</span> <span style=\"color: black; font-weight: regular;\">Hussein</span> <span style=\"color: black; font-weight: regular;\">:</span> <span style=\"color: blue; font-weight: bold;\">We</span> <span style=\"color: black; font-weight: regular;\">have</span> <span style=\"color: black; font-weight: regular;\">had</span> <span style=\"color: black; font-weight: regular;\">no</span> <span style=\"color: black; font-weight: regular;\">weapons</span> <span style=\"color: black; font-weight: regular;\">of</span> <span style=\"color: black; font-weight: regular;\">mass</span> <span style=\"color: black; font-weight: regular;\">destruction</span> <span style=\"color: black; font-weight: regular;\">since</span> <span style=\"color: black; font-weight: regular;\">1991</span> <span style=\"color: black; font-weight: regular;\">,</span> <span style=\"color: blue; font-weight: bold;\">we</span> <span style=\"color: black; font-weight: regular;\">were</span> <span style=\"color: black; font-weight: regular;\">truthful</span> <span style=\"color: black; font-weight: regular;\">when</span> <span style=\"color: blue; font-weight: bold;\">we</span> <span style=\"color: black; font-weight: regular;\">spoke</span> <span style=\"color: black; font-weight: regular;\">with</span> <span style=\"color: black; font-weight: regular;\">the</span> <span style=\"color: black; font-weight: regular;\">international</span> <span style=\"color: black; font-weight: regular;\">inspection</span> <span style=\"color: black; font-weight: regular;\">mission</span> <span style=\"color: black; font-weight: regular;\">,</span> <span style=\"color: black; font-weight: regular;\">we</span> <span style=\"color: black; font-weight: regular;\">were</span> <span style=\"color: black; font-weight: regular;\">truthful</span> <span style=\"color: black; font-weight: regular;\">in</span> <span style=\"color: black; font-weight: regular;\">our</span> <span style=\"color: black; font-weight: regular;\">letters</span> <span style=\"color: black; font-weight: regular;\">to</span> <span style=\"color: black; font-weight: regular;\">Kofi</span> <span style=\"color: black; font-weight: regular;\">Annan</span> <span style=\"color: black; font-weight: regular;\">,</span> <span style=\"color: green; font-weight: bold;\">you</span> <span style=\"color: black; font-weight: regular;\">knew</span> <span style=\"color: black; font-weight: regular;\">these</span> <span style=\"color: black; font-weight: regular;\">facts</span> <span style=\"color: black; font-weight: regular;\">but</span> <span style=\"color: green; font-weight: bold;\">you</span> <span style=\"color: black; font-weight: regular;\">were</span> <span style=\"color: black; font-weight: regular;\">looking</span> <span style=\"color: black; font-weight: regular;\">for</span> <span style=\"color: black; font-weight: regular;\">any</span> <span style=\"color: black; font-weight: regular;\">pretext</span> <span style=\"color: black; font-weight: regular;\">to</span> <span style=\"color: black; font-weight: regular;\">occupy</span> <span style=\"color: red; font-weight: bold;\">Iraq</span> <span style=\"color: black; font-weight: regular;\">and</span> <span style=\"color: black; font-weight: regular;\">topple</span> <span style=\"color: red; font-weight: bold;\">its</span> <span style=\"color: black; font-weight: regular;\">legitimate</span> <span style=\"color: black; font-weight: regular;\">authority</span> <span style=\"color: black; font-weight: regular;\">.</span> <span style=\"color: black; font-weight: regular;\">Do</span> <span style=\"color: orange; font-weight: bold;\">you</span> <span style=\"color: black; font-weight: regular;\">deny</span> <span style=\"color: black; font-weight: regular;\">that</span> <span style=\"color: orange; font-weight: bold;\">you</span> <span style=\"color: black; font-weight: regular;\">had</span> <span style=\"color: black; font-weight: regular;\">intentions</span> <span style=\"color: black; font-weight: regular;\">to</span> <span style=\"color: black; font-weight: regular;\">manufacture</span> <span style=\"color: black; font-weight: regular;\">a</span> <span style=\"color: black; font-weight: regular;\">nuclear</span> <span style=\"color: black; font-weight: regular;\">bomb</span> <span style=\"color: black; font-weight: regular;\">?</span>"
      ],
      "text/plain": [
       "<IPython.core.display.HTML object>"
      ]
     },
     "metadata": {},
     "output_type": "display_data"
    },
    {
     "name": "stdout",
     "output_type": "stream",
     "text": [
      "---\n"
     ]
    },
    {
     "data": {
      "text/html": [
       "<span style=\"color: black; font-weight: regular;\">The</span> <span style=\"color: black; font-weight: regular;\">court</span> <span style=\"color: black; font-weight: regular;\">ruled</span> <span style=\"color: black; font-weight: regular;\">this</span> <span style=\"color: black; font-weight: regular;\">senior</span> <span style=\"color: black; font-weight: regular;\">Libyan</span> <span style=\"color: black; font-weight: regular;\">intelligence</span> <span style=\"color: black; font-weight: regular;\">agent</span> <span style=\"color: black; font-weight: regular;\">planted</span> <span style=\"color: black; font-weight: regular;\">the</span> <span style=\"color: black; font-weight: regular;\">bomb</span> <span style=\"color: black; font-weight: regular;\">that</span> <span style=\"color: black; font-weight: regular;\">killed</span> <span style=\"color: black; font-weight: regular;\">270</span> <span style=\"color: black; font-weight: regular;\">,</span> <span style=\"color: black; font-weight: regular;\">mostly</span> <span style=\"color: black; font-weight: regular;\">Americans</span> <span style=\"color: black; font-weight: regular;\">,</span> <span style=\"color: black; font-weight: regular;\">when</span> <span style=\"color: black; font-weight: regular;\">the</span> <span style=\"color: black; font-weight: regular;\">plane</span> <span style=\"color: black; font-weight: regular;\">bound</span> <span style=\"color: black; font-weight: regular;\">for</span> <span style=\"color: black; font-weight: regular;\">New</span> <span style=\"color: black; font-weight: regular;\">York</span> <span style=\"color: black; font-weight: regular;\">exploded</span> <span style=\"color: black; font-weight: regular;\">over</span> <span style=\"color: black; font-weight: regular;\">Lockerbie</span> <span style=\"color: black; font-weight: regular;\">,</span> <span style=\"color: black; font-weight: regular;\">Scotland</span> <span style=\"color: black; font-weight: regular;\">.</span> <span style=\"color: black; font-weight: regular;\">Inside</span> <span style=\"color: black; font-weight: regular;\">the</span> <span style=\"color: black; font-weight: regular;\">courtroom</span> <span style=\"color: black; font-weight: regular;\">today</span> <span style=\"color: black; font-weight: regular;\">,</span> <span style=\"color: black; font-weight: regular;\">the</span> <span style=\"color: black; font-weight: regular;\">elation</span> <span style=\"color: black; font-weight: regular;\">overwhelming</span> <span style=\"color: black; font-weight: regular;\">.</span>"
      ],
      "text/plain": [
       "<IPython.core.display.HTML object>"
      ]
     },
     "metadata": {},
     "output_type": "display_data"
    },
    {
     "data": {
      "text/html": [
       "<span style=\"color: black; font-weight: regular;\">Inside</span> <span style=\"color: black; font-weight: regular;\">the</span> <span style=\"color: black; font-weight: regular;\">courtroom</span> <span style=\"color: black; font-weight: regular;\">today</span> <span style=\"color: black; font-weight: regular;\">,</span> <span style=\"color: black; font-weight: regular;\">the</span> <span style=\"color: black; font-weight: regular;\">elation</span> <span style=\"color: black; font-weight: regular;\">overwhelming</span> <span style=\"color: black; font-weight: regular;\">.</span> <span style=\"color: black; font-weight: regular;\">The</span> <span style=\"color: black; font-weight: regular;\">court</span> <span style=\"color: black; font-weight: regular;\">ruled</span> <span style=\"color: black; font-weight: regular;\">this</span> <span style=\"color: black; font-weight: regular;\">senior</span> <span style=\"color: black; font-weight: regular;\">Libyan</span> <span style=\"color: black; font-weight: regular;\">intelligence</span> <span style=\"color: black; font-weight: regular;\">agent</span> <span style=\"color: black; font-weight: regular;\">planted</span> <span style=\"color: black; font-weight: regular;\">the</span> <span style=\"color: black; font-weight: regular;\">bomb</span> <span style=\"color: black; font-weight: regular;\">that</span> <span style=\"color: black; font-weight: regular;\">killed</span> <span style=\"color: black; font-weight: regular;\">270</span> <span style=\"color: black; font-weight: regular;\">,</span> <span style=\"color: black; font-weight: regular;\">mostly</span> <span style=\"color: black; font-weight: regular;\">Americans</span> <span style=\"color: black; font-weight: regular;\">,</span> <span style=\"color: black; font-weight: regular;\">when</span> <span style=\"color: black; font-weight: regular;\">the</span> <span style=\"color: black; font-weight: regular;\">plane</span> <span style=\"color: black; font-weight: regular;\">bound</span> <span style=\"color: black; font-weight: regular;\">for</span> <span style=\"color: black; font-weight: regular;\">New</span> <span style=\"color: black; font-weight: regular;\">York</span> <span style=\"color: black; font-weight: regular;\">exploded</span> <span style=\"color: black; font-weight: regular;\">over</span> <span style=\"color: black; font-weight: regular;\">Lockerbie</span> <span style=\"color: black; font-weight: regular;\">,</span> <span style=\"color: black; font-weight: regular;\">Scotland</span> <span style=\"color: black; font-weight: regular;\">.</span>"
      ],
      "text/plain": [
       "<IPython.core.display.HTML object>"
      ]
     },
     "metadata": {},
     "output_type": "display_data"
    },
    {
     "name": "stdout",
     "output_type": "stream",
     "text": [
      "---\n"
     ]
    },
    {
     "data": {
      "text/html": [
       "<span style=\"color: black; font-weight: regular;\">If</span> <span style=\"color: black; font-weight: regular;\">the</span> <span style=\"color: black; font-weight: regular;\">dollar</span> <span style=\"color: black; font-weight: regular;\">stays</span> <span style=\"color: black; font-weight: regular;\">weak</span> <span style=\"color: black; font-weight: regular;\">,</span> <span style=\"color: blue; font-weight: bold;\">he</span> <span style=\"color: black; font-weight: regular;\">says</span> <span style=\"color: black; font-weight: regular;\">,</span> <span style=\"color: black; font-weight: regular;\">that</span> <span style=\"color: black; font-weight: regular;\">will</span> <span style=\"color: black; font-weight: regular;\">add</span> <span style=\"color: black; font-weight: regular;\">to</span> <span style=\"color: black; font-weight: regular;\">inflationary</span> <span style=\"color: black; font-weight: regular;\">pressures</span> <span style=\"color: black; font-weight: regular;\">in</span> <span style=\"color: black; font-weight: regular;\">the</span> <span style=\"color: black; font-weight: regular;\">U.S.</span> <span style=\"color: black; font-weight: regular;\">and</span> <span style=\"color: black; font-weight: regular;\">make</span> <span style=\"color: black; font-weight: regular;\">it</span> <span style=\"color: black; font-weight: regular;\">hard</span> <span style=\"color: black; font-weight: regular;\">for</span> <span style=\"color: black; font-weight: regular;\">the</span> <span style=\"color: black; font-weight: regular;\">Federal</span> <span style=\"color: black; font-weight: regular;\">Reserve</span> <span style=\"color: black; font-weight: regular;\">Board</span> <span style=\"color: black; font-weight: regular;\">to</span> <span style=\"color: black; font-weight: regular;\">ease</span> <span style=\"color: black; font-weight: regular;\">interest</span> <span style=\"color: black; font-weight: regular;\">rates</span> <span style=\"color: black; font-weight: regular;\">very</span> <span style=\"color: black; font-weight: regular;\">much</span> <span style=\"color: black; font-weight: regular;\">.</span> <span style=\"color: blue; font-weight: bold;\">Mr.</span> <span style=\"color: blue; font-weight: bold;\">Rogers</span> <span style=\"color: black; font-weight: regular;\">wo</span> <span style=\"color: black; font-weight: regular;\">n't</span> <span style=\"color: black; font-weight: regular;\">decide</span> <span style=\"color: black; font-weight: regular;\">what</span> <span style=\"color: black; font-weight: regular;\">to</span> <span style=\"color: black; font-weight: regular;\">do</span> <span style=\"color: black; font-weight: regular;\">today</span> <span style=\"color: black; font-weight: regular;\">until</span> <span style=\"color: blue; font-weight: bold;\">he</span> <span style=\"color: black; font-weight: regular;\">sees</span> <span style=\"color: black; font-weight: regular;\">how</span> <span style=\"color: black; font-weight: regular;\">the</span> <span style=\"color: black; font-weight: regular;\">London</span> <span style=\"color: black; font-weight: regular;\">and</span> <span style=\"color: black; font-weight: regular;\">Tokyo</span> <span style=\"color: black; font-weight: regular;\">markets</span> <span style=\"color: black; font-weight: regular;\">go</span> <span style=\"color: black; font-weight: regular;\">.</span>"
      ],
      "text/plain": [
       "<IPython.core.display.HTML object>"
      ]
     },
     "metadata": {},
     "output_type": "display_data"
    },
    {
     "data": {
      "text/html": [
       "<span style=\"color: blue; font-weight: bold;\">Mr.</span> <span style=\"color: blue; font-weight: bold;\">Rogers</span> <span style=\"color: black; font-weight: regular;\">wo</span> <span style=\"color: black; font-weight: regular;\">n't</span> <span style=\"color: black; font-weight: regular;\">decide</span> <span style=\"color: black; font-weight: regular;\">what</span> <span style=\"color: black; font-weight: regular;\">to</span> <span style=\"color: black; font-weight: regular;\">do</span> <span style=\"color: black; font-weight: regular;\">today</span> <span style=\"color: black; font-weight: regular;\">until</span> <span style=\"color: blue; font-weight: bold;\">he</span> <span style=\"color: black; font-weight: regular;\">sees</span> <span style=\"color: black; font-weight: regular;\">how</span> <span style=\"color: black; font-weight: regular;\">the</span> <span style=\"color: black; font-weight: regular;\">London</span> <span style=\"color: black; font-weight: regular;\">and</span> <span style=\"color: black; font-weight: regular;\">Tokyo</span> <span style=\"color: black; font-weight: regular;\">markets</span> <span style=\"color: black; font-weight: regular;\">go</span> <span style=\"color: black; font-weight: regular;\">.</span> <span style=\"color: black; font-weight: regular;\">If</span> <span style=\"color: black; font-weight: regular;\">the</span> <span style=\"color: black; font-weight: regular;\">dollar</span> <span style=\"color: black; font-weight: regular;\">stays</span> <span style=\"color: black; font-weight: regular;\">weak</span> <span style=\"color: black; font-weight: regular;\">,</span> <span style=\"color: blue; font-weight: bold;\">he</span> <span style=\"color: black; font-weight: regular;\">says</span> <span style=\"color: black; font-weight: regular;\">,</span> <span style=\"color: black; font-weight: regular;\">that</span> <span style=\"color: black; font-weight: regular;\">will</span> <span style=\"color: black; font-weight: regular;\">add</span> <span style=\"color: black; font-weight: regular;\">to</span> <span style=\"color: black; font-weight: regular;\">inflationary</span> <span style=\"color: black; font-weight: regular;\">pressures</span> <span style=\"color: black; font-weight: regular;\">in</span> <span style=\"color: black; font-weight: regular;\">the</span> <span style=\"color: black; font-weight: regular;\">U.S.</span> <span style=\"color: black; font-weight: regular;\">and</span> <span style=\"color: black; font-weight: regular;\">make</span> <span style=\"color: black; font-weight: regular;\">it</span> <span style=\"color: black; font-weight: regular;\">hard</span> <span style=\"color: black; font-weight: regular;\">for</span> <span style=\"color: black; font-weight: regular;\">the</span> <span style=\"color: black; font-weight: regular;\">Federal</span> <span style=\"color: black; font-weight: regular;\">Reserve</span> <span style=\"color: black; font-weight: regular;\">Board</span> <span style=\"color: black; font-weight: regular;\">to</span> <span style=\"color: black; font-weight: regular;\">ease</span> <span style=\"color: black; font-weight: regular;\">interest</span> <span style=\"color: black; font-weight: regular;\">rates</span> <span style=\"color: black; font-weight: regular;\">very</span> <span style=\"color: black; font-weight: regular;\">much</span> <span style=\"color: black; font-weight: regular;\">.</span>"
      ],
      "text/plain": [
       "<IPython.core.display.HTML object>"
      ]
     },
     "metadata": {},
     "output_type": "display_data"
    },
    {
     "name": "stdout",
     "output_type": "stream",
     "text": [
      "---\n"
     ]
    },
    {
     "data": {
      "text/html": [
       "<span style=\"color: black; font-weight: regular;\">their</span> <span style=\"color: black; font-weight: regular;\">rifles</span> <span style=\"color: black; font-weight: regular;\">were</span> <span style=\"color: black; font-weight: regular;\">out</span> <span style=\"color: black; font-weight: regular;\">/</span> <span style=\"color: black; font-weight: regular;\">.</span> <span style=\"color: black; font-weight: regular;\">Yeah</span> <span style=\"color: black; font-weight: regular;\">/</span> <span style=\"color: black; font-weight: regular;\">.</span>"
      ],
      "text/plain": [
       "<IPython.core.display.HTML object>"
      ]
     },
     "metadata": {},
     "output_type": "display_data"
    },
    {
     "data": {
      "text/html": [
       "<span style=\"color: black; font-weight: regular;\">Yeah</span> <span style=\"color: black; font-weight: regular;\">/</span> <span style=\"color: black; font-weight: regular;\">.</span> <span style=\"color: black; font-weight: regular;\">their</span> <span style=\"color: black; font-weight: regular;\">rifles</span> <span style=\"color: black; font-weight: regular;\">were</span> <span style=\"color: black; font-weight: regular;\">out</span> <span style=\"color: black; font-weight: regular;\">/</span> <span style=\"color: black; font-weight: regular;\">.</span>"
      ],
      "text/plain": [
       "<IPython.core.display.HTML object>"
      ]
     },
     "metadata": {},
     "output_type": "display_data"
    },
    {
     "name": "stdout",
     "output_type": "stream",
     "text": [
      "---\n"
     ]
    },
    {
     "data": {
      "text/html": [
       "<span style=\"color: black; font-weight: regular;\">Investors</span> <span style=\"color: black; font-weight: regular;\">who</span> <span style=\"color: black; font-weight: regular;\">bought</span> <span style=\"color: black; font-weight: regular;\">stock</span> <span style=\"color: black; font-weight: regular;\">with</span> <span style=\"color: black; font-weight: regular;\">borrowed</span> <span style=\"color: black; font-weight: regular;\">money</span> <span style=\"color: black; font-weight: regular;\">--</span> <span style=\"color: black; font-weight: regular;\">that</span> <span style=\"color: black; font-weight: regular;\">is</span> <span style=\"color: black; font-weight: regular;\">,</span> <span style=\"color: black; font-weight: regular;\">``</span> <span style=\"color: black; font-weight: regular;\">on</span> <span style=\"color: black; font-weight: regular;\">margin</span> <span style=\"color: black; font-weight: regular;\">''</span> <span style=\"color: black; font-weight: regular;\">--</span> <span style=\"color: black; font-weight: regular;\">may</span> <span style=\"color: black; font-weight: regular;\">be</span> <span style=\"color: black; font-weight: regular;\">more</span> <span style=\"color: black; font-weight: regular;\">worried</span> <span style=\"color: black; font-weight: regular;\">than</span> <span style=\"color: black; font-weight: regular;\">most</span> <span style=\"color: black; font-weight: regular;\">following</span> <span style=\"color: black; font-weight: regular;\">Friday</span> <span style=\"color: black; font-weight: regular;\">'s</span> <span style=\"color: black; font-weight: regular;\">market</span> <span style=\"color: black; font-weight: regular;\">drop</span> <span style=\"color: black; font-weight: regular;\">.</span> <span style=\"color: black; font-weight: regular;\">That</span> <span style=\"color: black; font-weight: regular;\">'s</span> <span style=\"color: black; font-weight: regular;\">because</span> <span style=\"color: blue; font-weight: bold;\">their</span> <span style=\"color: black; font-weight: regular;\">brokers</span> <span style=\"color: black; font-weight: regular;\">can</span> <span style=\"color: black; font-weight: regular;\">require</span> <span style=\"color: blue; font-weight: bold;\">them</span> <span style=\"color: black; font-weight: regular;\">to</span> <span style=\"color: black; font-weight: regular;\">sell</span> <span style=\"color: black; font-weight: regular;\">some</span> <span style=\"color: black; font-weight: regular;\">shares</span> <span style=\"color: black; font-weight: regular;\">or</span> <span style=\"color: black; font-weight: regular;\">put</span> <span style=\"color: black; font-weight: regular;\">up</span> <span style=\"color: black; font-weight: regular;\">more</span> <span style=\"color: black; font-weight: regular;\">cash</span> <span style=\"color: black; font-weight: regular;\">to</span> <span style=\"color: black; font-weight: regular;\">enhance</span> <span style=\"color: black; font-weight: regular;\">the</span> <span style=\"color: black; font-weight: regular;\">collateral</span> <span style=\"color: black; font-weight: regular;\">backing</span> <span style=\"color: blue; font-weight: bold;\">their</span> <span style=\"color: black; font-weight: regular;\">loans</span> <span style=\"color: black; font-weight: regular;\">.</span>"
      ],
      "text/plain": [
       "<IPython.core.display.HTML object>"
      ]
     },
     "metadata": {},
     "output_type": "display_data"
    },
    {
     "data": {
      "text/html": [
       "<span style=\"color: black; font-weight: regular;\">That</span> <span style=\"color: black; font-weight: regular;\">'s</span> <span style=\"color: black; font-weight: regular;\">because</span> <span style=\"color: blue; font-weight: bold;\">their</span> <span style=\"color: black; font-weight: regular;\">brokers</span> <span style=\"color: black; font-weight: regular;\">can</span> <span style=\"color: black; font-weight: regular;\">require</span> <span style=\"color: blue; font-weight: bold;\">them</span> <span style=\"color: black; font-weight: regular;\">to</span> <span style=\"color: black; font-weight: regular;\">sell</span> <span style=\"color: black; font-weight: regular;\">some</span> <span style=\"color: black; font-weight: regular;\">shares</span> <span style=\"color: black; font-weight: regular;\">or</span> <span style=\"color: black; font-weight: regular;\">put</span> <span style=\"color: black; font-weight: regular;\">up</span> <span style=\"color: black; font-weight: regular;\">more</span> <span style=\"color: black; font-weight: regular;\">cash</span> <span style=\"color: black; font-weight: regular;\">to</span> <span style=\"color: black; font-weight: regular;\">enhance</span> <span style=\"color: black; font-weight: regular;\">the</span> <span style=\"color: black; font-weight: regular;\">collateral</span> <span style=\"color: black; font-weight: regular;\">backing</span> <span style=\"color: blue; font-weight: bold;\">their</span> <span style=\"color: black; font-weight: regular;\">loans</span> <span style=\"color: black; font-weight: regular;\">.</span> <span style=\"color: black; font-weight: regular;\">Investors</span> <span style=\"color: black; font-weight: regular;\">who</span> <span style=\"color: black; font-weight: regular;\">bought</span> <span style=\"color: black; font-weight: regular;\">stock</span> <span style=\"color: black; font-weight: regular;\">with</span> <span style=\"color: black; font-weight: regular;\">borrowed</span> <span style=\"color: black; font-weight: regular;\">money</span> <span style=\"color: black; font-weight: regular;\">--</span> <span style=\"color: black; font-weight: regular;\">that</span> <span style=\"color: black; font-weight: regular;\">is</span> <span style=\"color: black; font-weight: regular;\">,</span> <span style=\"color: black; font-weight: regular;\">``</span> <span style=\"color: black; font-weight: regular;\">on</span> <span style=\"color: black; font-weight: regular;\">margin</span> <span style=\"color: black; font-weight: regular;\">''</span> <span style=\"color: black; font-weight: regular;\">--</span> <span style=\"color: black; font-weight: regular;\">may</span> <span style=\"color: black; font-weight: regular;\">be</span> <span style=\"color: black; font-weight: regular;\">more</span> <span style=\"color: black; font-weight: regular;\">worried</span> <span style=\"color: black; font-weight: regular;\">than</span> <span style=\"color: black; font-weight: regular;\">most</span> <span style=\"color: black; font-weight: regular;\">following</span> <span style=\"color: black; font-weight: regular;\">Friday</span> <span style=\"color: black; font-weight: regular;\">'s</span> <span style=\"color: black; font-weight: regular;\">market</span> <span style=\"color: black; font-weight: regular;\">drop</span> <span style=\"color: black; font-weight: regular;\">.</span>"
      ],
      "text/plain": [
       "<IPython.core.display.HTML object>"
      ]
     },
     "metadata": {},
     "output_type": "display_data"
    },
    {
     "name": "stdout",
     "output_type": "stream",
     "text": [
      "---\n"
     ]
    },
    {
     "data": {
      "text/html": [
       "<span style=\"color: blue; font-weight: bold;\">She</span> <span style=\"color: black; font-weight: regular;\">said</span> <span style=\"color: black; font-weight: regular;\">the</span> <span style=\"color: black; font-weight: regular;\">trade</span> <span style=\"color: black; font-weight: regular;\">imbalance</span> <span style=\"color: black; font-weight: regular;\">was</span> <span style=\"color: black; font-weight: regular;\">mainly</span> <span style=\"color: black; font-weight: regular;\">due</span> <span style=\"color: black; font-weight: regular;\">to</span> <span style=\"color: black; font-weight: regular;\">macroeconomic</span> <span style=\"color: black; font-weight: regular;\">factors</span> <span style=\"color: black; font-weight: regular;\">and</span> <span style=\"color: black; font-weight: regular;\">should</span> <span style=\"color: black; font-weight: regular;\">n't</span> <span style=\"color: black; font-weight: regular;\">be</span> <span style=\"color: black; font-weight: regular;\">tackled</span> <span style=\"color: black; font-weight: regular;\">by</span> <span style=\"color: black; font-weight: regular;\">setting</span> <span style=\"color: black; font-weight: regular;\">quantitative</span> <span style=\"color: black; font-weight: regular;\">targets</span> <span style=\"color: black; font-weight: regular;\">.</span> <span style=\"color: black; font-weight: regular;\">At</span> <span style=\"color: blue; font-weight: bold;\">her</span> <span style=\"color: black; font-weight: regular;\">news</span> <span style=\"color: black; font-weight: regular;\">conference</span> <span style=\"color: black; font-weight: regular;\">for</span> <span style=\"color: black; font-weight: regular;\">Japanese</span> <span style=\"color: black; font-weight: regular;\">reporters</span> <span style=\"color: black; font-weight: regular;\">,</span> <span style=\"color: black; font-weight: regular;\">one</span> <span style=\"color: black; font-weight: regular;\">economics</span> <span style=\"color: black; font-weight: regular;\">journalist</span> <span style=\"color: black; font-weight: regular;\">summed</span> <span style=\"color: black; font-weight: regular;\">up</span> <span style=\"color: black; font-weight: regular;\">the</span> <span style=\"color: black; font-weight: regular;\">Japanese</span> <span style=\"color: black; font-weight: regular;\">sense</span> <span style=\"color: black; font-weight: regular;\">of</span> <span style=\"color: black; font-weight: regular;\">relief</span> <span style=\"color: black; font-weight: regular;\">.</span>"
      ],
      "text/plain": [
       "<IPython.core.display.HTML object>"
      ]
     },
     "metadata": {},
     "output_type": "display_data"
    },
    {
     "data": {
      "text/html": [
       "<span style=\"color: black; font-weight: regular;\">At</span> <span style=\"color: black; font-weight: regular;\">her</span> <span style=\"color: black; font-weight: regular;\">news</span> <span style=\"color: black; font-weight: regular;\">conference</span> <span style=\"color: black; font-weight: regular;\">for</span> <span style=\"color: black; font-weight: regular;\">Japanese</span> <span style=\"color: black; font-weight: regular;\">reporters</span> <span style=\"color: black; font-weight: regular;\">,</span> <span style=\"color: blue; font-weight: bold;\">one</span> <span style=\"color: blue; font-weight: bold;\">economics</span> <span style=\"color: blue; font-weight: bold;\">journalist</span> <span style=\"color: black; font-weight: regular;\">summed</span> <span style=\"color: black; font-weight: regular;\">up</span> <span style=\"color: black; font-weight: regular;\">the</span> <span style=\"color: black; font-weight: regular;\">Japanese</span> <span style=\"color: black; font-weight: regular;\">sense</span> <span style=\"color: black; font-weight: regular;\">of</span> <span style=\"color: black; font-weight: regular;\">relief</span> <span style=\"color: black; font-weight: regular;\">.</span> <span style=\"color: blue; font-weight: bold;\">She</span> <span style=\"color: black; font-weight: regular;\">said</span> <span style=\"color: black; font-weight: regular;\">the</span> <span style=\"color: black; font-weight: regular;\">trade</span> <span style=\"color: black; font-weight: regular;\">imbalance</span> <span style=\"color: black; font-weight: regular;\">was</span> <span style=\"color: black; font-weight: regular;\">mainly</span> <span style=\"color: black; font-weight: regular;\">due</span> <span style=\"color: black; font-weight: regular;\">to</span> <span style=\"color: black; font-weight: regular;\">macroeconomic</span> <span style=\"color: black; font-weight: regular;\">factors</span> <span style=\"color: black; font-weight: regular;\">and</span> <span style=\"color: black; font-weight: regular;\">should</span> <span style=\"color: black; font-weight: regular;\">n't</span> <span style=\"color: black; font-weight: regular;\">be</span> <span style=\"color: black; font-weight: regular;\">tackled</span> <span style=\"color: black; font-weight: regular;\">by</span> <span style=\"color: black; font-weight: regular;\">setting</span> <span style=\"color: black; font-weight: regular;\">quantitative</span> <span style=\"color: black; font-weight: regular;\">targets</span> <span style=\"color: black; font-weight: regular;\">.</span>"
      ],
      "text/plain": [
       "<IPython.core.display.HTML object>"
      ]
     },
     "metadata": {},
     "output_type": "display_data"
    },
    {
     "name": "stdout",
     "output_type": "stream",
     "text": [
      "---\n"
     ]
    }
   ],
   "source": [
    "pairs = random.sample([\n",
    "    (s1, s2) for doc in random.sample(c.documents, 100)\n",
    "    for s1, s2 in pairwise(doc.sents())\n",
    "], 100)\n",
    "\n",
    "for sent1, sent2 in pairs:\n",
    "\n",
    "    try:\n",
    "\n",
    "        tokens1 = [t.text for t in sent1]\n",
    "        tokens2 = [t.text for t in sent2]\n",
    "\n",
    "        d1 = Document.from_text(' '.join(tokens1 + tokens2))\n",
    "        d2 = Document.from_text(' '.join(tokens2 + tokens1))\n",
    "\n",
    "        display(viz_clusters(d1))\n",
    "        display(viz_clusters(d2))\n",
    "\n",
    "    except Exception as e:\n",
    "        print(e)\n",
    "\n",
    "    print('---')"
   ]
  },
  {
   "cell_type": "code",
   "execution_count": null,
   "metadata": {},
   "outputs": [],
   "source": []
  }
 ],
 "metadata": {
  "kernelspec": {
   "display_name": "Python 3",
   "language": "python",
   "name": "python3"
  },
  "language_info": {
   "codemirror_mode": {
    "name": "ipython",
    "version": 3
   },
   "file_extension": ".py",
   "mimetype": "text/x-python",
   "name": "python",
   "nbconvert_exporter": "python",
   "pygments_lexer": "ipython3",
   "version": "3.6.5"
  }
 },
 "nbformat": 4,
 "nbformat_minor": 2
}
