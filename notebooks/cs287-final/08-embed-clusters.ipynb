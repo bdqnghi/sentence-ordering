{
 "cells": [
  {
   "cell_type": "code",
   "execution_count": 20,
   "metadata": {},
   "outputs": [],
   "source": [
    "import torch\n",
    "\n",
    "from jenkspy import jenks_breaks\n",
    "from scipy.spatial import distance\n",
    "from textblob import TextBlob"
   ]
  },
  {
   "cell_type": "code",
   "execution_count": 2,
   "metadata": {},
   "outputs": [
    {
     "name": "stderr",
     "output_type": "stream",
     "text": [
      "/Users/dclure/Projects/plot-ordering/env/lib/python3.6/site-packages/torch/serialization.py:367: SourceChangeWarning: source code of class 'sent_order.models.coref_embeds.DocEmbedder' has changed. you can retrieve the original source code by accessing the object's source attribute or set `torch.nn.Module.dump_patches = True` and use the patch tool to revert the changes.\n",
      "  warnings.warn(msg, SourceChangeWarning)\n"
     ]
    }
   ],
   "source": [
    "model = torch.load(\n",
    "    '../../data/coref-embeds-5-8-am.model',\n",
    "    map_location={'cuda:0': 'cpu'},\n",
    ")"
   ]
  },
  {
   "cell_type": "code",
   "execution_count": 5,
   "metadata": {},
   "outputs": [
    {
     "data": {
      "text/plain": [
       "DocEmbedder(\n",
       "  (embeddings): WordEmbedding(39414, 300)\n",
       "  (lstm): LSTM(300, 500, batch_first=True, bidirectional=True)\n",
       "  (dropout): Dropout(p=0.5)\n",
       "  (embed): Sequential(\n",
       "    (0): Linear(in_features=1000, out_features=200, bias=True)\n",
       "    (1): Tanh()\n",
       "    (2): Linear(in_features=200, out_features=200, bias=True)\n",
       "    (3): Tanh()\n",
       "    (4): Linear(in_features=200, out_features=50, bias=True)\n",
       "  )\n",
       ")"
      ]
     },
     "execution_count": 5,
     "metadata": {},
     "output_type": "execute_result"
    }
   ],
   "source": [
    "model.eval()"
   ]
  },
  {
   "cell_type": "code",
   "execution_count": 81,
   "metadata": {},
   "outputs": [],
   "source": [
    "blob = TextBlob('Mr. Trump told Mr. Obama to give Mr. Flynn the document.')\n",
    "tokens = [str(t) for t in blob.tokens]"
   ]
  },
  {
   "cell_type": "code",
   "execution_count": 82,
   "metadata": {
    "scrolled": false
   },
   "outputs": [
    {
     "data": {
      "text/plain": [
       "[(0, 'Mr.'),\n",
       " (1, 'Trump'),\n",
       " (2, 'told'),\n",
       " (3, 'Mr.'),\n",
       " (4, 'Obama'),\n",
       " (5, 'to'),\n",
       " (6, 'give'),\n",
       " (7, 'Mr.'),\n",
       " (8, 'Flynn'),\n",
       " (9, 'the'),\n",
       " (10, 'document'),\n",
       " (11, '.')]"
      ]
     },
     "execution_count": 82,
     "metadata": {},
     "output_type": "execute_result"
    }
   ],
   "source": [
    "list(enumerate(tokens))"
   ]
  },
  {
   "cell_type": "code",
   "execution_count": 83,
   "metadata": {},
   "outputs": [],
   "source": [
    "embeds = [e.detach().numpy() for e in model([tokens])[0]]"
   ]
  },
  {
   "cell_type": "code",
   "execution_count": 84,
   "metadata": {
    "scrolled": false
   },
   "outputs": [
    {
     "name": "stdout",
     "output_type": "stream",
     "text": [
      "Mr. 0.0034539103508\n",
      "Trump 0.0\n",
      "told 1.02693848312\n",
      "Mr. 0.292731106281\n",
      "Obama 1.04116371274\n",
      "to 1.02700069174\n",
      "give 1.02696195804\n",
      "Mr. 0.00970602035522\n",
      "Flynn 0.39230453968\n",
      "the 1.08124744892\n",
      "document 1.12407740951\n",
      ". 1.0269189924\n"
     ]
    }
   ],
   "source": [
    "seed = embeds[1]\n",
    "for token, embed in zip(tokens, embeds):\n",
    "    print(token, distance.cosine(seed, embed))"
   ]
  },
  {
   "cell_type": "code",
   "execution_count": 78,
   "metadata": {},
   "outputs": [],
   "source": [
    "seed = embeds[0]\n",
    "ds = [distance.cosine(seed, embed) for token, embed in zip(tokens, embeds)]"
   ]
  },
  {
   "cell_type": "code",
   "execution_count": 79,
   "metadata": {},
   "outputs": [],
   "source": [
    "b = jenks_breaks(ds, 2)[1]"
   ]
  },
  {
   "cell_type": "code",
   "execution_count": 80,
   "metadata": {
    "scrolled": false
   },
   "outputs": [
    {
     "name": "stdout",
     "output_type": "stream",
     "text": [
      "David ['David', 'she']\n",
      "sold ['sold', '.', 'drove', 'to', ',', 'and', 'read', 'as', 'fast', 'as', 'could', '.']\n",
      "Mary ['Mary']\n",
      "a ['a']\n",
      "book ['book']\n",
      "and ['and', '.', 'drove', 'to', ',', 'and', 'read', 'as', 'fast', 'as', 'could', '.']\n",
      "a ['a']\n",
      "car ['sold', 'and', 'a', 'car', '.', 'to', ',', 'and', 'read', 'as', 'fast', 'as', 'could', '.']\n",
      ". ['and', '.', 'drove', 'to', ',', 'and', 'read', 'as', 'fast', 'as', 'could', '.']\n",
      "She ['She', 'she']\n",
      "drove ['and', '.', 'drove', 'to', ',', 'and', 'read', 'as', 'fast', 'as', 'could', '.']\n",
      "it ['it']\n",
      "to ['and', '.', 'drove', 'to', ',', 'and', 'read', 'as', 'fast', 'as', 'could', '.']\n",
      "California ['California']\n",
      ", ['and', '.', 'drove', 'to', ',', 'and', 'read', 'as', 'fast', 'as', 'could', '.']\n",
      "and ['and', '.', 'drove', 'to', ',', 'and', 'read', 'as', 'fast', 'as', 'could', '.']\n",
      "read ['and', '.', 'drove', 'to', ',', 'and', 'read', 'as', 'fast', 'as', 'could', '.']\n",
      "it ['it']\n",
      "as ['and', '.', 'drove', 'to', ',', 'and', 'read', 'as', 'fast', 'as', 'could', '.']\n",
      "fast ['and', '.', 'drove', 'to', ',', 'and', 'read', 'as', 'fast', 'as', 'could', '.']\n",
      "as ['and', '.', 'drove', 'to', ',', 'and', 'read', 'as', 'fast', 'as', 'could', '.']\n",
      "she ['She', 'she']\n",
      "could ['and', '.', 'drove', 'to', ',', 'and', 'read', 'as', 'fast', 'as', 'could', '.']\n",
      ". ['and', '.', 'drove', 'to', ',', 'and', 'read', 'as', 'fast', 'as', 'could', '.']\n"
     ]
    }
   ],
   "source": [
    "for i, seed in enumerate(embeds):\n",
    "\n",
    "    ds = [distance.cosine(seed, embed) for token, embed in zip(tokens, embeds)]\n",
    "    b = jenks_breaks(ds, 2)[1]\n",
    "    print(tokens[i], [token for token, embed in zip(tokens, embeds) if distance.cosine(seed, embed) < b])"
   ]
  },
  {
   "cell_type": "code",
   "execution_count": null,
   "metadata": {},
   "outputs": [],
   "source": []
  }
 ],
 "metadata": {
  "kernelspec": {
   "display_name": "Python 3",
   "language": "python",
   "name": "python3"
  },
  "language_info": {
   "codemirror_mode": {
    "name": "ipython",
    "version": 3
   },
   "file_extension": ".py",
   "mimetype": "text/x-python",
   "name": "python",
   "nbconvert_exporter": "python",
   "pygments_lexer": "ipython3",
   "version": "3.6.5"
  }
 },
 "nbformat": 4,
 "nbformat_minor": 2
}
