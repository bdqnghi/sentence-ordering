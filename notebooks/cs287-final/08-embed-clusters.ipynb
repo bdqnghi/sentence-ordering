{
 "cells": [
  {
   "cell_type": "code",
   "execution_count": 20,
   "metadata": {},
   "outputs": [],
   "source": [
    "import torch\n",
    "\n",
    "from jenkspy import jenks_breaks\n",
    "from scipy.spatial import distance\n",
    "from textblob import TextBlob"
   ]
  },
  {
   "cell_type": "code",
   "execution_count": 2,
   "metadata": {},
   "outputs": [
    {
     "name": "stderr",
     "output_type": "stream",
     "text": [
      "/Users/dclure/Projects/plot-ordering/env/lib/python3.6/site-packages/torch/serialization.py:367: SourceChangeWarning: source code of class 'sent_order.models.coref_embeds.DocEmbedder' has changed. you can retrieve the original source code by accessing the object's source attribute or set `torch.nn.Module.dump_patches = True` and use the patch tool to revert the changes.\n",
      "  warnings.warn(msg, SourceChangeWarning)\n"
     ]
    }
   ],
   "source": [
    "model = torch.load(\n",
    "    '../../data/coref-embeds-5-8-am.model',\n",
    "    map_location={'cuda:0': 'cpu'},\n",
    ")"
   ]
  },
  {
   "cell_type": "code",
   "execution_count": 5,
   "metadata": {},
   "outputs": [
    {
     "data": {
      "text/plain": [
       "DocEmbedder(\n",
       "  (embeddings): WordEmbedding(39414, 300)\n",
       "  (lstm): LSTM(300, 500, batch_first=True, bidirectional=True)\n",
       "  (dropout): Dropout(p=0.5)\n",
       "  (embed): Sequential(\n",
       "    (0): Linear(in_features=1000, out_features=200, bias=True)\n",
       "    (1): Tanh()\n",
       "    (2): Linear(in_features=200, out_features=200, bias=True)\n",
       "    (3): Tanh()\n",
       "    (4): Linear(in_features=200, out_features=50, bias=True)\n",
       "  )\n",
       ")"
      ]
     },
     "execution_count": 5,
     "metadata": {},
     "output_type": "execute_result"
    }
   ],
   "source": [
    "model.eval()"
   ]
  },
  {
   "cell_type": "code",
   "execution_count": 85,
   "metadata": {},
   "outputs": [],
   "source": [
    "blob = TextBlob('Mr. Trump told Mr. Obama to give Mr. Flynn the document.')\n",
    "blob = TextBlob('David woke up. He went to the store. He called Kara. She was at work.')\n",
    "tokens = [str(t) for t in blob.tokens]"
   ]
  },
  {
   "cell_type": "code",
   "execution_count": 86,
   "metadata": {
    "scrolled": false
   },
   "outputs": [
    {
     "data": {
      "text/plain": [
       "[(0, 'David'),\n",
       " (1, 'woke'),\n",
       " (2, 'up'),\n",
       " (3, '.'),\n",
       " (4, 'He'),\n",
       " (5, 'went'),\n",
       " (6, 'to'),\n",
       " (7, 'the'),\n",
       " (8, 'store'),\n",
       " (9, '.'),\n",
       " (10, 'He'),\n",
       " (11, 'called'),\n",
       " (12, 'Kara'),\n",
       " (13, '.'),\n",
       " (14, 'She'),\n",
       " (15, 'was'),\n",
       " (16, 'at'),\n",
       " (17, 'work'),\n",
       " (18, '.')]"
      ]
     },
     "execution_count": 86,
     "metadata": {},
     "output_type": "execute_result"
    }
   ],
   "source": [
    "list(enumerate(tokens))"
   ]
  },
  {
   "cell_type": "code",
   "execution_count": 87,
   "metadata": {},
   "outputs": [],
   "source": [
    "embeds = [e.detach().numpy() for e in model([tokens])[0]]"
   ]
  },
  {
   "cell_type": "code",
   "execution_count": 89,
   "metadata": {
    "scrolled": false
   },
   "outputs": [
    {
     "name": "stdout",
     "output_type": "stream",
     "text": [
      "David 0.0\n",
      "woke 1.0058727758\n",
      "up 1.00549658062\n",
      ". 1.00549863791\n",
      "He 0.00493949651718\n",
      "went 1.00540671451\n",
      "to 1.00556744961\n",
      "the 1.16329556704\n",
      "store 1.17760272324\n",
      ". 1.00546445884\n",
      "He 0.00540935993195\n",
      "called 1.005152022\n",
      "Kara 0.958745159209\n",
      ". 1.00548970839\n",
      "She 0.00691163539886\n",
      "was 1.00538213924\n",
      "at 1.00550431246\n",
      "work 1.00560775306\n",
      ". 1.00547126634\n"
     ]
    }
   ],
   "source": [
    "seed = embeds[0]\n",
    "for token, embed in zip(tokens, embeds):\n",
    "    print(token, distance.cosine(seed, embed))"
   ]
  },
  {
   "cell_type": "code",
   "execution_count": 78,
   "metadata": {},
   "outputs": [],
   "source": [
    "seed = embeds[0]\n",
    "ds = [distance.cosine(seed, embed) for token, embed in zip(tokens, embeds)]"
   ]
  },
  {
   "cell_type": "code",
   "execution_count": 79,
   "metadata": {},
   "outputs": [],
   "source": [
    "b = jenks_breaks(ds, 2)[1]"
   ]
  },
  {
   "cell_type": "code",
   "execution_count": 80,
   "metadata": {
    "scrolled": false
   },
   "outputs": [
    {
     "name": "stdout",
     "output_type": "stream",
     "text": [
      "David ['David', 'she']\n",
      "sold ['sold', '.', 'drove', 'to', ',', 'and', 'read', 'as', 'fast', 'as', 'could', '.']\n",
      "Mary ['Mary']\n",
      "a ['a']\n",
      "book ['book']\n",
      "and ['and', '.', 'drove', 'to', ',', 'and', 'read', 'as', 'fast', 'as', 'could', '.']\n",
      "a ['a']\n",
      "car ['sold', 'and', 'a', 'car', '.', 'to', ',', 'and', 'read', 'as', 'fast', 'as', 'could', '.']\n",
      ". ['and', '.', 'drove', 'to', ',', 'and', 'read', 'as', 'fast', 'as', 'could', '.']\n",
      "She ['She', 'she']\n",
      "drove ['and', '.', 'drove', 'to', ',', 'and', 'read', 'as', 'fast', 'as', 'could', '.']\n",
      "it ['it']\n",
      "to ['and', '.', 'drove', 'to', ',', 'and', 'read', 'as', 'fast', 'as', 'could', '.']\n",
      "California ['California']\n",
      ", ['and', '.', 'drove', 'to', ',', 'and', 'read', 'as', 'fast', 'as', 'could', '.']\n",
      "and ['and', '.', 'drove', 'to', ',', 'and', 'read', 'as', 'fast', 'as', 'could', '.']\n",
      "read ['and', '.', 'drove', 'to', ',', 'and', 'read', 'as', 'fast', 'as', 'could', '.']\n",
      "it ['it']\n",
      "as ['and', '.', 'drove', 'to', ',', 'and', 'read', 'as', 'fast', 'as', 'could', '.']\n",
      "fast ['and', '.', 'drove', 'to', ',', 'and', 'read', 'as', 'fast', 'as', 'could', '.']\n",
      "as ['and', '.', 'drove', 'to', ',', 'and', 'read', 'as', 'fast', 'as', 'could', '.']\n",
      "she ['She', 'she']\n",
      "could ['and', '.', 'drove', 'to', ',', 'and', 'read', 'as', 'fast', 'as', 'could', '.']\n",
      ". ['and', '.', 'drove', 'to', ',', 'and', 'read', 'as', 'fast', 'as', 'could', '.']\n"
     ]
    }
   ],
   "source": [
    "for i, seed in enumerate(embeds):\n",
    "\n",
    "    ds = [distance.cosine(seed, embed) for token, embed in zip(tokens, embeds)]\n",
    "    b = jenks_breaks(ds, 2)[1]\n",
    "    print(tokens[i], [token for token, embed in zip(tokens, embeds) if distance.cosine(seed, embed) < b])"
   ]
  },
  {
   "cell_type": "code",
   "execution_count": null,
   "metadata": {},
   "outputs": [],
   "source": []
  }
 ],
 "metadata": {
  "kernelspec": {
   "display_name": "Python 3",
   "language": "python",
   "name": "python3"
  },
  "language_info": {
   "codemirror_mode": {
    "name": "ipython",
    "version": 3
   },
   "file_extension": ".py",
   "mimetype": "text/x-python",
   "name": "python",
   "nbconvert_exporter": "python",
   "pygments_lexer": "ipython3",
   "version": "3.6.5"
  }
 },
 "nbformat": 4,
 "nbformat_minor": 2
}
