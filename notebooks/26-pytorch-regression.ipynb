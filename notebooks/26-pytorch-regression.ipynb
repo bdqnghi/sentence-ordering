{
 "cells": [
  {
   "cell_type": "code",
   "execution_count": 58,
   "metadata": {},
   "outputs": [],
   "source": [
    "import numpy as np\n",
    "import attr\n",
    "import ujson\n",
    "import torch\n",
    "\n",
    "from itertools import islice\n",
    "from tqdm import tqdm_notebook\n",
    "from glob import glob\n",
    "\n",
    "from gensim.models import KeyedVectors"
   ]
  },
  {
   "cell_type": "code",
   "execution_count": 2,
   "metadata": {},
   "outputs": [],
   "source": [
    "vectors = KeyedVectors.load_word2vec_format(\n",
    "    '../data/vectors/GoogleNews-vectors-negative300.bin.gz',\n",
    "    binary=True,\n",
    ")"
   ]
  },
  {
   "cell_type": "code",
   "execution_count": 107,
   "metadata": {},
   "outputs": [],
   "source": [
    "class Corpus:\n",
    "    \n",
    "    def __init__(self, pattern, skim=None):\n",
    "        self.pattern = pattern\n",
    "        self.skim = skim\n",
    "        \n",
    "    def lines(self):\n",
    "        for path in glob(self.pattern):\n",
    "            with open(path) as fh:\n",
    "                for line in fh:\n",
    "                    yield line.strip()\n",
    "\n",
    "    def abstracts(self):\n",
    "        lines = self.lines()\n",
    "        if self.skim:\n",
    "            lines = islice(lines, self.skim)\n",
    "        for line in tqdm_notebook(lines, total=self.skim):\n",
    "            raw = ujson.loads(line)\n",
    "            yield Abstract.from_raw(raw)\n",
    "            \n",
    "    def xy(self):\n",
    "        for abstract in self.abstracts():\n",
    "            yield from abstract.xy()"
   ]
  },
  {
   "cell_type": "code",
   "execution_count": 114,
   "metadata": {},
   "outputs": [],
   "source": [
    "@attr.s\n",
    "class Abstract:\n",
    "    \n",
    "    sentences = attr.ib()\n",
    "    \n",
    "    @classmethod\n",
    "    def from_raw(cls, raw):\n",
    "        return cls([Sentence(s['token']) for s in raw['sentences']])\n",
    "            \n",
    "    def xy(self):\n",
    "        for i, sent in enumerate(self.sentences):\n",
    "            try:\n",
    "                x = sent.tensor()\n",
    "                y = i / (len(self.sentences)-1)\n",
    "                yield x, y\n",
    "            except RuntimeError as e:\n",
    "                pass"
   ]
  },
  {
   "cell_type": "code",
   "execution_count": 115,
   "metadata": {},
   "outputs": [],
   "source": [
    "@attr.s\n",
    "class Sentence:\n",
    "    \n",
    "    tokens = attr.ib()\n",
    "    \n",
    "    def tensor(self):\n",
    "        x = np.array([vectors[t] for t in self.tokens if t in vectors])\n",
    "        x = torch.from_numpy(x)\n",
    "        return x"
   ]
  },
  {
   "cell_type": "code",
   "execution_count": 116,
   "metadata": {},
   "outputs": [],
   "source": [
    "train = Corpus('../data/train.json/*.json', 1000)"
   ]
  },
  {
   "cell_type": "code",
   "execution_count": 117,
   "metadata": {
    "scrolled": false
   },
   "outputs": [
    {
     "data": {
      "application/vnd.jupyter.widget-view+json": {
       "model_id": "61fc64e83c77436186e90fdd0d761b44",
       "version_major": 2,
       "version_minor": 0
      },
      "text/html": [
       "<p>Failed to display Jupyter Widget of type <code>HBox</code>.</p>\n",
       "<p>\n",
       "  If you're reading this message in Jupyter Notebook or JupyterLab, it may mean\n",
       "  that the widgets JavaScript is still loading. If this message persists, it\n",
       "  likely means that the widgets JavaScript library is either not installed or\n",
       "  not enabled. See the <a href=\"https://ipywidgets.readthedocs.io/en/stable/user_install.html\">Jupyter\n",
       "  Widgets Documentation</a> for setup instructions.\n",
       "</p>\n",
       "<p>\n",
       "  If you're reading this message in another notebook frontend (for example, a static\n",
       "  rendering on GitHub or <a href=\"https://nbviewer.jupyter.org/\">NBViewer</a>),\n",
       "  it may mean that your frontend doesn't currently support widgets.\n",
       "</p>\n"
      ],
      "text/plain": [
       "HBox(children=(IntProgress(value=0, max=1000), HTML(value='')))"
      ]
     },
     "metadata": {},
     "output_type": "display_data"
    },
    {
     "name": "stdout",
     "output_type": "stream",
     "text": [
      "\n"
     ]
    }
   ],
   "source": [
    "train_x, train_y = zip(*train.xy())"
   ]
  },
  {
   "cell_type": "code",
   "execution_count": null,
   "metadata": {},
   "outputs": [],
   "source": []
  }
 ],
 "metadata": {
  "kernelspec": {
   "display_name": "Python 3",
   "language": "python",
   "name": "python3"
  },
  "language_info": {
   "codemirror_mode": {
    "name": "ipython",
    "version": 3
   },
   "file_extension": ".py",
   "mimetype": "text/x-python",
   "name": "python",
   "nbconvert_exporter": "python",
   "pygments_lexer": "ipython3",
   "version": "3.6.2"
  }
 },
 "nbformat": 4,
 "nbformat_minor": 2
}
