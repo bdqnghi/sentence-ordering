{
 "cells": [
  {
   "cell_type": "markdown",
   "metadata": {},
   "source": [
    "- bigrams / trigrams\n",
    "- pos tags\n",
    "- word count\n",
    "- avg word length"
   ]
  },
  {
   "cell_type": "code",
   "execution_count": 64,
   "metadata": {},
   "outputs": [],
   "source": [
    "import attr\n",
    "import re\n",
    "import numpy as np\n",
    "\n",
    "from collections import Counter, defaultdict\n",
    "from itertools import islice\n",
    "from boltons.iterutils import windowed\n",
    "from textblob import TextBlob\n",
    "from cached_property import cached_property\n",
    "from tqdm import tqdm_notebook\n",
    "\n",
    "from sklearn.feature_extraction import DictVectorizer\n",
    "from sklearn.linear_model import LinearRegression\n",
    "from sklearn.metrics import r2_score"
   ]
  },
  {
   "cell_type": "code",
   "execution_count": 75,
   "metadata": {},
   "outputs": [],
   "source": [
    "class Corpus:\n",
    "    \n",
    "    def __init__(self, path, skim=None):\n",
    "        self.path = path\n",
    "        self.skim = skim\n",
    "        \n",
    "    def lines(self):\n",
    "        with open(self.path) as fh:\n",
    "            for line in fh:\n",
    "                yield line.strip()\n",
    "    \n",
    "    def abstract_lines(self):\n",
    "        lines = []\n",
    "        for line in self.lines():\n",
    "            if line:\n",
    "                lines.append(line)\n",
    "            else:\n",
    "                yield lines\n",
    "                lines = []\n",
    "\n",
    "    def abstracts(self):\n",
    "        ab_lines = self.abstract_lines()\n",
    "        if self.skim:\n",
    "            ab_lines = islice(ab_lines, self.skim)\n",
    "        for lines in tqdm_notebook(ab_lines, total=self.skim):\n",
    "            yield Abstract.from_lines(lines)\n",
    "            \n",
    "    def xy(self, vocab):\n",
    "        for abstract in self.abstracts():\n",
    "            yield from abstract.xy(vocab)\n",
    "            \n",
    "    def ngram_counts(self, n):\n",
    "        counts = defaultdict(lambda: 0)\n",
    "        for ab in self.abstracts():\n",
    "            for sent in ab.sentences:\n",
    "                for ngram in sent.tokens:\n",
    "                    counts[ngram] += 1\n",
    "        return Counter(counts)\n",
    "            \n",
    "    def most_common_ngrams(self, n, depth):\n",
    "        counts = self.ngram_counts(n)\n",
    "        return set([k for k, _ in counts.most_common(depth)])"
   ]
  },
  {
   "cell_type": "code",
   "execution_count": 66,
   "metadata": {},
   "outputs": [],
   "source": [
    "@attr.s\n",
    "class Abstract:\n",
    "    \n",
    "    identifier = attr.ib()\n",
    "    tags = attr.ib()\n",
    "    sentences = attr.ib()\n",
    "    \n",
    "    @classmethod\n",
    "    def from_lines(cls, lines):\n",
    "        sentences = list(map(Sentence, lines[2:]))\n",
    "        return cls(lines[0], lines[1].split(), sentences)\n",
    "    \n",
    "    def sentence_tokens(self):\n",
    "        for sent in self.sentences:\n",
    "            yield re.findall('[a-z]+', sent.lower())\n",
    "    \n",
    "    def xy(self, vocab):\n",
    "        for i, sent in enumerate(self.sentences):\n",
    "            x = sent.features(vocab)\n",
    "            y = i / (len(self.sentences)-1)\n",
    "            yield x, y"
   ]
  },
  {
   "cell_type": "code",
   "execution_count": 67,
   "metadata": {},
   "outputs": [],
   "source": [
    "class Sentence:\n",
    "    \n",
    "    def __init__(self, text):\n",
    "        self.blob = TextBlob(text)\n",
    "        \n",
    "    @cached_property\n",
    "    def tokens(self):\n",
    "        return list(self.blob.tokens.lower())\n",
    "    \n",
    "    @cached_property\n",
    "    def tags(self):\n",
    "        return [pos for _, pos in self.blob.tags]\n",
    "    \n",
    "    def token_ngrams(self, n=1):\n",
    "        for ng in windowed(self.tokens, n):\n",
    "            yield '_'.join(ng)\n",
    "    \n",
    "    def tag_ngrams(self, n=1):\n",
    "        for ng in windowed(self.tags, n):\n",
    "            yield '_'.join(ng)\n",
    "            \n",
    "    def token_ngram_counts(self, vocab=None, maxn=3):\n",
    "        for n in range(1, maxn+1):\n",
    "            counts = Counter(self.token_ngrams(n))\n",
    "            for k, v in counts.items():\n",
    "                if not vocab or k in vocab:\n",
    "                    yield f'_{k}', v\n",
    "            \n",
    "    def tag_ngram_counts(self, maxn=3):\n",
    "        for n in range(1, maxn+1):\n",
    "            counts = Counter(self.tag_ngrams(n))\n",
    "            for k, v in counts.items():\n",
    "                yield f'_{k}', v\n",
    "                    \n",
    "    def word_count(self):\n",
    "        return len(self.tokens)\n",
    "                \n",
    "    def _features(self, vocab=None):\n",
    "        yield from self.token_ngram_counts(vocab)\n",
    "        yield from self.tag_ngram_counts()\n",
    "        yield 'word_count', self.word_count()\n",
    "        \n",
    "    def features(self, vocab=None):\n",
    "        return dict(self._features(vocab))"
   ]
  },
  {
   "cell_type": "code",
   "execution_count": 68,
   "metadata": {},
   "outputs": [],
   "source": [
    "s = Sentence('Does this work?')"
   ]
  },
  {
   "cell_type": "code",
   "execution_count": 69,
   "metadata": {},
   "outputs": [
    {
     "data": {
      "text/plain": [
       "{'_?': 1,\n",
       " '_DT': 1,\n",
       " '_DT_NN': 1,\n",
       " '_NN': 1,\n",
       " '_VBZ': 1,\n",
       " '_VBZ_DT': 1,\n",
       " '_VBZ_DT_NN': 1,\n",
       " '_does': 1,\n",
       " '_this': 1,\n",
       " '_work': 1,\n",
       " 'word_count': 4}"
      ]
     },
     "execution_count": 69,
     "metadata": {},
     "output_type": "execute_result"
    }
   ],
   "source": [
    "s.features(vocab)"
   ]
  },
  {
   "cell_type": "code",
   "execution_count": 78,
   "metadata": {},
   "outputs": [],
   "source": [
    "train = Corpus('../data/abstracts/train.txt', 100000)"
   ]
  },
  {
   "cell_type": "code",
   "execution_count": 73,
   "metadata": {},
   "outputs": [
    {
     "data": {
      "application/vnd.jupyter.widget-view+json": {
       "model_id": "2eeb63e74f7c4b9b8a0214d6c8e30e96",
       "version_major": 2,
       "version_minor": 0
      },
      "text/html": [
       "<p>Failed to display Jupyter Widget of type <code>HBox</code>.</p>\n",
       "<p>\n",
       "  If you're reading this message in Jupyter Notebook or JupyterLab, it may mean\n",
       "  that the widgets JavaScript is still loading. If this message persists, it\n",
       "  likely means that the widgets JavaScript library is either not installed or\n",
       "  not enabled. See the <a href=\"https://ipywidgets.readthedocs.io/en/stable/user_install.html\">Jupyter\n",
       "  Widgets Documentation</a> for setup instructions.\n",
       "</p>\n",
       "<p>\n",
       "  If you're reading this message in another notebook frontend (for example, a static\n",
       "  rendering on GitHub or <a href=\"https://nbviewer.jupyter.org/\">NBViewer</a>),\n",
       "  it may mean that your frontend doesn't currently support widgets.\n",
       "</p>\n"
      ],
      "text/plain": [
       "HBox(children=(IntProgress(value=1, bar_style='info', max=1), HTML(value='')))"
      ]
     },
     "metadata": {},
     "output_type": "display_data"
    },
    {
     "name": "stdout",
     "output_type": "stream",
     "text": [
      "\n"
     ]
    },
    {
     "data": {
      "application/vnd.jupyter.widget-view+json": {
       "model_id": "da7c9f1846d742038b732b278e92aea0",
       "version_major": 2,
       "version_minor": 0
      },
      "text/html": [
       "<p>Failed to display Jupyter Widget of type <code>HBox</code>.</p>\n",
       "<p>\n",
       "  If you're reading this message in Jupyter Notebook or JupyterLab, it may mean\n",
       "  that the widgets JavaScript is still loading. If this message persists, it\n",
       "  likely means that the widgets JavaScript library is either not installed or\n",
       "  not enabled. See the <a href=\"https://ipywidgets.readthedocs.io/en/stable/user_install.html\">Jupyter\n",
       "  Widgets Documentation</a> for setup instructions.\n",
       "</p>\n",
       "<p>\n",
       "  If you're reading this message in another notebook frontend (for example, a static\n",
       "  rendering on GitHub or <a href=\"https://nbviewer.jupyter.org/\">NBViewer</a>),\n",
       "  it may mean that your frontend doesn't currently support widgets.\n",
       "</p>\n"
      ],
      "text/plain": [
       "HBox(children=(IntProgress(value=1, bar_style='info', max=1), HTML(value='')))"
      ]
     },
     "metadata": {},
     "output_type": "display_data"
    },
    {
     "name": "stdout",
     "output_type": "stream",
     "text": [
      "\n"
     ]
    },
    {
     "data": {
      "application/vnd.jupyter.widget-view+json": {
       "model_id": "f3e8bafd57654ff4980ef034c47afffd",
       "version_major": 2,
       "version_minor": 0
      },
      "text/html": [
       "<p>Failed to display Jupyter Widget of type <code>HBox</code>.</p>\n",
       "<p>\n",
       "  If you're reading this message in Jupyter Notebook or JupyterLab, it may mean\n",
       "  that the widgets JavaScript is still loading. If this message persists, it\n",
       "  likely means that the widgets JavaScript library is either not installed or\n",
       "  not enabled. See the <a href=\"https://ipywidgets.readthedocs.io/en/stable/user_install.html\">Jupyter\n",
       "  Widgets Documentation</a> for setup instructions.\n",
       "</p>\n",
       "<p>\n",
       "  If you're reading this message in another notebook frontend (for example, a static\n",
       "  rendering on GitHub or <a href=\"https://nbviewer.jupyter.org/\">NBViewer</a>),\n",
       "  it may mean that your frontend doesn't currently support widgets.\n",
       "</p>\n"
      ],
      "text/plain": [
       "HBox(children=(IntProgress(value=1, bar_style='info', max=1), HTML(value='')))"
      ]
     },
     "metadata": {},
     "output_type": "display_data"
    },
    {
     "name": "stdout",
     "output_type": "stream",
     "text": [
      "\n"
     ]
    }
   ],
   "source": [
    "vocab = (\n",
    "    train.most_common_ngrams(1, 2000) |\n",
    "    train.most_common_ngrams(2, 2000) |\n",
    "    train.most_common_ngrams(3, 2000)\n",
    ")"
   ]
  },
  {
   "cell_type": "code",
   "execution_count": 76,
   "metadata": {},
   "outputs": [],
   "source": [
    "dv = DictVectorizer()"
   ]
  },
  {
   "cell_type": "code",
   "execution_count": 79,
   "metadata": {},
   "outputs": [
    {
     "data": {
      "application/vnd.jupyter.widget-view+json": {
       "model_id": "6981800f024d47569abdc20217f05c09",
       "version_major": 2,
       "version_minor": 0
      },
      "text/html": [
       "<p>Failed to display Jupyter Widget of type <code>HBox</code>.</p>\n",
       "<p>\n",
       "  If you're reading this message in Jupyter Notebook or JupyterLab, it may mean\n",
       "  that the widgets JavaScript is still loading. If this message persists, it\n",
       "  likely means that the widgets JavaScript library is either not installed or\n",
       "  not enabled. See the <a href=\"https://ipywidgets.readthedocs.io/en/stable/user_install.html\">Jupyter\n",
       "  Widgets Documentation</a> for setup instructions.\n",
       "</p>\n",
       "<p>\n",
       "  If you're reading this message in another notebook frontend (for example, a static\n",
       "  rendering on GitHub or <a href=\"https://nbviewer.jupyter.org/\">NBViewer</a>),\n",
       "  it may mean that your frontend doesn't currently support widgets.\n",
       "</p>\n"
      ],
      "text/plain": [
       "HBox(children=(IntProgress(value=0, max=100000), HTML(value='')))"
      ]
     },
     "metadata": {},
     "output_type": "display_data"
    },
    {
     "name": "stdout",
     "output_type": "stream",
     "text": [
      "\n"
     ]
    },
    {
     "name": "stderr",
     "output_type": "stream",
     "text": [
      "Exception in thread Thread-10:\n",
      "Traceback (most recent call last):\n",
      "  File \"/usr/local/Cellar/python3/3.6.2/Frameworks/Python.framework/Versions/3.6/lib/python3.6/threading.py\", line 916, in _bootstrap_inner\n",
      "    self.run()\n",
      "  File \"/Users/dclure/Projects/plot-ordering/env/lib/python3.6/site-packages/tqdm/_tqdm.py\", line 144, in run\n",
      "    for instance in self.tqdm_cls._instances:\n",
      "  File \"/usr/local/bin/../Cellar/python3/3.6.2/bin/../Frameworks/Python.framework/Versions/3.6/lib/python3.6/_weakrefset.py\", line 60, in __iter__\n",
      "    for itemref in self.data:\n",
      "RuntimeError: Set changed size during iteration\n",
      "\n"
     ]
    },
    {
     "name": "stdout",
     "output_type": "stream",
     "text": [
      "\n"
     ]
    }
   ],
   "source": [
    "train_x, train_y = zip(*train.xy(vocab))"
   ]
  },
  {
   "cell_type": "code",
   "execution_count": 80,
   "metadata": {},
   "outputs": [],
   "source": [
    "train_x = dv.fit_transform(train_x)"
   ]
  },
  {
   "cell_type": "code",
   "execution_count": 81,
   "metadata": {},
   "outputs": [
    {
     "data": {
      "text/plain": [
       "<537608x19410 sparse matrix of type '<class 'numpy.float64'>'\n",
       "\twith 36863190 stored elements in Compressed Sparse Row format>"
      ]
     },
     "execution_count": 81,
     "metadata": {},
     "output_type": "execute_result"
    }
   ],
   "source": [
    "train_x"
   ]
  },
  {
   "cell_type": "code",
   "execution_count": 82,
   "metadata": {},
   "outputs": [],
   "source": [
    "model = LinearRegression()"
   ]
  },
  {
   "cell_type": "code",
   "execution_count": 83,
   "metadata": {},
   "outputs": [],
   "source": [
    "fit = model.fit(train_x, train_y)"
   ]
  },
  {
   "cell_type": "code",
   "execution_count": 84,
   "metadata": {},
   "outputs": [],
   "source": [
    "test = Corpus('../data/abstracts/test.txt', 50000)"
   ]
  },
  {
   "cell_type": "code",
   "execution_count": 85,
   "metadata": {},
   "outputs": [
    {
     "data": {
      "application/vnd.jupyter.widget-view+json": {
       "model_id": "8695631c52ec4d8aa12ab1820d976191",
       "version_major": 2,
       "version_minor": 0
      },
      "text/html": [
       "<p>Failed to display Jupyter Widget of type <code>HBox</code>.</p>\n",
       "<p>\n",
       "  If you're reading this message in Jupyter Notebook or JupyterLab, it may mean\n",
       "  that the widgets JavaScript is still loading. If this message persists, it\n",
       "  likely means that the widgets JavaScript library is either not installed or\n",
       "  not enabled. See the <a href=\"https://ipywidgets.readthedocs.io/en/stable/user_install.html\">Jupyter\n",
       "  Widgets Documentation</a> for setup instructions.\n",
       "</p>\n",
       "<p>\n",
       "  If you're reading this message in another notebook frontend (for example, a static\n",
       "  rendering on GitHub or <a href=\"https://nbviewer.jupyter.org/\">NBViewer</a>),\n",
       "  it may mean that your frontend doesn't currently support widgets.\n",
       "</p>\n"
      ],
      "text/plain": [
       "HBox(children=(IntProgress(value=0, max=50000), HTML(value='')))"
      ]
     },
     "metadata": {},
     "output_type": "display_data"
    },
    {
     "name": "stdout",
     "output_type": "stream",
     "text": [
      "\n"
     ]
    }
   ],
   "source": [
    "test_x, test_y = zip(*test.xy(vocab))"
   ]
  },
  {
   "cell_type": "code",
   "execution_count": 86,
   "metadata": {},
   "outputs": [],
   "source": [
    "test_x = dv.transform(test_x)"
   ]
  },
  {
   "cell_type": "code",
   "execution_count": 88,
   "metadata": {},
   "outputs": [
    {
     "data": {
      "text/plain": [
       "0.2874716160167281"
      ]
     },
     "execution_count": 88,
     "metadata": {},
     "output_type": "execute_result"
    }
   ],
   "source": [
    "r2_score(test_y, fit.predict(test_x))"
   ]
  },
  {
   "cell_type": "code",
   "execution_count": 89,
   "metadata": {},
   "outputs": [],
   "source": [
    "names = dv.get_feature_names()"
   ]
  },
  {
   "cell_type": "code",
   "execution_count": 90,
   "metadata": {},
   "outputs": [],
   "source": [
    "bidx = fit.coef_.argsort()\n",
    "eidx = np.flip(fit.coef_.argsort(), 0)"
   ]
  },
  {
   "cell_type": "code",
   "execution_count": 91,
   "metadata": {},
   "outputs": [
    {
     "name": "stdout",
     "output_type": "stream",
     "text": [
      "-1.97729958413 _VBP_POS_NNP\n",
      "-1.7858672818 _VBP_POS_JJ\n",
      "-1.75479987469 _WP_NNP_FW\n",
      "-1.74683511691 _VBP_CD_PDT\n",
      "-1.43630120798 _JJR_NNS_PDT\n",
      "-1.37589765579 _WP_NNP_VBG\n",
      "-1.31621541914 _DT_SYM_VB\n",
      "-1.29938732449 _VBG_CD_NNPS\n",
      "-1.29418290778 _VBP_EX_JJ\n",
      "-1.25068506219 _NN_WP_CD\n",
      "-1.2403710758 _CD_CD_NNPS\n",
      "-1.20856110567 _CC_VBP_VBD\n",
      "-1.16961240819 _RP_CD_PRP\n",
      "-1.1695100011 _VB_NNS_PDT\n",
      "-1.16900952554 _IN_POS_JJ\n",
      "-1.16864035487 _PRP$_JJS_VBZ\n",
      "-1.1617502757 _CC_WRB_JJR\n",
      "-1.15643231369 _VBN_CD_FW\n",
      "-1.12246027399 _RBR_NNS_JJR\n",
      "-1.11746242379 _RBS_NNS_TO\n",
      "-1.10953841158 _FW_CD_EX\n",
      "-1.10057559815 _WRB_NNP_WRB\n",
      "-1.08253594402 _EX_CD_JJR\n",
      "-1.07127560348 _NNS_NNS_PDT\n",
      "-1.06204471811 _NNP_DT_EX\n",
      "-1.05188860811 _NN_JJS\n",
      "-1.03819031383 _PRP$_NNS_JJR\n",
      "-1.03378498517 _EX_VBD_NN\n",
      "-1.02830669878 _RBR_NNS_VBZ\n",
      "-1.02454904922 _RB_NNS_PDT\n",
      "-1.02043412895 _WP_NNP_VBN\n",
      "-1.01604754848 _VBG_PRP$_SYM\n",
      "-1.01260840685 _WDT_NNS_PDT\n",
      "-0.994820073008 _VBZ_NNS_JJR\n",
      "-0.991999881253 _VBG_NNP_RBR\n",
      "-0.989609659332 _POS_VBP_NNP\n",
      "-0.985906096925 _FW_VBZ_NNP\n",
      "-0.985406938785 _CC_WRB_PDT\n",
      "-0.980573606686 _VBP_POS_VBZ\n",
      "-0.979618559213 _NNP_NNP_RBS\n",
      "-0.975257683079 _PRP_NNS_RBS\n",
      "-0.972216444972 _RP_NNS_MD\n",
      "-0.968768742801 _VBN_VBZ_NNP\n",
      "-0.966623595427 _JJR_NNP_FW\n",
      "-0.966176379629 _UH_NNP_RBR\n",
      "-0.965646805323 _IN_NNS_PDT\n",
      "-0.962556459563 _PRP$_NNS_WP\n",
      "-0.956289792104 _VBD_NNS_PDT\n",
      "-0.955471529726 _NNP_JJS_VBZ\n",
      "-0.953931135482 _UH_NNP_PRP\n"
     ]
    }
   ],
   "source": [
    "for i in bidx[:50]:\n",
    "    print(fit.coef_[i], names[i])"
   ]
  },
  {
   "cell_type": "code",
   "execution_count": 92,
   "metadata": {
    "scrolled": false
   },
   "outputs": [
    {
     "name": "stdout",
     "output_type": "stream",
     "text": [
      "1.37065422552 _NNP_WRB_JJS\n",
      "1.35836709825 _JJ_RP_VBN\n",
      "1.35371162617 _DT_WRB_JJS\n",
      "1.23341771585 _NN_WRB_JJS\n",
      "1.19686541189 _RB_WRB_JJS\n",
      "1.19278556375 _VBZ_FW_CC\n",
      "1.15788562133 _NNS_WRB_JJS\n",
      "1.13517450849 _WRB_VBD_IN\n",
      "1.13273439557 _VBP_WRB_JJS\n",
      "1.10697602148 _CC_NNPS_VBN\n",
      "1.09815106827 _WP_JJ_SYM\n",
      "1.08840136071 _EX_JJ_CD\n",
      "1.06987544278 _WP_VBZ_VB\n",
      "1.06941031868 _NNP_POS_POS\n",
      "1.06612360962 _PRP_VBN_PRP\n",
      "1.05868207224 _VB_WRB_JJS\n",
      "1.04298104308 _VBN_WP_NNS\n",
      "1.04244598952 _FW_TO_CD\n",
      "1.01494958372 _WDT_NN_JJS\n",
      "1.01412248917 _WDT_VBP_POS\n",
      "1.00203451634 _CD_WRB_JJS\n",
      "0.995243287313 _VBD_JJ_POS\n",
      "0.985411157077 _SYM_NN_WDT\n",
      "0.956414726854 _JJ_RP_CD\n",
      "0.947220918372 _VBP_VBZ_VB\n",
      "0.94613930224 _PRP_MD_VBZ\n",
      "0.941623441394 _VBN_POS_VBP\n",
      "0.915929314579 _WDT_NN_PDT\n",
      "0.911308878872 _POS_CC_WDT\n",
      "0.90999938567 _VBZ_VB_VBG\n",
      "0.907092339621 _PRP_RBR_IN\n",
      "0.902050632295 _VBZ_VB_RBR\n",
      "0.89961313827 _IN_FW_VBN\n",
      "0.896184110376 _EX_VBD_NNS\n",
      "0.892431022165 _PRP_IN_VBP\n",
      "0.890647691314 _NNPS_NN_CD\n",
      "0.888307351543 _VBZ_FW_DT\n",
      "0.88319763986 _PRP_NN_WP\n",
      "0.881496540114 _MD_NNP\n",
      "0.868880948269 _VBG_WRB_JJS\n",
      "0.868282880638 _WP_NNP_SYM\n",
      "0.868249986121 _CD_NN_NNPS\n",
      "0.866243185901 _PRP$_NN_JJS\n",
      "0.864725345405 _DT_VBN_PRP\n",
      "0.863340029335 _NN_IN_RP\n",
      "0.861766019111 _VBZ_NNP\n",
      "0.85546915729 _WDT_NN_RBS\n",
      "0.854544738142 _JJR_RBR_TO\n",
      "0.850292134213 _FW_SYM_NN\n",
      "0.849831828095 _JJR_JJ_POS\n"
     ]
    }
   ],
   "source": [
    "for i in eidx[:50]:\n",
    "    print(fit.coef_[i], names[i])"
   ]
  }
 ],
 "metadata": {
  "kernelspec": {
   "display_name": "Python 3",
   "language": "python",
   "name": "python3"
  },
  "language_info": {
   "codemirror_mode": {
    "name": "ipython",
    "version": 3
   },
   "file_extension": ".py",
   "mimetype": "text/x-python",
   "name": "python",
   "nbconvert_exporter": "python",
   "pygments_lexer": "ipython3",
   "version": "3.6.2"
  }
 },
 "nbformat": 4,
 "nbformat_minor": 2
}
