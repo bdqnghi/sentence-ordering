{
 "cells": [
  {
   "cell_type": "markdown",
   "metadata": {},
   "source": [
    "- parse corpus\n",
    "- story class, list of sentences\n",
    "- shuffled_sentences method\n",
    "- step through all words, map to embedding, make variable length tensor for whole plot\n",
    "- predict correct / shuffled"
   ]
  },
  {
   "cell_type": "code",
   "execution_count": 74,
   "metadata": {},
   "outputs": [],
   "source": [
    "import re\n",
    "import numpy as np\n",
    "import random\n",
    "\n",
    "from collections.abc import Sequence\n",
    "\n",
    "from cached_property import cached_property\n",
    "from gensim.models import KeyedVectors\n",
    "\n",
    "from sklearn.model_selection import train_test_split\n",
    "\n",
    "from keras.preprocessing.sequence import pad_sequences\n",
    "from keras.models import Sequential\n",
    "from keras.layers import Dense, Activation, LSTM, Embedding, Dropout"
   ]
  },
  {
   "cell_type": "code",
   "execution_count": 2,
   "metadata": {},
   "outputs": [],
   "source": [
    "w2v = KeyedVectors.load_word2vec_format(\n",
    "    '../data/GoogleNews-vectors-negative300.bin.gz',\n",
    "    binary=True,\n",
    ")"
   ]
  },
  {
   "cell_type": "code",
   "execution_count": 3,
   "metadata": {},
   "outputs": [],
   "source": [
    "def tokenize(text):\n",
    "    return re.findall('\\w+', text)"
   ]
  },
  {
   "cell_type": "code",
   "execution_count": 4,
   "metadata": {},
   "outputs": [],
   "source": [
    "def sent_embed_iter(text):\n",
    "    for token in tokenize(text):\n",
    "        if token in w2v:\n",
    "            yield w2v[token]"
   ]
  },
  {
   "cell_type": "code",
   "execution_count": 5,
   "metadata": {},
   "outputs": [],
   "source": [
    "def plot_embed_iter(sents):\n",
    "    for sent in sents:\n",
    "        yield from sent_embed_iter(sent)"
   ]
  },
  {
   "cell_type": "code",
   "execution_count": 6,
   "metadata": {},
   "outputs": [],
   "source": [
    "def parse_plots(path):\n",
    "    \"\"\"Generate plot sentences.\n",
    "    \"\"\"\n",
    "    with open(path) as fh:\n",
    "        \n",
    "        plot = []\n",
    "        for line in fh.read().splitlines():\n",
    "            \n",
    "            if line != '<EOS>':\n",
    "                plot.append(line)\n",
    "                \n",
    "            else:\n",
    "                yield plot\n",
    "                plot = []"
   ]
  },
  {
   "cell_type": "code",
   "execution_count": 7,
   "metadata": {},
   "outputs": [],
   "source": [
    "plots = list(parse_plots('../data/plots/plots'))"
   ]
  },
  {
   "cell_type": "code",
   "execution_count": 107,
   "metadata": {},
   "outputs": [],
   "source": [
    "x, y = [], []\n",
    "\n",
    "for plot in plots[:1000]:\n",
    "    \n",
    "    x.append(list(plot_embed_iter(plot)))\n",
    "    y.append(True)\n",
    "    \n",
    "    shuffled = random.sample(plot, len(plot))\n",
    "    \n",
    "    x.append(list(plot_embed_iter(shuffled)))\n",
    "    y.append(False)"
   ]
  },
  {
   "cell_type": "code",
   "execution_count": 108,
   "metadata": {},
   "outputs": [],
   "source": [
    "x = pad_sequences(x, 1000, padding='post', dtype=float)"
   ]
  },
  {
   "cell_type": "code",
   "execution_count": 109,
   "metadata": {},
   "outputs": [
    {
     "data": {
      "text/plain": [
       "(2000, 1000, 300)"
      ]
     },
     "execution_count": 109,
     "metadata": {},
     "output_type": "execute_result"
    }
   ],
   "source": [
    "x.shape"
   ]
  },
  {
   "cell_type": "code",
   "execution_count": 110,
   "metadata": {},
   "outputs": [],
   "source": [
    "x_train, x_test, y_train, y_test = train_test_split(x, y, test_size=0.25)"
   ]
  },
  {
   "cell_type": "code",
   "execution_count": 111,
   "metadata": {},
   "outputs": [
    {
     "data": {
      "text/plain": [
       "(1500, 1000, 300)"
      ]
     },
     "execution_count": 111,
     "metadata": {},
     "output_type": "execute_result"
    }
   ],
   "source": [
    "x_train.shape"
   ]
  },
  {
   "cell_type": "code",
   "execution_count": 112,
   "metadata": {},
   "outputs": [
    {
     "data": {
      "text/plain": [
       "(500, 1000, 300)"
      ]
     },
     "execution_count": 112,
     "metadata": {},
     "output_type": "execute_result"
    }
   ],
   "source": [
    "x_test.shape"
   ]
  },
  {
   "cell_type": "code",
   "execution_count": 121,
   "metadata": {},
   "outputs": [],
   "source": [
    "model = Sequential()\n",
    "model.add(LSTM(128, input_shape=x_train[0].shape, return_sequences=True))\n",
    "model.add(LSTM(128, return_sequences=True))\n",
    "model.add(LSTM(128))\n",
    "model.add(Dropout(0.5))\n",
    "model.add(Dense(1, activation='sigmoid'))"
   ]
  },
  {
   "cell_type": "code",
   "execution_count": 122,
   "metadata": {},
   "outputs": [],
   "source": [
    "model.compile(\n",
    "    loss='binary_crossentropy',\n",
    "    optimizer='adam',\n",
    "    metrics=['accuracy'],\n",
    ")"
   ]
  },
  {
   "cell_type": "code",
   "execution_count": 123,
   "metadata": {},
   "outputs": [
    {
     "name": "stdout",
     "output_type": "stream",
     "text": [
      "Epoch 1/10\n",
      "1500/1500 [==============================] - 119s 79ms/step - loss: 0.6928 - acc: 0.4967\n",
      "Epoch 2/10\n",
      "1500/1500 [==============================] - 113s 75ms/step - loss: 0.6900 - acc: 0.5147\n",
      "Epoch 3/10\n",
      "1500/1500 [==============================] - 113s 75ms/step - loss: 0.6711 - acc: 0.5207\n",
      "Epoch 4/10\n",
      "1500/1500 [==============================] - 114s 76ms/step - loss: 0.6512 - acc: 0.5453\n",
      "Epoch 5/10\n",
      "1500/1500 [==============================] - 113s 76ms/step - loss: 0.6393 - acc: 0.5473\n",
      "Epoch 6/10\n",
      "1500/1500 [==============================] - 113s 75ms/step - loss: 0.6440 - acc: 0.5280\n",
      "Epoch 7/10\n",
      "1500/1500 [==============================] - 113s 75ms/step - loss: 0.6328 - acc: 0.5113\n",
      "Epoch 8/10\n",
      "1500/1500 [==============================] - 114s 76ms/step - loss: 0.6289 - acc: 0.5420\n",
      "Epoch 9/10\n",
      "1500/1500 [==============================] - 113s 75ms/step - loss: 0.6284 - acc: 0.5240\n",
      "Epoch 10/10\n",
      "1500/1500 [==============================] - 116s 77ms/step - loss: 0.6314 - acc: 0.5547\n"
     ]
    },
    {
     "data": {
      "text/plain": [
       "<keras.callbacks.History at 0x264ec42e8>"
      ]
     },
     "execution_count": 123,
     "metadata": {},
     "output_type": "execute_result"
    }
   ],
   "source": [
    "model.fit(x_train, y_train)"
   ]
  },
  {
   "cell_type": "code",
   "execution_count": 124,
   "metadata": {},
   "outputs": [
    {
     "name": "stdout",
     "output_type": "stream",
     "text": [
      "500/500 [==============================] - 12s 24ms/step\n"
     ]
    },
    {
     "data": {
      "text/plain": [
       "[0.73442685270309449, 0.54599999976158142]"
      ]
     },
     "execution_count": 124,
     "metadata": {},
     "output_type": "execute_result"
    }
   ],
   "source": [
    "model.evaluate(x_test, y_test)"
   ]
  },
  {
   "cell_type": "code",
   "execution_count": 117,
   "metadata": {},
   "outputs": [
    {
     "data": {
      "text/plain": [
       "['loss', 'acc']"
      ]
     },
     "execution_count": 117,
     "metadata": {},
     "output_type": "execute_result"
    }
   ],
   "source": [
    "model.metrics_names"
   ]
  },
  {
   "cell_type": "code",
   "execution_count": null,
   "metadata": {},
   "outputs": [],
   "source": []
  }
 ],
 "metadata": {
  "kernelspec": {
   "display_name": "Python 3",
   "language": "python",
   "name": "python3"
  },
  "language_info": {
   "codemirror_mode": {
    "name": "ipython",
    "version": 3
   },
   "file_extension": ".py",
   "mimetype": "text/x-python",
   "name": "python",
   "nbconvert_exporter": "python",
   "pygments_lexer": "ipython3",
   "version": "3.6.2"
  }
 },
 "nbformat": 4,
 "nbformat_minor": 2
}
