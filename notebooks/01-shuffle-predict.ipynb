{
 "cells": [
  {
   "cell_type": "markdown",
   "metadata": {},
   "source": [
    "- parse corpus\n",
    "- story class, list of sentences\n",
    "- shuffled_sentences method\n",
    "- step through all words, map to embedding, make variable length tensor for whole plot\n",
    "- predict correct / shuffled"
   ]
  },
  {
   "cell_type": "code",
   "execution_count": 74,
   "metadata": {},
   "outputs": [],
   "source": [
    "import re\n",
    "import numpy as np\n",
    "import random\n",
    "\n",
    "from collections.abc import Sequence\n",
    "\n",
    "from cached_property import cached_property\n",
    "from gensim.models import KeyedVectors\n",
    "\n",
    "from sklearn.model_selection import train_test_split\n",
    "\n",
    "from keras.preprocessing.sequence import pad_sequences\n",
    "from keras.models import Sequential\n",
    "from keras.layers import Dense, Activation, LSTM, Embedding, Dropout"
   ]
  },
  {
   "cell_type": "code",
   "execution_count": 2,
   "metadata": {},
   "outputs": [],
   "source": [
    "w2v = KeyedVectors.load_word2vec_format(\n",
    "    '../data/GoogleNews-vectors-negative300.bin.gz',\n",
    "    binary=True,\n",
    ")"
   ]
  },
  {
   "cell_type": "code",
   "execution_count": 3,
   "metadata": {},
   "outputs": [],
   "source": [
    "def tokenize(text):\n",
    "    return re.findall('\\w+', text)"
   ]
  },
  {
   "cell_type": "code",
   "execution_count": 4,
   "metadata": {},
   "outputs": [],
   "source": [
    "def sent_embed_iter(text):\n",
    "    for token in tokenize(text):\n",
    "        if token in w2v:\n",
    "            yield w2v[token]"
   ]
  },
  {
   "cell_type": "code",
   "execution_count": 5,
   "metadata": {},
   "outputs": [],
   "source": [
    "def plot_embed_iter(sents):\n",
    "    for sent in sents:\n",
    "        yield from sent_embed_iter(sent)"
   ]
  },
  {
   "cell_type": "code",
   "execution_count": 6,
   "metadata": {},
   "outputs": [],
   "source": [
    "def parse_plots(path):\n",
    "    \"\"\"Generate plot sentences.\n",
    "    \"\"\"\n",
    "    with open(path) as fh:\n",
    "        \n",
    "        plot = []\n",
    "        for line in fh.read().splitlines():\n",
    "            \n",
    "            if line != '<EOS>':\n",
    "                plot.append(line)\n",
    "                \n",
    "            else:\n",
    "                yield plot\n",
    "                plot = []"
   ]
  },
  {
   "cell_type": "code",
   "execution_count": 7,
   "metadata": {},
   "outputs": [],
   "source": [
    "plots = list(parse_plots('../data/plots/plots'))"
   ]
  },
  {
   "cell_type": "code",
   "execution_count": 107,
   "metadata": {},
   "outputs": [],
   "source": [
    "x, y = [], []\n",
    "\n",
    "for plot in plots[:1000]:\n",
    "    \n",
    "    x.append(list(plot_embed_iter(plot)))\n",
    "    y.append(True)\n",
    "    \n",
    "    shuffled = random.sample(plot, len(plot))\n",
    "    \n",
    "    x.append(list(plot_embed_iter(shuffled)))\n",
    "    y.append(False)"
   ]
  },
  {
   "cell_type": "code",
   "execution_count": 108,
   "metadata": {},
   "outputs": [],
   "source": [
    "x = pad_sequences(x, 1000, padding='post', dtype=float)"
   ]
  },
  {
   "cell_type": "code",
   "execution_count": 109,
   "metadata": {},
   "outputs": [
    {
     "data": {
      "text/plain": [
       "(2000, 1000, 300)"
      ]
     },
     "execution_count": 109,
     "metadata": {},
     "output_type": "execute_result"
    }
   ],
   "source": [
    "x.shape"
   ]
  },
  {
   "cell_type": "code",
   "execution_count": 110,
   "metadata": {},
   "outputs": [],
   "source": [
    "x_train, x_test, y_train, y_test = train_test_split(x, y, test_size=0.25)"
   ]
  },
  {
   "cell_type": "code",
   "execution_count": 111,
   "metadata": {},
   "outputs": [
    {
     "data": {
      "text/plain": [
       "(1500, 1000, 300)"
      ]
     },
     "execution_count": 111,
     "metadata": {},
     "output_type": "execute_result"
    }
   ],
   "source": [
    "x_train.shape"
   ]
  },
  {
   "cell_type": "code",
   "execution_count": 112,
   "metadata": {},
   "outputs": [
    {
     "data": {
      "text/plain": [
       "(500, 1000, 300)"
      ]
     },
     "execution_count": 112,
     "metadata": {},
     "output_type": "execute_result"
    }
   ],
   "source": [
    "x_test.shape"
   ]
  },
  {
   "cell_type": "code",
   "execution_count": 113,
   "metadata": {},
   "outputs": [],
   "source": [
    "model = Sequential()\n",
    "model.add(LSTM(128, input_shape=x_train[0].shape))\n",
    "model.add(Dropout(0.5))\n",
    "model.add(Dense(1, activation='sigmoid'))"
   ]
  },
  {
   "cell_type": "code",
   "execution_count": 114,
   "metadata": {},
   "outputs": [],
   "source": [
    "model.compile(\n",
    "    loss='binary_crossentropy',\n",
    "    optimizer='rmsprop',\n",
    "    metrics=['accuracy'],\n",
    ")"
   ]
  },
  {
   "cell_type": "code",
   "execution_count": 115,
   "metadata": {},
   "outputs": [
    {
     "name": "stdout",
     "output_type": "stream",
     "text": [
      "Epoch 1/10\n",
      "1500/1500 [==============================] - 58s 39ms/step - loss: 0.6977 - acc: 0.4993\n",
      "Epoch 2/10\n",
      "1500/1500 [==============================] - 45s 30ms/step - loss: 0.6894 - acc: 0.5160\n",
      "Epoch 3/10\n",
      "1500/1500 [==============================] - 45s 30ms/step - loss: 0.7243 - acc: 0.5127\n",
      "Epoch 4/10\n",
      "1500/1500 [==============================] - 45s 30ms/step - loss: 0.6820 - acc: 0.5287\n",
      "Epoch 5/10\n",
      "1500/1500 [==============================] - 45s 30ms/step - loss: 0.6741 - acc: 0.5253\n",
      "Epoch 6/10\n",
      "1500/1500 [==============================] - 45s 30ms/step - loss: 0.6646 - acc: 0.5460\n",
      "Epoch 7/10\n",
      "1500/1500 [==============================] - 45s 30ms/step - loss: 0.6930 - acc: 0.5353\n",
      "Epoch 8/10\n",
      "1500/1500 [==============================] - 45s 30ms/step - loss: 0.6459 - acc: 0.5447\n",
      "Epoch 9/10\n",
      "1500/1500 [==============================] - 45s 30ms/step - loss: 0.6389 - acc: 0.5320\n",
      "Epoch 10/10\n",
      "1500/1500 [==============================] - 45s 30ms/step - loss: 0.6507 - acc: 0.5433\n"
     ]
    },
    {
     "data": {
      "text/plain": [
       "<keras.callbacks.History at 0x2864e37b8>"
      ]
     },
     "execution_count": 115,
     "metadata": {},
     "output_type": "execute_result"
    }
   ],
   "source": [
    "model.fit(x_train, y_train)"
   ]
  },
  {
   "cell_type": "code",
   "execution_count": 116,
   "metadata": {},
   "outputs": [
    {
     "name": "stdout",
     "output_type": "stream",
     "text": [
      "500/500 [==============================] - 8s 16ms/step\n"
     ]
    },
    {
     "data": {
      "text/plain": [
       "[0.7075846290588379, 0.48199999952316286]"
      ]
     },
     "execution_count": 116,
     "metadata": {},
     "output_type": "execute_result"
    }
   ],
   "source": [
    "model.evaluate(x_test, y_test)"
   ]
  },
  {
   "cell_type": "code",
   "execution_count": 117,
   "metadata": {},
   "outputs": [
    {
     "data": {
      "text/plain": [
       "['loss', 'acc']"
      ]
     },
     "execution_count": 117,
     "metadata": {},
     "output_type": "execute_result"
    }
   ],
   "source": [
    "model.metrics_names"
   ]
  },
  {
   "cell_type": "code",
   "execution_count": null,
   "metadata": {},
   "outputs": [],
   "source": []
  }
 ],
 "metadata": {
  "kernelspec": {
   "display_name": "Python 3",
   "language": "python",
   "name": "python3"
  },
  "language_info": {
   "codemirror_mode": {
    "name": "ipython",
    "version": 3
   },
   "file_extension": ".py",
   "mimetype": "text/x-python",
   "name": "python",
   "nbconvert_exporter": "python",
   "pygments_lexer": "ipython3",
   "version": "3.6.2"
  }
 },
 "nbformat": 4,
 "nbformat_minor": 2
}
