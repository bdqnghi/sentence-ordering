{
 "cells": [
  {
   "cell_type": "code",
   "execution_count": 1,
   "metadata": {},
   "outputs": [],
   "source": [
    "import matplotlib as mpl\n",
    "import matplotlib.pyplot as plt\n",
    "\n",
    "%matplotlib inline\n",
    "mpl.style.use('bmh')"
   ]
  },
  {
   "cell_type": "code",
   "execution_count": 7,
   "metadata": {},
   "outputs": [],
   "source": [
    "import attr\n",
    "import re\n",
    "import numpy as np\n",
    "\n",
    "from collections import Counter, defaultdict\n",
    "from itertools import islice\n",
    "from boltons.iterutils import windowed\n",
    "from tqdm import tqdm_notebook\n",
    "from textblob import TextBlob\n",
    "\n",
    "from scipy.stats import spearmanr\n",
    "\n",
    "from sklearn.feature_extraction import DictVectorizer\n",
    "from sklearn.linear_model import LinearRegression\n",
    "from sklearn.metrics import r2_score"
   ]
  },
  {
   "cell_type": "code",
   "execution_count": 8,
   "metadata": {},
   "outputs": [],
   "source": [
    "class Corpus:\n",
    "    \n",
    "    def __init__(self, path, skim=None):\n",
    "        self.path = path\n",
    "        self.skim = skim\n",
    "        \n",
    "    def lines(self):\n",
    "        with open(self.path) as fh:\n",
    "            for line in fh:\n",
    "                yield line.strip()\n",
    "    \n",
    "    def abstract_lines(self):\n",
    "        lines = []\n",
    "        for line in self.lines():\n",
    "            if line:\n",
    "                lines.append(line)\n",
    "            else:\n",
    "                yield lines\n",
    "                lines = []\n",
    "\n",
    "    def abstracts(self):\n",
    "        ab_lines = self.abstract_lines()\n",
    "        if self.skim:\n",
    "            ab_lines = islice(ab_lines, self.skim)\n",
    "        for lines in tqdm_notebook(ab_lines):\n",
    "            yield Abstract.from_lines(lines)\n",
    "            \n",
    "    def xy(self, vocab):\n",
    "        for abstract in self.abstracts():\n",
    "            yield from abstract.xy(vocab)\n",
    "            \n",
    "    def ngram_counts(self, n):\n",
    "        counts = defaultdict(lambda: 0)\n",
    "        for ab in self.abstracts():\n",
    "            for sent in ab.sentences:\n",
    "                for ngram in sent.ngrams(n):\n",
    "                    counts[ngram] += 1\n",
    "        return Counter(counts)\n",
    "            \n",
    "    def most_common_ngrams(self, n, depth):\n",
    "        counts = self.ngram_counts(n)\n",
    "        return set([k for k, _ in counts.most_common(depth)])"
   ]
  },
  {
   "cell_type": "code",
   "execution_count": 14,
   "metadata": {},
   "outputs": [],
   "source": [
    "@attr.s\n",
    "class Abstract:\n",
    "    \n",
    "    identifier = attr.ib()\n",
    "    tags = attr.ib()\n",
    "    sentences = attr.ib()\n",
    "    \n",
    "    @classmethod\n",
    "    def from_lines(cls, lines):\n",
    "        sentences = list(map(Sentence, lines[2:]))\n",
    "        return cls(lines[0], lines[1].split(), sentences)\n",
    "    \n",
    "    def sentence_tokens(self):\n",
    "        for sent in self.sentences:\n",
    "            yield re.findall('[a-z]+', sent.lower())\n",
    "    \n",
    "    def xy(self, vocab):\n",
    "        for i, sent in enumerate(self.sentences):\n",
    "            x = sent.features(vocab)\n",
    "            y = i / (len(self.sentences)-1)\n",
    "            yield x, y"
   ]
  },
  {
   "cell_type": "code",
   "execution_count": 15,
   "metadata": {},
   "outputs": [],
   "source": [
    "class Sentence:\n",
    "    \n",
    "    def __init__(self, text):\n",
    "        self.blob = TextBlob(text)\n",
    "        \n",
    "    def tokens(self):\n",
    "        return list(self.blob.tokens)\n",
    "    \n",
    "    def ngrams(self, n=1):\n",
    "        for ng in windowed(self.tokens(), n):\n",
    "            yield '_'.join(ng)\n",
    "            \n",
    "    def ngram_counts(self, vocab, maxn=3):\n",
    "        for n in range(1, maxn+1):\n",
    "            counts = Counter(self.ngrams(n))\n",
    "            for k, v in counts.items():\n",
    "                if k in vocab:\n",
    "                    yield f'_{k}', v\n",
    "                    \n",
    "    def word_count(self):\n",
    "        return len(list(self.ngrams(1)))\n",
    "                \n",
    "    def _features(self, vocab):\n",
    "        yield from self.ngram_counts(vocab)\n",
    "        yield 'word_count', self.word_count()\n",
    "        \n",
    "    def features(self, vocab):\n",
    "        return dict(self._features(vocab))"
   ]
  },
  {
   "cell_type": "code",
   "execution_count": 16,
   "metadata": {},
   "outputs": [],
   "source": [
    "train = Corpus('../data/abstracts/train.txt', 100000)"
   ]
  },
  {
   "cell_type": "code",
   "execution_count": 17,
   "metadata": {},
   "outputs": [
    {
     "data": {
      "application/vnd.jupyter.widget-view+json": {
       "model_id": "e26ff18952e24933bf72eff13a39d547",
       "version_major": 2,
       "version_minor": 0
      },
      "text/html": [
       "<p>Failed to display Jupyter Widget of type <code>HBox</code>.</p>\n",
       "<p>\n",
       "  If you're reading this message in Jupyter Notebook or JupyterLab, it may mean\n",
       "  that the widgets JavaScript is still loading. If this message persists, it\n",
       "  likely means that the widgets JavaScript library is either not installed or\n",
       "  not enabled. See the <a href=\"https://ipywidgets.readthedocs.io/en/stable/user_install.html\">Jupyter\n",
       "  Widgets Documentation</a> for setup instructions.\n",
       "</p>\n",
       "<p>\n",
       "  If you're reading this message in another notebook frontend (for example, a static\n",
       "  rendering on GitHub or <a href=\"https://nbviewer.jupyter.org/\">NBViewer</a>),\n",
       "  it may mean that your frontend doesn't currently support widgets.\n",
       "</p>\n"
      ],
      "text/plain": [
       "HBox(children=(IntProgress(value=1, bar_style='info', max=1), HTML(value='')))"
      ]
     },
     "metadata": {},
     "output_type": "display_data"
    },
    {
     "name": "stdout",
     "output_type": "stream",
     "text": [
      "\n"
     ]
    },
    {
     "data": {
      "application/vnd.jupyter.widget-view+json": {
       "model_id": "16fb111bfe3c4967b0df303be26e9edd",
       "version_major": 2,
       "version_minor": 0
      },
      "text/html": [
       "<p>Failed to display Jupyter Widget of type <code>HBox</code>.</p>\n",
       "<p>\n",
       "  If you're reading this message in Jupyter Notebook or JupyterLab, it may mean\n",
       "  that the widgets JavaScript is still loading. If this message persists, it\n",
       "  likely means that the widgets JavaScript library is either not installed or\n",
       "  not enabled. See the <a href=\"https://ipywidgets.readthedocs.io/en/stable/user_install.html\">Jupyter\n",
       "  Widgets Documentation</a> for setup instructions.\n",
       "</p>\n",
       "<p>\n",
       "  If you're reading this message in another notebook frontend (for example, a static\n",
       "  rendering on GitHub or <a href=\"https://nbviewer.jupyter.org/\">NBViewer</a>),\n",
       "  it may mean that your frontend doesn't currently support widgets.\n",
       "</p>\n"
      ],
      "text/plain": [
       "HBox(children=(IntProgress(value=1, bar_style='info', max=1), HTML(value='')))"
      ]
     },
     "metadata": {},
     "output_type": "display_data"
    },
    {
     "name": "stdout",
     "output_type": "stream",
     "text": [
      "\n"
     ]
    },
    {
     "data": {
      "application/vnd.jupyter.widget-view+json": {
       "model_id": "b333d0744a5b472cb17c6d7eddb837cc",
       "version_major": 2,
       "version_minor": 0
      },
      "text/html": [
       "<p>Failed to display Jupyter Widget of type <code>HBox</code>.</p>\n",
       "<p>\n",
       "  If you're reading this message in Jupyter Notebook or JupyterLab, it may mean\n",
       "  that the widgets JavaScript is still loading. If this message persists, it\n",
       "  likely means that the widgets JavaScript library is either not installed or\n",
       "  not enabled. See the <a href=\"https://ipywidgets.readthedocs.io/en/stable/user_install.html\">Jupyter\n",
       "  Widgets Documentation</a> for setup instructions.\n",
       "</p>\n",
       "<p>\n",
       "  If you're reading this message in another notebook frontend (for example, a static\n",
       "  rendering on GitHub or <a href=\"https://nbviewer.jupyter.org/\">NBViewer</a>),\n",
       "  it may mean that your frontend doesn't currently support widgets.\n",
       "</p>\n"
      ],
      "text/plain": [
       "HBox(children=(IntProgress(value=1, bar_style='info', max=1), HTML(value='')))"
      ]
     },
     "metadata": {},
     "output_type": "display_data"
    },
    {
     "name": "stdout",
     "output_type": "stream",
     "text": [
      "\n"
     ]
    }
   ],
   "source": [
    "vocab = (\n",
    "    train.most_common_ngrams(1, 2000) |\n",
    "    train.most_common_ngrams(2, 2000) |\n",
    "    train.most_common_ngrams(3, 2000)\n",
    ")"
   ]
  },
  {
   "cell_type": "code",
   "execution_count": 20,
   "metadata": {},
   "outputs": [],
   "source": [
    "dv = DictVectorizer()"
   ]
  },
  {
   "cell_type": "code",
   "execution_count": 21,
   "metadata": {},
   "outputs": [
    {
     "data": {
      "application/vnd.jupyter.widget-view+json": {
       "model_id": "d48f9c50364f4a43bf1a1f37c2117b58",
       "version_major": 2,
       "version_minor": 0
      },
      "text/html": [
       "<p>Failed to display Jupyter Widget of type <code>HBox</code>.</p>\n",
       "<p>\n",
       "  If you're reading this message in Jupyter Notebook or JupyterLab, it may mean\n",
       "  that the widgets JavaScript is still loading. If this message persists, it\n",
       "  likely means that the widgets JavaScript library is either not installed or\n",
       "  not enabled. See the <a href=\"https://ipywidgets.readthedocs.io/en/stable/user_install.html\">Jupyter\n",
       "  Widgets Documentation</a> for setup instructions.\n",
       "</p>\n",
       "<p>\n",
       "  If you're reading this message in another notebook frontend (for example, a static\n",
       "  rendering on GitHub or <a href=\"https://nbviewer.jupyter.org/\">NBViewer</a>),\n",
       "  it may mean that your frontend doesn't currently support widgets.\n",
       "</p>\n"
      ],
      "text/plain": [
       "HBox(children=(IntProgress(value=1, bar_style='info', max=1), HTML(value='')))"
      ]
     },
     "metadata": {},
     "output_type": "display_data"
    },
    {
     "name": "stdout",
     "output_type": "stream",
     "text": [
      "\n"
     ]
    }
   ],
   "source": [
    "train_x, train_y = zip(*train.xy(vocab))"
   ]
  },
  {
   "cell_type": "code",
   "execution_count": 22,
   "metadata": {},
   "outputs": [],
   "source": [
    "train_x = dv.fit_transform(train_x)"
   ]
  },
  {
   "cell_type": "code",
   "execution_count": 23,
   "metadata": {},
   "outputs": [
    {
     "data": {
      "text/plain": [
       "<537608x6001 sparse matrix of type '<class 'numpy.float64'>'\n",
       "\twith 15744810 stored elements in Compressed Sparse Row format>"
      ]
     },
     "execution_count": 23,
     "metadata": {},
     "output_type": "execute_result"
    }
   ],
   "source": [
    "train_x"
   ]
  },
  {
   "cell_type": "code",
   "execution_count": 24,
   "metadata": {},
   "outputs": [],
   "source": [
    "model = LinearRegression()"
   ]
  },
  {
   "cell_type": "code",
   "execution_count": 25,
   "metadata": {},
   "outputs": [],
   "source": [
    "fit = model.fit(train_x, train_y)"
   ]
  },
  {
   "cell_type": "code",
   "execution_count": 26,
   "metadata": {},
   "outputs": [],
   "source": [
    "test = Corpus('../data/abstracts/test.txt', 50000)"
   ]
  },
  {
   "cell_type": "code",
   "execution_count": 27,
   "metadata": {},
   "outputs": [
    {
     "data": {
      "application/vnd.jupyter.widget-view+json": {
       "model_id": "dd38ddb2319f433abcd8033b2c7e53f7",
       "version_major": 2,
       "version_minor": 0
      },
      "text/html": [
       "<p>Failed to display Jupyter Widget of type <code>HBox</code>.</p>\n",
       "<p>\n",
       "  If you're reading this message in Jupyter Notebook or JupyterLab, it may mean\n",
       "  that the widgets JavaScript is still loading. If this message persists, it\n",
       "  likely means that the widgets JavaScript library is either not installed or\n",
       "  not enabled. See the <a href=\"https://ipywidgets.readthedocs.io/en/stable/user_install.html\">Jupyter\n",
       "  Widgets Documentation</a> for setup instructions.\n",
       "</p>\n",
       "<p>\n",
       "  If you're reading this message in another notebook frontend (for example, a static\n",
       "  rendering on GitHub or <a href=\"https://nbviewer.jupyter.org/\">NBViewer</a>),\n",
       "  it may mean that your frontend doesn't currently support widgets.\n",
       "</p>\n"
      ],
      "text/plain": [
       "HBox(children=(IntProgress(value=1, bar_style='info', max=1), HTML(value='')))"
      ]
     },
     "metadata": {},
     "output_type": "display_data"
    },
    {
     "name": "stdout",
     "output_type": "stream",
     "text": [
      "\n"
     ]
    }
   ],
   "source": [
    "test_x, test_y = zip(*test.xy(vocab))"
   ]
  },
  {
   "cell_type": "code",
   "execution_count": 28,
   "metadata": {},
   "outputs": [],
   "source": [
    "test_x = dv.transform(test_x)"
   ]
  },
  {
   "cell_type": "code",
   "execution_count": 29,
   "metadata": {},
   "outputs": [
    {
     "data": {
      "text/plain": [
       "0.32400767102412564"
      ]
     },
     "execution_count": 29,
     "metadata": {},
     "output_type": "execute_result"
    }
   ],
   "source": [
    "r2_score(test_y, fit.predict(test_x))"
   ]
  },
  {
   "cell_type": "code",
   "execution_count": 30,
   "metadata": {},
   "outputs": [],
   "source": [
    "names = dv.get_feature_names()"
   ]
  },
  {
   "cell_type": "code",
   "execution_count": 31,
   "metadata": {},
   "outputs": [],
   "source": [
    "bidx = fit.coef_.argsort()\n",
    "eidx = np.flip(fit.coef_.argsort(), 0)"
   ]
  },
  {
   "cell_type": "code",
   "execution_count": 32,
   "metadata": {},
   "outputs": [
    {
     "name": "stdout",
     "output_type": "stream",
     "text": [
      "-0.266546266594 _Let\n",
      "-0.236484510711 _Recent\n",
      "-0.231855080922 _We_study\n",
      "-0.219540826668 _in_terms_of\n",
      "-0.207698285101 _We_report\n",
      "-0.201042097052 _M__{\n",
      "-0.19591955639 _In_addition_to\n",
      "-0.195195605708 _We_investigate\n",
      "-0.191597215165 _This_paper\n",
      "-0.190442883633 _We_consider\n",
      "-0.185266561338 _Recently\n",
      "-0.182951160254 _is_proposed_.\n",
      "-0.180322830699 _We_present\n",
      "-0.178625818263 _this_paper_.\n",
      "-0.173903109756 _is_well_known\n",
      "-0.168648868943 _the_context_of\n",
      "-0.166948797856 _We_review\n",
      "-0.16169720055 _is_one_of\n",
      "-0.161315879641 _$__2\n",
      "-0.159517192417 _We_introduce\n",
      "-0.156949507942 _Sloan_Digital_Sky\n",
      "-0.1552505477 _The_problem_of\n",
      "-0.152335085063 _In_the_first\n",
      "-0.148400379036 _One_of_the\n",
      "-0.140703451359 _the_framework_of\n",
      "-0.14004564946 _is_considered\n",
      "-0.139853183054 _for_example\n",
      "-0.139108578239 _often\n",
      "-0.13886958204 _article\n",
      "-0.137688060182 _with_respect_to\n",
      "-0.136684840905 _We_construct\n",
      "-0.136518752261 _We_prove\n",
      "-0.136081285654 _is_devoted_to\n",
      "-0.133521965758 _usually\n",
      "-0.133301509911 _is_studied\n",
      "-0.131275447039 _et_al\n",
      "-0.129724664306 _We_propose_a\n",
      "-0.126845070016 _are_known_to\n",
      "-0.126579008854 _It_has\n",
      "-0.122904218321 _large_number_of\n",
      "-0.121744762871 _{_-2\n",
      "-0.121294529976 _We_extend_the\n",
      "-0.120777325418 _Our_results_show\n",
      "-0.118888631459 _but_also\n",
      "-0.118249461279 _are_able\n",
      "-0.113796032668 _is_presented\n",
      "-0.113124960587 _For_example_,\n",
      "-0.112805464818 _As_a_result\n",
      "-0.112793823967 _T_\n",
      "-0.112592210753 _We_provide_a\n"
     ]
    }
   ],
   "source": [
    "for i in bidx[:50]:\n",
    "    print(fit.coef_[i], names[i])"
   ]
  },
  {
   "cell_type": "code",
   "execution_count": 33,
   "metadata": {
    "scrolled": false
   },
   "outputs": [
    {
     "name": "stdout",
     "output_type": "stream",
     "text": [
      "0.364761729788 _Finally\n",
      "0.234796568247 _Furthermore\n",
      "0.234685423131 _In_addition\n",
      "0.229464516328 _Also\n",
      "0.224865580184 _We_have_also\n",
      "0.223074873731 _M_\n",
      "0.219429605628 _Moreover\n",
      "0.209241764811 _conclude\n",
      "0.208318135264 _comment_on_the\n",
      "0.207143106289 _Thus\n",
      "0.206224710241 _Further\n",
      "0.205191644428 _in_terms\n",
      "0.191668331405 _(_ii_)\n",
      "0.183650995931 _implications\n",
      "0.17697692498 _In_this_way\n",
      "0.169174674005 _light_on_the\n",
      "0.168479866395 _illustrate\n",
      "0.168298534575 _We_conclude\n",
      "0.167801528467 _findings\n",
      "0.164622682918 _can_be_understood\n",
      "0.157619584575 _Therefore\n",
      "0.156300873612 _In_particular\n",
      "0.155828704388 _with_respect\n",
      "0.155124389274 _We_also\n",
      "0.151466025506 _The_proposed\n",
      "0.151070740759 _In_this_case\n",
      "0.15082062373 _Our\n",
      "0.149785536321 _$__2_$\n",
      "0.14805951089 _suggests\n",
      "0.147077376732 _These_results\n",
      "0.145695721045 _examples\n",
      "0.143731363237 _paper_.\n",
      "0.143355592031 _are_shown\n",
      "0.143106102926 _We_propose_that\n",
      "0.137908170895 _thus\n",
      "0.135423057974 _the_other_hand\n",
      "0.13536320612 _the_proposed\n",
      "0.133595792035 _consequence\n",
      "0.133573277915 _Then\n",
      "0.132957696504 _also\n",
      "0.132290955576 _This\n",
      "0.132145559963 _briefly\n",
      "0.131995784112 _,_however_,\n",
      "0.129258741114 _proof\n",
      "0.12758516559 _given_.\n",
      "0.127541689508 _example\n",
      "0.127201842223 _More\n",
      "0.125231774226 _Digital_Sky_Survey\n",
      "0.124557571741 _]\n",
      "0.123482657214 _indicates\n"
     ]
    }
   ],
   "source": [
    "for i in eidx[:50]:\n",
    "    print(fit.coef_[i], names[i])"
   ]
  },
  {
   "cell_type": "code",
   "execution_count": null,
   "metadata": {},
   "outputs": [],
   "source": [
    "correct = Counter()\n",
    "total = Counter()\n",
    "\n",
    "for ab in test.abstracts():\n",
    "    \n",
    "    x, _ = zip(*ab.xy(vocab))\n",
    "    x = dv.transform(x)\n",
    "    \n",
    "    order = list(fit.predict(x).argsort().argsort())\n",
    "    \n",
    "    if sorted(order) == order:\n",
    "        correct[len(order)] += 1\n",
    "        \n",
    "    total[len(order)] += 1"
   ]
  },
  {
   "cell_type": "code",
   "execution_count": 36,
   "metadata": {},
   "outputs": [
    {
     "name": "stdout",
     "output_type": "stream",
     "text": [
      "2 0.8835944299390774\n",
      "3 0.5527894804034215\n",
      "4 0.25656894679695985\n",
      "5 0.08528864059590316\n",
      "6 0.024516737388024516\n",
      "7 0.006248653307476837\n",
      "8 0.0018023430459597476\n",
      "9 0.0004361098996947231\n",
      "11 0.0010193679918450561\n"
     ]
    }
   ],
   "source": [
    "for slen in sorted(correct.keys()):\n",
    "    print(slen, correct[slen] / total[slen])"
   ]
  },
  {
   "cell_type": "code",
   "execution_count": 37,
   "metadata": {},
   "outputs": [
    {
     "data": {
      "text/plain": [
       "0.23268"
      ]
     },
     "execution_count": 37,
     "metadata": {},
     "output_type": "execute_result"
    }
   ],
   "source": [
    "sum(correct.values()) / sum(total.values())"
   ]
  },
  {
   "cell_type": "markdown",
   "metadata": {},
   "source": [
    "# Sentence length vs. percentage correct"
   ]
  },
  {
   "cell_type": "code",
   "execution_count": 38,
   "metadata": {},
   "outputs": [
    {
     "data": {
      "text/plain": [
       "[<matplotlib.lines.Line2D at 0x116ee5eb8>]"
      ]
     },
     "execution_count": 38,
     "metadata": {},
     "output_type": "execute_result"
    },
    {
     "data": {
      "image/png": "[encoded data removed]",
      "text/plain": [
       "<matplotlib.figure.Figure at 0x116dc09e8>"
      ]
     },
     "metadata": {},
     "output_type": "display_data"
    }
   ],
   "source": [
    "x = sorted(correct.keys())\n",
    "y = [correct[slen] / total[slen] for slen in x]\n",
    "\n",
    "plt.xlabel('Sentence length')\n",
    "plt.ylabel('Percentage correct')\n",
    "plt.plot(x, y)"
   ]
  }
 ],
 "metadata": {
  "kernelspec": {
   "display_name": "Python 3",
   "language": "python",
   "name": "python3"
  },
  "language_info": {
   "codemirror_mode": {
    "name": "ipython",
    "version": 3
   },
   "file_extension": ".py",
   "mimetype": "text/x-python",
   "name": "python",
   "nbconvert_exporter": "python",
   "pygments_lexer": "ipython3",
   "version": "3.6.2"
  }
 },
 "nbformat": 4,
 "nbformat_minor": 2
}
