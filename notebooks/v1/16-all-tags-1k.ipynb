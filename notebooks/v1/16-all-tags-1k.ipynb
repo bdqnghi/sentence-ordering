{
 "cells": [
  {
   "cell_type": "code",
   "execution_count": 1,
   "metadata": {},
   "outputs": [],
   "source": [
    "import ujson\n",
    "import numpy as np\n",
    "\n",
    "from glob import glob\n",
    "from itertools import islice\n",
    "\n",
    "from sklearn.feature_extraction import DictVectorizer\n",
    "from sklearn.linear_model import LinearRegression\n",
    "from sklearn.metrics import r2_score"
   ]
  },
  {
   "cell_type": "code",
   "execution_count": 2,
   "metadata": {},
   "outputs": [],
   "source": [
    "def read_xy(pattern):\n",
    "    for path in glob(pattern):\n",
    "        with open(path) as fh:\n",
    "            for line in fh:\n",
    "                row = ujson.loads(line.strip())\n",
    "                del row['x']['avg_word_len']\n",
    "                yield row['x'], row['y']"
   ]
  },
  {
   "cell_type": "code",
   "execution_count": 3,
   "metadata": {},
   "outputs": [],
   "source": [
    "iter_dev = read_xy('/Users/dclure/Projects/sent-order/data/xy-dev.json/*.json')"
   ]
  },
  {
   "cell_type": "code",
   "execution_count": 4,
   "metadata": {},
   "outputs": [],
   "source": [
    "x_dev, y_dev = zip(*islice(iter_dev, 200000))"
   ]
  },
  {
   "cell_type": "code",
   "execution_count": 5,
   "metadata": {},
   "outputs": [],
   "source": [
    "iter_test = read_xy('/Users/dclure/Projects/sent-order/data/xy-test.json/*.json')"
   ]
  },
  {
   "cell_type": "code",
   "execution_count": 6,
   "metadata": {},
   "outputs": [],
   "source": [
    "x_test, y_test = zip(*islice(iter_test, 50000))"
   ]
  },
  {
   "cell_type": "code",
   "execution_count": 8,
   "metadata": {},
   "outputs": [],
   "source": [
    "dv = DictVectorizer()"
   ]
  },
  {
   "cell_type": "code",
   "execution_count": 9,
   "metadata": {},
   "outputs": [],
   "source": [
    "x_dev = dv.fit_transform(x_dev)"
   ]
  },
  {
   "cell_type": "code",
   "execution_count": 10,
   "metadata": {},
   "outputs": [
    {
     "data": {
      "text/plain": [
       "<200000x14364 sparse matrix of type '<class 'numpy.float64'>'\n",
       "\twith 45585470 stored elements in Compressed Sparse Row format>"
      ]
     },
     "execution_count": 10,
     "metadata": {},
     "output_type": "execute_result"
    }
   ],
   "source": [
    "x_dev"
   ]
  },
  {
   "cell_type": "code",
   "execution_count": 11,
   "metadata": {},
   "outputs": [],
   "source": [
    "model = LinearRegression()"
   ]
  },
  {
   "cell_type": "code",
   "execution_count": 12,
   "metadata": {},
   "outputs": [],
   "source": [
    "fit = model.fit(x_dev, y_dev)"
   ]
  },
  {
   "cell_type": "code",
   "execution_count": 13,
   "metadata": {},
   "outputs": [],
   "source": [
    "x_test = dv.transform(x_test)"
   ]
  },
  {
   "cell_type": "code",
   "execution_count": 14,
   "metadata": {},
   "outputs": [],
   "source": [
    "y_test_pred = fit.predict(x_test)"
   ]
  },
  {
   "cell_type": "code",
   "execution_count": 15,
   "metadata": {},
   "outputs": [
    {
     "data": {
      "text/plain": [
       "0.30951990923549777"
      ]
     },
     "execution_count": 15,
     "metadata": {},
     "output_type": "execute_result"
    }
   ],
   "source": [
    "r2_score(y_test, y_test_pred)"
   ]
  },
  {
   "cell_type": "code",
   "execution_count": 16,
   "metadata": {},
   "outputs": [],
   "source": [
    "names = dv.get_feature_names()"
   ]
  },
  {
   "cell_type": "code",
   "execution_count": 17,
   "metadata": {},
   "outputs": [],
   "source": [
    "bidx = fit.coef_.argsort()\n",
    "eidx = np.flip(fit.coef_.argsort(), 0)"
   ]
  },
  {
   "cell_type": "code",
   "execution_count": 18,
   "metadata": {},
   "outputs": [
    {
     "name": "stdout",
     "output_type": "stream",
     "text": [
      "-0.727891925867 _pos2_DET_NOUN\n",
      "-0.507867739868 _tag2_,_WP$\n",
      "-0.497477218914 _pos3_ADP_PROPN_NUM\n",
      "-0.472919532695 _text1_whose\n",
      "-0.458204547581 _text1_'s\n",
      "-0.441488851993 _pos2_DET_X\n",
      "-0.421528259557 _shape1_\\xxxx$-xxxx\n",
      "-0.418161270193 _tag3_IN_DT_NNS\n",
      "-0.414845723092 _tag3_IN_DT_NN\n",
      "-0.409494118103 _pos2_DET_PUNCT\n",
      "-0.399446457502 _pos2_DET_PART\n",
      "-0.383796688512 _text3_are_able_to\n",
      "-0.379854243894 _pos2_DET_ADV\n",
      "-0.359992641433 _shape1_^{dd}$Xx\n",
      "-0.358321037223 _pos2_NUM_PART\n",
      "-0.351983442893 _text2_by_means\n",
      "-0.348087713562 _shape1_Xx(ddd\n",
      "-0.342928555616 _text2_with_respect\n",
      "-0.336671274742 _text3_so_-_called\n",
      "-0.328417137891 _pos2_ADV_SPACE\n",
      "-0.320956141101 _pos2_DET_SYM\n",
      "-0.314189355137 _shape1_x^d$.\n",
      "-0.305616497115 _text2_Monte_Carlo\n",
      "-0.303817228887 _pos2_DET_ADJ\n",
      "-0.29654298905 _pos2_DET_SPACE\n",
      "-0.29065619199 _pos2_NOUN_PUNCT\n",
      "-0.289024340478 _pos2_NOUN_ADV\n",
      "-0.286907584714 _pos2_VERB_NUM\n",
      "-0.284679217661 _pos2_DET_INTJ\n",
      "-0.280051751153 _pos2_NOUN_NOUN\n",
      "-0.279212593464 _tag2_WRB_TO\n",
      "-0.276399771199 _pos3_PRON_VERB_ADV\n",
      "-0.268874225869 _pos2_PART_PART\n",
      "-0.268687013523 _pos2_NOUN_VERB\n",
      "-0.26113801021 _pos2_VERB_PART\n",
      "-0.25978396735 _pos2_DET_VERB\n",
      "-0.25906269274 _pos3_PRON_VERB_CCONJ\n",
      "-0.258264088806 _pos2_VERB_SYM\n",
      "-0.257616882556 _pos2_PUNCT_SYM\n",
      "-0.256888688023 _shape2_(_d,d\n",
      "-0.255407332497 _text3_-_the_-\n",
      "-0.252840100154 _pos2_PROPN_NOUN\n",
      "-0.252328101266 _pos3_PRON_VERB_PUNCT\n",
      "-0.251945005968 _pos2_SPACE_CCONJ\n",
      "-0.247547360343 _pos2_DET_PROPN\n",
      "-0.240565309653 _pos2_ADV_SYM\n",
      "-0.239859522627 _text1_Recently\n",
      "-0.238970226491 _pos2_NUM_ADJ\n",
      "-0.237720314429 _pos2_NUM_PUNCT\n",
      "-0.236663443971 _text2_We_study\n",
      "-0.235301728143 _pos2_NOUN_CCONJ\n",
      "-0.234351905818 _text3_Monte_-_Carlo\n",
      "-0.234333060306 _shape1_xxxx(XX\n",
      "-0.233690877356 _pos2_NUM_NOUN\n",
      "-0.231871143592 _pos2_NOUN_ADP\n",
      "-0.231867307326 _pos3_VERB_ADP_DET\n",
      "-0.230420367343 _text3_We_extend_the\n",
      "-0.228917797708 _pos2_NOUN_PROPN\n",
      "-0.226096956753 _pos2_ADV_ADV\n",
      "-0.223062287854 _pos2_NOUN_SYM\n",
      "-0.222898812436 _pos2_VERB_X\n",
      "-0.222639008092 _shape3_$_x$-xxxx_xxxx\n",
      "-0.219742689369 _text1_Let\n",
      "-0.217134113983 _tag2_DT_AFX\n",
      "-0.214283330827 _pos3_PRON_VERB_VERB\n",
      "-0.214182181973 _pos3_PRON_VERB_ADJ\n",
      "-0.211948759394 _tag2_NNP_PRP\n",
      "-0.211418728318 _tag2_RP_CC\n",
      "-0.210931601837 _tag2_DT_IN\n",
      "-0.210931601837 _pos2_DET_ADP\n",
      "-0.208756048129 _pos2_PRON_SYM\n",
      "-0.208400085557 _pos2_VERB_NOUN\n",
      "-0.20827909557 _shape2_dd^{dd_}\n",
      "-0.206074956926 _pos2_PART_SYM\n",
      "-0.205318297862 _shape1_X.X.X.\n",
      "-0.204970750036 _text1_Recent\n",
      "-0.204946855884 _text2_in_terms\n",
      "-0.203055984913 _tag2_DT_SYM\n",
      "-0.202591268857 _text3_in_agreement_with\n",
      "-0.201959253179 _tag3_JJR_IN_CD\n",
      "-0.201909442342 _shape2_-_xx/dddd\n",
      "-0.2017066936 _tag2_DT_CD\n",
      "-0.2017066936 _pos2_DET_NUM\n",
      "-0.201419808668 _pos3_PRON_VERB_PART\n",
      "-0.201095035928 _pos2_PART_PRON\n",
      "-0.200526216552 _text2_,_due\n",
      "-0.199224607377 _text2_This_paper\n",
      "-0.198869485118 _tag2_NNP_DT\n",
      "-0.198358237911 _pos3_PRON_VERB_DET\n",
      "-0.198333370234 _text3_the_framework_of\n",
      "-0.195912786801 _pos2_DET_DET\n",
      "-0.195912786801 _tag2_DT_DT\n",
      "-0.194516889275 _pos2_DET_CCONJ\n",
      "-0.194516889275 _tag2_DT_CC\n",
      "-0.193507463627 _pos2_PRON_PUNCT\n",
      "-0.192851373187 _pos3_PRON_VERB_ADP\n",
      "-0.191311513455 _pos2_VERB_ADP\n",
      "-0.189161025042 _pos2_VERB_ADJ\n",
      "-0.188408946143 _text2_are_based\n",
      "-0.188296567037 _text3_In_addition_to\n"
     ]
    }
   ],
   "source": [
    "for i in bidx[:100]:\n",
    "    print(fit.coef_[i], names[i])"
   ]
  },
  {
   "cell_type": "code",
   "execution_count": 19,
   "metadata": {},
   "outputs": [
    {
     "name": "stdout",
     "output_type": "stream",
     "text": [
      "0.472738195899 _text2_,_whose\n",
      "0.472659814075 _tag1_WP$\n",
      "0.46555235012 _tag3_IN_NNP_CD\n",
      "0.43760165545 _shape1_'x\n",
      "0.429910012944 _pos3_ADP_DET_NOUN\n",
      "0.425799581286 _shape2_$_\\xxxx$-xxxx\n",
      "0.393924598614 _text3_with_respect_to\n",
      "0.380937970751 _text3_by_means_of\n",
      "0.379184507723 _shape2_$_^{dd}$Xx\n",
      "0.345505765989 _text2_are_able\n",
      "0.337536348885 _tag2_DT_NN\n",
      "0.330444325937 _tag2_DT_NNS\n",
      "0.329694222758 _text1_Carlo\n",
      "0.303510297992 _tag3_VBD_IN_DT\n",
      "0.292643094623 _shape2_Xx(ddd_)\n",
      "0.289718271945 _tag3_VBP_IN_DT\n",
      "0.287378786893 _tag3_VB_IN_DT\n",
      "0.287355144759 _text1_Finally\n",
      "0.284195501191 _tag3_VBZ_IN_DT\n",
      "0.277887475701 _tag3_VBN_IN_DT\n",
      "0.269807112501 _tag3_VBG_IN_DT\n",
      "0.268568226274 _shape2_d,d_)\n",
      "0.264752825224 _shape1_xxxx.(Xxxxx\n",
      "0.251788480419 _text2_the_-\n",
      "0.236873703524 _shape1_dd^{dd\n",
      "0.230808918478 _tag2_CD_TO\n",
      "0.224311952845 _tag2_NN_MD\n",
      "0.222730509816 _text3_,_due_to\n",
      "0.215294205506 _text1_conclude\n",
      "0.212025284611 _tag2_CD_POS\n",
      "0.20868416362 _tag2_UH_JJ\n",
      "0.208089914901 _shape1_xx/dddd\n",
      "0.206705805416 _text2_in_agreement\n",
      "0.203331986767 _shape2_x$-xxxx_xxxx\n",
      "0.200311274691 _text2_so_-\n",
      "0.199271034018 _pos3_ADJ_ADP_NUM\n",
      "0.197456774432 _shape1_X.$\n",
      "0.196700642207 _text3_in_terms_of\n",
      "0.194970567828 _text3_In_this_way\n",
      "0.193998455617 _text2_In_addition\n",
      "0.191981975076 _shape1_X_{xxxx\n",
      "0.190867404323 _tag2_CC_WRB\n",
      "0.190854096516 _text2_We_conclude\n",
      "0.190780105426 _text3_property_of_the\n",
      "0.190526699027 _pos2_NUM_SPACE\n",
      "0.190396196643 _shape2_(_x.x.\n",
      "0.189242858885 _text2_-_called\n",
      "0.187834776737 _tag2_$_NNP\n",
      "0.187072282827 _tag2_CD_JJ\n",
      "0.184605562618 _tag2_NN_VB\n",
      "0.184598491728 _text3_We_have_also\n",
      "0.184462503971 _text2_able_to\n",
      "0.183269796432 _tag2_NN_NNP\n",
      "0.18094919241 _text2_how_to\n",
      "0.179668782418 _pos2_PROPN_SPACE\n",
      "0.177340185778 _text2_These_results\n",
      "0.176203440426 _text3_,_we_can\n",
      "0.175946411978 _shape1_xxxx.(xxxx\n",
      "0.175468791838 _dep2_dep_det\n",
      "0.175088546144 _text1_Moreover\n",
      "0.174731984136 _text1_Furthermore\n",
      "0.174016040078 _pos2_PROPN_PRON\n",
      "0.172706454926 _text3_In_the_second\n",
      "0.172543603446 _tag2_NNS_MD\n",
      "0.172305586196 _text1_consequence\n",
      "0.172016301527 _shape1_--xxxx\n",
      "0.171977144362 _text1_implications\n",
      "0.17193251748 _shape1_....\n",
      "0.171082403431 _shape1_XxX}$\n",
      "0.167458342857 _shape1_XxXXd\n",
      "0.166954379978 _text3_We_propose_that\n",
      "0.16676282433 _text1_Thus\n",
      "0.165593334663 _tag3_IN_NN_CC\n",
      "0.164471483843 _text1_Also\n",
      "0.164449750236 _pos2_X_INTJ\n",
      "0.163186331785 _text2_As_an\n",
      "0.163129362997 _tag3_IN_NNS_CC\n",
      "0.162234479613 _tag2_NN_NNPS\n",
      "0.160675921803 _tag2_NN_VBP\n",
      "0.160563462248 _shape1_XXXXxxx\n",
      "0.159495993603 _tag3_IN_PDT_DT\n",
      "0.158920781439 _text3_a_variety_of\n",
      "0.158273337713 _text1_examples\n",
      "0.158251045518 _tag1_DT\n",
      "0.158251045518 _pos1_DET\n",
      "0.158015505767 _pos2_PRON_PROPN\n",
      "0.15769920442 _tag2_NNPS_NN\n",
      "0.157412794538 _text2_-_consistent\n",
      "0.155866178892 _text3_are_based_on\n",
      "0.154797488757 _tag2_NNS_NNP\n",
      "0.154550530274 _tag2_CD_JJR\n",
      "0.154470239655 _shape1_\\xx_{\\xx\n",
      "0.154220180365 _tag2_CD_WDT\n",
      "0.153307366113 _tag2_WP_VBZ\n",
      "0.153058455532 _tag2_NNP_NN\n",
      "0.152850154647 _shape1_dd^{-dd}$\n",
      "0.152145066907 _tag2_RP_IN\n",
      "0.151424745604 _tag2_SYM_NNP\n",
      "0.15132893707 _tag3_IN_CD_NN\n",
      "0.151297359646 _tag3_IN_DT_AFX\n"
     ]
    }
   ],
   "source": [
    "for i in eidx[:100]:\n",
    "    print(fit.coef_[i], names[i])"
   ]
  },
  {
   "cell_type": "code",
   "execution_count": null,
   "metadata": {},
   "outputs": [],
   "source": []
  }
 ],
 "metadata": {
  "kernelspec": {
   "display_name": "Python 3",
   "language": "python",
   "name": "python3"
  },
  "language_info": {
   "codemirror_mode": {
    "name": "ipython",
    "version": 3
   },
   "file_extension": ".py",
   "mimetype": "text/x-python",
   "name": "python",
   "nbconvert_exporter": "python",
   "pygments_lexer": "ipython3",
   "version": "3.6.2"
  }
 },
 "nbformat": 4,
 "nbformat_minor": 2
}
