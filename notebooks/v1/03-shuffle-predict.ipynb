{
 "cells": [
  {
   "cell_type": "code",
   "execution_count": 30,
   "metadata": {},
   "outputs": [],
   "source": [
    "import re\n",
    "import numpy as np\n",
    "import random\n",
    "\n",
    "from collections.abc import Sequence\n",
    "\n",
    "from cached_property import cached_property\n",
    "from gensim.models import KeyedVectors\n",
    "\n",
    "from sklearn.model_selection import train_test_split\n",
    "\n",
    "from keras.preprocessing.sequence import pad_sequences\n",
    "from keras.models import Sequential\n",
    "from keras.layers import Dense, Activation, LSTM, Embedding, Dropout, Convolution1D"
   ]
  },
  {
   "cell_type": "code",
   "execution_count": 2,
   "metadata": {},
   "outputs": [],
   "source": [
    "w2v = KeyedVectors.load_word2vec_format(\n",
    "    '../data/GoogleNews-vectors-negative300.bin.gz',\n",
    "    binary=True,\n",
    ")"
   ]
  },
  {
   "cell_type": "code",
   "execution_count": 3,
   "metadata": {},
   "outputs": [],
   "source": [
    "def tokenize(text):\n",
    "    return re.findall('\\w+', text)"
   ]
  },
  {
   "cell_type": "code",
   "execution_count": 4,
   "metadata": {},
   "outputs": [],
   "source": [
    "def sent_embed_iter(text):\n",
    "    for token in tokenize(text):\n",
    "        if token in w2v:\n",
    "            yield w2v[token]"
   ]
  },
  {
   "cell_type": "code",
   "execution_count": 5,
   "metadata": {},
   "outputs": [],
   "source": [
    "def plot_embed_iter(sents):\n",
    "    for sent in sents:\n",
    "        yield from sent_embed_iter(sent)"
   ]
  },
  {
   "cell_type": "code",
   "execution_count": 6,
   "metadata": {},
   "outputs": [],
   "source": [
    "def parse_plots(path):\n",
    "    \"\"\"Generate plot sentences.\n",
    "    \"\"\"\n",
    "    with open(path) as fh:\n",
    "        \n",
    "        plot = []\n",
    "        for line in fh.read().splitlines():\n",
    "            \n",
    "            if line != '<EOS>':\n",
    "                plot.append(line)\n",
    "                \n",
    "            else:\n",
    "                yield plot\n",
    "                plot = []"
   ]
  },
  {
   "cell_type": "code",
   "execution_count": 7,
   "metadata": {},
   "outputs": [],
   "source": [
    "plots = list(parse_plots('../data/plots/plots'))"
   ]
  },
  {
   "cell_type": "code",
   "execution_count": 9,
   "metadata": {},
   "outputs": [],
   "source": [
    "x, y = [], []\n",
    "\n",
    "for plot in plots[:2000]:\n",
    "    \n",
    "    x.append(list(plot_embed_iter(plot)))\n",
    "    y.append(True)\n",
    "    \n",
    "    shuffled = random.sample(plot, len(plot))\n",
    "    \n",
    "    x.append(list(plot_embed_iter(shuffled)))\n",
    "    y.append(False)"
   ]
  },
  {
   "cell_type": "code",
   "execution_count": 10,
   "metadata": {},
   "outputs": [],
   "source": [
    "x = pad_sequences(x, 1000, padding='post', dtype=float)"
   ]
  },
  {
   "cell_type": "code",
   "execution_count": 11,
   "metadata": {},
   "outputs": [
    {
     "data": {
      "text/plain": [
       "(4000, 1000, 300)"
      ]
     },
     "execution_count": 11,
     "metadata": {},
     "output_type": "execute_result"
    }
   ],
   "source": [
    "x.shape"
   ]
  },
  {
   "cell_type": "code",
   "execution_count": 45,
   "metadata": {},
   "outputs": [],
   "source": [
    "model = Sequential()\n",
    "# model.add(Convolution1D(filters=64, kernel_size=2, input_shape=x_train[0].shape))\n",
    "# model.add(Dropout(0.5))\n",
    "model.add(LSTM(128, input_shape=x_train[0].shape))\n",
    "# model.add(LSTM(128, return_sequences=True))\n",
    "# model.add(LSTM(128))\n",
    "model.add(Dropout(0.5))\n",
    "model.add(Dense(1, activation='sigmoid'))"
   ]
  },
  {
   "cell_type": "code",
   "execution_count": 46,
   "metadata": {},
   "outputs": [],
   "source": [
    "model.compile(\n",
    "    loss='binary_crossentropy',\n",
    "    optimizer='adam',\n",
    "    metrics=['accuracy'],\n",
    ")"
   ]
  },
  {
   "cell_type": "code",
   "execution_count": 47,
   "metadata": {},
   "outputs": [
    {
     "name": "stdout",
     "output_type": "stream",
     "text": [
      "Epoch 1/10\n",
      "3000/3000 [==============================] - 99s 33ms/step - loss: 0.6940 - acc: 0.5060\n",
      "Epoch 2/10\n",
      "3000/3000 [==============================] - 100s 33ms/step - loss: 0.6901 - acc: 0.5077\n",
      "Epoch 3/10\n",
      "3000/3000 [==============================] - 96s 32ms/step - loss: 0.6873 - acc: 0.5177\n",
      "Epoch 4/10\n",
      "3000/3000 [==============================] - 96s 32ms/step - loss: 0.6796 - acc: 0.5213\n",
      "Epoch 5/10\n",
      "3000/3000 [==============================] - 97s 32ms/step - loss: 0.6697 - acc: 0.5093\n",
      "Epoch 6/10\n",
      "3000/3000 [==============================] - 96s 32ms/step - loss: 0.6618 - acc: 0.5207\n",
      "Epoch 7/10\n",
      "3000/3000 [==============================] - 96s 32ms/step - loss: 0.6519 - acc: 0.5283\n",
      "Epoch 8/10\n",
      "3000/3000 [==============================] - 96s 32ms/step - loss: 0.6473 - acc: 0.5513\n",
      "Epoch 9/10\n",
      "3000/3000 [==============================] - 97s 32ms/step - loss: 0.6447 - acc: 0.5310\n",
      "Epoch 10/10\n",
      "3000/3000 [==============================] - 96s 32ms/step - loss: 0.6416 - acc: 0.5480\n"
     ]
    },
    {
     "data": {
      "text/plain": [
       "<keras.callbacks.History at 0x439b13710>"
      ]
     },
     "execution_count": 47,
     "metadata": {},
     "output_type": "execute_result"
    }
   ],
   "source": [
    "model.fit(x_train, y_train)"
   ]
  },
  {
   "cell_type": "code",
   "execution_count": 124,
   "metadata": {},
   "outputs": [
    {
     "name": "stdout",
     "output_type": "stream",
     "text": [
      "500/500 [==============================] - 12s 24ms/step\n"
     ]
    },
    {
     "data": {
      "text/plain": [
       "[0.73442685270309449, 0.54599999976158142]"
      ]
     },
     "execution_count": 124,
     "metadata": {},
     "output_type": "execute_result"
    }
   ],
   "source": [
    "model.evaluate(x_test, y_test)"
   ]
  },
  {
   "cell_type": "code",
   "execution_count": 117,
   "metadata": {},
   "outputs": [
    {
     "data": {
      "text/plain": [
       "['loss', 'acc']"
      ]
     },
     "execution_count": 117,
     "metadata": {},
     "output_type": "execute_result"
    }
   ],
   "source": [
    "model.metrics_names"
   ]
  },
  {
   "cell_type": "code",
   "execution_count": null,
   "metadata": {},
   "outputs": [],
   "source": []
  }
 ],
 "metadata": {
  "kernelspec": {
   "display_name": "Python 3",
   "language": "python",
   "name": "python3"
  },
  "language_info": {
   "codemirror_mode": {
    "name": "ipython",
    "version": 3
   },
   "file_extension": ".py",
   "mimetype": "text/x-python",
   "name": "python",
   "nbconvert_exporter": "python",
   "pygments_lexer": "ipython3",
   "version": "3.6.2"
  }
 },
 "nbformat": 4,
 "nbformat_minor": 2
}
