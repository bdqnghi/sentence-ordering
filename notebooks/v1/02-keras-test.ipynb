{
 "cells": [
  {
   "cell_type": "code",
   "execution_count": 8,
   "metadata": {},
   "outputs": [],
   "source": [
    "import numpy as np\n",
    "\n",
    "from keras.models import Sequential\n",
    "from keras.layers import Dense, Activation"
   ]
  },
  {
   "cell_type": "code",
   "execution_count": 13,
   "metadata": {},
   "outputs": [],
   "source": [
    "model = Sequential()"
   ]
  },
  {
   "cell_type": "code",
   "execution_count": 14,
   "metadata": {},
   "outputs": [],
   "source": [
    "model.add(Dense(units=64, input_dim=100))\n",
    "model.add(Activation('relu'))\n",
    "model.add(Dense(units=10))\n",
    "model.add(Activation('softmax'))"
   ]
  },
  {
   "cell_type": "code",
   "execution_count": 15,
   "metadata": {},
   "outputs": [],
   "source": [
    "model.compile(loss='categorical_crossentropy', optimizer='sgd', metrics=['accuracy'])"
   ]
  },
  {
   "cell_type": "code",
   "execution_count": 16,
   "metadata": {},
   "outputs": [],
   "source": [
    "x = np.random.rand(100, 100)\n",
    "y = np.random.rand(100, 10)"
   ]
  },
  {
   "cell_type": "code",
   "execution_count": 17,
   "metadata": {},
   "outputs": [
    {
     "name": "stdout",
     "output_type": "stream",
     "text": [
      "Epoch 1/10\n",
      "100/100 [==============================] - 0s 3ms/step - loss: 12.1749 - acc: 0.0900\n",
      "Epoch 2/10\n",
      "100/100 [==============================] - 0s 58us/step - loss: 11.8825 - acc: 0.1000\n",
      "Epoch 3/10\n",
      "100/100 [==============================] - 0s 54us/step - loss: 11.8000 - acc: 0.0900\n",
      "Epoch 4/10\n",
      "100/100 [==============================] - 0s 48us/step - loss: 11.7734 - acc: 0.0900\n",
      "Epoch 5/10\n",
      "100/100 [==============================] - 0s 68us/step - loss: 11.7592 - acc: 0.1000\n",
      "Epoch 6/10\n",
      "100/100 [==============================] - 0s 49us/step - loss: 11.7451 - acc: 0.0900\n",
      "Epoch 7/10\n",
      "100/100 [==============================] - 0s 65us/step - loss: 11.7380 - acc: 0.1100\n",
      "Epoch 8/10\n",
      "100/100 [==============================] - 0s 58us/step - loss: 11.7291 - acc: 0.1100\n",
      "Epoch 9/10\n",
      "100/100 [==============================] - 0s 60us/step - loss: 11.7241 - acc: 0.1100\n",
      "Epoch 10/10\n",
      "100/100 [==============================] - 0s 73us/step - loss: 11.7229 - acc: 0.1100\n"
     ]
    },
    {
     "data": {
      "text/plain": [
       "<keras.callbacks.History at 0x11219bf28>"
      ]
     },
     "execution_count": 17,
     "metadata": {},
     "output_type": "execute_result"
    }
   ],
   "source": [
    "model.fit(x, y)"
   ]
  },
  {
   "cell_type": "code",
   "execution_count": null,
   "metadata": {},
   "outputs": [],
   "source": []
  }
 ],
 "metadata": {
  "kernelspec": {
   "display_name": "Python 3",
   "language": "python",
   "name": "python3"
  },
  "language_info": {
   "codemirror_mode": {
    "name": "ipython",
    "version": 3
   },
   "file_extension": ".py",
   "mimetype": "text/x-python",
   "name": "python",
   "nbconvert_exporter": "python",
   "pygments_lexer": "ipython3",
   "version": "3.6.2"
  }
 },
 "nbformat": 4,
 "nbformat_minor": 2
}
